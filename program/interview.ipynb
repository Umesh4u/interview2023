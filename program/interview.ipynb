{
 "cells": [
  {
   "cell_type": "code",
   "execution_count": 1,
   "id": "1963a22c-874d-4e00-ad69-57547405cd25",
   "metadata": {},
   "outputs": [],
   "source": [
    "x = (1,2)"
   ]
  },
  {
   "cell_type": "code",
   "execution_count": 2,
   "id": "1c1b8135-c1b8-4efc-a1fb-a8a0e363c1c3",
   "metadata": {},
   "outputs": [
    {
     "data": {
      "text/plain": [
       "tuple"
      ]
     },
     "execution_count": 2,
     "metadata": {},
     "output_type": "execute_result"
    }
   ],
   "source": [
    "type(x)"
   ]
  },
  {
   "cell_type": "code",
   "execution_count": 4,
   "id": "bcbbb060-d202-4b02-9726-73b025e350a8",
   "metadata": {},
   "outputs": [],
   "source": [
    "x += (3,)"
   ]
  },
  {
   "cell_type": "code",
   "execution_count": 5,
   "id": "d929e443-a568-496b-983c-571e0d094bea",
   "metadata": {},
   "outputs": [
    {
     "data": {
      "text/plain": [
       "(1, 2, 3)"
      ]
     },
     "execution_count": 5,
     "metadata": {},
     "output_type": "execute_result"
    }
   ],
   "source": [
    "x"
   ]
  },
  {
   "cell_type": "code",
   "execution_count": null,
   "id": "ee7c6987-2b8e-4cb5-b95b-11ad76ae8215",
   "metadata": {},
   "outputs": [],
   "source": [
    "dic = {[1,2,3]: 34}"
   ]
  },
  {
   "cell_type": "code",
   "execution_count": 14,
   "id": "2fd69e8b-2888-483b-8861-58b528187cfc",
   "metadata": {},
   "outputs": [
    {
     "ename": "TypeError",
     "evalue": "square_t() missing 1 required positional argument: 'n'",
     "output_type": "error",
     "traceback": [
      "\u001b[0;31m---------------------------------------------------------------------------\u001b[0m",
      "\u001b[0;31mTypeError\u001b[0m                                 Traceback (most recent call last)",
      "\u001b[0;32m/tmp/ipykernel_371819/2282815433.py\u001b[0m in \u001b[0;36m<module>\u001b[0;34m\u001b[0m\n\u001b[1;32m      5\u001b[0m \u001b[0;34m\u001b[0m\u001b[0m\n\u001b[1;32m      6\u001b[0m \u001b[0;34m\u001b[0m\u001b[0m\n\u001b[0;32m----> 7\u001b[0;31m \u001b[0;34m@\u001b[0m\u001b[0msquare_t\u001b[0m\u001b[0;34m(\u001b[0m\u001b[0;36m4\u001b[0m\u001b[0;34m)\u001b[0m\u001b[0;34m\u001b[0m\u001b[0;34m\u001b[0m\u001b[0m\n\u001b[0m\u001b[1;32m      8\u001b[0m \u001b[0;32mdef\u001b[0m \u001b[0msquare\u001b[0m\u001b[0;34m(\u001b[0m\u001b[0;34m)\u001b[0m\u001b[0;34m:\u001b[0m\u001b[0;34m\u001b[0m\u001b[0;34m\u001b[0m\u001b[0m\n\u001b[1;32m      9\u001b[0m     \u001b[0;32mreturn\u001b[0m \u001b[0;34m\"as\"\u001b[0m\u001b[0;34m\u001b[0m\u001b[0;34m\u001b[0m\u001b[0m\n",
      "\u001b[0;31mTypeError\u001b[0m: square_t() missing 1 required positional argument: 'n'"
     ]
    }
   ],
   "source": [
    "def square_t(fun):\n",
    "    def fun():\n",
    "        return n * n\n",
    "    return fun\n",
    "    \n",
    "\n",
    "@square_t\n",
    "def square():\n",
    "    return \"as\""
   ]
  },
  {
   "cell_type": "code",
   "execution_count": 11,
   "id": "31bef852-93b4-4e4f-9eee-5c2d7eae25bb",
   "metadata": {},
   "outputs": [
    {
     "data": {
      "text/plain": [
       "4"
      ]
     },
     "execution_count": 11,
     "metadata": {},
     "output_type": "execute_result"
    }
   ],
   "source": [
    "square(2)"
   ]
  },
  {
   "cell_type": "code",
   "execution_count": 17,
   "id": "650a0280-68c2-4ec9-aa03-571c95a504e9",
   "metadata": {},
   "outputs": [],
   "source": [
    "import copy\n",
    "li = [1,2,3,[4,5]]"
   ]
  },
  {
   "cell_type": "code",
   "execution_count": 120,
   "id": "a89a37e9-8892-44ef-b831-8a31aaa70fff",
   "metadata": {},
   "outputs": [],
   "source": [
    "x = copy.copy(li)   # shallow copy "
   ]
  },
  {
   "cell_type": "code",
   "execution_count": 21,
   "id": "810459f7-1e28-4feb-ac23-f0aed032ce59",
   "metadata": {},
   "outputs": [],
   "source": [
    "y = copy.deepcopy(li)  "
   ]
  },
  {
   "cell_type": "code",
   "execution_count": 22,
   "id": "94021d87-0bf4-440e-9941-8781e3dcf568",
   "metadata": {},
   "outputs": [],
   "source": [
    "t = (1,2,3,4,5,6,7,8,9,12,12)"
   ]
  },
  {
   "cell_type": "code",
   "execution_count": 25,
   "id": "073831d0-7233-4dd4-8a73-168290b76a27",
   "metadata": {},
   "outputs": [
    {
     "data": {
      "text/plain": [
       "12"
      ]
     },
     "execution_count": 25,
     "metadata": {},
     "output_type": "execute_result"
    }
   ],
   "source": [
    "t[-1]"
   ]
  },
  {
   "cell_type": "code",
   "execution_count": 27,
   "id": "941c8d02-9e47-4a2f-891c-419124107f5a",
   "metadata": {},
   "outputs": [
    {
     "data": {
      "text/plain": [
       "(12, 12)"
      ]
     },
     "execution_count": 27,
     "metadata": {},
     "output_type": "execute_result"
    }
   ],
   "source": [
    "t[-1:-3:-1]"
   ]
  },
  {
   "cell_type": "code",
   "execution_count": 28,
   "id": "083356a1-ef82-4669-a34d-9c3d6fcbd8d0",
   "metadata": {},
   "outputs": [],
   "source": [
    "a, *b, c, d = t"
   ]
  },
  {
   "cell_type": "code",
   "execution_count": 29,
   "id": "62671928-f077-46d0-8808-de7322883eee",
   "metadata": {},
   "outputs": [
    {
     "data": {
      "text/plain": [
       "(1, 12, 12)"
      ]
     },
     "execution_count": 29,
     "metadata": {},
     "output_type": "execute_result"
    }
   ],
   "source": [
    "a , c ,d"
   ]
  },
  {
   "cell_type": "code",
   "execution_count": 36,
   "id": "87f437c8-4f30-4538-89d5-edefe2f5db45",
   "metadata": {},
   "outputs": [
    {
     "name": "stdout",
     "output_type": "stream",
     "text": [
      "School name abc\n"
     ]
    }
   ],
   "source": [
    "class School:\n",
    "    school_name = \"abc\"\n",
    "    def __init__(self):\n",
    "        pass\n",
    "        #self.school_name = school_name\n",
    "    def disp(self):\n",
    "        print(\"School name\", self.school_name)\n",
    "        \n",
    "    def abc(self,val):\n",
    "        self.school_name = val\n",
    "        \n",
    "obj = School()\n",
    "obj.disp()"
   ]
  },
  {
   "cell_type": "code",
   "execution_count": 37,
   "id": "84d3eb2a-44b3-40d2-9152-f48a50cf8ad3",
   "metadata": {},
   "outputs": [],
   "source": [
    "obj.abc(\"asdas\")"
   ]
  },
  {
   "cell_type": "code",
   "execution_count": 38,
   "id": "7c260116-cb67-4127-94a0-f07d037975d5",
   "metadata": {},
   "outputs": [
    {
     "name": "stdout",
     "output_type": "stream",
     "text": [
      "School name asdas\n"
     ]
    }
   ],
   "source": [
    "obj.disp()"
   ]
  },
  {
   "cell_type": "code",
   "execution_count": 63,
   "id": "4bfe67dc-ad58-4721-a4e1-dbbed0b4d640",
   "metadata": {},
   "outputs": [
    {
     "name": "stdout",
     "output_type": "stream",
     "text": [
      "Duplicate element is 2\n"
     ]
    }
   ],
   "source": [
    "li = [1,2,2,3,3,4]\n",
    "\n",
    "dic = {}\n",
    "\n",
    "for i in li:\n",
    "    if i in dic:\n",
    "        dic[i] = dic[i] + 1\n",
    "    else:\n",
    "        dic[i] = 1\n",
    "count = 0\n",
    "\n",
    "for k,v in dic.items():\n",
    "    if v > 1:\n",
    "        count +=1\n",
    "    else:\n",
    "        pass\n",
    "print(\"Duplicate element is\", count)\n",
    "        \n"
   ]
  },
  {
   "cell_type": "code",
   "execution_count": 65,
   "id": "702c7766-4a9f-4eba-9873-66aa175e8608",
   "metadata": {},
   "outputs": [
    {
     "data": {
      "text/plain": [
       "[1, 2, 2, 3, 3, 4]"
      ]
     },
     "execution_count": 65,
     "metadata": {},
     "output_type": "execute_result"
    }
   ],
   "source": [
    "li"
   ]
  },
  {
   "cell_type": "code",
   "execution_count": null,
   "id": "5a8b85bf-ca6c-4fab-b676-bcffbd0f9256",
   "metadata": {},
   "outputs": [],
   "source": [
    "for i in range(len(li)):\n",
    "    for j in range(len(li)-1-i):\n",
    "        if li[j] > li[]"
   ]
  },
  {
   "cell_type": "code",
   "execution_count": 66,
   "id": "a76344de-387b-4da1-9c59-73961e44a7f4",
   "metadata": {},
   "outputs": [],
   "source": [
    "t = tuple(li)"
   ]
  },
  {
   "cell_type": "code",
   "execution_count": 67,
   "id": "33edc175-1b41-4c49-8308-4b3399d711dc",
   "metadata": {},
   "outputs": [
    {
     "data": {
      "text/plain": [
       "(1, 2, 2, 3, 3, 4)"
      ]
     },
     "execution_count": 67,
     "metadata": {},
     "output_type": "execute_result"
    }
   ],
   "source": [
    "t"
   ]
  },
  {
   "cell_type": "code",
   "execution_count": 68,
   "id": "8f91618c-d61a-4dc7-b929-23c83331dcd8",
   "metadata": {},
   "outputs": [
    {
     "data": {
      "text/plain": [
       "[1, 2, 3, 4]"
      ]
     },
     "execution_count": 68,
     "metadata": {},
     "output_type": "execute_result"
    }
   ],
   "source": [
    "list(set(li))"
   ]
  },
  {
   "cell_type": "code",
   "execution_count": 87,
   "id": "b4420bfe-f0f8-4efe-8e4c-d28b56320b85",
   "metadata": {},
   "outputs": [],
   "source": [
    "x = 343\n",
    "y = 333\n"
   ]
  },
  {
   "cell_type": "code",
   "execution_count": 73,
   "id": "7b1445d3-cc46-4d41-8270-cd3b757a8a51",
   "metadata": {},
   "outputs": [
    {
     "data": {
      "text/plain": [
       "(343, 333)"
      ]
     },
     "execution_count": 73,
     "metadata": {},
     "output_type": "execute_result"
    }
   ],
   "source": [
    "x, y"
   ]
  },
  {
   "cell_type": "code",
   "execution_count": 76,
   "id": "32eef6ca-6932-49e5-96a8-5f65829ff530",
   "metadata": {},
   "outputs": [],
   "source": [
    "x = x+y-x"
   ]
  },
  {
   "cell_type": "code",
   "execution_count": 78,
   "id": "94ba1eff-5b85-42b5-8ba4-67c203c9a293",
   "metadata": {},
   "outputs": [
    {
     "data": {
      "text/plain": [
       "333"
      ]
     },
     "execution_count": 78,
     "metadata": {},
     "output_type": "execute_result"
    }
   ],
   "source": [
    "x"
   ]
  },
  {
   "cell_type": "code",
   "execution_count": 83,
   "id": "0eda12d9-79af-4f65-9ff2-73cdfdaed499",
   "metadata": {},
   "outputs": [],
   "source": [
    "y = y-x"
   ]
  },
  {
   "cell_type": "code",
   "execution_count": 89,
   "id": "3da38b15-45bd-4e7d-a797-8a9a271a904c",
   "metadata": {},
   "outputs": [
    {
     "data": {
      "text/plain": [
       "333"
      ]
     },
     "execution_count": 89,
     "metadata": {},
     "output_type": "execute_result"
    }
   ],
   "source": [
    "y"
   ]
  },
  {
   "cell_type": "code",
   "execution_count": 85,
   "id": "80b73033-dbc9-4f83-ac41-054cc5bc3e18",
   "metadata": {},
   "outputs": [
    {
     "data": {
      "text/plain": [
       "333"
      ]
     },
     "execution_count": 85,
     "metadata": {},
     "output_type": "execute_result"
    }
   ],
   "source": [
    "x"
   ]
  },
  {
   "cell_type": "code",
   "execution_count": 90,
   "id": "8d081d55-f2a0-475e-91bf-15305166fe54",
   "metadata": {},
   "outputs": [],
   "source": [
    "x = 343\n",
    "y = 333\n"
   ]
  },
  {
   "cell_type": "code",
   "execution_count": 91,
   "id": "fd1c4b76-fd2d-455e-b9ea-6737cacfd0d2",
   "metadata": {},
   "outputs": [
    {
     "data": {
      "text/plain": [
       "343"
      ]
     },
     "execution_count": 91,
     "metadata": {},
     "output_type": "execute_result"
    }
   ],
   "source": [
    "x"
   ]
  },
  {
   "cell_type": "code",
   "execution_count": 92,
   "id": "1f5d259d-dd18-4e0e-8348-8dc305ab2c18",
   "metadata": {},
   "outputs": [
    {
     "data": {
      "text/plain": [
       "333"
      ]
     },
     "execution_count": 92,
     "metadata": {},
     "output_type": "execute_result"
    }
   ],
   "source": [
    "y"
   ]
  },
  {
   "cell_type": "code",
   "execution_count": 93,
   "id": "f0d203cc-720d-4f40-9f7f-54907ed38896",
   "metadata": {},
   "outputs": [],
   "source": [
    "x = x + y -x"
   ]
  },
  {
   "cell_type": "code",
   "execution_count": 94,
   "id": "7b4c68fd-051c-426b-8c77-a163292c1d5e",
   "metadata": {},
   "outputs": [
    {
     "data": {
      "text/plain": [
       "333"
      ]
     },
     "execution_count": 94,
     "metadata": {},
     "output_type": "execute_result"
    }
   ],
   "source": [
    "x"
   ]
  },
  {
   "cell_type": "code",
   "execution_count": 97,
   "id": "1c457ab9-2cb2-41d9-8334-bc963152f6a7",
   "metadata": {},
   "outputs": [
    {
     "data": {
      "text/plain": [
       "333"
      ]
     },
     "execution_count": 97,
     "metadata": {},
     "output_type": "execute_result"
    }
   ],
   "source": [
    "y"
   ]
  },
  {
   "cell_type": "code",
   "execution_count": 98,
   "id": "4c7df65a-9c48-48b2-a0e2-be579df9d65c",
   "metadata": {},
   "outputs": [
    {
     "data": {
      "text/plain": [
       "333"
      ]
     },
     "execution_count": 98,
     "metadata": {},
     "output_type": "execute_result"
    }
   ],
   "source": [
    "x"
   ]
  },
  {
   "cell_type": "code",
   "execution_count": 99,
   "id": "f4920c50-8ade-481c-b694-6ce25b538d08",
   "metadata": {},
   "outputs": [
    {
     "data": {
      "text/plain": [
       "333"
      ]
     },
     "execution_count": 99,
     "metadata": {},
     "output_type": "execute_result"
    }
   ],
   "source": [
    "x"
   ]
  },
  {
   "cell_type": "code",
   "execution_count": 100,
   "id": "d790d769-b7f0-4b5d-9891-760254aebe78",
   "metadata": {},
   "outputs": [],
   "source": [
    "x = x+y"
   ]
  },
  {
   "cell_type": "code",
   "execution_count": 101,
   "id": "e3efc04a-838f-4a56-8e7c-1a769e9661ec",
   "metadata": {},
   "outputs": [
    {
     "data": {
      "text/plain": [
       "666"
      ]
     },
     "execution_count": 101,
     "metadata": {},
     "output_type": "execute_result"
    }
   ],
   "source": [
    "x"
   ]
  },
  {
   "cell_type": "code",
   "execution_count": 102,
   "id": "74d6d415-7dff-4665-b27f-174a430bdd93",
   "metadata": {},
   "outputs": [],
   "source": [
    "y = x -y"
   ]
  },
  {
   "cell_type": "code",
   "execution_count": 103,
   "id": "55c89b92-729a-4397-a440-6c9b9a5b1f09",
   "metadata": {},
   "outputs": [
    {
     "data": {
      "text/plain": [
       "333"
      ]
     },
     "execution_count": 103,
     "metadata": {},
     "output_type": "execute_result"
    }
   ],
   "source": [
    "y"
   ]
  },
  {
   "cell_type": "code",
   "execution_count": 104,
   "id": "d5a56ed7-d5c2-442e-a954-6ca89051594e",
   "metadata": {},
   "outputs": [],
   "source": [
    "x = x- y"
   ]
  },
  {
   "cell_type": "code",
   "execution_count": 105,
   "id": "65a537eb-d66d-40e6-82ba-dbe1d47f91d3",
   "metadata": {},
   "outputs": [
    {
     "data": {
      "text/plain": [
       "333"
      ]
     },
     "execution_count": 105,
     "metadata": {},
     "output_type": "execute_result"
    }
   ],
   "source": [
    "x"
   ]
  },
  {
   "cell_type": "code",
   "execution_count": 114,
   "id": "2564d521-0413-4501-81d2-018b744d32e1",
   "metadata": {},
   "outputs": [],
   "source": [
    "x = 10\n",
    "y = 20"
   ]
  },
  {
   "cell_type": "code",
   "execution_count": 115,
   "id": "fd835c2d-d4b5-4b45-8bb8-47d69e05d25c",
   "metadata": {},
   "outputs": [],
   "source": [
    "x = x + y"
   ]
  },
  {
   "cell_type": "code",
   "execution_count": 116,
   "id": "9cffdd8b-aed7-445c-a654-d33567de18ce",
   "metadata": {},
   "outputs": [],
   "source": [
    "y = x - y"
   ]
  },
  {
   "cell_type": "code",
   "execution_count": 117,
   "id": "5e2289ae-9cf8-4039-b633-defb84d28898",
   "metadata": {},
   "outputs": [
    {
     "data": {
      "text/plain": [
       "10"
      ]
     },
     "execution_count": 117,
     "metadata": {},
     "output_type": "execute_result"
    }
   ],
   "source": [
    "y"
   ]
  },
  {
   "cell_type": "code",
   "execution_count": 118,
   "id": "2d2181ce-b5ed-439c-ac8e-e96b6ae597e9",
   "metadata": {},
   "outputs": [],
   "source": [
    "x = x - y"
   ]
  },
  {
   "cell_type": "code",
   "execution_count": 119,
   "id": "93aaa5ce-3e8a-4f41-8c3e-664e54bd96be",
   "metadata": {},
   "outputs": [
    {
     "data": {
      "text/plain": [
       "20"
      ]
     },
     "execution_count": 119,
     "metadata": {},
     "output_type": "execute_result"
    }
   ],
   "source": [
    "x"
   ]
  },
  {
   "cell_type": "code",
   "execution_count": 138,
   "id": "8d280659-4dfb-42f3-b4a4-46c9e2e51182",
   "metadata": {},
   "outputs": [],
   "source": [
    "t = (1,2,12)"
   ]
  },
  {
   "cell_type": "code",
   "execution_count": 139,
   "id": "46e33b32-e241-4086-8174-2e43a637f147",
   "metadata": {},
   "outputs": [],
   "source": [
    "a,*b,c = t"
   ]
  },
  {
   "cell_type": "code",
   "execution_count": 136,
   "id": "1683dd3e-211e-46f2-9659-25de5fb6ec09",
   "metadata": {},
   "outputs": [
    {
     "data": {
      "text/plain": [
       "1"
      ]
     },
     "execution_count": 136,
     "metadata": {},
     "output_type": "execute_result"
    }
   ],
   "source": [
    "a"
   ]
  },
  {
   "cell_type": "code",
   "execution_count": 137,
   "id": "b34f4434-3ef9-4c9e-875b-1c2951a2f265",
   "metadata": {},
   "outputs": [
    {
     "data": {
      "text/plain": [
       "12"
      ]
     },
     "execution_count": 137,
     "metadata": {},
     "output_type": "execute_result"
    }
   ],
   "source": [
    "c"
   ]
  },
  {
   "cell_type": "code",
   "execution_count": 142,
   "id": "8062a3b4-5cb2-439a-b073-8ea45ff89c23",
   "metadata": {},
   "outputs": [
    {
     "data": {
      "text/plain": [
       "list"
      ]
     },
     "execution_count": 142,
     "metadata": {},
     "output_type": "execute_result"
    }
   ],
   "source": [
    "type(b)"
   ]
  },
  {
   "cell_type": "code",
   "execution_count": null,
   "id": "6f0e2197-81c9-402f-bdd4-9f4374215b5a",
   "metadata": {},
   "outputs": [],
   "source": []
  }
 ],
 "metadata": {
  "kernelspec": {
   "display_name": "Python 3 (ipykernel)",
   "language": "python",
   "name": "python3"
  },
  "language_info": {
   "codemirror_mode": {
    "name": "ipython",
    "version": 3
   },
   "file_extension": ".py",
   "mimetype": "text/x-python",
   "name": "python",
   "nbconvert_exporter": "python",
   "pygments_lexer": "ipython3",
   "version": "3.9.13"
  }
 },
 "nbformat": 4,
 "nbformat_minor": 5
}
