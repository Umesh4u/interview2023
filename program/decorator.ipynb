{
 "cells": [
  {
   "cell_type": "code",
   "execution_count": null,
   "id": "46994b58-c64e-482c-b2e7-67a334d75258",
   "metadata": {},
   "outputs": [],
   "source": [
    "def multiply_by(factor):\n",
    "    print(factor)\n",
    "    def decorator(func):\n",
    "        print(\"c\",func)\n",
    "        def wrapper(n):\n",
    "            print(n)\n",
    "            result = func(n)\n",
    "            return result * factor\n",
    "        return wrapper\n",
    "    return decorator\n",
    "\n",
    "@multiply_by(3)\n",
    "def square(n):\n",
    "    return n\n",
    "\n",
    "result = square(5)\n",
    "print(result) "
   ]
  }
 ],
 "metadata": {
  "kernelspec": {
   "display_name": "Python 3 (ipykernel)",
   "language": "python",
   "name": "python3"
  },
  "language_info": {
   "codemirror_mode": {
    "name": "ipython",
    "version": 3
   },
   "file_extension": ".py",
   "mimetype": "text/x-python",
   "name": "python",
   "nbconvert_exporter": "python",
   "pygments_lexer": "ipython3",
   "version": "3.9.13"
  }
 },
 "nbformat": 4,
 "nbformat_minor": 5
}
