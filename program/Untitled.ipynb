{
 "cells": [
  {
   "cell_type": "code",
   "execution_count": null,
   "metadata": {},
   "outputs": [],
   "source": [
    "import random\n",
    "def randomNumber():\n",
    "    lower = int(input(\"Please enter lower bound number:= \"))\n",
    "    upper = int(input(\"please enter upper bound number:= \"))\n",
    "    return random.randint(lower,upper)\n",
    "\n",
    "def takeInput():\n",
    "    guessNo = int(input(\"guess your number:= \"))\n",
    "    return guessNo\n",
    "    \n",
    "    \n",
    "def numberGuessing():\n",
    "    system_generated_no = randomNumber()\n",
    "    print(\"you Have only 7 guesses\")\n",
    "    winning =False\n",
    "    for i in range(7):\n",
    "        guessNo = takeInput()\n",
    "        if guessNo == system_generated_no:\n",
    "            winning = True\n",
    "            print(\"you guess right number in \"+ str(i)+\" guess\")\n",
    "        elif guessNo > system_generated_no:\n",
    "            print(\"You enter too high no. please Try again\")\n",
    "        else:\n",
    "            print(\"You enter too small no. please Try again\")\n",
    "    if not winning:\n",
    "        print(\"Oops your guesses is over!!\")\n",
    "        \n",
    "    \n",
    "        \n",
    "    "
   ]
  },
  {
   "cell_type": "code",
   "execution_count": null,
   "metadata": {},
   "outputs": [],
   "source": [
    "numberGuessing()"
   ]
  },
  {
   "cell_type": "code",
   "execution_count": null,
   "metadata": {},
   "outputs": [],
   "source": []
  }
 ],
 "metadata": {
  "kernelspec": {
   "display_name": "Python 3 (ipykernel)",
   "language": "python",
   "name": "python3"
  },
  "language_info": {
   "codemirror_mode": {
    "name": "ipython",
    "version": 3
   },
   "file_extension": ".py",
   "mimetype": "text/x-python",
   "name": "python",
   "nbconvert_exporter": "python",
   "pygments_lexer": "ipython3",
   "version": "3.10.12"
  }
 },
 "nbformat": 4,
 "nbformat_minor": 2
}
