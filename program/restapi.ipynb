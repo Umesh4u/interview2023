{
 "cells": [
  {
   "cell_type": "code",
   "execution_count": null,
   "id": "d400720d-52d8-4fcd-a1eb-b628a6b54470",
   "metadata": {},
   "outputs": [],
   "source": [
    "type, uniq\n",
    "\n",
    "jwt, token\n",
    "\n",
    "How\n",
    "\n",
    "Vaccum"
   ]
  },
  {
   "cell_type": "code",
   "execution_count": 1,
   "id": "e154bc65-c812-47ff-9017-98e60e29de6a",
   "metadata": {},
   "outputs": [
    {
     "name": "stdout",
     "output_type": "stream",
     "text": [
      "ls: cannot access 'cpu': No such file or directory\n"
     ]
    }
   ],
   "source": [
    "ls cpu\n"
   ]
  },
  {
   "cell_type": "code",
   "execution_count": null,
   "id": "35af780d-f196-485c-a942-16b7f708b61d",
   "metadata": {},
   "outputs": [],
   "source": [
    "https://www.scaler.com/topics/multithreading-in-python/\n",
    "\n",
    "https://www.youtube.com/watch?v=hwXXs4HdUmg\n",
    "\n",
    "https://londonappdeveloper.com/json-web-tokens-vs-token-authentication/"
   ]
  },
  {
   "cell_type": "code",
   "execution_count": 2,
   "id": "2f8b4cf3-2cf6-4e43-b7ce-41ead311d363",
   "metadata": {},
   "outputs": [
    {
     "name": "stdout",
     "output_type": "stream",
     "text": [
      "Requirement already satisfied: numba in /home/ubuntu/anaconda3/lib/python3.9/site-packages (0.55.1)\n",
      "Requirement already satisfied: llvmlite<0.39,>=0.38.0rc1 in /home/ubuntu/anaconda3/lib/python3.9/site-packages (from numba) (0.38.0)\n",
      "Requirement already satisfied: numpy<1.22,>=1.18 in /home/ubuntu/anaconda3/lib/python3.9/site-packages (from numba) (1.21.5)\n",
      "Requirement already satisfied: setuptools in /home/ubuntu/anaconda3/lib/python3.9/site-packages (from numba) (63.4.1)\n"
     ]
    }
   ],
   "source": [
    "!pip install numba"
   ]
  },
  {
   "cell_type": "code",
   "execution_count": null,
   "id": "8a6eae31-f7a4-4ceb-a59a-558e4691356e",
   "metadata": {},
   "outputs": [],
   "source": []
  },
  {
   "cell_type": "code",
   "execution_count": 3,
   "id": "0290db2c-f3b9-4e5c-9a83-b67ad057fe38",
   "metadata": {},
   "outputs": [],
   "source": [
    "from numba import njit, prange\n"
   ]
  },
  {
   "cell_type": "code",
   "execution_count": 4,
   "id": "41dc8c38-d03c-478f-b368-02008ade6ad0",
   "metadata": {},
   "outputs": [
    {
     "name": "stdout",
     "output_type": "stream",
     "text": [
      "0\n",
      "1\n",
      "2\n",
      "3\n",
      "4\n",
      "5\n",
      "6\n",
      "7\n",
      "8\n",
      "9\n"
     ]
    }
   ],
   "source": [
    "for i in prange(10):\n",
    "    print(i)"
   ]
  },
  {
   "cell_type": "code",
   "execution_count": null,
   "id": "03ba7e9a-1440-4d03-9fa7-cd5c31cce315",
   "metadata": {},
   "outputs": [],
   "source": [
    "examples of Stateful Protocol are Telnet, File Transfer Protocol (FTP)\n",
    "\n",
    "Stateless example is restapi"
   ]
  }
 ],
 "metadata": {
  "kernelspec": {
   "display_name": "Python 3 (ipykernel)",
   "language": "python",
   "name": "python3"
  },
  "language_info": {
   "codemirror_mode": {
    "name": "ipython",
    "version": 3
   },
   "file_extension": ".py",
   "mimetype": "text/x-python",
   "name": "python",
   "nbconvert_exporter": "python",
   "pygments_lexer": "ipython3",
   "version": "3.9.13"
  }
 },
 "nbformat": 4,
 "nbformat_minor": 5
}
