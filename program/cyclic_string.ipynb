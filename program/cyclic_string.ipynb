{
 "cells": [
  {
   "cell_type": "code",
   "execution_count": 14,
   "metadata": {},
   "outputs": [
    {
     "name": "stdout",
     "output_type": "stream",
     "text": [
      "['k', 's', 'm']\n",
      "String is not cyclic,umsk,umkus\n"
     ]
    }
   ],
   "source": [
    "def check_cyclic(str1,str2):\n",
    "    a=str1.split(str2[0])\n",
    "    print(a)\n",
    "    newStr=str2[0]\n",
    "    for i in range(len(a)-1,-1,-1):\n",
    "        newStr +=a[i]\n",
    "    if newStr == str2:\n",
    "        print(f\"String is cyclic {newStr},{str2}\")\n",
    "    else:\n",
    "        print(f\"String is not cyclic,{newStr},{str2}\")\n",
    "            \n",
    "    \n",
    "check_cyclic(\"kusum\",\"umkus\")"
   ]
  },
  {
   "cell_type": "code",
   "execution_count": 16,
   "metadata": {},
   "outputs": [
    {
     "name": "stdout",
     "output_type": "stream",
     "text": [
      "kusuumkusuum\n",
      "String is cyclic \n"
     ]
    }
   ],
   "source": [
    "def check_cyclic(str1,str2):\n",
    "    a=str1*2\n",
    "    print(a)\n",
    "    if str2 in a:\n",
    "        print(f\"String is cyclic \")\n",
    "    else:\n",
    "        print(f\"String is not cyclic\")\n",
    "            \n",
    "    \n",
    "check_cyclic(\"kusuum\",\"umkusu\")"
   ]
  },
  {
   "cell_type": "code",
   "execution_count": null,
   "metadata": {},
   "outputs": [],
   "source": []
  }
 ],
 "metadata": {
  "kernelspec": {
   "display_name": "Python 3 (ipykernel)",
   "language": "python",
   "name": "python3"
  },
  "language_info": {
   "codemirror_mode": {
    "name": "ipython",
    "version": 3
   },
   "file_extension": ".py",
   "mimetype": "text/x-python",
   "name": "python",
   "nbconvert_exporter": "python",
   "pygments_lexer": "ipython3",
   "version": "3.9.13"
  }
 },
 "nbformat": 4,
 "nbformat_minor": 4
}
