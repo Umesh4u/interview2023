{
 "cells": [
  {
   "cell_type": "code",
   "execution_count": 1,
   "id": "9c8ce9a7-8d59-4414-99b1-0a551d5d0f1d",
   "metadata": {},
   "outputs": [],
   "source": [
    "x = [{\"x\" : 1},{\"y\" : 3},{\"z\" : 2}]"
   ]
  },
  {
   "cell_type": "code",
   "execution_count": 2,
   "id": "0ad9efd8-0eee-42c8-934d-189b1278f515",
   "metadata": {},
   "outputs": [
    {
     "data": {
      "text/plain": [
       "[{'x': 1}, {'y': 3}, {'z': 2}]"
      ]
     },
     "execution_count": 2,
     "metadata": {},
     "output_type": "execute_result"
    }
   ],
   "source": [
    "x"
   ]
  },
  {
   "cell_type": "code",
   "execution_count": 11,
   "id": "9a201ebb-485a-4a8e-b8e6-bef50564ed12",
   "metadata": {},
   "outputs": [],
   "source": [
    "x = [{\"x\" : 1},{\"y\" : 3},{\"z\" : 2}]\n",
    "for i in range(len(x)):\n",
    "    for j in range(len(x)-i-1):\n",
    "        if list(x[j].values())[0] > list(x[j+1].values())[0]:\n",
    "            x[j],x[j+1] = x[j+1],x[j]\n",
    "            \n"
   ]
  },
  {
   "cell_type": "code",
   "execution_count": 12,
   "id": "ef349082-e624-4a85-8256-4a8586aea94f",
   "metadata": {},
   "outputs": [
    {
     "data": {
      "text/plain": [
       "[{'x': 1}, {'z': 2}, {'y': 3}]"
      ]
     },
     "execution_count": 12,
     "metadata": {},
     "output_type": "execute_result"
    }
   ],
   "source": [
    "x"
   ]
  },
  {
   "cell_type": "code",
   "execution_count": 15,
   "id": "91d2aab9-c068-4a72-a678-6f59e2fb3ab2",
   "metadata": {},
   "outputs": [
    {
     "name": "stdout",
     "output_type": "stream",
     "text": [
      "dict_values([1])\n",
      "dict_values([3])\n",
      "dict_values([1])\n"
     ]
    }
   ],
   "source": [
    "x = [{\"x\" : 1},{\"y\" : 3},{\"z\" : 2}]\n",
    "for i in range(len(x)):\n",
    "    for j in range(len(x)-i-1):\n",
    "        print(x[j].values())"
   ]
  },
  {
   "cell_type": "code",
   "execution_count": 48,
   "id": "ce698c17-274e-4fdd-b7c8-f970906a3762",
   "metadata": {},
   "outputs": [],
   "source": [
    "### Fibo series\n",
    "\n",
    "\n",
    "def fibo_series(n):\n",
    "    a = 0 \n",
    "    b = 1\n",
    "    yield a\n",
    "    yield b\n",
    "    for i in range(n):\n",
    "        n -=1\n",
    "        c = a + b\n",
    "        yield c\n",
    "        a,b = b,c\n",
    "a = 5\n",
    "s = fibo_series(a)"
   ]
  },
  {
   "cell_type": "code",
   "execution_count": 56,
   "id": "bc3a17a8-23cd-461e-bd2b-1b135f9338ab",
   "metadata": {},
   "outputs": [
    {
     "ename": "StopIteration",
     "evalue": "",
     "output_type": "error",
     "traceback": [
      "\u001b[0;31m---------------------------------------------------------------------------\u001b[0m",
      "\u001b[0;31mStopIteration\u001b[0m                             Traceback (most recent call last)",
      "\u001b[0;32m/tmp/ipykernel_1349148/1977886155.py\u001b[0m in \u001b[0;36m<module>\u001b[0;34m\u001b[0m\n\u001b[0;32m----> 1\u001b[0;31m \u001b[0mnext\u001b[0m\u001b[0;34m(\u001b[0m\u001b[0ms\u001b[0m\u001b[0;34m)\u001b[0m\u001b[0;34m\u001b[0m\u001b[0;34m\u001b[0m\u001b[0m\n\u001b[0m",
      "\u001b[0;31mStopIteration\u001b[0m: "
     ]
    }
   ],
   "source": [
    "next(s)"
   ]
  },
  {
   "cell_type": "code",
   "execution_count": null,
   "id": "7e44d4b1-d842-40a8-89a7-90d084c59e07",
   "metadata": {},
   "outputs": [],
   "source": []
  },
  {
   "cell_type": "code",
   "execution_count": null,
   "id": "1cba779a-e7ca-47e2-9252-5843ab03b975",
   "metadata": {},
   "outputs": [],
   "source": []
  },
  {
   "cell_type": "code",
   "execution_count": 63,
   "id": "172edca7-5d09-4321-a2ca-a9fc64b75bd2",
   "metadata": {},
   "outputs": [
    {
     "name": "stdout",
     "output_type": "stream",
     "text": [
      "[10, 'a']\n",
      "[456]\n"
     ]
    }
   ],
   "source": [
    "def extend_list(val, list1=[]):\n",
    "    list1.append(val)\n",
    "\n",
    "    return list1\n",
    "\n",
    " \n",
    "\n",
    "list2 = extend_list(10) #10\n",
    "list3 = extend_list(456, []) #456\n",
    "list4 = extend_list('a') #a\n",
    "\n",
    " \n",
    "\n",
    "print(list2)\n",
    "\n",
    "print(list3)"
   ]
  },
  {
   "cell_type": "code",
   "execution_count": null,
   "id": "d6925d37-4171-42a9-821b-cfe56a14aa56",
   "metadata": {},
   "outputs": [],
   "source": [
    "a = "
   ]
  }
 ],
 "metadata": {
  "kernelspec": {
   "display_name": "Python 3 (ipykernel)",
   "language": "python",
   "name": "python3"
  },
  "language_info": {
   "codemirror_mode": {
    "name": "ipython",
    "version": 3
   },
   "file_extension": ".py",
   "mimetype": "text/x-python",
   "name": "python",
   "nbconvert_exporter": "python",
   "pygments_lexer": "ipython3",
   "version": "3.9.13"
  }
 },
 "nbformat": 4,
 "nbformat_minor": 5
}
