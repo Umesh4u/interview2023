{
 "cells": [
  {
   "cell_type": "code",
   "execution_count": 1,
   "id": "9c8ce9a7-8d59-4414-99b1-0a551d5d0f1d",
   "metadata": {},
   "outputs": [],
   "source": [
    "x = [{\"x\" : 1},{\"y\" : 3},{\"z\" : 2}]"
   ]
  },
  {
   "cell_type": "code",
   "execution_count": 2,
   "id": "0ad9efd8-0eee-42c8-934d-189b1278f515",
   "metadata": {},
   "outputs": [
    {
     "data": {
      "text/plain": [
       "[{'x': 1}, {'y': 3}, {'z': 2}]"
      ]
     },
     "execution_count": 2,
     "metadata": {},
     "output_type": "execute_result"
    }
   ],
   "source": [
    "x"
   ]
  },
  {
   "cell_type": "code",
   "execution_count": 6,
   "id": "9a201ebb-485a-4a8e-b8e6-bef50564ed12",
   "metadata": {},
   "outputs": [
    {
     "name": "stdout",
     "output_type": "stream",
     "text": [
      "dict_values([1])\n",
      "dict_values([3])\n",
      "dict_values([1])\n"
     ]
    }
   ],
   "source": [
    "for i in range(len(x)):\n",
    "    for j in range(len(x)-i-1):\n",
    "        print(x[j].values())\n",
    "        if x[j].values() > x[j+1].values():\n",
    "            \n"
   ]
  },
  {
   "cell_type": "code",
   "execution_count": null,
   "id": "ef349082-e624-4a85-8256-4a8586aea94f",
   "metadata": {},
   "outputs": [],
   "source": []
  }
 ],
 "metadata": {
  "kernelspec": {
   "display_name": "Python 3 (ipykernel)",
   "language": "python",
   "name": "python3"
  },
  "language_info": {
   "codemirror_mode": {
    "name": "ipython",
    "version": 3
   },
   "file_extension": ".py",
   "mimetype": "text/x-python",
   "name": "python",
   "nbconvert_exporter": "python",
   "pygments_lexer": "ipython3",
   "version": "3.9.13"
  }
 },
 "nbformat": 4,
 "nbformat_minor": 5
}
