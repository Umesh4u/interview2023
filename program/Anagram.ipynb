{
 "cells": [
  {
   "cell_type": "code",
   "execution_count": 4,
   "metadata": {},
   "outputs": [
    {
     "name": "stdout",
     "output_type": "stream",
     "text": [
      "not a anagram\n"
     ]
    }
   ],
   "source": [
    "def check_anagram(str1,str2):\n",
    "    if len(str1)==len(str2):\n",
    "        for i in str1:\n",
    "            if i in str2:\n",
    "                flag =1\n",
    "            else:\n",
    "                flag=0\n",
    "                break;\n",
    "    else:\n",
    "        flag=0\n",
    "    if flag:\n",
    "        print(\"anagram\") \n",
    "    else:\n",
    "        print(\"not a anagram\")\n",
    "    \n",
    "                \n",
    "     \n",
    "check_anagram(\"listen\",\"silent\")"
   ]
  },
  {
   "cell_type": "code",
   "execution_count": null,
   "metadata": {},
   "outputs": [],
   "source": []
  }
 ],
 "metadata": {
  "kernelspec": {
   "display_name": "Python 3 (ipykernel)",
   "language": "python",
   "name": "python3"
  },
  "language_info": {
   "codemirror_mode": {
    "name": "ipython",
    "version": 3
   },
   "file_extension": ".py",
   "mimetype": "text/x-python",
   "name": "python",
   "nbconvert_exporter": "python",
   "pygments_lexer": "ipython3",
   "version": "3.10.12"
  }
 },
 "nbformat": 4,
 "nbformat_minor": 2
}
