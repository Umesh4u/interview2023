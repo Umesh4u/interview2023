{
 "cells": [
  {
   "cell_type": "code",
   "execution_count": 11,
   "id": "4f1212c3-8590-4291-9288-1edd2295a23f",
   "metadata": {},
   "outputs": [
    {
     "data": {
      "text/plain": [
       "[5, 4, 3, 3, 2, 1]"
      ]
     },
     "execution_count": 11,
     "metadata": {},
     "output_type": "execute_result"
    }
   ],
   "source": [
    "li = [1,2,3,3,4,5]\n",
    "\n",
    "def reverse_li(li):\n",
    "    if len(li) == 0:\n",
    "        return []\n",
    "    else:\n",
    "        return [li[-1]]+ reverse_li(li[:-1])\n",
    "\n",
    "reverse_li(li)"
   ]
  },
  {
   "cell_type": "code",
   "execution_count": 3,
   "id": "07095340-f697-4a8d-8d5b-f5a1e4d443c3",
   "metadata": {},
   "outputs": [
    {
     "data": {
      "text/plain": [
       "[1, 2, 3, 3]"
      ]
     },
     "execution_count": 3,
     "metadata": {},
     "output_type": "execute_result"
    }
   ],
   "source": [
    "li = [1,2,3,3,4,5]\n",
    "li[:-2]"
   ]
  },
  {
   "cell_type": "code",
   "execution_count": 12,
   "id": "ef19a848-f6e1-4eb6-ab95-8b7ced93525c",
   "metadata": {},
   "outputs": [],
   "source": [
    "## Example in lambda ++++++++++\n",
    "\n",
    "\n",
    "x = lambda x,y : x+y"
   ]
  },
  {
   "cell_type": "code",
   "execution_count": 13,
   "id": "599e77f5-e4f0-408b-9f49-411b14def5fd",
   "metadata": {},
   "outputs": [
    {
     "data": {
      "text/plain": [
       "9"
      ]
     },
     "execution_count": 13,
     "metadata": {},
     "output_type": "execute_result"
    }
   ],
   "source": [
    "x(4,5)"
   ]
  },
  {
   "cell_type": "code",
   "execution_count": 14,
   "id": "91ae707b-751f-4d76-a8f1-3b64b8ff7d98",
   "metadata": {},
   "outputs": [],
   "source": [
    "## Map ##########\n",
    "\n",
    "def square_li(n):\n",
    "    return n * n\n",
    "\n",
    "s = list(map(square_li,li))\n"
   ]
  },
  {
   "cell_type": "code",
   "execution_count": 15,
   "id": "9cc03cf4-7898-462c-8396-45e7269db3f3",
   "metadata": {},
   "outputs": [
    {
     "data": {
      "text/plain": [
       "[1, 4, 9, 9, 16, 25]"
      ]
     },
     "execution_count": 15,
     "metadata": {},
     "output_type": "execute_result"
    }
   ],
   "source": [
    "s"
   ]
  },
  {
   "cell_type": "code",
   "execution_count": 17,
   "id": "b9caaba9-c5a8-421e-8635-6762a13b1b6a",
   "metadata": {},
   "outputs": [],
   "source": [
    "### Filter ###\n",
    "\n",
    "def filter_data(n):\n",
    "    if n > 3:\n",
    "        return n\n",
    "\n",
    "filter_element = list(filter(filter_data,li))"
   ]
  },
  {
   "cell_type": "code",
   "execution_count": 18,
   "id": "99c3b21c-c177-4898-9850-89704884808d",
   "metadata": {},
   "outputs": [
    {
     "data": {
      "text/plain": [
       "[4, 5]"
      ]
     },
     "execution_count": 18,
     "metadata": {},
     "output_type": "execute_result"
    }
   ],
   "source": [
    "filter_element"
   ]
  },
  {
   "cell_type": "code",
   "execution_count": 19,
   "id": "82f2f063-04f5-429e-a832-afbaca6920fc",
   "metadata": {},
   "outputs": [],
   "source": [
    "# Remove key in dict\n",
    "di = {\"name\" : \"umesh\" ,\"age\" : 30 }"
   ]
  },
  {
   "cell_type": "code",
   "execution_count": 20,
   "id": "722454d2-0f9d-4ba2-a009-8b7faac1ab72",
   "metadata": {},
   "outputs": [],
   "source": [
    "s = dir(di)"
   ]
  },
  {
   "cell_type": "code",
   "execution_count": 22,
   "id": "68bcf265-b26f-4241-bbe8-f9bab943d236",
   "metadata": {},
   "outputs": [],
   "source": [
    "di = {\"name\" : \"umesh\" ,\"age\" : 30 }\n",
    "s = dir(di)\n",
    "li = []\n",
    "for i in s:\n",
    "    if \"__\" not in i:\n",
    "        li.append(i)"
   ]
  },
  {
   "cell_type": "code",
   "execution_count": 24,
   "id": "63256208-7b4e-49fe-a747-4f2948d9e7d3",
   "metadata": {},
   "outputs": [
    {
     "name": "stdout",
     "output_type": "stream",
     "text": [
      "['clear', 'copy', 'fromkeys', 'get', 'items', 'keys', 'pop', 'popitem', 'setdefault', 'update', 'values']\n"
     ]
    }
   ],
   "source": [
    "print(li)"
   ]
  },
  {
   "cell_type": "code",
   "execution_count": null,
   "id": "8f32df3e-7b7f-4819-bd49-314a94c5b709",
   "metadata": {},
   "outputs": [],
   "source": []
  }
 ],
 "metadata": {
  "kernelspec": {
   "display_name": "Python 3 (ipykernel)",
   "language": "python",
   "name": "python3"
  },
  "language_info": {
   "codemirror_mode": {
    "name": "ipython",
    "version": 3
   },
   "file_extension": ".py",
   "mimetype": "text/x-python",
   "name": "python",
   "nbconvert_exporter": "python",
   "pygments_lexer": "ipython3",
   "version": "3.9.13"
  }
 },
 "nbformat": 4,
 "nbformat_minor": 5
}
