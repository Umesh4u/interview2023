{
 "cells": [
  {
   "cell_type": "code",
   "execution_count": 32,
   "metadata": {},
   "outputs": [
    {
     "name": "stdout",
     "output_type": "stream",
     "text": [
      "56 20\n",
      "20 16\n",
      "16 4\n",
      "4 0\n",
      "kkkkkkkkkkkkkkk 4\n",
      "GCD None\n"
     ]
    }
   ],
   "source": [
    "def findGCD(a,b):\n",
    "    print(a,b)\n",
    "    if b!=0:\n",
    "        b,a=a%b,b\n",
    "        findGCD(a,b)\n",
    "    else:\n",
    "        print(\"kkkkkkkkkkkkkkk\",a)\n",
    "        return a\n",
    "res=findGCD(56,20)    \n",
    "print(\"GCD\",res)\n",
    "    "
   ]
  },
  {
   "cell_type": "code",
   "execution_count": null,
   "metadata": {},
   "outputs": [],
   "source": []
  },
  {
   "cell_type": "code",
   "execution_count": null,
   "metadata": {},
   "outputs": [],
   "source": []
  }
 ],
 "metadata": {
  "kernelspec": {
   "display_name": "Python 3 (ipykernel)",
   "language": "python",
   "name": "python3"
  },
  "language_info": {
   "codemirror_mode": {
    "name": "ipython",
    "version": 3
   },
   "file_extension": ".py",
   "mimetype": "text/x-python",
   "name": "python",
   "nbconvert_exporter": "python",
   "pygments_lexer": "ipython3",
   "version": "3.10.12"
  }
 },
 "nbformat": 4,
 "nbformat_minor": 2
}
