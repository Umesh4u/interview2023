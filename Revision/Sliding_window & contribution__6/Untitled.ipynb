{
 "cells": [
  {
   "cell_type": "code",
   "execution_count": 1,
   "metadata": {},
   "outputs": [
    {
     "data": {
      "text/plain": [
       "60"
      ]
     },
     "execution_count": 1,
     "metadata": {},
     "output_type": "execute_result"
    }
   ],
   "source": [
    "#Q1. Given an array of integers, we need to find the sum of possible subarrays of the arrays and \n",
    "# maintain the maximum sum\n",
    "\n",
    "arr=[10,20,30]\n",
    "#Brute Force Approch  T.C-N3, S.C-1\n",
    "def bruteForceForMaxSumArray(arr):\n",
    "    max_sum=0\n",
    "    for s in range(len(arr)):\n",
    "        for e in range(s,len(arr)):\n",
    "            sum=0\n",
    "            for k in range(s,e+1):\n",
    "                sum+=arr[k]\n",
    "            max_sum=max(max_sum,sum)\n",
    "    return max_sum\n",
    "bruteForceForMaxSumArray(arr)\n",
    "                "
   ]
  },
  {
   "cell_type": "code",
   "execution_count": 3,
   "metadata": {},
   "outputs": [
    {
     "data": {
      "text/plain": [
       "60"
      ]
     },
     "execution_count": 3,
     "metadata": {},
     "output_type": "execute_result"
    }
   ],
   "source": [
    "#Using prefix sum T.C-O(N2), S.C-O(N)\n",
    "def pfForMaxSumArr(arr):\n",
    "    pf=[arr[0]]\n",
    "    max_sum=0\n",
    "    for i in range(1,len(arr)):\n",
    "        pf.append(pf[i-1]+arr[i])\n",
    "        \n",
    "    for j in pf:\n",
    "        max_sum=max(max_sum,j)\n",
    "    return max_sum\n",
    "pfForMaxSumArr(arr)"
   ]
  },
  {
   "cell_type": "code",
   "execution_count": 4,
   "metadata": {},
   "outputs": [
    {
     "data": {
      "text/plain": [
       "60"
      ]
     },
     "execution_count": 4,
     "metadata": {},
     "output_type": "execute_result"
    }
   ],
   "source": [
    "# using Carry Forward T.C-O(N2), S.C-O(1)\n",
    "def carryForwardMaxSumArr(arr):\n",
    "    max_sum=0\n",
    "    for s in range(len(arr)):\n",
    "        sum=0\n",
    "        for e in range(s,len(arr)):\n",
    "            sum+=arr[e]\n",
    "        max_sum=max(max_sum,sum)\n",
    "    return max_sum\n",
    "carryForwardMaxSumArr(arr)"
   ]
  },
  {
   "cell_type": "code",
   "execution_count": 8,
   "metadata": {},
   "outputs": [
    {
     "data": {
      "text/plain": [
       "200"
      ]
     },
     "execution_count": 8,
     "metadata": {},
     "output_type": "execute_result"
    }
   ],
   "source": [
    "#Q2. Given an array of integers, find the total sum of all possible aubarrays\n",
    "A=[10,20,30]\n",
    "\n",
    "def sumOfAllSubArr(A):\n",
    "    sum=0\n",
    "    for s in range(len(A)):\n",
    "        curr_sum=0\n",
    "        for e in range(s,len(A)):\n",
    "            curr_sum+=A[e]\n",
    "            sum+=curr_sum\n",
    "    return sum\n",
    "            \n",
    "            \n",
    "sumOfAllSubArr(A)\n",
    "    "
   ]
  },
  {
   "cell_type": "code",
   "execution_count": 9,
   "metadata": {},
   "outputs": [
    {
     "data": {
      "text/plain": [
       "200"
      ]
     },
     "execution_count": 9,
     "metadata": {},
     "output_type": "execute_result"
    }
   ],
   "source": [
    "#optimized approach is Contribution Technique T.C-O(N), S.C-O(1)\n",
    "\n",
    "def ContriSumOfAllSubArr(A):\n",
    "    n=len(A)\n",
    "    sum=0\n",
    "    for i in range(n):\n",
    "        freq=(i+1)*(n-i)\n",
    "        contri = freq*A[i]\n",
    "        sum+=contri\n",
    "        \n",
    "    return sum\n",
    "ContriSumOfAllSubArr(A)"
   ]
  },
  {
   "cell_type": "code",
   "execution_count": null,
   "metadata": {},
   "outputs": [],
   "source": []
  }
 ],
 "metadata": {
  "kernelspec": {
   "display_name": "Python 3 (ipykernel)",
   "language": "python",
   "name": "python3"
  },
  "language_info": {
   "codemirror_mode": {
    "name": "ipython",
    "version": 3
   },
   "file_extension": ".py",
   "mimetype": "text/x-python",
   "name": "python",
   "nbconvert_exporter": "python",
   "pygments_lexer": "ipython3",
   "version": "3.10.12"
  }
 },
 "nbformat": 4,
 "nbformat_minor": 2
}
