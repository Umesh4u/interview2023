{
 "cells": [
  {
   "cell_type": "code",
   "execution_count": 18,
   "metadata": {},
   "outputs": [
    {
     "data": {
      "text/plain": [
       "[1, 2, 3, 11, 12, 13, 21, 22, 23, 31, 32, 33, 111, 112, 113, 121, 122]"
      ]
     },
     "execution_count": 18,
     "metadata": {},
     "output_type": "execute_result"
    }
   ],
   "source": [
    "A=17\n",
    "def contains_only_123(number):\n",
    "    allowed_digits = {'1', '2', '3'}\n",
    "    for digit in str(number):\n",
    "        if digit not in allowed_digits:\n",
    "            return False\n",
    "    return True\n",
    "def contain_digits(A):\n",
    "    ans=[]\n",
    "    allowed_digits={1,2,3}\n",
    "    i=0\n",
    "    while True:\n",
    "        if len(ans)<A:\n",
    "            status = contains_only_123(i)\n",
    "            if status:\n",
    "                ans.append(i)\n",
    "            i+=1\n",
    "        else:\n",
    "            break\n",
    "    return ans\n",
    "            \n",
    "            \n",
    "        \n",
    "    \n",
    "contain_digits(A)"
   ]
  },
  {
   "cell_type": "code",
   "execution_count": 25,
   "metadata": {},
   "outputs": [
    {
     "data": {
      "text/plain": [
       "['(', 'a', '+', 'b', '-', '(', 'd', '-', 'c', ')', '+', 'z', ')']"
      ]
     },
     "execution_count": 25,
     "metadata": {},
     "output_type": "execute_result"
    }
   ],
   "source": [
    "A=\"(a+b-(d-c)-z)\"\n",
    "stack=[]\n",
    "for i in A:\n",
    "#     if ord(i)>=47 or ord(i)<=122 or ord(i) or ord(i)==43 or ord(i)==45 or ord(i)==40 or ord(i)==41:\n",
    "#         if ord(i)==40 or stack[-1]==\"+\":\n",
    "#             global_opr=\"+\"\n",
    "#         elif ord(i)==40 or stack[-1]==\"-\":\n",
    "#             global_opr=\"-\"\n",
    "    str1=\"\"\n",
    "    if i==\"(\":\n",
    "    while i==\")\":\n",
    "        str1+=i\n",
    "        if i in [\"+\",\"-\"]:\n",
    "            if global_opr==\"+\" and i==\"-\":\n",
    "                stack.append(\"-\")\n",
    "            elif global_opr==\"-\" and i==\"-\":\n",
    "                stack.append(\"+\")\n",
    "            elif global_opr==\"-\" and i==\"+\":\n",
    "                stack.append(\"-\")\n",
    "            else:\n",
    "                stack.append(i)\n",
    "        else:\n",
    "            stack.append(i)\n",
    "stack"
   ]
  },
  {
   "cell_type": "code",
   "execution_count": null,
   "metadata": {},
   "outputs": [],
   "source": []
  }
 ],
 "metadata": {
  "kernelspec": {
   "display_name": "Python 3 (ipykernel)",
   "language": "python",
   "name": "python3"
  },
  "language_info": {
   "codemirror_mode": {
    "name": "ipython",
    "version": 3
   },
   "file_extension": ".py",
   "mimetype": "text/x-python",
   "name": "python",
   "nbconvert_exporter": "python",
   "pygments_lexer": "ipython3",
   "version": "3.10.12"
  }
 },
 "nbformat": 4,
 "nbformat_minor": 2
}
