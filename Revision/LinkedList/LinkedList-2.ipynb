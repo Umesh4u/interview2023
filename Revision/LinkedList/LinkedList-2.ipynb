{
 "cells": [
  {
   "cell_type": "code",
   "execution_count": 33,
   "metadata": {},
   "outputs": [
    {
     "name": "stdout",
     "output_type": "stream",
     "text": [
      "0 0 2 "
     ]
    }
   ],
   "source": [
    "class Node:\n",
    "    def __init__(self,data):\n",
    "        self.data=data\n",
    "        self.next=None\n",
    "        \n",
    "obj=Node(9)\n",
    "obj.next=Node(9)\n",
    "obj.next.next=Node(1)\n",
    "obj2=Node(1)\n",
    "# obj2.next=Node(2)\n",
    "# obj2.next.next=Node(4)\n",
    "\n",
    "class LinkList:\n",
    "    def __init__(self):\n",
    "        self.head=None\n",
    "        \n",
    "    def insertAtEnd(self,data):\n",
    "        new_node=Node(data)\n",
    "        if self.head is None:\n",
    "            self.head=new_node\n",
    "            return \n",
    "        temp=self.head\n",
    "        while temp.next is not None:\n",
    "            temp=temp.next\n",
    "        temp.next=new_node\n",
    "\n",
    "    def addTwoNumbers(self):\n",
    "        temp=obj\n",
    "        temp2=obj2\n",
    "        res=obj3\n",
    "        carry=0\n",
    "        while temp is not None or temp2 is not None:\n",
    "            val=0\n",
    "            if temp is not None:\n",
    "                val=temp.data\n",
    "                temp=temp.next\n",
    "\n",
    "            if temp2 is not None:\n",
    "                val+=temp2.data\n",
    "                temp2=temp2.next\n",
    "                \n",
    "            val+=carry\n",
    "            carry=val//10\n",
    "            res=val%10\n",
    "            self.insertAtEnd(res)\n",
    "            \n",
    "        if carry!=0:\n",
    "            self.insertAtEnd(carry)\n",
    "    def printres(self):\n",
    "        temp=self.head\n",
    "        while temp is not None:\n",
    "            print(temp.data,end=\" \")\n",
    "            temp=temp.next\n",
    "\n",
    "tt=LinkList()\n",
    "tt.addTwoNumbers()\n",
    "tt.printres()"
   ]
  },
  {
   "cell_type": "code",
   "execution_count": null,
   "metadata": {},
   "outputs": [],
   "source": [
    "11%10"
   ]
  },
  {
   "cell_type": "code",
   "execution_count": 37,
   "metadata": {},
   "outputs": [
    {
     "name": "stdout",
     "output_type": "stream",
     "text": [
      "0 0 0 2\n"
     ]
    },
    {
     "data": {
      "text/plain": [
       "<__main__.ListNode at 0x7a45501ad210>"
      ]
     },
     "execution_count": 37,
     "metadata": {},
     "output_type": "execute_result"
    }
   ],
   "source": [
    "# Definition for singly-linked list.\n",
    "class ListNode:\n",
    "    def __init__(self, x):\n",
    "        self.val = x\n",
    "        self.next = None\n",
    "\n",
    "obj=ListNode(9)\n",
    "obj.next=ListNode(9)\n",
    "obj.next.next=ListNode(1)\n",
    "obj2=ListNode(1)\n",
    "\n",
    "class Solution:\n",
    "    def addTwoNumbers(self, A, B):\n",
    "        dummy = ListNode(0)\n",
    "        current = dummy\n",
    "        carry = 0\n",
    "        \n",
    "        while A or B or carry:\n",
    "            val = carry\n",
    "            if A:\n",
    "                val += A.val\n",
    "                A = A.next\n",
    "            if B:\n",
    "                val += B.val\n",
    "                B = B.next\n",
    "            \n",
    "            carry = val // 10\n",
    "            current.next = ListNode(val % 10)\n",
    "            current = current.next\n",
    "        print(dummy.val,dummy.next.val,dummy.next.next.val,dummy.next.next.next.val)\n",
    "        return dummy.next\n",
    "\n",
    "s=Solution()\n",
    "s.addTwoNumbers(obj,obj2)\n"
   ]
  },
  {
   "cell_type": "code",
   "execution_count": null,
   "metadata": {},
   "outputs": [],
   "source": [
    "#Find mid \n",
    "class Node:\n",
    "    def __init__(self,data):\n",
    "        self.data=data\n",
    "        self.next=None\n",
    "        \n",
    "# obj = Node(\"a1\")\n",
    "# obj.next=Node(\"a2\")\n",
    "# obj.next.next=Node(\"a3\")\n",
    "# obj.next.next.next=Node(\"a4\")\n",
    "# obj.next.next.next.next=Node(\"a5\")\n",
    "# obj.next.next.next.next.next=Node(\"a6\")\n",
    "\n",
    "obj=Node(2)\n",
    "obj.next=Node(5)\n",
    "obj.next.next=Node(9)\n",
    "obj.next.next.next=Node(14)\n",
    "obj.next.next.next.next=Node(19)\n",
    "\n",
    "obj2=Node(3)\n",
    "obj.next=Node(6)\n",
    "obj.next.next=Node(10)\n",
    "obj.next.next.next=Node(11)\n",
    "obj.next.next.next.next=Node(12)"
   ]
  },
  {
   "cell_type": "code",
   "execution_count": 48,
   "metadata": {},
   "outputs": [
    {
     "data": {
      "text/plain": [
       "'a3'"
      ]
     },
     "execution_count": 48,
     "metadata": {},
     "output_type": "execute_result"
    }
   ],
   "source": [
    "#Find mid \n",
    "\n",
    "class LinkedList:\n",
    "    def __init__(self):\n",
    "        self.head=None\n",
    "        \n",
    "    def find_mid(self,h):\n",
    "        if h==None:\n",
    "            return None\n",
    "        s=h\n",
    "        f=h\n",
    "        while f.next!=None and f.next.next!=None:\n",
    "            f=f.next.next\n",
    "            s=s.next\n",
    "        return s.data\n",
    "    \n",
    "l1=LinkedList()\n",
    "l1.find_mid(obj)\n",
    "            "
   ]
  },
  {
   "cell_type": "code",
   "execution_count": null,
   "metadata": {},
   "outputs": [],
   "source": []
  },
  {
   "cell_type": "code",
   "execution_count": 47,
   "metadata": {},
   "outputs": [
    {
     "data": {
      "text/plain": [
       "'a3'"
      ]
     },
     "execution_count": 47,
     "metadata": {},
     "output_type": "execute_result"
    }
   ],
   "source": [
    "#remove loop detection \n",
    "class LinkedList:\n",
    "    def __init__(self):\n",
    "        self.head=None\n",
    "        \n",
    "    def find_mid(self,h):\n",
    "        s=h\n",
    "        f=h\n",
    "        isCycle=False\n",
    "        while f.next!=None and f.next.next!=None:\n",
    "            f=f.next.next\n",
    "            s=s.next\n",
    "            if s==f:\n",
    "                isCycle=True\n",
    "                break\n",
    "        if isCycle==False:\n",
    "            return False\n",
    "        s1=h\n",
    "        s2=f\n",
    "        while s1!=s2:\n",
    "            s1=s1.next\n",
    "            s2=s2.next\n",
    "            \n",
    "        temp=s1\n",
    "        while temp.next!=s1:\n",
    "            temp=temp.next\n",
    "        temp.next=None\n",
    "        return h\n",
    "#         return s.data\n",
    "    \n",
    "l1=LinkedList()\n",
    "l1.find_mid(obj)\n",
    "            "
   ]
  },
  {
   "cell_type": "code",
   "execution_count": null,
   "metadata": {},
   "outputs": [],
   "source": [
    "def mergeTwoLL(h1,h2):\n",
    "    if h1==None:\n",
    "        return h2\n",
    "    if h2==None:\n",
    "        return h1\n",
    "        \n",
    "    head=None\n",
    "    tail=None\n",
    "    if h1.data < h2.data:\n",
    "        head=h1\n",
    "        tail=h1\n",
    "        h1=h1.next\n",
    "    else:\n",
    "        head=h2\n",
    "        tail=h2\n",
    "        h2=h2.next\n",
    "        \n",
    "    while h1!=None and h2!=None:\n",
    "        if h1.data < h2.data:\n",
    "            head=h1\n",
    "            tail=h1\n",
    "            h1=h1.next\n",
    "        else:\n",
    "            head=h2\n",
    "            tail=h2\n",
    "            h2=h2.next\n",
    "    if h1!=None:\n",
    "        tail.next=h1\n",
    "    if h2!=None:\n",
    "        tail.next=h2\n",
    "        \n",
    "    return head\n",
    "   \n",
    "mergeTwoLL(obj,obj2)\n",
    "# while res.next!=None:\n",
    "#     print(res.data)\n",
    "#     res=res.next\n",
    "        "
   ]
  },
  {
   "cell_type": "code",
   "execution_count": null,
   "metadata": {},
   "outputs": [],
   "source": []
  },
  {
   "cell_type": "code",
   "execution_count": null,
   "metadata": {},
   "outputs": [],
   "source": []
  },
  {
   "cell_type": "code",
   "execution_count": null,
   "metadata": {},
   "outputs": [],
   "source": []
  }
 ],
 "metadata": {
  "kernelspec": {
   "display_name": "Python 3 (ipykernel)",
   "language": "python",
   "name": "python3"
  },
  "language_info": {
   "codemirror_mode": {
    "name": "ipython",
    "version": 3
   },
   "file_extension": ".py",
   "mimetype": "text/x-python",
   "name": "python",
   "nbconvert_exporter": "python",
   "pygments_lexer": "ipython3",
   "version": "3.10.12"
  }
 },
 "nbformat": 4,
 "nbformat_minor": 2
}
