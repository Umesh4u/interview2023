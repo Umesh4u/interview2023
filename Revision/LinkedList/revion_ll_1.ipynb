{
 "cells": [
  {
   "cell_type": "code",
   "execution_count": 96,
   "metadata": {},
   "outputs": [],
   "source": [
    "class Node:\n",
    "    def __init__(self,data):\n",
    "        self.data=data\n",
    "        self.next=None\n",
    "        \n",
    "class LinkedList:\n",
    "    def __init__(self):\n",
    "        self.head=None\n",
    "        \n",
    "    def insertAtBegining(self,data):\n",
    "        new_node=Node(data)\n",
    "        new_node.next=self.head\n",
    "        self.head=new_node\n",
    "        \n",
    "    def insertAtEnd(self,data):\n",
    "        new_node=Node(data)\n",
    "        temp =self.head\n",
    "        while temp.next is not None:\n",
    "            temp=temp.next\n",
    "        temp.next=new_node\n",
    "        \n",
    "    def insertInBetween(self,data,position):\n",
    "        new_node=Node(data)\n",
    "        temp=self.head\n",
    "        \n",
    "        if position==0:\n",
    "            new_node.next=temp\n",
    "            temp.next=new_node\n",
    "            return \n",
    "        for i in range(position-1):\n",
    "            temp=temp.next\n",
    "            \n",
    "        new_node.next =temp.next\n",
    "        temp.next=new_node\n",
    "        \n",
    "    def print_all_nodes(self):\n",
    "        temp=self.head\n",
    "        while temp is not None:\n",
    "            print(temp.data,end=\" \")\n",
    "            temp=temp.next\n",
    "        print()\n",
    "        \n",
    "    def reverseList(self):\n",
    "        temp=self.head\n",
    "        prev=None\n",
    "        curr=temp\n",
    "        while curr is not None:\n",
    "            next=curr.next\n",
    "            curr.next=prev\n",
    "            prev=curr\n",
    "            curr=next\n",
    "        self.head=prev\n",
    "        \n",
    "    def removeNthNode(self,B):        \n",
    "        temp=self.head\n",
    "        n=0\n",
    "        while temp is not None:\n",
    "            temp =temp.next\n",
    "            n+=1\n",
    "        xth_elem=abs(n-(B-1))\n",
    "        print(xth_elem)\n",
    "        temp=self.head\n",
    "    \n",
    "        if B<=n:\n",
    "            print(\"aaaaaaaaaaaaaaa\",temp)\n",
    "            for _ in range(xth_elem-2):\n",
    "                temp=temp.next\n",
    "            \n",
    "            if temp.next is not None:\n",
    "                temp.next=temp.next.next\n",
    "            else:\n",
    "                temp.next=None\n",
    "            return \n",
    "        elif B>n:\n",
    "            print(\"ddddddddddd\")\n",
    "            next_node=temp.next\n",
    "            self.head=next_node\n",
    "            return\n",
    "            \n",
    "        \n",
    "        \n",
    "        "
   ]
  },
  {
   "cell_type": "code",
   "execution_count": 159,
   "metadata": {},
   "outputs": [
    {
     "name": "stdout",
     "output_type": "stream",
     "text": [
      "1 \n",
      "1 \n",
      "1 \n"
     ]
    }
   ],
   "source": [
    "obj=LinkedList()\n",
    "# obj.insertAtBegining(20)\n",
    "obj.insertAtBegining(1)\n",
    "obj.print_all_nodes()\n",
    "# obj.insertAtEnd(380)\n",
    "# obj.insertAtEnd(2)\n",
    "# obj.insertAtEnd(3)\n",
    "# obj.insertAtEnd(4)\n",
    "# obj.insertAtEnd(5)\n",
    "\n",
    "# obj.insertAtEnd(349)\n",
    "\n",
    "# obj.insertAtEnd(322)\n",
    "\n",
    "# obj.insertAtEnd(389)\n",
    "# obj.insertAtEnd(424)\n",
    "# obj.insertAtEnd(429)\n",
    "# obj.insertAtEnd(120)\n",
    "# obj.insertAtEnd(64)\n",
    "# obj.insertAtEnd(691)\n",
    "# obj.insertAtEnd(677)\n",
    "# obj.insertAtEnd(58)\n",
    "\n",
    "obj.print_all_nodes()\n",
    "# obj.removeNthNode(1)\n",
    "obj.print_all_nodes()\n"
   ]
  },
  {
   "cell_type": "code",
   "execution_count": 157,
   "metadata": {},
   "outputs": [
    {
     "name": "stdout",
     "output_type": "stream",
     "text": [
      "1 1 2 3 3 \n"
     ]
    }
   ],
   "source": [
    "# obj.insertAtEnd(1)\n",
    "# obj.insertAtEnd(2)\n",
    "# obj.insertAtEnd(3)\n",
    "\n",
    "# obj.insertAtEnd(3)\n",
    "\n",
    "obj.print_all_nodes()\n"
   ]
  },
  {
   "cell_type": "code",
   "execution_count": 160,
   "metadata": {},
   "outputs": [
    {
     "name": "stdout",
     "output_type": "stream",
     "text": [
      "1 \n"
     ]
    }
   ],
   "source": [
    "def removeDuplicates(A):\n",
    "    temp =A\n",
    "    curr=temp.data\n",
    "    while temp.next is not None:\n",
    "        if temp.next.data==curr:\n",
    "            temp.next=temp.next.next\n",
    "        else:\n",
    "            temp=temp.next\n",
    "            curr=temp.data\n",
    "            \n",
    "    return A\n",
    "\n",
    "removeDuplicates(obj.head)\n",
    "obj.print_all_nodes()"
   ]
  },
  {
   "cell_type": "code",
   "execution_count": null,
   "metadata": {},
   "outputs": [],
   "source": []
  },
  {
   "cell_type": "code",
   "execution_count": null,
   "metadata": {},
   "outputs": [],
   "source": []
  }
 ],
 "metadata": {
  "kernelspec": {
   "display_name": "Python 3 (ipykernel)",
   "language": "python",
   "name": "python3"
  },
  "language_info": {
   "codemirror_mode": {
    "name": "ipython",
    "version": 3
   },
   "file_extension": ".py",
   "mimetype": "text/x-python",
   "name": "python",
   "nbconvert_exporter": "python",
   "pygments_lexer": "ipython3",
   "version": "3.10.12"
  }
 },
 "nbformat": 4,
 "nbformat_minor": 2
}
