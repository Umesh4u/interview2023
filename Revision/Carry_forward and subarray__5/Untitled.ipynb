{
 "cells": [
  {
   "cell_type": "code",
   "execution_count": 1,
   "metadata": {},
   "outputs": [
    {
     "data": {
      "text/plain": [
       "3"
      ]
     },
     "execution_count": 1,
     "metadata": {},
     "output_type": "execute_result"
    }
   ],
   "source": [
    "s=\"abegag\"\n",
    "#output is 3\n",
    "\n",
    "#Brute force approach\n",
    "def agpair(s):\n",
    "    count=0\n",
    "    for i in range(len(s)):\n",
    "        if s[i]=='a':\n",
    "            for j in range(i+1,len(s)):\n",
    "                if s[j]=='g':\n",
    "                    count+=1\n",
    "    return count\n",
    "agpair(s)"
   ]
  },
  {
   "cell_type": "code",
   "execution_count": 2,
   "metadata": {},
   "outputs": [
    {
     "data": {
      "text/plain": [
       "3"
      ]
     },
     "execution_count": 2,
     "metadata": {},
     "output_type": "execute_result"
    }
   ],
   "source": [
    "#optimized approach\n",
    "def optimizedAGPair(s):\n",
    "    counta=0\n",
    "    ans=0\n",
    "    for i in range(len(s)):\n",
    "        if s[i]=='a':\n",
    "            counta+=1\n",
    "        if s[i]=='g':\n",
    "            ans+=counta\n",
    "    return ans\n",
    "optimizedAGPair(s)"
   ]
  },
  {
   "cell_type": "code",
   "execution_count": 11,
   "metadata": {},
   "outputs": [
    {
     "name": "stdout",
     "output_type": "stream",
     "text": [
      "10 \n",
      "10 20 \n",
      "10 20 30 \n",
      "20 \n",
      "20 30 \n",
      "30 \n"
     ]
    }
   ],
   "source": [
    "#Q3. Print all the subarray of the given array\n",
    "A=[10,20,30]\n",
    "def printSubarray(A):\n",
    "    for s in range(len(A)):\n",
    "        for e in range(s,len(A)):\n",
    "            for val in range(s,e+1):\n",
    "                print(A[val],end=\" \")\n",
    "            print()\n",
    "printSubarray(A)"
   ]
  },
  {
   "cell_type": "code",
   "execution_count": 7,
   "metadata": {},
   "outputs": [
    {
     "data": {
      "text/plain": [
       "3"
      ]
     },
     "execution_count": 7,
     "metadata": {},
     "output_type": "execute_result"
    }
   ],
   "source": [
    "#Q4\n",
    "A=[2,2,6,4,5,1,3,2,6,4,1]\n",
    "def findMinMaxContainSubArrLen(A):\n",
    "    max_value=max(A)\n",
    "    min_value =min(A)\n",
    "    last_min_idx=-1\n",
    "    last_max_idx=-1\n",
    "    ans=float('inf')\n",
    "    \n",
    "    for i in range(len(A)):\n",
    "        if min_value==max_value:\n",
    "            return 1\n",
    "        else:\n",
    "            if A[i]==min_value:\n",
    "                if last_max_idx!=-1:\n",
    "                    ans = min(ans,i-last_max_idx+1)\n",
    "                else:\n",
    "                    last_min_idx=i\n",
    "            elif A[i]==max_value:\n",
    "                if last_min_idx!=-1:\n",
    "                    ans = min(ans,i-last_min_idx+1)\n",
    "                else:\n",
    "                    last_max_idx=i\n",
    "    return ans\n",
    "findMinMaxContainSubArrLen(A)"
   ]
  },
  {
   "cell_type": "code",
   "execution_count": null,
   "metadata": {},
   "outputs": [],
   "source": []
  }
 ],
 "metadata": {
  "kernelspec": {
   "display_name": "Python 3 (ipykernel)",
   "language": "python",
   "name": "python3"
  },
  "language_info": {
   "codemirror_mode": {
    "name": "ipython",
    "version": 3
   },
   "file_extension": ".py",
   "mimetype": "text/x-python",
   "name": "python",
   "nbconvert_exporter": "python",
   "pygments_lexer": "ipython3",
   "version": "3.10.12"
  }
 },
 "nbformat": 4,
 "nbformat_minor": 2
}
