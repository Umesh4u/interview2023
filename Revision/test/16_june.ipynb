{
 "cells": [
  {
   "cell_type": "code",
   "execution_count": 116,
   "metadata": {},
   "outputs": [
    {
     "data": {
      "text/plain": [
       "[8, 5, 6, 7]"
      ]
     },
     "execution_count": 116,
     "metadata": {},
     "output_type": "execute_result"
    }
   ],
   "source": [
    "#Q1.Given an integer array A of size N and an integer B, you have to return the same array after rotating it B times towards the right.\n",
    "A = [5,6,7,8]\n",
    "B = 9\n",
    "# output = [7,8,5,6]\n",
    "\n",
    "def rotatingArr(A,B):\n",
    "    kth_times = B%len(A)\n",
    "    for i in range(kth_times):\n",
    "        tmp = A[-1]\n",
    "        A.pop()\n",
    "        A.insert(0,tmp)\n",
    "    return A\n",
    "rotatingArr(A,B)"
   ]
  },
  {
   "cell_type": "code",
   "execution_count": 117,
   "metadata": {},
   "outputs": [
    {
     "data": {
      "text/plain": [
       "[8, 5, 6, 7]"
      ]
     },
     "execution_count": 117,
     "metadata": {},
     "output_type": "execute_result"
    }
   ],
   "source": [
    "A = [5,6,7,8]\n",
    "B = 5\n",
    "def reverse_ktimes(A,l,r):\n",
    "    i=l\n",
    "    j=r\n",
    "    while i<j:\n",
    "        A[i],A[j]=A[j],A[i]\n",
    "        i+=1\n",
    "        j-=1\n",
    "    return A\n",
    "n=len(A)\n",
    "B=B%n\n",
    "reverse_ktimes(A,0,n-1)\n",
    "reverse_ktimes(A,0,B-1)\n",
    "reverse_ktimes(A,B,n-1)"
   ]
  },
  {
   "cell_type": "code",
   "execution_count": 118,
   "metadata": {},
   "outputs": [
    {
     "data": {
      "text/plain": [
       "[['ant', 'tna'], ['abc', 'bca'], ['a'], ['der']]"
      ]
     },
     "execution_count": 118,
     "metadata": {},
     "output_type": "execute_result"
    }
   ],
   "source": [
    "#Q2 Check anagram\n",
    "li = ['ant','tna','abc','bca','a','der']\n",
    "# output : [['ant', 'tna'], ['abc', 'bca'], ['der']]\n",
    "\n",
    "def checkAnagram(li):\n",
    "    result=[]\n",
    "    common_li=[]\n",
    "    for i in range(len(li)):\n",
    "        if li[i] not in common_li:\n",
    "            new_li=[li[i]]\n",
    "            common_li.append(li[i])\n",
    "            for j in range(i+1,len(li)):\n",
    "                if len(li[i]) == len(li[j]) and sorted(li[i])==sorted(li[j]):\n",
    "                    new_li.append(li[j])\n",
    "                    common_li.append(li[j])\n",
    "            result.append(new_li)\n",
    "    return result\n",
    "        \n",
    "\n",
    "checkAnagram(li)"
   ]
  },
  {
   "cell_type": "code",
   "execution_count": 103,
   "metadata": {},
   "outputs": [
    {
     "data": {
      "text/plain": [
       "[['cat', 'cat'], ['dog']]"
      ]
     },
     "execution_count": 103,
     "metadata": {},
     "output_type": "execute_result"
    }
   ],
   "source": [
    "#Q3 \n",
    "A = [\"cat\", \"dog\", \"cat\"]\n",
    "#   output = [['cat', 'cat'], ['dog']]\n",
    "def categoriesAnimals(A):\n",
    "    common_li=[]\n",
    "    result=[]\n",
    "    for i in range(len(A)):\n",
    "        if A[i] not in common_li:\n",
    "            new_li=[A[i]]\n",
    "            common_li.append(A[i])\n",
    "            for j in range(i+1,len(A)):\n",
    "                if A[i]==A[j]:\n",
    "                    new_li.append(A[j])\n",
    "            result.append(new_li)\n",
    "    return result\n",
    "\n",
    "categoriesAnimals(A)\n"
   ]
  },
  {
   "cell_type": "code",
   "execution_count": 95,
   "metadata": {},
   "outputs": [
    {
     "name": "stdout",
     "output_type": "stream",
     "text": [
      "['abc', 'de', 'ku']\n"
     ]
    },
    {
     "ename": "NameError",
     "evalue": "name 'tinput_str' is not defined",
     "output_type": "error",
     "traceback": [
      "\u001b[0;31m---------------------------------------------------------------------------\u001b[0m",
      "\u001b[0;31mNameError\u001b[0m                                 Traceback (most recent call last)",
      "Cell \u001b[0;32mIn[95], line 9\u001b[0m\n\u001b[1;32m      7\u001b[0m result\u001b[38;5;241m=\u001b[39m\u001b[38;5;124m\"\u001b[39m\u001b[38;5;124m\"\u001b[39m\n\u001b[1;32m      8\u001b[0m \u001b[38;5;28;01mfor\u001b[39;00m i \u001b[38;5;129;01min\u001b[39;00m \u001b[38;5;28mrange\u001b[39m(\u001b[38;5;28mlen\u001b[39m(input_str)\u001b[38;5;241m-\u001b[39m\u001b[38;5;241m1\u001b[39m,\u001b[38;5;241m-\u001b[39m\u001b[38;5;241m1\u001b[39m,\u001b[38;5;241m-\u001b[39m\u001b[38;5;241m1\u001b[39m):\n\u001b[0;32m----> 9\u001b[0m     new_data\u001b[38;5;241m+\u001b[39m\u001b[38;5;241m=\u001b[39m\u001b[43mtinput_str\u001b[49m[i]\n",
      "\u001b[0;31mNameError\u001b[0m: name 'tinput_str' is not defined"
     ]
    }
   ],
   "source": [
    "#Q4. \n",
    "input_str = \"abc de ku\"\n",
    "# Output = u k e   d c   b a\n",
    "count_arr =input_str.split()\n",
    "print(count_arr)\n",
    "new_data=\"\"\n",
    "result=\"\"\n",
    "for i in range(len(input_str)-1,-1,-1):\n",
    "    new_data+=input_str[i]"
   ]
  },
  {
   "cell_type": "code",
   "execution_count": 130,
   "metadata": {},
   "outputs": [
    {
     "data": {
      "text/plain": [
       "25"
      ]
     },
     "execution_count": 130,
     "metadata": {},
     "output_type": "execute_result"
    }
   ],
   "source": [
    " arr = [\n",
    "     [1,2,3],\n",
    "        [4,5,6],\n",
    "        [7,8,9]\n",
    "    ]\n",
    "\n",
    "#   output : 1 + 5 + 9 + 3 + 5 + 7 = 25\n",
    "def totalSum(arr):\n",
    "    principal_sum=0\n",
    "    n=len(arr)\n",
    "    for i in range(n):\n",
    "        principal_sum+=arr[i][i]\n",
    "\n",
    "    anti_sum=0\n",
    "    count=n-1\n",
    "    for i in range(n):\n",
    "        anti_sum+=arr[i][count]\n",
    "        count-=1\n",
    "    anti_sum+=principal_sum\n",
    "#     print(n,3%2==0)\n",
    "    if n%2!=0:\n",
    "        anti_sum-=arr[n//2][n//2]\n",
    "    return anti_sum  \n",
    "totalSum(arr)"
   ]
  },
  {
   "cell_type": "code",
   "execution_count": 137,
   "metadata": {},
   "outputs": [
    {
     "data": {
      "text/plain": [
       "False"
      ]
     },
     "execution_count": 137,
     "metadata": {},
     "output_type": "execute_result"
    }
   ],
   "source": [
    "import string\n",
    "\"abc\" in string.ascii_uppercase"
   ]
  },
  {
   "cell_type": "code",
   "execution_count": null,
   "metadata": {},
   "outputs": [],
   "source": []
  }
 ],
 "metadata": {
  "kernelspec": {
   "display_name": "Python 3 (ipykernel)",
   "language": "python",
   "name": "python3"
  },
  "language_info": {
   "codemirror_mode": {
    "name": "ipython",
    "version": 3
   },
   "file_extension": ".py",
   "mimetype": "text/x-python",
   "name": "python",
   "nbconvert_exporter": "python",
   "pygments_lexer": "ipython3",
   "version": "3.10.12"
  }
 },
 "nbformat": 4,
 "nbformat_minor": 2
}
