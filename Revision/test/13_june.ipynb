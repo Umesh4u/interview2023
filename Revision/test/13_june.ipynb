{
 "cells": [
  {
   "cell_type": "code",
   "execution_count": 8,
   "metadata": {},
   "outputs": [
    {
     "name": "stdout",
     "output_type": "stream",
     "text": [
      "[1, 1, 2]\n",
      "[0, 1, 1]\n"
     ]
    },
    {
     "data": {
      "text/plain": [
       "3"
      ]
     },
     "execution_count": 8,
     "metadata": {},
     "output_type": "execute_result"
    }
   ],
   "source": [
    "# A = [2, 1, 6, 4]\n",
    "A = [1, 1, 1]\n",
    "def specialIndex(A):\n",
    "    pfe=[A[0]]\n",
    "    pfo=[0]\n",
    "    \n",
    "    #find even index prefix sum\n",
    "    for i in range(1,len(A)):\n",
    "        if i%2==0:\n",
    "            pfe.append(pfe[i-1]+A[i])\n",
    "        else:\n",
    "            pfe.append(pfe[i-1])\n",
    "    \n",
    "    #find Odd index prefix sum\n",
    "    for j in range(1,len(A)):\n",
    "        if j%2!=0:\n",
    "            pfo.append(pfo[j-1]+A[j])\n",
    "        else:\n",
    "            pfo.append(pfo[j-1])\n",
    "            \n",
    "    count=0\n",
    "    n=len(A)\n",
    "    for k in range(len(A)):\n",
    "        so=0\n",
    "        se=0\n",
    "        \n",
    "        if k==0:\n",
    "            so=pfe[n-1]-pfe[k]\n",
    "            se= pfo[n-1]-pfo[k]\n",
    "        else:\n",
    "            so = (pfo[k-1])+(pfe[n-1]-pfe[k])\n",
    "            se = (pfe[k-1])+(pfo[n-1]-pfo[k])\n",
    "            \n",
    "        if so==se:\n",
    "            count+=1\n",
    "            \n",
    "    return count\n",
    "    \n",
    "specialIndex(A)"
   ]
  },
  {
   "cell_type": "code",
   "execution_count": 10,
   "metadata": {},
   "outputs": [
    {
     "data": {
      "text/plain": [
       "3"
      ]
     },
     "execution_count": 10,
     "metadata": {},
     "output_type": "execute_result"
    }
   ],
   "source": [
    "# Longest substring\n",
    "s = \"abcabcbb\"\n",
    "# output = 3\n",
    "\n",
    "def findLongestSubString(s):\n",
    "    arr=[]\n",
    "    count=0\n",
    "    max_count=0\n",
    "    for i in s:\n",
    "        if i not in arr:\n",
    "            count+=1\n",
    "            arr.append(i)\n",
    "        else:\n",
    "            max_count=max(max_count,count)\n",
    "            count=0\n",
    "    return max_count\n",
    "\n",
    "findLongestSubString(s)"
   ]
  },
  {
   "cell_type": "code",
   "execution_count": 9,
   "metadata": {},
   "outputs": [
    {
     "name": "stdout",
     "output_type": "stream",
     "text": [
      "['age', 'course', 'name']\n"
     ]
    }
   ],
   "source": [
    "# sorted dict by key\n",
    "d={\"name\":\"kusum\",\"age\":29,\"course\":\"DSA\"}\n",
    "def sortDictKey(d):\n",
    "    print(sorted(d))\n",
    "\n",
    "sortDictKey(d)"
   ]
  },
  {
   "cell_type": "code",
   "execution_count": 17,
   "metadata": {},
   "outputs": [
    {
     "data": {
      "text/plain": [
       "37"
      ]
     },
     "execution_count": 17,
     "metadata": {},
     "output_type": "execute_result"
    }
   ],
   "source": [
    "#calculate Sum\n",
    "li=[1,5,[2,3,4,[7,8,[1,1]]],5]\n",
    "\n",
    "\n",
    "def calculateSum(li):\n",
    "    sum = 0\n",
    "    for i in li:\n",
    "        if isinstance(i,list):\n",
    "            sum += calculateSum(i)\n",
    "        else:\n",
    "            sum+=i\n",
    "    return sum\n",
    "\n",
    "calculateSum(li)"
   ]
  },
  {
   "cell_type": "code",
   "execution_count": 13,
   "metadata": {},
   "outputs": [
    {
     "data": {
      "text/plain": [
       "False"
      ]
     },
     "execution_count": 13,
     "metadata": {},
     "output_type": "execute_result"
    }
   ],
   "source": [
    "isinstance(1,list)"
   ]
  },
  {
   "cell_type": "code",
   "execution_count": 32,
   "metadata": {},
   "outputs": [
    {
     "name": "stdout",
     "output_type": "stream",
     "text": [
      "1.0\n",
      "0.5\n",
      "Not allowed to divide any element with zero\n",
      "Division is possible in only numbers\n"
     ]
    }
   ],
   "source": [
    "li = [1,2,0,'a']    \n",
    "def handleException(li):\n",
    "    for i in li:\n",
    "        try:\n",
    "            print(1/i)\n",
    "        except ZeroDivisionError:\n",
    "            print(\"Not allowed to divide any element with zero\")\n",
    "        except TypeError:\n",
    "            print(\"Division is possible in only numbers\")\n",
    "\n",
    "handleException(li)"
   ]
  },
  {
   "cell_type": "code",
   "execution_count": 50,
   "metadata": {},
   "outputs": [
    {
     "name": "stdout",
     "output_type": "stream",
     "text": [
      "['Python', 'is', 'a', 'high-level,', 'general-purpose', 'programming', 'language.', 'Its', 'design', 'philosophy', 'emphasizes', 'code', 'readability', 'with', 'the', 'use', 'of', 'significant', 'indentation.', 'Python', 'is', 'dynamically', 'typed', 'and', 'garbage-collected.', 'It', 'supports', 'multiple', 'programming', 'paradigms,', 'including', 'structured', '(particularly', 'procedural),', 'object-oriented', 'and', 'functional', 'programming.', 'It', 'is', 'often', 'described', 'as', 'a', '\"batteries', 'included\"', 'language', 'due', 'to', 'its', 'comprehensive', 'standard', 'library.']\n"
     ]
    },
    {
     "data": {
      "text/plain": [
       "{'python': 2,\n",
       " 'is': 3,\n",
       " 'a': 2,\n",
       " 'high-level,': 1,\n",
       " 'general-purpose': 1,\n",
       " 'programming': 2,\n",
       " 'language.': 1,\n",
       " 'its': 2,\n",
       " 'design': 1,\n",
       " 'philosophy': 1,\n",
       " 'emphasizes': 1,\n",
       " 'code': 1,\n",
       " 'readability': 1,\n",
       " 'with': 1,\n",
       " 'the': 1,\n",
       " 'use': 1,\n",
       " 'of': 1,\n",
       " 'significant': 1,\n",
       " 'indentation.': 1,\n",
       " 'dynamically': 1,\n",
       " 'typed': 1,\n",
       " 'and': 2,\n",
       " 'garbage-collected.': 1,\n",
       " 'it': 2,\n",
       " 'supports': 1,\n",
       " 'multiple': 1,\n",
       " 'paradigms,': 1,\n",
       " 'including': 1,\n",
       " 'structured': 1,\n",
       " '(particularly': 1,\n",
       " 'procedural),': 1,\n",
       " 'object-oriented': 1,\n",
       " 'functional': 1,\n",
       " 'programming.': 1,\n",
       " 'often': 1,\n",
       " 'described': 1,\n",
       " 'as': 1,\n",
       " '\"batteries': 1,\n",
       " 'included\"': 1,\n",
       " 'language': 1,\n",
       " 'due': 1,\n",
       " 'to': 1,\n",
       " 'comprehensive': 1,\n",
       " 'standard': 1,\n",
       " 'library.': 1}"
      ]
     },
     "execution_count": 50,
     "metadata": {},
     "output_type": "execute_result"
    }
   ],
   "source": [
    "def readTXTMamkeDict():\n",
    "    with open(\"/home/kusum/Documents/interview2023/Revision/test/words.txt\",'r') as data:\n",
    "        li=data.read().split()\n",
    "        wordDict={}\n",
    "        print(li)\n",
    "        for i in li:\n",
    "            key=i.lower()\n",
    "            if i.lower() in wordDict:\n",
    "                wordDict[key]+=1\n",
    "            else:\n",
    "                \n",
    "                wordDict[key]=1\n",
    "    return wordDict\n",
    "\n",
    "readTXTMamkeDict()"
   ]
  },
  {
   "cell_type": "code",
   "execution_count": null,
   "metadata": {},
   "outputs": [],
   "source": []
  }
 ],
 "metadata": {
  "kernelspec": {
   "display_name": "Python 3 (ipykernel)",
   "language": "python",
   "name": "python3"
  },
  "language_info": {
   "codemirror_mode": {
    "name": "ipython",
    "version": 3
   },
   "file_extension": ".py",
   "mimetype": "text/x-python",
   "name": "python",
   "nbconvert_exporter": "python",
   "pygments_lexer": "ipython3",
   "version": "3.10.12"
  }
 },
 "nbformat": 4,
 "nbformat_minor": 2
}
