{
 "cells": [
  {
   "cell_type": "code",
   "execution_count": null,
   "metadata": {},
   "outputs": [],
   "source": [
    "#Q1. Given an array of 1's and 0's, you are allowed to replace one 0 with 1. Find the maximum number of \n",
    "#    consicutive 1's that can be obtained after making the replacement\n",
    "\n",
    "arr=[1,1,0,1,1,0,1,1]\n",
    "\n",
    "def maximumOnes(arr):\n",
    "    i=0\n",
    "    j=i+1\n",
    "    zero=False\n",
    "    next_i=0\n",
    "    ans=0\n",
    "    for i in range(len(arr)):\n",
    "        if arr[j]==1:\n",
    "            j+=1\n",
    "        elif arr[j]==0:\n",
    "            if zero:\n",
    "                ans=max(ans,i-(j-1)+1)\n",
    "                i=j\n",
    "            else:\n",
    "                zero=True\n",
    "                next_i=j\n",
    "                j+=1\n",
    "\n",
    "            \n",
    "            \n",
    "\n",
    "maximumOnes(arr)"
   ]
  }
 ],
 "metadata": {
  "kernelspec": {
   "display_name": "Python 3 (ipykernel)",
   "language": "python",
   "name": "python3"
  },
  "language_info": {
   "codemirror_mode": {
    "name": "ipython",
    "version": 3
   },
   "file_extension": ".py",
   "mimetype": "text/x-python",
   "name": "python",
   "nbconvert_exporter": "python",
   "pygments_lexer": "ipython3",
   "version": "3.10.12"
  }
 },
 "nbformat": 4,
 "nbformat_minor": 2
}
