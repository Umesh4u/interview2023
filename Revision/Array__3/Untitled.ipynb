{
 "cells": [
  {
   "cell_type": "code",
   "execution_count": 7,
   "metadata": {},
   "outputs": [
    {
     "data": {
      "text/plain": [
       "[2, 1, 3, 4, 5]"
      ]
     },
     "execution_count": 7,
     "metadata": {},
     "output_type": "execute_result"
    }
   ],
   "source": [
    "# Q1. Given array of size N, Reverse the entire array\n",
    "arr=[1,2,3,4,5]\n",
    "# output= [5,4,3,2,1]\n",
    "\n",
    "def reverse_arr(arr):\n",
    "    i=0\n",
    "    n=len(arr)\n",
    "    j=n-1\n",
    "    while i<j:\n",
    "        arr[i],arr[j]=arr[j],arr[i]\n",
    "        i+=1\n",
    "        j-=1\n",
    "    return arr\n",
    "\n",
    "reverse_arr(arr)"
   ]
  },
  {
   "cell_type": "code",
   "execution_count": 3,
   "metadata": {},
   "outputs": [
    {
     "data": {
      "text/plain": [
       "[1, 4, 3, 2, 5]"
      ]
     },
     "execution_count": 3,
     "metadata": {},
     "output_type": "execute_result"
    }
   ],
   "source": [
    "# Q2. Given an array of size N and integeres \"l\" to \"r\". Reverse the array from \"l\" to \"r\"\n",
    "arr = [1,2,3,4,5]\n",
    "l=1\n",
    "r=3 # here index 1 which is l=1 and from index 3 which is r=3 we need to reverse them\n",
    "# output=[1,4,3,2,5]\n",
    "\n",
    "def reverse_arr_l_to_r(arr,l,r):\n",
    "    i=l\n",
    "    j=r\n",
    "    while i<j:\n",
    "        arr[i],arr[j]=arr[j],arr[i]\n",
    "        i+=1\n",
    "        j-=1\n",
    "    return arr\n",
    "\n",
    "reverse_arr_l_to_r(arr.l,r)\n",
    "\n"
   ]
  },
  {
   "cell_type": "code",
   "execution_count": 17,
   "metadata": {},
   "outputs": [
    {
     "name": "stdout",
     "output_type": "stream",
     "text": [
      "[5, 1, 2, 3, 4]\n",
      "[4, 5, 1, 2, 3]\n",
      "[3, 4, 5, 1, 2]\n",
      "[2, 3, 4, 5, 1]\n",
      "[1, 2, 3, 4, 5]\n",
      "[5, 1, 2, 3, 4]\n",
      "[4, 5, 1, 2, 3]\n"
     ]
    },
    {
     "data": {
      "text/plain": [
       "[4, 5, 1, 2, 3]"
      ]
     },
     "execution_count": 17,
     "metadata": {},
     "output_type": "execute_result"
    }
   ],
   "source": [
    "# Q3. Given an array of size Nrotate the array from right to left 'k' times. i.e(k=1) last element \n",
    "# come at first place\n",
    "arr=[1,2,3,4,5]\n",
    "# output= [5,1,2,3,4]\n",
    "k=7\n",
    "def reverse_arr(arr,k):\n",
    "    for _ in range(k):\n",
    "        n=len(arr)\n",
    "        i=n-2\n",
    "        j=n-1\n",
    "\n",
    "        while i<j and i>=0:\n",
    "            arr[i],arr[j]=arr[j],arr[i]\n",
    "            i-=1\n",
    "            j-=1\n",
    "        print(arr)\n",
    "    return arr\n",
    "\n",
    "reverse_arr(arr,k)"
   ]
  },
  {
   "cell_type": "code",
   "execution_count": 31,
   "metadata": {},
   "outputs": [
    {
     "data": {
      "text/plain": [
       "[4, 5, 1, 2, 3]"
      ]
     },
     "execution_count": 31,
     "metadata": {},
     "output_type": "execute_result"
    }
   ],
   "source": [
    "arr=[1,2,3,4,5]\n",
    "# output= [5,1,2,3,4]\n",
    "k=2\n",
    "def reverse_kth_times(arr,l,r):\n",
    "    i=l\n",
    "    j=r\n",
    "    while i<j:\n",
    "        arr[i],arr[j]=arr[j],arr[i]\n",
    "        i+=1\n",
    "        j-=1\n",
    "    return arr\n",
    "n=len(arr)\n",
    "k=k%n\n",
    "reverse_kth_times(arr,0,n-1)\n",
    "reverse_kth_times(arr,0,k-1)\n",
    "reverse_kth_times(arr,k,n-1)"
   ]
  },
  {
   "cell_type": "code",
   "execution_count": 35,
   "metadata": {},
   "outputs": [
    {
     "data": {
      "text/plain": [
       "[1, 2, 100, 200, 3, 4, 5]"
      ]
     },
     "execution_count": 35,
     "metadata": {},
     "output_type": "execute_result"
    }
   ],
   "source": [
    "def make_output(l1,l2):\n",
    "    l3=[]\n",
    "    count=0\n",
    "    for i in l1:\n",
    "        if count==2:\n",
    "            l3.extend(l2)\n",
    "        l3.append(i)\n",
    "        count+=1\n",
    "\n",
    "    return l3\n",
    "\n",
    "l1=[1,2,3,4,5]\n",
    "l2=[100,200]\n",
    "make_output(l1,l2)"
   ]
  },
  {
   "cell_type": "code",
   "execution_count": 42,
   "metadata": {},
   "outputs": [],
   "source": [
    "l1.insert(2,l2[::])"
   ]
  },
  {
   "cell_type": "code",
   "execution_count": 43,
   "metadata": {},
   "outputs": [
    {
     "data": {
      "text/plain": [
       "[1, 2, [100, 200], [100, 200], 3, 4, 5, 2]"
      ]
     },
     "execution_count": 43,
     "metadata": {},
     "output_type": "execute_result"
    }
   ],
   "source": [
    "l1"
   ]
  },
  {
   "cell_type": "code",
   "execution_count": 45,
   "metadata": {},
   "outputs": [
    {
     "data": {
      "text/plain": [
       "[1, 2, 100, 200, 3, 4, 5]"
      ]
     },
     "execution_count": 45,
     "metadata": {},
     "output_type": "execute_result"
    }
   ],
   "source": [
    "def make_output(l1,l2):\n",
    "    l3=[]\n",
    "    count=2\n",
    "    for i in l2:\n",
    "        l1.insert(count,i)\n",
    "        count+=1\n",
    "\n",
    "    return l1\n",
    "\n",
    "l1=[1,2,3,4,5]\n",
    "l2=[100,200]\n",
    "make_output(l1,l2)"
   ]
  },
  {
   "cell_type": "code",
   "execution_count": null,
   "metadata": {},
   "outputs": [],
   "source": [
    "# django all queries\n",
    "# middilware\n",
    "# Signal\n",
    "# Authentication JWT\n",
    "# Decorator\n",
    "# Generator\n",
    "# Sql- where,limit,order-by, between, in, primary and foreign key, delete, truncate, drop \n",
    "# Project defination and role and responsibilities"
   ]
  },
  {
   "cell_type": "code",
   "execution_count": 46,
   "metadata": {},
   "outputs": [
    {
     "name": "stdout",
     "output_type": "stream",
     "text": [
      "0\n",
      "1\n",
      "1\n",
      "2\n",
      "3\n",
      "5\n",
      "8\n",
      "13\n",
      "21\n",
      "34\n"
     ]
    }
   ],
   "source": [
    "def fibonacci():\n",
    "    a, b = 0, 1\n",
    "    while True:\n",
    "        yield a\n",
    "        a, b = b, a + b\n",
    "\n",
    "# Usage\n",
    "fib_gen = fibonacci()\n",
    "\n",
    "# Get the first 10 Fibonacci numbers\n",
    "for _ in range(10):\n",
    "    print(next(fib_gen))"
   ]
  },
  {
   "cell_type": "code",
   "execution_count": null,
   "metadata": {},
   "outputs": [],
   "source": []
  }
 ],
 "metadata": {
  "kernelspec": {
   "display_name": "Python 3 (ipykernel)",
   "language": "python",
   "name": "python3"
  },
  "language_info": {
   "codemirror_mode": {
    "name": "ipython",
    "version": 3
   },
   "file_extension": ".py",
   "mimetype": "text/x-python",
   "name": "python",
   "nbconvert_exporter": "python",
   "pygments_lexer": "ipython3",
   "version": "3.10.12"
  }
 },
 "nbformat": 4,
 "nbformat_minor": 2
}
