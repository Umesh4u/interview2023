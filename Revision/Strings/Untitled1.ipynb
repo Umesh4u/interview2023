{
 "cells": [
  {
   "cell_type": "code",
   "execution_count": 3,
   "metadata": {},
   "outputs": [
    {
     "name": "stdout",
     "output_type": "stream",
     "text": [
      "This is monkey patching function\n"
     ]
    }
   ],
   "source": [
    "class All_data_display():\n",
    "    \n",
    "    def display(self):\n",
    "        print(\"Hello\")\n",
    "        \n",
    "def monkey_patching_func():\n",
    "    print(\"This is monkey patching function\")\n",
    "    \n",
    "obj=All_data_display()\n",
    "obj.display = monkey_patching_func()"
   ]
  },
  {
   "cell_type": "code",
   "execution_count": null,
   "metadata": {},
   "outputs": [],
   "source": [
    "class A():\n",
    "    pass\n",
    "\n",
    "class B():\n",
    "    pass\n",
    "\n",
    "class C(A,B,D):\n",
    "    pass"
   ]
  },
  {
   "cell_type": "code",
   "execution_count": null,
   "metadata": {},
   "outputs": [],
   "source": [
    "select distinct salary from employee order by salary desc limit 1 offset 4"
   ]
  },
  {
   "cell_type": "code",
   "execution_count": 5,
   "metadata": {},
   "outputs": [
    {
     "data": {
      "text/plain": [
       "'musuk'"
      ]
     },
     "execution_count": 5,
     "metadata": {},
     "output_type": "execute_result"
    }
   ],
   "source": [
    "name=\"kusum\"\n",
    "def reverseName(name):\n",
    "    reverse_name=\"\"\n",
    "    for index in range(len(name)-1,-1,-1):\n",
    "        reverse_name+=name[index]\n",
    "    return reverse_name\n",
    "\n",
    "reverseName(name)"
   ]
  },
  {
   "cell_type": "code",
   "execution_count": 8,
   "metadata": {},
   "outputs": [
    {
     "data": {
      "text/plain": [
       "{2: 2, 3: 3, 4: 1, 5: 3, 6: 1, 1: 1}"
      ]
     },
     "execution_count": 8,
     "metadata": {},
     "output_type": "execute_result"
    }
   ],
   "source": [
    "#Find occurance each number\n",
    "li = [2,3,4,5,2,6,1,5,3,3,5]\n",
    "\n",
    "def num_occurance(li):\n",
    "    occurance_dict={}\n",
    "    for num in li:\n",
    "#         if num in occurance_dict:\n",
    "        if occurance_dict.get(num):\n",
    "            occurance_dict[num]+=1\n",
    "        else:\n",
    "            occurance_dict[num]=1\n",
    "    return occurance_dict\n",
    "\n",
    "num_occurance(li)"
   ]
  },
  {
   "cell_type": "code",
   "execution_count": 12,
   "metadata": {},
   "outputs": [
    {
     "data": {
      "text/plain": [
       "{1: 'eno', 2: 'owT', 3: 'eerhT'}"
      ]
     },
     "execution_count": 12,
     "metadata": {},
     "output_type": "execute_result"
    }
   ],
   "source": [
    "dict1 = {1:\"one\", 2:\"Two\", 3:\"Three\"}\n",
    "# output={1:\"eno\", 2:\"owT\", 3:\"eerhT\"}\n",
    "\n",
    "def reverseValue(dict1):\n",
    "    for value in dict1:\n",
    "        dict1[value] = dict1[value][::-1]\n",
    "    return dict1\n",
    "\n",
    "reverseValue(dict1)"
   ]
  },
  {
   "cell_type": "code",
   "execution_count": null,
   "metadata": {},
   "outputs": [],
   "source": []
  }
 ],
 "metadata": {
  "kernelspec": {
   "display_name": "Python 3 (ipykernel)",
   "language": "python",
   "name": "python3"
  },
  "language_info": {
   "codemirror_mode": {
    "name": "ipython",
    "version": 3
   },
   "file_extension": ".py",
   "mimetype": "text/x-python",
   "name": "python",
   "nbconvert_exporter": "python",
   "pygments_lexer": "ipython3",
   "version": "3.10.12"
  }
 },
 "nbformat": 4,
 "nbformat_minor": 2
}
