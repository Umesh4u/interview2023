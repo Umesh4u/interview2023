{
 "cells": [
  {
   "cell_type": "code",
   "execution_count": 4,
   "metadata": {},
   "outputs": [
    {
     "data": {
      "text/plain": [
       "11"
      ]
     },
     "execution_count": 4,
     "metadata": {},
     "output_type": "execute_result"
    }
   ],
   "source": [
    "#Q1 Minimize cost\n",
    "a=[2,1,4]\n",
    "def minimizeCost(a):\n",
    "    a.sort(reverse=True)\n",
    "    \n",
    "    cost=0\n",
    "    for i in range(len(a)):\n",
    "        cost+=a[i]*(i+1)\n",
    "    \n",
    "    return cost\n",
    "minimizeCost(a)"
   ]
  },
  {
   "cell_type": "code",
   "execution_count": 6,
   "metadata": {},
   "outputs": [
    {
     "data": {
      "text/plain": [
       "3"
      ]
     },
     "execution_count": 6,
     "metadata": {},
     "output_type": "execute_result"
    }
   ],
   "source": [
    "#Q2. Given an array of distinct elements of size n, find the count of nobal inetger \n",
    "a=[1,-5,3,5,-10,4]\n",
    "#Brute Force approach\n",
    "def bruteForce(a):\n",
    "    smaller=0\n",
    "    for i in range(len(a)):\n",
    "        count=0\n",
    "        for j in range(len(a)):\n",
    "            if a[j]<a[i]:\n",
    "                count+=1\n",
    "        if a[i]==count:\n",
    "            smaller+=1\n",
    "    return smaller\n",
    "\n",
    "bruteForce(a)\n",
    "                "
   ]
  },
  {
   "cell_type": "code",
   "execution_count": 7,
   "metadata": {},
   "outputs": [
    {
     "data": {
      "text/plain": [
       "[2, 4, 5, 5, 6]"
      ]
     },
     "execution_count": 7,
     "metadata": {},
     "output_type": "execute_result"
    }
   ],
   "source": [
    "#Q3. Selection sort\n",
    "a=[2,6,4,5,5]\n",
    "\n",
    "def selectionSort(a):\n",
    "    minIdx=0\n",
    "    for i in range(len(a)):\n",
    "        minIdx=i\n",
    "        \n",
    "        for j in range(i+1,len(a)):\n",
    "            if a[minIdx]>a[j]:\n",
    "                minIdx=j\n",
    "        a[i],a[minIdx]=a[minIdx],a[i]\n",
    "    return a\n",
    "\n",
    "selectionSort(a)"
   ]
  },
  {
   "cell_type": "code",
   "execution_count": 8,
   "metadata": {},
   "outputs": [
    {
     "data": {
      "text/plain": [
       "[1, 3, 4, 5, 6, 9]"
      ]
     },
     "execution_count": 8,
     "metadata": {},
     "output_type": "execute_result"
    }
   ],
   "source": [
    "#Q4. Insertion sorting\n",
    "\n",
    "a=[4,3,1,9,6,5]\n",
    "def insertionSOrt(a):\n",
    "    for i in range(len(a)):\n",
    "        j=i-1\n",
    "        while j>=0 and a[j]>a[j+1]:\n",
    "            a[j],a[j+1]=a[j+1],a[j]\n",
    "            j-=1\n",
    "    return a\n",
    "insertionSOrt(a)"
   ]
  },
  {
   "cell_type": "code",
   "execution_count": null,
   "metadata": {},
   "outputs": [],
   "source": []
  }
 ],
 "metadata": {
  "kernelspec": {
   "display_name": "Python 3 (ipykernel)",
   "language": "python",
   "name": "python3"
  },
  "language_info": {
   "codemirror_mode": {
    "name": "ipython",
    "version": 3
   },
   "file_extension": ".py",
   "mimetype": "text/x-python",
   "name": "python",
   "nbconvert_exporter": "python",
   "pygments_lexer": "ipython3",
   "version": "3.10.12"
  }
 },
 "nbformat": 4,
 "nbformat_minor": 2
}
