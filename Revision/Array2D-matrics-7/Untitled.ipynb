{
 "cells": [
  {
   "cell_type": "code",
   "execution_count": 2,
   "metadata": {},
   "outputs": [
    {
     "name": "stdout",
     "output_type": "stream",
     "text": [
      "10\n",
      "26\n",
      "42\n"
     ]
    }
   ],
   "source": [
    "#Q1. Given 2D matrix mat[n][m], print row- wise sum\n",
    "mat=[[1,2,3,4],[5,6,7,8],[9,10,11,12]]\n",
    "\n",
    "def rowWiseSum(mat):\n",
    "    n=len(mat)\n",
    "    m=len(mat[0])\n",
    "    for i in range(n):\n",
    "        sum=0\n",
    "        for j in range(m):\n",
    "            sum+=mat[i][j]\n",
    "        print(sum)\n",
    "        \n",
    "\n",
    "rowWiseSum(mat)\n"
   ]
  },
  {
   "cell_type": "code",
   "execution_count": 3,
   "metadata": {},
   "outputs": [
    {
     "name": "stdout",
     "output_type": "stream",
     "text": [
      "15\n",
      "18\n",
      "21\n",
      "24\n"
     ]
    }
   ],
   "source": [
    "#Q2. Given 2D matrix mat[n][m] print column wise sum\n",
    "def colWiseSum(mat):\n",
    "    n=len(mat)\n",
    "    m=len(mat[0])\n",
    "    for j in range(m):\n",
    "        sum=0\n",
    "        for i in range(n):\n",
    "            sum+=mat[i][j]\n",
    "        print(sum)\n",
    "        \n",
    "\n",
    "colWiseSum(mat)\n"
   ]
  },
  {
   "cell_type": "code",
   "execution_count": 4,
   "metadata": {},
   "outputs": [
    {
     "name": "stdout",
     "output_type": "stream",
     "text": [
      "1\n",
      "5\n",
      "9\n"
     ]
    }
   ],
   "source": [
    "#Q3 Given a 2D square matrix mat[n][m] print:-\n",
    "#1) Principal Diagonal:- from left top to right bottom\n",
    "\n",
    "mat=[[1,2,3],[4,5,6],[7,8,9]]\n",
    "def principalDiagonal(mat):\n",
    "    for i in range(len(mat)):\n",
    "        print(mat[i][i])\n",
    "        \n",
    "principalDiagonal(mat)"
   ]
  },
  {
   "cell_type": "code",
   "execution_count": 7,
   "metadata": {},
   "outputs": [
    {
     "name": "stdout",
     "output_type": "stream",
     "text": [
      "3\n",
      "5\n",
      "7\n"
     ]
    }
   ],
   "source": [
    "#2) Anti Diagonal:- from top right to bottom left\n",
    "\n",
    "def antiDiagonal(mat):\n",
    "    j=len(mat)-1\n",
    "    for i in range(len(mat)):\n",
    "        print(mat[i][j])\n",
    "        j-=1\n",
    "antiDiagonal(mat)"
   ]
  },
  {
   "cell_type": "code",
   "execution_count": 17,
   "metadata": {},
   "outputs": [
    {
     "name": "stdout",
     "output_type": "stream",
     "text": [
      "1 \n",
      "2 5 \n",
      "3 6 9 \n",
      "4 7 10 \n",
      "8 11 \n",
      "12 \n"
     ]
    }
   ],
   "source": [
    "#Q4. Given a 2D matrix, print all the elements diagonally from right to left\n",
    "mat=[[1,2,3,4],[5,6,7,8],[9,10,11,12]]\n",
    "\n",
    "def allDiagonal(mat):\n",
    "    n=len(mat)\n",
    "    m=len(mat[0])\n",
    "    for col in range(m):\n",
    "        i,j=0,col\n",
    "        while i<n and j>=0:\n",
    "            print(mat[i][j],end=\" \")\n",
    "            i+=1\n",
    "            j-=1\n",
    "        print()\n",
    "        \n",
    "    for row in range(1,n):\n",
    "        i,j=row,m-1\n",
    "        while i<n and j>=0:\n",
    "            print(mat[i][j],end=\" \")\n",
    "            i+=1\n",
    "            j-=1\n",
    "        print()\n",
    "allDiagonal(mat)"
   ]
  },
  {
   "cell_type": "code",
   "execution_count": 21,
   "metadata": {},
   "outputs": [
    {
     "data": {
      "text/plain": [
       "[[1, 4, 7], [2, 5, 8], [3, 6, 9]]"
      ]
     },
     "execution_count": 21,
     "metadata": {},
     "output_type": "execute_result"
    }
   ],
   "source": [
    "#Q5. Given a 2D matrix[n][m], find transpose\n",
    "mat=[[1,2,3],[4,5,6],[7,8,9]]\n",
    "\n",
    "def transposeMat(mat):\n",
    "    n=len(mat)\n",
    "    m=len(mat[0])\n",
    "    for i in range(n):\n",
    "        for j in range(i+1,m):\n",
    "            mat[i][j],mat[j][i]=mat[j][i],mat[i][j]\n",
    "    return mat\n",
    "\n",
    "transposeMat(mat)"
   ]
  },
  {
   "cell_type": "code",
   "execution_count": 22,
   "metadata": {},
   "outputs": [
    {
     "data": {
      "text/plain": [
       "[[1, 4, 7], [2, 5, 8], [3, 6, 9]]"
      ]
     },
     "execution_count": 22,
     "metadata": {},
     "output_type": "execute_result"
    }
   ],
   "source": [
    "#Q6.Given a 2D matrix[n][m], rotate it to 90 degree clock wise\n",
    "mat=[[1,2,3],[4,5,6],[7,8,9]]\n",
    "\n",
    "def rotate90degree(mat):\n",
    "    n=len(mat)\n",
    "    m=len(mat[0])\n",
    "    mat = transposeMat(mat)\n",
    "    print(mat)\n",
    "#     for i in range(n):\n",
    "#         for j in range(i+1,m):\n",
    "#             mat[i][j],mat[j][i]=mat[j][i],mat[i][j]\n",
    "#     return mat\n",
    "\n",
    "transposeMat(mat)"
   ]
  },
  {
   "cell_type": "code",
   "execution_count": null,
   "metadata": {},
   "outputs": [],
   "source": []
  }
 ],
 "metadata": {
  "kernelspec": {
   "display_name": "Python 3 (ipykernel)",
   "language": "python",
   "name": "python3"
  },
  "language_info": {
   "codemirror_mode": {
    "name": "ipython",
    "version": 3
   },
   "file_extension": ".py",
   "mimetype": "text/x-python",
   "name": "python",
   "nbconvert_exporter": "python",
   "pygments_lexer": "ipython3",
   "version": "3.10.12"
  }
 },
 "nbformat": 4,
 "nbformat_minor": 2
}
