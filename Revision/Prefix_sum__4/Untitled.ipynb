{
 "cells": [
  {
   "cell_type": "code",
   "execution_count": 5,
   "metadata": {},
   "outputs": [
    {
     "data": {
      "text/plain": [
       "[10, 42, 48, 60, 80, 81]"
      ]
     },
     "execution_count": 5,
     "metadata": {},
     "output_type": "execute_result"
    }
   ],
   "source": [
    "#traditional approach\n",
    "\n",
    "arr=[10,32,6,12,20,1]\n",
    "pf=[]\n",
    "for i in range(len(arr)):\n",
    "    sum=0\n",
    "    j=0\n",
    "    while j<=i:\n",
    "        sum+=arr[j]\n",
    "        j+=1\n",
    "    pf.append(sum)\n",
    "pf"
   ]
  },
  {
   "cell_type": "code",
   "execution_count": 6,
   "metadata": {},
   "outputs": [
    {
     "data": {
      "text/plain": [
       "[10, 42, 48, 60, 80, 81]"
      ]
     },
     "execution_count": 6,
     "metadata": {},
     "output_type": "execute_result"
    }
   ],
   "source": [
    "arr=[10,32,6,12,20,1]\n",
    "pf=[]\n",
    "pf.append(arr[0])\n",
    "\n",
    "for i in range(1,len(arr)):\n",
    "    pf.append(pf[i-1]+arr[i])\n",
    "pf"
   ]
  },
  {
   "cell_type": "code",
   "execution_count": 14,
   "metadata": {},
   "outputs": [
    {
     "name": "stdout",
     "output_type": "stream",
     "text": [
      "[-3, 3, 5, 9, 14, 16, 24, 15, 18, 19]\n",
      "9\n",
      "10\n",
      "12\n",
      "14\n",
      "-9\n"
     ]
    }
   ],
   "source": [
    "#find values from queries\n",
    "A=[-3,6,2,4,5,2,8,-9,3,1]\n",
    "Q=[[4,8],[3,7],[1,3],[0,4],[7,7]]\n",
    "\n",
    "pf=[]\n",
    "pf.append(A[0])\n",
    "for i in range(1,len(A)):\n",
    "    pf.append(pf[i-1]+A[i])\n",
    "\n",
    "for j in Q:\n",
    "    l=j[0]\n",
    "    r=j[1]\n",
    "    \n",
    "    sum=0\n",
    "    if l==0:\n",
    "        sum=pf[r]\n",
    "    else:\n",
    "        sum=pf[r]-pf[l-1]\n",
    "    print(sum)\n",
    "        "
   ]
  },
  {
   "cell_type": "code",
   "execution_count": 15,
   "metadata": {},
   "outputs": [
    {
     "data": {
      "text/plain": [
       "[-3, 3, 5, 9, 14, 16, 24, 15, 18, 19]"
      ]
     },
     "execution_count": 15,
     "metadata": {},
     "output_type": "execute_result"
    }
   ],
   "source": [
    "def pfInplace(A):\n",
    "    for i in range(1,len(A)):\n",
    "        A[i]=A[i-1]+A[i]\n",
    "    return A\n",
    "pfInplace(A)\n",
    "A"
   ]
  },
  {
   "cell_type": "code",
   "execution_count": 4,
   "metadata": {},
   "outputs": [
    {
     "name": "stdout",
     "output_type": "stream",
     "text": [
      "1\n",
      "5\n",
      "7\n",
      "0\n"
     ]
    }
   ],
   "source": [
    "def evenIndex(A,Q):\n",
    "    pf =[A[0]]\n",
    "    for i in range(1,len(A)):\n",
    "        if i%2==0:\n",
    "            pf.append(pf[i-1]+A[i])\n",
    "        else:\n",
    "            pf.append(pf[i-1])\n",
    "            \n",
    "    for j in Q:\n",
    "        l=j[0]\n",
    "        r=j[1]\n",
    "        if l==0:\n",
    "            print(pf[r])\n",
    "        else:\n",
    "            print(pf[r]-pf[l-1])\n",
    "              \n",
    "              \n",
    "              \n",
    "A=[2,3,1,6,4,5]\n",
    "Q=[[1,3],[2,5],[0,4],[3,3]]\n",
    "evenIndex(A,Q)"
   ]
  },
  {
   "cell_type": "code",
   "execution_count": null,
   "metadata": {},
   "outputs": [],
   "source": [
    "# Special Index is pending\n"
   ]
  }
 ],
 "metadata": {
  "kernelspec": {
   "display_name": "Python 3 (ipykernel)",
   "language": "python",
   "name": "python3"
  },
  "language_info": {
   "codemirror_mode": {
    "name": "ipython",
    "version": 3
   },
   "file_extension": ".py",
   "mimetype": "text/x-python",
   "name": "python",
   "nbconvert_exporter": "python",
   "pygments_lexer": "ipython3",
   "version": "3.10.12"
  }
 },
 "nbformat": 4,
 "nbformat_minor": 2
}
