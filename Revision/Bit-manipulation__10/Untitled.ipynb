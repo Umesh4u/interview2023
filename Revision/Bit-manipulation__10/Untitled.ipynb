{
 "cells": [
  {
   "cell_type": "code",
   "execution_count": 35,
   "metadata": {},
   "outputs": [
    {
     "data": {
      "text/plain": [
       "8"
      ]
     },
     "execution_count": 35,
     "metadata": {},
     "output_type": "execute_result"
    }
   ],
   "source": [
    "#Binary to decimal with using string\n",
    "A=\"1000\"\n",
    "def binaryToDecimal(A):\n",
    "    sum=0\n",
    "    count=0\n",
    "    for i in range(len(A)-1,-1,-1):\n",
    "        sum+=int(A[i])*(2**count)\n",
    "        count+=1\n",
    "    return sum\n",
    "binaryToDecimal(A)"
   ]
  },
  {
   "cell_type": "code",
   "execution_count": 36,
   "metadata": {},
   "outputs": [
    {
     "data": {
      "text/plain": [
       "8"
      ]
     },
     "execution_count": 36,
     "metadata": {},
     "output_type": "execute_result"
    }
   ],
   "source": [
    "#Binary to decimal with using numbers\n",
    "\n",
    "A=1000\n",
    "def binaryToDecimal(A):\n",
    "    sum=0\n",
    "    count=0\n",
    "    while A>0:\n",
    "        rem = A%10\n",
    "        A=A//10\n",
    "        sum+=rem*(2**count)\n",
    "        count+=1\n",
    "    return sum\n",
    "\n",
    "binaryToDecimal(A)"
   ]
  },
  {
   "cell_type": "code",
   "execution_count": 34,
   "metadata": {},
   "outputs": [
    {
     "data": {
      "text/plain": [
       "'101101'"
      ]
     },
     "execution_count": 34,
     "metadata": {},
     "output_type": "execute_result"
    }
   ],
   "source": [
    "#Decimal to Binary\n",
    "A=45\n",
    "def decimalToBinary(A):\n",
    "    binary=\"\"\n",
    "    while A>0:\n",
    "        if A%2==0:\n",
    "            binary+=\"0\"\n",
    "        else:\n",
    "            binary+=\"1\"\n",
    "        A=A//2\n",
    "    return binary[::-1]\n",
    "\n",
    "decimalToBinary(A)"
   ]
  },
  {
   "cell_type": "code",
   "execution_count": 47,
   "metadata": {},
   "outputs": [
    {
     "data": {
      "text/plain": [
       "232"
      ]
     },
     "execution_count": 47,
     "metadata": {},
     "output_type": "execute_result"
    }
   ],
   "source": [
    "#Addition of 2 decimal nos\n",
    "A=89\n",
    "B=143\n",
    "def Add2DecimalNos(A,B):\n",
    "    carry=0\n",
    "    count=0\n",
    "    ans=0\n",
    "    while A>0 or B>0:\n",
    "        d1=A%10\n",
    "        d2=B%10\n",
    "        sum=d1+d2+carry\n",
    "        rem=sum%10\n",
    "        ans+=rem*(10**count)\n",
    "        A=A//10\n",
    "        B=B//10\n",
    "        count+=1\n",
    "        carry=sum//10\n",
    "    return ans\n",
    "Add2DecimalNos(A,B)      \n",
    "    "
   ]
  },
  {
   "cell_type": "code",
   "execution_count": 65,
   "metadata": {},
   "outputs": [
    {
     "name": "stdout",
     "output_type": "stream",
     "text": [
      "d1:1, d2:0,carry:0,sum:1,rem:1,ans:1,A:11010,B:10011\n",
      "d1:0, d2:1,carry:0,sum:1,rem:1,ans:11,A:1101,B:1001\n",
      "d1:1, d2:1,carry:0,sum:2,rem:0,ans:110,A:110,B:100\n",
      "d1:0, d2:0,carry:1,sum:1,rem:1,ans:1101,A:11,B:10\n",
      "d1:1, d2:0,carry:0,sum:1,rem:1,ans:11011,A:1,B:1\n",
      "d1:1, d2:1,carry:0,sum:2,rem:0,ans:110110,A:0,B:0\n"
     ]
    },
    {
     "data": {
      "text/plain": [
       "'1011011'"
      ]
     },
     "execution_count": 65,
     "metadata": {},
     "output_type": "execute_result"
    }
   ],
   "source": [
    "#Addition of 2 Binary nos\n",
    "A=\"110101\"\n",
    "B=\"100110\"\n",
    "def Add2BinaryNos(A,B):\n",
    "    A=int(A)\n",
    "    B=int(B)\n",
    "    carry=0\n",
    "    ans=\"\"\n",
    "    while A>0 or B>0:\n",
    "        d1=A%10\n",
    "        d2=B%10\n",
    "        sum=d1+d2+carry\n",
    "        rem=sum%2\n",
    "        ans+=str(rem)\n",
    "        A=A//10\n",
    "        B=B//10\n",
    "#         print(f\"d1:{d1}, d2:{d2},carry:{carry},sum:{sum},rem:{rem},ans:{ans},A:{A},B:{B}\")\n",
    "        carry=sum//2\n",
    "    if carry >0:\n",
    "        ans+=str(carry)\n",
    "        \n",
    "    return ans[::-1]\n",
    "Add2BinaryNos(A,B)      \n",
    "    "
   ]
  },
  {
   "cell_type": "code",
   "execution_count": 54,
   "metadata": {},
   "outputs": [
    {
     "data": {
      "text/plain": [
       "0"
      ]
     },
     "execution_count": 54,
     "metadata": {},
     "output_type": "execute_result"
    }
   ],
   "source": [
    "2%2"
   ]
  },
  {
   "cell_type": "code",
   "execution_count": null,
   "metadata": {},
   "outputs": [],
   "source": [
    "arr = [0,1,2,3,4]\n",
    "n=5\n",
    "s=7\n",
    "def findIndex(arr,n,s):\n",
    "    i=0\n",
    "    j=1\n",
    "    if len(arr)==1:\n",
    "        if arr[0]==s:\n",
    "            return 1,1\n",
    "        else:\n",
    "            return -1\n",
    "    else:\n",
    "        sum=arr[i]+arr[j]\n",
    "        \n",
    "        while i<j:\n",
    "            if sum >s:\n",
    "                sum-=arr[i]\n",
    "                i+=1\n",
    "            elif sum<s:\n",
    "                print(sum,s,j)\n",
    "                j+=1\n",
    "                sum+=arr[j]\n",
    "                print(sum,j,arr[j])\n",
    "            elif sum==s:\n",
    "                return i+1, j+1\n",
    "\n",
    "        return -1\n",
    "\n",
    "findIndex(arr,n,s)\n"
   ]
  },
  {
   "cell_type": "code",
   "execution_count": null,
   "metadata": {},
   "outputs": [],
   "source": []
  },
  {
   "cell_type": "code",
   "execution_count": null,
   "metadata": {},
   "outputs": [],
   "source": []
  }
 ],
 "metadata": {
  "kernelspec": {
   "display_name": "Python 3 (ipykernel)",
   "language": "python",
   "name": "python3"
  },
  "language_info": {
   "codemirror_mode": {
    "name": "ipython",
    "version": 3
   },
   "file_extension": ".py",
   "mimetype": "text/x-python",
   "name": "python",
   "nbconvert_exporter": "python",
   "pygments_lexer": "ipython3",
   "version": "3.10.12"
  }
 },
 "nbformat": 4,
 "nbformat_minor": 2
}
