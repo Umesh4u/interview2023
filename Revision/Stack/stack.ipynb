{
 "cells": [
  {
   "cell_type": "code",
   "execution_count": 12,
   "metadata": {},
   "outputs": [
    {
     "name": "stdout",
     "output_type": "stream",
     "text": [
      "{'{': '}', '(': ')', '[': ']'} ]\n",
      "Not Valid\n"
     ]
    }
   ],
   "source": [
    "#balanced brackets\n",
    "x=\"([]\"\n",
    "def BalanceBracket(x):\n",
    "    matches={\"{\":\"}\",\"(\":\")\",\"[\":\"]\"}\n",
    "    stack=[]\n",
    "    for brace in x:\n",
    "        if brace == '{' or brace == '(' or brace == '[':\n",
    "            stack.append(brace)\n",
    "        else:\n",
    "            if len(stack)==0:\n",
    "                return False\n",
    "            else:\n",
    "                print(matches,brace)\n",
    "                if matches[stack.pop()]!=brace:\n",
    "                    return False\n",
    "    if len(stack)>0:\n",
    "        return False\n",
    "    else:\n",
    "        return True\n",
    "                    \n",
    "            \n",
    "Y=BalanceBracket(x)\n",
    "if Y:\n",
    "    print(\"Balanced\")\n",
    "else:\n",
    "    print(\"Not Valid\")"
   ]
  },
  {
   "cell_type": "code",
   "execution_count": 17,
   "metadata": {},
   "outputs": [
    {
     "data": {
      "text/plain": [
       "'cx'"
      ]
     },
     "execution_count": 17,
     "metadata": {},
     "output_type": "execute_result"
    }
   ],
   "source": [
    "a=\"abbcbbcacx\"\n",
    "def remove_equal_pair(a):\n",
    "    stack=[]\n",
    "    for elem in a:\n",
    "        if len(stack)>0 and stack[-1]==elem:\n",
    "            stack.pop()\n",
    "        else:\n",
    "            stack.append(elem)\n",
    "            \n",
    "    return ''.join(stack)\n",
    "\n",
    "remove_equal_pair(a)"
   ]
  },
  {
   "cell_type": "code",
   "execution_count": null,
   "metadata": {},
   "outputs": [],
   "source": []
  }
 ],
 "metadata": {
  "kernelspec": {
   "display_name": "Python 3 (ipykernel)",
   "language": "python",
   "name": "python3"
  },
  "language_info": {
   "codemirror_mode": {
    "name": "ipython",
    "version": 3
   },
   "file_extension": ".py",
   "mimetype": "text/x-python",
   "name": "python",
   "nbconvert_exporter": "python",
   "pygments_lexer": "ipython3",
   "version": "3.10.12"
  }
 },
 "nbformat": 4,
 "nbformat_minor": 2
}
