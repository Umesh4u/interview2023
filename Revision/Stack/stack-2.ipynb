{
 "cells": [
  {
   "cell_type": "code",
   "execution_count": 3,
   "metadata": {},
   "outputs": [
    {
     "name": "stdout",
     "output_type": "stream",
     "text": [
      "[] [] 4\n",
      "[4] [-1] 5\n",
      "[4] [-1, 4] 2\n",
      "[2] [-1, 4] 10\n",
      "[2] [-1, 4, 2] 8\n",
      "[2] [-1, 4, 2, 2] 2\n"
     ]
    },
    {
     "data": {
      "text/plain": [
       "[-1, 4, 2, 2]"
      ]
     },
     "execution_count": 3,
     "metadata": {},
     "output_type": "execute_result"
    }
   ],
   "source": [
    "#nearest Element\n",
    "a=[4,5,2,10,8,2]\n",
    "def nearest_element(a):\n",
    "    stack=[]\n",
    "    res=[]\n",
    "    for val in a:\n",
    "        print(stack,res,val)\n",
    "        if len(stack)==0:\n",
    "            res.append(-1)\n",
    "            stack.append(val)\n",
    "        elif stack[-1]>=val:\n",
    "            stack.pop()\n",
    "            stack.append(val)\n",
    "        elif stack[-1]<val:\n",
    "            res.append(stack[-1])\n",
    "    return res\n",
    "nearest_element(a)"
   ]
  },
  {
   "cell_type": "code",
   "execution_count": 6,
   "metadata": {},
   "outputs": [],
   "source": [
    "A=[4, 7, 3, 8]\n",
    "def sumSubarrayMins(A, n):\n",
    "    left, right = [None] * n, [None] * n \n",
    "    # Use list as stack \n",
    "    s1, s2 = [], []  \n",
    "    # getting number of element strictly  \n",
    "    # larger than A[i] on Left.  \n",
    "    for i in range(0, n):  \n",
    "        cnt = 1\n",
    "        # get elements from stack until  \n",
    "        # element greater than A[i] found  \n",
    "        while len(s1) > 0 and s1[-1][0] >= A[i]:  \n",
    "            cnt += s1[-1][1]  \n",
    "            s1.pop()  \n",
    "        s1.append([A[i], cnt])  \n",
    "        left[i] = cnt  \n",
    "    # getting number of element \n",
    "    # larger than A[i] on Right.  \n",
    "    for i in range(n - 1, -1, -1):  \n",
    "        cnt = 1\n",
    "        # get elements from stack until  \n",
    "        # element greater or equal to A[i] found  \n",
    "        while len(s2) > 0 and s2[-1][0] > A[i]:  \n",
    "            cnt += s2[-1][1]  \n",
    "            s2.pop()  \n",
    "        s2.append([A[i], cnt])  \n",
    "        right[i] = cnt  \n",
    "    result = 0\n",
    "    # calculating required result  \n",
    "    for i in range(0, n):  \n",
    "        result += A[i] * left[i] * right[i]  \n",
    "    return result\n",
    "    \n",
    "def sumSubarrayMax(A, n):  \n",
    "    left, right = [None] * n, [None] * n  \n",
    "    # Use list as stack \n",
    "    s1, s2 = [], []  \n",
    "    # getting number of element strictly  \n",
    "    # larger than A[i] on Left.  \n",
    "    for i in range(0, n):  \n",
    "        cnt = 1\n",
    "        # get elements from stack until  \n",
    "        # element greater than A[i] found  \n",
    "        print(s1)\n",
    "        while len(s1) > 0 and s1[-1][0] <= A[i]: \n",
    "            print(s1[-1][0])\n",
    "\n",
    "            cnt += s1[-1][1]  \n",
    "            s1.pop()  \n",
    "        s1.append([A[i], cnt])  \n",
    "        left[i] = cnt  \n",
    "    # getting number of element \n",
    "    # larger than A[i] on Right.  \n",
    "    for i in range(n - 1, -1, -1):  \n",
    "        cnt = 1\n",
    "        # get elements from stack until  \n",
    "        # element greater or equal to A[i] found  \n",
    "        while len(s2) > 0 and s2[-1][0] < A[i]:  \n",
    "            cnt += s2[-1][1]  \n",
    "            s2.pop()  \n",
    "        s2.append([A[i], cnt])  \n",
    "        right[i] = cnt  \n",
    "    result = 0\n",
    "    # calculating required result\n",
    "    for i in range(0, n):  \n",
    "        result += A[i] * left[i] * right[i]  \n",
    "    return result\n",
    "    \n",
    "class Solution:\n",
    "    # @param A : list of integers\n",
    "    # @return an integer\n",
    "    def solve(self, A):\n",
    "        n = len(A)\n",
    "        ans = 0\n",
    "        ans = sumSubarrayMax(A, n) - sumSubarrayMins(A, n)\n",
    "        return ans % 1000000007"
   ]
  },
  {
   "cell_type": "code",
   "execution_count": 7,
   "metadata": {},
   "outputs": [
    {
     "name": "stdout",
     "output_type": "stream",
     "text": [
      "[]\n",
      "[[4, 1]]\n",
      "4\n",
      "[[7, 2]]\n",
      "[[7, 2], [3, 1]]\n",
      "3\n",
      "7\n"
     ]
    },
    {
     "data": {
      "text/plain": [
       "26"
      ]
     },
     "execution_count": 7,
     "metadata": {},
     "output_type": "execute_result"
    }
   ],
   "source": [
    "obj=Solution()\n",
    "obj.solve(A)"
   ]
  },
  {
   "cell_type": "code",
   "execution_count": 11,
   "metadata": {},
   "outputs": [
    {
     "data": {
      "text/plain": [
       "[1, 2, 3, 4, 5]"
      ]
     },
     "execution_count": 11,
     "metadata": {},
     "output_type": "execute_result"
    }
   ],
   "source": [
    "A = [5, 4, 3, 2, 1]\n",
    "def sortStack(A):\n",
    "    s1=[]\n",
    "    while len(A)>0:\n",
    "        temp = A.pop()\n",
    "        while len(s1)>0 and temp<s1[-1]:\n",
    "            A.append(s1.pop())\n",
    "        s1.append(temp)\n",
    "    return s1\n",
    "\n",
    "sortStack(A)\n",
    "        \n",
    "        \n",
    "            "
   ]
  },
  {
   "cell_type": "code",
   "execution_count": null,
   "metadata": {},
   "outputs": [],
   "source": []
  }
 ],
 "metadata": {
  "kernelspec": {
   "display_name": "Python 3 (ipykernel)",
   "language": "python",
   "name": "python3"
  },
  "language_info": {
   "codemirror_mode": {
    "name": "ipython",
    "version": 3
   },
   "file_extension": ".py",
   "mimetype": "text/x-python",
   "name": "python",
   "nbconvert_exporter": "python",
   "pygments_lexer": "ipython3",
   "version": "3.10.12"
  }
 },
 "nbformat": 4,
 "nbformat_minor": 2
}
