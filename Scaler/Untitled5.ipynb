{
 "cells": [
  {
   "cell_type": "code",
   "execution_count": 3,
   "metadata": {},
   "outputs": [],
   "source": []
  },
  {
   "cell_type": "code",
   "execution_count": null,
   "metadata": {},
   "outputs": [],
   "source": []
  },
  {
   "cell_type": "code",
   "execution_count": null,
   "metadata": {},
   "outputs": [],
   "source": []
  },
  {
   "cell_type": "code",
   "execution_count": 53,
   "metadata": {},
   "outputs": [
    {
     "data": {
      "text/plain": [
       "2"
      ]
     },
     "execution_count": 53,
     "metadata": {},
     "output_type": "execute_result"
    }
   ],
   "source": [
    "list1=[2,2,6,4,5,6,1,5,2,6,4,1]\n",
    "max1=max(list1)\n",
    "min1=min(list1)\n",
    "count=12\n",
    "for s in range(len(list1)):\n",
    "    for e in range(s,len(list1)):    \n",
    "        if (list1[s]==max1 and list1[e]==min1) or (list1[s]==min1 and list1[e]==max1):\n",
    "            ranges=e-s+1\n",
    "            count=min(count,ranges)\n",
    "count\n",
    "\n",
    "   "
   ]
  },
  {
   "cell_type": "code",
   "execution_count": 14,
   "metadata": {},
   "outputs": [
    {
     "data": {
      "text/plain": [
       "3"
      ]
     },
     "execution_count": 14,
     "metadata": {},
     "output_type": "execute_result"
    }
   ],
   "source": [
    "0,2=2-0+1"
   ]
  },
  {
   "cell_type": "code",
   "execution_count": null,
   "metadata": {},
   "outputs": [],
   "source": [
    "li=[1,5,7,9,3,2]\n",
    "target=12\n"
   ]
  },
  {
   "cell_type": "code",
   "execution_count": 22,
   "metadata": {},
   "outputs": [
    {
     "data": {
      "text/plain": [
       "6"
      ]
     },
     "execution_count": 22,
     "metadata": {},
     "output_type": "execute_result"
    }
   ],
   "source": [
    "A=\"ABEC\"\n",
    "ans=0\n",
    "v=0\n",
    "n=len(A)-1\n",
    "for s in range(n+1):\n",
    "    if A[s].upper() in ['A','E','I','O','U']:\n",
    "        ans+=(n-s)+1\n",
    "\n",
    "    \n",
    "ans%10003\n",
    "            "
   ]
  },
  {
   "cell_type": "code",
   "execution_count": 48,
   "metadata": {},
   "outputs": [
    {
     "name": "stdout",
     "output_type": "stream",
     "text": [
      "abba\n"
     ]
    }
   ],
   "source": [
    "A = \"abba\"\n",
    "ans=0\n",
    "start=0\n",
    "end=0\n",
    "for c in range(len(A)):\n",
    "    i=c\n",
    "    j=c\n",
    "    while i>=0 and j<len(A):\n",
    "        if A[i]!=A[j]:\n",
    "            break;\n",
    "        i-=1\n",
    "        j+=1\n",
    "    temp=ans\n",
    "    ans=max(ans,j-1-i)\n",
    "    if ans!=temp:\n",
    "        start=i+1\n",
    "        end=j\n",
    "\n",
    "for c in range(len(A)):\n",
    "    i=c\n",
    "    j=c+1\n",
    "    while i>=0 and j<len(A):\n",
    "        if A[i]!=A[j]:\n",
    "            break;\n",
    "        i-=1\n",
    "        j+=1\n",
    "    temp=ans\n",
    "    ans=max(ans,j-1-i)\n",
    "    if ans!=temp:\n",
    "        start=i+1\n",
    "        end=j\n",
    "  \n",
    "print(A[start:end])\n"
   ]
  },
  {
   "cell_type": "code",
   "execution_count": 58,
   "metadata": {},
   "outputs": [
    {
     "name": "stdout",
     "output_type": "stream",
     "text": [
      "0 0 a a\n",
      "1 0 a a\n",
      "2 0 a a\n",
      "0 1 b b\n",
      "1 1 b b\n",
      "2 1 b b\n"
     ]
    },
    {
     "data": {
      "text/plain": [
       "'ab'"
      ]
     },
     "execution_count": 58,
     "metadata": {},
     "output_type": "execute_result"
    }
   ],
   "source": [
    "A = [\"abab\", \"ab\", \"abcd\"]\n",
    "length=100\n",
    "for i in range(len(A)):\n",
    "    length=min(length,len(A[i]))\n",
    "length\n",
    "a=\"\"  \n",
    "for i in range(length):\n",
    "    s=A[0][i]\n",
    "    l=len(A)-1\n",
    "    j=0\n",
    "    flag=False\n",
    "    while j<=l:\n",
    "        if s!=A[j][i]:\n",
    "            flag=True\n",
    "            break;\n",
    "        j+=1\n",
    "    if flag:\n",
    "        break;\n",
    "    a+=s\n",
    "\n",
    "a"
   ]
  },
  {
   "cell_type": "code",
   "execution_count": null,
   "metadata": {},
   "outputs": [],
   "source": []
  }
 ],
 "metadata": {
  "kernelspec": {
   "display_name": "Python 3 (ipykernel)",
   "language": "python",
   "name": "python3"
  },
  "language_info": {
   "codemirror_mode": {
    "name": "ipython",
    "version": 3
   },
   "file_extension": ".py",
   "mimetype": "text/x-python",
   "name": "python",
   "nbconvert_exporter": "python",
   "pygments_lexer": "ipython3",
   "version": "3.10.12"
  }
 },
 "nbformat": 4,
 "nbformat_minor": 2
}
