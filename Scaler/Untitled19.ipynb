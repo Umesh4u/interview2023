{
 "cells": [
  {
   "cell_type": "code",
   "execution_count": 17,
   "metadata": {},
   "outputs": [
    {
     "name": "stdout",
     "output_type": "stream",
     "text": [
      "[False, False, True, True, False, True, False, True, False, False]\n"
     ]
    },
    {
     "data": {
      "text/plain": [
       "[7]"
      ]
     },
     "execution_count": 17,
     "metadata": {},
     "output_type": "execute_result"
    }
   ],
   "source": [
    "import math\n",
    "def solve(A,B):\n",
    "    n=B\n",
    "    p=[True]*(n+1)\n",
    "    p[0],p[1]=False,False\n",
    "    for i in range(2,int(math.sqrt(n)+1)):\n",
    "        if p[i]==True:\n",
    "            j=i*i\n",
    "            while j<=n:\n",
    "                p[j]=False\n",
    "                j+=i\n",
    "#         if i<A:\n",
    "#             p[i]=False\n",
    "    li=[]\n",
    "    print(p)\n",
    "#     for i in range(len(p)):\n",
    "#         if i <A:\n",
    "#             p[i]=False\n",
    "    for i in range(len(p)):\n",
    "        if i<A:\n",
    "            p[i]=False\n",
    "        if p[i]:\n",
    "            li.append(i)\n",
    "    return li\n",
    "solve(7,9)\n"
   ]
  },
  {
   "cell_type": "code",
   "execution_count": 14,
   "metadata": {},
   "outputs": [
    {
     "name": "stdout",
     "output_type": "stream",
     "text": [
      "4\n",
      "4\n"
     ]
    },
    {
     "data": {
      "text/plain": [
       "[2, 3, 4, 5, 6, 7, 8, 9]"
      ]
     },
     "execution_count": 14,
     "metadata": {},
     "output_type": "execute_result"
    }
   ],
   "source": [
    "def solve(A):\n",
    "    n=A\n",
    "    p=[True]*(n+1)\n",
    "    p[0],p[1]=False,False\n",
    "    for i in range(2,:\n",
    "        print(int(math.sqrt(n))+1)\n",
    "        if p[i]==True:\n",
    "            j=i*i\n",
    "            while j<=n:\n",
    "                p[j]=False\n",
    "                j+=i\n",
    "    li=[]\n",
    "    for i in range(len(p)):\n",
    "        if p[i]:\n",
    "            li.append(i)\n",
    "    return li\n",
    "solve(9)"
   ]
  },
  {
   "cell_type": "code",
   "execution_count": null,
   "metadata": {},
   "outputs": [],
   "source": [
    "class Parent(){\n",
    "    parent(){\n",
    "        system.out.println(\"paranet cs\")\n",
    "    }\n",
    "}\n",
    "class Child extends Parent(){\n",
    "    child(){\n",
    "        system.out.println(\"child cs\")\n",
    "    }\n",
    "}\n",
    "public class Test(){\n",
    "    public static void main(String[] args){\n",
    "        Child c=new Child()\n",
    "    }\n",
    "}"
   ]
  },
  {
   "cell_type": "code",
   "execution_count": 20,
   "metadata": {},
   "outputs": [
    {
     "data": {
      "text/plain": [
       "2"
      ]
     },
     "execution_count": 20,
     "metadata": {},
     "output_type": "execute_result"
    }
   ],
   "source": [
    "def pows(A, B, C):\n",
    "    if C == 0:\n",
    "        return 0\n",
    "    if B == 0:\n",
    "        return 1 % C\n",
    "    temp = pows(A,B//2,C)\n",
    "\n",
    "    if B % 2 == 0:\n",
    "        return  temp * temp % C\n",
    "    else:\n",
    "        return temp * temp * A % C\n",
    "    \n",
    "pows(2,3,3)"
   ]
  },
  {
   "cell_type": "code",
   "execution_count": 21,
   "metadata": {},
   "outputs": [
    {
     "name": "stdout",
     "output_type": "stream",
     "text": [
      "{17: 1, 4: 1, 12: 1, 10: 1, 5: 1}\n",
      "17\n",
      "4\n",
      "12\n",
      "10\n",
      "5\n"
     ]
    },
    {
     "data": {
      "text/plain": [
       "5"
      ]
     },
     "execution_count": 21,
     "metadata": {},
     "output_type": "execute_result"
    }
   ],
   "source": [
    "def uniqueElem(A):\n",
    "    dict1={}\n",
    "    count=0\n",
    "    for i in range(len(A)):\n",
    "        if A[i] in dict1:\n",
    "            dict1[A[i]]+=1\n",
    "        else:\n",
    "            dict1[A[i]]=1\n",
    "    for i in dict1:\n",
    "        if dict1[i]==1:\n",
    "            count+=1\n",
    "    return count\n",
    " \n",
    "        \n",
    "A = [17,4,12,10,5]\n",
    "uniqueElem(A)"
   ]
  },
  {
   "cell_type": "code",
   "execution_count": 26,
   "metadata": {},
   "outputs": [
    {
     "data": {
      "text/plain": [
       "4"
      ]
     },
     "execution_count": 26,
     "metadata": {},
     "output_type": "execute_result"
    }
   ],
   "source": [
    "def uniqueElem(A):\n",
    "    setElem=set(A)\n",
    "    return len(setElem)\n",
    "\n",
    " \n",
    "        \n",
    "A = [17,4,4,10,5]\n",
    "uniqueElem(A)"
   ]
  },
  {
   "cell_type": "code",
   "execution_count": 42,
   "metadata": {},
   "outputs": [
    {
     "data": {
      "text/plain": [
       "True"
      ]
     },
     "execution_count": 42,
     "metadata": {},
     "output_type": "execute_result"
    }
   ],
   "source": [
    "def solve(A):\n",
    "    pf=[A[0]]\n",
    "    for i in range(1,len(A)):\n",
    "        pf.append(pf[i-1]+A[i])\n",
    "        if pf[i]==0:\n",
    "            return True\n",
    "    print(pf)\n",
    "    uset=set(pf)\n",
    "    if len(uset)==len(A):\n",
    "        return 0\n",
    "    else:\n",
    "        count=1\n",
    "        for i in range(len(pf)):\n",
    "            for j in range(i,len(pf)):\n",
    "                if pf[j]-pf[i-1]==0:\n",
    "                    print(pf[j],pf[i-1],pf[j]-pf[i-1])\n",
    "                    count+=1\n",
    "            \n",
    "    return count\n",
    "A=[1, -1, -2, 2]\n",
    "solve(A)\n",
    "        \n",
    "        "
   ]
  },
  {
   "cell_type": "code",
   "execution_count": 45,
   "metadata": {},
   "outputs": [
    {
     "name": "stdout",
     "output_type": "stream",
     "text": [
      "1 1 {0: 1}\n",
      "0 -1 {0: 1, 1: 1}\n",
      "-2 -2 {0: 2, 1: 1}\n",
      "0 2 {0: 2, 1: 1, -2: 1}\n"
     ]
    },
    {
     "data": {
      "text/plain": [
       "3"
      ]
     },
     "execution_count": 45,
     "metadata": {},
     "output_type": "execute_result"
    }
   ],
   "source": [
    "def solve(A):\n",
    "    sum_val = 0\n",
    "    ps = 0\n",
    "    hm = {}\n",
    "    hm[0] = 1\n",
    "    for i in range(0,len(A)):\n",
    "        ps = ps + A[i]\n",
    "        print(ps,A[i],hm)\n",
    "        if ps in hm.keys():\n",
    "            sum_val = sum_val + hm[ps]\n",
    "            hm[ps] = hm[ps] + 1\n",
    "        else:\n",
    "            hm[ps]  = 1\n",
    "    return sum_val\n",
    "\n",
    "A=[1, -1, -2, 2]\n",
    "solve(A)"
   ]
  },
  {
   "cell_type": "code",
   "execution_count": 56,
   "metadata": {},
   "outputs": [
    {
     "data": {
      "text/plain": [
       "[1, 1, 3]"
      ]
     },
     "execution_count": 56,
     "metadata": {},
     "output_type": "execute_result"
    }
   ],
   "source": [
    "def solve(A):\n",
    "    minim=min(A)\n",
    "    maxim=max(A)\n",
    "    li=[]\n",
    "    length = maxim-minim+1\n",
    "    freq_arr =[0]*length\n",
    "    for i in range(len(A)):\n",
    "        freq_arr[A[i]-minim]+=1\n",
    "        \n",
    "    for i in range(len(freq_arr)):\n",
    "        if freq_arr[i]!=0:\n",
    "            for j in range(freq_arr[i]):\n",
    "                li.append(i+minim)\n",
    "    return li\n",
    "A = [1, 3, 1]\n",
    "solve(A)\n",
    "    "
   ]
  },
  {
   "cell_type": "code",
   "execution_count": 60,
   "metadata": {},
   "outputs": [
    {
     "data": {
      "text/plain": [
       "[2, 4, 7, 9, 11, 19]"
      ]
     },
     "execution_count": 60,
     "metadata": {},
     "output_type": "execute_result"
    }
   ],
   "source": [
    "A = [4, 7, 9]\n",
    "B = [2, 11, 19]\n",
    "def solve(A,B):\n",
    "    a_indx=0\n",
    "    b_indx=0\n",
    "    c=[]\n",
    "    while a_indx<len(A) and b_indx<len(B):\n",
    "        if A[a_indx]>B[b_indx]:\n",
    "            c.append(B[b_indx])\n",
    "            b_indx+=1\n",
    "        else:\n",
    "            c.append(A[a_indx])\n",
    "            a_indx+=1\n",
    "            \n",
    "    while a_indx<len(A):\n",
    "        c.append(A[a_indx])\n",
    "        a_indx+=1\n",
    "    while b_indx<len(B):\n",
    "        c.append(B[b_indx])\n",
    "        b_indx+=1\n",
    "    return c\n",
    "solve(A,B)\n",
    "        \n",
    "        "
   ]
  },
  {
   "cell_type": "code",
   "execution_count": null,
   "metadata": {},
   "outputs": [],
   "source": [
    "#Merge Sort\n",
    "import sys\n",
    "sys.setrecursionlimit(10**6)\n",
    "\n",
    "A=[3,10,6,8,15,2,12,18,17]\n",
    "def solve(A,L,R):\n",
    "    if L<R:\n",
    "        mid=L-(R-L)//2\n",
    "        solve(A,L,mid)\n",
    "        solve(A,mid+1,R)\n",
    "        merge(A,L,mid,R)\n",
    "    return A\n",
    "    \n",
    "def merge(A,L,mid,R):\n",
    "    n=R-L+1\n",
    "    n1=mid-L+1\n",
    "    n2=R-mid\n",
    "    left=[]\n",
    "    right=[]\n",
    "    for p in range(n1):\n",
    "        left.append(A[p])\n",
    "    for q in range(mid+1,n):\n",
    "        right.append(A[q])\n",
    "        \n",
    "    idx,i,j=0,0,0\n",
    "    while i<n1 and j<n2:\n",
    "        if left[i]>right[j]:\n",
    "            A[idx]=right[j]\n",
    "            j+=1\n",
    "        else:\n",
    "            A[idx]=left[i]\n",
    "            i+=1\n",
    "        idx+=1\n",
    "        \n",
    "    while i<n1:\n",
    "        A[idx]=left[i]\n",
    "        i+=1\n",
    "        idx+=1\n",
    "    while j<n2:\n",
    "        A[idx]=right[j]\n",
    "        j+=1\n",
    "        idx+=1\n",
    "#     return A\n",
    "        \n",
    "            \n",
    "        \n",
    "        \n",
    "solve(A,0,len(A)-1)"
   ]
  },
  {
   "cell_type": "code",
   "execution_count": 5,
   "metadata": {},
   "outputs": [
    {
     "name": "stdout",
     "output_type": "stream",
     "text": [
      "1\n",
      "[4, 1] [2, 1]\n"
     ]
    }
   ],
   "source": [
    "A=[4,1,2,1]\n",
    "def solve(A):\n",
    "    mid=0+(len(A)-1-0)//2\n",
    "    print(mid)\n",
    "    leftArr=A[0:mid+1]\n",
    "    rightArr=A[mid+1:len(A)]\n",
    "    leftArr.sort()\n",
    "    rightArr.sort()\n",
    "    print(leftArr,rightArr)\n",
    "    i=0\n",
    "    j=0\n",
    "    count=0\n",
    "    if A[i]>2*B[j]:\n",
    "        count+=1\n",
    "        j+=1\n",
    "    else:\n",
    "        i+=1\n",
    "        j+=1\n",
    "#     count=count%((10**9)+7)\n",
    "    return count\n",
    "solve(A)"
   ]
  },
  {
   "cell_type": "code",
   "execution_count": null,
   "metadata": {},
   "outputs": [],
   "source": []
  }
 ],
 "metadata": {
  "kernelspec": {
   "display_name": "Python 3 (ipykernel)",
   "language": "python",
   "name": "python3"
  },
  "language_info": {
   "codemirror_mode": {
    "name": "ipython",
    "version": 3
   },
   "file_extension": ".py",
   "mimetype": "text/x-python",
   "name": "python",
   "nbconvert_exporter": "python",
   "pygments_lexer": "ipython3",
   "version": "3.10.12"
  }
 },
 "nbformat": 4,
 "nbformat_minor": 2
}
