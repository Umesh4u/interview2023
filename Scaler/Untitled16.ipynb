{
 "cells": [
  {
   "cell_type": "code",
   "execution_count": 1,
   "metadata": {},
   "outputs": [
    {
     "data": {
      "text/plain": [
       "[0, 0, 0]"
      ]
     },
     "execution_count": 1,
     "metadata": {},
     "output_type": "execute_result"
    }
   ],
   "source": [
    "def solve(A, B):\n",
    "    max_num=max(A)\n",
    "    bit_counts=[0]*(max_num+1)\n",
    "    for num in A:\n",
    "        for i in range(32):\n",
    "            if num&(1<<i):\n",
    "                bit_counts[num]+=1\n",
    "    pair_counts=[]\n",
    "    for b in B:\n",
    "        count=0\n",
    "        for num in A:\n",
    "            if num&(1<<b):\n",
    "                count+=bit_counts[num]-1\n",
    "\n",
    "        pair_counts.append(count//2)\n",
    "\n",
    "    return pair_counts\n",
    "A=[1,2,3]\n",
    "B=[0,1,2]\n",
    "solve(A,B)"
   ]
  },
  {
   "cell_type": "code",
   "execution_count": 3,
   "metadata": {},
   "outputs": [
    {
     "name": "stdout",
     "output_type": "stream",
     "text": [
      "[0, 0, 0]\n"
     ]
    }
   ],
   "source": [
    "def pairs_with_bit_set_linear(A, B):\n",
    "    max_num = max(A)\n",
    "    bit_counts = [0] * (max_num + 1)\n",
    "\n",
    "    # Count the number of occurrences of each number with each bit set\n",
    "    for num in A:\n",
    "        for i in range(32):  # Considering 32-bit integers\n",
    "            if num & (1 << i):\n",
    "                bit_counts[num] += 1\n",
    "\n",
    "    pairs_counts = []\n",
    "    for b in B:\n",
    "        count = 0\n",
    "        for num in A:\n",
    "            if num & (1 << b):\n",
    "                count += bit_counts[num] - 1  # Exclude the number itself\n",
    "        pairs_counts.append(count // 2)  # Since each pair is counted twice\n",
    "\n",
    "    return pairs_counts\n",
    "\n",
    "A = [1, 2, 3]\n",
    "B = [0, 1, 2]\n",
    "print(pairs_with_bit_set_linear(A, B))\n"
   ]
  },
  {
   "cell_type": "code",
   "execution_count": 4,
   "metadata": {},
   "outputs": [
    {
     "name": "stdout",
     "output_type": "stream",
     "text": [
      "4\n",
      "2\n",
      "1\n",
      "0\n",
      "3\n",
      "6\n",
      "5\n",
      "7\n"
     ]
    }
   ],
   "source": [
    "#Merge Sort\n",
    "import sys\n",
    "sys.setrecursionlimit(10**6)\n",
    "\n",
    "A=[3,10,6,8,15,2,12,18,17]\n",
    "def solve(A,L,R):\n",
    "    if L==R:\n",
    "        return\n",
    "    mid=(L+R)//2\n",
    "    print(mid)\n",
    "    solve(A,L,mid)\n",
    "    solve(A,mid+1,R)\n",
    "        \n",
    "            \n",
    "        \n",
    "        \n",
    "solve(A,0,len(A)-1)"
   ]
  },
  {
   "cell_type": "code",
   "execution_count": null,
   "metadata": {},
   "outputs": [],
   "source": []
  }
 ],
 "metadata": {
  "kernelspec": {
   "display_name": "Python 3 (ipykernel)",
   "language": "python",
   "name": "python3"
  },
  "language_info": {
   "codemirror_mode": {
    "name": "ipython",
    "version": 3
   },
   "file_extension": ".py",
   "mimetype": "text/x-python",
   "name": "python",
   "nbconvert_exporter": "python",
   "pygments_lexer": "ipython3",
   "version": "3.10.12"
  }
 },
 "nbformat": 4,
 "nbformat_minor": 2
}
