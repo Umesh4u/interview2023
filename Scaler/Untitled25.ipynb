{
 "cells": [
  {
   "cell_type": "code",
   "execution_count": 6,
   "metadata": {},
   "outputs": [],
   "source": [
    "A=[-5,-2,1,8,10,12,15]\n",
    "k=11\n"
   ]
  },
  {
   "cell_type": "code",
   "execution_count": 8,
   "metadata": {},
   "outputs": [
    {
     "name": "stdout",
     "output_type": "stream",
     "text": [
      "-5 15 10 0 6\n",
      "-2 15 13 1 6\n",
      "-2 12 10 1 5\n",
      "1 12 13 2 5\n",
      "1 10 11 2 4\n"
     ]
    },
    {
     "data": {
      "text/plain": [
       "True"
      ]
     },
     "execution_count": 8,
     "metadata": {},
     "output_type": "execute_result"
    }
   ],
   "source": [
    "def checkPairExist(A,k):\n",
    "    i=0\n",
    "    n=len(A)\n",
    "    j=n-1\n",
    "    while i<j:\n",
    "        print(A[i],A[j],A[i]+A[j],i,j)\n",
    "        if A[i]+A[j]==k:\n",
    "            return True\n",
    "        elif A[i]+A[j]<k:\n",
    "            i+=1\n",
    "        else:\n",
    "            j-=1\n",
    "    else:\n",
    "        return False\n",
    "checkPairExist(A,k)"
   ]
  },
  {
   "cell_type": "code",
   "execution_count": 15,
   "metadata": {},
   "outputs": [
    {
     "name": "stdout",
     "output_type": "stream",
     "text": [
      "6 3 2\n"
     ]
    },
    {
     "data": {
      "text/plain": [
       "16"
      ]
     },
     "execution_count": 15,
     "metadata": {},
     "output_type": "execute_result"
    }
   ],
   "source": [
    "A=[2,4,4,4,7,7,7,7,7,10,10,15]\n",
    "k=14\n",
    "def pairCount(A,k):\n",
    "    i=0\n",
    "    n=len(A)\n",
    "    j=n-1\n",
    "    ans=0\n",
    "    while i<j:\n",
    "        if A[i]+A[j]==k:\n",
    "            if A[i]==A[j]:\n",
    "                cnt=j-i+1\n",
    "                ans+=(cnt*(cnt-1))//2\n",
    "                break;\n",
    "            i2=i\n",
    "            cnt1=0\n",
    "            while A[i2]==A[i]:\n",
    "                i2+=1\n",
    "                cnt1+=1\n",
    "            i=i2\n",
    "            j2=j\n",
    "            cnt2=0\n",
    "            while A[j2]==A[j]:\n",
    "                j2-=1\n",
    "                cnt2+=1\n",
    "            j=j2\n",
    "            ans+=cnt1*cnt2\n",
    "            print(ans,cnt1,cnt2)\n",
    "        elif A[i]+A[j]<k:\n",
    "            i+=1\n",
    "        else:\n",
    "            j-=1\n",
    "    return ans\n",
    "pairCount(A,k)"
   ]
  },
  {
   "cell_type": "code",
   "execution_count": 16,
   "metadata": {},
   "outputs": [
    {
     "data": {
      "text/plain": [
       "1"
      ]
     },
     "execution_count": 16,
     "metadata": {},
     "output_type": "execute_result"
    }
   ],
   "source": [
    "21%10"
   ]
  },
  {
   "cell_type": "code",
   "execution_count": null,
   "metadata": {},
   "outputs": [],
   "source": [
    "class Node:\n",
    "    def __init__(self):\n",
    "        self.data=null"
   ]
  },
  {
   "cell_type": "code",
   "execution_count": 20,
   "metadata": {},
   "outputs": [
    {
     "data": {
      "text/plain": [
       "[1, 1, 1, 2, 3, 4, 5]"
      ]
     },
     "execution_count": 20,
     "metadata": {},
     "output_type": "execute_result"
    }
   ],
   "source": [
    "arr=[40,80,96,81,74,61,54]\n",
    "val=min(arr)\n",
    "li=[0]*len(arr)\n",
    "li[0]=1\n",
    "for i in range(1,len(arr)):\n",
    "    if arr[i]==val:\n",
    "        break;\n",
    "    elif arr[i]<arr[i-1]:\n",
    "        li[i]=li[i-1]+1\n",
    "    else:\n",
    "        li[i]=1\n",
    "    \n",
    "    \n",
    "li"
   ]
  },
  {
   "cell_type": "code",
   "execution_count": 24,
   "metadata": {},
   "outputs": [
    {
     "name": "stdout",
     "output_type": "stream",
     "text": [
      "[1, 1, 0, 0, 0, 0, 0]\n"
     ]
    }
   ],
   "source": [
    "def daily_temperatures(arr):\n",
    "    n = len(arr)\n",
    "    result = [0] * n\n",
    "    stack = []\n",
    "\n",
    "    for i in range(n):\n",
    "        while stack and arr[i] > arr[stack[-1]]:\n",
    "            idx = stack.pop()\n",
    "            result[idx] = i - idx\n",
    "        stack.append(i)\n",
    "\n",
    "    return result\n",
    "\n",
    "arr = [40, 80, 96, 81, 74, 61, 54]\n",
    "result = daily_temperatures(arr)\n",
    "print(result)  # Output: [0, 3, 1, 1, 1, 1, 0]\n"
   ]
  },
  {
   "cell_type": "code",
   "execution_count": 25,
   "metadata": {},
   "outputs": [
    {
     "name": "stdout",
     "output_type": "stream",
     "text": [
      "[1, 1, 0, 0, 0, 0, 0]\n"
     ]
    }
   ],
   "source": [
    "def daily_temperatures(arr):\n",
    "    n = len(arr)\n",
    "    result = [0] * n\n",
    "    stack = []\n",
    "\n",
    "    for i in range(n):\n",
    "        while stack and arr[i] > arr[stack[-1]]:\n",
    "            idx = stack.pop()\n",
    "            result[idx] = i - idx\n",
    "        stack.append(i)\n",
    "\n",
    "    return result\n",
    "\n",
    "arr = [40, 80, 96, 81, 74, 61, 54]\n",
    "result = daily_temperatures(arr)\n",
    "print(result)  # Output: [0, 3, 1, 1, 1, 1, 0]\n"
   ]
  },
  {
   "cell_type": "code",
   "execution_count": 28,
   "metadata": {},
   "outputs": [
    {
     "data": {
      "text/plain": [
       "[1, 1, 0, 0, 0, 0, 0]"
      ]
     },
     "execution_count": 28,
     "metadata": {},
     "output_type": "execute_result"
    }
   ],
   "source": [
    "def dailyTemperatures(temperatures):\n",
    "    st = []\n",
    "    res = [0] * len(temperatures)\n",
    "\n",
    "    for i in range(len(temperatures)):\n",
    "        while st and temperatures[i] > temperatures[st[-1]]:\n",
    "            idx = st.pop()\n",
    "            res[idx] = i - idx\n",
    "        st.append(i)\n",
    "\n",
    "    return res\n",
    "arr = [40, 80, 96, 81, 74, 61, 54]\n",
    "dailyTemperatures(arr)\n"
   ]
  },
  {
   "cell_type": "code",
   "execution_count": null,
   "metadata": {},
   "outputs": [],
   "source": []
  }
 ],
 "metadata": {
  "kernelspec": {
   "display_name": "Python 3 (ipykernel)",
   "language": "python",
   "name": "python3"
  },
  "language_info": {
   "codemirror_mode": {
    "name": "ipython",
    "version": 3
   },
   "file_extension": ".py",
   "mimetype": "text/x-python",
   "name": "python",
   "nbconvert_exporter": "python",
   "pygments_lexer": "ipython3",
   "version": "3.10.12"
  }
 },
 "nbformat": 4,
 "nbformat_minor": 2
}
