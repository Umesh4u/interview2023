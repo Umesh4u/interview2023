{
 "cells": [
  {
   "cell_type": "code",
   "execution_count": 18,
   "metadata": {},
   "outputs": [
    {
     "data": {
      "text/plain": [
       "0"
      ]
     },
     "execution_count": 18,
     "metadata": {},
     "output_type": "execute_result"
    }
   ],
   "source": [
    "#Merge Sort\n",
    "import sys\n",
    "sys.setrecursionlimit(10**6)\n",
    "\n",
    "def merge(A,L,mid,R):\n",
    "    n1=mid-L+1\n",
    "    n2=R-mid\n",
    "    \n",
    "    left=[0]*n1\n",
    "    right=[0]*n2\n",
    "    \n",
    "    for p in range(n1):\n",
    "        left[p]=A[L+p]\n",
    "    for q in range(n2):\n",
    "        right[q]=A[mid+1+q]\n",
    "    \n",
    "    idx,i,j=L,0,0\n",
    "    while i<n1 and j<n2:\n",
    "        if left[i]<=right[j]:\n",
    "            A[idx]=left[i]\n",
    "            i+=1\n",
    "            inv_count+=(mid-i)+1\n",
    "            \n",
    "        else:\n",
    "            A[idx]=right[j]\n",
    "            j+=1\n",
    "        idx+=1\n",
    "        \n",
    "    while i<n1:\n",
    "        A[idx]=left[i]\n",
    "        i+=1\n",
    "        idx+=1\n",
    "    while j<n2:\n",
    "        A[idx]=right[j]\n",
    "        j+=1\n",
    "        idx+=1\n",
    "\n",
    "        \n",
    "def solve(A,L,R,inv_count):\n",
    "    if L<R:\n",
    "        mid=L+(R-L)//2\n",
    "        solve(A,L,mid,inv_count)\n",
    "        solve(A,mid+1,R,inv_count)\n",
    "        merge(A,L,mid,R,inv_count)\n",
    "    return inv_count\n",
    "    \n",
    "\n",
    "        \n",
    "            \n",
    "inv_count=0   \n",
    "A=[1, 3, 2]\n",
    "d=0\n",
    "e=len(A)-1\n",
    "c=solve(A,d,e,inv_count)\n",
    "c"
   ]
  },
  {
   "cell_type": "code",
   "execution_count": 25,
   "metadata": {},
   "outputs": [
    {
     "name": "stdout",
     "output_type": "stream",
     "text": [
      "1\n"
     ]
    }
   ],
   "source": [
    "def solve(A):\n",
    "    A.sort()\n",
    "    pf=[]\n",
    "    for i in range(1,len(A)):\n",
    "        pf.append(A[i]-A[i-1])\n",
    "    print(min(pf))\n",
    "A = [1, 2, 3, 4, 5]\n",
    "solve(A)"
   ]
  },
  {
   "cell_type": "code",
   "execution_count": 32,
   "metadata": {},
   "outputs": [],
   "source": [
    "class Solution:\n",
    "    # @param A : list of integers\n",
    "    # @return an integer\n",
    "    def solve(self, A):\n",
    "        self.count=0\n",
    "        def merge(left, right):\n",
    "            ans = []\n",
    "            i = 0\n",
    "            j = 0\n",
    "            while i < len(left) and j < len(right):\n",
    "                if left[i] > right[j]:\n",
    "                    self.count += len(left)-i\n",
    "                    j+=1\n",
    "                else:\n",
    "                    i+=1\n",
    "               \n",
    "            return sorted(left+right)\n",
    "       \n",
    "        def mergeSort(A):\n",
    "            if len(A) <= 1:\n",
    "                return A\n",
    "       \n",
    "            mid=len(A)//2\n",
    "\n",
    "            left=mergeSort(A[:mid])\n",
    "            right=mergeSort(A[mid:])\n",
    "\n",
    "            return merge(left,right)\n",
    "       \n",
    "        mergeSort(A)\n",
    "        return self.count\n"
   ]
  },
  {
   "cell_type": "code",
   "execution_count": 33,
   "metadata": {},
   "outputs": [],
   "source": [
    "obj=Solution()"
   ]
  },
  {
   "cell_type": "code",
   "execution_count": 36,
   "metadata": {},
   "outputs": [],
   "source": [
    "A = [3, 4, 1, 2]\n"
   ]
  },
  {
   "cell_type": "code",
   "execution_count": 37,
   "metadata": {},
   "outputs": [
    {
     "data": {
      "text/plain": [
       "4"
      ]
     },
     "execution_count": 37,
     "metadata": {},
     "output_type": "execute_result"
    }
   ],
   "source": [
    "obj.solve(A)"
   ]
  },
  {
   "cell_type": "code",
   "execution_count": 45,
   "metadata": {},
   "outputs": [
    {
     "data": {
      "text/plain": [
       "-1"
      ]
     },
     "execution_count": 45,
     "metadata": {},
     "output_type": "execute_result"
    }
   ],
   "source": [
    "def BinarySearch(A,k):\n",
    "    left=0\n",
    "    right=len(A)-1\n",
    "    \n",
    "    while left<=right:\n",
    "        mid=(left+right)//2\n",
    "        if A[mid]==k:\n",
    "            return mid\n",
    "            break\n",
    "        elif A[mid]<k:\n",
    "            left=mid+1\n",
    "        else:\n",
    "            right=mid-1\n",
    "    return -1\n",
    "\n",
    "A=[3,6,9,12,14,19,20,13,25,27]\n",
    "BinarySearch(A,11)"
   ]
  },
  {
   "cell_type": "code",
   "execution_count": 46,
   "metadata": {},
   "outputs": [
    {
     "data": {
      "text/plain": [
       "-1"
      ]
     },
     "execution_count": 46,
     "metadata": {},
     "output_type": "execute_result"
    }
   ],
   "source": [
    "def BinarySearch(A,k):\n",
    "    left=0\n",
    "    right=len(A)-1\n",
    "    ans=-1\n",
    "    while left<=right:\n",
    "        mid=left+(right-left)//2\n",
    "        if A[mid]==k:\n",
    "            ans=mid\n",
    "            right=mid-1\n",
    "        elif A[mid]<k:\n",
    "            left=mid+1\n",
    "        else:\n",
    "            right=mid-1\n",
    "    return ans\n",
    "\n",
    "A=[3,6,9,12,14,19,20,13,25,27]\n",
    "BinarySearch(A,11)"
   ]
  },
  {
   "cell_type": "code",
   "execution_count": 56,
   "metadata": {},
   "outputs": [
    {
     "data": {
      "text/plain": [
       "1"
      ]
     },
     "execution_count": 56,
     "metadata": {},
     "output_type": "execute_result"
    }
   ],
   "source": [
    "def solve(A):\n",
    "    n=len(A)\n",
    "    L=0\n",
    "    R=n-1\n",
    "    if n==1:\n",
    "        return A[0]\n",
    "    if A[0]!=A[1]:\n",
    "        return A[0]\n",
    "    if A[n-1]!=A[n-2]:\n",
    "        return A[n-1]\n",
    "    while L<=R:\n",
    "        mid = L+(R-L)//2\n",
    "        if A[mid]!=A[mid-1] and A[mid]!=A[mid+1]:\n",
    "            return A[mid]\n",
    "        if A[mid]==A[mid-1]:\n",
    "            mid=mid-1\n",
    "        if mid%2==0:\n",
    "            L=mid+2\n",
    "        else:\n",
    "            R=mid-1\n",
    "     \n",
    "\n",
    "A=[1,7,7]    \n",
    "solve(A)"
   ]
  },
  {
   "cell_type": "code",
   "execution_count": 66,
   "metadata": {},
   "outputs": [
    {
     "ename": "TypeError",
     "evalue": "'<' not supported between instances of 'list' and 'int'",
     "output_type": "error",
     "traceback": [
      "\u001b[0;31m---------------------------------------------------------------------------\u001b[0m",
      "\u001b[0;31mTypeError\u001b[0m                                 Traceback (most recent call last)",
      "Cell \u001b[0;32mIn[66], line 29\u001b[0m\n\u001b[1;32m     26\u001b[0m     \u001b[38;5;28;01mreturn\u001b[39;00m \u001b[38;5;241m-\u001b[39m\u001b[38;5;241m1\u001b[39m\n\u001b[1;32m     28\u001b[0m \u001b[38;5;66;03m# A=[3,6,9,12,14,19,20,13,25,27]\u001b[39;00m\n\u001b[0;32m---> 29\u001b[0m \u001b[43mBinarySearch\u001b[49m\u001b[43m(\u001b[49m\u001b[43mA\u001b[49m\u001b[43m,\u001b[49m\u001b[38;5;241;43m3\u001b[39;49m\u001b[43m)\u001b[49m\n",
      "Cell \u001b[0;32mIn[46], line 10\u001b[0m, in \u001b[0;36mBinarySearch\u001b[0;34m(A, k)\u001b[0m\n\u001b[1;32m      8\u001b[0m     ans\u001b[38;5;241m=\u001b[39mmid\n\u001b[1;32m      9\u001b[0m     right\u001b[38;5;241m=\u001b[39mmid\u001b[38;5;241m-\u001b[39m\u001b[38;5;241m1\u001b[39m\n\u001b[0;32m---> 10\u001b[0m \u001b[38;5;28;01melif\u001b[39;00m \u001b[43mA\u001b[49m\u001b[43m[\u001b[49m\u001b[43mmid\u001b[49m\u001b[43m]\u001b[49m\u001b[38;5;241;43m<\u001b[39;49m\u001b[43mk\u001b[49m:\n\u001b[1;32m     11\u001b[0m     left\u001b[38;5;241m=\u001b[39mmid\u001b[38;5;241m+\u001b[39m\u001b[38;5;241m1\u001b[39m\n\u001b[1;32m     12\u001b[0m \u001b[38;5;28;01melse\u001b[39;00m:\n",
      "\u001b[0;31mTypeError\u001b[0m: '<' not supported between instances of 'list' and 'int'"
     ]
    }
   ],
   "source": [
    "A = [ \n",
    "      [1,   3,  5,  7],\n",
    "      [10, 11, 16, 20],\n",
    "      [23, 30, 34, 50]  \n",
    "    ]\n",
    "B = 3\n",
    "\n",
    "def BinarySearching(A,B):\n",
    "    m=len(A)\n",
    "    n=len(A[0])\n",
    "    l=0\n",
    "    r=m*n-1\n",
    "    \n",
    "    while l<=r:\n",
    "        mid=l+(r-l)//2\n",
    "        row = int(mid / n) \n",
    "        col = int(mid % n)\n",
    "        \n",
    "        if A[row][col]==B:\n",
    "            return mid\n",
    "            break\n",
    "        elif A[row][col]<B:\n",
    "            left=mid+1\n",
    "        else:\n",
    "            right=mid-1\n",
    "    return -1\n",
    "\n",
    "# A=[3,6,9,12,14,19,20,13,25,27]\n",
    "BinarySearch(A,3)"
   ]
  },
  {
   "cell_type": "code",
   "execution_count": null,
   "metadata": {},
   "outputs": [],
   "source": []
  }
 ],
 "metadata": {
  "kernelspec": {
   "display_name": "Python 3 (ipykernel)",
   "language": "python",
   "name": "python3"
  },
  "language_info": {
   "codemirror_mode": {
    "name": "ipython",
    "version": 3
   },
   "file_extension": ".py",
   "mimetype": "text/x-python",
   "name": "python",
   "nbconvert_exporter": "python",
   "pygments_lexer": "ipython3",
   "version": "3.10.12"
  }
 },
 "nbformat": 4,
 "nbformat_minor": 2
}
