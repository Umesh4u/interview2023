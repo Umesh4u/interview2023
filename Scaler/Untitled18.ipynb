{
 "cells": [
  {
   "cell_type": "code",
   "execution_count": 39,
   "metadata": {},
   "outputs": [
    {
     "name": "stdout",
     "output_type": "stream",
     "text": [
      "[False, False, True]\n",
      "[]\n"
     ]
    },
    {
     "ename": "SyntaxError",
     "evalue": "'return' outside function (483151853.py, line 23)",
     "output_type": "error",
     "traceback": [
      "\u001b[0;36m  Cell \u001b[0;32mIn[39], line 23\u001b[0;36m\u001b[0m\n\u001b[0;31m    return [0]\u001b[0m\n\u001b[0m    ^\u001b[0m\n\u001b[0;31mSyntaxError\u001b[0m\u001b[0;31m:\u001b[0m 'return' outside function\n"
     ]
    }
   ],
   "source": [
    "import math\n",
    "n=2\n",
    "p=[True]*(n+1)\n",
    "p[0],p[1]=False,False\n",
    "for i in range(2,int(math.sqrt(n))+1):\n",
    "    if p[i]==True:\n",
    "        j=i*i\n",
    "        while j<=n:\n",
    "            p[j]=False\n",
    "            j+=i\n",
    "li=[]\n",
    "print(p)\n",
    "for i in range(len(p)-1):\n",
    "    if p[i]:\n",
    "        li.append(i)\n",
    "print(li)\n",
    "for i in range(len(li)):\n",
    "    for j in range(i+1,len(li)):\n",
    "        if li[i]+li[j]==n:\n",
    "            print(\"eeeeeeeee\",li[i],li[j])\n",
    "else:\n",
    "    if n==2:\n",
    "        return [0]\n",
    "    elif n==4:\n",
    "        return [2,2]"
   ]
  },
  {
   "cell_type": "code",
   "execution_count": null,
   "metadata": {},
   "outputs": [],
   "source": []
  },
  {
   "cell_type": "code",
   "execution_count": 70,
   "metadata": {},
   "outputs": [
    {
     "name": "stdout",
     "output_type": "stream",
     "text": [
      "[0, 1, 2, 3, 4, 5, 6, 7, 8, 9, 10]\n",
      "[0, 1, 2, 3, 2, 5, 2, 7, 2, 3, 2]\n",
      "1\n",
      "2\n",
      "2\n",
      "3\n",
      "2\n",
      "4\n",
      "2\n",
      "3\n",
      "5\n",
      "2\n",
      "6\n",
      "3\n",
      "4\n",
      "7\n",
      "2\n",
      "8\n",
      "4\n",
      "2\n",
      "4\n",
      "9\n",
      "3\n",
      "3\n"
     ]
    },
    {
     "data": {
      "text/plain": [
       "{3: 2}"
      ]
     },
     "execution_count": 70,
     "metadata": {},
     "output_type": "execute_result"
    }
   ],
   "source": [
    "def SPFCreation(N):\n",
    "    SPF=[]\n",
    "    for i in range(N+1):\n",
    "        SPF.append(i)\n",
    "    print(SPF)\n",
    "    for i in range(2,int(math.sqrt(N))+1):\n",
    "        if SPF[i]==i:\n",
    "            j=i*i\n",
    "            while(j<=N):\n",
    "                if SPF[j]==j:\n",
    "                    SPF[j]=i\n",
    "                j+=i\n",
    "    return SPF\n",
    "        \n",
    "li=SPFCreation(10)\n",
    "print(li)\n",
    "for x in range(1,10):\n",
    "    dict1={}\n",
    "    while(x>1):\n",
    "        print(x)\n",
    "        d=li[x]\n",
    "        if d in dict1:\n",
    "            dict1[d]+=1\n",
    "        else:\n",
    "            dict1[d]=1\n",
    "        x=x//d\n",
    "    ans=1\n",
    "    for x in dict1.keys():\n",
    "        ans=ans*(dict1.get(x)+1)\n",
    "    print(ans)\n",
    "        \n",
    "        \n",
    "dict1"
   ]
  },
  {
   "cell_type": "code",
   "execution_count": 53,
   "metadata": {},
   "outputs": [
    {
     "name": "stdout",
     "output_type": "stream",
     "text": [
      "[False, False, True, True, False, True, False, True, False]\n",
      "[2, 3, 5, 7]\n",
      "[3, 5]\n"
     ]
    }
   ],
   "source": [
    "import math\n",
    "n=8\n",
    "p=[True]*(n+1)\n",
    "p[0],p[1]=False,False\n",
    "for i in range(2,int(math.sqrt(n))+1):\n",
    "    if p[i]==True:\n",
    "        j=i*i\n",
    "        while j<=n:\n",
    "            p[j]=False\n",
    "            j+=i\n",
    "li=[]\n",
    "for i in range(len(p)-1):\n",
    "    if p[i]:\n",
    "        li.append(i)\n",
    "\n",
    "for i in range(len(li)):\n",
    "    pair=n-li[i]\n",
    "    if pair in li:\n",
    "        print([li[i],pair])\n",
    "        break;\n",
    "else:\n",
    "    print([0])\n"
   ]
  },
  {
   "cell_type": "code",
   "execution_count": 81,
   "metadata": {},
   "outputs": [
    {
     "name": "stdout",
     "output_type": "stream",
     "text": [
      "{0: [0], 1: [1], 2: [2], 3: [3], 4: [4, 2], 5: [5], 6: [6, 2, 3], 7: [7], 8: [8, 2], 9: [9, 3], 10: [10, 2, 5], 11: [11], 12: [12, 2, 3], 13: [13], 14: [14, 2, 7], 15: [15, 3, 5], 16: [16, 2], 17: [17], 18: [18, 2, 3], 19: [19], 20: [20, 2, 5], 21: [21, 3, 7], 22: [22, 2, 11], 23: [23], 24: [24, 2, 3], 25: [25, 5], 26: [26, 2, 13], 27: [27, 3], 28: [28, 2, 7], 29: [29], 30: [30, 2, 3, 5], 31: [31], 32: [32, 2], 33: [33, 3, 11], 34: [34, 2, 17], 35: [35, 5, 7], 36: [36, 2, 3], 37: [37], 38: [38, 2, 19], 39: [39, 3, 13], 40: [40, 2, 5]}\n",
      "19\n"
     ]
    }
   ],
   "source": [
    "import math\n",
    "n=40\n",
    "p={}\n",
    "for i in range(n+1):\n",
    "    p[i]=[i]\n",
    "# p[0],p[1]=False,False\n",
    "# print(\"llllllllll\",p,int(math.sqrt(n))+1)\n",
    "for i in range(2,n):\n",
    "#     print(i)\n",
    "    if p[i][0]==i:\n",
    "        j=i\n",
    "        while(j<=n):\n",
    "            if p[j][0]==j:\n",
    "                if i not in p[j] and len(p[i])==1:\n",
    "                    p[j].append(i)\n",
    "            j+=i\n",
    "print(p)\n",
    "count=0        \n",
    "for i in range(len(p)):\n",
    "    if len(p[i])==3:\n",
    "        count+=1\n",
    "print(count)"
   ]
  },
  {
   "cell_type": "code",
   "execution_count": null,
   "metadata": {},
   "outputs": [],
   "source": []
  }
 ],
 "metadata": {
  "kernelspec": {
   "display_name": "Python 3 (ipykernel)",
   "language": "python",
   "name": "python3"
  },
  "language_info": {
   "codemirror_mode": {
    "name": "ipython",
    "version": 3
   },
   "file_extension": ".py",
   "mimetype": "text/x-python",
   "name": "python",
   "nbconvert_exporter": "python",
   "pygments_lexer": "ipython3",
   "version": "3.10.12"
  }
 },
 "nbformat": 4,
 "nbformat_minor": 2
}
