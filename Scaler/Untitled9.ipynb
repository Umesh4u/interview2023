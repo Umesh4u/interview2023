{
 "cells": [
  {
   "cell_type": "code",
   "execution_count": 9,
   "metadata": {},
   "outputs": [],
   "source": [
    "arr = [0,0,0,0,0,0,0]\n",
    "q=[[1,3],[4,2],[3,1]]\n",
    "# for i in range(len(q)):\n",
    "#     start=q[i][0]\n",
    "#     val=q[i][1]\n",
    "#     for j in range(start,len(arr)):\n",
    "#         arr[j]+=val\n",
    "# arr"
   ]
  },
  {
   "cell_type": "code",
   "execution_count": 8,
   "metadata": {},
   "outputs": [
    {
     "data": {
      "text/plain": [
       "[0, 3, 3, 4, 6, 6, 6]"
      ]
     },
     "execution_count": 8,
     "metadata": {},
     "output_type": "execute_result"
    }
   ],
   "source": [
    "#optimized approach\n",
    "for i in range(len(q)):\n",
    "    start=q[i][0]\n",
    "    val=q[i][1]\n",
    "    arr[start]+=val\n",
    "\n",
    "for j in range(1,len(arr)):\n",
    "    arr[j]=arr[j-1]+arr[j]\n",
    "arr"
   ]
  },
  {
   "cell_type": "code",
   "execution_count": 27,
   "metadata": {},
   "outputs": [
    {
     "name": "stdout",
     "output_type": "stream",
     "text": [
      "[-1, 3, 4, -4, 3, -3, 1, -3]\n"
     ]
    },
    {
     "data": {
      "text/plain": [
       "[-1, 2, 6, 2, 5, 2, 3, 0]"
      ]
     },
     "execution_count": 27,
     "metadata": {},
     "output_type": "execute_result"
    }
   ],
   "source": [
    "arr = [0,0,0,0,0,0,0,0]\n",
    "q=[[1,4,3],[0,5,-1],[2,2,4],[4,6,3]]\n",
    "#optimized approach\n",
    "for i in range(len(q)):\n",
    "    start=q[i][0]\n",
    "    end=q[i][1]\n",
    "    val=q[i][2]\n",
    "    arr[start]+=val\n",
    "    if end!=len(arr)-1:\n",
    "        arr[end+1]-=val\n",
    "print(arr)\n",
    "for j in range(1,len(arr)):\n",
    "    arr[j]=arr[j-1]+arr[j]\n",
    "arr"
   ]
  },
  {
   "cell_type": "code",
   "execution_count": 40,
   "metadata": {},
   "outputs": [
    {
     "data": {
      "text/plain": [
       "8"
      ]
     },
     "execution_count": 40,
     "metadata": {},
     "output_type": "execute_result"
    }
   ],
   "source": [
    "#rain tapping\n",
    "a=[2,1,3,2,1,2,4,3,2,1,3,1]\n",
    "def maxLeftHeight(start,end):\n",
    "    maxheight=0\n",
    "    if end<0:\n",
    "        return 0 \n",
    "    else:\n",
    "        while(start<=end):\n",
    "            maxheight=max(a[start],maxheight)\n",
    "            start+=1\n",
    "        return maxheight\n",
    "    \n",
    "def maxRightHeight(start,end):\n",
    "    maxheight=0\n",
    "    if start==len(a)-1:\n",
    "        return 0 \n",
    "    else:\n",
    "        while(start<end):\n",
    "            maxheight=max(a[start],maxheight)\n",
    "            start+=1\n",
    "        return maxheight\n",
    "    \n",
    "tapping=0\n",
    "\n",
    "for i in range(len(a)):\n",
    "    leftmax=maxLeftHeight(0,i-1)\n",
    "    rightmax=maxRightHeight(i+1,len(a)-1)\n",
    "    water=min(leftmax,rightmax)-a[i]\n",
    "    if water>0:\n",
    "        tapping+=water\n",
    "tapping"
   ]
  },
  {
   "cell_type": "code",
   "execution_count": 54,
   "metadata": {},
   "outputs": [
    {
     "data": {
      "text/plain": [
       "-500"
      ]
     },
     "execution_count": 54,
     "metadata": {},
     "output_type": "execute_result"
    }
   ],
   "source": [
    "import math\n",
    "A = [-500] \n",
    "csum=0\n",
    "msum=float('-inf')\n",
    "for i in range(len(A)):\n",
    "    csum+=A[i]\n",
    "    if csum>msum:\n",
    "        msum=csum\n",
    "    if csum<0:\n",
    "        csum=0\n",
    "\n",
    "msum"
   ]
  },
  {
   "cell_type": "code",
   "execution_count": 47,
   "metadata": {},
   "outputs": [
    {
     "data": {
      "text/plain": [
       "-600"
      ]
     },
     "execution_count": 47,
     "metadata": {},
     "output_type": "execute_result"
    }
   ],
   "source": [
    "max(-math.inf,-600)"
   ]
  },
  {
   "cell_type": "code",
   "execution_count": 71,
   "metadata": {},
   "outputs": [
    {
     "data": {
      "text/plain": [
       "8"
      ]
     },
     "execution_count": 71,
     "metadata": {},
     "output_type": "execute_result"
    }
   ],
   "source": [
    "#rain tapping\n",
    "A=[2,1,3,2,1,2,4,3,2,1,3,1]\n",
    "pfs=[]\n",
    "sfs=[]\n",
    "pfs.append(A[0])\n",
    "for i in range(len(A)):\n",
    "    sfs.append(0)\n",
    "for i in range(1,len(A)):\n",
    "    pfs.append(max(pfs[i-1],A[i]))\n",
    "\n",
    "sfs[len(A)-1]=(A[len(A)-1])\n",
    "for i in range(len(A)-2,0,-1):\n",
    "    sfs[i]=max(sfs[i+1],A[i])\n",
    "    \n",
    "tapping=0\n",
    "\n",
    "for i in range(1,len(A)-1):\n",
    "    leftmax=pfs[i-1]\n",
    "    rightmax=sfs[i+1]\n",
    "    water=min(leftmax,rightmax)-A[i]\n",
    "    if water>0:\n",
    "        tapping+=water\n",
    "tapping"
   ]
  },
  {
   "cell_type": "code",
   "execution_count": 89,
   "metadata": {},
   "outputs": [
    {
     "data": {
      "text/plain": [
       "[0, 0, 1, 2, 4]"
      ]
     },
     "execution_count": 89,
     "metadata": {},
     "output_type": "execute_result"
    }
   ],
   "source": [
    "\n",
    "arr = [0,0,1,2,3]\n",
    "arr[-1]+=1\n",
    "arr\n",
    "for j in range(len(arr)):\n",
    "    if arr[j]>0:\n",
    "        arr[j]=arr[j-1]+arr[j]\n",
    "arr"
   ]
  },
  {
   "cell_type": "code",
   "execution_count": 108,
   "metadata": {},
   "outputs": [
    {
     "name": "stdout",
     "output_type": "stream",
     "text": [
      "[1000248, 1000467, 1000467]\n",
      "1000467 1000248 False\n",
      "1111111111 1 1000467\n",
      "1000467 1000467 False\n"
     ]
    },
    {
     "data": {
      "text/plain": [
       "1000467"
      ]
     },
     "execution_count": 108,
     "metadata": {},
     "output_type": "execute_result"
    }
   ],
   "source": [
    "A = [ 1000248, 1000467, 1000467 ]\n",
    "\n",
    "\n",
    "\n",
    "def repeatedNumber(A):\n",
    "    arr=sorted(A)\n",
    "    print(arr)\n",
    "    majority=arr[0]\n",
    "    count=1\n",
    "    if len(arr)==1:\n",
    "        return majority\n",
    "    else:\n",
    "        for i in range(1,len(arr)):\n",
    "            print(arr[i],majority,count<len(arr)/3)\n",
    "            if arr[i]==majority:\n",
    "                count+=1\n",
    "                if count>=len(arr)//3+1:\n",
    "                    return majority\n",
    "\n",
    "            if arr[i]!=majority:\n",
    "                count=1\n",
    "                majority=arr[i]\n",
    "                print(\"1111111111\",count,majority)\n",
    "            \n",
    "        return -1\n",
    "\n",
    "\n",
    "repeatedNumber(A)"
   ]
  },
  {
   "cell_type": "code",
   "execution_count": 150,
   "metadata": {},
   "outputs": [
    {
     "name": "stdout",
     "output_type": "stream",
     "text": [
      "[] 1\n",
      "[1] 2\n",
      "[1, 2] 6\n",
      "[1, 2, 6] 24\n",
      "[1, 2, 6, 24] 2\n",
      "0\n",
      "1\n"
     ]
    },
    {
     "data": {
      "text/plain": [
       "['1', '12', '123', '1234', '2', '23', '234', '3', '34', '4']"
      ]
     },
     "execution_count": 150,
     "metadata": {},
     "output_type": "execute_result"
    }
   ],
   "source": [
    "A=1234\n",
    "b=str(A)\n",
    "l=[]\n",
    "for s in range(len(b)):\n",
    "    for e in range(s,len(b)):\n",
    "        l.append(b[s:e+1])\n",
    "s=[]    \n",
    "for i in  range(len(l)):\n",
    "    nresult=1\n",
    "    for j in range(len(l[i])):\n",
    "        nresult*=int(l[i][j])\n",
    "    if nresult in s:\n",
    "        return 0\n",
    "    s.append(nresult)\n",
    "   \n",
    "return 1"
   ]
  },
  {
   "cell_type": "code",
   "execution_count": 161,
   "metadata": {},
   "outputs": [
    {
     "data": {
      "text/plain": [
       "'1000'"
      ]
     },
     "execution_count": 161,
     "metadata": {},
     "output_type": "execute_result"
    }
   ],
   "source": [
    "A = \"110\"\n",
    "B = \"10\"\n",
    "A=int(A)\n",
    "B=int(B)\n",
    "s=\"\"\n",
    "carry=0\n",
    "while A>0 or B>0:\n",
    "    a_last_val=A%10\n",
    "    b_lat_val=B%10\n",
    "    sum=a_last_val+b_lat_val+carry\n",
    "    val=sum%2\n",
    "    s=str(val)+s\n",
    "    A//=10\n",
    "    B//=10\n",
    "    carry=sum//2\n",
    "if carry!=0:\n",
    "    s=str(carry)+s\n",
    "\n",
    "s "
   ]
  },
  {
   "cell_type": "code",
   "execution_count": null,
   "metadata": {},
   "outputs": [],
   "source": [
    "A = [5, -2, 3 , 1, 2]\n",
    "B = 3\n",
    "# So the sum in this case will be prefix[a-1] + suffix[n-(k-a)]\n",
    "for i in range(len(A)):\n",
    "    "
   ]
  },
  {
   "cell_type": "code",
   "execution_count": 162,
   "metadata": {},
   "outputs": [
    {
     "name": "stdout",
     "output_type": "stream",
     "text": [
      "4\n"
     ]
    }
   ],
   "source": [
    "A=[1,-1,3,4,-5,6]\n",
    "B=3\n",
    "n=len(A)\n",
    "print(n-B+1)"
   ]
  },
  {
   "cell_type": "code",
   "execution_count": 169,
   "metadata": {},
   "outputs": [
    {
     "name": "stdout",
     "output_type": "stream",
     "text": [
      "6\n",
      "1 3\n"
     ]
    }
   ],
   "source": [
    "#optimized approach\n",
    "s=0\n",
    "e=B-1\n",
    "sum=0\n",
    "maximum=0\n",
    "start=0\n",
    "end=B-1\n",
    "for i in range(s,e+1):\n",
    "    sum+=A[i]\n",
    "maximum=max(maximum,sum)\n",
    "\n",
    "s+=1\n",
    "e+=1\n",
    "\n",
    "while e<n:\n",
    "    sum=sum-A[s-1]+A[e]\n",
    "    if maximum !=max(maximum,sum):\n",
    "        start=s\n",
    "        end=e\n",
    "    maximum =max(maximum,sum)\n",
    "   \n",
    "     \n",
    "    s+=1\n",
    "    e+=1\n",
    "    \n",
    "print(maximum)\n",
    "print(start,end)"
   ]
  },
  {
   "cell_type": "code",
   "execution_count": 174,
   "metadata": {},
   "outputs": [
    {
     "data": {
      "text/plain": [
       "2"
      ]
     },
     "execution_count": 174,
     "metadata": {},
     "output_type": "execute_result"
    }
   ],
   "source": [
    "A = [1, 12, 10, 3, 14, 10, 5]\n",
    "B = 8\n",
    "\n",
    "count=0\n",
    "for i in range(len(A)):\n",
    "    if A[i]<=B:\n",
    "        count+=1\n",
    "count\n",
    "s=0\n",
    "e=count-1\n",
    "swap=0\n",
    "fswap=10000\n",
    "for i in range(s,e+1):\n",
    "    if A[i]>B:\n",
    "        swap+=1\n",
    "fswap=min(swap,fswap)\n",
    "s+=1\n",
    "e+=1\n",
    "\n",
    "while e<len(A):\n",
    "    if A[s-1]>B:\n",
    "        swap-=1\n",
    "    if A[e]>B:\n",
    "        swap+=1\n",
    "    fswap=min(swap,fswap)\n",
    "    s+=1\n",
    "    e+=1\n",
    "fswap\n",
    "    \n",
    "    "
   ]
  },
  {
   "cell_type": "code",
   "execution_count": 229,
   "metadata": {},
   "outputs": [
    {
     "name": "stdout",
     "output_type": "stream",
     "text": [
      "6\n",
      "5\n",
      "8\n",
      "6\n"
     ]
    },
    {
     "data": {
      "text/plain": [
       "8"
      ]
     },
     "execution_count": 229,
     "metadata": {},
     "output_type": "execute_result"
    }
   ],
   "source": [
    "A = [5,-2,3,1,2]\n",
    "B = 3\n",
    "s=0\n",
    "e=B-1\n",
    "n=len(A)\n",
    "\n",
    "pfs=[]\n",
    "sfs=[]\n",
    "pfs.append(A[0])\n",
    "sfs.append(0)\n",
    "for i in range(1,n):\n",
    "    pfs.append(pfs[i-1]+A[i])\n",
    "    sfs.append(0)\n",
    "    \n",
    "pfs\n",
    "sfs[n-1]=A[n-1]\n",
    "for i in range(n-2,-1,-1):\n",
    "    sfs[i]=sfs[i+1]+A[i]\n",
    "\n",
    "# print(sfs)\n",
    "# print(pfs)\n",
    "maxsum=float('-inf')\n",
    "for i in range(e+1,-1,-1):\n",
    "    sums=0\n",
    "    if B-i==0:\n",
    "        sums=pfs[i-1]\n",
    "    else:\n",
    "        if i==0:\n",
    "            sums=sfs[n-(B-i)]\n",
    "        else:\n",
    "            sums=pfs[i-1]+sfs[n-(B-i)]\n",
    "\n",
    "    print(sums)\n",
    "    maxsum=max(maxsum,sums)\n",
    "maxsum"
   ]
  },
  {
   "cell_type": "code",
   "execution_count": 234,
   "metadata": {},
   "outputs": [
    {
     "data": {
      "text/plain": [
       "[26, 51, 88, 95, 99, 100]"
      ]
     },
     "execution_count": 234,
     "metadata": {},
     "output_type": "execute_result"
    }
   ],
   "source": [
    "A=[93,57,83,41,100,10,79,27,94,22,4,96,48,18,89,37,21,5,46,81,15,30,47,23,34,65,55,9,36,20,54,17,7,56,78,84,87,97,16,69,28,11,44,49,8,25,98,75,53,62,19,24,80,68,50,91,1,86,77,14,72,66,42,63,73,45,31,61,85,64,35,32,92,71,74,3,99,52,90,43,6,40,38,2,12,59,29,82,76,60,67,13,70,58,39,33,95,88,51,26]\n",
    "maxelem=A[len(A)-1]\n",
    "li=[]\n",
    "li.append(maxelem)\n",
    "for i in range(len(A)-2,-1,-1):\n",
    "    if A[i]>maxelem:\n",
    "        li.append(A[i])\n",
    "        maxelem=A[i]\n",
    "li\n",
    "    "
   ]
  },
  {
   "cell_type": "code",
   "execution_count": 238,
   "metadata": {},
   "outputs": [
    {
     "data": {
      "text/plain": [
       "[3, 2, 1, 0, 0]"
      ]
     },
     "execution_count": 238,
     "metadata": {},
     "output_type": "execute_result"
    }
   ],
   "source": [
    "A=[0,0,1, 2, 3]\n",
    "A.reverse()\n",
    "# A.pop(0)\n",
    "A\n"
   ]
  },
  {
   "cell_type": "code",
   "execution_count": null,
   "metadata": {},
   "outputs": [],
   "source": []
  }
 ],
 "metadata": {
  "kernelspec": {
   "display_name": "Python 3 (ipykernel)",
   "language": "python",
   "name": "python3"
  },
  "language_info": {
   "codemirror_mode": {
    "name": "ipython",
    "version": 3
   },
   "file_extension": ".py",
   "mimetype": "text/x-python",
   "name": "python",
   "nbconvert_exporter": "python",
   "pygments_lexer": "ipython3",
   "version": "3.10.12"
  }
 },
 "nbformat": 4,
 "nbformat_minor": 2
}
