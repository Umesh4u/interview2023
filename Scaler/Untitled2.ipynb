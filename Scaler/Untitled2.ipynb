{
 "cells": [
  {
   "cell_type": "code",
   "execution_count": 2,
   "metadata": {},
   "outputs": [
    {
     "name": "stdout",
     "output_type": "stream",
     "text": [
      "[2, 11, 16]\n",
      "2\n",
      "11\n",
      "16\n"
     ]
    },
    {
     "data": {
      "text/plain": [
       "57"
      ]
     },
     "execution_count": 2,
     "metadata": {},
     "output_type": "execute_result"
    }
   ],
   "source": [
    "AK=[2,9,5]\n",
    "pfs=[]\n",
    "sum=0\n",
    "pfs.append(AK[0])\n",
    "for i in range(1,len(AK)):\n",
    "    pfs.append(pfs[i-1]+AK[i])\n",
    "print(pfs)\n",
    "for i in range(len(AK)):\n",
    "    for j in range(i,len(AK)):\n",
    "        if i==0:\n",
    "            sum+=pfs[j]\n",
    "            print(pfs[j],)\n",
    "        else:\n",
    "            sum+=pfs[j]-pfs[i-1]\n",
    "sum"
   ]
  },
  {
   "cell_type": "code",
   "execution_count": 33,
   "metadata": {},
   "outputs": [
    {
     "name": "stdout",
     "output_type": "stream",
     "text": [
      "12\n"
     ]
    }
   ],
   "source": [
    "A = [18,11,16,19,11,9,8,15,3,10,9,20,1,19]\n",
    "B = 1\n",
    "# A = [3, 7, 90, 20, 10, 50, 40]\n",
    "# B = 3\n",
    "s=0\n",
    "e=B\n",
    "index=0\n",
    "least_avg=0\n",
    "sum=0\n",
    "\n",
    "n=len(A)\n",
    "for i in range(s,B):\n",
    "    sum+=A[i]\n",
    "for s in range(s+1,n-B+1):\n",
    "    e=B+s-1\n",
    "    sum=sum-A[s-1]+A[e]\n",
    "#     print(sum)\n",
    "    if sum<least_avg or least_avg==0:\n",
    "        least_avg=sum\n",
    "        index=s\n",
    "print(index)"
   ]
  },
  {
   "cell_type": "code",
   "execution_count": 38,
   "metadata": {},
   "outputs": [
    {
     "name": "stdout",
     "output_type": "stream",
     "text": [
      "40\n",
      "53\n",
      "52\n",
      "58\n",
      "59\n",
      "59\n",
      "62\n",
      "46\n",
      "50\n"
     ]
    },
    {
     "data": {
      "text/plain": [
       "0"
      ]
     },
     "execution_count": 38,
     "metadata": {},
     "output_type": "execute_result"
    }
   ],
   "source": [
    "A = [5,15,7,6,3,4,18,14,13,7,3,7,2,18]\n",
    "B = 6\n",
    "def solve(A, B):\n",
    "        s=0\n",
    "        e=B\n",
    "        index=0\n",
    "        least_avg=0\n",
    "        sum=0\n",
    "\n",
    "        n=len(A)\n",
    "        for i in range(s,B):\n",
    "            sum+=A[i]\n",
    "        print(sum)\n",
    "        if sum<least_avg or least_avg==0:\n",
    "                least_avg=sum\n",
    "                index=s\n",
    "        for s in range(s+1,n-B+1):\n",
    "            e=B+s-1\n",
    "            sum=sum-A[s-1]+A[e]\n",
    "            print(sum)\n",
    "\n",
    "            if sum<least_avg or least_avg==0:\n",
    "                least_avg=sum\n",
    "                index=s\n",
    "        return index\n",
    "solve(A,B)"
   ]
  },
  {
   "cell_type": "code",
   "execution_count": null,
   "metadata": {},
   "outputs": [],
   "source": [
    "A = [1, 12, 10, 3, 14, 10, 5]\n",
    "B = 8\n",
    "for i in range()"
   ]
  }
 ],
 "metadata": {
  "kernelspec": {
   "display_name": "Python 3 (ipykernel)",
   "language": "python",
   "name": "python3"
  },
  "language_info": {
   "codemirror_mode": {
    "name": "ipython",
    "version": 3
   },
   "file_extension": ".py",
   "mimetype": "text/x-python",
   "name": "python",
   "nbconvert_exporter": "python",
   "pygments_lexer": "ipython3",
   "version": "3.10.12"
  }
 },
 "nbformat": 4,
 "nbformat_minor": 2
}
