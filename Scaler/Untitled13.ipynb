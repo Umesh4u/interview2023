{
 "cells": [
  {
   "cell_type": "code",
   "execution_count": null,
   "metadata": {},
   "outputs": [],
   "source": [
    "A=[2,6,8,7]->0\n",
    "find maximum size subarray divisible by 9\n",
    "A=[6,9,18,5,27]->2"
   ]
  },
  {
   "cell_type": "code",
   "execution_count": 3,
   "metadata": {},
   "outputs": [
    {
     "name": "stdout",
     "output_type": "stream",
     "text": [
      "0 0\n",
      "0 1\n",
      "0 2\n",
      "0 3\n",
      "1 1\n",
      "1 2\n",
      "1 3\n",
      "2 2\n",
      "2 3\n",
      "3 3\n"
     ]
    }
   ],
   "source": [
    "A=[2,6,8,7]\n",
    "ans=0\n",
    "\n",
    "for s in range(len(A)):\n",
    "    for e in range(s,len(A)):\n",
    "        print(s,e)\n"
   ]
  },
  {
   "cell_type": "code",
   "execution_count": 11,
   "metadata": {},
   "outputs": [
    {
     "name": "stdout",
     "output_type": "stream",
     "text": [
      "1 2\n",
      "5 4\n",
      "6 6\n",
      "7 8\n",
      "8 10\n",
      "12 10\n"
     ]
    },
    {
     "data": {
      "text/plain": [
       "[(0, 4), (5, 10), (12, 14)]"
      ]
     },
     "execution_count": 11,
     "metadata": {},
     "output_type": "execute_result"
    }
   ],
   "source": [
    "li=[(0,2),(1,4),(5,6),(6,8),(7,10),(8,9),(12,14)]\n",
    "B=[]\n",
    "curr_s=li[0][0]\n",
    "curr_e=li[0][1]\n",
    "for i in range(1,len(li)):\n",
    "    print(li[i][0],curr_e)\n",
    "    if li[i][0]<=curr_e:\n",
    "        curr_s=min(curr_s,li[i][0])\n",
    "        curr_e=max(curr_e,li[i][1])\n",
    "    else:\n",
    "        B.append((curr_s,curr_e))\n",
    "        curr_s=li[i][0]\n",
    "        curr_e=li[i][1]\n",
    "B.append((curr_s,curr_e))\n",
    "B\n",
    "        \n"
   ]
  },
  {
   "cell_type": "code",
   "execution_count": 43,
   "metadata": {},
   "outputs": [
    {
     "data": {
      "text/plain": [
       "[(1, 3), (4, 7), (10, 24), (27, 30), (32, 35), (38, 41), (43, 50)]"
      ]
     },
     "execution_count": 43,
     "metadata": {},
     "output_type": "execute_result"
    }
   ],
   "source": [
    "A=[(1,3),(4,7),(10,14),(16,19),(21,24),(27,30),(32,35),(38,41),(43,50)]\n",
    "def solve(A):\n",
    "    B=[]\n",
    "    new_s=12\n",
    "    new_e=22\n",
    "    for i in range(0,len(A)):\n",
    "        if new_s>A[i][1]:\n",
    "            B.append((A[i][0],A[i][1]))\n",
    "        elif new_e<A[i][0]:\n",
    "            B.append((new_s,new_e))\n",
    "\n",
    "            for j in range(i,len(A)):\n",
    "                B.append((A[j][0],A[j][1]))\n",
    "            return B\n",
    "        else:\n",
    "            new_s=min(new_s,A[i][0])\n",
    "            new_e=max(new_e,A[i][1])\n",
    "\n",
    "    B.append((new_s,new_e))\n",
    "    return B\n",
    "solve(A)\n",
    "\n",
    "    #     if new_s<=A[i][1] and new_e>=A[i][0]:\n",
    "    #         new_s=min(new_s,A[i][0])\n",
    "    #         new_e=max(new_e,A[i][1])\n",
    "    #     else:\n",
    "    #         B.append((A[i][0],A[i][1]))\n",
    "    #         print((A[i][0],A[i][1]))\n",
    "    \n",
    "        \n"
   ]
  },
  {
   "cell_type": "code",
   "execution_count": 45,
   "metadata": {},
   "outputs": [
    {
     "name": "stdout",
     "output_type": "stream",
     "text": [
      "2 10\n",
      "2 10\n",
      "3 98\n",
      "3 98\n",
      "4 98\n",
      "4 98\n",
      "4 98\n",
      "4 98\n",
      "4 98\n",
      "5 98\n",
      "5 98\n",
      "6 98\n",
      "8 98\n",
      "8 98\n",
      "9 98\n",
      "10 98\n",
      "11 98\n",
      "12 98\n",
      "15 98\n",
      "15 98\n",
      "15 98\n",
      "16 98\n",
      "17 98\n",
      "17 98\n",
      "17 98\n",
      "18 98\n",
      "18 98\n",
      "18 98\n",
      "19 98\n",
      "19 98\n",
      "20 98\n",
      "21 98\n",
      "22 98\n",
      "22 99\n",
      "23 100\n",
      "23 100\n",
      "23 100\n",
      "24 100\n",
      "26 100\n",
      "27 100\n",
      "29 100\n",
      "30 100\n",
      "30 100\n",
      "33 100\n",
      "34 100\n",
      "34 100\n",
      "36 100\n",
      "37 100\n",
      "43 100\n",
      "48 100\n",
      "48 100\n",
      "48 100\n",
      "48 100\n",
      "53 100\n",
      "53 100\n",
      "58 100\n",
      "59 100\n",
      "59 100\n",
      "60 100\n",
      "60 100\n",
      "61 100\n",
      "61 100\n",
      "62 100\n",
      "62 100\n",
      "63 100\n",
      "64 100\n",
      "66 100\n",
      "67 100\n",
      "69 100\n",
      "72 100\n",
      "73 100\n",
      "80 100\n",
      "80 100\n",
      "84 100\n",
      "84 100\n",
      "86 100\n",
      "95 100\n"
     ]
    },
    {
     "data": {
      "text/plain": [
       "[(1, 100)]"
      ]
     },
     "execution_count": 45,
     "metadata": {},
     "output_type": "execute_result"
    }
   ],
   "source": [
    "li =[ (30, 63), (66, 94), (36, 87), (16, 86), (26, 85), (24, 50), (17, 84), (5, 25), (67, 81), (23, 54), (84, 99), (48, 85), (23, 28), (3, 86), (63, 79), (18, 73), (6, 68), (34, 40), (61, 66), (60, 96), (95, 99), (1, 10), (4, 82), (19, 78), (23, 61), (30, 45), (53, 87), (10, 42), (80, 93), (33, 73), (64, 65), (29, 71), (73, 89), (2, 98), (62, 67), (84, 98), (43, 58), (20, 45), (86, 92), (22, 100), (72, 74), (5, 52), (48, 56), (69, 93), (8, 98), (37, 47), (19, 45), (22, 99), (34, 97), (21, 80), (58, 77), (48, 66), (59, 91), (18, 33), (2, 7), (8, 92), (12, 32), (17, 83), (11, 16), (60, 75), (9, 11), (3, 61), (4, 18), (53, 68), (17, 39), (18, 93), (15, 55), (4, 34), (48, 85), (61, 65), (59, 77), (15, 37), (62, 82), (4, 78), (80, 96), (4, 42), (15, 48), (27, 45) ]\n",
    "li.sort()\n",
    "B=[]\n",
    "curr_s=li[0][0]\n",
    "curr_e=li[0][1]\n",
    "for i in range(1,len(li)):\n",
    "    print(li[i][0],curr_e)\n",
    "    if li[i][0]<=curr_e:\n",
    "        curr_s=min(curr_s,li[i][0])\n",
    "        curr_e=max(curr_e,li[i][1])\n",
    "    else:\n",
    "        B.append((curr_s,curr_e))\n",
    "        curr_s=li[i][0]\n",
    "        curr_e=li[i][1]\n",
    "B.append((curr_s,curr_e))\n",
    "B"
   ]
  },
  {
   "cell_type": "code",
   "execution_count": 49,
   "metadata": {},
   "outputs": [
    {
     "data": {
      "text/plain": [
       "['how', 'hi', 'are', 'good', 'you', 'morning', 'doing', 'hjghf']"
      ]
     },
     "execution_count": 49,
     "metadata": {},
     "output_type": "execute_result"
    }
   ],
   "source": [
    "list1 = ['hi', 'good', 'morning']\n",
    "list2 = ['how', 'are', 'you', 'doing',\"hjghf\"]\n",
    "l1=[]\n",
    "n=len(list1)\n",
    "for i in range(len(list2)):\n",
    "    l1.append(list2[i])\n",
    "    if i<n:\n",
    "        l1.append(list1[i])\n",
    "l1"
   ]
  },
  {
   "cell_type": "code",
   "execution_count": 183,
   "metadata": {},
   "outputs": [
    {
     "name": "stdout",
     "output_type": "stream",
     "text": [
      "[3, 7, 1, 2, 7]\n",
      "[3, -7, -1, 2, 7]\n",
      "1\n"
     ]
    }
   ],
   "source": [
    "# arr=[-2, 4, -1, -6, 3, 7, 8, 4, -3 ]\n",
    "arr=[3,-2,1,2,7]\n",
    "n=len(arr)\n",
    "for i in range(n):\n",
    "    if arr[i]<=0:\n",
    "        arr[i]=n+2\n",
    "print(arr)\n",
    "for i in range(n):\n",
    "    ele=arr[i]\n",
    "    if ele>=1 and ele<=n:\n",
    "        arr[ele-1]*=-1\n",
    "print(arr)\n",
    "\n",
    "for i in range(len(arr)):\n",
    "    if arr[i]>0:\n",
    "        print(i+1)\n",
    "        break;\n",
    "else:\n",
    "    print(n+1)"
   ]
  },
  {
   "cell_type": "code",
   "execution_count": 112,
   "metadata": {},
   "outputs": [
    {
     "data": {
      "text/plain": [
       "[2, 1]"
      ]
     },
     "execution_count": 112,
     "metadata": {},
     "output_type": "execute_result"
    }
   ],
   "source": [
    "A=[1,2]\n",
    "n=len(A)\n",
    "if n>=2:\n",
    "    A[n-1],A[n-2]=A[n-2],A[n-1]\n",
    "    if A[n-1]>A[n-2]:\n",
    "        A[n-3],A[n-1]=A[n-1],A[n-3]\n",
    "A"
   ]
  },
  {
   "cell_type": "code",
   "execution_count": 119,
   "metadata": {},
   "outputs": [
    {
     "name": "stdout",
     "output_type": "stream",
     "text": [
      "8\n",
      "jjjjjjjjjjjjjjj\n"
     ]
    }
   ],
   "source": [
    "A=101111\n",
    "print(1<<3)\n",
    "k=1000\n",
    "if ((A&k)==0):\n",
    "    print(\"kkkkkkkkkkkk\")\n",
    "else:\n",
    "    print(\"jjjjjjjjjjjjjjj\")"
   ]
  },
  {
   "cell_type": "code",
   "execution_count": 125,
   "metadata": {},
   "outputs": [
    {
     "name": "stdout",
     "output_type": "stream",
     "text": [
      "40\n"
     ]
    }
   ],
   "source": [
    "n=0\n",
    "A=3\n",
    "B=5\n",
    "n=n|(1<<A)\n",
    "n=n|(1<<B)\n",
    "print(n)"
   ]
  },
  {
   "cell_type": "code",
   "execution_count": 128,
   "metadata": {},
   "outputs": [
    {
     "name": "stdout",
     "output_type": "stream",
     "text": [
      "4\n"
     ]
    }
   ],
   "source": [
    "A=4\n",
    "B=1\n",
    "if (A&(1<<B)!=0):\n",
    "    A=A^(1<<B)\n",
    "print(A)"
   ]
  },
  {
   "cell_type": "code",
   "execution_count": 129,
   "metadata": {},
   "outputs": [
    {
     "data": {
      "text/plain": [
       "6"
      ]
     },
     "execution_count": 129,
     "metadata": {},
     "output_type": "execute_result"
    }
   ],
   "source": [
    "A=4\n",
    "B=1\n",
    "A=A^(1<<B)\n",
    "A\n"
   ]
  },
  {
   "cell_type": "code",
   "execution_count": 130,
   "metadata": {},
   "outputs": [
    {
     "data": {
      "text/plain": [
       "3"
      ]
     },
     "execution_count": 130,
     "metadata": {},
     "output_type": "execute_result"
    }
   ],
   "source": [
    "n=11\n",
    "ans=0\n",
    "for i in range(33):\n",
    "    if (n&(1<<i)!=0):\n",
    "        ans+=1\n",
    "ans"
   ]
  },
  {
   "cell_type": "code",
   "execution_count": 150,
   "metadata": {},
   "outputs": [
    {
     "data": {
      "text/plain": [
       "2147483648"
      ]
     },
     "execution_count": 150,
     "metadata": {},
     "output_type": "execute_result"
    }
   ],
   "source": [
    "n=93\n",
    "for i in range(32):\n",
    "    \n",
    "    n=1<<i\n",
    "n\n"
   ]
  },
  {
   "cell_type": "code",
   "execution_count": 162,
   "metadata": {},
   "outputs": [
    {
     "data": {
      "text/plain": [
       "8"
      ]
     },
     "execution_count": 162,
     "metadata": {},
     "output_type": "execute_result"
    }
   ],
   "source": [
    "arr=[5,5,6,7,6,7,8]\n",
    "x=0\n",
    "for i in range(len(arr)):\n",
    "    x^=arr[i]\n",
    "x"
   ]
  },
  {
   "cell_type": "code",
   "execution_count": 165,
   "metadata": {},
   "outputs": [
    {
     "data": {
      "text/plain": [
       "0"
      ]
     },
     "execution_count": 165,
     "metadata": {},
     "output_type": "execute_result"
    }
   ],
   "source": [
    "10&(1<<2)"
   ]
  },
  {
   "cell_type": "code",
   "execution_count": null,
   "metadata": {},
   "outputs": [],
   "source": [
    "arr=[5,5,6,7,6,7,8]\n",
    "count=arr[0]\n",
    "for i in range(len(arr)):\n",
    "    for j in range(len(arr)):\n",
    "        ma"
   ]
  },
  {
   "cell_type": "code",
   "execution_count": 167,
   "metadata": {},
   "outputs": [
    {
     "name": "stdout",
     "output_type": "stream",
     "text": [
      "3 1\n",
      "3 2\n",
      "3\n"
     ]
    }
   ],
   "source": [
    "A = [1, 2, 2, 3, 1]\n",
    "ans=0\n",
    "for i in range(32):\n",
    "    cnt=0\n",
    "    for j in range(len(A)):\n",
    "        if A[j]&(1<<i)!=0:\n",
    "            cnt+=1\n",
    "    if cnt%2!=0:\n",
    "        print(cnt,1<<i)\n",
    "        ans+=1<<i\n",
    "print(ans)\n",
    "        \n",
    "            \n",
    "            \n",
    "        "
   ]
  },
  {
   "cell_type": "code",
   "execution_count": 168,
   "metadata": {},
   "outputs": [
    {
     "name": "stdout",
     "output_type": "stream",
     "text": [
      "1 4\n",
      "4\n"
     ]
    }
   ],
   "source": [
    "A = [1, 2, 4, 3, 3, 2, 2, 3, 1, 1]\n",
    "ans=0\n",
    "for i in range(32):\n",
    "    cnt=0\n",
    "    for j in range(len(A)):\n",
    "        if A[j]&(1<<i)!=0:\n",
    "            cnt+=1\n",
    "    if cnt%3!=0:\n",
    "        print(cnt,1<<i)\n",
    "        ans+=1<<i\n",
    "print(ans)\n",
    "        \n",
    "            \n",
    "            \n",
    "        "
   ]
  },
  {
   "cell_type": "code",
   "execution_count": 169,
   "metadata": {},
   "outputs": [
    {
     "data": {
      "text/plain": [
       "1"
      ]
     },
     "execution_count": 169,
     "metadata": {},
     "output_type": "execute_result"
    }
   ],
   "source": [
    "A = [1, 2, 3, 4, 5]\n",
    "v=0\n",
    "for i in range(len(A)):\n",
    "    v^=A[i]\n",
    "v\n",
    "    "
   ]
  },
  {
   "cell_type": "code",
   "execution_count": 177,
   "metadata": {},
   "outputs": [
    {
     "name": "stdout",
     "output_type": "stream",
     "text": [
      "10 9 8 7 6 5 4 3 2 1 "
     ]
    }
   ],
   "source": [
    "import sys\n",
    "sys.setrecursionlimit(10**6)\n",
    "def printAto1(A):\n",
    "    if(A == 0):\n",
    "        return\n",
    "    print(A, end = \" \")\n",
    "    printAto1(A - 1)\n",
    "class Solution:\n",
    "    # @param A : integer\n",
    "    def solve(self, A):\n",
    "        printAto1(A)\n",
    "        print()"
   ]
  },
  {
   "cell_type": "code",
   "execution_count": 179,
   "metadata": {},
   "outputs": [
    {
     "data": {
      "text/plain": [
       "1048576"
      ]
     },
     "execution_count": 179,
     "metadata": {},
     "output_type": "execute_result"
    }
   ],
   "source": [
    "2**20"
   ]
  },
  {
   "cell_type": "code",
   "execution_count": 180,
   "metadata": {},
   "outputs": [
    {
     "data": {
      "text/plain": [
       "5000000"
      ]
     },
     "execution_count": 180,
     "metadata": {},
     "output_type": "execute_result"
    }
   ],
   "source": [
    "5*(10**6)"
   ]
  },
  {
   "cell_type": "code",
   "execution_count": null,
   "metadata": {},
   "outputs": [],
   "source": [
    "5000000"
   ]
  }
 ],
 "metadata": {
  "kernelspec": {
   "display_name": "Python 3 (ipykernel)",
   "language": "python",
   "name": "python3"
  },
  "language_info": {
   "codemirror_mode": {
    "name": "ipython",
    "version": 3
   },
   "file_extension": ".py",
   "mimetype": "text/x-python",
   "name": "python",
   "nbconvert_exporter": "python",
   "pygments_lexer": "ipython3",
   "version": "3.10.12"
  }
 },
 "nbformat": 4,
 "nbformat_minor": 2
}
