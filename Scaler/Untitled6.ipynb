{
 "cells": [
  {
   "cell_type": "code",
   "execution_count": 6,
   "metadata": {},
   "outputs": [],
   "source": [
    "li=[5]\n"
   ]
  },
  {
   "cell_type": "code",
   "execution_count": 7,
   "metadata": {},
   "outputs": [
    {
     "data": {
      "text/plain": [
       "5"
      ]
     },
     "execution_count": 7,
     "metadata": {},
     "output_type": "execute_result"
    }
   ],
   "source": [
    "sum=0\n",
    "for i in range(len(li)):\n",
    "    sum+=li[i]*(i+1)\n",
    "sum"
   ]
  },
  {
   "cell_type": "code",
   "execution_count": 52,
   "metadata": {},
   "outputs": [],
   "source": [
    "arr=[1,2,7,0,9,3,6,0,6]"
   ]
  },
  {
   "cell_type": "code",
   "execution_count": 53,
   "metadata": {},
   "outputs": [
    {
     "name": "stdout",
     "output_type": "stream",
     "text": [
      "[9, 7, 6, 6, 3, 2, 1, 0, 0]\n"
     ]
    },
    {
     "data": {
      "text/plain": [
       "-1"
      ]
     },
     "execution_count": 53,
     "metadata": {},
     "output_type": "execute_result"
    }
   ],
   "source": [
    "def check_nobal(A):\n",
    "    A.sort(reverse=True)\n",
    "    print(A)\n",
    "    count=0\n",
    "    if A[0]==0:\n",
    "        return 1\n",
    "    for i in range(1,len(A)):\n",
    "        if A[i]!=A[i-1]:\n",
    "            count=i\n",
    "        if count==A[i]:\n",
    "            return 1\n",
    "        \n",
    "    else:\n",
    "        return -1\n",
    "#     arr.sort()\n",
    "\n",
    "#     for i in range(len(arr)):\n",
    "#         count=i\n",
    "#         print(count,arr[i])\n",
    "#         if count==arr[i]:\n",
    "#             return 1\n",
    "#     else:\n",
    "#         return -1\n",
    "    \n",
    "check_nobal(arr)"
   ]
  },
  {
   "cell_type": "code",
   "execution_count": 36,
   "metadata": {},
   "outputs": [
    {
     "data": {
      "text/plain": [
       "17"
      ]
     },
     "execution_count": 36,
     "metadata": {},
     "output_type": "execute_result"
    }
   ],
   "source": [
    "A = [8,16,80,55,32,8,38,40,65,18,15,45,50,38,54,52,23,74,81,42,28,16,66,35,91,36,44,9,85,58,59,49,75,20,87,60,17,11,39,62,20,17,46,26,81,92]\n",
    "B=9\n",
    "def solve(A,B):\n",
    "    minIndx = 0\n",
    "    for i in range(B):\n",
    "        minIndx=i\n",
    "        for j in range(i+1,len(A)):\n",
    "            if A[minIndx]>A[j]:\n",
    "                minIndx=j\n",
    "        A[i],A[minIndx]=A[minIndx],A[i]\n",
    "    return A[B-1]\n",
    "\n",
    "solve(A,B)\n"
   ]
  },
  {
   "cell_type": "code",
   "execution_count": 38,
   "metadata": {},
   "outputs": [
    {
     "name": "stdout",
     "output_type": "stream",
     "text": [
      "1\n",
      "1\n",
      "0\n"
     ]
    }
   ],
   "source": [
    "A=[3,5,1]\n",
    "A.sort()\n",
    "common_diff=A[1]-A[0]\n",
    "for i in range(1,len(A)):\n",
    "    if common_diff==A[i]-A[i-1]:\n",
    "        print(1)\n",
    "else:\n",
    "    print(0)"
   ]
  },
  {
   "cell_type": "code",
   "execution_count": 3,
   "metadata": {},
   "outputs": [
    {
     "name": "stdout",
     "output_type": "stream",
     "text": [
      "10\n",
      "30\n",
      "60\n",
      "20\n",
      "50\n",
      "30\n"
     ]
    }
   ],
   "source": [
    "#brute force\n",
    "ar = [10,20,30]\n",
    "for s in range(len(ar)):\n",
    "    for e in range(s,len(ar)):\n",
    "        sum=0\n",
    "        for j in range(s,e+1):\n",
    "            sum+=ar[j]\n",
    "        print(sum)\n",
    "        "
   ]
  },
  {
   "cell_type": "code",
   "execution_count": 18,
   "metadata": {},
   "outputs": [
    {
     "name": "stdout",
     "output_type": "stream",
     "text": [
      "60\n"
     ]
    }
   ],
   "source": [
    "PFS=[]\n",
    "maximum=0\n",
    "\n",
    "PFS.append(ar[0])\n",
    "for i in range(1,len(ar)):\n",
    "    PFS.append(PFS[i-1]+ar[i])\n",
    "for s in range(len(PFS)):\n",
    "    for e in range(s,len(PFS)):\n",
    "        sums=0\n",
    "        if s!=0:\n",
    "            sums=PFS[e]-PFS[s-1]\n",
    "        else:\n",
    "            sums=PFS[e]\n",
    "        maximum=max(maximum,sums)\n",
    "        \n",
    "print(maximum)"
   ]
  },
  {
   "cell_type": "code",
   "execution_count": 13,
   "metadata": {},
   "outputs": [
    {
     "data": {
      "text/plain": [
       "60"
      ]
     },
     "execution_count": 13,
     "metadata": {},
     "output_type": "execute_result"
    }
   ],
   "source": [
    "max(60,50)"
   ]
  },
  {
   "cell_type": "code",
   "execution_count": 23,
   "metadata": {},
   "outputs": [
    {
     "name": "stdout",
     "output_type": "stream",
     "text": [
      "10\n",
      "30\n",
      "60\n",
      "20\n",
      "50\n",
      "30\n",
      "60\n"
     ]
    }
   ],
   "source": [
    "maximum=0\n",
    "for s in range(len(ar)):\n",
    "    sums=0\n",
    "    for e in range(s,len(ar)):\n",
    "        sums+=ar[e]\n",
    "        print(sums)\n",
    "        maximum=max(maximum,sums)\n",
    "        \n",
    "print(maximum)"
   ]
  },
  {
   "cell_type": "code",
   "execution_count": 24,
   "metadata": {},
   "outputs": [],
   "source": [
    "A = \"100\"\n",
    "B = \"11\""
   ]
  },
  {
   "cell_type": "code",
   "execution_count": 25,
   "metadata": {},
   "outputs": [
    {
     "data": {
      "text/plain": [
       "'65'"
      ]
     },
     "execution_count": 25,
     "metadata": {},
     "output_type": "execute_result"
    }
   ],
   "source": [
    "for i in range(len(A)):\n",
    "    pass\n",
    "str(65)"
   ]
  },
  {
   "cell_type": "code",
   "execution_count": 34,
   "metadata": {},
   "outputs": [
    {
     "data": {
      "text/plain": [
       "'AdGBhjE'"
      ]
     },
     "execution_count": 34,
     "metadata": {},
     "output_type": "execute_result"
    }
   ],
   "source": [
    "s='aDgbHJe'\n",
    "li=[]\n",
    "for i in range(len(s)):\n",
    "    if s[i]>='A' and s[i]<='Z':\n",
    "        li.append(chr(ord(s[i])+32))\n",
    "    else:\n",
    "        li.append(chr(ord(s[i])-32))\n",
    "st=\"\".join(li)\n",
    "st"
   ]
  },
  {
   "cell_type": "code",
   "execution_count": 38,
   "metadata": {},
   "outputs": [
    {
     "data": {
      "text/plain": [
       "'relacs'"
      ]
     },
     "execution_count": 38,
     "metadata": {},
     "output_type": "execute_result"
    }
   ],
   "source": [
    "A=\"scaler\"\n",
    "li=[]\n",
    "i=len(A)-1\n",
    "while i>=0:\n",
    "    li.append(A[i])\n",
    "    i-=1\n",
    "st=\"\".join(li)\n",
    "st \n"
   ]
  },
  {
   "cell_type": "code",
   "execution_count": 52,
   "metadata": {},
   "outputs": [
    {
     "data": {
      "text/plain": [
       "'blue is sky the'"
      ]
     },
     "execution_count": 52,
     "metadata": {},
     "output_type": "execute_result"
    }
   ],
   "source": [
    "A = \"the sky is blue\"\n",
    "l=A.split()\n",
    "i=len(l)-1\n",
    "li=[]\n",
    "while(i>=0):\n",
    "    li.append(l[i])\n",
    "    i-=1\n",
    "st=\" \".join(li)\n",
    "st"
   ]
  },
  {
   "cell_type": "code",
   "execution_count": 58,
   "metadata": {},
   "outputs": [
    {
     "data": {
      "text/plain": [
       "'###z###z'"
      ]
     },
     "execution_count": 58,
     "metadata": {},
     "output_type": "execute_result"
    }
   ],
   "source": [
    "A=\"aeiOUz\"\n",
    "A=A*2\n",
    "s=\"\"\n",
    "result=\"\"\n",
    "for i in range(len(A)):\n",
    "    if A[i]>='a' and A[i]<='z':\n",
    "        s+=A[i]\n",
    "for i in range(len(s)):\n",
    "    if s[i]=='a' or s[i]=='e' or s[i]=='o' or s[i]=='i' or s[i]=='u':\n",
    "        result+=\"#\"\n",
    "    else:\n",
    "        result+=s[i]\n",
    "result"
   ]
  },
  {
   "cell_type": "code",
   "execution_count": 63,
   "metadata": {},
   "outputs": [
    {
     "name": "stdout",
     "output_type": "stream",
     "text": [
      "0\n",
      "1\n"
     ]
    }
   ],
   "source": [
    "A = ['S', 'c', 'a', 'l', 'e', 'r', 'A', 'c', 'a', 'd', 'e', 'm', 'y', '2', '0', '2', '0']\n",
    "for i in range(len(A)):\n",
    "    if not (A[i]>='A' and A[i]<='z' or A[i]>='0' and A[i]<='9'):\n",
    "        return 0\n",
    "return 1\n",
    "    "
   ]
  },
  {
   "cell_type": "code",
   "execution_count": 70,
   "metadata": {},
   "outputs": [
    {
     "name": "stdout",
     "output_type": "stream",
     "text": [
      "0 2\n",
      "1 3\n",
      "2 4\n",
      "3 5\n"
     ]
    },
    {
     "data": {
      "text/plain": [
       "2"
      ]
     },
     "execution_count": 70,
     "metadata": {},
     "output_type": "execute_result"
    }
   ],
   "source": [
    "A=\"bobbob\"\n",
    "k=3\n",
    "s=0\n",
    "e=k-1\n",
    "ans=0\n",
    "while(e<len(A)):\n",
    "    e=k+s-1\n",
    "    if A[s:e+1]==\"bob\":\n",
    "        ans+=1\n",
    "    s+=1\n",
    "    e+=1\n",
    "\n",
    "ans    "
   ]
  },
  {
   "cell_type": "code",
   "execution_count": 72,
   "metadata": {},
   "outputs": [],
   "source": [
    "A=\"ABEC\"\n",
    "for s in range(len(A)):\n",
    "    if A[s] in ['a','e','i','o','u']:\n",
    "        for e in range(i,len(A)):\n",
    "            print(s,e)\n",
    "            "
   ]
  },
  {
   "cell_type": "code",
   "execution_count": 8,
   "metadata": {},
   "outputs": [
    {
     "data": {
      "text/plain": [
       "[[1, 2, 3, 4, 5],\n",
       " [16, 17, 18, 19, 6],\n",
       " [15, 24, 25, 20, 7],\n",
       " [14, 23, 22, 21, 8],\n",
       " [13, 12, 11, 10, 9]]"
      ]
     },
     "execution_count": 8,
     "metadata": {},
     "output_type": "execute_result"
    }
   ],
   "source": [
    "A=[]\n",
    "\n",
    "n=5\n",
    "for j in range(n):\n",
    "    temp=[]\n",
    "    for i in range(n):\n",
    "        temp.append(0)\n",
    "    A.append(temp)\n",
    "i=0\n",
    "j=0\n",
    "val=1\n",
    "while(n>1):\n",
    "    for k in range(n-1):\n",
    "        A[i][j]=val\n",
    "        j+=1\n",
    "        val+=1\n",
    "    for k in range(n-1):\n",
    "        A[i][j]=val\n",
    "        i+=1\n",
    "        val+=1\n",
    "    for k in range(n-1):\n",
    "        A[i][j]=val\n",
    "        j-=1\n",
    "        val+=1\n",
    "    for k in range(n-1):\n",
    "        A[i][j]=val\n",
    "        i-=1\n",
    "        val+=1\n",
    "    i+=1\n",
    "    j+=1\n",
    "    n-=2\n",
    "if n==1:\n",
    "    A[i][j]=val\n",
    "A"
   ]
  },
  {
   "cell_type": "code",
   "execution_count": 11,
   "metadata": {},
   "outputs": [
    {
     "data": {
      "text/plain": [
       "40"
      ]
     },
     "execution_count": 11,
     "metadata": {},
     "output_type": "execute_result"
    }
   ],
   "source": [
    "#submatrix sums\n",
    "A=[ [1, 2],\n",
    "      [3, 4] ]\n",
    "n=len(A)\n",
    "ans=0\n",
    "for i in range(n):\n",
    "    for j in range(n):\n",
    "        top_left_freq =(i+1)*(j+1)\n",
    "        bottom_right_freq=(n-i)*(n-j)\n",
    "        contri = A[i][j]*top_left_freq*bottom_right_freq\n",
    "        ans+=contri\n",
    "ans"
   ]
  },
  {
   "cell_type": "code",
   "execution_count": 27,
   "metadata": {},
   "outputs": [
    {
     "name": "stdout",
     "output_type": "stream",
     "text": [
      "0 3\n",
      "1\n",
      "1 3\n",
      "1 2 1\n",
      "2\n",
      "2 2\n",
      "2 1 2\n",
      "3\n",
      "3 1\n",
      "3 0 3\n",
      "4\n"
     ]
    },
    {
     "data": {
      "text/plain": [
       "3"
      ]
     },
     "execution_count": 27,
     "metadata": {},
     "output_type": "execute_result"
    }
   ],
   "source": [
    "#maximum 1's\n",
    "A = [   [0, 0, 0, 0],\n",
    "         [0, 0, 0, 1],\n",
    "         [0, 0, 1, 1],\n",
    "         [0, 1, 1, 1]    ]\n",
    "i=0\n",
    "n=len(A)\n",
    "j=len(A)-1\n",
    "ans=-1\n",
    "while i<n and j>=0:\n",
    "    while j>=0 and A[i][j]==1:\n",
    "        j=j-1\n",
    "        ans=i\n",
    "    i+=1\n",
    "ans\n",
    "    \n",
    "    "
   ]
  },
  {
   "cell_type": "code",
   "execution_count": null,
   "metadata": {},
   "outputs": [],
   "source": []
  }
 ],
 "metadata": {
  "kernelspec": {
   "display_name": "Python 3 (ipykernel)",
   "language": "python",
   "name": "python3"
  },
  "language_info": {
   "codemirror_mode": {
    "name": "ipython",
    "version": 3
   },
   "file_extension": ".py",
   "mimetype": "text/x-python",
   "name": "python",
   "nbconvert_exporter": "python",
   "pygments_lexer": "ipython3",
   "version": "3.10.12"
  }
 },
 "nbformat": 4,
 "nbformat_minor": 2
}
