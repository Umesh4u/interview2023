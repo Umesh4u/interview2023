{
 "cells": [
  {
   "cell_type": "code",
   "execution_count": 1,
   "metadata": {},
   "outputs": [
    {
     "data": {
      "text/plain": [
       "2"
      ]
     },
     "execution_count": 1,
     "metadata": {},
     "output_type": "execute_result"
    }
   ],
   "source": [
    "-7%3"
   ]
  },
  {
   "cell_type": "code",
   "execution_count": 15,
   "metadata": {},
   "outputs": [
    {
     "data": {
      "text/plain": [
       "2"
      ]
     },
     "execution_count": 15,
     "metadata": {},
     "output_type": "execute_result"
    }
   ],
   "source": [
    "a=40\n",
    "b=7\n",
    "def GCD(a,b):\n",
    "    if b==0:\n",
    "        return a\n",
    "    return gcd(b,a%b)\n",
    "\n",
    "def gcd(a,b):\n",
    "    res=a-b\n",
    "    if res<b:\n",
    "        return res\n",
    "    else:\n",
    "        return gcd(res,b)\n",
    "GCD(a,b)    "
   ]
  },
  {
   "cell_type": "code",
   "execution_count": 100,
   "metadata": {},
   "outputs": [
    {
     "name": "stdout",
     "output_type": "stream",
     "text": [
      "18 30\n",
      "30 18\n",
      "18 12\n",
      "12 6\n",
      "6 0\n"
     ]
    },
    {
     "data": {
      "text/plain": [
       "6"
      ]
     },
     "execution_count": 100,
     "metadata": {},
     "output_type": "execute_result"
    }
   ],
   "source": [
    "a=18\n",
    "b=30\n",
    "def GCD(a,b):\n",
    "    print(a,b)\n",
    "    if b==0:\n",
    "        return a\n",
    "    return GCD(b,a%b)\n",
    "GCD(a,b)"
   ]
  },
  {
   "cell_type": "code",
   "execution_count": 25,
   "metadata": {},
   "outputs": [
    {
     "name": "stdout",
     "output_type": "stream",
     "text": [
      "0 6\n",
      "6 0\n",
      "6 12\n",
      "12 6\n",
      "6 0\n",
      "6 15\n",
      "15 6\n",
      "6 3\n",
      "3 0\n"
     ]
    },
    {
     "data": {
      "text/plain": [
       "3"
      ]
     },
     "execution_count": 25,
     "metadata": {},
     "output_type": "execute_result"
    }
   ],
   "source": [
    "A=[6,12,15]\n",
    "ans=0\n",
    "for i in range(len(A)):\n",
    "    ans=GCD(ans,A[i])\n",
    "ans"
   ]
  },
  {
   "cell_type": "code",
   "execution_count": 50,
   "metadata": {},
   "outputs": [
    {
     "name": "stdout",
     "output_type": "stream",
     "text": [
      "{0: 2, 1: 3, 5: 3, 2: 2, 3: 2}\n",
      "1\n",
      "sddsfs 2\n",
      "2\n",
      "eeeee 1\n",
      "eeeee 2\n"
     ]
    },
    {
     "data": {
      "text/plain": [
       "11"
      ]
     },
     "execution_count": 50,
     "metadata": {},
     "output_type": "execute_result"
    }
   ],
   "source": [
    "A=[6,7,5,11,19,20,9,15,14,13,12,23]\n",
    "B=6\n",
    "dict1={}\n",
    "for i in range(len(A)):\n",
    "    modulo =A[i]%B\n",
    "    if modulo in dict1:\n",
    "        dict1[modulo]+=1\n",
    "    else:\n",
    "        dict1[modulo]=1\n",
    "pair=0\n",
    "x=dict1[0]\n",
    "pair+=x*(x-1)//2\n",
    "if B%2==0:\n",
    "    x=dict1[B//2]\n",
    "    pair+=x*(x-1)//2\n",
    "for i in range(1,(B+1)//2):\n",
    "    pair+=dict1.get(i,0)*dict1.get((B-i),0)\n",
    "pair"
   ]
  },
  {
   "cell_type": "code",
   "execution_count": 43,
   "metadata": {},
   "outputs": [
    {
     "data": {
      "text/plain": [
       "13"
      ]
     },
     "execution_count": 43,
     "metadata": {},
     "output_type": "execute_result"
    }
   ],
   "source": [
    "6+4+3"
   ]
  },
  {
   "cell_type": "code",
   "execution_count": 47,
   "metadata": {},
   "outputs": [
    {
     "data": {
      "text/plain": [
       "3.5"
      ]
     },
     "execution_count": 47,
     "metadata": {},
     "output_type": "execute_result"
    }
   ],
   "source": [
    "(6+1)/2"
   ]
  },
  {
   "cell_type": "code",
   "execution_count": 52,
   "metadata": {},
   "outputs": [
    {
     "data": {
      "text/plain": [
       "5"
      ]
     },
     "execution_count": 52,
     "metadata": {},
     "output_type": "execute_result"
    }
   ],
   "source": [
    "(1 % 1) + (1 % 2) + (1 % 3) + (2 % 1) + (2 % 2) + (2 % 3) + (3 % 1) + (3 % 2) + (3 % 3)"
   ]
  },
  {
   "cell_type": "code",
   "execution_count": 57,
   "metadata": {},
   "outputs": [
    {
     "name": "stdout",
     "output_type": "stream",
     "text": [
      "1 1\n",
      "1 2\n",
      "1 3\n",
      "2 1\n",
      "2 2\n",
      "2 3\n",
      "3 1\n",
      "3 2\n",
      "3 3\n"
     ]
    },
    {
     "data": {
      "text/plain": [
       "5"
      ]
     },
     "execution_count": 57,
     "metadata": {},
     "output_type": "execute_result"
    }
   ],
   "source": [
    "A = [1, 2, 3]\n",
    "def solve(A):\n",
    "    M=10**9+7\n",
    "    contrib=[0]*1001\n",
    "    #since 1 <= A[i] <= 10**3 : max value=1000\n",
    "    for i in A: # made an index array with count details\n",
    "        contrib[i]+=1# for every elemnt in A , we have their count or contribution\n",
    "        \n",
    "    ans=0\n",
    "    for i in range(1,4):\n",
    "        for j in range(1,4): \n",
    "            print(i,j,)\n",
    "            ans+=((i%j)*contrib[i]*contrib[j])%M\n",
    "\n",
    "    # here i and j are elemnts in A and contrib[] array gives their count in A\n",
    "            ans=ans%M\n",
    "\n",
    "    return ans    \n",
    "solve(A)"
   ]
  },
  {
   "cell_type": "code",
   "execution_count": 102,
   "metadata": {},
   "outputs": [
    {
     "data": {
      "text/plain": [
       "3"
      ]
     },
     "execution_count": 102,
     "metadata": {},
     "output_type": "execute_result"
    }
   ],
   "source": [
    "pre_li=[]\n",
    "sufix_li=[]\n",
    "A=[24,16,18,30,15]\n",
    "def GCD(a,b):\n",
    "    if b==0:\n",
    "        return a\n",
    "    return GCD(b,a%b)\n",
    "a=0\n",
    "for i in A:\n",
    "    res=GCD(a,i)\n",
    "    a=res\n",
    "    pre_li.append(res)\n",
    "    sufix_li.append(0)\n",
    "\n",
    "    sufix_li[-1]=A[-1]\n",
    "for i in range((len(A)-1),0,-1):\n",
    "    res=GCD(A[i-1],sufix_li[i])\n",
    "    sufix_li[i-1]=res\n",
    "ans=max(sufix_li[1],pre_li[len(A)-2])\n",
    "for i in range(len(A)-1):\n",
    "    left=pre_li[i-1]\n",
    "    right=sufix_li[i+1]\n",
    "    curr_gcd = GCD(left,right)\n",
    "    ans=max(curr_gcd,ans)\n",
    "ans"
   ]
  },
  {
   "cell_type": "code",
   "execution_count": 109,
   "metadata": {},
   "outputs": [
    {
     "name": "stdout",
     "output_type": "stream",
     "text": [
      "iiiiiiiii 1 1\n",
      "[1]\n",
      "iiiiiiiii 2 2\n",
      "[1, 2]\n",
      "iiiiiiiii 3 3\n",
      "[1, 2, 3]\n",
      "jjjjjjjjjjjjjj\n",
      "iiiiiiiii 2 2\n",
      "[2]\n",
      "iiiiiiiii 3 3\n",
      "[2, 3]\n",
      "jjjjjjjjjjjjjj\n",
      "iiiiiiiii 3 3\n",
      "[3]\n",
      "jjjjjjjjjjjjjj\n"
     ]
    }
   ],
   "source": [
    "A=[1,2,3]\n",
    "for i in range(len(A)):\n",
    "    binary=0\n",
    "    for j in range(i,len(A)):\n",
    "        print(\"iiiiiiiii\",A[j],A[j]&binary)\n",
    "        print(A[i:j+1])\n",
    "    print(\"jjjjjjjjjjjjjj\")\n"
   ]
  },
  {
   "cell_type": "code",
   "execution_count": null,
   "metadata": {},
   "outputs": [],
   "source": []
  }
 ],
 "metadata": {
  "kernelspec": {
   "display_name": "Python 3 (ipykernel)",
   "language": "python",
   "name": "python3"
  },
  "language_info": {
   "codemirror_mode": {
    "name": "ipython",
    "version": 3
   },
   "file_extension": ".py",
   "mimetype": "text/x-python",
   "name": "python",
   "nbconvert_exporter": "python",
   "pygments_lexer": "ipython3",
   "version": "3.10.12"
  }
 },
 "nbformat": 4,
 "nbformat_minor": 2
}
