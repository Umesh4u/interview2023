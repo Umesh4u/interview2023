{
 "cells": [
  {
   "cell_type": "code",
   "execution_count": 2,
   "metadata": {},
   "outputs": [],
   "source": [
    "A=[-3,6,2,4,5,2,8,-9,3,1]\n",
    "Q=[[4,8],[3,7],[1,3],[0,4],[7,7]]"
   ]
  },
  {
   "cell_type": "code",
   "execution_count": 9,
   "metadata": {},
   "outputs": [
    {
     "name": "stdout",
     "output_type": "stream",
     "text": [
      "9\n",
      "10\n",
      "12\n",
      "14\n",
      "-9\n"
     ]
    }
   ],
   "source": [
    "#Brute force approch\n",
    "for i in range(len(Q)):\n",
    "    L=Q[i][0]\n",
    "    R=Q[i][1]\n",
    "    sum=0\n",
    "    for j in range(L,R+1):\n",
    "        sum+=A[j]\n",
    "    print(sum)\n",
    "#TC=O(Q*N)\n",
    "#SC=O(1)"
   ]
  },
  {
   "cell_type": "code",
   "execution_count": 10,
   "metadata": {},
   "outputs": [
    {
     "name": "stdout",
     "output_type": "stream",
     "text": [
      "9\n",
      "10\n",
      "12\n",
      "14\n",
      "-9\n"
     ]
    }
   ],
   "source": [
    "#OPTIMIZATION APPROACH\n",
    "PFA=[] #Prefix Array\n",
    "PFA.append(A[0]) #append first value\n",
    "for i in range(1,len(A)):\n",
    "    PFA.append(PFA[i-1]+A[i])\n",
    "for i in range(len(Q)):\n",
    "    L=Q[i][0]\n",
    "    R=Q[i][1]\n",
    "    sum=0\n",
    "    if L==0:\n",
    "        sum=PFA[R]\n",
    "    else:\n",
    "        sum=PFA[R]-PFA[L-1]\n",
    "    print(sum)\n",
    "#TC=O(N)\n",
    "#SC=O(N) because we are delare prefix array"
   ]
  },
  {
   "cell_type": "code",
   "execution_count": 11,
   "metadata": {},
   "outputs": [
    {
     "name": "stdout",
     "output_type": "stream",
     "text": [
      "9\n",
      "10\n",
      "12\n",
      "14\n",
      "-9\n"
     ]
    }
   ],
   "source": [
    "#FURTHER OPTIMIZTION\n",
    "'''we noticed in last optimization time complexity is okay which is O(N) but space Complexity is \n",
    "compramized because of we are creating new prefix array in loop .\n",
    "so we can improve space complxity by using original aaray we can sum the values in the original array\n",
    "but some times it is good practice or sum time not so if you do this in interview then first ask to \n",
    "intervewer I will modify original array so i can do that or not?'''\n",
    "\n",
    "A=[-3,6,2,4,5,2,8,-9,3,1]\n",
    "for i in range(1,len(A)):\n",
    "    A.append(A[i-1]+A[i])\n",
    "for i in range(len(Q)):\n",
    "    L=Q[i][0]\n",
    "    R=Q[i][1]\n",
    "    sum=0\n",
    "    if L==0:\n",
    "        sum=PFA[R]\n",
    "    else:\n",
    "        sum=PFA[R]-PFA[L-1]\n",
    "    print(sum)\n",
    "    \n",
    "#TC=O(N)\n",
    "#SC=O(1)"
   ]
  },
  {
   "cell_type": "code",
   "execution_count": 12,
   "metadata": {},
   "outputs": [],
   "source": [
    "#Q2. Sum of even indexed elements from L to R\n",
    "arr=[2,3,1,6,4,5]\n",
    "Q=[[1,3],[2,5],[0,4],[3,3]]\n"
   ]
  },
  {
   "cell_type": "code",
   "execution_count": 23,
   "metadata": {},
   "outputs": [
    {
     "name": "stdout",
     "output_type": "stream",
     "text": [
      "***************\n",
      "1\n",
      "***************\n",
      "5\n",
      "***************\n",
      "7\n",
      "***************\n",
      "0\n"
     ]
    }
   ],
   "source": [
    "for i in range(len(Q)):\n",
    "    L=Q[i][0]\n",
    "    R=Q[i][1]\n",
    "    sum=0\n",
    "    for j in range(L,R+1):\n",
    "        if j%2==0:\n",
    "            sum+=arr[j]\n",
    "            \n",
    "    print(sum)\n",
    "#TC=O(Q*N)\n",
    "#SC=O(1)"
   ]
  },
  {
   "cell_type": "code",
   "execution_count": 28,
   "metadata": {},
   "outputs": [
    {
     "name": "stdout",
     "output_type": "stream",
     "text": [
      "[2, 2, 3, 3, 7, 7]\n",
      "1\n",
      "5\n",
      "7\n",
      "0\n"
     ]
    }
   ],
   "source": [
    "#optimized approach\n",
    "PFE=[]\n",
    "PFE.append(arr[0])\n",
    "for i in range(1,len(arr)):\n",
    "    if i%2==0:\n",
    "        PFE.append(PFE[i-1]+arr[i])\n",
    "    else:\n",
    "        PFE.append(PFE[i-1])\n",
    "print(PFE)\n",
    "for i in range(len(Q)):\n",
    "    L=Q[i][0]\n",
    "    R=Q[i][1]\n",
    "    sum=0\n",
    "    if L==0:\n",
    "        sum=PFE[R]\n",
    "    else:\n",
    "        sum=PFE[R]-PFE[L-1]\n",
    "            \n",
    "    print(sum)\n",
    "#TC=O(Q+N)\n",
    "#SC=O(N)"
   ]
  },
  {
   "cell_type": "code",
   "execution_count": 29,
   "metadata": {},
   "outputs": [
    {
     "name": "stdout",
     "output_type": "stream",
     "text": [
      "[0, 3, 3, 9, 9, 14]\n",
      "9\n",
      "11\n",
      "9\n",
      "6\n"
     ]
    }
   ],
   "source": [
    "#for odd index\n",
    "#optimized approach\n",
    "PFO=[]\n",
    "PFO.append(0)\n",
    "for i in range(1,len(arr)):\n",
    "    if i%2!=0:\n",
    "        PFO.append(PFO[i-1]+arr[i])\n",
    "    else:\n",
    "        PFO.append(PFO[i-1])\n",
    "print(PFO)\n",
    "for i in range(len(Q)):\n",
    "    L=Q[i][0]\n",
    "    R=Q[i][1]\n",
    "    sum=0\n",
    "    if L==0:\n",
    "        sum=PFO[R]\n",
    "    else:\n",
    "        sum=PFO[R]-PFO[L-1]\n",
    "            \n",
    "    print(sum)\n",
    "#TC=O(Q+N)\n",
    "#SC=O(N)"
   ]
  },
  {
   "cell_type": "code",
   "execution_count": 56,
   "metadata": {},
   "outputs": [],
   "source": [
    "#special indexes\n",
    "arr =[4,3,2,7,6,-2]"
   ]
  },
  {
   "cell_type": "code",
   "execution_count": 66,
   "metadata": {},
   "outputs": [
    {
     "name": "stdout",
     "output_type": "stream",
     "text": [
      "8 8\n",
      "[3, 2, 7, 6, -2]\n",
      "9 8\n",
      "[4, 2, 7, 6, -2]\n",
      "9 9\n",
      "[4, 3, 7, 6, -2]\n",
      "4 9\n",
      "[4, 3, 2, 6, -2]\n",
      "4 10\n",
      "[4, 3, 2, 7, -2]\n",
      "12 10\n",
      "[4, 3, 2, 7, 6]\n"
     ]
    },
    {
     "data": {
      "text/plain": [
       "2"
      ]
     },
     "execution_count": 66,
     "metadata": {},
     "output_type": "execute_result"
    }
   ],
   "source": [
    "#brute force approach\n",
    "count=0\n",
    "for i in range(len(arr)):\n",
    "    A=[]\n",
    "    sume=0\n",
    "    sumo=0\n",
    "    for j in range(len(arr)):\n",
    "        if i==j:\n",
    "            continue\n",
    "        else:\n",
    "            A.append(arr[j])\n",
    "            \n",
    "    for k in range(len(A)):\n",
    "        if k%2==0:\n",
    "            sume+=A[k]\n",
    "        else:\n",
    "            sumo+=A[k]\n",
    "    if sume==sumo:\n",
    "        count+=1\n",
    "            \n",
    "count\n",
    "        "
   ]
  },
  {
   "cell_type": "code",
   "execution_count": null,
   "metadata": {},
   "outputs": [],
   "source": []
  },
  {
   "cell_type": "code",
   "execution_count": null,
   "metadata": {},
   "outputs": [],
   "source": []
  },
  {
   "cell_type": "code",
   "execution_count": null,
   "metadata": {},
   "outputs": [],
   "source": []
  }
 ],
 "metadata": {
  "kernelspec": {
   "display_name": "Python 3 (ipykernel)",
   "language": "python",
   "name": "python3"
  },
  "language_info": {
   "codemirror_mode": {
    "name": "ipython",
    "version": 3
   },
   "file_extension": ".py",
   "mimetype": "text/x-python",
   "name": "python",
   "nbconvert_exporter": "python",
   "pygments_lexer": "ipython3",
   "version": "3.10.12"
  }
 },
 "nbformat": 4,
 "nbformat_minor": 2
}
