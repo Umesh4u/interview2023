{
 "cells": [
  {
   "cell_type": "code",
   "execution_count": 51,
   "metadata": {},
   "outputs": [
    {
     "data": {
      "text/plain": [
       "45"
      ]
     },
     "execution_count": 51,
     "metadata": {},
     "output_type": "execute_result"
    }
   ],
   "source": [
    "a=9\n",
    "b=78\n",
    "# c=[2,1,3,4,5]\n",
    "c=[7,1,8,5,8,5,3,3,5]\n",
    "ans=0\n",
    "for i in range(a):\n",
    "    for j in range(i,a):\n",
    "        sum=0\n",
    "#         print(i,j)\n",
    "        for k in range(i,j+1):\n",
    "            sum+=c[k]\n",
    "#             print(sum,(i,j))\n",
    "        if sum>ans and sum<=b:\n",
    "            ans=sum\n",
    "ans            \n",
    "#               print(c[k],end=\" \")\n",
    "            "
   ]
  },
  {
   "cell_type": "code",
   "execution_count": 57,
   "metadata": {},
   "outputs": [
    {
     "data": {
      "text/plain": [
       "45"
      ]
     },
     "execution_count": 57,
     "metadata": {},
     "output_type": "execute_result"
    }
   ],
   "source": [
    "a=9\n",
    "b=78\n",
    "# c=[2,1,3,4,5]\n",
    "c=[7,1,8,5,8,5,3,3,5]\n",
    "ans=0\n",
    "pfs=[]\n",
    "pfs.append(c[0])\n",
    "for i in range(1,a):\n",
    "    pfs.append(pfs[i-1]+c[i])\n",
    "for i in range(a):\n",
    "    for j in range(i,a):\n",
    "        sum=0\n",
    "        if i==0:\n",
    "            sum+=pfs[j]\n",
    "        else:\n",
    "            sum+=pfs[j]-pfs[i-1]\n",
    "        if sum>ans and sum<=b:\n",
    "            ans=sum\n",
    "ans            \n",
    "            "
   ]
  },
  {
   "cell_type": "code",
   "execution_count": 64,
   "metadata": {},
   "outputs": [
    {
     "data": {
      "text/plain": [
       "57"
      ]
     },
     "execution_count": 64,
     "metadata": {},
     "output_type": "execute_result"
    }
   ],
   "source": [
    "AK=[2,9,5]\n",
    "sum=0\n",
    "n=len(AK)\n",
    "for i in range(len(AK)):\n",
    "    freq=(i+1)*(n-i)\n",
    "    contri=freq*AK[i]\n",
    "    sum+=contri\n",
    "#     print(freq)\n",
    "   \n",
    "sum\n"
   ]
  },
  {
   "cell_type": "code",
   "execution_count": 82,
   "metadata": {},
   "outputs": [
    {
     "data": {
      "text/plain": [
       "1"
      ]
     },
     "execution_count": 82,
     "metadata": {},
     "output_type": "execute_result"
    }
   ],
   "source": [
    "A = [6]\n",
    "B = 1\n",
    "C = 6\n",
    "def solve(A, B, C):\n",
    "    n=len(A)\n",
    "    s=0\n",
    "    e=B\n",
    "    sum=0\n",
    "    for i in range(s,e):\n",
    "        sum+=A[i]\n",
    "    if sum==C:\n",
    "        return 1\n",
    "    if n>1:\n",
    "        for s in range(s+1,n-B+1):\n",
    "            e=B+s-1\n",
    "            print(s,e)\n",
    "            sum=sum-A[s-1]+A[e]\n",
    "            if sum==C:\n",
    "                return 1\n",
    "        else:\n",
    "            return 0\n",
    "        \n",
    "solve(A,B,C)\n",
    "\n",
    "    "
   ]
  },
  {
   "cell_type": "code",
   "execution_count": 85,
   "metadata": {},
   "outputs": [
    {
     "name": "stdout",
     "output_type": "stream",
     "text": [
      "2\n",
      "7\n",
      "13\n",
      "5\n",
      "11\n",
      "6\n"
     ]
    },
    {
     "data": {
      "text/plain": [
       "4"
      ]
     },
     "execution_count": 85,
     "metadata": {},
     "output_type": "execute_result"
    }
   ],
   "source": [
    "#carry forword technique\n",
    "A = [2, 5, 6]\n",
    "B = 10\n",
    "count=0    \n",
    "for i in range(len(A)):\n",
    "    sum=0\n",
    "    for j in range(i,len(A)):\n",
    "        sum+=A[j]\n",
    "        if sum<B:\n",
    "            count+=1\n",
    "count        "
   ]
  },
  {
   "cell_type": "code",
   "execution_count": 87,
   "metadata": {},
   "outputs": [
    {
     "name": "stdout",
     "output_type": "stream",
     "text": [
      "15\n"
     ]
    }
   ],
   "source": [
    "A=[1,2,3,4,5]\n",
    "B=4\n",
    "n=len(A)\n",
    "subarr=n*(n+1)//2\n",
    "print(subarr)\n",
    "sum=0\n",
    "for i in range(n):\n",
    "    freq=(i+1)*(n-i)\n",
    "    contri=freq*A[i]\n",
    "    sum+=contri\n",
    "if subArr%2==0 and sum<B:\n",
    "    "
   ]
  },
  {
   "cell_type": "code",
   "execution_count": 94,
   "metadata": {},
   "outputs": [
    {
     "data": {
      "text/plain": [
       "2"
      ]
     },
     "execution_count": 94,
     "metadata": {},
     "output_type": "execute_result"
    }
   ],
   "source": [
    "A=[15,8,16]\n",
    "B = 242\n",
    "count=0    \n",
    "for i in range(len(A)):\n",
    "    sum=0\n",
    "    for j in range(i,len(A)):\n",
    "        length=j-i+1      \n",
    "        sum+=A[j]\n",
    "        if length%2==0 and sum<B:\n",
    "            count+=1\n",
    "        elif length%2!=0 and sum>B:\n",
    "            count+=1\n",
    "count        "
   ]
  },
  {
   "cell_type": "code",
   "execution_count": 95,
   "metadata": {},
   "outputs": [
    {
     "name": "stdout",
     "output_type": "stream",
     "text": [
      "0\n",
      "6\n"
     ]
    }
   ],
   "source": [
    "A = [3, 7, 90, 20, 10, 50, 40]\n",
    "B = 3\n",
    "index=0\n",
    "least_avg=0\n",
    "for i in range(len(A)):\n",
    "    sum=0\n",
    "    for j in range(i,len(A)):\n",
    "        sum+=A[j]\n",
    "        print(sum)\n",
    "        if sum<least_avg:\n",
    "            least_avg=sum\n",
    "            index=i\n",
    "print(least_avg)\n",
    "print(i)"
   ]
  },
  {
   "cell_type": "code",
   "execution_count": null,
   "metadata": {},
   "outputs": [],
   "source": [
    "s=0\n",
    "e=B\n",
    "n=len(A)\n",
    "while(e<n):\n",
    "    sum=0\n",
    "    for i in range(s,e):\n",
    "        sum+=A[j]\n",
    "    print(sum)\n",
    "    \n",
    "        "
   ]
  },
  {
   "cell_type": "code",
   "execution_count": null,
   "metadata": {},
   "outputs": [],
   "source": []
  },
  {
   "cell_type": "code",
   "execution_count": null,
   "metadata": {},
   "outputs": [],
   "source": []
  }
 ],
 "metadata": {
  "kernelspec": {
   "display_name": "Python 3 (ipykernel)",
   "language": "python",
   "name": "python3"
  },
  "language_info": {
   "codemirror_mode": {
    "name": "ipython",
    "version": 3
   },
   "file_extension": ".py",
   "mimetype": "text/x-python",
   "name": "python",
   "nbconvert_exporter": "python",
   "pygments_lexer": "ipython3",
   "version": "3.10.12"
  }
 },
 "nbformat": 4,
 "nbformat_minor": 2
}
