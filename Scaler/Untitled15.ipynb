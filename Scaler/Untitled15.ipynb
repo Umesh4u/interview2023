{
 "cells": [
  {
   "cell_type": "code",
   "execution_count": 1,
   "metadata": {},
   "outputs": [
    {
     "data": {
      "text/plain": [
       "11"
      ]
     },
     "execution_count": 1,
     "metadata": {},
     "output_type": "execute_result"
    }
   ],
   "source": [
    "#kedan's algo\n",
    "A=[-2,3,4,-1,5,-10,7]\n",
    "csum=0\n",
    "maxsum=0\n",
    "for i in range(len(A)):\n",
    "    csum+=A[i]\n",
    "    if csum<0:\n",
    "        csum=0\n",
    "        maxsum=max(maxsum,csum)\n",
    "    else:\n",
    "        maxsum=max(maxsum,csum)\n",
    "maxsum\n"
   ]
  },
  {
   "cell_type": "code",
   "execution_count": 2,
   "metadata": {},
   "outputs": [
    {
     "data": {
      "text/plain": [
       "[0, 3, 3, 4, 6, 6, 6]"
      ]
     },
     "execution_count": 2,
     "metadata": {},
     "output_type": "execute_result"
    }
   ],
   "source": [
    "#add elements from starting point to till last \n",
    "A=[0,0,0,0,0,0,0]\n",
    "B=[[1,3],[4,2],[3,1]]\n",
    "for i in range(len(B)):\n",
    "    idx=B[i][0]\n",
    "    val=B[i][1]\n",
    "    A[idx]+=val\n",
    "    \n",
    "for i in range(1,len(A)):\n",
    "    A[i]=A[i-1]+A[i]\n",
    "A\n",
    "    "
   ]
  },
  {
   "cell_type": "code",
   "execution_count": 33,
   "metadata": {},
   "outputs": [
    {
     "data": {
      "text/plain": [
       "[0, 2, 5, 5, 3, 2, -1]"
      ]
     },
     "execution_count": 33,
     "metadata": {},
     "output_type": "execute_result"
    }
   ],
   "source": [
    "#add elements in given range \n",
    "A=[0,0,0,0,0,0,0]\n",
    "B=[[1,3,2],[2,5,3],[5,6,-1]]\n",
    "\n",
    "for i in range(len(B)):\n",
    "    start_idx=B[i][0]\n",
    "    end_idx=B[i][1]\n",
    "    val=B[i][2]\n",
    "    A[start_idx]=val\n",
    "    if end_idx<len(A)-1:\n",
    "        A[end_idx+1]-=val\n",
    "    \n",
    "for i in range(1,len(A)):\n",
    "    A[i]=A[i-1]+A[i]\n",
    "A"
   ]
  },
  {
   "cell_type": "code",
   "execution_count": 36,
   "metadata": {},
   "outputs": [
    {
     "name": "stdout",
     "output_type": "stream",
     "text": [
      "1 2 3 4 5 6 12 18 24 30 36 35 34 33 32 31 25 19 13 7 8 9 10 11 17 23 29 28 27 26 20 14 15 16 22 21 "
     ]
    }
   ],
   "source": [
    "A=[[1, 2, 3, 4, 5,  6],\n",
    "   [7, 8, 9, 10,11,12],\n",
    "   [13,14,15,16,17,18],\n",
    "   [19,20,21,22,23,24],\n",
    "   [25,26,27,28,29,30],\n",
    "   [31,32,33,34,35,36]]\n",
    "\n",
    "i=0\n",
    "j=0\n",
    "n=len(A)\n",
    "while n>1:\n",
    "    for k in range(n-1):\n",
    "        print(A[i][j],end=\" \")\n",
    "        j+=1\n",
    "\n",
    "    for k in range(n-1):        \n",
    "        print(A[i][j],end=\" \")\n",
    "        i+=1\n",
    "\n",
    "    for k in range(n-1):\n",
    "        print(A[i][j],end=\" \")\n",
    "        j-=1\n",
    "\n",
    "    for k in range(n-1):\n",
    "        print(A[i][j],end=\" \")\n",
    "        i-=1\n",
    "    i+=1\n",
    "    j+=1\n",
    "    n-=2\n",
    "if n==1:\n",
    "    print(A[i][j])\n",
    "    \n"
   ]
  },
  {
   "cell_type": "code",
   "execution_count": 43,
   "metadata": {},
   "outputs": [
    {
     "name": "stdout",
     "output_type": "stream",
     "text": [
      "1 1\n"
     ]
    }
   ],
   "source": [
    "#array is sorted in row and column wise find element\n",
    "A=[[-5,-2,1,13],[-4,0,3,14],[-3,2,6,18]]\n",
    "i=0\n",
    "k=0\n",
    "j=len(A)\n",
    "while i<len(A) and j>=0:\n",
    "    if A[i][j]==k:\n",
    "        print(i,j)\n",
    "        break\n",
    "    elif A[i][j]<k:\n",
    "        i+=1\n",
    "    else:\n",
    "        j-=1\n"
   ]
  },
  {
   "cell_type": "code",
   "execution_count": 47,
   "metadata": {},
   "outputs": [
    {
     "data": {
      "text/plain": [
       "4"
      ]
     },
     "execution_count": 47,
     "metadata": {},
     "output_type": "execute_result"
    }
   ],
   "source": [
    "#data is sorted row wise find maximum one's containing row of smallest index(lexographicall)\n",
    "A=[[0,0,0,0,1,1],[0,0,1,1,1,1],[0,0,0,0,0,1],[0,0,0,0,1,1],[0,1,1,1,1,1],[0,0,0,1,1,1]]\n",
    "i=0\n",
    "j=len(A)-1\n",
    "idx=-1\n",
    "while i<len(A) and j>=0:\n",
    "    if A[i][j]==1:\n",
    "        j-=1\n",
    "        idx=i\n",
    "    elif A[i][j]==0:\n",
    "        i+=1\n",
    "idx\n"
   ]
  },
  {
   "cell_type": "code",
   "execution_count": 53,
   "metadata": {},
   "outputs": [
    {
     "name": "stdout",
     "output_type": "stream",
     "text": [
      "3 1 0\n",
      "3 4 2\n"
     ]
    },
    {
     "data": {
      "text/plain": [
       "5"
      ]
     },
     "execution_count": 53,
     "metadata": {},
     "output_type": "execute_result"
    }
   ],
   "source": [
    "A=[2,3,5,6,3,6,2]\n",
    "ans=0\n",
    "for i in range(32):\n",
    "    cnt=0\n",
    "    for j in range(len(A)):\n",
    "        if (A[j]&(1<<i)):\n",
    "            cnt+=1\n",
    "    if cnt%2!=0:\n",
    "        print(cnt,1<<i,i)\n",
    "        ans+=1<<i\n",
    "        \n",
    "ans\n",
    "        "
   ]
  },
  {
   "cell_type": "code",
   "execution_count": 56,
   "metadata": {},
   "outputs": [
    {
     "data": {
      "text/plain": [
       "8"
      ]
     },
     "execution_count": 56,
     "metadata": {},
     "output_type": "execute_result"
    }
   ],
   "source": [
    "0|1<<3"
   ]
  },
  {
   "cell_type": "code",
   "execution_count": 57,
   "metadata": {},
   "outputs": [
    {
     "data": {
      "text/plain": [
       "40"
      ]
     },
     "execution_count": 57,
     "metadata": {},
     "output_type": "execute_result"
    }
   ],
   "source": [
    "8|1<<5"
   ]
  },
  {
   "cell_type": "code",
   "execution_count": 66,
   "metadata": {},
   "outputs": [
    {
     "name": "stdout",
     "output_type": "stream",
     "text": [
      "5\n",
      "3 6\n"
     ]
    }
   ],
   "source": [
    "A = [3, 2, 4]\n",
    "v=0\n",
    "n=len(A)\n",
    "for i in range(len(A)):\n",
    "    v=v^A[i]\n",
    "v\n",
    "print(v)\n",
    "pos=0\n",
    "for i in range(32):\n",
    "    if v&(1<<i)!=0:\n",
    "        pos=i\n",
    "        break;\n",
    "sets=0\n",
    "unset=0\n",
    "for i in range(len(A)):\n",
    "    if A[i]&(1<<pos)!=0:\n",
    "        sets=sets^A[i]\n",
    "    else:\n",
    "        unset=unset^A[i]\n",
    "print(sets,unset)"
   ]
  },
  {
   "cell_type": "code",
   "execution_count": 67,
   "metadata": {},
   "outputs": [
    {
     "data": {
      "text/plain": [
       "[(1, 3), (4, 7), (10, 24), (27, 30), (32, 35), (38, 41), (43, 50)]"
      ]
     },
     "execution_count": 67,
     "metadata": {},
     "output_type": "execute_result"
    }
   ],
   "source": [
    "#non-overlapping elements in add new element if it is ovelap then merge intervals\n",
    "A=[(1,3),(4,7),(10,14),(16,19),(21,24),(27,30),(32,35),(38,41),(43,50)]\n",
    "def solve(A):\n",
    "    B=[]\n",
    "    new_s=12\n",
    "    new_e=22\n",
    "    for i in range(0,len(A)):\n",
    "        if new_s>A[i][1]:\n",
    "            B.append((A[i][0],A[i][1]))\n",
    "        elif new_e<A[i][0]:\n",
    "            B.append((new_s,new_e))\n",
    "\n",
    "            for j in range(i,len(A)):\n",
    "                B.append((A[j][0],A[j][1]))\n",
    "            return B\n",
    "        else:\n",
    "            new_s=min(new_s,A[i][0])\n",
    "            new_e=max(new_e,A[i][1])\n",
    "\n",
    "    B.append((new_s,new_e))\n",
    "    return B\n",
    "solve(A)\n"
   ]
  },
  {
   "cell_type": "code",
   "execution_count": 69,
   "metadata": {},
   "outputs": [
    {
     "data": {
      "text/plain": [
       "[(0, 4), (5, 10), (12, 14)]"
      ]
     },
     "execution_count": 69,
     "metadata": {},
     "output_type": "execute_result"
    }
   ],
   "source": [
    "#over-lapping intervals print merge intervals\n",
    "li=[(0,2),(1,4),(5,6),(6,8),(7,10),(8,9),(12,14)]\n",
    "B=[]\n",
    "curr_s=li[0][0]\n",
    "curr_e=li[0][1]\n",
    "for i in range(1,len(li)):\n",
    "    if li[i][0]<=curr_e:\n",
    "        curr_s=min(curr_s,li[i][0])\n",
    "        curr_e=max(curr_e,li[i][1])\n",
    "    else:\n",
    "        B.append((curr_s,curr_e))\n",
    "        curr_s=li[i][0]\n",
    "        curr_e=li[i][1]\n",
    "B.append((curr_s,curr_e))\n",
    "B\n",
    "      "
   ]
  },
  {
   "cell_type": "code",
   "execution_count": 71,
   "metadata": {},
   "outputs": [
    {
     "data": {
      "text/plain": [
       "4"
      ]
     },
     "execution_count": 71,
     "metadata": {},
     "output_type": "execute_result"
    }
   ],
   "source": [
    "arr=[3,-2,1,2,7]\n",
    "def firstMissingPositive(A):\n",
    "        n=len(A)\n",
    "        for i in range(len(A)):\n",
    "            if A[i] <= 0:\n",
    "                A[i] = n+2\n",
    "        for i in range(n):\n",
    "            ele = abs(A[i])\n",
    "            if ele >=1 and ele<=n:\n",
    "                A[ele-1] = -1*abs(A[ele-1])\n",
    "\n",
    "        for k in range(n):\n",
    "            if A[k] > 0:\n",
    "                return k+1\n",
    "        return n+1\n",
    "firstMissingPositive(arr)"
   ]
  },
  {
   "cell_type": "code",
   "execution_count": 75,
   "metadata": {},
   "outputs": [
    {
     "name": "stdout",
     "output_type": "stream",
     "text": [
      "0\n"
     ]
    },
    {
     "data": {
      "text/plain": [
       "1012"
      ]
     },
     "execution_count": 75,
     "metadata": {},
     "output_type": "execute_result"
    }
   ],
   "source": [
    "A=[[1,2,2],[4,5,6],[7,8,9]]\n",
    "B=2\n",
    "def solve(A, B):\n",
    "    i=0\n",
    "    j=len(A[0])-1\n",
    "    while i<len(A) and j>=0:\n",
    "        if A[i][j]==B:\n",
    "            res=(i+1)*1009+(j+1)\n",
    "            print(i)\n",
    "            return res\n",
    "        elif A[i][j]<B:\n",
    "            i+=1\n",
    "        else:\n",
    "            j-=1\n",
    "    else:\n",
    "        return -1\n",
    "    \n",
    "solve(A,B)"
   ]
  },
  {
   "cell_type": "code",
   "execution_count": 95,
   "metadata": {},
   "outputs": [
    {
     "data": {
      "text/plain": [
       "[0, 1, 0]"
      ]
     },
     "execution_count": 95,
     "metadata": {},
     "output_type": "execute_result"
    }
   ],
   "source": [
    "A=[1,2,3]\n",
    "B=[0,1,2]\n",
    "# 3&(1<<0)\n",
    "# for i in B:\n",
    "#     pairs = []\n",
    "#     for j in range(len(A)-1):\n",
    "#         if (A[j]&A[j+1])&(1<<i):\n",
    "#             pairs.append((A[j],A[j+1]))\n",
    "#     print(pairs)\n",
    "    \n",
    "def solve(A, B):\n",
    "    # max_num=max(A)\n",
    "    # bit_counts=[0]*(max_num+1)\n",
    "    # for num in A:\n",
    "    #     for i in range(32):\n",
    "    #         if num&(1<<i):\n",
    "    #             bit_counts[num]+=1\n",
    "    pair_counts=[]\n",
    "    for b in B:\n",
    "        pairs=[]\n",
    "        a=0\n",
    "        for i in range(len(A)-1):\n",
    "#             for j in range(i+1, len(A)):\n",
    "            if (A[i] & A[i+1])&(1<<b):\n",
    "                a+=1\n",
    "#                     pairs.append((A[i],A[j]))\n",
    "\n",
    "#             print(pairs)\n",
    "        pair_counts.append(a)\n",
    "\n",
    "\n",
    "    return pair_counts\n",
    "solve(A,B)          \n",
    "        "
   ]
  },
  {
   "cell_type": "code",
   "execution_count": 81,
   "metadata": {},
   "outputs": [
    {
     "name": "stdout",
     "output_type": "stream",
     "text": [
      "6\n"
     ]
    }
   ],
   "source": [
    "def max_subarray_with_decreasing_weights(arr):\n",
    "    max_sum = 0\n",
    "    current_sum = 0\n",
    "    \n",
    "    for i, num in enumerate(arr):\n",
    "        current_sum = max(current_sum + num, num)\n",
    "        max_sum = max(max_sum, current_sum)\n",
    "        \n",
    "        # Reset current_sum to 0 if the next weight is not strictly less than the current weight\n",
    "        if i < len(arr) - 1 and arr[i + 1] >= num:\n",
    "            current_sum = 0\n",
    "    \n",
    "    return max_sum\n",
    "\n",
    "A = [3, 2,1]\n",
    "print(max_subarray_with_decreasing_weights(A))\n"
   ]
  },
  {
   "cell_type": "code",
   "execution_count": 82,
   "metadata": {},
   "outputs": [
    {
     "name": "stdout",
     "output_type": "stream",
     "text": [
      "[1, 1, 0]\n"
     ]
    }
   ],
   "source": [
    "def pairs_with_bit_set(A, B):\n",
    "    pairs_counts = []\n",
    "    for b in B:\n",
    "        pairs = []\n",
    "        for i in range(len(A)):\n",
    "            for j in range(i + 1, len(A)):\n",
    "                if (A[i] & A[j]) & (1 << b):\n",
    "                    pairs.append((A[i], A[j]))\n",
    "        pairs_counts.append(len(pairs))\n",
    "    return pairs_counts\n",
    "\n",
    "A = [1, 2, 3]\n",
    "B = [0, 1, 2]\n",
    "print(pairs_with_bit_set(A, B))\n"
   ]
  },
  {
   "cell_type": "code",
   "execution_count": 84,
   "metadata": {},
   "outputs": [
    {
     "data": {
      "text/plain": [
       "[0, 0, 0]"
      ]
     },
     "execution_count": 84,
     "metadata": {},
     "output_type": "execute_result"
    }
   ],
   "source": [
    "def solve(A, B):\n",
    "    max_num=max(A)\n",
    "    bit_counts=[0]*(max_num+1)\n",
    "    for num in A:\n",
    "        for i in range(32):\n",
    "            if num&(1<<i):\n",
    "                bit_counts[num]+=1\n",
    "    pair_counts=[]\n",
    "    for b in B:\n",
    "        count=0\n",
    "        for num in A:\n",
    "            if num&(1<<b):\n",
    "                count+=bit_counts[num]-1\n",
    "\n",
    "        pair_counts.append(count//2)\n",
    "\n",
    "    return pair_counts\n",
    "A=[1,2,3]\n",
    "B=[0,1,2]\n",
    "solve(A,B)"
   ]
  },
  {
   "cell_type": "code",
   "execution_count": null,
   "metadata": {},
   "outputs": [],
   "source": []
  }
 ],
 "metadata": {
  "kernelspec": {
   "display_name": "Python 3 (ipykernel)",
   "language": "python",
   "name": "python3"
  },
  "language_info": {
   "codemirror_mode": {
    "name": "ipython",
    "version": 3
   },
   "file_extension": ".py",
   "mimetype": "text/x-python",
   "name": "python",
   "nbconvert_exporter": "python",
   "pygments_lexer": "ipython3",
   "version": "3.10.12"
  }
 },
 "nbformat": 4,
 "nbformat_minor": 2
}
