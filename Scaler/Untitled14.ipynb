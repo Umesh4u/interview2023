{
 "cells": [
  {
   "cell_type": "code",
   "execution_count": 13,
   "metadata": {},
   "outputs": [],
   "source": [
    "# A=[26,13,23,28,27,7,25]\n",
    "A=[5, 4, 6, 8, 5]\n",
    "\n"
   ]
  },
  {
   "cell_type": "code",
   "execution_count": 14,
   "metadata": {},
   "outputs": [
    {
     "name": "stdout",
     "output_type": "stream",
     "text": [
      "[5, 0, 0, 0, 5]\n",
      "5\n",
      "5\n"
     ]
    }
   ],
   "source": [
    "def checkbit(n,i):\n",
    "    if(n&(1<<i)==0):\n",
    "        return False\n",
    "    else:\n",
    "        return True\n",
    "    \n",
    "def solve(A):\n",
    "    ans=0\n",
    "    for i in range(30,-1,-1):\n",
    "        cnt=0\n",
    "        for j in range(len(A)):\n",
    "            if checkbit(A[j],i):\n",
    "                cnt+=1\n",
    "        if cnt>=2:\n",
    "            ans=ans+(1<<i)\n",
    "            for j in range(len(A)):\n",
    "                if (checkbit(A[j],i)==False):\n",
    "                    A[j]=0\n",
    "    return ans\n",
    "\n",
    "solve(A)\n",
    "print(A)\n",
    "for i in A:\n",
    "    if i!=0:\n",
    "        print(i)\n",
    "    "
   ]
  },
  {
   "cell_type": "code",
   "execution_count": 20,
   "metadata": {},
   "outputs": [
    {
     "name": "stdout",
     "output_type": "stream",
     "text": [
      "0\n",
      "[5, 0, 0, 0, 5]\n"
     ]
    }
   ],
   "source": [
    "ans = 0;\n",
    "\n",
    "for i in range(31,-1,-1):\n",
    "\n",
    "    count = 0;\n",
    "    cnt=0\n",
    "    for j in range(len(A)):\n",
    "        if(A[j] & (1 << i)):\n",
    "            cnt+=1;\n",
    "    \n",
    "    \n",
    "    if(count >= 2):\n",
    "        ans = ans | (1 << i);\n",
    "        \n",
    "        for j in range(len(A)):\n",
    "            if(A[j] & (1 << i) == 0):\n",
    "                A[j] = 0;\n",
    "        \n",
    "        \n",
    "    \n",
    "\n",
    "\n",
    "print(ans);\n",
    "print(A)"
   ]
  },
  {
   "cell_type": "code",
   "execution_count": null,
   "metadata": {},
   "outputs": [],
   "source": [
    "\n",
    "        "
   ]
  },
  {
   "cell_type": "code",
   "execution_count": null,
   "metadata": {},
   "outputs": [],
   "source": [
    "\n"
   ]
  }
 ],
 "metadata": {
  "kernelspec": {
   "display_name": "Python 3 (ipykernel)",
   "language": "python",
   "name": "python3"
  },
  "language_info": {
   "codemirror_mode": {
    "name": "ipython",
    "version": 3
   },
   "file_extension": ".py",
   "mimetype": "text/x-python",
   "name": "python",
   "nbconvert_exporter": "python",
   "pygments_lexer": "ipython3",
   "version": "3.10.12"
  }
 },
 "nbformat": 4,
 "nbformat_minor": 2
}
