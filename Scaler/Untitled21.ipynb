{
 "cells": [
  {
   "cell_type": "code",
   "execution_count": 7,
   "metadata": {},
   "outputs": [
    {
     "data": {
      "text/plain": [
       "0"
      ]
     },
     "execution_count": 7,
     "metadata": {},
     "output_type": "execute_result"
    }
   ],
   "source": [
    "A = [ \n",
    "      [1,   3,  5,  7],\n",
    "      [10, 11, 16, 20],\n",
    "      [23, 30, 34, 50]  \n",
    "    ]\n",
    "B = 3\n",
    "\n",
    "def BinarySearching(A,B):\n",
    "    m=len(A)\n",
    "    n=len(A[0])\n",
    "    left=0\n",
    "    right=m*n-1\n",
    "    \n",
    "    while left<=right:\n",
    "        mid=left+(right-left)//2\n",
    "        row = int(mid / n) \n",
    "        col = int(mid % n)\n",
    "        \n",
    "        if A[row][col]==B:\n",
    "            return 1\n",
    "            break\n",
    "        elif A[row][col]<B:\n",
    "            left=mid+1\n",
    "        else:\n",
    "            right=mid-1\n",
    "    return 0\n",
    "\n",
    "# A=[3,6,9,12,14,19,20,13,25,27]\n",
    "BinarySearching(A,4)"
   ]
  },
  {
   "cell_type": "code",
   "execution_count": 20,
   "metadata": {},
   "outputs": [
    {
     "name": "stdout",
     "output_type": "stream",
     "text": [
      "3\n",
      "5\n",
      "6\n",
      "7\n"
     ]
    },
    {
     "data": {
      "text/plain": [
       "7"
      ]
     },
     "execution_count": 20,
     "metadata": {},
     "output_type": "execute_result"
    }
   ],
   "source": [
    "def solve(A,B):\n",
    "    l=0\n",
    "    r=len(A)-1\n",
    "    while l<=r:\n",
    "        mid = l+(r-l)//2\n",
    "        if A[mid]==B:\n",
    "            return mid\n",
    "        if B<A[0]:\n",
    "            if A[mid]>=A[0]: #Part 1\n",
    "                l=mid+1\n",
    "            else:\n",
    "                if A[mid]<B:\n",
    "                    l=mid+1\n",
    "                else:\n",
    "                    r=mid-1\n",
    "        else:\n",
    "            if A[mid]<A[0]:\n",
    "                r=mid-1\n",
    "            else:\n",
    "                if A[mid]<B:\n",
    "                    l=mid+1\n",
    "                else:\n",
    "                    r=mid-1\n",
    "    return -1\n",
    "            \n",
    "        \n",
    "    \n",
    "    \n",
    "A = [4, 5, 6, 7, 0, 1, 2, 3]\n",
    "B = 3\n",
    "solve(A,B)"
   ]
  },
  {
   "cell_type": "code",
   "execution_count": 33,
   "metadata": {},
   "outputs": [
    {
     "name": "stdout",
     "output_type": "stream",
     "text": [
      "0 1 0\n",
      "1 1 1\n"
     ]
    },
    {
     "data": {
      "text/plain": [
       "1"
      ]
     },
     "execution_count": 33,
     "metadata": {},
     "output_type": "execute_result"
    }
   ],
   "source": [
    "def squareRoot(A):\n",
    "    l=0\n",
    "    r=A\n",
    "    while l<=r:\n",
    "        mid=l+(r-l)//2\n",
    "        print(l,r,maid)\n",
    "        if mid*mid==A:\n",
    "            return mid\n",
    "        if mid*mid<A:\n",
    "            ans=mid\n",
    "            l=mid+1\n",
    "        if mid*mid>A:\n",
    "            r=mid-1\n",
    "    return ans\n",
    "A=1\n",
    "squareRoot(A)"
   ]
  },
  {
   "cell_type": "code",
   "execution_count": 40,
   "metadata": {},
   "outputs": [
    {
     "data": {
      "text/plain": [
       "6"
      ]
     },
     "execution_count": 40,
     "metadata": {},
     "output_type": "execute_result"
    }
   ],
   "source": [
    "import math\n",
    "def magical(A,B,C):\n",
    "    l=min(B,C)\n",
    "    r=A*min(B,C)\n",
    "    lcm = math.lcm(B,C)\n",
    "    ans=0\n",
    "    while l<=r:\n",
    "        m=l+(r-l)//2\n",
    "        count=(m//B)+(m//C)-(m//lcm)\n",
    "        if count<A:\n",
    "            l=m+1\n",
    "        elif count>A:\n",
    "            r=m-1\n",
    "        else:\n",
    "            ans=m\n",
    "            r=m-1\n",
    "    return ans\n",
    "A = 4\n",
    "B = 2\n",
    "C = 3\n",
    "magical(A,B,C)"
   ]
  },
  {
   "cell_type": "code",
   "execution_count": null,
   "metadata": {},
   "outputs": [],
   "source": []
  }
 ],
 "metadata": {
  "kernelspec": {
   "display_name": "Python 3 (ipykernel)",
   "language": "python",
   "name": "python3"
  },
  "language_info": {
   "codemirror_mode": {
    "name": "ipython",
    "version": 3
   },
   "file_extension": ".py",
   "mimetype": "text/x-python",
   "name": "python",
   "nbconvert_exporter": "python",
   "pygments_lexer": "ipython3",
   "version": "3.10.12"
  }
 },
 "nbformat": 4,
 "nbformat_minor": 2
}
