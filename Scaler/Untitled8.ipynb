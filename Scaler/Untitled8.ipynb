{
 "cells": [
  {
   "cell_type": "code",
   "execution_count": 25,
   "metadata": {},
   "outputs": [
    {
     "name": "stdout",
     "output_type": "stream",
     "text": [
      "1 5 100 20.0\n",
      "2 6 128 25.6\n",
      "3 7 123 24.6\n",
      "4 8 109 21.8\n",
      "5 9 119 23.8\n",
      "6 10 128 25.6\n",
      "7 11 111 22.2\n",
      "8 12 75 15.0\n",
      "2\n"
     ]
    }
   ],
   "source": [
    "A=[17,1,47,22,21,9,29,42,8,31,18,12,6]\n",
    "B=5\n",
    "c=38\n",
    "s=0\n",
    "e=B-1\n",
    "i=s\n",
    "avg=0\n",
    "sum=0\n",
    "ans=0\n",
    "for i in range(s,e+1):\n",
    "    sum+=A[i]\n",
    "# print(sum/3)\n",
    "s+=1\n",
    "e+=1\n",
    "avg=sum/B\n",
    "if avg<=c:\n",
    "    ans+=1\n",
    "avg=0\n",
    "while e<len(A):\n",
    "#     print(sum,A[s-1],A[e])\n",
    "    sum=sum-A[s-1]+A[e]\n",
    "    print(s,e,sum,sum/B)\n",
    "    s+=1\n",
    "    e+=1\n",
    "avg=sum/B\n",
    "if avg<=c:\n",
    "    ans+=1\n",
    "print(ans)\n",
    "    \n",
    "    \n",
    "    "
   ]
  },
  {
   "cell_type": "code",
   "execution_count": 32,
   "metadata": {},
   "outputs": [
    {
     "name": "stdout",
     "output_type": "stream",
     "text": [
      "[1, 1, 2]\n",
      "[2, 1]\n"
     ]
    }
   ],
   "source": [
    "A=[1,-1,0]\n",
    "B=[[0,2],[1,2]]\n",
    "li=[]\n",
    "pfa=[]\n",
    "if A[0]>=0:\n",
    "        pfa.append(1)\n",
    "for i in range(1,len(A)):\n",
    "    if A[i]>=0:\n",
    "        pfa.append(pfa[i-1]+1)\n",
    "    else:\n",
    "        pfa.append(pfa[i-1])\n",
    "for i in range(len(B)):\n",
    "    L=B[i][0]\n",
    "    R=B[i][1]\n",
    "    ans=0\n",
    "    if L==0:\n",
    "        li.append(pfa[R])\n",
    "    else:\n",
    "        li.append(pfa[R]-pfa[L-1])\n",
    "print(li)\n"
   ]
  },
  {
   "cell_type": "code",
   "execution_count": null,
   "metadata": {},
   "outputs": [],
   "source": []
  }
 ],
 "metadata": {
  "kernelspec": {
   "display_name": "Python 3 (ipykernel)",
   "language": "python",
   "name": "python3"
  },
  "language_info": {
   "codemirror_mode": {
    "name": "ipython",
    "version": 3
   },
   "file_extension": ".py",
   "mimetype": "text/x-python",
   "name": "python",
   "nbconvert_exporter": "python",
   "pygments_lexer": "ipython3",
   "version": "3.10.12"
  }
 },
 "nbformat": 4,
 "nbformat_minor": 2
}
