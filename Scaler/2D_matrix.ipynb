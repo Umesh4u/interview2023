{
 "cells": [
  {
   "cell_type": "code",
   "execution_count": 38,
   "metadata": {},
   "outputs": [],
   "source": [
    "li=[[1,2,3],[4,5,6],[7,8,9]]\n",
    "n=len(li)"
   ]
  },
  {
   "cell_type": "code",
   "execution_count": 8,
   "metadata": {},
   "outputs": [
    {
     "name": "stdout",
     "output_type": "stream",
     "text": [
      "6\n",
      "15\n",
      "24\n"
     ]
    }
   ],
   "source": [
    "for row in range(n):\n",
    "    sum=0\n",
    "    for col in range(len(li[row])):\n",
    "        sum+=li[row][col]\n",
    "    print(sum)"
   ]
  },
  {
   "cell_type": "code",
   "execution_count": 17,
   "metadata": {},
   "outputs": [
    {
     "name": "stdout",
     "output_type": "stream",
     "text": [
      "15\n",
      "10\n",
      "13\n",
      "16\n"
     ]
    }
   ],
   "source": [
    "for col in range(len(li[0])):\n",
    "#     print(col)\n",
    "    sum=0\n",
    "    for row in range(len(li)):\n",
    "#         print(row,col)\n",
    "        sum+=li[row][col]\n",
    "    print(sum)"
   ]
  },
  {
   "cell_type": "code",
   "execution_count": 20,
   "metadata": {},
   "outputs": [
    {
     "name": "stdout",
     "output_type": "stream",
     "text": [
      "1\n",
      "6\n",
      "3\n"
     ]
    },
    {
     "data": {
      "text/plain": [
       "10"
      ]
     },
     "execution_count": 20,
     "metadata": {},
     "output_type": "execute_result"
    }
   ],
   "source": [
    "#principal diagnal\n",
    "sum=0\n",
    "for row in range(n):\n",
    "    print(li[row][row])\n",
    "    sum+=li[row][row]\n",
    "sum\n",
    "    "
   ]
  },
  {
   "cell_type": "code",
   "execution_count": 34,
   "metadata": {},
   "outputs": [
    {
     "name": "stdout",
     "output_type": "stream",
     "text": [
      "3\n",
      "5\n",
      "7\n"
     ]
    }
   ],
   "source": [
    "#Anti-diagnal\n",
    "i=0\n",
    "j=n-1\n",
    "while(i<n):\n",
    "    print(li[i][j])\n",
    "    i+=1\n",
    "    j-=1"
   ]
  },
  {
   "cell_type": "code",
   "execution_count": 27,
   "metadata": {},
   "outputs": [
    {
     "name": "stdout",
     "output_type": "stream",
     "text": [
      "5\n",
      "4\n",
      "3\n",
      "2\n"
     ]
    }
   ],
   "source": [
    "for i in range(5,1,-1):\n",
    "    print(i)"
   ]
  },
  {
   "cell_type": "code",
   "execution_count": 52,
   "metadata": {},
   "outputs": [
    {
     "name": "stdout",
     "output_type": "stream",
     "text": [
      "0 0 1\n",
      "0 1 2\n",
      "0 2 3\n",
      "1 0 4\n",
      "1 1 5\n",
      "1 2 6\n",
      "2 0 7\n",
      "2 1 8\n",
      "2 2 9\n"
     ]
    },
    {
     "data": {
      "text/plain": [
       "[[1, 2, 3], [4, 5, 6], [7, 8, 9]]"
      ]
     },
     "execution_count": 52,
     "metadata": {},
     "output_type": "execute_result"
    }
   ],
   "source": [
    "#transpose matrix\n",
    "A=[[1,2,3],[4,5,6],[7,8,9]]\n",
    "# 1 2          111\n",
    "# 1 2          222\n",
    "# 1 2\n",
    "\n",
    "for row in range(len(A)):\n",
    "    for col in range(len(A[row])):\n",
    "        print(row,col, A[row][col])\n",
    "\n",
    "#         print(row,col)\n",
    "#         A[row][col],A[col][row]=A[col][row],A[row][col]\n",
    "A"
   ]
  },
  {
   "cell_type": "code",
   "execution_count": 67,
   "metadata": {},
   "outputs": [
    {
     "data": {
      "text/plain": [
       "[[3, 1], [4, 2]]"
      ]
     },
     "execution_count": 67,
     "metadata": {},
     "output_type": "execute_result"
    }
   ],
   "source": [
    "A=[[1,2],[3,4]]\n",
    "def solve(A):\n",
    "    newLi=[]\n",
    "    for col in range(len(A[0])):\n",
    "        temp=[]\n",
    "        for row in range(len(A)):\n",
    "            temp.append(A[row][col])\n",
    "        r=[]\n",
    "        for i in range(len(temp)-1,-1,-1):\n",
    "            r.append(temp[i])\n",
    "\n",
    "        newLi.append(r)\n",
    "    return newLi\n",
    "solve(A)"
   ]
  },
  {
   "cell_type": "code",
   "execution_count": 110,
   "metadata": {},
   "outputs": [
    {
     "ename": "IndexError",
     "evalue": "list index out of range",
     "output_type": "error",
     "traceback": [
      "\u001b[0;31m---------------------------------------------------------------------------\u001b[0m",
      "\u001b[0;31mIndexError\u001b[0m                                Traceback (most recent call last)",
      "Cell \u001b[0;32mIn[110], line 6\u001b[0m\n\u001b[1;32m      3\u001b[0m A\u001b[38;5;241m=\u001b[39m[]\n\u001b[1;32m      4\u001b[0m \u001b[38;5;66;03m# print(A)\u001b[39;00m\n\u001b[0;32m----> 6\u001b[0m \u001b[38;5;28;01mfor\u001b[39;00m col \u001b[38;5;129;01min\u001b[39;00m \u001b[38;5;28mrange\u001b[39m(\u001b[38;5;28mlen\u001b[39m(\u001b[43mA\u001b[49m\u001b[43m[\u001b[49m\u001b[38;5;241;43m0\u001b[39;49m\u001b[43m]\u001b[49m)):\n\u001b[1;32m      7\u001b[0m     i\u001b[38;5;241m=\u001b[39m\u001b[38;5;241m0\u001b[39m\n\u001b[1;32m      8\u001b[0m     j\u001b[38;5;241m=\u001b[39mcol\n",
      "\u001b[0;31mIndexError\u001b[0m: list index out of range"
     ]
    }
   ],
   "source": [
    "#Anti-diagnal\n",
    "li=[[1,2,3],[4,5,6],[7,8,9]]\n",
    "A=[]\n",
    "# print(A)\n",
    "\n",
    "for col in range(len(A[0])):\n",
    "    i=0\n",
    "    j=col\n",
    "    temp=[]\n",
    "    count=3\n",
    "    while(i<n and j>=0):\n",
    "        count-=1\n",
    "        temp.append(li[i][j])\n",
    "        i+=1\n",
    "        j-=1\n",
    "    for k in range(count):\n",
    "        temp.append(0)\n",
    "    A.append(temp)\n",
    "        \n",
    "for row in range(1,len(A)):\n",
    "    i=row\n",
    "    j=len(A)-1\n",
    "    count=3\n",
    "    temp=[]\n",
    "    while(i<n and j>=0):\n",
    "        count-=1\n",
    "        temp.append(li[i][j])\n",
    "        i+=1\n",
    "        j-=1\n",
    "    for k in range(count):\n",
    "#         print(temp)\n",
    "        temp.append(0)\n",
    "    A.append(temp)\n",
    "A"
   ]
  },
  {
   "cell_type": "code",
   "execution_count": 89,
   "metadata": {},
   "outputs": [
    {
     "data": {
      "text/plain": [
       "[[3, 1], [4, 2]]"
      ]
     },
     "execution_count": 89,
     "metadata": {},
     "output_type": "execute_result"
    }
   ],
   "source": [
    "def solve(A):\n",
    "    newLi=[]\n",
    "    for col in range(len(A[0])):\n",
    "        temp=[]\n",
    "        for row in range(len(A)):\n",
    "            temp.append(A[row][col])\n",
    "        r=[]\n",
    "        for i in range(len(temp)-1,-1,-1):\n",
    "            r.append(temp[i])\n",
    "\n",
    "        newLi.append(r)\n",
    "    return newLi\n",
    "A= [\n",
    "    [1, 2],\n",
    "    [3, 4]\n",
    " ]\n",
    "solve(A)"
   ]
  },
  {
   "cell_type": "code",
   "execution_count": 173,
   "metadata": {},
   "outputs": [
    {
     "name": "stdout",
     "output_type": "stream",
     "text": [
      "1 3\n",
      "0 1\n",
      "1 4\n",
      "0 2\n",
      "[[3, 1], [4, 2]]\n"
     ]
    }
   ],
   "source": [
    "A= [\n",
    "    [1,2],\n",
    "    [3,4]\n",
    " ]\n",
    "\n",
    "for row in range(len(A)):\n",
    "    for col in range(row+1,len(A[row])):\n",
    "        A[row][col],A[col][row]=A[col][row],A[row][col]\n",
    "    temp=[]\n",
    "    for i in range(len(A[0])-1,-1,-1):\n",
    "        print(i,A[row][i])\n",
    "        temp.append(A[row][i])\n",
    "\n",
    "    A[row]=temp\n",
    "print(A)"
   ]
  },
  {
   "cell_type": "code",
   "execution_count": null,
   "metadata": {},
   "outputs": [],
   "source": [
    "A=[[1,2,3],[4,5,6],[7,8,9]]\n",
    "li=[]\n",
    "n=len(A)\n",
    "m=len(A[0])  \n",
    "for col in range(m):\n",
    "    i=0\n",
    "    j=col\n",
    "    temp=[]\n",
    "    count=m\n",
    "    while(i<n and j>=0):\n",
    "        temp.append(A[i][j])\n",
    "        i+=1\n",
    "        j-=1\n",
    "        count-=1\n",
    "    for i in range(count):\n",
    "        temp.append(0)\n",
    "    li.append(temp)\n",
    "        \n",
    "for row in range(1,n):\n",
    "    i=row\n",
    "    j=len(A)-1\n",
    "    temp=[]\n",
    "    count=m\n",
    "    while(i<n and j>=0):\n",
    "        temp.append(A[i][j])\n",
    "        i+=1\n",
    "        j-=1\n",
    "        count-=1\n",
    "    for i in range(count):\n",
    "        temp.append(0)\n",
    "    li.append(temp)\n",
    "\n",
    "li"
   ]
  },
  {
   "cell_type": "code",
   "execution_count": 176,
   "metadata": {},
   "outputs": [
    {
     "data": {
      "text/plain": [
       "[[28], [40]]"
      ]
     },
     "execution_count": 176,
     "metadata": {},
     "output_type": "execute_result"
    }
   ],
   "source": [
    "A = [[7],[10]]\n",
    "B=4\n",
    "for row in range(len(A)):\n",
    "    for col in range(len(A[row])):\n",
    "        A[row][col]=A[row][col]*B\n",
    "A\n"
   ]
  },
  {
   "cell_type": "code",
   "execution_count": 178,
   "metadata": {},
   "outputs": [
    {
     "data": {
      "text/plain": [
       "[[-8, -6, -4], [-2, 0, 2], [4, 6, 8]]"
      ]
     },
     "execution_count": 178,
     "metadata": {},
     "output_type": "execute_result"
    }
   ],
   "source": [
    "A = [[1, 2, 3],   \n",
    "     [4, 5, 6],   \n",
    "     [7, 8, 9]]  \n",
    "\n",
    "B = [[9, 8, 7],   \n",
    "     [6, 5, 4],   \n",
    "     [3, 2, 1]]\n",
    "\n",
    "newMat=[]\n",
    "for row in range(len(A)):\n",
    "    temp=[]\n",
    "    for col in range(len(A[row])):\n",
    "        temp.append(A[row][col]-B[row][col])\n",
    "    newMat.append(temp)\n",
    "newMat"
   ]
  },
  {
   "cell_type": "code",
   "execution_count": 186,
   "metadata": {},
   "outputs": [
    {
     "name": "stdout",
     "output_type": "stream",
     "text": [
      "0 0 2 -3\n",
      "-3 1 1 5\n",
      "2 2 0 -7\n"
     ]
    },
    {
     "data": {
      "text/plain": [
       "-5"
      ]
     },
     "execution_count": 186,
     "metadata": {},
     "output_type": "execute_result"
    }
   ],
   "source": [
    "A = [[1, -2, -3],\n",
    "  [-4, 5, -6],\n",
    "  [-7, -8, 9]]\n",
    "\n",
    "i=0\n",
    "j=len(A[0])-1\n",
    "sum=0\n",
    "while i<n and j>=0:\n",
    "    sum+=A[i][j]\n",
    "    i+=1\n",
    "    j-=1\n",
    "sum\n",
    "        \n",
    "    "
   ]
  },
  {
   "cell_type": "code",
   "execution_count": null,
   "metadata": {},
   "outputs": [],
   "source": []
  }
 ],
 "metadata": {
  "kernelspec": {
   "display_name": "Python 3 (ipykernel)",
   "language": "python",
   "name": "python3"
  },
  "language_info": {
   "codemirror_mode": {
    "name": "ipython",
    "version": 3
   },
   "file_extension": ".py",
   "mimetype": "text/x-python",
   "name": "python",
   "nbconvert_exporter": "python",
   "pygments_lexer": "ipython3",
   "version": "3.10.12"
  }
 },
 "nbformat": 4,
 "nbformat_minor": 2
}
