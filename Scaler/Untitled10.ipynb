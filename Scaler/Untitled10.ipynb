{
 "cells": [
  {
   "cell_type": "code",
   "execution_count": 12,
   "metadata": {},
   "outputs": [
    {
     "data": {
      "text/plain": [
       "[1, 2, 3, 5]"
      ]
     },
     "execution_count": 12,
     "metadata": {},
     "output_type": "execute_result"
    }
   ],
   "source": [
    "A=[0,0,1,2,3,4]\n",
    "st=\"\"\n",
    "for num in A:\n",
    "    st+=str(num)\n",
    "    \n",
    "number=int(st)+1\n",
    "li=[]\n",
    "for i in str(number):\n",
    "    li.append(int(i))\n",
    "li"
   ]
  },
  {
   "cell_type": "code",
   "execution_count": 3,
   "metadata": {},
   "outputs": [
    {
     "name": "stdout",
     "output_type": "stream",
     "text": [
      "[0, 2, 3, 10, 15, 20, 25, 100]\n"
     ]
    }
   ],
   "source": [
    "original_list = [\"0\", \"002\", \"003\", \"010\", \"015\", \"020\", \"025\", \"100\"]\n",
    "\n",
    "# Convert strings to integers, removing leading zeros\n",
    "modified_list = [int(num) for num in original_list]\n",
    "\n",
    "print(modified_list)\n"
   ]
  },
  {
   "cell_type": "code",
   "execution_count": 32,
   "metadata": {},
   "outputs": [
    {
     "name": "stdout",
     "output_type": "stream",
     "text": [
      "1 1 0 1\n",
      "2 2 0 2\n",
      "1 2 0 3\n",
      "0 2 0 4\n",
      "0 2 5 5\n",
      "1 2 5 6\n",
      "0 2 5 7\n",
      "[1, 2]\n"
     ]
    }
   ],
   "source": [
    "A=\"0011101\"\n",
    "l=0\n",
    "r=0\n",
    "csum=0\n",
    "msum=0\n",
    "ans=[0,0]\n",
    "for i in range(len(A)):\n",
    "    if A[i]==\"1\":\n",
    "        csum-=1\n",
    "    else:\n",
    "        csum+=1\n",
    "    if csum>msum:\n",
    "        msum=csum\n",
    "        ans[0]=l+1\n",
    "        ans[1]=r+1\n",
    "    if csum<0:\n",
    "        csum=0\n",
    "        l=i+1\n",
    "        r=i+1\n",
    "    else:\n",
    "        r+=1\n",
    "    print(csum,msum,l,r)\n",
    "if msum==0:\n",
    "    print([])\n",
    "else:\n",
    "    print(ans)\n",
    "   \n"
   ]
  },
  {
   "cell_type": "code",
   "execution_count": null,
   "metadata": {},
   "outputs": [],
   "source": []
  }
 ],
 "metadata": {
  "kernelspec": {
   "display_name": "Python 3 (ipykernel)",
   "language": "python",
   "name": "python3"
  },
  "language_info": {
   "codemirror_mode": {
    "name": "ipython",
    "version": 3
   },
   "file_extension": ".py",
   "mimetype": "text/x-python",
   "name": "python",
   "nbconvert_exporter": "python",
   "pygments_lexer": "ipython3",
   "version": "3.10.12"
  }
 },
 "nbformat": 4,
 "nbformat_minor": 2
}
