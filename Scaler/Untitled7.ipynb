{
 "cells": [
  {
   "cell_type": "code",
   "execution_count": 25,
   "metadata": {},
   "outputs": [
    {
     "data": {
      "text/plain": [
       "13"
      ]
     },
     "execution_count": 25,
     "metadata": {},
     "output_type": "execute_result"
    }
   ],
   "source": [
    "A = \"1111111111111\"\n",
    "n=len(A)\n",
    "maxCount=0\n",
    "ans=0\n",
    "noOf1=0\n",
    "for i in range(n):\n",
    "    if A[i]==\"1\":\n",
    "        noOf1+=1\n",
    "if n==noOf1:\n",
    "    ans=noOf1\n",
    "else:\n",
    "    for i in range(n):\n",
    "        if A[i]==\"0\":\n",
    "            l=0\n",
    "            r=0\n",
    "            j=i-1\n",
    "            while j>=0 and A[j]==\"1\":\n",
    "                l+=1\n",
    "                j-=1\n",
    "\n",
    "            k=i+1\n",
    "            while k<n and A[k]==\"1\":\n",
    "                r+=1\n",
    "                k+=1\n",
    "            if l+r==noOf1:\n",
    "                ans=max(ans,l+r)\n",
    "            else:\n",
    "                ans=max(ans,l+r+1)\n",
    "ans\n",
    "\n",
    "        "
   ]
  },
  {
   "cell_type": "code",
   "execution_count": 39,
   "metadata": {},
   "outputs": [
    {
     "name": "stdout",
     "output_type": "stream",
     "text": [
      "[[1, 2, -3, -4], [-5, -6, -7, 0], [-9, -2, 0, -4]]\n"
     ]
    },
    {
     "data": {
      "text/plain": [
       "[[1, 2, 0, 0], [0, 0, 0, 0], [0, 0, 0, 0]]"
      ]
     },
     "execution_count": 39,
     "metadata": {},
     "output_type": "execute_result"
    }
   ],
   "source": [
    "A=[[1,2,3,4],\n",
    "[5,6,7,0],\n",
    "[9,2,0,4]]\n",
    "for i in range(len(A)):\n",
    "    if 0 in A[i]:\n",
    "        for j in range(len(A[i])):\n",
    "            A[i][j]*=-1\n",
    "            \n",
    "for i in range(len(A[0])):\n",
    "    flag=False\n",
    "    for j in range(len(A)):\n",
    "        if A[j][i]==0:\n",
    "            flag=True\n",
    "    if flag:\n",
    "        for j in range(len(A)):\n",
    "            if A[j][i]>0:\n",
    "                A[j][i]*=-1\n",
    "        \n",
    "\n",
    "for i in range(len(A)):\n",
    "    for j in range(len(A[i])):\n",
    "        if A[i][j]<0:\n",
    "            A[i][j]=0\n",
    "A\n"
   ]
  },
  {
   "cell_type": "code",
   "execution_count": 73,
   "metadata": {},
   "outputs": [
    {
     "name": "stdout",
     "output_type": "stream",
     "text": [
      "1 1 1\n",
      "1 1 2\n",
      "2 1 3\n",
      "3 1 2\n",
      "5 1 1\n",
      "7 0 0\n",
      "7 1 3\n",
      "-1\n"
     ]
    }
   ],
   "source": [
    "A=[1, 1, 1, 2, 3, 5, 7]\n",
    "majority=A[0]\n",
    "count=1\n",
    "\n",
    "for i in range(1,len(A)):\n",
    "    print(A[i],majority,count)\n",
    "    if majority==0:\n",
    "        majority=A[i]\n",
    "        count+=1\n",
    "\n",
    "    elif A[i]==majority:\n",
    "        count+=1 \n",
    "    else:\n",
    "        count-=1\n",
    "        if count==0:\n",
    "            majority=0\n",
    "        \n",
    "\n",
    "majority\n",
    "l=len(A)//3+1 \n",
    "print(majority,count,l)\n",
    "\n",
    "if A.count(majority)>=l:\n",
    "    print(majority)\n",
    "else:\n",
    "    print(-1)\n"
   ]
  },
  {
   "cell_type": "code",
   "execution_count": 74,
   "metadata": {},
   "outputs": [
    {
     "data": {
      "text/plain": [
       "3"
      ]
     },
     "execution_count": 74,
     "metadata": {},
     "output_type": "execute_result"
    }
   ],
   "source": [
    "7//3+1"
   ]
  },
  {
   "cell_type": "code",
   "execution_count": 75,
   "metadata": {},
   "outputs": [
    {
     "name": "stdout",
     "output_type": "stream",
     "text": [
      "51 51\n"
     ]
    }
   ],
   "source": [
    "A=\"dfhgfuyfggggggdiuvbgdjkvnsdlopfihuighvdfvbjdfkvwkzh\"\n",
    "B=\"jsgfuiewgfewufffffffffffffdsjcbxnbzmxnzbhhsdgfbdsjd\"\n",
    "print(len(A),len(B))"
   ]
  },
  {
   "cell_type": "code",
   "execution_count": 81,
   "metadata": {},
   "outputs": [
    {
     "name": "stdout",
     "output_type": "stream",
     "text": [
      "True\n"
     ]
    }
   ],
   "source": [
    "A=\"silent\"\n",
    "B=\"listen\"\n",
    "print(sorted(A)==sorted(B))\n"
   ]
  },
  {
   "cell_type": "code",
   "execution_count": 88,
   "metadata": {},
   "outputs": [
    {
     "data": {
      "text/plain": [
       "5"
      ]
     },
     "execution_count": 88,
     "metadata": {},
     "output_type": "execute_result"
    }
   ],
   "source": [
    "3245%10"
   ]
  },
  {
   "cell_type": "code",
   "execution_count": 89,
   "metadata": {},
   "outputs": [
    {
     "data": {
      "text/plain": [
       "324"
      ]
     },
     "execution_count": 89,
     "metadata": {},
     "output_type": "execute_result"
    }
   ],
   "source": [
    "3245//10"
   ]
  },
  {
   "cell_type": "code",
   "execution_count": 95,
   "metadata": {},
   "outputs": [
    {
     "data": {
      "text/plain": [
       "4"
      ]
     },
     "execution_count": 95,
     "metadata": {},
     "output_type": "execute_result"
    }
   ],
   "source": [
    "324%10"
   ]
  },
  {
   "cell_type": "code",
   "execution_count": 91,
   "metadata": {},
   "outputs": [
    {
     "data": {
      "text/plain": [
       "32"
      ]
     },
     "execution_count": 91,
     "metadata": {},
     "output_type": "execute_result"
    }
   ],
   "source": [
    "324//10"
   ]
  },
  {
   "cell_type": "code",
   "execution_count": 92,
   "metadata": {},
   "outputs": [
    {
     "data": {
      "text/plain": [
       "2"
      ]
     },
     "execution_count": 92,
     "metadata": {},
     "output_type": "execute_result"
    }
   ],
   "source": [
    "32%10"
   ]
  },
  {
   "cell_type": "code",
   "execution_count": 93,
   "metadata": {},
   "outputs": [
    {
     "data": {
      "text/plain": [
       "3"
      ]
     },
     "execution_count": 93,
     "metadata": {},
     "output_type": "execute_result"
    }
   ],
   "source": [
    "32//10"
   ]
  },
  {
   "cell_type": "code",
   "execution_count": 98,
   "metadata": {},
   "outputs": [
    {
     "name": "stdout",
     "output_type": "stream",
     "text": [
      "5\n",
      "324\n",
      "4\n",
      "32\n",
      "2\n",
      "3\n",
      "3\n",
      "0\n"
     ]
    },
    {
     "data": {
      "text/plain": [
       "[5, 324, 4, 32, 2, 3, 3, 0]"
      ]
     },
     "execution_count": 98,
     "metadata": {},
     "output_type": "execute_result"
    }
   ],
   "source": [
    "a=3245\n",
    "li=[]\n",
    "b=10\n",
    "while a!=0:\n",
    "    b=a%10\n",
    "    print(b)\n",
    "    li.append(b)\n",
    "    a=a//10\n",
    "    if a==0:\n",
    "        \n",
    "    print(a)\n",
    "    li.append(a)\n",
    "li"
   ]
  },
  {
   "cell_type": "code",
   "execution_count": 103,
   "metadata": {},
   "outputs": [
    {
     "data": {
      "text/plain": [
       "[1, 4, 3, 2, 5, 6]"
      ]
     },
     "execution_count": 103,
     "metadata": {},
     "output_type": "execute_result"
    }
   ],
   "source": [
    "arr=[1,2,3,4,5,6]\n",
    "n=len(arr)\n",
    "i=1\n",
    "j=3\n",
    "while i<=j:\n",
    "    arr[i],arr[j]=arr[j],arr[i]\n",
    "    i+=1\n",
    "    j-=1\n",
    "arr"
   ]
  },
  {
   "cell_type": "code",
   "execution_count": null,
   "metadata": {},
   "outputs": [],
   "source": [
    "A=[30,25,40,35,20,45,50,55,22,18,15]\n",
    "B=3\n",
    "c=30\n",
    "s=0\n",
    "e=B-1\n",
    "i=s\n",
    "avg=0\n",
    "sum=0\n",
    "ans=0\n",
    "while i<=e:\n",
    "    sum+=A[i]\n",
    "    s+=1\n",
    "    e+=1\n",
    "avg=sum/3\n",
    "if avg<=c:\n",
    "    ans+=1\n",
    "# while e<len(A):\n",
    "#     sum=sum-A[s-1]+A[e]\n",
    "#     s+=1\n",
    "#     e+=1\n",
    "print(ans)\n",
    "    \n",
    "    \n",
    "    "
   ]
  },
  {
   "cell_type": "code",
   "execution_count": null,
   "metadata": {},
   "outputs": [],
   "source": []
  }
 ],
 "metadata": {
  "kernelspec": {
   "display_name": "Python 3 (ipykernel)",
   "language": "python",
   "name": "python3"
  },
  "language_info": {
   "codemirror_mode": {
    "name": "ipython",
    "version": 3
   },
   "file_extension": ".py",
   "mimetype": "text/x-python",
   "name": "python",
   "nbconvert_exporter": "python",
   "pygments_lexer": "ipython3",
   "version": "3.10.12"
  }
 },
 "nbformat": 4,
 "nbformat_minor": 2
}
