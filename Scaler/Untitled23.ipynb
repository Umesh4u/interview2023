{
 "cells": [
  {
   "cell_type": "code",
   "execution_count": 8,
   "metadata": {},
   "outputs": [
    {
     "name": "stdout",
     "output_type": "stream",
     "text": [
      "146 203 90 [12, 34, 67, 90]\n",
      "117 145 90 [12, 34, 67, 90]\n",
      "103 116 90 [12, 34, 67, 90]\n",
      "110 116 104 [12, 34, 67, 90]\n",
      "113 116 111 [12, 34, 67, 90]\n",
      "111 112 111 [12, 34, 67, 90]\n",
      "112 112 112 [12, 34, 67, 90]\n"
     ]
    },
    {
     "data": {
      "text/plain": [
       "113"
      ]
     },
     "execution_count": 8,
     "metadata": {},
     "output_type": "execute_result"
    }
   ],
   "source": [
    "#Allot book\n",
    "def book(A,B):\n",
    "    l=max(A)\n",
    "    r=sum(A)\n",
    "    ans=r\n",
    "    while l<=r:\n",
    "        m=l+(r-l)//2\n",
    "        print(m,r,l,A)\n",
    "        if checktime(A,B,m):\n",
    "            ans=m\n",
    "            r=m-1\n",
    "\n",
    "        else:\n",
    "            l=m+1\n",
    "    return ans\n",
    "            \n",
    "def checktime(time,k,m):\n",
    "    s=0\n",
    "    c=1\n",
    "    for i in range(len(time)):\n",
    "        s+=time[i]\n",
    "        if s>m:\n",
    "            c=c+1\n",
    "            s=time[i]\n",
    "            if c>k:\n",
    "                return False\n",
    "    return True\n",
    "C = [12,34,67,90]\n",
    "B = 2\n",
    "book(C,B)"
   ]
  },
  {
   "cell_type": "code",
   "execution_count": 13,
   "metadata": {},
   "outputs": [
    {
     "data": {
      "text/plain": [
       "2"
      ]
     },
     "execution_count": 13,
     "metadata": {},
     "output_type": "execute_result"
    }
   ],
   "source": [
    "def subarray(A,B):\n",
    "    l=0\n",
    "    r=len(A)-1\n",
    "    ans=l\n",
    "    while l<=r:\n",
    "        m=l+(r-l)//2\n",
    "        if check_length(A,m,B):\n",
    "            ans=m\n",
    "            l=m+1\n",
    "        else:\n",
    "            r=m-1\n",
    "    return ans\n",
    "\n",
    "def check_length(A,m,B):\n",
    "    subarr=0\n",
    "    \n",
    "    for i in range(m):\n",
    "        subarr+=A[i]\n",
    "    if subarr>B:\n",
    "        return False\n",
    "    start = 1\n",
    "    end = m\n",
    "    while end < len(A):\n",
    "        subarr = subarr - A[start-1] + A[end]\n",
    "        if subarr > B:\n",
    "            return False\n",
    "            \n",
    "        start+=1\n",
    "        end+=1\n",
    "        \n",
    "    return True;\n",
    "    \n",
    "A=[1,2,3,4,5]\n",
    "B=10\n",
    "\n",
    "subarray(A,B)\n",
    "                \n",
    "            "
   ]
  },
  {
   "cell_type": "code",
   "execution_count": null,
   "metadata": {},
   "outputs": [],
   "source": []
  }
 ],
 "metadata": {
  "kernelspec": {
   "display_name": "Python 3 (ipykernel)",
   "language": "python",
   "name": "python3"
  },
  "language_info": {
   "codemirror_mode": {
    "name": "ipython",
    "version": 3
   },
   "file_extension": ".py",
   "mimetype": "text/x-python",
   "name": "python",
   "nbconvert_exporter": "python",
   "pygments_lexer": "ipython3",
   "version": "3.10.12"
  }
 },
 "nbformat": 4,
 "nbformat_minor": 2
}
