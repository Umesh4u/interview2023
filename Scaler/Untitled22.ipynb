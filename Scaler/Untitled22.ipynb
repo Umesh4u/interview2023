{
 "cells": [
  {
   "cell_type": "code",
   "execution_count": 8,
   "metadata": {},
   "outputs": [
    {
     "data": {
      "text/plain": [
       "11"
      ]
     },
     "execution_count": 8,
     "metadata": {},
     "output_type": "execute_result"
    }
   ],
   "source": [
    "def painter(A,B,C):\n",
    "    l=max(C)\n",
    "    r=sum(C)\n",
    "    ans=r\n",
    "    while l<=r:\n",
    "        m=l+(r-l)//2\n",
    "        if checktime(C,A,m):\n",
    "            ans=m\n",
    "            r=m-1\n",
    "        else:\n",
    "            l=m+1\n",
    "    ans=(ans*B)% 10000003\n",
    "    return ans\n",
    "            \n",
    "def checktime(time,k,m):\n",
    "    s=0\n",
    "    c=1\n",
    "    for i in range(len(time)):\n",
    "        s+=time[i]\n",
    "        if s>m:\n",
    "            c=c+1\n",
    "            s=time[i]\n",
    "            if c>k:\n",
    "                return False\n",
    "    return True\n",
    "A = 10\n",
    "B = 1\n",
    "C = [1, 8, 11, 3]\n",
    "painter(A,B,C)"
   ]
  },
  {
   "cell_type": "code",
   "execution_count": 20,
   "metadata": {},
   "outputs": [
    {
     "data": {
      "text/plain": [
       "2"
      ]
     },
     "execution_count": 20,
     "metadata": {},
     "output_type": "execute_result"
    }
   ],
   "source": [
    "def aggresivecow(A,B):\n",
    "    n=len(A)\n",
    "    A.sort()\n",
    "    l=1\n",
    "    r=A[n-1]-A[0]\n",
    "    ans=0\n",
    "    while l<=r:\n",
    "        m=l+(r-l)//2\n",
    "        if checktime(A,n,m,B):\n",
    "            ans=m\n",
    "            l=m+1\n",
    "        else:\n",
    "            r=m-1\n",
    "    return ans\n",
    "    \n",
    "def checktime(A,n,m,B):\n",
    "    last_placed=A[0]\n",
    "    c=1\n",
    "    for i in range(n):\n",
    "        if A[i]-last_placed>=m:\n",
    "            c=c+1\n",
    "            last_placed=A[i]\n",
    "            if c==B:\n",
    "                return True\n",
    "    return False\n",
    "\n",
    "    \n",
    "    \n",
    "A = [1,2,3,4,5]\n",
    "B = 3\n",
    "aggresivecow(A,B)"
   ]
  },
  {
   "cell_type": "code",
   "execution_count": 33,
   "metadata": {},
   "outputs": [
    {
     "name": "stdout",
     "output_type": "stream",
     "text": [
      "90 153\n"
     ]
    },
    {
     "data": {
      "text/plain": [
       "153"
      ]
     },
     "execution_count": 33,
     "metadata": {},
     "output_type": "execute_result"
    }
   ],
   "source": [
    "#Allot book\n",
    "def book(A,B):\n",
    "    l=max(A)\n",
    "    r=sum(A)\n",
    "    print(l,r)\n",
    "    ans=r\n",
    "    while l<=r:\n",
    "        m=l+(r-l)//2\n",
    "#         print(m,r,l,A)\n",
    "        if checktime(A,B,m):\n",
    "            l=m+1\n",
    "        else:\n",
    "            ans=m\n",
    "\n",
    "            r=m-1\n",
    "    return ans\n",
    "            \n",
    "def checktime(time,k,m):\n",
    "    s=0\n",
    "    c=1\n",
    "    for i in range(len(time)):\n",
    "        s+=time[i]\n",
    "        if s>m:\n",
    "            c=c+1\n",
    "            s=time[i]\n",
    "            if c>k:\n",
    "                return False\n",
    "    return True\n",
    "C = [12,34,17,90]\n",
    "B = 2\n",
    "book(C,B)"
   ]
  },
  {
   "cell_type": "code",
   "execution_count": 66,
   "metadata": {},
   "outputs": [
    {
     "data": {
      "text/plain": [
       "1000000000"
      ]
     },
     "execution_count": 66,
     "metadata": {},
     "output_type": "execute_result"
    }
   ],
   "source": [
    "class xyz:\n",
    "    \n",
    "    def arraypair(self,A,B):\n",
    "        i=0\n",
    "        j=0\n",
    "        value=A[0]\n",
    "        while j<len(A)-1:\n",
    "            if value==B:\n",
    "                return A[i:j+1]\n",
    "            if value<B:\n",
    "                j+=1\n",
    "                value+=A[j]\n",
    "\n",
    "            else:\n",
    "                value-=A[i]\n",
    "                i+=1\n",
    "                if i>j and i<len(A):\n",
    "                    j=i\n",
    "                    value+=A[j]\n",
    "        if A[len(A)-1]==B:\n",
    "                return A[len(A)-1]\n",
    "        return [-1]\n",
    "A = [1,1000000000]\n",
    "B = 1000000000\n",
    "obj=xyz()\n",
    "obj.arraypair(A,B)"
   ]
  },
  {
   "cell_type": "code",
   "execution_count": 73,
   "metadata": {},
   "outputs": [
    {
     "name": "stdout",
     "output_type": "stream",
     "text": [
      "1\n"
     ]
    }
   ],
   "source": [
    "class Solution:\n",
    "    # @param A : list of integers\n",
    "    # @param B : integer\n",
    "    # @return an integer\n",
    "    def solve(self, A, B):\n",
    "        n=len(A)\n",
    "        i=0\n",
    "        j=n-1\n",
    "        count=0\n",
    "        while i<j:\n",
    "            total=A[i]+A[j]\n",
    "            if total<B:\n",
    "                i+=1\n",
    "            elif total>B:\n",
    "                j-=1\n",
    "            else:\n",
    "                if A[i]==A[j]:\n",
    "                    cnt3=j-i+1\n",
    "                    count+=cnt3*(cnt3-1)//2\n",
    "                    count=count%((10**9)+7)\n",
    "                    break;\n",
    "                i2=i\n",
    "                cnt=0\n",
    "                while A[i2]==A[i]:\n",
    "                    i2+=1\n",
    "                    cnt+=1\n",
    "                i=i2\n",
    "                j2=j\n",
    "                cnt2=0\n",
    "                while A[j2]==A[j]:\n",
    "                    j2-=1\n",
    "                    cnt2+=1\n",
    "                j=j2\n",
    "                count+=cnt*cnt2\n",
    "        count=count%((10**9)+7)\n",
    "\n",
    "        return count\n",
    "\n",
    "A=[1,2,3,3,4,6,7]\n",
    "B=13\n",
    "obj1=Solution()\n",
    "res=obj1.solve(A,B)\n",
    "print(res)"
   ]
  },
  {
   "cell_type": "code",
   "execution_count": 108,
   "metadata": {},
   "outputs": [
    {
     "data": {
      "text/plain": [
       "7"
      ]
     },
     "execution_count": 108,
     "metadata": {},
     "output_type": "execute_result"
    }
   ],
   "source": [
    "class Solution1:\n",
    "    # @param A : list of integers\n",
    "    # @param B : integer\n",
    "    # @return an integer\n",
    "    def solve(self, A, B):\n",
    "        A.sort()\n",
    "        n=len(A)\n",
    "        i=0\n",
    "        j=1\n",
    "        count=0\n",
    "        while j<n and i<n:\n",
    "            diff = A[j]-A[i]\n",
    "            if diff==B and i!=j:\n",
    "                count+=1\n",
    "                j+=1\n",
    "                i+=1\n",
    "                while i<n and A[i]==A[i-1]:\n",
    "                    i+=1\n",
    "                while  j<n and A[j]==A[j-1]:\n",
    "                    j+=1\n",
    "\n",
    "            elif diff<B:\n",
    "                j+=1\n",
    "            else:\n",
    "                i+=1\n",
    "        return count\n",
    "A=[5,2,2,4,9,8,5,3,8,8,10,4,2,10,9,7,6,1,3,9,7,1,3,5]\n",
    "# A=[8,5,1,10,5,9,9,3,5,6,6,2,8,2,2,6,3,8,7,2,5,3,4,3,3,2,7,9,6,8,7,2,9,10,3,8,10,6,5,4,2,3]\n",
    "# A=[1,2]\n",
    "# B=0\n",
    "B=3\n",
    "ob=Solution1()\n",
    "ob.solve(A,B)"
   ]
  },
  {
   "cell_type": "code",
   "execution_count": null,
   "metadata": {},
   "outputs": [],
   "source": []
  }
 ],
 "metadata": {
  "kernelspec": {
   "display_name": "Python 3 (ipykernel)",
   "language": "python",
   "name": "python3"
  },
  "language_info": {
   "codemirror_mode": {
    "name": "ipython",
    "version": 3
   },
   "file_extension": ".py",
   "mimetype": "text/x-python",
   "name": "python",
   "nbconvert_exporter": "python",
   "pygments_lexer": "ipython3",
   "version": "3.10.12"
  }
 },
 "nbformat": 4,
 "nbformat_minor": 2
}
