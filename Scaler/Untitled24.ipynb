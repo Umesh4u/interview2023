{
 "cells": [
  {
   "cell_type": "code",
   "execution_count": 26,
   "metadata": {},
   "outputs": [],
   "source": [
    "class Node:\n",
    "    head=None\n",
    "    count=0\n",
    "    def __init__(self,value):\n",
    "        self.value=value\n",
    "        self.next=None\n",
    "        \n",
    "def insert_node(position, value):\n",
    "    node=Node(value)\n",
    "    if position==1:\n",
    "        node.next=Node.head\n",
    "        Node.head=node\n",
    "        \n",
    "    else:\n",
    "        temp=Node.head\n",
    "        for i in range(1,position-1):\n",
    "            temp=temp.next\n",
    "        node.next=temp.next\n",
    "        temp.next=node\n",
    "        \n",
    "def delete_node(position):\n",
    "    temp=Node.head\n",
    "    if position==1:\n",
    "        Node.head=temp.next\n",
    "    else:\n",
    "        prev = None\n",
    "        temp = Node.head\n",
    "        for i in range(1,position):\n",
    "            if i+1 == position:\n",
    "                prev = temp\n",
    "            temp = temp.next\n",
    "        prev.next = temp.next\n",
    "        \n",
    "def print_ll():\n",
    "    temp=Node.head\n",
    "    print(temp)\n",
    "    while temp!=None:\n",
    "        if temp.next !=None:\n",
    "            print(temp.value,end=' ')\n",
    "        else:\n",
    "            print(temp.value)\n",
    "        temp=temp.next\n",
    "        "
   ]
  },
  {
   "cell_type": "code",
   "execution_count": 30,
   "metadata": {},
   "outputs": [
    {
     "name": "stdout",
     "output_type": "stream",
     "text": [
      "<__main__.Node object at 0x7c75b0853460>\n",
      "23\n"
     ]
    }
   ],
   "source": [
    "delete_node(2)\n",
    "print_ll()"
   ]
  },
  {
   "cell_type": "code",
   "execution_count": 2,
   "metadata": {},
   "outputs": [
    {
     "data": {
      "text/plain": [
       "[1, 2, 3, 4, 5, 6, 'k', 'u', 's', 'u', 'm']"
      ]
     },
     "execution_count": 2,
     "metadata": {},
     "output_type": "execute_result"
    }
   ],
   "source": [
    "li=[1,2,3,4,5,6]\n",
    "li.extend(\"kusum\")\n",
    "li"
   ]
  },
  {
   "cell_type": "code",
   "execution_count": 3,
   "metadata": {},
   "outputs": [
    {
     "ename": "TypeError",
     "evalue": "'int' object is not iterable",
     "output_type": "error",
     "traceback": [
      "\u001b[0;31m---------------------------------------------------------------------------\u001b[0m",
      "\u001b[0;31mTypeError\u001b[0m                                 Traceback (most recent call last)",
      "Cell \u001b[0;32mIn[3], line 1\u001b[0m\n\u001b[0;32m----> 1\u001b[0m \u001b[43mli\u001b[49m\u001b[38;5;241;43m.\u001b[39;49m\u001b[43mextend\u001b[49m\u001b[43m(\u001b[49m\u001b[38;5;241;43m52\u001b[39;49m\u001b[43m)\u001b[49m\n",
      "\u001b[0;31mTypeError\u001b[0m: 'int' object is not iterable"
     ]
    }
   ],
   "source": [
    "li.extend(52)"
   ]
  },
  {
   "cell_type": "code",
   "execution_count": 15,
   "metadata": {},
   "outputs": [
    {
     "name": "stdout",
     "output_type": "stream",
     "text": [
      "2\n",
      "4 I am static method\n",
      "1 normal function\n"
     ]
    }
   ],
   "source": [
    "class Student:\n",
    "    c=2\n",
    "    def __init__(self):\n",
    "        self.A=1\n",
    "        \n",
    "    @classmethod\n",
    "    def test(cls):\n",
    "        print(cls.c)\n",
    "        \n",
    "    @staticmethod\n",
    "    def display():\n",
    "        Student.c=4\n",
    "        print(Student.c,\"I am static method\")\n",
    "        \n",
    "    def show(self):\n",
    "        print(self.A,\"normal function\")\n",
    "        \n",
    "obj=Student()\n",
    "obj.test()\n",
    "obj.display()\n",
    "obj.show()"
   ]
  },
  {
   "cell_type": "code",
   "execution_count": 11,
   "metadata": {},
   "outputs": [
    {
     "name": "stdout",
     "output_type": "stream",
     "text": [
      "3\n",
      "ee\n",
      "ee\n",
      "ee\n"
     ]
    }
   ],
   "source": [
    "#count how many object is created for the class\n",
    "class Student:\n",
    "    count=0\n",
    "    def __init__(self):\n",
    "        Student.count+=1\n",
    "        print(\"ee\")\n",
    "    print(Student.count)\n",
    "\n",
    "\n",
    "obj1 = Student() \n",
    "obj2 = Student()\n",
    "obj3 = Student()"
   ]
  },
  {
   "cell_type": "code",
   "execution_count": 34,
   "metadata": {},
   "outputs": [
    {
     "data": {
      "text/plain": [
       "8"
      ]
     },
     "execution_count": 34,
     "metadata": {},
     "output_type": "execute_result"
    }
   ],
   "source": [
    "def disp(n):\n",
    "    if n==1:\n",
    "        return 1\n",
    "    if n==0:\n",
    "        return 0\n",
    "    else:\n",
    "        return disp(n-1)+disp(n-2)\n",
    "disp(6)"
   ]
  },
  {
   "cell_type": "code",
   "execution_count": 13,
   "metadata": {},
   "outputs": [
    {
     "name": "stdout",
     "output_type": "stream",
     "text": [
      "Longest palindrome in 'dccbcdaac' is 'cbc'.\n"
     ]
    }
   ],
   "source": [
    "def longest_palindrome(s):\n",
    "    n = len(s)\n",
    "    # Initialize a 2D table to store whether substrings are palindromes\n",
    "    dp = [[False] * n for _ in range(n)]\n",
    "    \n",
    "    # Initialize variables to track the longest palindrome found\n",
    "    max_length = 0\n",
    "    start_index = 0\n",
    "    \n",
    "    # Every single character is a palindrome by itself\n",
    "    for i in range(n):\n",
    "        dp[i][i] = True\n",
    "        max_length = 1\n",
    "        start_index = i\n",
    "\n",
    "    # Check for palindromes of length 2\n",
    "    for i in range(n-1):\n",
    "        if s[i] == s[i+1]:\n",
    "            dp[i][i+1] = True\n",
    "            max_length = 2\n",
    "            start_index = i\n",
    "    \n",
    "    # Check for palindromes of length greater than 2\n",
    "    for length in range(3, n+1):\n",
    "        for i in range(n - length + 1):\n",
    "            j = i + length - 1\n",
    "            if s[i] == s[j] and dp[i+1][j-1]:\n",
    "                dp[i][j] = True\n",
    "                if length > max_length:\n",
    "                    max_length = length\n",
    "                    start_index = i\n",
    "\n",
    "    return s[start_index:start_index+max_length]\n",
    "\n",
    "# Test the function\n",
    "A = \"dccbcdaac\"\n",
    "print(\"Longest palindrome in '{}' is '{}'.\".format(A, longest_palindrome(A)))\n"
   ]
  },
  {
   "cell_type": "code",
   "execution_count": null,
   "metadata": {},
   "outputs": [],
   "source": [
    "A=[2,2,1,-3,4,3,1,-2,-3,2]\n"
   ]
  }
 ],
 "metadata": {
  "kernelspec": {
   "display_name": "Python 3 (ipykernel)",
   "language": "python",
   "name": "python3"
  },
  "language_info": {
   "codemirror_mode": {
    "name": "ipython",
    "version": 3
   },
   "file_extension": ".py",
   "mimetype": "text/x-python",
   "name": "python",
   "nbconvert_exporter": "python",
   "pygments_lexer": "ipython3",
   "version": "3.10.12"
  }
 },
 "nbformat": 4,
 "nbformat_minor": 2
}
