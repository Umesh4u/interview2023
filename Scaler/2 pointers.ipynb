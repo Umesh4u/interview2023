{
 "cells": [
  {
   "cell_type": "code",
   "execution_count": 23,
   "metadata": {},
   "outputs": [
    {
     "name": "stdout",
     "output_type": "stream",
     "text": [
      "0 0 15\n",
      "1 1 -2\n",
      "1 2 3\n",
      "1 3 9\n",
      "2 3 7\n"
     ]
    },
    {
     "data": {
      "text/plain": [
       "[5, 6]"
      ]
     },
     "execution_count": 23,
     "metadata": {},
     "output_type": "execute_result"
    }
   ],
   "source": [
    "def subarray(A,B):\n",
    "    i=0\n",
    "    j=0\n",
    "    value=A[0]\n",
    "    while j<len(A):\n",
    "        print(i,j,value)\n",
    "        if value==B:\n",
    "            return A[i:j+1]\n",
    "        if value<B:\n",
    "            j+=1\n",
    "            value+=A[j]\n",
    "        else:\n",
    "            value-=A[i]\n",
    "            i+=1\n",
    "            if i>j and i<len(A):\n",
    "                j=i\n",
    "                value-=A[j]\n",
    "\n",
    "    return -1\n",
    "        \n",
    "        \n",
    "    \n",
    "A=[15,2,5,6,9]\n",
    "B=7\n",
    "subarray(A,B)"
   ]
  },
  {
   "cell_type": "code",
   "execution_count": 27,
   "metadata": {},
   "outputs": [
    {
     "name": "stdout",
     "output_type": "stream",
     "text": [
      "4 0 1\n",
      "-2 1 2\n",
      "-1 1 3\n",
      "-3 1 4\n"
     ]
    },
    {
     "data": {
      "text/plain": [
       "0"
      ]
     },
     "execution_count": 27,
     "metadata": {},
     "output_type": "execute_result"
    }
   ],
   "source": [
    "def arraydiff(A,B):\n",
    "    i=0\n",
    "    j=1\n",
    "    count=0\n",
    "    while j<len(A):\n",
    "        diff = A[j]-A[i]\n",
    "        print(diff, i,j)\n",
    "        if diff==B:\n",
    "            count+=1\n",
    "        elif diff<B:\n",
    "            j+=1\n",
    "        else:\n",
    "            i+=1\n",
    "            if i==j:\n",
    "                j+=1\n",
    "    return count\n",
    "A = [1, 5, 3, 4, 2]\n",
    "B = 3\n",
    "arraydiff(A,B)"
   ]
  },
  {
   "cell_type": "code",
   "execution_count": null,
   "metadata": {},
   "outputs": [],
   "source": []
  }
 ],
 "metadata": {
  "kernelspec": {
   "display_name": "Python 3 (ipykernel)",
   "language": "python",
   "name": "python3"
  },
  "language_info": {
   "codemirror_mode": {
    "name": "ipython",
    "version": 3
   },
   "file_extension": ".py",
   "mimetype": "text/x-python",
   "name": "python",
   "nbconvert_exporter": "python",
   "pygments_lexer": "ipython3",
   "version": "3.10.12"
  }
 },
 "nbformat": 4,
 "nbformat_minor": 2
}
