{
 "cells": [
  {
   "cell_type": "code",
   "execution_count": 2,
   "metadata": {},
   "outputs": [
    {
     "data": {
      "text/plain": [
       "[3, 1]"
      ]
     },
     "execution_count": 2,
     "metadata": {},
     "output_type": "execute_result"
    }
   ],
   "source": [
    "def question1(A,B):\n",
    "    c=[]\n",
    "    freq_dict={}\n",
    "    for i in range(len(A)):\n",
    "        if A[i] in freq_dict:\n",
    "            freq_dict[A[i]]+=1\n",
    "        else:\n",
    "            freq_dict[A[i]]=1\n",
    "    \n",
    "    for i in B:\n",
    "        c.append(freq_dict[i])\n",
    "    return c\n",
    "\n",
    "A = [1, 2, 1, 1]\n",
    "B = [1, 2]\n",
    "\n",
    "question1(A,B)"
   ]
  },
  {
   "cell_type": "code",
   "execution_count": 5,
   "metadata": {},
   "outputs": [
    {
     "data": {
      "text/plain": [
       "{1, 2, 3, 4}"
      ]
     },
     "execution_count": 5,
     "metadata": {},
     "output_type": "execute_result"
    }
   ],
   "source": [
    "s=set([1,2,3,4])    \n",
    "s"
   ]
  },
  {
   "cell_type": "code",
   "execution_count": 10,
   "metadata": {},
   "outputs": [
    {
     "name": "stdout",
     "output_type": "stream",
     "text": [
      "False\n"
     ]
    }
   ],
   "source": [
    "A=[5,7,9,2,3]\n",
    "k=4\n",
    "val_set=set()\n",
    "for i in range(len(A)):\n",
    "    val=k-A[i]\n",
    "    if val in val_set:\n",
    "        print(True)\n",
    "        break;\n",
    "    val_set.add(A[i])\n",
    "print(False)"
   ]
  },
  {
   "cell_type": "code",
   "execution_count": 11,
   "metadata": {},
   "outputs": [
    {
     "data": {
      "text/plain": [
       "9"
      ]
     },
     "execution_count": 11,
     "metadata": {},
     "output_type": "execute_result"
    }
   ],
   "source": [
    "A=[2,5,2,5,8,5,2,8]\n",
    "k=10\n",
    "\n",
    "def countpair(a,k):\n",
    "    dic={}\n",
    "    ans=0\n",
    "    for i in range(len(a)):\n",
    "        val=k-a[i]\n",
    "        if val in dic:\n",
    "            ans+=dic.get(val)\n",
    "        if a[i] in dic:\n",
    "            dic[a[i]]+=1\n",
    "        else:\n",
    "            dic[a[i]]=1\n",
    "            \n",
    "    return ans\n",
    "\n",
    "countpair(A,k)"
   ]
  },
  {
   "cell_type": "code",
   "execution_count": 27,
   "metadata": {},
   "outputs": [
    {
     "name": "stdout",
     "output_type": "stream",
     "text": [
      "[]\n"
     ]
    },
    {
     "data": {
      "text/plain": [
       "0"
      ]
     },
     "execution_count": 27,
     "metadata": {},
     "output_type": "execute_result"
    }
   ],
   "source": [
    "\n",
    "def balance(A):\n",
    "    stack=[]\n",
    "    formate={\"(\":\")\",\"[\":\"]\",\"{\":\"}\"}\n",
    "    for i in A:\n",
    "        if i in formate:\n",
    "            stack.append(i)\n",
    "        elif len(stack)>0 and i == formate[stack[-1]]:\n",
    "                print(\"dd\")\n",
    "                stack.pop()\n",
    "        else:\n",
    "            print(stack)\n",
    "            return 0\n",
    "\n",
    "        \n",
    "    if len(stack)==0:\n",
    "        return 1\n",
    "    else:\n",
    "        return 0\n",
    "    \n",
    "A = '))))'\n",
    "balance(A)"
   ]
  },
  {
   "cell_type": "code",
   "execution_count": 31,
   "metadata": {},
   "outputs": [
    {
     "data": {
      "text/plain": [
       "'ab'"
      ]
     },
     "execution_count": 31,
     "metadata": {},
     "output_type": "execute_result"
    }
   ],
   "source": [
    "A=\"ab\"\n",
    "li=[]\n",
    "for i in A:\n",
    "    if i not in li:\n",
    "        li.append(i)\n",
    "    else:\n",
    "        li.pop()\n",
    "\"\".join(li)"
   ]
  },
  {
   "cell_type": "code",
   "execution_count": 35,
   "metadata": {},
   "outputs": [
    {
     "data": {
      "text/plain": [
       "[-1, -1, -1]"
      ]
     },
     "execution_count": 35,
     "metadata": {},
     "output_type": "execute_result"
    }
   ],
   "source": [
    "A = [3, 2, 1]\n",
    "\n",
    "ans=[]\n",
    "stack=[]\n",
    "for i in range(len(A)):\n",
    "    while len(stack)>0 and stack[-1]>=A[i]:\n",
    "        stack.pop()\n",
    "    if len(stack)==0:\n",
    "        ans.append(-1)\n",
    "    else:\n",
    "        ans.append(stack[-1])\n",
    "    stack.append(A[i])\n",
    "ans\n",
    "    "
   ]
  },
  {
   "cell_type": "code",
   "execution_count": 45,
   "metadata": {},
   "outputs": [
    {
     "name": "stdout",
     "output_type": "stream",
     "text": [
      "[0, 0, 0, 0]\n",
      "10 3\n",
      "2 2\n",
      "5 1\n",
      "4 0\n"
     ]
    },
    {
     "data": {
      "text/plain": [
       "[5, 10, 10, -1]"
      ]
     },
     "execution_count": 45,
     "metadata": {},
     "output_type": "execute_result"
    }
   ],
   "source": [
    "A=[4, 5, 2, 10]\n",
    "ans=[0]*len(A)\n",
    "stack=[]\n",
    "for i in range(len(A)-1,-1,-1):\n",
    "    while len(stack)>0 and stack[-1]<=A[i]:\n",
    "         stack.pop()\n",
    "    if len(stack)==0:\n",
    "        ans[i]=-1\n",
    "    else:\n",
    "        ans[i]=stack[-1]\n",
    "    stack.append(A[i])\n",
    "ans\n",
    "    "
   ]
  },
  {
   "cell_type": "code",
   "execution_count": 60,
   "metadata": {},
   "outputs": [
    {
     "data": {
      "text/plain": [
       "10"
      ]
     },
     "execution_count": 60,
     "metadata": {},
     "output_type": "execute_result"
    }
   ],
   "source": [
    "A = [2, 1, 5, 6, 2, 3]\n",
    "nsl=[]\n",
    "stack=[]\n",
    "ans=0\n",
    "for i in range(len(A)):\n",
    "    while len(stack)>0 and A[stack[-1]]>=A[i]:\n",
    "        stack.pop()\n",
    "    if len(stack)==0:\n",
    "        nsl.append(-1)\n",
    "    else:\n",
    "        nsl.append(stack[-1])\n",
    "    stack.append(i)\n",
    "\n",
    "nsr=[0]*len(A)\n",
    "rstack=[]\n",
    "for i in range(len(A)-1,-1,-1):\n",
    "    while len(rstack)>0 and A[rstack[-1]]>=A[i]:\n",
    "         rstack.pop()\n",
    "    if len(rstack)==0:\n",
    "        nsr[i]=len(A)\n",
    "    else:\n",
    "        nsr[i]=rstack[-1]\n",
    "    rstack.append(i)\n",
    "\n",
    "for i in range(len(A)):\n",
    "    area = A[i]*(nsr[i]-nsl[i]-1)\n",
    "    ans=max(ans,area)\n",
    "ans"
   ]
  },
  {
   "cell_type": "code",
   "execution_count": 2,
   "metadata": {},
   "outputs": [
    {
     "name": "stdout",
     "output_type": "stream",
     "text": [
      "[-1, 0, -1, 2] [2, 2, 4, 4] [-1, -1, 1, -1] [1, 3, 3, 4]\n",
      "1 2\n",
      "4 1\n",
      "1 6\n",
      "4 1\n"
     ]
    },
    {
     "data": {
      "text/plain": [
       "26"
      ]
     },
     "execution_count": 2,
     "metadata": {},
     "output_type": "execute_result"
    }
   ],
   "source": [
    "A = [4, 7, 3, 8]\n",
    "ngli=[]\n",
    "nstack=[]\n",
    "nsl=[]\n",
    "stack=[]\n",
    "ans=0\n",
    "for i in range(len(A)):\n",
    "    while len(stack)>0 and A[stack[-1]]>=A[i]:\n",
    "        stack.pop()\n",
    "    if len(stack)==0:\n",
    "        nsl.append(-1)\n",
    "    else:\n",
    "        nsl.append(stack[-1])\n",
    "    stack.append(i)\n",
    "\n",
    "nsr=[0]*len(A)\n",
    "rstack=[]\n",
    "for i in range(len(A)-1,-1,-1):\n",
    "    while len(rstack)>0 and A[rstack[-1]]>=A[i]:\n",
    "         rstack.pop()\n",
    "    if len(rstack)==0:\n",
    "        nsr[i]=len(A)\n",
    "    else:\n",
    "        nsr[i]=rstack[-1]\n",
    "    rstack.append(i)\n",
    "    \n",
    "for i in range(len(A)):\n",
    "    while len(nstack)>0 and A[nstack[-1]]<=A[i]:\n",
    "        nstack.pop()\n",
    "    if len(nstack)==0:\n",
    "        ngli.append(-1)\n",
    "    else:\n",
    "        ngli.append(nstack[-1])\n",
    "    nstack.append(i)\n",
    "    \n",
    "ngri=[0]*len(A)\n",
    "mstack=[]\n",
    "for i in range(len(A)-1,-1,-1):\n",
    "    while len(mstack)>0 and A[mstack[-1]]<=A[i]:\n",
    "         mstack.pop()\n",
    "    if len(mstack)==0:\n",
    "        ngri[i]=len(A)\n",
    "    else:\n",
    "        ngri[i]=mstack[-1]\n",
    "    mstack.append(i)\n",
    "for i in range(len(A)):\n",
    "    maxi = (i-ngli[i])*(ngri[i]-i)\n",
    "    mini = (i-nsl[i])*(nsr[i]-i)\n",
    "    ans+=A[i]*(maxi-mini)\n",
    "ans"
   ]
  },
  {
   "cell_type": "code",
   "execution_count": 1,
   "metadata": {},
   "outputs": [
    {
     "ename": "KeyError",
     "evalue": "1",
     "output_type": "error",
     "traceback": [
      "\u001b[0;31m---------------------------------------------------------------------------\u001b[0m",
      "\u001b[0;31mKeyError\u001b[0m                                  Traceback (most recent call last)",
      "Cell \u001b[0;32mIn[1], line 8\u001b[0m\n\u001b[1;32m      6\u001b[0m \u001b[38;5;28;01mfor\u001b[39;00m i \u001b[38;5;129;01min\u001b[39;00m a:\n\u001b[1;32m      7\u001b[0m     \u001b[38;5;28;01mif\u001b[39;00m i \u001b[38;5;129;01min\u001b[39;00m b:\n\u001b[0;32m----> 8\u001b[0m         freqArr[i]\u001b[38;5;241m+\u001b[39m\u001b[38;5;241m=\u001b[39m\u001b[38;5;241m1\u001b[39m\n\u001b[1;32m      9\u001b[0m     \u001b[38;5;28;01melse\u001b[39;00m:\n\u001b[1;32m     10\u001b[0m         freqArr[i]\u001b[38;5;241m=\u001b[39m\u001b[38;5;241m1\u001b[39m\n",
      "\u001b[0;31mKeyError\u001b[0m: 1"
     ]
    }
   ],
   "source": [
    "n = 3\n",
    "a = [4,1,2]\n",
    "b = [1,7,3]\n",
    "query = [0,1]\n",
    "freqArr={}\n",
    "for i in a:\n",
    "    if i in b:\n",
    "        freqArr[i]+=1\n",
    "    else:\n",
    "        freqArr[i]=1\n",
    "freqArr\n",
    "    "
   ]
  },
  {
   "cell_type": "code",
   "execution_count": 5,
   "metadata": {},
   "outputs": [
    {
     "data": {
      "text/plain": [
       "2"
      ]
     },
     "execution_count": 5,
     "metadata": {},
     "output_type": "execute_result"
    }
   ],
   "source": [
    "A = 1\n",
    "B = 1\n",
    "C = [2]\n",
    "def stack(A,B,C):\n",
    "    stack=[B]\n",
    "    for i in range(A):\n",
    "        if C[i]==0:\n",
    "            stack.pop()\n",
    "        else:\n",
    "            stack.append(C[i])\n",
    "    return stack[-1]\n",
    "stack(A,B,C)"
   ]
  },
  {
   "cell_type": "code",
   "execution_count": null,
   "metadata": {},
   "outputs": [],
   "source": [
    "A = \"{([])}\"\n",
    "def checkBraces(A):\n",
    "    formate={\"(\":\")\",\"[\":\"]\",\"{\":\"}\"}\n",
    "    stack=[]\n",
    "    for i in A:\n",
    "        if A\n"
   ]
  },
  {
   "cell_type": "code",
   "execution_count": 22,
   "metadata": {},
   "outputs": [
    {
     "name": "stdout",
     "output_type": "stream",
     "text": [
      "d ['(']\n"
     ]
    },
    {
     "data": {
      "text/plain": [
       "1"
      ]
     },
     "execution_count": 22,
     "metadata": {},
     "output_type": "execute_result"
    }
   ],
   "source": [
    "A = \"(d)\"\n",
    "def redundent(A):\n",
    "    stack=[]\n",
    "    \n",
    "    for i in A:\n",
    "        if i!=\")\":\n",
    "            stack.append(i)\n",
    "        else:\n",
    "            data=stack.pop()\n",
    "            operatorCount=0\n",
    "            while data!=\"(\" and len(stack)!=0:\n",
    "                if data==\"+\" or data==\"-\" or data==\"/\" or data==\"*\":\n",
    "                    operatorCount+=1\n",
    "                    data=stack.pop()\n",
    "                else:\n",
    "                    data=stack.pop()\n",
    "            if operatorCount==0:\n",
    "                return 1\n",
    "    return 0\n",
    "    \n",
    "redundent(A)"
   ]
  },
  {
   "cell_type": "code",
   "execution_count": 24,
   "metadata": {},
   "outputs": [
    {
     "data": {
      "text/plain": [
       "2"
      ]
     },
     "execution_count": 24,
     "metadata": {},
     "output_type": "execute_result"
    }
   ],
   "source": [
    "2%5"
   ]
  },
  {
   "cell_type": "code",
   "execution_count": 25,
   "metadata": {},
   "outputs": [],
   "source": [
    "arr=[0]\n",
    "A=[3,5,6,7,\"D\",8,4,1,2]\n",
    "def enqueue(A,arr):\n",
    "    f=-1\n",
    "    r=-1\n",
    "    size=0\n",
    "    for i in A:\n",
    "        if r==-1 and f==-1:\n",
    "            f=0\n",
    "            r=0\n",
    "            size+=1\n",
    "            arr[r]=i\n",
    "        if size==len(A):\n",
    "            print(\"Queue is full\")\n",
    "        else:\n",
    "            r+=1\n",
    "            "
   ]
  },
  {
   "cell_type": "code",
   "execution_count": 26,
   "metadata": {},
   "outputs": [
    {
     "data": {
      "text/plain": [
       "[0, 0, 0, 0, 0]"
      ]
     },
     "execution_count": 26,
     "metadata": {},
     "output_type": "execute_result"
    }
   ],
   "source": [
    "arr"
   ]
  },
  {
   "cell_type": "code",
   "execution_count": null,
   "metadata": {},
   "outputs": [],
   "source": []
  }
 ],
 "metadata": {
  "kernelspec": {
   "display_name": "Python 3 (ipykernel)",
   "language": "python",
   "name": "python3"
  },
  "language_info": {
   "codemirror_mode": {
    "name": "ipython",
    "version": 3
   },
   "file_extension": ".py",
   "mimetype": "text/x-python",
   "name": "python",
   "nbconvert_exporter": "python",
   "pygments_lexer": "ipython3",
   "version": "3.10.12"
  }
 },
 "nbformat": 4,
 "nbformat_minor": 2
}
