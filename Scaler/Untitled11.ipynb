{
 "cells": [
  {
   "cell_type": "code",
   "execution_count": 2,
   "metadata": {},
   "outputs": [
    {
     "name": "stdout",
     "output_type": "stream",
     "text": [
      "6\n",
      "1 3\n"
     ]
    }
   ],
   "source": [
    "A=[1,-1,3,4,-5,6]\n",
    "B=3\n",
    "n=len(A)\n",
    "\n",
    "#optimized approach\n",
    "s=0\n",
    "e=B-1\n",
    "sum=0\n",
    "maximum=0\n",
    "start=0\n",
    "end=B-1\n",
    "for i in range(s,e+1):\n",
    "    sum+=A[i]\n",
    "maximum=max(maximum,sum)\n",
    "\n",
    "s+=1\n",
    "e+=1\n",
    "\n",
    "while e<n:\n",
    "    sum=sum-A[s-1]+A[e]\n",
    "    if maximum !=max(maximum,sum):\n",
    "        start=s\n",
    "        end=e\n",
    "    maximum =max(maximum,sum)\n",
    "   \n",
    "     \n",
    "    s+=1\n",
    "    e+=1\n",
    "    \n",
    "print(maximum)\n",
    "print(start,end)"
   ]
  },
  {
   "cell_type": "code",
   "execution_count": null,
   "metadata": {},
   "outputs": [],
   "source": []
  }
 ],
 "metadata": {
  "kernelspec": {
   "display_name": "Python 3 (ipykernel)",
   "language": "python",
   "name": "python3"
  },
  "language_info": {
   "codemirror_mode": {
    "name": "ipython",
    "version": 3
   },
   "file_extension": ".py",
   "mimetype": "text/x-python",
   "name": "python",
   "nbconvert_exporter": "python",
   "pygments_lexer": "ipython3",
   "version": "3.10.12"
  }
 },
 "nbformat": 4,
 "nbformat_minor": 2
}
