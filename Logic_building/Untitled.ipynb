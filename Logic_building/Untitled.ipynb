{
 "cells": [
  {
   "cell_type": "code",
   "execution_count": 1,
   "metadata": {},
   "outputs": [
    {
     "data": {
      "text/plain": [
       "[-1]"
      ]
     },
     "execution_count": 1,
     "metadata": {},
     "output_type": "execute_result"
    }
   ],
   "source": [
    "arr=[]\n",
    "n=5\n",
    "def find_duplicate(arr):\n",
    "    unique=set(arr)\n",
    "    for i in unique:\n",
    "        arr.remove(i)\n",
    "        \n",
    "    if len(arr):\n",
    "        return list(set(arr))\n",
    "    else:\n",
    "        return[-1]\n",
    "        \n",
    "find_duplicate(arr)"
   ]
  },
  {
   "cell_type": "code",
   "execution_count": 28,
   "metadata": {},
   "outputs": [
    {
     "data": {
      "text/plain": [
       "3"
      ]
     },
     "execution_count": 28,
     "metadata": {},
     "output_type": "execute_result"
    }
   ],
   "source": [
    "arr =[1, 3, 5, 8, 9, 2, 6, 7, 6, 8, 9]\n",
    "n=11\n",
    "def minimum_jump(arr,n):\n",
    "    if len(arr)>0: \n",
    "        if arr[0]==0:\n",
    "            return -1\n",
    "    \n",
    "    i=0\n",
    "    jump_index=0\n",
    "    count=0\n",
    "    while jump_index<n-1:\n",
    "        jump=arr[i]\n",
    "        jump_index+=jump\n",
    "        i=jump_index\n",
    "        count+=1\n",
    "    return count\n",
    "        \n",
    "        \n",
    "\n",
    "minimum_jump(arr,n)"
   ]
  },
  {
   "cell_type": "code",
   "execution_count": null,
   "metadata": {},
   "outputs": [],
   "source": []
  }
 ],
 "metadata": {
  "kernelspec": {
   "display_name": "Python 3 (ipykernel)",
   "language": "python",
   "name": "python3"
  },
  "language_info": {
   "codemirror_mode": {
    "name": "ipython",
    "version": 3
   },
   "file_extension": ".py",
   "mimetype": "text/x-python",
   "name": "python",
   "nbconvert_exporter": "python",
   "pygments_lexer": "ipython3",
   "version": "3.10.12"
  }
 },
 "nbformat": 4,
 "nbformat_minor": 2
}
