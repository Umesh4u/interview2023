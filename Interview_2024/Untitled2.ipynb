{
 "cells": [
  {
   "cell_type": "code",
   "execution_count": 21,
   "metadata": {},
   "outputs": [
    {
     "name": "stdout",
     "output_type": "stream",
     "text": [
      "3 a\n"
     ]
    }
   ],
   "source": [
    "## Find conjicutive highest frequency alphabet\n",
    "a=\"abbaaaca\"\n",
    "ch=a[0]\n",
    "count=0\n",
    "ans=0\n",
    "val=a[0]\n",
    "for i in a:\n",
    "    if i==ch:\n",
    "        count+=1\n",
    "        pans=max(count,ans)\n",
    "        if ans!=pans:\n",
    "            val=ch\n",
    "        ans=pans\n",
    "\n",
    "    else:\n",
    "        count=1\n",
    "        ch=i\n",
    "print(ans,val)"
   ]
  },
  {
   "cell_type": "code",
   "execution_count": 27,
   "metadata": {},
   "outputs": [
    {
     "data": {
      "text/plain": [
       "['is', 'old', 'man', 'the', 'very', 'poor', 'farmer']"
      ]
     },
     "execution_count": 27,
     "metadata": {},
     "output_type": "execute_result"
    }
   ],
   "source": [
    "#Sort the list in ascending order wise by word lengths\n",
    "\n",
    "A=[\"the\",\"old\",\"man\",\"is\",\"very\",\"poor\",\"farmer\"]\n",
    "for i in range(len(A)):\n",
    "    for j in range(i,len(A)):\n",
    "        if len(A[i])>len(A[j]):\n",
    "            A[i],A[j]=A[j],A[i]\n",
    "            \n",
    "A"
   ]
  },
  {
   "cell_type": "code",
   "execution_count": 31,
   "metadata": {},
   "outputs": [
    {
     "data": {
      "text/plain": [
       "['pop', 'Yay', 'wow']"
      ]
     },
     "execution_count": 31,
     "metadata": {},
     "output_type": "execute_result"
    }
   ],
   "source": [
    "A=[\"The\",\"Boy\",\"pop\",\"out\",\"wonderful\",\"Yay\",\"wow\"]\n",
    "p_list=[]\n",
    "for i in A:\n",
    "    if i.lower() ==i[::-1].lower():\n",
    "        p_list.append(i)\n",
    "p_list\n",
    "    "
   ]
  },
  {
   "cell_type": "code",
   "execution_count": 51,
   "metadata": {},
   "outputs": [
    {
     "data": {
      "text/plain": [
       "'doo gas in a meht'"
      ]
     },
     "execution_count": 51,
     "metadata": {},
     "output_type": "execute_result"
    }
   ],
   "source": [
    "\n",
    "A=[\"the\", \"man\",\"is\",\"a\", \"good\"]\n",
    "res=[]\n",
    "str=\"\"\n",
    "for i in range(len(A)-1,-1,-1):\n",
    "    str+=A[i][::-1]\n",
    "index=0\n",
    "for i in A:\n",
    "    l=len(i)\n",
    "    txt=str[index:index+l]\n",
    "    res.append(txt)\n",
    "    index=index+l\n",
    "\" \".join(res) "
   ]
  },
  {
   "cell_type": "code",
   "execution_count": 55,
   "metadata": {},
   "outputs": [
    {
     "data": {
      "text/plain": [
       "True"
      ]
     },
     "execution_count": 55,
     "metadata": {},
     "output_type": "execute_result"
    }
   ],
   "source": [
    "A=[4,3,2,1,5,6,7]\n",
    "k=9\n",
    "def find_k_value(A,k):\n",
    "    pfa=[]\n",
    "    pfa.append(A[0])\n",
    "    for i in range(1,len(A)):\n",
    "        pfa.append(A[i]+pfa[i-1])\n",
    "#     return pfa\n",
    "    if k in pfa:\n",
    "        return True\n",
    "    return False\n",
    "#     for s in range(len(A)):\n",
    "        \n",
    "#         for e in range(len(A)):\n",
    "                    \n",
    "        \n",
    "\n",
    "find_k_value(A,k)"
   ]
  },
  {
   "cell_type": "code",
   "execution_count": 65,
   "metadata": {},
   "outputs": [
    {
     "name": "stdout",
     "output_type": "stream",
     "text": [
      "ant [] True\n",
      "abc [['ant', 'tna', 'nta']] True\n",
      "dog [['ant', 'tna', 'nta'], ['abc', 'cba']] True\n",
      "cba [['ant', 'tna', 'nta'], ['abc', 'cba'], ['dog']] True\n",
      "tna [['ant', 'tna', 'nta'], ['abc', 'cba'], ['dog'], ['cba']] True\n",
      "nta [['ant', 'tna', 'nta'], ['abc', 'cba'], ['dog'], ['cba'], ['tna', 'nta']] True\n"
     ]
    },
    {
     "data": {
      "text/plain": [
       "[['ant', 'tna', 'nta'],\n",
       " ['abc', 'cba'],\n",
       " ['dog'],\n",
       " ['cba'],\n",
       " ['tna', 'nta'],\n",
       " ['nta']]"
      ]
     },
     "execution_count": 65,
     "metadata": {},
     "output_type": "execute_result"
    }
   ],
   "source": [
    "li=[\"ant\",\"abc\",\"dog\",\"cba\",\"tna\",\"nta\"]\n",
    "result=[]\n",
    "for i in range(len(li)):\n",
    "    nested_li =[]\n",
    "    print(li[i],result, li[i] not in result )\n",
    "    if li[i] not in result:\n",
    "        nested_li.append(li[i])\n",
    "\n",
    "        for j in range(i+1,len(li)):\n",
    "            if len(li[i]) == len(li[j]):\n",
    "                if ''.join(sorted(li[i])) == ''.join(sorted(li[j])):\n",
    "                    nested_li.append(li[j])\n",
    "        result.append(nested_li)\n",
    "result"
   ]
  },
  {
   "cell_type": "code",
   "execution_count": null,
   "metadata": {},
   "outputs": [],
   "source": []
  }
 ],
 "metadata": {
  "kernelspec": {
   "display_name": "Python 3 (ipykernel)",
   "language": "python",
   "name": "python3"
  },
  "language_info": {
   "codemirror_mode": {
    "name": "ipython",
    "version": 3
   },
   "file_extension": ".py",
   "mimetype": "text/x-python",
   "name": "python",
   "nbconvert_exporter": "python",
   "pygments_lexer": "ipython3",
   "version": "3.10.12"
  }
 },
 "nbformat": 4,
 "nbformat_minor": 2
}
