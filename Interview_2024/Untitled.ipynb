{
 "cells": [
  {
   "cell_type": "markdown",
   "metadata": {},
   "source": [
    "A = [-5,-2,1,8,10,12,15]\n",
    "k = 18\n",
    "\n",
    "found, subarray = subarray_sum_to_k(A, k)\n",
    "\n",
    "if found:\n",
    "    print(\"Subarray found:\", subarray)\n",
    "else:\n",
    "    print(\"No subarray found\")"
   ]
  },
  {
   "cell_type": "code",
   "execution_count": 2,
   "metadata": {},
   "outputs": [
    {
     "name": "stdout",
     "output_type": "stream",
     "text": [
      "Subarray found: [8, 12]\n"
     ]
    }
   ],
   "source": [
    "A = [-5,-2,1,8,10,12,15]\n",
    "k = 20\n",
    "def subarray_sum_to_k(A,k):\n",
    "    for num in A:\n",
    "        if k-num in A:\n",
    "            return True,[num,k-num]\n",
    "    return False,[]\n",
    "\n",
    "found, subarray = subarray_sum_to_k(A, k)\n",
    "\n",
    "if found:\n",
    "    print(\"Subarray found:\", subarray)\n",
    "else:\n",
    "    print(\"No subarray found\")"
   ]
  },
  {
   "cell_type": "code",
   "execution_count": 17,
   "metadata": {},
   "outputs": [
    {
     "name": "stdout",
     "output_type": "stream",
     "text": [
      "Subarray found: [8, 10]\n"
     ]
    }
   ],
   "source": [
    "A = [-5,-2,1,8,10,12,15]\n",
    "k = 18\n",
    "#Brute force Approch\n",
    "def subarray_sum_to_k(A,k):\n",
    "    n=len(A)\n",
    "    for s in range(n):\n",
    "        for e in range(s,n):\n",
    "            sums=0\n",
    "            for num in range(s,e+1):\n",
    "                sums+=A[num]\n",
    "                if sums==k:\n",
    "                    return True,A[s:e+1]\n",
    "    return False,None                \n",
    "                \n",
    "        \n",
    "found, subarray = subarray_sum_to_k(A, k)\n",
    "\n",
    "if found:\n",
    "    print(\"Subarray found:\", subarray)\n",
    "else:\n",
    "    print(\"No subarray found\")"
   ]
  },
  {
   "cell_type": "code",
   "execution_count": 29,
   "metadata": {},
   "outputs": [
    {
     "name": "stdout",
     "output_type": "stream",
     "text": [
      "Subarray found: [8, 10]\n"
     ]
    }
   ],
   "source": [
    "A = [-5,-2,1,8,10,12,15]\n",
    "k = 18\n",
    "#Prefix Sum \n",
    "def subarray_sum_to_k(A,k):\n",
    "    n=len(A)\n",
    "    pfa=[]\n",
    "    pfa.append(A[0])\n",
    "    for i in range(1,n):\n",
    "        pfa.append(pfa[i-1]+A[i])\n",
    "    \n",
    "        \n",
    "    for s in range(n):\n",
    "        for e in range(s,n):\n",
    "            sum = 0\n",
    "            if s == 0:\n",
    "                sum += pfa[e]\n",
    "            else:\n",
    "                sum += pfa[e] - pfa[s-1]\n",
    "            if sum == k:\n",
    "                return True,A[s:e+1]\n",
    "    return False,None                \n",
    "                \n",
    "        \n",
    "found, subarray = subarray_sum_to_k(A, k)\n",
    "\n",
    "if found:\n",
    "    print(\"Subarray found:\", subarray)\n",
    "else:\n",
    "    print(\"No subarray found\")"
   ]
  },
  {
   "cell_type": "code",
   "execution_count": null,
   "metadata": {},
   "outputs": [],
   "source": []
  }
 ],
 "metadata": {
  "kernelspec": {
   "display_name": "Python 3 (ipykernel)",
   "language": "python",
   "name": "python3"
  },
  "language_info": {
   "codemirror_mode": {
    "name": "ipython",
    "version": 3
   },
   "file_extension": ".py",
   "mimetype": "text/x-python",
   "name": "python",
   "nbconvert_exporter": "python",
   "pygments_lexer": "ipython3",
   "version": "3.10.12"
  }
 },
 "nbformat": 4,
 "nbformat_minor": 2
}
