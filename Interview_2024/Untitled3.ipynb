{
 "cells": [
  {
   "cell_type": "code",
   "execution_count": 17,
   "metadata": {},
   "outputs": [
    {
     "name": "stdout",
     "output_type": "stream",
     "text": [
      "ant\n"
     ]
    },
    {
     "data": {
      "text/plain": [
       "[['ant', 'ant', 'ant', 'ant', 'ant', 'ant', 'tna', 'ant', 'nta'],\n",
       " ['abc', 'abc', 'abc', 'abc', 'cba', 'abc', 'abc'],\n",
       " ['dog', 'dog', 'dog', 'dog', 'dog'],\n",
       " ['cba', 'cba', 'cba', 'cba'],\n",
       " ['tna', 'tna', 'tna', 'nta'],\n",
       " ['nta', 'nta']]"
      ]
     },
     "execution_count": 17,
     "metadata": {},
     "output_type": "execute_result"
    }
   ],
   "source": [
    "li=[\"ant\",\"abc\",\"dog\",\"cba\",\"tna\",\"nta\"]\n",
    "print(''.join(sorted(li[4])))\n",
    "result=[]\n",
    "for i in range(len(li)):\n",
    "    nested_li =[]\n",
    "    if li[i] not in nested_li:\n",
    "        for j in range(i,len(li)):\n",
    "            nested_li.append(li[i])\n",
    "            if len(li[i]) == len(li[j]):\n",
    "\n",
    "                if ''.join(sorted(li[i])) == ''.join(sorted(li[j])):\n",
    "                    nested_li.append(li[j])\n",
    "        result.append(nested_li)\n",
    "result\n",
    "            "
   ]
  },
  {
   "cell_type": "code",
   "execution_count": null,
   "metadata": {},
   "outputs": [],
   "source": []
  }
 ],
 "metadata": {
  "kernelspec": {
   "display_name": "Python 3 (ipykernel)",
   "language": "python",
   "name": "python3"
  },
  "language_info": {
   "codemirror_mode": {
    "name": "ipython",
    "version": 3
   },
   "file_extension": ".py",
   "mimetype": "text/x-python",
   "name": "python",
   "nbconvert_exporter": "python",
   "pygments_lexer": "ipython3",
   "version": "3.10.12"
  }
 },
 "nbformat": 4,
 "nbformat_minor": 2
}
