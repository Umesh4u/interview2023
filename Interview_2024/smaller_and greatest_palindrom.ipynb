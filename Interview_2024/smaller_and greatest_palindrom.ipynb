{
 "cells": [
  {
   "cell_type": "code",
   "execution_count": 47,
   "metadata": {},
   "outputs": [
    {
     "name": "stdout",
     "output_type": "stream",
     "text": [
      "\n"
     ]
    }
   ],
   "source": [
    "s=\"you abbba abcded own wow kayak\"\n",
    "smaller=float('inf')\n",
    "largest=0\n",
    "smallest=\"\"\n",
    "large=\"\"\n",
    "\n",
    "for i in s.split():\n",
    "    if i== i[::-1]:\n",
    "        if len(i) > smaller:\n",
    "            smallest = i\n",
    "\n",
    "print(smallest)"
   ]
  },
  {
   "cell_type": "code",
   "execution_count": 45,
   "metadata": {},
   "outputs": [
    {
     "name": "stdout",
     "output_type": "stream",
     "text": [
      "dsfasf 5\n",
      "dsfasf 3\n",
      "dsfasf 5\n",
      "wow\n"
     ]
    }
   ],
   "source": [
    "def solve(s):\n",
    "    small_len = float('inf')\n",
    "    small_str = \"\"\n",
    "    input = s.split()\n",
    "    for i in input:\n",
    "        if i == i[::-1]:\n",
    "            print(\"dsfasf\",len(i))\n",
    "            if small_len > len(i):\n",
    "                small_len = len(i)\n",
    "                small_str = i\n",
    "    print(small_str)\n",
    "                \n",
    "\n",
    "\n",
    "s=\"you abbba abcded own wow kayak\"\n",
    "result = solve(s)"
   ]
  },
  {
   "cell_type": "code",
   "execution_count": null,
   "metadata": {},
   "outputs": [],
   "source": []
  },
  {
   "cell_type": "code",
   "execution_count": null,
   "metadata": {},
   "outputs": [],
   "source": []
  }
 ],
 "metadata": {
  "kernelspec": {
   "display_name": "Python 3 (ipykernel)",
   "language": "python",
   "name": "python3"
  },
  "language_info": {
   "codemirror_mode": {
    "name": "ipython",
    "version": 3
   },
   "file_extension": ".py",
   "mimetype": "text/x-python",
   "name": "python",
   "nbconvert_exporter": "python",
   "pygments_lexer": "ipython3",
   "version": "3.10.12"
  }
 },
 "nbformat": 4,
 "nbformat_minor": 2
}
