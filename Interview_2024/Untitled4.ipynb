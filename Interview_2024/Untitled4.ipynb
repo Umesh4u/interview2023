{
 "cells": [
  {
   "cell_type": "code",
   "execution_count": 3,
   "metadata": {},
   "outputs": [
    {
     "name": "stdout",
     "output_type": "stream",
     "text": [
      "3\n",
      "5\n"
     ]
    }
   ],
   "source": [
    "# return duplicate element\n",
    "v = [2,3,1,3,5,4,6,7,5]\n",
    "\n",
    "def duplicate_element(v):\n",
    "    freq_dict={}\n",
    "    for i in v:\n",
    "        if freq_dict.get(i):\n",
    "            freq_dict[i]+=1\n",
    "        else:\n",
    "            freq_dict[i]=1\n",
    "            \n",
    "    for val in freq_dict:\n",
    "        if freq_dict[val]>1:\n",
    "            print(val)\n",
    "\n",
    "duplicate_element(v)"
   ]
  },
  {
   "cell_type": "code",
   "execution_count": 6,
   "metadata": {},
   "outputs": [
    {
     "name": "stdout",
     "output_type": "stream",
     "text": [
      "2\n"
     ]
    },
    {
     "data": {
      "text/plain": [
       "[3, 5]"
      ]
     },
     "execution_count": 6,
     "metadata": {},
     "output_type": "execute_result"
    }
   ],
   "source": [
    "# return duplicate element\n",
    "v = [2,3,1,3,5,4,6,7,5]\n",
    "\n",
    "def duplicate_element(v):\n",
    "    unique_elem=set(v)\n",
    "    print(len(v)-len(unique_elem))\n",
    "    for i in unique_elem:\n",
    "        v.remove(i)\n",
    "    return v\n",
    "duplicate_element(v)"
   ]
  },
  {
   "cell_type": "code",
   "execution_count": 12,
   "metadata": {},
   "outputs": [
    {
     "data": {
      "text/plain": [
       "[(3, 4, 2),\n",
       " (3, 5, 1),\n",
       " (3, 2, 4),\n",
       " (3, 1, 5),\n",
       " (4, 2, 3),\n",
       " (4, 1, 4),\n",
       " (5, 2, 2),\n",
       " (5, 1, 3),\n",
       " (2, 2, 5)]"
      ]
     },
     "execution_count": 12,
     "metadata": {},
     "output_type": "execute_result"
    }
   ],
   "source": [
    "l = [3,4,5,2,1,2]\n",
    "# find the distinct triplets whose sum = n\n",
    "# where n= 9\n",
    "n=9\n",
    "def find_pair(l,n):\n",
    "    li=[]\n",
    "    for i in range(len(l)):\n",
    "        for j in range(i+1,len(l)):\n",
    "            num=l[i]+l[j]\n",
    "            if num>n:\n",
    "                pass\n",
    "            else:\n",
    "                expected_num = n-num\n",
    "                if expected_num in l:\n",
    "                    if (l[i],l[j],expected_num) not in li:\n",
    "                        li.append((l[i],l[j],expected_num))\n",
    "#             print(l[i],l[j])\n",
    "    return li\n",
    "        \n",
    "\n",
    "find_pair(l,n)"
   ]
  },
  {
   "cell_type": "code",
   "execution_count": null,
   "metadata": {},
   "outputs": [],
   "source": [
    "#solid\n",
    "#vertical and horizental scaling\n",
    "#composite key\n",
    "#indexing syntax\n",
    "#application architecutre-monolith or microservice\n",
    "#3 web services then there is necessary to create 3 db if it is how to create 3 db in rds\n",
    "# ec2 instace enough for your application what about ecs"
   ]
  },
  {
   "cell_type": "code",
   "execution_count": null,
   "metadata": {},
   "outputs": [],
   "source": []
  },
  {
   "cell_type": "code",
   "execution_count": null,
   "metadata": {},
   "outputs": [],
   "source": []
  },
  {
   "cell_type": "code",
   "execution_count": null,
   "metadata": {},
   "outputs": [],
   "source": []
  }
 ],
 "metadata": {
  "kernelspec": {
   "display_name": "Python 3 (ipykernel)",
   "language": "python",
   "name": "python3"
  },
  "language_info": {
   "codemirror_mode": {
    "name": "ipython",
    "version": 3
   },
   "file_extension": ".py",
   "mimetype": "text/x-python",
   "name": "python",
   "nbconvert_exporter": "python",
   "pygments_lexer": "ipython3",
   "version": "3.10.12"
  }
 },
 "nbformat": 4,
 "nbformat_minor": 2
}
