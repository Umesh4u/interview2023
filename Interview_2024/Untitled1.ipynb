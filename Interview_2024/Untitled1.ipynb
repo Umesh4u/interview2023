{
 "cells": [
  {
   "cell_type": "code",
   "execution_count": 2,
   "metadata": {},
   "outputs": [
    {
     "name": "stdout",
     "output_type": "stream",
     "text": [
      "c\n",
      "a\n",
      "r\n",
      "b\n",
      "e\n",
      "n\n",
      "c\n",
      "a\n",
      "s\n",
      "t\n"
     ]
    }
   ],
   "source": [
    "li=['car','carben','cast']\n",
    "commonLi=li[0]\n",
    "for i in range(1,len(li)):\n",
    "    for j in li[i]:\n",
    "        if j in "
   ]
  },
  {
   "cell_type": "code",
   "execution_count": 7,
   "metadata": {},
   "outputs": [
    {
     "data": {
      "text/plain": [
       "[1, 3, 6, 13, 18]"
      ]
     },
     "execution_count": 7,
     "metadata": {},
     "output_type": "execute_result"
    }
   ],
   "source": [
    "N = 5\n",
    "S = 12\n",
    "A = [1,2,3,7,5]\n",
    "pfs=[]\n",
    "pfs.append(A[0])\n",
    "for i in range(1,len(A)):\n",
    "    pfs.append(pfs[i-1]+A[i])\n",
    "    \n",
    "for s in range(len(pfs)):\n",
    "    for e in range(s,len(pfs)):\n",
    "        \n",
    "pfs"
   ]
  },
  {
   "cell_type": "code",
   "execution_count": 19,
   "metadata": {},
   "outputs": [
    {
     "data": {
      "text/plain": [
       "[4, 4, 3, 2, 1, 1, 1, 1, 1, 1]"
      ]
     },
     "execution_count": 19,
     "metadata": {},
     "output_type": "execute_result"
    }
   ],
   "source": [
    "a=[1,2,3,4,1,1,1,1,1,1,1,1,1,14]\n",
    "def find_uniques(a):\n",
    "    k=4\n",
    "    s=0\n",
    "    e=k\n",
    "    arr=[]\n",
    "    uniq_set=set(a[s:e])\n",
    "    arr.append(len(uniq_set))\n",
    "    s+=1\n",
    "    e+=1\n",
    "    while e<len(a):\n",
    "        uniq_set=set(a[s:e])\n",
    "        arr.append(len(uniq_set))\n",
    "        s+=1\n",
    "        e+=1\n",
    "    return arr\n",
    "        \n",
    "\n",
    "find_uniques(a)"
   ]
  },
  {
   "cell_type": "code",
   "execution_count": 20,
   "metadata": {},
   "outputs": [
    {
     "data": {
      "text/plain": [
       "[1, 2, 3, 5, 4, 6]"
      ]
     },
     "execution_count": 20,
     "metadata": {},
     "output_type": "execute_result"
    }
   ],
   "source": [
    "def nextPermutation(A):\n",
    "    n=len(A)\n",
    "    if n>=2:\n",
    "        A[n-1],A[n-2]=A[n-2],A[n-1]\n",
    "        if A[n-1]>A[n-2]:\n",
    "            A[n-3],A[n-1]=A[n-1],A[n-3]\n",
    "    return A\n",
    "A=[1,2,3,6,5,4]\n",
    "nextPermutation(A)"
   ]
  },
  {
   "cell_type": "code",
   "execution_count": 22,
   "metadata": {},
   "outputs": [
    {
     "name": "stdout",
     "output_type": "stream",
     "text": [
      "4\n"
     ]
    },
    {
     "data": {
      "text/plain": [
       "[1, 2, 4, 3, 5, 6]"
      ]
     },
     "execution_count": 22,
     "metadata": {},
     "output_type": "execute_result"
    }
   ],
   "source": [
    "def nextPermutation(A):\n",
    "    f_idx = 0\n",
    "    s_idx = 0\n",
    "    idx_val = 0\n",
    "    print(len(A)-2)\n",
    "    # 1 - iterating from behind and find first index for swap\n",
    "    for i in range(len(A)-2, -1,-1):\n",
    "        if A[i] < A[i+1]:\n",
    "            f_idx = i\n",
    "            idx_val = A[i]\n",
    "            break\n",
    "\n",
    "    # 2 - reverse traverse for finding second index from which f_idx value needs replace\n",
    "    for i in range(len(A)-1, -1, -1):\n",
    "        if A[i] > idx_val:\n",
    "            s_idx = i\n",
    "        # 3 - swap in list itself and break the loop\n",
    "            temp = A[f_idx]\n",
    "            A[f_idx] = A[s_idx]\n",
    "            A[s_idx] = temp\n",
    "            break\n",
    "\n",
    "    # 4 - Reverse the list from f_idx + 1 onwards\n",
    "    j = len(A)-1\n",
    "    i = f_idx + 1\n",
    "    while i < j:\n",
    "        temp = A[j]\n",
    "        A[j] = A[i]\n",
    "        A[i] = temp\n",
    "        i += 1\n",
    "        j -= 1\n",
    "    return A\n",
    "\n",
    "A=[1,2,3,6,5,4]\n",
    "nextPermutation(A)\n",
    "\n"
   ]
  },
  {
   "cell_type": "code",
   "execution_count": 59,
   "metadata": {},
   "outputs": [
    {
     "data": {
      "text/plain": [
       "196"
      ]
     },
     "execution_count": 59,
     "metadata": {},
     "output_type": "execute_result"
    }
   ],
   "source": [
    "def solve(A):\n",
    "    s=0\n",
    "    i=1\n",
    "    for x in range(10):\n",
    "        s=s+((A//(i*10))*i+min(max((A%(i*10))-(i-1),0),i))\n",
    "        i=i*10\n",
    "    return s\n",
    "#     count=0\n",
    "#     for i in range(1,A,10):\n",
    "#         count+=(A // (i * 10 ) ) * i \n",
    "#         count+=min( max(((A % (i * 10))- (i - 1)), 0), i)\n",
    "# #         if i//10==1:\n",
    "# #             print(i)\n",
    "# #             count+=1\n",
    "# #         if i%10==1:\n",
    "# #             print(i)\n",
    "# #             count+=1\n",
    "                \n",
    "#     return count        \n",
    "\n",
    "A=452\n",
    "solve(A)"
   ]
  },
  {
   "cell_type": "code",
   "execution_count": 61,
   "metadata": {},
   "outputs": [
    {
     "data": {
      "text/plain": [
       "5"
      ]
     },
     "execution_count": 61,
     "metadata": {},
     "output_type": "execute_result"
    }
   ],
   "source": [
    "A=5\n",
    "B=10\n",
    "abs(A-B)"
   ]
  },
  {
   "cell_type": "code",
   "execution_count": 86,
   "metadata": {},
   "outputs": [
    {
     "name": "stdout",
     "output_type": "stream",
     "text": [
      "[0, 0, 3, 2, 0, 0, 2, 0, 3, 0, 1]\n",
      "3\n",
      "3\n",
      "2\n"
     ]
    }
   ],
   "source": [
    "A=[2,6,3,8,2,8,2,3,8,10,6]\n",
    "Q=[2,8,6]\n",
    "def frequancy_array(A,Q):\n",
    "    FA=[0]*(max(A)+1)\n",
    "    for i in A:\n",
    "        FA[i]+=1\n",
    "    print(FA)\n",
    "    for j in Q:\n",
    "        print(FA[j])\n",
    "    \n",
    "frequancy_array(A,Q)"
   ]
  },
  {
   "cell_type": "code",
   "execution_count": 90,
   "metadata": {},
   "outputs": [
    {
     "name": "stdout",
     "output_type": "stream",
     "text": [
      "{4: 2, 3: 2, 2: 1, 5: 2, 6: 1}\n",
      "2\n"
     ]
    }
   ],
   "source": [
    "A=[4,3,3,2,5,6,4,5]\n",
    "def first_non_repeat_element(A):\n",
    "    dict1={}\n",
    "    for i in A:\n",
    "        if i in dict1:\n",
    "            dict1[i]+=1\n",
    "        else:\n",
    "            dict1[i]=1\n",
    "            \n",
    "    for i in dict1:\n",
    "        if dict1[i]==1:\n",
    "            print(i)\n",
    "            break\n",
    "    \n",
    "first_non_repeat_element(A)"
   ]
  },
  {
   "cell_type": "code",
   "execution_count": 92,
   "metadata": {},
   "outputs": [
    {
     "name": "stdout",
     "output_type": "stream",
     "text": [
      "4\n"
     ]
    }
   ],
   "source": [
    "#find count of distinct element\n",
    "A=[3,4,6,5,4]\n",
    "def distinct_element(A):\n",
    "    s=set(A)\n",
    "    print(len(s))\n",
    "    \n",
    "distinct_element(A)"
   ]
  },
  {
   "cell_type": "code",
   "execution_count": 94,
   "metadata": {},
   "outputs": [
    {
     "data": {
      "text/plain": [
       "True"
      ]
     },
     "execution_count": 94,
     "metadata": {},
     "output_type": "execute_result"
    }
   ],
   "source": [
    "None==None"
   ]
  },
  {
   "cell_type": "code",
   "execution_count": 96,
   "metadata": {},
   "outputs": [],
   "source": [
    "s=set()"
   ]
  },
  {
   "cell_type": "code",
   "execution_count": 97,
   "metadata": {},
   "outputs": [],
   "source": [
    "s.add(0)"
   ]
  },
  {
   "cell_type": "code",
   "execution_count": 98,
   "metadata": {},
   "outputs": [
    {
     "data": {
      "text/plain": [
       "{0}"
      ]
     },
     "execution_count": 98,
     "metadata": {},
     "output_type": "execute_result"
    }
   ],
   "source": [
    "s"
   ]
  },
  {
   "cell_type": "code",
   "execution_count": null,
   "metadata": {},
   "outputs": [],
   "source": []
  }
 ],
 "metadata": {
  "kernelspec": {
   "display_name": "Python 3 (ipykernel)",
   "language": "python",
   "name": "python3"
  },
  "language_info": {
   "codemirror_mode": {
    "name": "ipython",
    "version": 3
   },
   "file_extension": ".py",
   "mimetype": "text/x-python",
   "name": "python",
   "nbconvert_exporter": "python",
   "pygments_lexer": "ipython3",
   "version": "3.10.12"
  }
 },
 "nbformat": 4,
 "nbformat_minor": 2
}
