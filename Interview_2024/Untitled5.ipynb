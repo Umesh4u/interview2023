{
 "cells": [
  {
   "cell_type": "code",
   "execution_count": 1,
   "metadata": {},
   "outputs": [
    {
     "data": {
      "text/plain": [
       "{}"
      ]
     },
     "execution_count": 1,
     "metadata": {},
     "output_type": "execute_result"
    }
   ],
   "source": [
    "#Dictionary\n",
    "\n",
    "student_details=dict() \n",
    "student_details['name']=\"Ksum\"\n",
    "student_details['enroll_no']=\"116047\""
   ]
  },
  {
   "cell_type": "code",
   "execution_count": 24,
   "metadata": {},
   "outputs": [],
   "source": [
    "xyz=tuple([2,3,4,5]) # (2,4,5,6)\n",
    "li=list([1,2,3,4,5] )\n",
    "unique_data=set({1,2,3})"
   ]
  },
  {
   "cell_type": "code",
   "execution_count": 13,
   "metadata": {},
   "outputs": [
    {
     "name": "stdout",
     "output_type": "stream",
     "text": [
      "0\n",
      "1\n",
      "1\n",
      "2\n",
      "3\n",
      "5\n",
      "8\n",
      "13\n",
      "21\n",
      "34\n"
     ]
    }
   ],
   "source": [
    "def fibnocci_series():\n",
    "    a=0\n",
    "    b=1\n",
    "    while True:\n",
    "        yield a\n",
    "        a,b=b,a+b\n",
    "        \n",
    "\n",
    "i=10\n",
    "fib=fibnocci_series()\n",
    "for i in range(i):\n",
    "    print(next(fib))"
   ]
  },
  {
   "cell_type": "code",
   "execution_count": 17,
   "metadata": {},
   "outputs": [
    {
     "name": "stdout",
     "output_type": "stream",
     "text": [
      "Hello I am display function\n",
      "I am decoration 2 function\n",
      "I am decoration 1 function\n"
     ]
    }
   ],
   "source": [
    "#decorator\n",
    "\n",
    "def decorated(func):\n",
    "    def wrapper():\n",
    "        func()\n",
    "        print(\"I am decoration 1 function\")\n",
    "        \n",
    "    return wrapper\n",
    "\n",
    "def decorated2(func):\n",
    "    def wrapper():\n",
    "        func()\n",
    "        print(\"I am decoration 2 function\")\n",
    "    return wrapper\n",
    "\n",
    "@decorated2\n",
    "@decorated\n",
    "def display():\n",
    "    print(\"Hello I am display function\")\n",
    "\n",
    "display()"
   ]
  },
  {
   "cell_type": "code",
   "execution_count": null,
   "metadata": {},
   "outputs": [],
   "source": [
    "name ,marks\n",
    "marks = Student.object.all().order_by('-marks')\n",
    "print(marks.first())\n",
    "\n",
    "select * from Student order by marks desc limit 1 "
   ]
  },
  {
   "cell_type": "code",
   "execution_count": null,
   "metadata": {},
   "outputs": [],
   "source": [
    "middilware-> request and response cycle\n",
    "sleclect_related and prefecthc related difference and which one is lengthy query and why\n",
    "generator advantage and disvantage-> agar generator ke itne advantage hai to list kyu use kr rhe hai kuch to disadvantage hoga na\n"
   ]
  },
  {
   "cell_type": "code",
   "execution_count": 18,
   "metadata": {},
   "outputs": [],
   "source": [
    "my_tuple = tuple([1, 2, 3])\n"
   ]
  },
  {
   "cell_type": "code",
   "execution_count": null,
   "metadata": {},
   "outputs": [],
   "source": []
  }
 ],
 "metadata": {
  "kernelspec": {
   "display_name": "Python 3 (ipykernel)",
   "language": "python",
   "name": "python3"
  },
  "language_info": {
   "codemirror_mode": {
    "name": "ipython",
    "version": 3
   },
   "file_extension": ".py",
   "mimetype": "text/x-python",
   "name": "python",
   "nbconvert_exporter": "python",
   "pygments_lexer": "ipython3",
   "version": "3.10.12"
  }
 },
 "nbformat": 4,
 "nbformat_minor": 2
}
