{
 "cells": [
  {
   "cell_type": "code",
   "execution_count": 13,
   "metadata": {
    "tags": []
   },
   "outputs": [
    {
     "name": "stdout",
     "output_type": "stream",
     "text": [
      "3\n"
     ]
    }
   ],
   "source": [
    "####  Imp program\n",
    "\n",
    "def solve(string):\n",
    "    map = [0] * 26\n",
    "    is_odd_present = False\n",
    "    ans = 0\n",
    "    n = len(string)\n",
    "    for i in range(n):\n",
    "        ch = string[i]\n",
    "        map[ord(ch) - ord('a')] += 1\n",
    "        \n",
    "    \n",
    "    for i in range(25):\n",
    "        count = map[i]\n",
    "        if count % 2 == 0:\n",
    "            ans += count\n",
    "        else:\n",
    "            is_odd_present = True\n",
    "            ans += count - 1\n",
    "    if is_odd_present == True:\n",
    "        ans += 1\n",
    "    return ans\n",
    "\n",
    "string = \"abbc\"\n",
    "result = solve(string)\n",
    "print(result)"
   ]
  },
  {
   "cell_type": "code",
   "execution_count": null,
   "metadata": {},
   "outputs": [],
   "source": [
    "#  Check pallindrome\n",
    "\n",
    "#  Brute Force\n",
    "\n",
    "from itertools import permutations\n",
    "\n",
    "def is_valid_permutation(sub):\n",
    "    # Define your condition for a valid permutation here\n",
    "    # For example, you might want to check if the permutation is a palindrome\n",
    "    return sub == sub[::-1]\n",
    "\n",
    "def longest_valid_permutation(string):\n",
    "    max_length = 0\n",
    "    \n",
    "    # Generate all possible substrings\n",
    "    for i in range(len(string)):\n",
    "        for j in range(i+1, len(string)+1):\n",
    "            substring = string[i:j]\n",
    "            # Generate all permutations of the substring\n",
    "            perms = permutations(substring)\n",
    "            # Check each permutation\n",
    "            for perm in perms:\n",
    "                perm_str = ''.join(perm)\n",
    "                if is_valid_permutation(perm_str):\n",
    "                    max_length = max(max_length, len(perm_str))\n",
    "    \n",
    "    return max_length\n",
    "\n",
    "# Example usage:\n",
    "input_string = \"abcabc\"\n",
    "result = longest_valid_permutation(input_string)\n",
    "print(\"Longest valid permutation length:\", result)\n"
   ]
  },
  {
   "cell_type": "code",
   "execution_count": null,
   "metadata": {},
   "outputs": [],
   "source": []
  }
 ],
 "metadata": {
  "kernelspec": {
   "display_name": "Python 3 (ipykernel)",
   "language": "python",
   "name": "python3"
  },
  "language_info": {
   "codemirror_mode": {
    "name": "ipython",
    "version": 3
   },
   "file_extension": ".py",
   "mimetype": "text/x-python",
   "name": "python",
   "nbconvert_exporter": "python",
   "pygments_lexer": "ipython3",
   "version": "3.10.12"
  }
 },
 "nbformat": 4,
 "nbformat_minor": 5
}
