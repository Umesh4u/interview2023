{
 "cells": [
  {
   "cell_type": "code",
   "execution_count": null,
   "metadata": {},
   "outputs": [],
   "source": [
    "\n",
    "\n",
    "[[1,2,3,4]  1\n",
    "[5,6,7,8]   2\n",
    "[9,10,11,12]   3\n",
    "[13,14,15,16]   4\n",
    "\n",
    "]]\n",
    "\n",
    "row = 4\n",
    "col = 4\n",
    "\n",
    "arr = [[4,3,2,1]  1\n",
    "            [5,6,7,8]   2\n",
    "            [9,10,11,12]   3\n",
    "            [13,14,15,16]   4\n",
    "\n",
    "]]\n",
    "\n",
    "00  01  02  03\n",
    "\n",
    "for i in range(row):\n",
    "    \n",
    "    arr[i] = arr[i][::-1]\n",
    "            \n",
    "\n",
    "    \n"
   ]
  }
 ],
 "metadata": {
  "kernelspec": {
   "display_name": "Python 3 (ipykernel)",
   "language": "python",
   "name": "python3"
  },
  "language_info": {
   "codemirror_mode": {
    "name": "ipython",
    "version": 3
   },
   "file_extension": ".py",
   "mimetype": "text/x-python",
   "name": "python",
   "nbconvert_exporter": "python",
   "pygments_lexer": "ipython3",
   "version": "3.10.12"
  }
 },
 "nbformat": 4,
 "nbformat_minor": 5
}
