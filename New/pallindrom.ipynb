{
 "cells": [
  {
   "cell_type": "code",
   "execution_count": null,
   "metadata": {},
   "outputs": [],
   "source": [
    "Problem statement: Find smallest and largest palindrom word in given string\n",
    "input: \"you abbba abcded own wow kayak\"\n",
    "output: wow,abbba "
   ]
  },
  {
   "cell_type": "code",
   "execution_count": 1,
   "metadata": {
    "tags": []
   },
   "outputs": [
    {
     "name": "stdout",
     "output_type": "stream",
     "text": [
      "Smallest palindrom is  wow\n",
      "Largest palindrom is abbba\n"
     ]
    }
   ],
   "source": [
    "def solve(input):\n",
    "    input = input.split(\" \")\n",
    "    smallest = \"\"\n",
    "    largest = \"\"\n",
    "    smallest_len = float('inf')\n",
    "    largest_len = 0\n",
    "    for i in input:\n",
    "        if i == i[::-1]:\n",
    "            if smallest_len > len(i):\n",
    "                smallest_len = len(i)\n",
    "                smallest = i\n",
    "        if i == i[::-1]:\n",
    "            if largest_len < len(i):\n",
    "                largest_len = len(i)\n",
    "                largest = i\n",
    "    print(\"Smallest palindrom is \", smallest)\n",
    "    print(\"Largest palindrom is\", largest)\n",
    "\n",
    "input = \"you abbba abcded own wow kayak\"\n",
    "result = solve(input)"
   ]
  },
  {
   "cell_type": "code",
   "execution_count": null,
   "metadata": {},
   "outputs": [],
   "source": [
    "def solve(input):\n",
    "    \n",
    "\n",
    "\n",
    "\n",
    "input = \"you abbba abcded own wow kayak\"\n",
    "result = solve(input)"
   ]
  }
 ],
 "metadata": {
  "kernelspec": {
   "display_name": "Python 3 (ipykernel)",
   "language": "python",
   "name": "python3"
  },
  "language_info": {
   "codemirror_mode": {
    "name": "ipython",
    "version": 3
   },
   "file_extension": ".py",
   "mimetype": "text/x-python",
   "name": "python",
   "nbconvert_exporter": "python",
   "pygments_lexer": "ipython3",
   "version": "3.10.12"
  }
 },
 "nbformat": 4,
 "nbformat_minor": 5
}
