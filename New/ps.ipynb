{
 "cells": [
  {
   "cell_type": "code",
   "execution_count": 6,
   "metadata": {},
   "outputs": [
    {
     "name": "stdout",
     "output_type": "stream",
     "text": [
      "[5, 6]\n"
     ]
    }
   ],
   "source": [
    "def solve(coins,target):\n",
    "    pf = [coins[0]]\n",
    "    \n",
    "    for i in range(1,len(coins)):\n",
    "        pf.append(pf[i-1] + coins[i])\n",
    "    \n",
    "    min_len = float('inf')\n",
    "    ans = []\n",
    "    for s in range(len(coins)):\n",
    "        for e in range(s,len(coins)):\n",
    "            sum = 0\n",
    "            if s == 0:\n",
    "                sum += pf[e]\n",
    "            else:\n",
    "                sum += pf[e] - pf[s-1]\n",
    "            if sum == target:\n",
    "                val = coins[s:e+1]\n",
    "                if min_len > len(val):\n",
    "                    min_len = len(val)\n",
    "                    ans = val\n",
    "    return ans\n",
    "\n",
    "\n",
    "coins = [1,2,3,5,6,7]\n",
    "target = 11\n",
    "result = solve(coins,target)\n",
    "print(result)"
   ]
  },
  {
   "cell_type": "code",
   "execution_count": null,
   "metadata": {},
   "outputs": [],
   "source": [
    "MVCC"
   ]
  }
 ],
 "metadata": {
  "kernelspec": {
   "display_name": "Python 3 (ipykernel)",
   "language": "python",
   "name": "python3"
  },
  "language_info": {
   "codemirror_mode": {
    "name": "ipython",
    "version": 3
   },
   "file_extension": ".py",
   "mimetype": "text/x-python",
   "name": "python",
   "nbconvert_exporter": "python",
   "pygments_lexer": "ipython3",
   "version": "3.10.12"
  }
 },
 "nbformat": 4,
 "nbformat_minor": 5
}
