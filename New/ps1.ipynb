{
 "cells": [
  {
   "cell_type": "code",
   "execution_count": null,
   "metadata": {},
   "outputs": [],
   "source": [
    "Write an ORM query to get the employee name and address whose age is between 30 and 45 years."
   ]
  },
  {
   "cell_type": "code",
   "execution_count": null,
   "metadata": {},
   "outputs": [],
   "source": [
    "data = Employee.objects.filter(Q(age__gte=30) and Q(age__lte=50)).values('name','address')"
   ]
  },
  {
   "cell_type": "code",
   "execution_count": null,
   "metadata": {},
   "outputs": [],
   "source": [
    "from datetime import datetime, timedelta\n",
    "from django.db.models import Q\n",
    "from yourapp.models import Employee\n",
    "\n",
    "# Assuming 'Employee' is the name of your model and 'age' is a field in your model representing the age of the employee\n",
    "# Also assuming 'name' and 'address' are fields representing the name and address of the employee\n",
    "\n",
    "# Calculate date ranges for 30 and 45 years ago from today\n",
    "today = datetime.now().date()\n",
    "date_30_years_ago = today - timedelta(days=30*365)\n",
    "date_45_years_ago = today - timedelta(days=45*365)\n",
    "\n",
    "# Query to get employee name and address whose age is between 30 and 45 years\n",
    "employees = Employee.objects.filter(\n",
    "    Q(birth_date__lte=date_30_years_ago) & Q(birth_date__gte=date_45_years_ago)\n",
    ").values('name', 'address')\n",
    "\n",
    "# Now you can iterate over the 'employees' queryset to access the name and address of each employee\n",
    "for employee in employees:\n",
    "    print(\"Name:\", employee['name'])\n",
    "    print(\"Address:\", employee['address'])\n"
   ]
  },
  {
   "cell_type": "code",
   "execution_count": null,
   "metadata": {
    "tags": []
   },
   "outputs": [],
   "source": [
    "\n",
    "class  SuperClass1:\n",
    "   name = \"String 1\"\n",
    " \n",
    "\n",
    "class SuperClass2:\n",
    "   name = \"String 2\"\n",
    " \n",
    "\n",
    "class BaseClass(SuperClass1, SuperClass2):\n",
    "      name = \"String 3\"\n",
    " \n",
    "\n",
    "print(BaseClass.name)"
   ]
  },
  {
   "cell_type": "code",
   "execution_count": null,
   "metadata": {
    "tags": []
   },
   "outputs": [],
   "source": [
    "class  SuperClass1:\n",
    "   pass\n",
    " \n",
    "\n",
    "class SuperClass2:\n",
    "   pass\n",
    " \n",
    "\n",
    "class BaseClass(SuperClass1, SuperClass2):\n",
    "   name = \"string3\"\n",
    " \n",
    "\n",
    "print(BaseClass.name)\n"
   ]
  },
  {
   "cell_type": "code",
   "execution_count": null,
   "metadata": {},
   "outputs": [],
   "source": [
    "Problem Statement: Write Python code to find the longest common prefix in a given list of strings.\n",
    "\n",
    "Sample Input:\n",
    " \n",
    "['car', 'carbon', 'carbonmonoxide']\n",
    " \n",
    "Sample Output:\n",
    " \n",
    "'car'\n",
    " \n",
    "Sample Input:\n",
    " \n",
    "['car', 'carbon', 'vehicle']\n",
    " \n",
    "Sample Output:"
   ]
  },
  {
   "cell_type": "code",
   "execution_count": 63,
   "metadata": {
    "tags": []
   },
   "outputs": [
    {
     "name": "stdout",
     "output_type": "stream",
     "text": [
      "abc\n"
     ]
    }
   ],
   "source": [
    "def solve(res):\n",
    "    output = ''\n",
    "    final_output = ''\n",
    "    smallest_word = \"\"\n",
    "    smallest_len = float('inf')\n",
    "    for i in res:\n",
    "        if len(i) < smallest_len:\n",
    "            smallest_len = len(i)\n",
    "            smallest_word = i\n",
    "    index = 0\n",
    "    flag = 1\n",
    "    for k in smallest_word:\n",
    "        for word in res:\n",
    "            if k in word[index]:\n",
    "                flag = 1\n",
    "            else:\n",
    "                flag = 0\n",
    "                break\n",
    "        if flag == 1:\n",
    "            output = output+k\n",
    "        else:\n",
    "            output = output.replace(k,' ')\n",
    "            return output\n",
    "        index += 1\n",
    "    return output\n",
    "\n",
    "res1 = ['car', 'carbon', 'vehicle']\n",
    "res =  ['carbon', 'carbonmonoxide']\n",
    "res2 = [\"abcd\", \"abcc\", \"abcde\"]\n",
    "result = solve(res2)\n",
    "print(result)"
   ]
  },
  {
   "cell_type": "code",
   "execution_count": null,
   "metadata": {},
   "outputs": [],
   "source": [
    "\n",
    "\n",
    "\n",
    "\n",
    "\n",
    "\n",
    "\n",
    "\n",
    "\n",
    "\n",
    "\n",
    "\n",
    "\n",
    "\n",
    "\n",
    "\n",
    "+"
   ]
  }
 ],
 "metadata": {
  "kernelspec": {
   "display_name": "Python 3 (ipykernel)",
   "language": "python",
   "name": "python3"
  },
  "language_info": {
   "codemirror_mode": {
    "name": "ipython",
    "version": 3
   },
   "file_extension": ".py",
   "mimetype": "text/x-python",
   "name": "python",
   "nbconvert_exporter": "python",
   "pygments_lexer": "ipython3",
   "version": "3.10.12"
  }
 },
 "nbformat": 4,
 "nbformat_minor": 5
}
