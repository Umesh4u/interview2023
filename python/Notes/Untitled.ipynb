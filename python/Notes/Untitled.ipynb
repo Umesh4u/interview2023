{
 "cells": [
  {
   "cell_type": "code",
   "execution_count": null,
   "metadata": {},
   "outputs": [],
   "source": [
    "Internal working of Set\n",
    "This is based on a data structure known as a hash table.  If Multiple values are present at the same \n",
    "index position, then the value is appended to that index position, to form a Linked List.\n",
    "\n",
    "In, Python Sets are implemented using a dictionary with dummy variables, where key beings the members\n",
    "set with greater optimizations to the time complexity."
   ]
  },
  {
   "cell_type": "code",
   "execution_count": null,
   "metadata": {},
   "outputs": [],
   "source": []
  },
  {
   "cell_type": "code",
   "execution_count": null,
   "metadata": {},
   "outputs": [],
   "source": [
    "#Can we call garbage collection in mid of a event ?\n",
    "Yes, you can manually trigger garbage collection in Python at any point, including in the middle of an\n",
    "event. Python provides the gc module, which allows you to interact with the garbage collector. \n",
    "By calling gc.collect(), you can manually invoke the garbage collection process.\n",
    "\n",
    "How to Call Garbage Collection\n",
    "To call the garbage collector in the middle of an event or at any specific point in your code, \n",
    "follow these steps:\n",
    "1.Import the gc module: First, ensure you import the gc module at the beginning of your script.\n",
    "2. Call gc.collect(): Use gc.collect() wherever you need to trigger garbage collection.\n"
   ]
  },
  {
   "cell_type": "code",
   "execution_count": 3,
   "metadata": {},
   "outputs": [
    {
     "name": "stdout",
     "output_type": "stream",
     "text": [
      "Event started.\n",
      "Objects allocated.\n",
      "Triggering garbage collection.\n",
      "Event continued. [0, 1, 2, 3, 4, 5, 6, 7, 8, 9, 10, 11, 12, 13, 14, 15, 16, 17, 18, 19, 20, 21, 22, 23, 24, 25, 26, 27, 28, 29, 30, 31, 32, 33, 34, 35, 36, 37, 38, 39, 40, 41, 42, 43, 44, 45, 46, 47, 48, 49, 50, 51, 52, 53, 54, 55, 56, 57, 58, 59, 60, 61, 62, 63, 64, 65, 66, 67, 68, 69, 70, 71, 72, 73, 74, 75, 76, 77, 78, 79, 80, 81, 82, 83, 84, 85, 86, 87, 88, 89, 90, 91, 92, 93, 94, 95, 96, 97, 98, 99]\n",
      "Event finished.\n"
     ]
    }
   ],
   "source": [
    "import gc\n",
    "\n",
    "def perform_event():\n",
    "    print(\"Event started.\")\n",
    "    \n",
    "    # Allocate some objects\n",
    "    large_list = [i for i in range(100)]\n",
    "    print(\"Objects allocated.\")\n",
    "    \n",
    "    # Manually trigger garbage collection\n",
    "    print(\"Triggering garbage collection.\")\n",
    "    gc.collect()\n",
    "    \n",
    "    print(\"Event continued.\",large_list)\n",
    "    \n",
    "    # More event processing\n",
    "    large_list = None  # Dereference the list to free memory\n",
    "    print(\"Event finished.\")\n",
    "\n",
    "# Simulate an event\n",
    "perform_event()\n"
   ]
  },
  {
   "cell_type": "code",
   "execution_count": null,
   "metadata": {},
   "outputs": [],
   "source": [
    "\n",
    "Yes, you can manually trigger garbage collection in Python at any point, including in the middle of an event. Python provides the gc module, which allows you to interact with the garbage collector. By calling gc.collect(), you can manually invoke the garbage collection process.\n",
    "\n",
    "How to Call Garbage Collection\n",
    "To call the garbage collector in the middle of an event or at any specific point in your code, follow these steps:\n",
    "\n",
    "Import the gc module: First, ensure you import the gc module at the beginning of your script.\n",
    "Call gc.collect(): Use gc.collect() wherever you need to trigger garbage collection.\n",
    "\n",
    "Explanation\n",
    "Object Allocation: A large list is created to simulate memory usage.\n",
    "Manual Garbage Collection: gc.collect() is called to manually trigger garbage collection.\n",
    "Dereferencing: The large list is dereferenced by setting it to None, which allows it to be collected\n",
    "               in future garbage collection cycles.\n",
    "When to Manually Trigger Garbage Collection\n",
    "While Python's garbage collector is usually efficient and handles memory management automatically,\n",
    "there are scenarios where manually triggering garbage collection might be beneficial:\n",
    "\n",
    "Large Temporary Objects: When you create large temporary objects that consume significant memory and \n",
    "    want to free that memory as soon as possible.\n",
    "    \n",
    "Memory Leaks: When you suspect memory leaks and want to ensure that unreachable objects are collected.\n",
    "    \n",
    "Performance Tuning: In performance-critical applications where you want to control the timing of \n",
    "    garbage collection to avoid pauses during critical sections.\n",
    "    \n",
    "Best Practices\n",
    "Although you can manually trigger garbage collection, it is generally best to let Python's garbage\n",
    "collector manage memory automatically. Manual intervention should be reserved for specific cases\n",
    "where you have identified a need for it. Overusing gc.collect() can lead to performance overhead and\n",
    "should be done with care.\n",
    "\n"
   ]
  }
 ],
 "metadata": {
  "kernelspec": {
   "display_name": "Python 3 (ipykernel)",
   "language": "python",
   "name": "python3"
  },
  "language_info": {
   "codemirror_mode": {
    "name": "ipython",
    "version": 3
   },
   "file_extension": ".py",
   "mimetype": "text/x-python",
   "name": "python",
   "nbconvert_exporter": "python",
   "pygments_lexer": "ipython3",
   "version": "3.10.12"
  }
 },
 "nbformat": 4,
 "nbformat_minor": 2
}
