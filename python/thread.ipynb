{
 "cells": [
  {
   "cell_type": "code",
   "execution_count": 1,
   "id": "d8e31fa1-6160-486c-923b-1be8f4ba4e87",
   "metadata": {},
   "outputs": [],
   "source": [
    "import threading"
   ]
  },
  {
   "cell_type": "code",
   "execution_count": 2,
   "id": "b46a14a5-4a00-4092-9a3d-e1d1bf20637a",
   "metadata": {},
   "outputs": [],
   "source": [
    "def hello_world():\n",
    "    print(\"Hello world\")"
   ]
  },
  {
   "cell_type": "code",
   "execution_count": 3,
   "id": "6f1c9def-5e68-4fad-890d-6d6c49180d0b",
   "metadata": {},
   "outputs": [
    {
     "name": "stdout",
     "output_type": "stream",
     "text": [
      "Hello world\n"
     ]
    }
   ],
   "source": [
    "hello_world()"
   ]
  },
  {
   "cell_type": "code",
   "execution_count": 5,
   "id": "7369a0e1-dc0c-49e2-93e7-08d0bde76545",
   "metadata": {},
   "outputs": [],
   "source": [
    "thread_1 = threading.Thread(target=hello_world)"
   ]
  },
  {
   "cell_type": "code",
   "execution_count": 6,
   "id": "fd1d37c0-10d6-45c3-9195-fd3dbe7ef175",
   "metadata": {},
   "outputs": [
    {
     "data": {
      "text/plain": [
       "8"
      ]
     },
     "execution_count": 6,
     "metadata": {},
     "output_type": "execute_result"
    }
   ],
   "source": [
    "threading.active_count()"
   ]
  },
  {
   "cell_type": "code",
   "execution_count": 7,
   "id": "2870781a-5b13-41cb-a474-1eb9505c1099",
   "metadata": {},
   "outputs": [
    {
     "name": "stdout",
     "output_type": "stream",
     "text": [
      "Hello world\n"
     ]
    }
   ],
   "source": [
    "thread_1.start()"
   ]
  },
  {
   "cell_type": "code",
   "execution_count": null,
   "id": "2a436873-6514-4f60-accd-6ed97caefaaa",
   "metadata": {},
   "outputs": [],
   "source": [
    "#   Global interpreter  lock : Due to the global interpreter lock,\n",
    "#    only one thread can execute python code\n",
    "#    at once."
   ]
  }
 ],
 "metadata": {
  "kernelspec": {
   "display_name": "Python 3 (ipykernel)",
   "language": "python",
   "name": "python3"
  },
  "language_info": {
   "codemirror_mode": {
    "name": "ipython",
    "version": 3
   },
   "file_extension": ".py",
   "mimetype": "text/x-python",
   "name": "python",
   "nbconvert_exporter": "python",
   "pygments_lexer": "ipython3",
   "version": "3.9.13"
  }
 },
 "nbformat": 4,
 "nbformat_minor": 5
}
