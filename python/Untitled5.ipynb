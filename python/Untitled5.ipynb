{
 "cells": [
  {
   "cell_type": "code",
   "execution_count": null,
   "metadata": {},
   "outputs": [],
   "source": [
    "n=input()\n",
    "li=n.split(\" \")\n",
    "li.pop(0)\n",
    "print(li, len(li))\n",
    "for i in range(len(li),0,-1):\n",
    "    if i==n:\n",
    "        pass\n",
    "    else:\n",
    "        print(li[i-1],end=\" \")\n",
    "\n",
    "# li[::-1]\n",
    "# print(\" \".join(li[::-1]))"
   ]
  },
  {
   "cell_type": "code",
   "execution_count": 14,
   "metadata": {},
   "outputs": [
    {
     "name": "stdin",
     "output_type": "stream",
     "text": [
      " 6\n",
      " 1 2 3 4 5 6\n",
      " 3\n"
     ]
    },
    {
     "name": "stdout",
     "output_type": "stream",
     "text": [
      "3\n",
      "1 2 4 5 6 "
     ]
    }
   ],
   "source": [
    "def main():\n",
    "    n=int(input())\n",
    "    a = input()\n",
    "    x = int(input())\n",
    "    li = a.split(\" \")\n",
    "    print(li[x-1])\n",
    "    li.pop(x-1)\n",
    "    for i in li:\n",
    "        print(i, end=\" \")\n",
    "main()\n"
   ]
  },
  {
   "cell_type": "code",
   "execution_count": 36,
   "metadata": {},
   "outputs": [
    {
     "name": "stdin",
     "output_type": "stream",
     "text": [
      " 100 200 -3 -4\n"
     ]
    },
    {
     "name": "stdout",
     "output_type": "stream",
     "text": [
      "-3 -4 "
     ]
    }
   ],
   "source": [
    "n=input()\n",
    "li =n.split(\" \")\n",
    "# neg_lst =[]\n",
    "for item in li:\n",
    "    if item.isdigit():\n",
    "        pass\n",
    "    else:\n",
    "        value=int(item)\n",
    "#         print(\"6666666666\",value,type)\n",
    "        if value<0:\n",
    "#             print(\"=============================\")\n",
    "            print(item,  end=\" \")"
   ]
  },
  {
   "cell_type": "code",
   "execution_count": 23,
   "metadata": {},
   "outputs": [
    {
     "name": "stdin",
     "output_type": "stream",
     "text": [
      " 5\n",
      " 4 5 \n"
     ]
    },
    {
     "name": "stdout",
     "output_type": "stream",
     "text": [
      "\n"
     ]
    }
   ],
   "source": [
    "def print_negative_numbers():\n",
    "    # Take input for the size of the array\n",
    "    N = int(input())\n",
    "\n",
    "    # Take input for the array elements\n",
    "    A = list(map(int, input().split()))\n",
    "\n",
    "    # Find and print all negative numbers in the array\n",
    "    negative_numbers = [num for num in A if num < 0]\n",
    "    print(\" \".join(map(str, negative_numbers)))\n",
    "\n",
    "# Call the function to execute the program\n",
    "print_negative_numbers()\n"
   ]
  },
  {
   "cell_type": "code",
   "execution_count": 45,
   "metadata": {},
   "outputs": [
    {
     "name": "stdout",
     "output_type": "stream",
     "text": [
      "1\n",
      "2\n",
      "7\n",
      "8\n",
      "4\n",
      "True\n",
      "Found\n"
     ]
    }
   ],
   "source": [
    "value =4\n",
    "l=[1,2,7,8,4,5,6]\n",
    "flag=False\n",
    "for i in range(len(l)):\n",
    "    print(l[i])\n",
    "    if l[i]==4:\n",
    "        flag=True\n",
    "        break;\n",
    "    else:\n",
    "        flag=False\n",
    "print(flag)\n",
    "if flag:\n",
    "    print(\"Found\")\n",
    "else:\n",
    "    print(\"Not Found\")\n",
    "\n",
    "        "
   ]
  },
  {
   "cell_type": "code",
   "execution_count": 46,
   "metadata": {},
   "outputs": [
    {
     "name": "stdout",
     "output_type": "stream",
     "text": [
      "not found\n"
     ]
    }
   ],
   "source": [
    "for i in range(len(i))\n",
    "if li[i] in li:\n",
    "    print(\"found\",i)\n",
    "else:\n",
    "    print(\"not found\")\n",
    "    "
   ]
  },
  {
   "cell_type": "code",
   "execution_count": 51,
   "metadata": {},
   "outputs": [
    {
     "name": "stdout",
     "output_type": "stream",
     "text": [
      "[8, 6, 5, 4, 1]\n",
      "8\n"
     ]
    }
   ],
   "source": [
    "li=[1,6,8,4,5]\n",
    "for i in range(len(li)):\n",
    "    for j in range(len(li)):\n",
    "        if li[i]>li[j]:\n",
    "            li[i],li[j]=li[j],li[i]\n",
    "print(li[0])"
   ]
  },
  {
   "cell_type": "code",
   "execution_count": 52,
   "metadata": {},
   "outputs": [
    {
     "name": "stdout",
     "output_type": "stream",
     "text": [
      "1\n"
     ]
    }
   ],
   "source": [
    "li=[1,6,8,4,5]\n",
    "if len(li)>0:\n",
    "    min_value=li[0]\n",
    "    for item in li:\n",
    "        if min_value>item:\n",
    "            min_value=item\n",
    "    print(min_value)"
   ]
  },
  {
   "cell_type": "code",
   "execution_count": 53,
   "metadata": {},
   "outputs": [
    {
     "name": "stdout",
     "output_type": "stream",
     "text": [
      "24\n"
     ]
    }
   ],
   "source": [
    "li=[1,6,8,4,5]\n",
    "items_sum=0\n",
    "for item in li:\n",
    "    items_sum+=item\n",
    "print(items_sum)    "
   ]
  },
  {
   "cell_type": "code",
   "execution_count": 54,
   "metadata": {},
   "outputs": [
    {
     "ename": "SyntaxError",
     "evalue": "expected ':' (1880773154.py, line 3)",
     "output_type": "error",
     "traceback": [
      "\u001b[0;36m  Cell \u001b[0;32mIn[54], line 3\u001b[0;36m\u001b[0m\n\u001b[0;31m    if element\u001b[0m\n\u001b[0m                ^\u001b[0m\n\u001b[0;31mSyntaxError\u001b[0m\u001b[0;31m:\u001b[0m expected ':'\n"
     ]
    }
   ],
   "source": [
    "element = 5\n",
    "li=[1,6,8,4,5]\n",
    "if element  "
   ]
  },
  {
   "cell_type": "code",
   "execution_count": 55,
   "metadata": {},
   "outputs": [
    {
     "data": {
      "text/plain": [
       "[3, 4, 5]"
      ]
     },
     "execution_count": 55,
     "metadata": {},
     "output_type": "execute_result"
    }
   ],
   "source": [
    "def sub_list(li,start,end):\n",
    "    new_list=[]\n",
    "    for i in range(start,end):\n",
    "        new_list.append(li[i])\n",
    "    return new_list\n",
    "sub_list([1,2,3,4,5,6],2,5)      "
   ]
  },
  {
   "cell_type": "code",
   "execution_count": 60,
   "metadata": {},
   "outputs": [],
   "source": [
    "languages=['C' , 'C++' ,'R', 'Python' , 'Java', 'Scala']\n",
    "# languages.pop(4)"
   ]
  },
  {
   "cell_type": "code",
   "execution_count": 62,
   "metadata": {},
   "outputs": [],
   "source": [
    "del languages[-2]\n"
   ]
  },
  {
   "cell_type": "code",
   "execution_count": 63,
   "metadata": {},
   "outputs": [
    {
     "data": {
      "text/plain": [
       "['C', 'C++', 'R', 'Python', 'Scala']"
      ]
     },
     "execution_count": 63,
     "metadata": {},
     "output_type": "execute_result"
    }
   ],
   "source": [
    "languages"
   ]
  },
  {
   "cell_type": "code",
   "execution_count": null,
   "metadata": {},
   "outputs": [],
   "source": []
  }
 ],
 "metadata": {
  "kernelspec": {
   "display_name": "Python 3 (ipykernel)",
   "language": "python",
   "name": "python3"
  },
  "language_info": {
   "codemirror_mode": {
    "name": "ipython",
    "version": 3
   },
   "file_extension": ".py",
   "mimetype": "text/x-python",
   "name": "python",
   "nbconvert_exporter": "python",
   "pygments_lexer": "ipython3",
   "version": "3.10.12"
  }
 },
 "nbformat": 4,
 "nbformat_minor": 2
}
