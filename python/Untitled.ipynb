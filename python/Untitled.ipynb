{
 "cells": [
  {
   "cell_type": "code",
   "execution_count": 1,
   "metadata": {},
   "outputs": [
    {
     "name": "stdout",
     "output_type": "stream",
     "text": [
      "{'groupName': 'a', 'conditions': [{'variable': 'a1'}, {'variable': 'a2'}, {'groupName': 'b', 'conditions': [{'variable': 'b1'}]}, {'groupName': 'c', 'conditions': [{'variable': 'c1'}, {'variable': 'c2'}]}, {'groupName': 'd', 'conditions': [{'variable': 'd1'}, {'variable': 'd2'}, {'groupName': 'e', 'conditions': [{'variable': 'e1'}, {'variable': 'e2'}]}]}]}\n",
      "{'variable': 'a1'}\n",
      "{'variable': 'a2'}\n",
      "{'groupName': 'b', 'conditions': [{'variable': 'b1'}]}\n",
      "{'variable': 'b1'}\n",
      "{'groupName': 'c', 'conditions': [{'variable': 'c1'}, {'variable': 'c2'}]}\n",
      "{'variable': 'c1'}\n",
      "{'variable': 'c2'}\n",
      "{'groupName': 'd', 'conditions': [{'variable': 'd1'}, {'variable': 'd2'}, {'groupName': 'e', 'conditions': [{'variable': 'e1'}, {'variable': 'e2'}]}]}\n",
      "{'variable': 'd1'}\n",
      "{'variable': 'd2'}\n",
      "{'groupName': 'e', 'conditions': [{'variable': 'e1'}, {'variable': 'e2'}]}\n",
      "{'variable': 'e1'}\n",
      "{'variable': 'e2'}\n"
     ]
    }
   ],
   "source": [
    "def extract_objects(data):\n",
    "    objects = []\n",
    "\n",
    "    def recurse(node):\n",
    "        if isinstance(node, dict):\n",
    "            objects.append(node)\n",
    "            for key, value in node.items():\n",
    "                recurse(value)\n",
    "        elif isinstance(node, list):\n",
    "            for item in node:\n",
    "                recurse(item)\n",
    "\n",
    "    recurse(data)\n",
    "    return objects\n",
    "\n",
    "# Usage:\n",
    "iter_rest = {'groupName': 'a', 'conditions': [{'variable': 'a1'}, {'variable': 'a2'}, {'groupName': 'b', 'conditions': [{'variable': 'b1'}]}, {'groupName': 'c', 'conditions': [{'variable': 'c1'}, {'variable': 'c2'}]}, {'groupName': 'd', 'conditions': [{'variable': 'd1'}, {'variable': 'd2'}, {'groupName': 'e', 'conditions': [{'variable': 'e1'}, {'variable': 'e2'}]}]}]}\n",
    "objects = extract_objects(iter_rest)\n",
    "\n",
    "# Print the extracted objects\n",
    "for obj in objects:\n",
    "    print(obj)"
   ]
  },
  {
   "cell_type": "code",
   "execution_count": null,
   "metadata": {},
   "outputs": [],
   "source": [
    "Iterable - which is group of element are together its called a iterable"
   ]
  },
  {
   "cell_type": "code",
   "execution_count": 4,
   "metadata": {},
   "outputs": [
    {
     "name": "stdout",
     "output_type": "stream",
     "text": [
      "False\n"
     ]
    }
   ],
   "source": [
    "l=[12,2,12,3]\n",
    "n=4\n",
    "ans = False\n",
    "\n",
    "for i in range(n-1):\n",
    "    if l[i] ==l[i+1]:\n",
    "        ans=True\n",
    "print(ans)"
   ]
  },
  {
   "cell_type": "code",
   "execution_count": 5,
   "metadata": {},
   "outputs": [
    {
     "name": "stdout",
     "output_type": "stream",
     "text": [
      "1 2 1 3 2 2 2 3 "
     ]
    }
   ],
   "source": [
    "x = [1, 2]\n",
    "y = [2, 3]\n",
    "\n",
    "for i in x:\n",
    "    for j in y:\n",
    "        print(i, j, end= \" \")"
   ]
  },
  {
   "cell_type": "code",
   "execution_count": null,
   "metadata": {},
   "outputs": [],
   "source": [
    "n=input()\n",
    "print(\" \")\n",
    "li=n.split(\" \")\n",
    "li.pop(0)\n",
    "\n",
    "\n",
    "li[::-1]\n",
    "print(\" \".join(li))"
   ]
  },
  {
   "cell_type": "code",
   "execution_count": null,
   "metadata": {},
   "outputs": [],
   "source": []
  },
  {
   "cell_type": "code",
   "execution_count": null,
   "metadata": {},
   "outputs": [],
   "source": []
  },
  {
   "cell_type": "code",
   "execution_count": null,
   "metadata": {},
   "outputs": [],
   "source": []
  }
 ],
 "metadata": {
  "kernelspec": {
   "display_name": "Python 3 (ipykernel)",
   "language": "python",
   "name": "python3"
  },
  "language_info": {
   "codemirror_mode": {
    "name": "ipython",
    "version": 3
   },
   "file_extension": ".py",
   "mimetype": "text/x-python",
   "name": "python",
   "nbconvert_exporter": "python",
   "pygments_lexer": "ipython3",
   "version": "3.10.12"
  }
 },
 "nbformat": 4,
 "nbformat_minor": 5
}
