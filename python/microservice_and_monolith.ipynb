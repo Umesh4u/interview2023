{
 "cells": [
  {
   "cell_type": "code",
   "execution_count": null,
   "metadata": {},
   "outputs": [],
   "source": [
    "Microservices and monoliths are two different architectural approaches for designing and developing \n",
    "software applications. They have distinct characteristics and trade-offs.\n",
    "\n",
    "Monolith:\n",
    "Single, Unified Codebase: In a monolithic architecture, the entire application is built as a single, \n",
    "unified codebase. All components and modules are tightly coupled and interconnected.\n",
    "\n",
    "Simplicity: Monoliths are often simpler to develop and deploy, making them a good choice for small to \n",
    "medium-sized applications.\n",
    "\n",
    "Scaling: Scaling a monolith can be challenging because you need to replicate the entire application, \n",
    "even if only a part of it experiences increased load.\n",
    "\n",
    "Maintenance: Maintenance can become complex as the application grows, and changes in one part of the\n",
    "code can potentially affect other parts.\n",
    "\n",
    "Deployment: Monolithic applications are typically deployed as a single unit, which can make frequent \n",
    "updates more challenging.\n",
    "\n",
    "\n",
    "Microservices:\n",
    "Decomposed into Services: In a microservices architecture, the application is decomposed into small,\n",
    "independent services, each responsible for a specific business capability. These services communicate\n",
    "through well-defined APIs.\n",
    "Scalability: Microservices allow for granular scaling, meaning you can scale individual services \n",
    "independently based on their load, which is more efficient for large and complex applications.\n",
    "\n",
    "Flexibility: Microservices provide flexibility in choosing different technologies for different \n",
    "services. You can use the best tool for each specific task.\n",
    "\n",
    "Isolation: Services are isolated from each other, which can reduce the impact of failures and allow \n",
    "for easier maintenance and updates.\n",
    "\n",
    "Complexity: Microservices introduce complexity in terms of managing multiple services, handling \n",
    "inter-service communication, and ensuring data consistency.\n",
    "\n",
    "When choosing between a monolithic and microservices architecture, consider factors such as the size \n",
    "and complexity of your application, scalability requirements, development team size, and the need \n",
    "for rapid updates. Monoliths can be a good choice for simpler applications, while microservices are \n",
    "often preferred for larger, more complex systems that require scalability, flexibility, and \n",
    "independence between components."
   ]
  },
  {
   "cell_type": "code",
   "execution_count": 24,
   "metadata": {},
   "outputs": [
    {
     "data": {
      "text/plain": [
       "120"
      ]
     },
     "execution_count": 24,
     "metadata": {},
     "output_type": "execute_result"
    }
   ],
   "source": [
    "#Question 2: Write a Python program to calculate the factorial of a non-negative integer entered by the user. Please provide both the program and an example of how to use it.\n",
    "def calculateFact(num):\n",
    "    fact =1\n",
    "    while num>1:\n",
    "        fact*=num\n",
    "        num=num-1\n",
    "    return fact\n",
    "num = 5\n",
    "data = calculateFact(num)\n",
    "data"
   ]
  },
  {
   "cell_type": "code",
   "execution_count": 25,
   "metadata": {},
   "outputs": [
    {
     "name": "stdout",
     "output_type": "stream",
     "text": [
      "[2, 4, 6, 8, 12]\n"
     ]
    }
   ],
   "source": [
    "#Question 1: Write a Python function that takes a list of numbers as input and returns a new list containing only the even numbers from the original list. Please provide both the function and an example of how to use it.\n",
    "def evenList(lst):\n",
    "    li = []  # Initialize an empty list to store even numbers\n",
    "    for i in lst:\n",
    "        if i % 2 == 0:  # Check if the number is even\n",
    "            li.append(i)  # Append even numbers to the new list\n",
    "    return li\n",
    "\n",
    "# Test the function\n",
    "lst = [1, 2, 3, 4, 5, 6, 7, 8, 9, 12]\n",
    "data = evenList(lst)\n",
    "print(data)  # Output: [2, 4, 6, 8, 12]\n"
   ]
  },
  {
   "cell_type": "code",
   "execution_count": 51,
   "metadata": {},
   "outputs": [
    {
     "name": "stdout",
     "output_type": "stream",
     "text": [
      "[0, 1, 1, 2, 3]\n"
     ]
    }
   ],
   "source": [
    "#Question 3: Write a Python program to find and print the Fibonacci sequence up to a specified number of terms (entered by the user). Please provide both the program and an example of how to use it.\n",
    "def fibonacci(num):\n",
    "    fib = [0, 1]  # Initialize with the first two Fibonacci numbers\n",
    "    while len(fib) < num:\n",
    "        next_number = fib[-1] + fib[-2]\n",
    "        fib.append(next_number)\n",
    "    return fib\n",
    "\n",
    "num = 5\n",
    "data = fibonacci(num)\n",
    "print(data)  # Output: [0, 1, 1, 2, 3, 5]\n",
    "\n",
    "        "
   ]
  },
  {
   "cell_type": "code",
   "execution_count": 52,
   "metadata": {},
   "outputs": [
    {
     "name": "stdout",
     "output_type": "stream",
     "text": [
      "4\n"
     ]
    }
   ],
   "source": [
    "#Question 4: Write a Python program to count the number of vowels in a given string (case-insensitive). Please provide both the program and an example of how to use it\n",
    "def countVowels(string):\n",
    "    count =0\n",
    "    vowels = [\"a\", \"e\", \"i\", \"o\", \"u\"]  # List of vowels\n",
    "    for char in string:\n",
    "        if char.lower() in vowels:  # Convert the character to lowercase for case-insensitive matching\n",
    "            count += 1\n",
    "    return count\n",
    "\n",
    "string = \"generator\"\n",
    "data = countVowels(string)\n",
    "print(data)"
   ]
  },
  {
   "cell_type": "code",
   "execution_count": 53,
   "metadata": {},
   "outputs": [
    {
     "name": "stdout",
     "output_type": "stream",
     "text": [
      "[2, 4, 5]\n"
     ]
    }
   ],
   "source": [
    "#Question 5: Write a Python program that finds the common elements between two lists and returns them in a new list. Please provide both the program and an example of how to use it.\n",
    "def findCommonElement(lst1,lst2):\n",
    "    commonList =[]\n",
    "    for i in lst1:\n",
    "        if i in lst2:\n",
    "            commonList.append(i)\n",
    "    return commonList\n",
    "\n",
    "lst1=[1,2,3,4,5,6]\n",
    "lst2 =[5,4,5,9,9,2]\n",
    "data = findCommonElement(lst1,lst2)\n",
    "print(data)\n",
    "            "
   ]
  },
  {
   "cell_type": "code",
   "execution_count": 57,
   "metadata": {},
   "outputs": [
    {
     "name": "stdout",
     "output_type": "stream",
     "text": [
      "Division error: division by zero\n",
      "This block always executes\n"
     ]
    }
   ],
   "source": [
    "try:\n",
    "    a = 5/0\n",
    "    print(a)\n",
    "except ZeroDivisionError as e:\n",
    "    print(\"Division error:\", e)\n",
    "finally:\n",
    "    print(\"This block always executes\")"
   ]
  },
  {
   "cell_type": "code",
   "execution_count": 1,
   "metadata": {},
   "outputs": [
    {
     "name": "stdout",
     "output_type": "stream",
     "text": [
      "[1, 4, 6, 8, 11]\n"
     ]
    }
   ],
   "source": [
    "#Question 6: Write a Python program to reverse a given string without using any built-in string reversal functions or slicing. Please provide both the program and an example of how to use it.\n",
    "def list_sorting(li):\n",
    "    for i in range(len(li)):\n",
    "        for j in range(len(li)):\n",
    "            if li[j] > li[i]:\n",
    "                li[i], li[j] = li[j], li[i]  # Swap the elements if they are in the wrong order\n",
    "    return li\n",
    "\n",
    "li = [4, 6, 1, 8, 11]\n",
    "sort = list_sorting(li)\n",
    "print(sort)  # Output: [1, 4, 6, 8, 11]\n"
   ]
  },
  {
   "cell_type": "code",
   "execution_count": 7,
   "metadata": {},
   "outputs": [
    {
     "name": "stdout",
     "output_type": "stream",
     "text": [
      "9\n"
     ]
    }
   ],
   "source": [
    "#Write a Python program that finds the largest element in a list without using any built-in functions like max().\n",
    "def maxElement(lst):\n",
    "    sort = sorted(lst)\n",
    "    return sort[-1]\n",
    "\n",
    "lst = [6,1,5,4,2,9,3,8]\n",
    "result = maxElement(lst)\n",
    "print(result)"
   ]
  },
  {
   "cell_type": "code",
   "execution_count": 32,
   "metadata": {},
   "outputs": [
    {
     "name": "stdout",
     "output_type": "stream",
     "text": [
      "string is palindrome\n"
     ]
    }
   ],
   "source": [
    "#Question 8: Write a Python program that checks if a given string is a palindrome (a string that reads the same forwards and backwards) without using any built-in string reversal functions or slicing.\n",
    "def check_palindrome(string):\n",
    "    newStr =\"\"\n",
    "    for i in range(len(string)-1,-1,-1):\n",
    "        newStr+=string[i]\n",
    "    return string==newStr\n",
    "        \n",
    "string = \"racecar\"\n",
    "result = check_palindrome(string)\n",
    "if result:\n",
    "    print(\"string is palindrome\")\n",
    "else:\n",
    "    print(\"string is not palindrome\")"
   ]
  },
  {
   "cell_type": "code",
   "execution_count": 33,
   "metadata": {},
   "outputs": [
    {
     "name": "stdin",
     "output_type": "stream",
     "text": [
      "Enter a positive integer:  12\n"
     ]
    },
    {
     "name": "stdout",
     "output_type": "stream",
     "text": [
      "The factors of 12 are: [1, 2, 3, 4, 6, 12]\n"
     ]
    }
   ],
   "source": [
    "#Question 9: Write a Python program to find and print the factors of a positive integer entered by the user.\n",
    "def find_factors(number):\n",
    "    factors = []  # Initialize an empty list to store factors\n",
    "    for i in range(1, number + 1):\n",
    "        if number % i == 0:\n",
    "            factors.append(i)  # Append i to the list if it's a factor of the number\n",
    "    return factors\n",
    "\n",
    "# Get the input from the user\n",
    "try:\n",
    "    num = int(input(\"Enter a positive integer: \"))\n",
    "    if num <= 0:\n",
    "        print(\"Please enter a positive integer.\")\n",
    "    else:\n",
    "        result = find_factors(num)\n",
    "        print(f\"The factors of {num} are: {result}\")\n",
    "except ValueError:\n",
    "    print(\"Invalid input. Please enter a positive integer.\")\n"
   ]
  },
  {
   "cell_type": "code",
   "execution_count": 16,
   "metadata": {},
   "outputs": [
    {
     "data": {
      "text/plain": [
       "-1"
      ]
     },
     "execution_count": 16,
     "metadata": {},
     "output_type": "execute_result"
    }
   ],
   "source": []
  },
  {
   "cell_type": "code",
   "execution_count": null,
   "metadata": {},
   "outputs": [],
   "source": []
  }
 ],
 "metadata": {
  "kernelspec": {
   "display_name": "Python 3 (ipykernel)",
   "language": "python",
   "name": "python3"
  },
  "language_info": {
   "codemirror_mode": {
    "name": "ipython",
    "version": 3
   },
   "file_extension": ".py",
   "mimetype": "text/x-python",
   "name": "python",
   "nbconvert_exporter": "python",
   "pygments_lexer": "ipython3",
   "version": "3.9.13"
  }
 },
 "nbformat": 4,
 "nbformat_minor": 4
}
