{
 "cells": [
  {
   "cell_type": "code",
   "execution_count": 52,
   "metadata": {},
   "outputs": [
    {
     "name": "stdout",
     "output_type": "stream",
     "text": [
      "Palindrome\n"
     ]
    }
   ],
   "source": [
    "def check_palindrome(string):\n",
    "    stack=[]\n",
    "    flag=False\n",
    "    for item in string:\n",
    "        stack.append(item)\n",
    "    for i in string:\n",
    "        if i == stack.pop():\n",
    "            flag=True\n",
    "        else:\n",
    "            print(\"sddddddddd\",i,stack)\n",
    "            flag=False\n",
    "            break;\n",
    "    return flag\n",
    "            \n",
    "\n",
    "string=\"110011\"\n",
    "result= check_palindrome(string)\n",
    "if result:\n",
    "    print(\"Palindrome\")\n",
    "else:\n",
    "    print(\"not a palindrome\")"
   ]
  },
  {
   "cell_type": "code",
   "execution_count": 54,
   "metadata": {},
   "outputs": [
    {
     "name": "stdout",
     "output_type": "stream",
     "text": [
      "Not Balance\n"
     ]
    }
   ],
   "source": [
    "def check_balance_bracket(lst):\n",
    "    stack =[]\n",
    "    matches = {\"[\":\"]\",\"{\":\"}\",\"(\":\")\"}\n",
    "    for i in lst:\n",
    "        stack.append(i)\n",
    "    for i in stack:\n",
    "        if matches[i]==stack.pop():\n",
    "            continue\n",
    "        else:\n",
    "            return False\n",
    "    return True\n",
    "\n",
    "        \n",
    "lst =[\"{\",\"[\",\"[\",\"(\",\")\",\"]\",\"}\"]\n",
    "result = check_balance_bracket(lst)\n",
    "if result:\n",
    "    print(\"Balanced\")\n",
    "else:\n",
    "    print(\"Not Balance\")\n"
   ]
  },
  {
   "cell_type": "code",
   "execution_count": null,
   "metadata": {},
   "outputs": [],
   "source": [
    "#stack implimentation\n",
    "def stack_implementation():\n",
    "    "
   ]
  },
  {
   "cell_type": "code",
   "execution_count": 55,
   "metadata": {},
   "outputs": [
    {
     "name": "stdout",
     "output_type": "stream",
     "text": [
      "[9, 7, 5, 3, 1]\n"
     ]
    }
   ],
   "source": [
    "a = list(range(10))\n",
    "print(a[::-2])"
   ]
  },
  {
   "cell_type": "code",
   "execution_count": 57,
   "metadata": {},
   "outputs": [],
   "source": [
    "li=[[1,1,1],[2,2,2],[3,3,3]]"
   ]
  },
  {
   "cell_type": "code",
   "execution_count": 59,
   "metadata": {},
   "outputs": [
    {
     "name": "stdout",
     "output_type": "stream",
     "text": [
      "1 1 1 2 2 2 3 3 3 "
     ]
    }
   ],
   "source": [
    "for i in li:\n",
    "    for j in i:\n",
    "        print(j, end= \" \")"
   ]
  },
  {
   "cell_type": "code",
   "execution_count": 60,
   "metadata": {},
   "outputs": [
    {
     "ename": "IndexError",
     "evalue": "list index out of range",
     "output_type": "error",
     "traceback": [
      "\u001b[0;31m---------------------------------------------------------------------------\u001b[0m",
      "\u001b[0;31mIndexError\u001b[0m                                Traceback (most recent call last)",
      "Cell \u001b[0;32mIn[60], line 6\u001b[0m\n\u001b[1;32m      1\u001b[0m a \u001b[38;5;241m=\u001b[39m [\n\u001b[1;32m      2\u001b[0m     [\u001b[38;5;241m10\u001b[39m, \u001b[38;5;241m23\u001b[39m, \u001b[38;5;241m39\u001b[39m],\n\u001b[1;32m      3\u001b[0m     [\u001b[38;5;241m32\u001b[39m, \u001b[38;5;241m43\u001b[39m],\n\u001b[1;32m      4\u001b[0m     [\u001b[38;5;241m54\u001b[39m, \u001b[38;5;241m65\u001b[39m, \u001b[38;5;241m76\u001b[39m],\n\u001b[1;32m      5\u001b[0m ]\n\u001b[0;32m----> 6\u001b[0m \u001b[38;5;28mprint\u001b[39m(\u001b[43ma\u001b[49m\u001b[43m[\u001b[49m\u001b[38;5;241;43m1\u001b[39;49m\u001b[43m]\u001b[49m\u001b[43m[\u001b[49m\u001b[38;5;241;43m2\u001b[39;49m\u001b[43m]\u001b[49m)\n",
      "\u001b[0;31mIndexError\u001b[0m: list index out of range"
     ]
    }
   ],
   "source": [
    "a = [\n",
    "    [10, 23, 39],\n",
    "    [32, 43],\n",
    "    [54, 65, 76],\n",
    "]\n",
    "print(a[1][2])"
   ]
  },
  {
   "cell_type": "code",
   "execution_count": 61,
   "metadata": {},
   "outputs": [],
   "source": [
    "sub = [[10,25,85],[51,12,33],[1,2,3]]"
   ]
  },
  {
   "cell_type": "code",
   "execution_count": 68,
   "metadata": {},
   "outputs": [
    {
     "name": "stdout",
     "output_type": "stream",
     "text": [
      "10 25 85 \n",
      "51 12 33 \n",
      "1 2 3 \n"
     ]
    }
   ],
   "source": [
    "for i in sub:\n",
    "#     print(i)\n",
    "    for j in i:\n",
    "        print(j, end=' ')\n",
    "    print()\n",
    "    "
   ]
  },
  {
   "cell_type": "code",
   "execution_count": 76,
   "metadata": {},
   "outputs": [
    {
     "name": "stdin",
     "output_type": "stream",
     "text": [
      " 3\n",
      " 1 2 3\n",
      " 3 4 5\n",
      " 5 6 7\n"
     ]
    },
    {
     "data": {
      "text/plain": [
       "[9, 12, 15]"
      ]
     },
     "execution_count": 76,
     "metadata": {},
     "output_type": "execute_result"
    }
   ],
   "source": [
    "def take_list_as_input():\n",
    "    li = list(map(int,input().split()))\n",
    "    return li\n",
    "\n",
    "a=[]\n",
    "n_rows=int(input())\n",
    "for i in range(3):\n",
    "    a.append(take_list_as_input())\n",
    "a\n",
    "\n",
    "sum_list= []\n",
    "for col_index in range(len(a[0])):\n",
    "    val =0\n",
    "    for row_index in range(len(a)):\n",
    "        val+=a[row_index][col_index]\n",
    "\n",
    "    sum_list.append(val)\n",
    "sum_list"
   ]
  },
  {
   "cell_type": "code",
   "execution_count": 78,
   "metadata": {},
   "outputs": [
    {
     "name": "stdin",
     "output_type": "stream",
     "text": [
      " 3\n",
      " 1 5 4\n",
      " 2 3 6\n",
      " 7 9 1\n"
     ]
    },
    {
     "data": {
      "text/plain": [
       "[5, 6, 9]"
      ]
     },
     "execution_count": 78,
     "metadata": {},
     "output_type": "execute_result"
    }
   ],
   "source": [
    "def take_list_as_input():\n",
    "    li = list(map(int,input().split()))\n",
    "    return li\n",
    "\n",
    "a=[]\n",
    "n_rows=int(input())\n",
    "for i in range(3):\n",
    "    a.append(take_list_as_input())\n",
    "\n",
    "\n",
    "max_list= []\n",
    "for row_index in range(len(a)):\n",
    "    max_val =max(a[row_index])\n",
    "    max_list.append(max_val)\n",
    "max_list\n"
   ]
  },
  {
   "cell_type": "code",
   "execution_count": 81,
   "metadata": {},
   "outputs": [
    {
     "data": {
      "text/plain": [
       "15"
      ]
     },
     "execution_count": 81,
     "metadata": {},
     "output_type": "execute_result"
    }
   ],
   "source": [
    "li=[[1,2,3],[4,5,6],[7,8,9]]\n",
    "\n",
    "# 00, 11, 22\n",
    "sum=0\n",
    "for i in range(len(li[0])):\n",
    "    sum+=li[i][i]\n",
    "sum\n",
    "#     print(i,li[i])"
   ]
  },
  {
   "cell_type": "code",
   "execution_count": 85,
   "metadata": {},
   "outputs": [
    {
     "name": "stdout",
     "output_type": "stream",
     "text": [
      "1 2 3 6 5 4 7 8 9 "
     ]
    }
   ],
   "source": [
    "mat=[[1,2,3],[4,5,6],[7,8,9]]\n",
    "for row_index in range(len(mat)):\n",
    "    if row_index%2==0:\n",
    "        for col_index in range(len(mat[row_index])):\n",
    "            print(mat[row_index][col_index],end=\" \")\n",
    "    else:\n",
    "        for col_index in range(len(mat[row_index])-1,-1,-1):\n",
    "            print(mat[row_index][col_index],end=\" \")\n",
    "        "
   ]
  },
  {
   "cell_type": "code",
   "execution_count": 87,
   "metadata": {},
   "outputs": [
    {
     "name": "stdin",
     "output_type": "stream",
     "text": [
      " 3\n",
      " 1 2 3\n",
      " 4 5 6\n",
      " 7 8 9\n"
     ]
    },
    {
     "name": "stdout",
     "output_type": "stream",
     "text": [
      "1 4 7 8 5 2 3 6 9 "
     ]
    }
   ],
   "source": [
    "def take_list_as_input():\n",
    "    li = list(map(int,input().split()))\n",
    "    return li\n",
    "\n",
    "mat=[]\n",
    "n=int(input())\n",
    "for i in range(n):\n",
    "    mat.append(take_list_as_input())\n",
    "\n",
    "for col_index in range(n):\n",
    "    if col_index%2==0:\n",
    "        for row_index in range(len(mat)):\n",
    "            print(mat[row_index][col_index],end=\" \")\n",
    "            \n",
    "    else:\n",
    "        for row_index in range(len(mat)-1,-1,-1):\n",
    "            print(mat[row_index][col_index],end=\" \")"
   ]
  },
  {
   "cell_type": "code",
   "execution_count": 88,
   "metadata": {},
   "outputs": [
    {
     "name": "stdout",
     "output_type": "stream",
     "text": [
      "(20, 30)\n"
     ]
    }
   ],
   "source": [
    "t = (10, 20, 30, 40)\n",
    "print(t[1:-1])\n"
   ]
  },
  {
   "cell_type": "code",
   "execution_count": 92,
   "metadata": {},
   "outputs": [
    {
     "name": "stdin",
     "output_type": "stream",
     "text": [
      " kusum\n"
     ]
    },
    {
     "name": "stdout",
     "output_type": "stream",
     "text": [
      "107\n",
      "117\n",
      "115\n",
      "117\n",
      "109\n"
     ]
    }
   ],
   "source": [
    "\n",
    "k =input()\n",
    "for char in k:\n",
    "    print(ord(char))"
   ]
  },
  {
   "cell_type": "code",
   "execution_count": 93,
   "metadata": {},
   "outputs": [
    {
     "name": "stdin",
     "output_type": "stream",
     "text": [
      " aka\n"
     ]
    },
    {
     "name": "stdout",
     "output_type": "stream",
     "text": [
      "Palindrome\n"
     ]
    }
   ],
   "source": [
    "k=input()\n",
    "if k==k[::-1]:\n",
    "    print(\"Palindrome\")\n",
    "else:\n",
    "    print(\"Not Palindrome\")\n",
    "    "
   ]
  },
  {
   "cell_type": "code",
   "execution_count": 95,
   "metadata": {},
   "outputs": [
    {
     "ename": "TypeError",
     "evalue": "'>' not supported between instances of 'str' and 'int'",
     "output_type": "error",
     "traceback": [
      "\u001b[0;31m---------------------------------------------------------------------------\u001b[0m",
      "\u001b[0;31mTypeError\u001b[0m                                 Traceback (most recent call last)",
      "Cell \u001b[0;32mIn[95], line 2\u001b[0m\n\u001b[1;32m      1\u001b[0m t\u001b[38;5;241m=\u001b[39m(\u001b[38;5;241m1150\u001b[39m,\u001b[38;5;124m'\u001b[39m\u001b[38;5;124msea_level\u001b[39m\u001b[38;5;124m'\u001b[39m,\u001b[38;5;241m909\u001b[39m)\n\u001b[0;32m----> 2\u001b[0m \u001b[38;5;28;43mmax\u001b[39;49m\u001b[43m(\u001b[49m\u001b[43mt\u001b[49m\u001b[43m)\u001b[49m\n",
      "\u001b[0;31mTypeError\u001b[0m: '>' not supported between instances of 'str' and 'int'"
     ]
    }
   ],
   "source": [
    "t=(1150,'sea_level',909)\n",
    "max(t)"
   ]
  },
  {
   "cell_type": "code",
   "execution_count": 96,
   "metadata": {},
   "outputs": [
    {
     "name": "stdout",
     "output_type": "stream",
     "text": [
      "('Item_1', 0.5, ['Vijay', 'Vickey', 'Vishal'])\n"
     ]
    }
   ],
   "source": [
    "name_lst = [\"Vijay\", \"Vickey\"]\n",
    "tup = (\"Item_1\", 0.5, name_lst)\n",
    "name_lst.append(\"Vishal\")\n",
    "print(tup)"
   ]
  },
  {
   "cell_type": "code",
   "execution_count": 97,
   "metadata": {},
   "outputs": [
    {
     "data": {
      "text/plain": [
       "str"
      ]
     },
     "execution_count": 97,
     "metadata": {},
     "output_type": "execute_result"
    }
   ],
   "source": [
    "fruits = (\"Orange\")\n",
    "type(fruits)"
   ]
  },
  {
   "cell_type": "code",
   "execution_count": 98,
   "metadata": {},
   "outputs": [
    {
     "ename": "TypeError",
     "evalue": "'tuple' object does not support item assignment",
     "output_type": "error",
     "traceback": [
      "\u001b[0;31m---------------------------------------------------------------------------\u001b[0m",
      "\u001b[0;31mTypeError\u001b[0m                                 Traceback (most recent call last)",
      "Cell \u001b[0;32mIn[98], line 1\u001b[0m\n\u001b[0;32m----> 1\u001b[0m \u001b[43mt\u001b[49m\u001b[43m[\u001b[49m\u001b[38;5;241;43m0\u001b[39;49m\u001b[43m]\u001b[49m\u001b[38;5;241m=\u001b[39m\u001b[38;5;241m50\u001b[39m\n",
      "\u001b[0;31mTypeError\u001b[0m: 'tuple' object does not support item assignment"
     ]
    }
   ],
   "source": [
    "t[0]=50"
   ]
  },
  {
   "cell_type": "code",
   "execution_count": 106,
   "metadata": {},
   "outputs": [
    {
     "name": "stdout",
     "output_type": "stream",
     "text": [
      "(10, 5, 10, 10, 5, 8)\n",
      "(8, 2, 15, 8, 8, 2)\n",
      "(10, 5, 10, 10, 5, 8, 10, 5, 10, 10, 5, 8, 10, 5, 10, 10, 5, 8) (8, 2, 15, 8, 8, 2)\n"
     ]
    }
   ],
   "source": [
    "tup =(10, 8, 5, 2, 10, 15, 10, 8, 5, 8, 8, 2)\n",
    "\n",
    "print(tup[::2])\n",
    "print(tup[1::2])\n",
    "Even=[]\n",
    "for i in range(len(tup)):\n",
    "    if i%2==0:\n",
    "        Odd.append(tup[i])\n",
    "    else:\n",
    "        Even.append(tup[i])\n",
    "\n",
    "print(tuple(Odd), tuple(Even))"
   ]
  },
  {
   "cell_type": "code",
   "execution_count": 111,
   "metadata": {},
   "outputs": [
    {
     "name": "stdout",
     "output_type": "stream",
     "text": [
      "[10, 8, 5, 2, 15]\n",
      "10 : 3\n",
      "8 : 4\n",
      "5 : 2\n",
      "2 : 2\n",
      "15 : 1\n"
     ]
    }
   ],
   "source": [
    "tup =(10, 8, 5, 2, 10, 15, 10, 8, 5, 8, 8, 2)\n",
    "l1=[]\n",
    "l2=[]\n",
    "for item in tup:\n",
    "    if item not in l1:\n",
    "        l1.append(item)\n",
    "        l2.append(tup.count(item))\n",
    "for i in range(len(l1)):\n",
    "    print(f'{l1[i]} : {l2[i]}')"
   ]
  },
  {
   "cell_type": "code",
   "execution_count": 112,
   "metadata": {},
   "outputs": [
    {
     "ename": "AttributeError",
     "evalue": "'list' object has no attribute 'where'",
     "output_type": "error",
     "traceback": [
      "\u001b[0;31m---------------------------------------------------------------------------\u001b[0m",
      "\u001b[0;31mAttributeError\u001b[0m                            Traceback (most recent call last)",
      "Cell \u001b[0;32mIn[112], line 2\u001b[0m\n\u001b[1;32m      1\u001b[0m list1\u001b[38;5;241m=\u001b[39m[\u001b[38;5;241m2\u001b[39m,\u001b[38;5;241m12\u001b[39m,\u001b[38;5;241m45\u001b[39m,\u001b[38;5;241m6\u001b[39m,\u001b[38;5;241m8\u001b[39m,\u001b[38;5;241m32\u001b[39m,\u001b[38;5;241m17\u001b[39m]\n\u001b[0;32m----> 2\u001b[0m \u001b[38;5;28;01mif\u001b[39;00m(\u001b[43mlist1\u001b[49m\u001b[38;5;241;43m.\u001b[39;49m\u001b[43mwhere\u001b[49m(\u001b[38;5;241m6\u001b[39m)):\n\u001b[1;32m      3\u001b[0m      \u001b[38;5;28mprint\u001b[39m(\u001b[38;5;124m'\u001b[39m\u001b[38;5;124mElement exists\u001b[39m\u001b[38;5;124m'\u001b[39m)\n",
      "\u001b[0;31mAttributeError\u001b[0m: 'list' object has no attribute 'where'"
     ]
    }
   ],
   "source": [
    "list1=[2,12,45,6,8,32,17]\n",
    "if(list1.where(6)):\n",
    "     print('Element exists')"
   ]
  },
  {
   "cell_type": "code",
   "execution_count": 114,
   "metadata": {},
   "outputs": [
    {
     "data": {
      "text/plain": [
       "['t', 'st', 'e']"
      ]
     },
     "execution_count": 114,
     "metadata": {},
     "output_type": "execute_result"
    }
   ],
   "source": [
    "input_string=\"testee\"\n",
    "input_string.split('e', 2)"
   ]
  },
  {
   "cell_type": "code",
   "execution_count": 118,
   "metadata": {},
   "outputs": [
    {
     "name": "stdout",
     "output_type": "stream",
     "text": [
      "xyc abz\n"
     ]
    }
   ],
   "source": [
    "s1=\"abc\"\n",
    "s2=\"xyz\"\n",
    "s3=s1\n",
    "s1=s1.replace(s1[0:2],s2[0:2])\n",
    "s2=s2.replace(s2[0:2],s3[0:2])\n",
    "print(s1,s2)"
   ]
  },
  {
   "cell_type": "code",
   "execution_count": null,
   "metadata": {},
   "outputs": [],
   "source": []
  }
 ],
 "metadata": {
  "kernelspec": {
   "display_name": "Python 3 (ipykernel)",
   "language": "python",
   "name": "python3"
  },
  "language_info": {
   "codemirror_mode": {
    "name": "ipython",
    "version": 3
   },
   "file_extension": ".py",
   "mimetype": "text/x-python",
   "name": "python",
   "nbconvert_exporter": "python",
   "pygments_lexer": "ipython3",
   "version": "3.10.12"
  }
 },
 "nbformat": 4,
 "nbformat_minor": 2
}
