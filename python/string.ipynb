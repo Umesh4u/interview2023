{
 "cells": [
  {
   "cell_type": "code",
   "execution_count": 1,
   "id": "2cd61def-f290-4ef1-92f7-de372c20d035",
   "metadata": {},
   "outputs": [],
   "source": [
    "str = \"abc\""
   ]
  },
  {
   "cell_type": "code",
   "execution_count": 2,
   "id": "449cd4bf-18ac-46ac-b89a-a92bc7bbd04a",
   "metadata": {},
   "outputs": [
    {
     "data": {
      "text/plain": [
       "140387827267120"
      ]
     },
     "execution_count": 2,
     "metadata": {},
     "output_type": "execute_result"
    }
   ],
   "source": [
    "id(str)"
   ]
  },
  {
   "cell_type": "code",
   "execution_count": 3,
   "id": "74c541da-c254-424c-a672-18728bab91c6",
   "metadata": {},
   "outputs": [],
   "source": [
    "d = str+\"cd\""
   ]
  },
  {
   "cell_type": "code",
   "execution_count": 4,
   "id": "5ca60488-12c1-422d-bfc9-c7edb8470414",
   "metadata": {},
   "outputs": [
    {
     "data": {
      "text/plain": [
       "'abccd'"
      ]
     },
     "execution_count": 4,
     "metadata": {},
     "output_type": "execute_result"
    }
   ],
   "source": [
    "d"
   ]
  },
  {
   "cell_type": "code",
   "execution_count": 5,
   "id": "ca2f9d6f-1b54-4f6c-b7c5-112c89b9c1fc",
   "metadata": {},
   "outputs": [
    {
     "data": {
      "text/plain": [
       "140387721398832"
      ]
     },
     "execution_count": 5,
     "metadata": {},
     "output_type": "execute_result"
    }
   ],
   "source": [
    "id(d)"
   ]
  },
  {
   "cell_type": "code",
   "execution_count": 6,
   "id": "3aad9ddc-001f-4472-89b2-f09123665d3f",
   "metadata": {},
   "outputs": [],
   "source": [
    "li = [1,2]"
   ]
  },
  {
   "cell_type": "code",
   "execution_count": 7,
   "id": "bacfc328-261e-4ed5-b1dd-266031a2ea6a",
   "metadata": {},
   "outputs": [
    {
     "data": {
      "text/plain": [
       "140387721476096"
      ]
     },
     "execution_count": 7,
     "metadata": {},
     "output_type": "execute_result"
    }
   ],
   "source": [
    "id(li)"
   ]
  },
  {
   "cell_type": "code",
   "execution_count": 8,
   "id": "8c2aeb05-db0d-4033-91f5-c924cf5fbe5f",
   "metadata": {},
   "outputs": [],
   "source": [
    "li.append(4)"
   ]
  },
  {
   "cell_type": "code",
   "execution_count": 9,
   "id": "c2f12e5e-8c2e-4125-8431-85a5f22c9780",
   "metadata": {},
   "outputs": [
    {
     "data": {
      "text/plain": [
       "140387721476096"
      ]
     },
     "execution_count": 9,
     "metadata": {},
     "output_type": "execute_result"
    }
   ],
   "source": [
    "id(li)"
   ]
  },
  {
   "cell_type": "code",
   "execution_count": null,
   "id": "acbd0952-d83c-4235-9923-168d8d304441",
   "metadata": {},
   "outputs": [],
   "source": []
  }
 ],
 "metadata": {
  "kernelspec": {
   "display_name": "Python 3 (ipykernel)",
   "language": "python",
   "name": "python3"
  },
  "language_info": {
   "codemirror_mode": {
    "name": "ipython",
    "version": 3
   },
   "file_extension": ".py",
   "mimetype": "text/x-python",
   "name": "python",
   "nbconvert_exporter": "python",
   "pygments_lexer": "ipython3",
   "version": "3.9.13"
  }
 },
 "nbformat": 4,
 "nbformat_minor": 5
}
