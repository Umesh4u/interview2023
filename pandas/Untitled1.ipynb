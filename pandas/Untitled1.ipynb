{
 "cells": [
  {
   "cell_type": "code",
   "execution_count": 13,
   "metadata": {},
   "outputs": [
    {
     "name": "stdout",
     "output_type": "stream",
     "text": [
      "A A\n",
      "A A\n",
      "A A\n",
      "Y Y\n",
      "1 {'Y': 1}\n",
      "T T\n",
      "1 {'Y': 2, 'T': 1}\n",
      "A A\n",
      "1 {'Y': 2, 'T': 2, 'A': 1}\n",
      "{'Y': 2, 'T': 2, 'A': 2}\n"
     ]
    }
   ],
   "source": [
    "string =\"AAAYYTTAA\"\n",
    "#3A2Y2T2A\n",
    "dict1={}\n",
    "# for item in string:\n",
    "#     if item in dict1:\n",
    "#         dict1[item]+=1\n",
    "#     else:\n",
    "#         dict1[item]=1\n",
    "# print(dict1)\n",
    "  \n",
    "for index in range(len(string)):\n",
    "    val =string[index]\n",
    "    if string[index-1]==string[index]:\n",
    "        print(string[index-1],string[index])\n",
    "\n",
    "        if string[index] in dict1:\n",
    "            print(dict1[val],dict1)\n",
    "        \n",
    "        \n",
    "            dict1[val]+=1\n",
    "    else:\n",
    "        dict1[val]=1\n",
    "print(dict1)\n",
    "\n"
   ]
  },
  {
   "cell_type": "code",
   "execution_count": null,
   "metadata": {},
   "outputs": [],
   "source": []
  },
  {
   "cell_type": "code",
   "execution_count": null,
   "metadata": {},
   "outputs": [],
   "source": [
    "select * from employee order by salary desc limit 1 offset 1"
   ]
  }
 ],
 "metadata": {
  "kernelspec": {
   "display_name": "Python 3 (ipykernel)",
   "language": "python",
   "name": "python3"
  },
  "language_info": {
   "codemirror_mode": {
    "name": "ipython",
    "version": 3
   },
   "file_extension": ".py",
   "mimetype": "text/x-python",
   "name": "python",
   "nbconvert_exporter": "python",
   "pygments_lexer": "ipython3",
   "version": "3.10.12"
  }
 },
 "nbformat": 4,
 "nbformat_minor": 2
}
