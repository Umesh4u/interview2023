{
 "cells": [
  {
   "cell_type": "code",
   "execution_count": null,
   "metadata": {},
   "outputs": [],
   "source": [
    "1. Introduction to Pandas\n",
    "\n",
    "What is Pandas?\n",
    "Pandas is an open-source data manipulation and analysis library for Python. It provides data \n",
    "structures and functions needed to work with structured data seamlessly and intuitively.\n",
    "\n",
    "Installation\n",
    "You can install Pandas using pip:\n",
    "\n",
    "pip install pandas\n",
    "\n",
    "Basic Data Structures\n",
    "\n",
    "Series: A one-dimensional labeled array capable of holding any data type.\n",
    "DataFrame: A two-dimensional labeled data structure with columns of potentially different types.\n",
    "\n"
   ]
  },
  {
   "cell_type": "code",
   "execution_count": null,
   "metadata": {},
   "outputs": [],
   "source": [
    "2. Data Structures\n",
    "Series\n",
    "A Series is similar to a column in a table or an Excel spreadsheet. It has both a data array and an \n",
    "index array.\n",
    "\n",
    "import pandas as pd\n",
    "\n",
    "# Creating a Series\n",
    "data = [1, 2, 3, 4, 5]\n",
    "s = pd.Series(data)\n",
    "\n",
    "# Display the Series\n",
    "print(s)\n",
    "\n",
    "# Accessing elements\n",
    "print(s[0])  # Output: 1\n",
    "\n",
    "# Using custom index\n",
    "s = pd.Series(data, index=['a', 'b', 'c', 'd', 'e'])\n",
    "print(s['a'])  # Output: 1\n"
   ]
  },
  {
   "cell_type": "code",
   "execution_count": null,
   "metadata": {},
   "outputs": [],
   "source": [
    "DataFrame\n",
    "A DataFrame is a 2D structure with labeled axes (rows and columns). It's similar to a table in a \n",
    "database or a spreadsheet.\n",
    "\n",
    "# Creating a DataFrame\n",
    "data = {\n",
    "    'name': ['Alice', 'Bob', 'Charlie'],\n",
    "    'age': [25, 30, 35],\n",
    "    'city': ['New York', 'San Francisco', 'Los Angeles']\n",
    "}\n",
    "df = pd.DataFrame(data)\n",
    "\n",
    "# Display the DataFrame\n",
    "print(df)\n",
    "\n",
    "# Accessing columns\n",
    "print(df['name'])  # Output: Series with names\n",
    "\n",
    "# Accessing rows by index\n",
    "print(df.loc[0])  # Output: First row of the DataFrame\n"
   ]
  },
  {
   "cell_type": "code",
   "execution_count": null,
   "metadata": {},
   "outputs": [],
   "source": [
    "3. DataFrame Basics\n",
    "\n",
    "Creating DataFrames\n",
    "\n",
    "You can create DataFrames from dictionaries, lists, numpy arrays, CSV files, Excel files, and more.\n",
    "\n",
    "# From a dictionary\n",
    "data = {\n",
    "    'name': ['Alice', 'Bob', 'Charlie'],\n",
    "    'age': [25, 30, 35],\n",
    "    'city': ['New York', 'San Francisco', 'Los Angeles']\n",
    "}\n",
    "df = pd.DataFrame(data)\n",
    "\n",
    "# From a list of lists\n",
    "data = [\n",
    "    ['Alice', 25, 'New York'],\n",
    "    ['Bob', 30, 'San Francisco'],\n",
    "    ['Charlie', 35, 'Los Angeles']\n",
    "]\n",
    "df = pd.DataFrame(data, columns=['name', 'age', 'city'])\n",
    "\n",
    "# From a CSV file\n",
    "df = pd.read_csv('data.csv')\n",
    "\n",
    "# From an Excel file\n",
    "df = pd.read_excel('data.xlsx')\n",
    "\n"
   ]
  },
  {
   "cell_type": "code",
   "execution_count": null,
   "metadata": {},
   "outputs": [],
   "source": [
    "Indexing and Selecting Data\n",
    "Pandas provides several ways to index and select data, such as .loc, .iloc, .at, and .iat.\n",
    "\n",
    "# Using loc (label-based)\n",
    "print(df.loc[0])  # First row\n",
    "\n",
    "# Using iloc (integer-based)\n",
    "print(df.iloc[0])  # First row\n",
    "\n",
    "# Using at (label-based, scalar)\n",
    "print(df.at[0, 'name'])  # First row, 'name' column\n",
    "\n",
    "# Using iat (integer-based, scalar)\n",
    "print(df.iat[0, 0])  # First row, first column\n"
   ]
  },
  {
   "cell_type": "code",
   "execution_count": null,
   "metadata": {},
   "outputs": [],
   "source": [
    "Adding and Modifying Columns\n",
    "You can easily add new columns or modify existing ones.\n",
    "\n",
    "# Adding a new column\n",
    "df['salary'] = [50000, 60000, 70000]\n",
    "\n",
    "# Modifying an existing column\n",
    "df['age'] = df['age'] + 1\n"
   ]
  },
  {
   "cell_type": "code",
   "execution_count": null,
   "metadata": {},
   "outputs": [],
   "source": [
    "Dropping Data\n",
    "You can drop rows or columns using the drop method.\n",
    "\n",
    "# Dropping a column\n",
    "df = df.drop(columns=['salary'])\n",
    "\n",
    "# Dropping a row\n",
    "df = df.drop(index=[0])\n"
   ]
  },
  {
   "cell_type": "code",
   "execution_count": null,
   "metadata": {},
   "outputs": [],
   "source": [
    "Renaming Columns and Index\n",
    "You can rename columns and index using the rename method.\n",
    "\n",
    "df = df.rename(columns={'name': 'full_name'})\n",
    "df = df.rename(index={0: 'first_row'})\n"
   ]
  },
  {
   "cell_type": "code",
   "execution_count": null,
   "metadata": {},
   "outputs": [],
   "source": [
    "4. Data Inspection\n",
    "Viewing Data\n",
    "Pandas provides convenient methods to view your data.\n",
    "\n",
    "# Display the first few rows\n",
    "print(df.head())\n",
    "\n",
    "# Display the last few rows\n",
    "print(df.tail())\n"
   ]
  },
  {
   "cell_type": "code",
   "execution_count": null,
   "metadata": {},
   "outputs": [],
   "source": [
    "Info and Description\n",
    "You can get an overview of your DataFrame using info and describe.\n",
    "\n",
    "# Info\n",
    "print(df.info())\n",
    "\n",
    "# Description\n",
    "print(df.describe())\n"
   ]
  },
  {
   "cell_type": "code",
   "execution_count": null,
   "metadata": {},
   "outputs": [],
   "source": [
    "Shape and Dimensions\n",
    "You can get the shape and dimensions of your DataFrame.\n",
    "\n",
    "# Shape\n",
    "print(df.shape)\n",
    "\n",
    "# Dimensions\n",
    "print(df.ndim)\n",
    "\n",
    "# Size\n",
    "print(df.size)\n"
   ]
  },
  {
   "cell_type": "code",
   "execution_count": null,
   "metadata": {},
   "outputs": [],
   "source": [
    "Checking for Missing Values\n",
    "You can check for missing values in your DataFrame.\n",
    "\n",
    "# Check for missing values\n",
    "print(df.isna())\n",
    "print(df.isna().sum())\n"
   ]
  },
  {
   "cell_type": "code",
   "execution_count": null,
   "metadata": {},
   "outputs": [],
   "source": [
    "Value Counts\n",
    "You can get the count of unique values in a column.\n",
    "\n",
    "# Value counts\n",
    "print(df['city'].value_counts())\n"
   ]
  },
  {
   "cell_type": "code",
   "execution_count": null,
   "metadata": {},
   "outputs": [],
   "source": [
    "5. Data Manipulation\n",
    "Handling Missing Data\n",
    "Detecting Missing Data\n",
    "You can detect missing data using isna and isnull.\n",
    "\n",
    "# Check for missing values\n",
    "print(df.isna())\n",
    "print(df.isnull())\n"
   ]
  },
  {
   "cell_type": "code",
   "execution_count": null,
   "metadata": {},
   "outputs": [],
   "source": [
    "Filling Missing Data\n",
    "You can fill missing values using fillna.\n",
    "\n",
    "# Fill missing values with a specific value\n",
    "df['age'] = df['age'].fillna(0)\n"
   ]
  },
  {
   "cell_type": "code",
   "execution_count": null,
   "metadata": {},
   "outputs": [],
   "source": [
    "Dropping Missing Data\n",
    "You can drop rows or columns with missing values using dropna.\n",
    "\n",
    "# Drop rows with missing values\n",
    "df = df.dropna()\n"
   ]
  },
  {
   "cell_type": "code",
   "execution_count": null,
   "metadata": {},
   "outputs": [],
   "source": [
    "Replacing Values\n",
    "You can replace specific values using replace.\n",
    "\n",
    "# Replace specific values\n",
    "df['city'] = df['city'].replace('New York', 'NYC')\n"
   ]
  },
  {
   "cell_type": "code",
   "execution_count": null,
   "metadata": {},
   "outputs": [],
   "source": [
    "Filtering and Sorting\n",
    "Filtering Data\n",
    "You can filter data based on conditions.\n",
    "\n",
    "# Filtering rows\n",
    "filtered_df = df[df['age'] > 30]\n",
    "print(filtered_df)\n"
   ]
  },
  {
   "cell_type": "code",
   "execution_count": null,
   "metadata": {},
   "outputs": [],
   "source": [
    "Sorting Data\n",
    "You can sort your DataFrame by columns using sort_values and by index using sort_index.\n",
    "\n",
    "# Sort by age\n",
    "df = df.sort_values(by='age')\n",
    "\n",
    "# Sort by index\n",
    "df = df.sort_index()\n"
   ]
  },
  {
   "cell_type": "code",
   "execution_count": null,
   "metadata": {},
   "outputs": [],
   "source": [
    "Conditional Selection\n",
    "You can use Boolean indexing to select data conditionally.\n",
    "\n",
    "# Conditional selection\n",
    "young_people = df[df['age'] < 30]\n"
   ]
  },
  {
   "cell_type": "code",
   "execution_count": null,
   "metadata": {},
   "outputs": [],
   "source": [
    "Grouping and Aggregation\n",
    "Group By\n",
    "You can group data by columns using groupby.\n",
    "\n",
    "# Group by city\n",
    "grouped = df.groupby('city')\n"
   ]
  },
  {
   "cell_type": "code",
   "execution_count": null,
   "metadata": {},
   "outputs": [],
   "source": [
    "Aggregating Data\n",
    "You can aggregate data using functions like mean, sum, min, max, etc.\n",
    "\n",
    "# Calculate mean age for each city\n",
    "print(grouped['age'].mean())\n"
   ]
  },
  {
   "cell_type": "code",
   "execution_count": null,
   "metadata": {},
   "outputs": [],
   "source": [
    "Applying Functions\n",
    "You can apply custom functions to groups using apply and agg.\n",
    "\n",
    "# Custom aggregation\n",
    "print(grouped['age'].agg(['mean', 'min', 'max']))\n"
   ]
  },
  {
   "cell_type": "code",
   "execution_count": null,
   "metadata": {},
   "outputs": [],
   "source": [
    "6. Advanced Data Operations\n",
    "Merging and Joining\n",
    "Concatenation\n",
    "You can concatenate DataFrames using concat.\n",
    "\n",
    "# Concatenating DataFrames\n",
    "df1 = pd.DataFrame({'A': [1, 2], 'B': [3, 4]})\n",
    "df2 = pd.DataFrame({'A': [5, 6], 'B': [7, 8]})\n",
    "result = pd.concat([df1, df2])\n"
   ]
  },
  {
   "cell_type": "code",
   "execution_count": null,
   "metadata": {},
   "outputs": [],
   "source": [
    "Merging DataFrames\n",
    "You can merge DataFrames using merge.\n",
    "\n",
    "# Merging DataFrames on a common column\n",
    "df1 = pd.DataFrame({'key': ['A', 'B', 'C'], 'value1': [1, 2, 3]})\n",
    "df2 = pd.DataFrame({'key': ['A', 'B', 'D'], 'value2': [4, 5, 6]})\n",
    "merged_df = pd.merge(df1, df2, on='key')\n",
    "print(merged_df)\n"
   ]
  },
  {
   "cell_type": "code",
   "execution_count": null,
   "metadata": {},
   "outputs": [],
   "source": [
    "Joining DataFrames\n",
    "You can join DataFrames using join.\n",
    "\n",
    "# Joining DataFrames using the index\n",
    "df1 = df1.set_index('key')\n",
    "df2 = df2.set_index('key')\n",
    "joined_df = df1.join(df2, lsuffix='_left', rsuffix='_right')\n",
    "print(joined_df)\n"
   ]
  },
  {
   "cell_type": "code",
   "execution_count": null,
   "metadata": {},
   "outputs": [],
   "source": [
    "Pivoting and Reshaping\n",
    "Pivot Tables\n",
    "You can create pivot tables using pivot_table.\n",
    "\n",
    "# Pivot table\n",
    "pivot = df.pivot_table(values='age', index='city', aggfunc='mean')\n",
    "print(pivot)\n"
   ]
  },
  {
   "cell_type": "code",
   "execution_count": null,
   "metadata": {},
   "outputs": [],
   "source": [
    "Crosstabulation\n",
    "You can create crosstabulations using crosstab.\n",
    "\n",
    "# Crosstabulation\n",
    "crosstab = pd.crosstab(df['name'], df['city'])\n",
    "print(crosstab)\n"
   ]
  },
  {
   "cell_type": "code",
   "execution_count": null,
   "metadata": {},
   "outputs": [],
   "source": [
    "Melt and Stack\n",
    "You can reshape your DataFrame using melt, stack, and unstack.\n",
    "\n",
    "# Melting DataFrame\n",
    "melted = pd.melt(df, id_vars=['name'], value_vars=['age', 'city'])\n",
    "print(melted)\n",
    "\n",
    "# Stacking and Unstacking\n",
    "stacked = df.stack()\n",
    "unstacked = stacked.unstack()\n",
    "print(stacked)\n",
    "print(unstacked)\n"
   ]
  },
  {
   "cell_type": "code",
   "execution_count": null,
   "metadata": {},
   "outputs": [],
   "source": [
    "Time Series\n",
    "Date Range\n",
    "You can create a range of dates using date_range.\n",
    "\n",
    "# Creating a date range\n",
    "date_rng = pd.date_range(start='2020-01-01', end='2020-01-10', freq='D')\n",
    "print(date_rng)\n"
   ]
  },
  {
   "cell_type": "code",
   "execution_count": null,
   "metadata": {},
   "outputs": [],
   "source": [
    "Indexing with Dates\n",
    "You can convert strings to datetime objects and use them as index.\n",
    "\n",
    "# Converting to datetime\n",
    "df['date'] = pd.to_datetime(df['date'])\n",
    "df = df.set_index('date')\n",
    "\n"
   ]
  },
  {
   "cell_type": "code",
   "execution_count": null,
   "metadata": {},
   "outputs": [],
   "source": [
    "Resampling\n",
    "You can resample time series data.\n",
    "\n",
    "# Resampling data by week\n",
    "weekly_data = df.resample('W').mean()\n",
    "print(weekly_data)\n"
   ]
  },
  {
   "cell_type": "code",
   "execution_count": null,
   "metadata": {},
   "outputs": [],
   "source": [
    "Time-based Grouping\n",
    "You can group data by time periods.\n",
    "\n",
    "# Grouping by month\n",
    "monthly_data = df.resample('M').mean()\n",
    "print(monthly_data)\n"
   ]
  },
  {
   "cell_type": "code",
   "execution_count": null,
   "metadata": {},
   "outputs": [],
   "source": [
    "7. Input/Output Operations\n",
    "Reading Data\n",
    "CSV Files\n",
    "You can read CSV files using read_csv.\n",
    "\n",
    "\n",
    "# Reading a CSV file\n",
    "df = pd.read_csv('data.csv')\n"
   ]
  },
  {
   "cell_type": "code",
   "execution_count": null,
   "metadata": {},
   "outputs": [],
   "source": [
    "Excel Files\n",
    "You can read Excel files using read_excel.\n",
    "\n",
    "# Reading an Excel file\n",
    "df = pd.read_excel('data.xlsx')\n"
   ]
  },
  {
   "cell_type": "code",
   "execution_count": null,
   "metadata": {},
   "outputs": [],
   "source": [
    "JSON Files\n",
    "You can read JSON files using read_json.\n",
    "\n",
    "# Reading a JSON file\n",
    "df = pd.read_json('data.json')\n"
   ]
  },
  {
   "cell_type": "code",
   "execution_count": null,
   "metadata": {},
   "outputs": [],
   "source": [
    "SQL Databases\n",
    "You can read data from SQL databases using read_sql.\n",
    "\n",
    "import sqlite3\n",
    "\n",
    "# Reading from an SQL database\n",
    "conn = sqlite3.connect('database.db')\n",
    "df = pd.read_sql('SELECT * FROM table_name', conn)\n"
   ]
  },
  {
   "cell_type": "code",
   "execution_count": null,
   "metadata": {},
   "outputs": [],
   "source": [
    "HTML Tables\n",
    "You can read HTML tables using read_html.\n",
    "\n",
    "# Reading an HTML table\n",
    "url = 'https://example.com/table.html'\n",
    "dfs = pd.read_html(url)\n",
    "print(dfs[0])\n"
   ]
  },
  {
   "cell_type": "code",
   "execution_count": null,
   "metadata": {},
   "outputs": [],
   "source": [
    "Writing Data\n",
    "CSV Files\n",
    "You can write data to CSV files using to_csv.\n",
    "\n",
    "# Writing to a CSV file\n",
    "df.to_csv('output.csv', index=False)\n"
   ]
  },
  {
   "cell_type": "code",
   "execution_count": null,
   "metadata": {},
   "outputs": [],
   "source": [
    "Excel Files\n",
    "You can write data to Excel files using to_excel.\n",
    "\n",
    "# Writing to an Excel file\n",
    "df.to_excel('output.xlsx', index=False)\n"
   ]
  },
  {
   "cell_type": "code",
   "execution_count": null,
   "metadata": {},
   "outputs": [],
   "source": [
    "JSON Files\n",
    "You can write data to JSON files using to_json.\n",
    "\n",
    "# Writing to a JSON file\n",
    "df.to_json('output.json')\n"
   ]
  },
  {
   "cell_type": "code",
   "execution_count": null,
   "metadata": {},
   "outputs": [],
   "source": [
    "SQL Databases\n",
    "You can write data to SQL databases using to_sql.\n",
    "\n",
    "# Writing to an SQL database\n",
    "df.to_sql('table_name', conn, if_exists='replace', index=False)\n"
   ]
  },
  {
   "cell_type": "code",
   "execution_count": null,
   "metadata": {},
   "outputs": [],
   "source": [
    "8. Data Cleaning and Preparation\n",
    "String Operations\n",
    "You can use the .str accessor for vectorized string operations.\n",
    "\n",
    "# String operations\n",
    "df['city'] = df['city'].str.upper()\n"
   ]
  },
  {
   "cell_type": "code",
   "execution_count": null,
   "metadata": {},
   "outputs": [],
   "source": [
    "Handling Duplicates\n",
    "You can detect and remove duplicates using duplicated and drop_duplicates.\n",
    "\n",
    "# Detecting duplicates\n",
    "print(df.duplicated())\n",
    "\n",
    "# Removing duplicates\n",
    "df = df.drop_duplicates()\n"
   ]
  },
  {
   "cell_type": "code",
   "execution_count": null,
   "metadata": {},
   "outputs": [],
   "source": [
    "Replacing Data\n",
    "You can replace values in your DataFrame using replace.\n",
    "\n",
    "# Replacing values\n",
    "df['city'] = df['city'].replace('NEW YORK', 'NYC')\n"
   ]
  },
  {
   "cell_type": "code",
   "execution_count": null,
   "metadata": {},
   "outputs": [],
   "source": [
    "Cutting and Binning\n",
    "You can use cut and qcut to bin data into intervals.\n",
    "\n",
    "# Binning data\n",
    "df['age_bin'] = pd.cut(df['age'], bins=[0, 18, 35, 60], labels=['child', 'young_adult', 'adult'])\n"
   ]
  },
  {
   "cell_type": "code",
   "execution_count": null,
   "metadata": {},
   "outputs": [],
   "source": [
    "Scaling Data\n",
    "You can normalize and standardize your data.\n",
    "\n",
    "from sklearn.preprocessing import StandardScaler\n",
    "\n",
    "# Normalizing data\n",
    "scaler = StandardScaler()\n",
    "df[['age']] = scaler.fit_transform(df[['age']])\n",
    "\n"
   ]
  },
  {
   "cell_type": "code",
   "execution_count": null,
   "metadata": {},
   "outputs": [],
   "source": [
    "9. Data Visualization with Pandas\n",
    "Plotting\n",
    "You can create various plots using the plot method.\n",
    "\n",
    "# Line plot\n",
    "df['age'].plot(kind='line')\n",
    "\n",
    "# Bar plot\n",
    "df['age'].plot(kind='bar')\n",
    "\n",
    "# Save the plot\n",
    "plt.savefig('plot.png')\n"
   ]
  },
  {
   "cell_type": "code",
   "execution_count": null,
   "metadata": {},
   "outputs": [],
   "source": [
    "Histograms\n",
    "You can create histograms to show the distribution of data.\n",
    "# Histogram\n",
    "df['age'].plot(kind='hist')\n"
   ]
  },
  {
   "cell_type": "code",
   "execution_count": null,
   "metadata": {},
   "outputs": [],
   "source": [
    "Box Plots\n",
    "You can create box plots to show the distribution of data.\n",
    "# Box plot\n",
    "df.boxplot(column=['age'])\n"
   ]
  },
  {
   "cell_type": "code",
   "execution_count": null,
   "metadata": {},
   "outputs": [],
   "source": [
    "Scatter Plots\n",
    "You can create scatter plots to show the relationship between two variables.\n",
    "\n",
    "# Scatter plot\n",
    "df.plot(kind='scatter', x='age', y='salary')\n"
   ]
  },
  {
   "cell_type": "code",
   "execution_count": null,
   "metadata": {},
   "outputs": [],
   "source": [
    "Visualizing Time Series Data\n",
    "You can visualize time series data.\n",
    "\n",
    "# Time series plot\n",
    "df['data'].plot(kind='line')\n"
   ]
  },
  {
   "cell_type": "code",
   "execution_count": null,
   "metadata": {},
   "outputs": [],
   "source": [
    "10. Performance Optimization\n",
    "Optimizing Memory Usage\n",
    "You can reduce memory usage by optimizing data types.\n",
    "\n",
    "# Optimizing data types\n",
    "df['age'] = df['age'].astype('int8')\n",
    "df['city'] = df['city'].astype('category')\n"
   ]
  },
  {
   "cell_type": "code",
   "execution_count": null,
   "metadata": {},
   "outputs": [],
   "source": [
    "Efficient Operations\n",
    "You can perform operations using vectorized operations.\n",
    "\n",
    "# Vectorized operations\n",
    "df['age'] = df['age'] + 1\n"
   ]
  },
  {
   "cell_type": "code",
   "execution_count": null,
   "metadata": {},
   "outputs": [],
   "source": [
    "Parallel Processing\n",
    "You can use Dask with Pandas for large datasets.\n",
    "\n",
    "import dask.dataframe as dd\n",
    "\n",
    "# Using Dask\n",
    "ddf = dd.from_pandas(df, npartitions=3)\n",
    "result = ddf.compute()\n"
   ]
  },
  {
   "cell_type": "code",
   "execution_count": null,
   "metadata": {},
   "outputs": [],
   "source": [
    "11. Pandas Extensions\n",
    "Styling DataFrames\n",
    "You can style DataFrames for better visual representation.\n",
    "\n",
    "# Styling DataFrame\n",
    "styled_df = df.style.applymap(lambda x: 'color: red' if x < 30 else 'color: green')\n"
   ]
  },
  {
   "cell_type": "code",
   "execution_count": null,
   "metadata": {},
   "outputs": [],
   "source": [
    "Pandas Extension Types\n",
    "You can create custom data types.\n",
    "\n",
    "import pandas as pd\n",
    "import pandas.api.extensions\n",
    "\n",
    "class CustomDtype(pandas.api.extensions.ExtensionDtype):\n",
    "    pass\n",
    "\n",
    "# Register the custom data type\n",
    "pd.api.extensions.register_extension_dtype(CustomDtype)\n"
   ]
  },
  {
   "cell_type": "code",
   "execution_count": null,
   "metadata": {},
   "outputs": [],
   "source": [
    "Integration with Other Libraries\n",
    "You can integrate Pandas with NumPy, Matplotlib, and Seaborn for advanced data analysis and visualization.\n",
    "\n",
    "import numpy as np\n",
    "import matplotlib.pyplot as plt\n",
    "import seaborn as sns\n",
    "\n",
    "# Using NumPy with Pandas\n",
    "df['random'] = np.random.randn(len(df))\n",
    "\n",
    "# Using Seaborn with Pandas\n",
    "sns.barplot(x='city', y='age', data=df)\n",
    "plt.show()\n"
   ]
  },
  {
   "cell_type": "code",
   "execution_count": null,
   "metadata": {},
   "outputs": [],
   "source": []
  }
 ],
 "metadata": {
  "kernelspec": {
   "display_name": "Python 3 (ipykernel)",
   "language": "python",
   "name": "python3"
  },
  "language_info": {
   "codemirror_mode": {
    "name": "ipython",
    "version": 3
   },
   "file_extension": ".py",
   "mimetype": "text/x-python",
   "name": "python",
   "nbconvert_exporter": "python",
   "pygments_lexer": "ipython3",
   "version": "3.10.12"
  }
 },
 "nbformat": 4,
 "nbformat_minor": 2
}
