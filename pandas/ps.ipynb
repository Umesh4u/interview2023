{
 "cells": [
  {
   "cell_type": "code",
   "execution_count": 1,
   "metadata": {
    "tags": []
   },
   "outputs": [],
   "source": [
    "Pandas is a Python library used for working with data sets. \n",
    "It has functions for \n",
    "\n",
    "analyzing, \n",
    "cleaning, \n",
    "exploring, \n",
    "and manipulating data."
   ]
  },
  {
   "cell_type": "code",
   "execution_count": 2,
   "metadata": {},
   "outputs": [],
   "source": [
    "import numpy as np\n",
    "import pandas as pd"
   ]
  },
  {
   "cell_type": "code",
   "execution_count": 3,
   "metadata": {
    "tags": []
   },
   "outputs": [],
   "source": [
    "df = pd.read_csv(r\"/home/kusum/Documents/interview2023/pandas/data/reddit_vm.csv\")"
   ]
  },
  {
   "cell_type": "code",
   "execution_count": 4,
   "metadata": {
    "tags": []
   },
   "outputs": [
    {
     "data": {
      "text/plain": [
       "(1465, 8)"
      ]
     },
     "execution_count": 4,
     "metadata": {},
     "output_type": "execute_result"
    }
   ],
   "source": [
    "df.shape"
   ]
  },
  {
   "cell_type": "code",
   "execution_count": 5,
   "metadata": {
    "tags": []
   },
   "outputs": [
    {
     "data": {
      "text/plain": [
       "Index(['title', 'score', 'id', 'url', 'comms_num', 'created', 'body',\n",
       "       'timestamp'],\n",
       "      dtype='object')"
      ]
     },
     "execution_count": 5,
     "metadata": {},
     "output_type": "execute_result"
    }
   ],
   "source": [
    "df.columns"
   ]
  },
  {
   "cell_type": "code",
   "execution_count": 6,
   "metadata": {
    "tags": []
   },
   "outputs": [
    {
     "data": {
      "text/html": [
       "<div>\n",
       "<style scoped>\n",
       "    .dataframe tbody tr th:only-of-type {\n",
       "        vertical-align: middle;\n",
       "    }\n",
       "\n",
       "    .dataframe tbody tr th {\n",
       "        vertical-align: top;\n",
       "    }\n",
       "\n",
       "    .dataframe thead th {\n",
       "        text-align: right;\n",
       "    }\n",
       "</style>\n",
       "<table border=\"1\" class=\"dataframe\">\n",
       "  <thead>\n",
       "    <tr style=\"text-align: right;\">\n",
       "      <th></th>\n",
       "      <th>title</th>\n",
       "      <th>score</th>\n",
       "      <th>id</th>\n",
       "      <th>url</th>\n",
       "      <th>comms_num</th>\n",
       "      <th>created</th>\n",
       "      <th>body</th>\n",
       "      <th>timestamp</th>\n",
       "    </tr>\n",
       "  </thead>\n",
       "  <tbody>\n",
       "    <tr>\n",
       "      <th>0</th>\n",
       "      <td>Health Canada approves AstraZeneca COVID-19 va...</td>\n",
       "      <td>7</td>\n",
       "      <td>lt74vw</td>\n",
       "      <td>https://www.canadaforums.ca/2021/02/health-can...</td>\n",
       "      <td>0</td>\n",
       "      <td>1.614400e+09</td>\n",
       "      <td>NaN</td>\n",
       "      <td>2021-02-27 06:33:45</td>\n",
       "    </tr>\n",
       "    <tr>\n",
       "      <th>1</th>\n",
       "      <td>COVID-19 in Canada: 'Vaccination passports' a ...</td>\n",
       "      <td>2</td>\n",
       "      <td>lsh0ij</td>\n",
       "      <td>https://www.canadaforums.ca/2021/02/covid-19-i...</td>\n",
       "      <td>1</td>\n",
       "      <td>1.614316e+09</td>\n",
       "      <td>NaN</td>\n",
       "      <td>2021-02-26 07:11:07</td>\n",
       "    </tr>\n",
       "    <tr>\n",
       "      <th>2</th>\n",
       "      <td>Coronavirus variants could fuel Canada's third...</td>\n",
       "      <td>6</td>\n",
       "      <td>lohlle</td>\n",
       "      <td>https://www.canadaforums.ca/2021/02/coronaviru...</td>\n",
       "      <td>0</td>\n",
       "      <td>1.613887e+09</td>\n",
       "      <td>NaN</td>\n",
       "      <td>2021-02-21 07:50:08</td>\n",
       "    </tr>\n",
       "    <tr>\n",
       "      <th>3</th>\n",
       "      <td>Canadian government to extend COVID-19 emergen...</td>\n",
       "      <td>1</td>\n",
       "      <td>lnptv8</td>\n",
       "      <td>https://www.canadaforums.ca/2021/02/canadian-g...</td>\n",
       "      <td>0</td>\n",
       "      <td>1.613796e+09</td>\n",
       "      <td>NaN</td>\n",
       "      <td>2021-02-20 06:35:13</td>\n",
       "    </tr>\n",
       "    <tr>\n",
       "      <th>4</th>\n",
       "      <td>Canada: Pfizer is 'extremely committed' to mee...</td>\n",
       "      <td>6</td>\n",
       "      <td>lkslm6</td>\n",
       "      <td>https://www.canadaforums.ca/2021/02/canada-pfi...</td>\n",
       "      <td>0</td>\n",
       "      <td>1.613468e+09</td>\n",
       "      <td>NaN</td>\n",
       "      <td>2021-02-16 11:36:28</td>\n",
       "    </tr>\n",
       "  </tbody>\n",
       "</table>\n",
       "</div>"
      ],
      "text/plain": [
       "                                               title  score      id  \\\n",
       "0  Health Canada approves AstraZeneca COVID-19 va...      7  lt74vw   \n",
       "1  COVID-19 in Canada: 'Vaccination passports' a ...      2  lsh0ij   \n",
       "2  Coronavirus variants could fuel Canada's third...      6  lohlle   \n",
       "3  Canadian government to extend COVID-19 emergen...      1  lnptv8   \n",
       "4  Canada: Pfizer is 'extremely committed' to mee...      6  lkslm6   \n",
       "\n",
       "                                                 url  comms_num       created  \\\n",
       "0  https://www.canadaforums.ca/2021/02/health-can...          0  1.614400e+09   \n",
       "1  https://www.canadaforums.ca/2021/02/covid-19-i...          1  1.614316e+09   \n",
       "2  https://www.canadaforums.ca/2021/02/coronaviru...          0  1.613887e+09   \n",
       "3  https://www.canadaforums.ca/2021/02/canadian-g...          0  1.613796e+09   \n",
       "4  https://www.canadaforums.ca/2021/02/canada-pfi...          0  1.613468e+09   \n",
       "\n",
       "  body            timestamp  \n",
       "0  NaN  2021-02-27 06:33:45  \n",
       "1  NaN  2021-02-26 07:11:07  \n",
       "2  NaN  2021-02-21 07:50:08  \n",
       "3  NaN  2021-02-20 06:35:13  \n",
       "4  NaN  2021-02-16 11:36:28  "
      ]
     },
     "execution_count": 6,
     "metadata": {},
     "output_type": "execute_result"
    }
   ],
   "source": [
    "df.head(5)"
   ]
  },
  {
   "cell_type": "code",
   "execution_count": 11,
   "metadata": {
    "tags": []
   },
   "outputs": [],
   "source": [
    "null_data = df[df.isna() == True]"
   ]
  },
  {
   "cell_type": "code",
   "execution_count": 14,
   "metadata": {
    "tags": []
   },
   "outputs": [
    {
     "data": {
      "text/html": [
       "<div>\n",
       "<style scoped>\n",
       "    .dataframe tbody tr th:only-of-type {\n",
       "        vertical-align: middle;\n",
       "    }\n",
       "\n",
       "    .dataframe tbody tr th {\n",
       "        vertical-align: top;\n",
       "    }\n",
       "\n",
       "    .dataframe thead th {\n",
       "        text-align: right;\n",
       "    }\n",
       "</style>\n",
       "<table border=\"1\" class=\"dataframe\">\n",
       "  <thead>\n",
       "    <tr style=\"text-align: right;\">\n",
       "      <th></th>\n",
       "      <th>score</th>\n",
       "      <th>comms_num</th>\n",
       "      <th>created</th>\n",
       "    </tr>\n",
       "  </thead>\n",
       "  <tbody>\n",
       "    <tr>\n",
       "      <th>count</th>\n",
       "      <td>1465.000000</td>\n",
       "      <td>1465.000000</td>\n",
       "      <td>1.465000e+03</td>\n",
       "    </tr>\n",
       "    <tr>\n",
       "      <th>mean</th>\n",
       "      <td>3.831399</td>\n",
       "      <td>1.937201</td>\n",
       "      <td>1.539977e+09</td>\n",
       "    </tr>\n",
       "    <tr>\n",
       "      <th>std</th>\n",
       "      <td>31.179777</td>\n",
       "      <td>16.847804</td>\n",
       "      <td>6.995478e+07</td>\n",
       "    </tr>\n",
       "    <tr>\n",
       "      <th>min</th>\n",
       "      <td>-12.000000</td>\n",
       "      <td>0.000000</td>\n",
       "      <td>1.389624e+09</td>\n",
       "    </tr>\n",
       "    <tr>\n",
       "      <th>25%</th>\n",
       "      <td>1.000000</td>\n",
       "      <td>0.000000</td>\n",
       "      <td>1.553497e+09</td>\n",
       "    </tr>\n",
       "    <tr>\n",
       "      <th>50%</th>\n",
       "      <td>1.000000</td>\n",
       "      <td>0.000000</td>\n",
       "      <td>1.565481e+09</td>\n",
       "    </tr>\n",
       "    <tr>\n",
       "      <th>75%</th>\n",
       "      <td>3.000000</td>\n",
       "      <td>1.000000</td>\n",
       "      <td>1.579690e+09</td>\n",
       "    </tr>\n",
       "    <tr>\n",
       "      <th>max</th>\n",
       "      <td>1184.000000</td>\n",
       "      <td>596.000000</td>\n",
       "      <td>1.616803e+09</td>\n",
       "    </tr>\n",
       "  </tbody>\n",
       "</table>\n",
       "</div>"
      ],
      "text/plain": [
       "             score    comms_num       created\n",
       "count  1465.000000  1465.000000  1.465000e+03\n",
       "mean      3.831399     1.937201  1.539977e+09\n",
       "std      31.179777    16.847804  6.995478e+07\n",
       "min     -12.000000     0.000000  1.389624e+09\n",
       "25%       1.000000     0.000000  1.553497e+09\n",
       "50%       1.000000     0.000000  1.565481e+09\n",
       "75%       3.000000     1.000000  1.579690e+09\n",
       "max    1184.000000   596.000000  1.616803e+09"
      ]
     },
     "execution_count": 14,
     "metadata": {},
     "output_type": "execute_result"
    }
   ],
   "source": [
    "df.describe()"
   ]
  },
  {
   "cell_type": "code",
   "execution_count": null,
   "metadata": {},
   "outputs": [],
   "source": [
    "series , dataframe"
   ]
  },
  {
   "cell_type": "code",
   "execution_count": 28,
   "metadata": {
    "tags": []
   },
   "outputs": [],
   "source": [
    "name = ['u','h']"
   ]
  },
  {
   "cell_type": "code",
   "execution_count": 29,
   "metadata": {
    "tags": []
   },
   "outputs": [],
   "source": [
    "ds = pd.Series(data=name)"
   ]
  },
  {
   "cell_type": "code",
   "execution_count": 30,
   "metadata": {
    "tags": []
   },
   "outputs": [
    {
     "data": {
      "text/plain": [
       "dtype('O')"
      ]
     },
     "execution_count": 30,
     "metadata": {},
     "output_type": "execute_result"
    }
   ],
   "source": [
    "ds.dtype"
   ]
  },
  {
   "cell_type": "code",
   "execution_count": 31,
   "metadata": {
    "tags": []
   },
   "outputs": [
    {
     "data": {
      "text/plain": [
       "dtype('O')"
      ]
     },
     "execution_count": 31,
     "metadata": {},
     "output_type": "execute_result"
    }
   ],
   "source": [
    "ds.dtypes"
   ]
  },
  {
   "cell_type": "code",
   "execution_count": 32,
   "metadata": {
    "tags": []
   },
   "outputs": [
    {
     "data": {
      "text/plain": [
       "0    u\n",
       "1    h\n",
       "dtype: object"
      ]
     },
     "execution_count": 32,
     "metadata": {},
     "output_type": "execute_result"
    }
   ],
   "source": [
    "ds"
   ]
  },
  {
   "cell_type": "code",
   "execution_count": 33,
   "metadata": {
    "tags": []
   },
   "outputs": [
    {
     "name": "stdout",
     "output_type": "stream",
     "text": [
      "a    1\n",
      "b    2\n",
      "c    3\n",
      "dtype: int64\n"
     ]
    }
   ],
   "source": [
    "data = {'a': 1, 'b': 2, 'c': 3}\n",
    "series = pd.Series(data)\n",
    "\n",
    "print(series)"
   ]
  },
  {
   "cell_type": "code",
   "execution_count": 39,
   "metadata": {
    "tags": []
   },
   "outputs": [
    {
     "data": {
      "text/plain": [
       "dtype('int64')"
      ]
     },
     "execution_count": 39,
     "metadata": {},
     "output_type": "execute_result"
    }
   ],
   "source": [
    "series.dtypes"
   ]
  },
  {
   "cell_type": "code",
   "execution_count": 42,
   "metadata": {
    "tags": []
   },
   "outputs": [
    {
     "data": {
      "text/html": [
       "<div>\n",
       "<style scoped>\n",
       "    .dataframe tbody tr th:only-of-type {\n",
       "        vertical-align: middle;\n",
       "    }\n",
       "\n",
       "    .dataframe tbody tr th {\n",
       "        vertical-align: top;\n",
       "    }\n",
       "\n",
       "    .dataframe thead th {\n",
       "        text-align: right;\n",
       "    }\n",
       "</style>\n",
       "<table border=\"1\" class=\"dataframe\">\n",
       "  <thead>\n",
       "    <tr style=\"text-align: right;\">\n",
       "      <th></th>\n",
       "      <th>title</th>\n",
       "      <th>score</th>\n",
       "      <th>id</th>\n",
       "      <th>url</th>\n",
       "      <th>comms_num</th>\n",
       "      <th>created</th>\n",
       "      <th>body</th>\n",
       "      <th>timestamp</th>\n",
       "    </tr>\n",
       "  </thead>\n",
       "  <tbody>\n",
       "    <tr>\n",
       "      <th>0</th>\n",
       "      <td>Health Canada approves AstraZeneca COVID-19 va...</td>\n",
       "      <td>7</td>\n",
       "      <td>lt74vw</td>\n",
       "      <td>https://www.canadaforums.ca/2021/02/health-can...</td>\n",
       "      <td>0</td>\n",
       "      <td>1.614400e+09</td>\n",
       "      <td>NaN</td>\n",
       "      <td>2021-02-27 06:33:45</td>\n",
       "    </tr>\n",
       "    <tr>\n",
       "      <th>1</th>\n",
       "      <td>COVID-19 in Canada: 'Vaccination passports' a ...</td>\n",
       "      <td>2</td>\n",
       "      <td>lsh0ij</td>\n",
       "      <td>https://www.canadaforums.ca/2021/02/covid-19-i...</td>\n",
       "      <td>1</td>\n",
       "      <td>1.614316e+09</td>\n",
       "      <td>NaN</td>\n",
       "      <td>2021-02-26 07:11:07</td>\n",
       "    </tr>\n",
       "    <tr>\n",
       "      <th>2</th>\n",
       "      <td>Coronavirus variants could fuel Canada's third...</td>\n",
       "      <td>6</td>\n",
       "      <td>lohlle</td>\n",
       "      <td>https://www.canadaforums.ca/2021/02/coronaviru...</td>\n",
       "      <td>0</td>\n",
       "      <td>1.613887e+09</td>\n",
       "      <td>NaN</td>\n",
       "      <td>2021-02-21 07:50:08</td>\n",
       "    </tr>\n",
       "    <tr>\n",
       "      <th>3</th>\n",
       "      <td>Canadian government to extend COVID-19 emergen...</td>\n",
       "      <td>1</td>\n",
       "      <td>lnptv8</td>\n",
       "      <td>https://www.canadaforums.ca/2021/02/canadian-g...</td>\n",
       "      <td>0</td>\n",
       "      <td>1.613796e+09</td>\n",
       "      <td>NaN</td>\n",
       "      <td>2021-02-20 06:35:13</td>\n",
       "    </tr>\n",
       "  </tbody>\n",
       "</table>\n",
       "</div>"
      ],
      "text/plain": [
       "                                               title  score      id  \\\n",
       "0  Health Canada approves AstraZeneca COVID-19 va...      7  lt74vw   \n",
       "1  COVID-19 in Canada: 'Vaccination passports' a ...      2  lsh0ij   \n",
       "2  Coronavirus variants could fuel Canada's third...      6  lohlle   \n",
       "3  Canadian government to extend COVID-19 emergen...      1  lnptv8   \n",
       "\n",
       "                                                 url  comms_num       created  \\\n",
       "0  https://www.canadaforums.ca/2021/02/health-can...          0  1.614400e+09   \n",
       "1  https://www.canadaforums.ca/2021/02/covid-19-i...          1  1.614316e+09   \n",
       "2  https://www.canadaforums.ca/2021/02/coronaviru...          0  1.613887e+09   \n",
       "3  https://www.canadaforums.ca/2021/02/canadian-g...          0  1.613796e+09   \n",
       "\n",
       "  body            timestamp  \n",
       "0  NaN  2021-02-27 06:33:45  \n",
       "1  NaN  2021-02-26 07:11:07  \n",
       "2  NaN  2021-02-21 07:50:08  \n",
       "3  NaN  2021-02-20 06:35:13  "
      ]
     },
     "execution_count": 42,
     "metadata": {},
     "output_type": "execute_result"
    }
   ],
   "source": [
    "df.head(4)"
   ]
  },
  {
   "cell_type": "code",
   "execution_count": 44,
   "metadata": {
    "tags": []
   },
   "outputs": [
    {
     "data": {
      "text/plain": [
       "title         object\n",
       "score          int64\n",
       "id            object\n",
       "url           object\n",
       "comms_num      int64\n",
       "created      float64\n",
       "body          object\n",
       "timestamp     object\n",
       "dtype: object"
      ]
     },
     "execution_count": 44,
     "metadata": {},
     "output_type": "execute_result"
    }
   ],
   "source": [
    "df.dtypes"
   ]
  },
  {
   "cell_type": "code",
   "execution_count": 45,
   "metadata": {
    "tags": []
   },
   "outputs": [
    {
     "data": {
      "text/plain": [
       "pandas.core.frame.DataFrame"
      ]
     },
     "execution_count": 45,
     "metadata": {},
     "output_type": "execute_result"
    }
   ],
   "source": [
    "type(df)"
   ]
  },
  {
   "cell_type": "code",
   "execution_count": 46,
   "metadata": {
    "tags": []
   },
   "outputs": [
    {
     "data": {
      "text/html": [
       "<div>\n",
       "<style scoped>\n",
       "    .dataframe tbody tr th:only-of-type {\n",
       "        vertical-align: middle;\n",
       "    }\n",
       "\n",
       "    .dataframe tbody tr th {\n",
       "        vertical-align: top;\n",
       "    }\n",
       "\n",
       "    .dataframe thead th {\n",
       "        text-align: right;\n",
       "    }\n",
       "</style>\n",
       "<table border=\"1\" class=\"dataframe\">\n",
       "  <thead>\n",
       "    <tr style=\"text-align: right;\">\n",
       "      <th></th>\n",
       "      <th>title</th>\n",
       "      <th>score</th>\n",
       "      <th>id</th>\n",
       "      <th>url</th>\n",
       "      <th>comms_num</th>\n",
       "      <th>created</th>\n",
       "      <th>body</th>\n",
       "      <th>timestamp</th>\n",
       "    </tr>\n",
       "  </thead>\n",
       "  <tbody>\n",
       "    <tr>\n",
       "      <th>0</th>\n",
       "      <td>Health Canada approves AstraZeneca COVID-19 va...</td>\n",
       "      <td>7</td>\n",
       "      <td>lt74vw</td>\n",
       "      <td>https://www.canadaforums.ca/2021/02/health-can...</td>\n",
       "      <td>0</td>\n",
       "      <td>1.614400e+09</td>\n",
       "      <td>NaN</td>\n",
       "      <td>2021-02-27 06:33:45</td>\n",
       "    </tr>\n",
       "    <tr>\n",
       "      <th>1</th>\n",
       "      <td>COVID-19 in Canada: 'Vaccination passports' a ...</td>\n",
       "      <td>2</td>\n",
       "      <td>lsh0ij</td>\n",
       "      <td>https://www.canadaforums.ca/2021/02/covid-19-i...</td>\n",
       "      <td>1</td>\n",
       "      <td>1.614316e+09</td>\n",
       "      <td>NaN</td>\n",
       "      <td>2021-02-26 07:11:07</td>\n",
       "    </tr>\n",
       "    <tr>\n",
       "      <th>2</th>\n",
       "      <td>Coronavirus variants could fuel Canada's third...</td>\n",
       "      <td>6</td>\n",
       "      <td>lohlle</td>\n",
       "      <td>https://www.canadaforums.ca/2021/02/coronaviru...</td>\n",
       "      <td>0</td>\n",
       "      <td>1.613887e+09</td>\n",
       "      <td>NaN</td>\n",
       "      <td>2021-02-21 07:50:08</td>\n",
       "    </tr>\n",
       "    <tr>\n",
       "      <th>3</th>\n",
       "      <td>Canadian government to extend COVID-19 emergen...</td>\n",
       "      <td>1</td>\n",
       "      <td>lnptv8</td>\n",
       "      <td>https://www.canadaforums.ca/2021/02/canadian-g...</td>\n",
       "      <td>0</td>\n",
       "      <td>1.613796e+09</td>\n",
       "      <td>NaN</td>\n",
       "      <td>2021-02-20 06:35:13</td>\n",
       "    </tr>\n",
       "    <tr>\n",
       "      <th>4</th>\n",
       "      <td>Canada: Pfizer is 'extremely committed' to mee...</td>\n",
       "      <td>6</td>\n",
       "      <td>lkslm6</td>\n",
       "      <td>https://www.canadaforums.ca/2021/02/canada-pfi...</td>\n",
       "      <td>0</td>\n",
       "      <td>1.613468e+09</td>\n",
       "      <td>NaN</td>\n",
       "      <td>2021-02-16 11:36:28</td>\n",
       "    </tr>\n",
       "    <tr>\n",
       "      <th>...</th>\n",
       "      <td>...</td>\n",
       "      <td>...</td>\n",
       "      <td>...</td>\n",
       "      <td>...</td>\n",
       "      <td>...</td>\n",
       "      <td>...</td>\n",
       "      <td>...</td>\n",
       "      <td>...</td>\n",
       "    </tr>\n",
       "    <tr>\n",
       "      <th>1460</th>\n",
       "      <td>Comment</td>\n",
       "      <td>2</td>\n",
       "      <td>ejyd6qo</td>\n",
       "      <td>NaN</td>\n",
       "      <td>0</td>\n",
       "      <td>1.554249e+09</td>\n",
       "      <td>Similar things can also be said about small gr...</td>\n",
       "      <td>2019-04-03 02:49:55</td>\n",
       "    </tr>\n",
       "    <tr>\n",
       "      <th>1461</th>\n",
       "      <td>Comment</td>\n",
       "      <td>4</td>\n",
       "      <td>ejyawnq</td>\n",
       "      <td>NaN</td>\n",
       "      <td>0</td>\n",
       "      <td>1.554247e+09</td>\n",
       "      <td>Who can't tell the difference between aluminiu...</td>\n",
       "      <td>2019-04-03 02:23:12</td>\n",
       "    </tr>\n",
       "    <tr>\n",
       "      <th>1462</th>\n",
       "      <td>Comment</td>\n",
       "      <td>-4</td>\n",
       "      <td>ejy5w08</td>\n",
       "      <td>NaN</td>\n",
       "      <td>0</td>\n",
       "      <td>1.554244e+09</td>\n",
       "      <td>Physicians for Informed Consent is a group of ...</td>\n",
       "      <td>2019-04-03 01:22:11</td>\n",
       "    </tr>\n",
       "    <tr>\n",
       "      <th>1463</th>\n",
       "      <td>Comment</td>\n",
       "      <td>1</td>\n",
       "      <td>ejy4sim</td>\n",
       "      <td>NaN</td>\n",
       "      <td>0</td>\n",
       "      <td>1.554243e+09</td>\n",
       "      <td>Lol</td>\n",
       "      <td>2019-04-03 01:08:03</td>\n",
       "    </tr>\n",
       "    <tr>\n",
       "      <th>1464</th>\n",
       "      <td>Comment</td>\n",
       "      <td>1</td>\n",
       "      <td>ejpwlwu</td>\n",
       "      <td>NaN</td>\n",
       "      <td>0</td>\n",
       "      <td>1.553958e+09</td>\n",
       "      <td>Sorry to hear about that.</td>\n",
       "      <td>2019-03-30 16:57:05</td>\n",
       "    </tr>\n",
       "  </tbody>\n",
       "</table>\n",
       "<p>1465 rows × 8 columns</p>\n",
       "</div>"
      ],
      "text/plain": [
       "                                                  title  score       id  \\\n",
       "0     Health Canada approves AstraZeneca COVID-19 va...      7   lt74vw   \n",
       "1     COVID-19 in Canada: 'Vaccination passports' a ...      2   lsh0ij   \n",
       "2     Coronavirus variants could fuel Canada's third...      6   lohlle   \n",
       "3     Canadian government to extend COVID-19 emergen...      1   lnptv8   \n",
       "4     Canada: Pfizer is 'extremely committed' to mee...      6   lkslm6   \n",
       "...                                                 ...    ...      ...   \n",
       "1460                                            Comment      2  ejyd6qo   \n",
       "1461                                            Comment      4  ejyawnq   \n",
       "1462                                            Comment     -4  ejy5w08   \n",
       "1463                                            Comment      1  ejy4sim   \n",
       "1464                                            Comment      1  ejpwlwu   \n",
       "\n",
       "                                                    url  comms_num  \\\n",
       "0     https://www.canadaforums.ca/2021/02/health-can...          0   \n",
       "1     https://www.canadaforums.ca/2021/02/covid-19-i...          1   \n",
       "2     https://www.canadaforums.ca/2021/02/coronaviru...          0   \n",
       "3     https://www.canadaforums.ca/2021/02/canadian-g...          0   \n",
       "4     https://www.canadaforums.ca/2021/02/canada-pfi...          0   \n",
       "...                                                 ...        ...   \n",
       "1460                                                NaN          0   \n",
       "1461                                                NaN          0   \n",
       "1462                                                NaN          0   \n",
       "1463                                                NaN          0   \n",
       "1464                                                NaN          0   \n",
       "\n",
       "           created                                               body  \\\n",
       "0     1.614400e+09                                                NaN   \n",
       "1     1.614316e+09                                                NaN   \n",
       "2     1.613887e+09                                                NaN   \n",
       "3     1.613796e+09                                                NaN   \n",
       "4     1.613468e+09                                                NaN   \n",
       "...            ...                                                ...   \n",
       "1460  1.554249e+09  Similar things can also be said about small gr...   \n",
       "1461  1.554247e+09  Who can't tell the difference between aluminiu...   \n",
       "1462  1.554244e+09  Physicians for Informed Consent is a group of ...   \n",
       "1463  1.554243e+09                                                Lol   \n",
       "1464  1.553958e+09                         Sorry to hear about that.    \n",
       "\n",
       "                timestamp  \n",
       "0     2021-02-27 06:33:45  \n",
       "1     2021-02-26 07:11:07  \n",
       "2     2021-02-21 07:50:08  \n",
       "3     2021-02-20 06:35:13  \n",
       "4     2021-02-16 11:36:28  \n",
       "...                   ...  \n",
       "1460  2019-04-03 02:49:55  \n",
       "1461  2019-04-03 02:23:12  \n",
       "1462  2019-04-03 01:22:11  \n",
       "1463  2019-04-03 01:08:03  \n",
       "1464  2019-03-30 16:57:05  \n",
       "\n",
       "[1465 rows x 8 columns]"
      ]
     },
     "execution_count": 46,
     "metadata": {},
     "output_type": "execute_result"
    }
   ],
   "source": [
    "df"
   ]
  },
  {
   "cell_type": "code",
   "execution_count": 47,
   "metadata": {
    "tags": []
   },
   "outputs": [
    {
     "data": {
      "text/plain": [
       "(1465, 8)"
      ]
     },
     "execution_count": 47,
     "metadata": {},
     "output_type": "execute_result"
    }
   ],
   "source": [
    "df.shape"
   ]
  },
  {
   "cell_type": "code",
   "execution_count": 49,
   "metadata": {
    "tags": []
   },
   "outputs": [
    {
     "data": {
      "text/plain": [
       "title           0\n",
       "score           0\n",
       "id              0\n",
       "url          1017\n",
       "comms_num       0\n",
       "created         0\n",
       "body          365\n",
       "timestamp       0\n",
       "dtype: int64"
      ]
     },
     "execution_count": 49,
     "metadata": {},
     "output_type": "execute_result"
    }
   ],
   "source": [
    "df.isna().sum()"
   ]
  },
  {
   "cell_type": "code",
   "execution_count": 53,
   "metadata": {
    "tags": []
   },
   "outputs": [],
   "source": [
    "new_data = df.isna()"
   ]
  },
  {
   "cell_type": "code",
   "execution_count": 51,
   "metadata": {
    "tags": []
   },
   "outputs": [],
   "source": [
    "url_data = df[new_data['url'] == True]"
   ]
  },
  {
   "cell_type": "code",
   "execution_count": 52,
   "metadata": {
    "tags": []
   },
   "outputs": [
    {
     "data": {
      "text/html": [
       "<div>\n",
       "<style scoped>\n",
       "    .dataframe tbody tr th:only-of-type {\n",
       "        vertical-align: middle;\n",
       "    }\n",
       "\n",
       "    .dataframe tbody tr th {\n",
       "        vertical-align: top;\n",
       "    }\n",
       "\n",
       "    .dataframe thead th {\n",
       "        text-align: right;\n",
       "    }\n",
       "</style>\n",
       "<table border=\"1\" class=\"dataframe\">\n",
       "  <thead>\n",
       "    <tr style=\"text-align: right;\">\n",
       "      <th></th>\n",
       "      <th>title</th>\n",
       "      <th>score</th>\n",
       "      <th>id</th>\n",
       "      <th>url</th>\n",
       "      <th>comms_num</th>\n",
       "      <th>created</th>\n",
       "      <th>body</th>\n",
       "      <th>timestamp</th>\n",
       "    </tr>\n",
       "  </thead>\n",
       "  <tbody>\n",
       "    <tr>\n",
       "      <th>6</th>\n",
       "      <td>Comment</td>\n",
       "      <td>1</td>\n",
       "      <td>ej9x066</td>\n",
       "      <td>NaN</td>\n",
       "      <td>0</td>\n",
       "      <td>1.553474e+09</td>\n",
       "      <td>Your OP. It's not a myth. Only one vaccine con...</td>\n",
       "      <td>2019-03-25 02:34:53</td>\n",
       "    </tr>\n",
       "    <tr>\n",
       "      <th>8</th>\n",
       "      <td>Comment</td>\n",
       "      <td>0</td>\n",
       "      <td>fofa0yy</td>\n",
       "      <td>NaN</td>\n",
       "      <td>0</td>\n",
       "      <td>1.587760e+09</td>\n",
       "      <td>Because Anti-Vaxxers have no sense</td>\n",
       "      <td>2020-04-24 23:19:50</td>\n",
       "    </tr>\n",
       "    <tr>\n",
       "      <th>9</th>\n",
       "      <td>Comment</td>\n",
       "      <td>0</td>\n",
       "      <td>ej9xuaf</td>\n",
       "      <td>NaN</td>\n",
       "      <td>0</td>\n",
       "      <td>1.553475e+09</td>\n",
       "      <td>What do you mean by \"your OP\". I am fairly new...</td>\n",
       "      <td>2019-03-25 02:45:21</td>\n",
       "    </tr>\n",
       "    <tr>\n",
       "      <th>10</th>\n",
       "      <td>Comment</td>\n",
       "      <td>1</td>\n",
       "      <td>ej9x2qr</td>\n",
       "      <td>NaN</td>\n",
       "      <td>0</td>\n",
       "      <td>1.553474e+09</td>\n",
       "      <td>When they say there's no thimerasol, they mean...</td>\n",
       "      <td>2019-03-25 02:35:47</td>\n",
       "    </tr>\n",
       "    <tr>\n",
       "      <th>11</th>\n",
       "      <td>Comment</td>\n",
       "      <td>2</td>\n",
       "      <td>ejacj98</td>\n",
       "      <td>NaN</td>\n",
       "      <td>0</td>\n",
       "      <td>1.553486e+09</td>\n",
       "      <td>The \"myth\" you're debunking is in regards to t...</td>\n",
       "      <td>2019-03-25 05:50:20</td>\n",
       "    </tr>\n",
       "    <tr>\n",
       "      <th>...</th>\n",
       "      <td>...</td>\n",
       "      <td>...</td>\n",
       "      <td>...</td>\n",
       "      <td>...</td>\n",
       "      <td>...</td>\n",
       "      <td>...</td>\n",
       "      <td>...</td>\n",
       "      <td>...</td>\n",
       "    </tr>\n",
       "    <tr>\n",
       "      <th>1460</th>\n",
       "      <td>Comment</td>\n",
       "      <td>2</td>\n",
       "      <td>ejyd6qo</td>\n",
       "      <td>NaN</td>\n",
       "      <td>0</td>\n",
       "      <td>1.554249e+09</td>\n",
       "      <td>Similar things can also be said about small gr...</td>\n",
       "      <td>2019-04-03 02:49:55</td>\n",
       "    </tr>\n",
       "    <tr>\n",
       "      <th>1461</th>\n",
       "      <td>Comment</td>\n",
       "      <td>4</td>\n",
       "      <td>ejyawnq</td>\n",
       "      <td>NaN</td>\n",
       "      <td>0</td>\n",
       "      <td>1.554247e+09</td>\n",
       "      <td>Who can't tell the difference between aluminiu...</td>\n",
       "      <td>2019-04-03 02:23:12</td>\n",
       "    </tr>\n",
       "    <tr>\n",
       "      <th>1462</th>\n",
       "      <td>Comment</td>\n",
       "      <td>-4</td>\n",
       "      <td>ejy5w08</td>\n",
       "      <td>NaN</td>\n",
       "      <td>0</td>\n",
       "      <td>1.554244e+09</td>\n",
       "      <td>Physicians for Informed Consent is a group of ...</td>\n",
       "      <td>2019-04-03 01:22:11</td>\n",
       "    </tr>\n",
       "    <tr>\n",
       "      <th>1463</th>\n",
       "      <td>Comment</td>\n",
       "      <td>1</td>\n",
       "      <td>ejy4sim</td>\n",
       "      <td>NaN</td>\n",
       "      <td>0</td>\n",
       "      <td>1.554243e+09</td>\n",
       "      <td>Lol</td>\n",
       "      <td>2019-04-03 01:08:03</td>\n",
       "    </tr>\n",
       "    <tr>\n",
       "      <th>1464</th>\n",
       "      <td>Comment</td>\n",
       "      <td>1</td>\n",
       "      <td>ejpwlwu</td>\n",
       "      <td>NaN</td>\n",
       "      <td>0</td>\n",
       "      <td>1.553958e+09</td>\n",
       "      <td>Sorry to hear about that.</td>\n",
       "      <td>2019-03-30 16:57:05</td>\n",
       "    </tr>\n",
       "  </tbody>\n",
       "</table>\n",
       "<p>1017 rows × 8 columns</p>\n",
       "</div>"
      ],
      "text/plain": [
       "        title  score       id  url  comms_num       created  \\\n",
       "6     Comment      1  ej9x066  NaN          0  1.553474e+09   \n",
       "8     Comment      0  fofa0yy  NaN          0  1.587760e+09   \n",
       "9     Comment      0  ej9xuaf  NaN          0  1.553475e+09   \n",
       "10    Comment      1  ej9x2qr  NaN          0  1.553474e+09   \n",
       "11    Comment      2  ejacj98  NaN          0  1.553486e+09   \n",
       "...       ...    ...      ...  ...        ...           ...   \n",
       "1460  Comment      2  ejyd6qo  NaN          0  1.554249e+09   \n",
       "1461  Comment      4  ejyawnq  NaN          0  1.554247e+09   \n",
       "1462  Comment     -4  ejy5w08  NaN          0  1.554244e+09   \n",
       "1463  Comment      1  ejy4sim  NaN          0  1.554243e+09   \n",
       "1464  Comment      1  ejpwlwu  NaN          0  1.553958e+09   \n",
       "\n",
       "                                                   body            timestamp  \n",
       "6     Your OP. It's not a myth. Only one vaccine con...  2019-03-25 02:34:53  \n",
       "8                    Because Anti-Vaxxers have no sense  2020-04-24 23:19:50  \n",
       "9     What do you mean by \"your OP\". I am fairly new...  2019-03-25 02:45:21  \n",
       "10    When they say there's no thimerasol, they mean...  2019-03-25 02:35:47  \n",
       "11    The \"myth\" you're debunking is in regards to t...  2019-03-25 05:50:20  \n",
       "...                                                 ...                  ...  \n",
       "1460  Similar things can also be said about small gr...  2019-04-03 02:49:55  \n",
       "1461  Who can't tell the difference between aluminiu...  2019-04-03 02:23:12  \n",
       "1462  Physicians for Informed Consent is a group of ...  2019-04-03 01:22:11  \n",
       "1463                                                Lol  2019-04-03 01:08:03  \n",
       "1464                         Sorry to hear about that.   2019-03-30 16:57:05  \n",
       "\n",
       "[1017 rows x 8 columns]"
      ]
     },
     "execution_count": 52,
     "metadata": {},
     "output_type": "execute_result"
    }
   ],
   "source": [
    "url_data"
   ]
  },
  {
   "cell_type": "code",
   "execution_count": 54,
   "metadata": {
    "tags": []
   },
   "outputs": [
    {
     "data": {
      "text/plain": [
       "0       False\n",
       "1       False\n",
       "2       False\n",
       "3       False\n",
       "4       False\n",
       "        ...  \n",
       "1460     True\n",
       "1461     True\n",
       "1462     True\n",
       "1463     True\n",
       "1464     True\n",
       "Name: url, Length: 1465, dtype: bool"
      ]
     },
     "execution_count": 54,
     "metadata": {},
     "output_type": "execute_result"
    }
   ],
   "source": [
    "new_data['url']"
   ]
  },
  {
   "cell_type": "code",
   "execution_count": 56,
   "metadata": {
    "tags": []
   },
   "outputs": [
    {
     "data": {
      "text/plain": [
       "(1465, 8)"
      ]
     },
     "execution_count": 56,
     "metadata": {},
     "output_type": "execute_result"
    }
   ],
   "source": [
    "df.shape"
   ]
  },
  {
   "cell_type": "code",
   "execution_count": 59,
   "metadata": {
    "tags": []
   },
   "outputs": [],
   "source": [
    "new_data = df.dropna(axis=1,inplace=True)"
   ]
  },
  {
   "cell_type": "code",
   "execution_count": 62,
   "metadata": {
    "tags": []
   },
   "outputs": [
    {
     "data": {
      "text/html": [
       "<div>\n",
       "<style scoped>\n",
       "    .dataframe tbody tr th:only-of-type {\n",
       "        vertical-align: middle;\n",
       "    }\n",
       "\n",
       "    .dataframe tbody tr th {\n",
       "        vertical-align: top;\n",
       "    }\n",
       "\n",
       "    .dataframe thead th {\n",
       "        text-align: right;\n",
       "    }\n",
       "</style>\n",
       "<table border=\"1\" class=\"dataframe\">\n",
       "  <thead>\n",
       "    <tr style=\"text-align: right;\">\n",
       "      <th></th>\n",
       "      <th>title</th>\n",
       "      <th>score</th>\n",
       "      <th>id</th>\n",
       "      <th>comms_num</th>\n",
       "      <th>created</th>\n",
       "      <th>timestamp</th>\n",
       "    </tr>\n",
       "  </thead>\n",
       "  <tbody>\n",
       "    <tr>\n",
       "      <th>0</th>\n",
       "      <td>Health Canada approves AstraZeneca COVID-19 va...</td>\n",
       "      <td>7</td>\n",
       "      <td>lt74vw</td>\n",
       "      <td>0</td>\n",
       "      <td>1.614400e+09</td>\n",
       "      <td>2021-02-27 06:33:45</td>\n",
       "    </tr>\n",
       "    <tr>\n",
       "      <th>1</th>\n",
       "      <td>COVID-19 in Canada: 'Vaccination passports' a ...</td>\n",
       "      <td>2</td>\n",
       "      <td>lsh0ij</td>\n",
       "      <td>1</td>\n",
       "      <td>1.614316e+09</td>\n",
       "      <td>2021-02-26 07:11:07</td>\n",
       "    </tr>\n",
       "    <tr>\n",
       "      <th>2</th>\n",
       "      <td>Coronavirus variants could fuel Canada's third...</td>\n",
       "      <td>6</td>\n",
       "      <td>lohlle</td>\n",
       "      <td>0</td>\n",
       "      <td>1.613887e+09</td>\n",
       "      <td>2021-02-21 07:50:08</td>\n",
       "    </tr>\n",
       "    <tr>\n",
       "      <th>3</th>\n",
       "      <td>Canadian government to extend COVID-19 emergen...</td>\n",
       "      <td>1</td>\n",
       "      <td>lnptv8</td>\n",
       "      <td>0</td>\n",
       "      <td>1.613796e+09</td>\n",
       "      <td>2021-02-20 06:35:13</td>\n",
       "    </tr>\n",
       "    <tr>\n",
       "      <th>4</th>\n",
       "      <td>Canada: Pfizer is 'extremely committed' to mee...</td>\n",
       "      <td>6</td>\n",
       "      <td>lkslm6</td>\n",
       "      <td>0</td>\n",
       "      <td>1.613468e+09</td>\n",
       "      <td>2021-02-16 11:36:28</td>\n",
       "    </tr>\n",
       "    <tr>\n",
       "      <th>...</th>\n",
       "      <td>...</td>\n",
       "      <td>...</td>\n",
       "      <td>...</td>\n",
       "      <td>...</td>\n",
       "      <td>...</td>\n",
       "      <td>...</td>\n",
       "    </tr>\n",
       "    <tr>\n",
       "      <th>1460</th>\n",
       "      <td>Comment</td>\n",
       "      <td>2</td>\n",
       "      <td>ejyd6qo</td>\n",
       "      <td>0</td>\n",
       "      <td>1.554249e+09</td>\n",
       "      <td>2019-04-03 02:49:55</td>\n",
       "    </tr>\n",
       "    <tr>\n",
       "      <th>1461</th>\n",
       "      <td>Comment</td>\n",
       "      <td>4</td>\n",
       "      <td>ejyawnq</td>\n",
       "      <td>0</td>\n",
       "      <td>1.554247e+09</td>\n",
       "      <td>2019-04-03 02:23:12</td>\n",
       "    </tr>\n",
       "    <tr>\n",
       "      <th>1462</th>\n",
       "      <td>Comment</td>\n",
       "      <td>-4</td>\n",
       "      <td>ejy5w08</td>\n",
       "      <td>0</td>\n",
       "      <td>1.554244e+09</td>\n",
       "      <td>2019-04-03 01:22:11</td>\n",
       "    </tr>\n",
       "    <tr>\n",
       "      <th>1463</th>\n",
       "      <td>Comment</td>\n",
       "      <td>1</td>\n",
       "      <td>ejy4sim</td>\n",
       "      <td>0</td>\n",
       "      <td>1.554243e+09</td>\n",
       "      <td>2019-04-03 01:08:03</td>\n",
       "    </tr>\n",
       "    <tr>\n",
       "      <th>1464</th>\n",
       "      <td>Comment</td>\n",
       "      <td>1</td>\n",
       "      <td>ejpwlwu</td>\n",
       "      <td>0</td>\n",
       "      <td>1.553958e+09</td>\n",
       "      <td>2019-03-30 16:57:05</td>\n",
       "    </tr>\n",
       "  </tbody>\n",
       "</table>\n",
       "<p>1465 rows × 6 columns</p>\n",
       "</div>"
      ],
      "text/plain": [
       "                                                  title  score       id  \\\n",
       "0     Health Canada approves AstraZeneca COVID-19 va...      7   lt74vw   \n",
       "1     COVID-19 in Canada: 'Vaccination passports' a ...      2   lsh0ij   \n",
       "2     Coronavirus variants could fuel Canada's third...      6   lohlle   \n",
       "3     Canadian government to extend COVID-19 emergen...      1   lnptv8   \n",
       "4     Canada: Pfizer is 'extremely committed' to mee...      6   lkslm6   \n",
       "...                                                 ...    ...      ...   \n",
       "1460                                            Comment      2  ejyd6qo   \n",
       "1461                                            Comment      4  ejyawnq   \n",
       "1462                                            Comment     -4  ejy5w08   \n",
       "1463                                            Comment      1  ejy4sim   \n",
       "1464                                            Comment      1  ejpwlwu   \n",
       "\n",
       "      comms_num       created            timestamp  \n",
       "0             0  1.614400e+09  2021-02-27 06:33:45  \n",
       "1             1  1.614316e+09  2021-02-26 07:11:07  \n",
       "2             0  1.613887e+09  2021-02-21 07:50:08  \n",
       "3             0  1.613796e+09  2021-02-20 06:35:13  \n",
       "4             0  1.613468e+09  2021-02-16 11:36:28  \n",
       "...         ...           ...                  ...  \n",
       "1460          0  1.554249e+09  2019-04-03 02:49:55  \n",
       "1461          0  1.554247e+09  2019-04-03 02:23:12  \n",
       "1462          0  1.554244e+09  2019-04-03 01:22:11  \n",
       "1463          0  1.554243e+09  2019-04-03 01:08:03  \n",
       "1464          0  1.553958e+09  2019-03-30 16:57:05  \n",
       "\n",
       "[1465 rows x 6 columns]"
      ]
     },
     "execution_count": 62,
     "metadata": {},
     "output_type": "execute_result"
    }
   ],
   "source": [
    "df"
   ]
  },
  {
   "cell_type": "code",
   "execution_count": 64,
   "metadata": {
    "tags": []
   },
   "outputs": [
    {
     "data": {
      "text/plain": [
       "(1465, 8)"
      ]
     },
     "execution_count": 64,
     "metadata": {},
     "output_type": "execute_result"
    }
   ],
   "source": [
    "df.shape"
   ]
  },
  {
   "cell_type": "code",
   "execution_count": 76,
   "metadata": {
    "tags": []
   },
   "outputs": [],
   "source": [
    "new_data = df.dropna()"
   ]
  },
  {
   "cell_type": "code",
   "execution_count": 75,
   "metadata": {
    "tags": []
   },
   "outputs": [
    {
     "data": {
      "text/plain": [
       "(1465, 8)"
      ]
     },
     "execution_count": 75,
     "metadata": {},
     "output_type": "execute_result"
    }
   ],
   "source": [
    "df.shape"
   ]
  },
  {
   "cell_type": "code",
   "execution_count": 78,
   "metadata": {
    "tags": []
   },
   "outputs": [
    {
     "data": {
      "text/plain": [
       "(83, 8)"
      ]
     },
     "execution_count": 78,
     "metadata": {},
     "output_type": "execute_result"
    }
   ],
   "source": [
    "new_data.shape"
   ]
  },
  {
   "cell_type": "code",
   "execution_count": 79,
   "metadata": {
    "tags": []
   },
   "outputs": [
    {
     "data": {
      "text/html": [
       "<div>\n",
       "<style scoped>\n",
       "    .dataframe tbody tr th:only-of-type {\n",
       "        vertical-align: middle;\n",
       "    }\n",
       "\n",
       "    .dataframe tbody tr th {\n",
       "        vertical-align: top;\n",
       "    }\n",
       "\n",
       "    .dataframe thead th {\n",
       "        text-align: right;\n",
       "    }\n",
       "</style>\n",
       "<table border=\"1\" class=\"dataframe\">\n",
       "  <thead>\n",
       "    <tr style=\"text-align: right;\">\n",
       "      <th></th>\n",
       "      <th>title</th>\n",
       "      <th>score</th>\n",
       "      <th>id</th>\n",
       "      <th>url</th>\n",
       "      <th>comms_num</th>\n",
       "      <th>created</th>\n",
       "      <th>body</th>\n",
       "      <th>timestamp</th>\n",
       "    </tr>\n",
       "  </thead>\n",
       "  <tbody>\n",
       "    <tr>\n",
       "      <th>0</th>\n",
       "      <td>Health Canada approves AstraZeneca COVID-19 va...</td>\n",
       "      <td>7</td>\n",
       "      <td>lt74vw</td>\n",
       "      <td>https://www.canadaforums.ca/2021/02/health-can...</td>\n",
       "      <td>0</td>\n",
       "      <td>1.614400e+09</td>\n",
       "      <td>NaN</td>\n",
       "      <td>2021-02-27 06:33:45</td>\n",
       "    </tr>\n",
       "    <tr>\n",
       "      <th>1</th>\n",
       "      <td>COVID-19 in Canada: 'Vaccination passports' a ...</td>\n",
       "      <td>2</td>\n",
       "      <td>lsh0ij</td>\n",
       "      <td>https://www.canadaforums.ca/2021/02/covid-19-i...</td>\n",
       "      <td>1</td>\n",
       "      <td>1.614316e+09</td>\n",
       "      <td>NaN</td>\n",
       "      <td>2021-02-26 07:11:07</td>\n",
       "    </tr>\n",
       "    <tr>\n",
       "      <th>2</th>\n",
       "      <td>Coronavirus variants could fuel Canada's third...</td>\n",
       "      <td>6</td>\n",
       "      <td>lohlle</td>\n",
       "      <td>https://www.canadaforums.ca/2021/02/coronaviru...</td>\n",
       "      <td>0</td>\n",
       "      <td>1.613887e+09</td>\n",
       "      <td>NaN</td>\n",
       "      <td>2021-02-21 07:50:08</td>\n",
       "    </tr>\n",
       "    <tr>\n",
       "      <th>3</th>\n",
       "      <td>Canadian government to extend COVID-19 emergen...</td>\n",
       "      <td>1</td>\n",
       "      <td>lnptv8</td>\n",
       "      <td>https://www.canadaforums.ca/2021/02/canadian-g...</td>\n",
       "      <td>0</td>\n",
       "      <td>1.613796e+09</td>\n",
       "      <td>NaN</td>\n",
       "      <td>2021-02-20 06:35:13</td>\n",
       "    </tr>\n",
       "    <tr>\n",
       "      <th>4</th>\n",
       "      <td>Canada: Pfizer is 'extremely committed' to mee...</td>\n",
       "      <td>6</td>\n",
       "      <td>lkslm6</td>\n",
       "      <td>https://www.canadaforums.ca/2021/02/canada-pfi...</td>\n",
       "      <td>0</td>\n",
       "      <td>1.613468e+09</td>\n",
       "      <td>NaN</td>\n",
       "      <td>2021-02-16 11:36:28</td>\n",
       "    </tr>\n",
       "    <tr>\n",
       "      <th>...</th>\n",
       "      <td>...</td>\n",
       "      <td>...</td>\n",
       "      <td>...</td>\n",
       "      <td>...</td>\n",
       "      <td>...</td>\n",
       "      <td>...</td>\n",
       "      <td>...</td>\n",
       "      <td>...</td>\n",
       "    </tr>\n",
       "    <tr>\n",
       "      <th>1460</th>\n",
       "      <td>Comment</td>\n",
       "      <td>2</td>\n",
       "      <td>ejyd6qo</td>\n",
       "      <td>NaN</td>\n",
       "      <td>0</td>\n",
       "      <td>1.554249e+09</td>\n",
       "      <td>Similar things can also be said about small gr...</td>\n",
       "      <td>2019-04-03 02:49:55</td>\n",
       "    </tr>\n",
       "    <tr>\n",
       "      <th>1461</th>\n",
       "      <td>Comment</td>\n",
       "      <td>4</td>\n",
       "      <td>ejyawnq</td>\n",
       "      <td>NaN</td>\n",
       "      <td>0</td>\n",
       "      <td>1.554247e+09</td>\n",
       "      <td>Who can't tell the difference between aluminiu...</td>\n",
       "      <td>2019-04-03 02:23:12</td>\n",
       "    </tr>\n",
       "    <tr>\n",
       "      <th>1462</th>\n",
       "      <td>Comment</td>\n",
       "      <td>-4</td>\n",
       "      <td>ejy5w08</td>\n",
       "      <td>NaN</td>\n",
       "      <td>0</td>\n",
       "      <td>1.554244e+09</td>\n",
       "      <td>Physicians for Informed Consent is a group of ...</td>\n",
       "      <td>2019-04-03 01:22:11</td>\n",
       "    </tr>\n",
       "    <tr>\n",
       "      <th>1463</th>\n",
       "      <td>Comment</td>\n",
       "      <td>1</td>\n",
       "      <td>ejy4sim</td>\n",
       "      <td>NaN</td>\n",
       "      <td>0</td>\n",
       "      <td>1.554243e+09</td>\n",
       "      <td>Lol</td>\n",
       "      <td>2019-04-03 01:08:03</td>\n",
       "    </tr>\n",
       "    <tr>\n",
       "      <th>1464</th>\n",
       "      <td>Comment</td>\n",
       "      <td>1</td>\n",
       "      <td>ejpwlwu</td>\n",
       "      <td>NaN</td>\n",
       "      <td>0</td>\n",
       "      <td>1.553958e+09</td>\n",
       "      <td>Sorry to hear about that.</td>\n",
       "      <td>2019-03-30 16:57:05</td>\n",
       "    </tr>\n",
       "  </tbody>\n",
       "</table>\n",
       "<p>1465 rows × 8 columns</p>\n",
       "</div>"
      ],
      "text/plain": [
       "                                                  title  score       id  \\\n",
       "0     Health Canada approves AstraZeneca COVID-19 va...      7   lt74vw   \n",
       "1     COVID-19 in Canada: 'Vaccination passports' a ...      2   lsh0ij   \n",
       "2     Coronavirus variants could fuel Canada's third...      6   lohlle   \n",
       "3     Canadian government to extend COVID-19 emergen...      1   lnptv8   \n",
       "4     Canada: Pfizer is 'extremely committed' to mee...      6   lkslm6   \n",
       "...                                                 ...    ...      ...   \n",
       "1460                                            Comment      2  ejyd6qo   \n",
       "1461                                            Comment      4  ejyawnq   \n",
       "1462                                            Comment     -4  ejy5w08   \n",
       "1463                                            Comment      1  ejy4sim   \n",
       "1464                                            Comment      1  ejpwlwu   \n",
       "\n",
       "                                                    url  comms_num  \\\n",
       "0     https://www.canadaforums.ca/2021/02/health-can...          0   \n",
       "1     https://www.canadaforums.ca/2021/02/covid-19-i...          1   \n",
       "2     https://www.canadaforums.ca/2021/02/coronaviru...          0   \n",
       "3     https://www.canadaforums.ca/2021/02/canadian-g...          0   \n",
       "4     https://www.canadaforums.ca/2021/02/canada-pfi...          0   \n",
       "...                                                 ...        ...   \n",
       "1460                                                NaN          0   \n",
       "1461                                                NaN          0   \n",
       "1462                                                NaN          0   \n",
       "1463                                                NaN          0   \n",
       "1464                                                NaN          0   \n",
       "\n",
       "           created                                               body  \\\n",
       "0     1.614400e+09                                                NaN   \n",
       "1     1.614316e+09                                                NaN   \n",
       "2     1.613887e+09                                                NaN   \n",
       "3     1.613796e+09                                                NaN   \n",
       "4     1.613468e+09                                                NaN   \n",
       "...            ...                                                ...   \n",
       "1460  1.554249e+09  Similar things can also be said about small gr...   \n",
       "1461  1.554247e+09  Who can't tell the difference between aluminiu...   \n",
       "1462  1.554244e+09  Physicians for Informed Consent is a group of ...   \n",
       "1463  1.554243e+09                                                Lol   \n",
       "1464  1.553958e+09                         Sorry to hear about that.    \n",
       "\n",
       "                timestamp  \n",
       "0     2021-02-27 06:33:45  \n",
       "1     2021-02-26 07:11:07  \n",
       "2     2021-02-21 07:50:08  \n",
       "3     2021-02-20 06:35:13  \n",
       "4     2021-02-16 11:36:28  \n",
       "...                   ...  \n",
       "1460  2019-04-03 02:49:55  \n",
       "1461  2019-04-03 02:23:12  \n",
       "1462  2019-04-03 01:22:11  \n",
       "1463  2019-04-03 01:08:03  \n",
       "1464  2019-03-30 16:57:05  \n",
       "\n",
       "[1465 rows x 8 columns]"
      ]
     },
     "execution_count": 79,
     "metadata": {},
     "output_type": "execute_result"
    }
   ],
   "source": [
    "df"
   ]
  },
  {
   "cell_type": "code",
   "execution_count": 85,
   "metadata": {
    "tags": []
   },
   "outputs": [
    {
     "ename": "SyntaxError",
     "evalue": "invalid syntax (1300584642.py, line 2)",
     "output_type": "error",
     "traceback": [
      "\u001b[1;36m  Cell \u001b[1;32mIn[85], line 2\u001b[1;36m\u001b[0m\n\u001b[1;33m    for i super_strin df['title']:\u001b[0m\n\u001b[1;37m          ^\u001b[0m\n\u001b[1;31mSyntaxError\u001b[0m\u001b[1;31m:\u001b[0m invalid syntax\n"
     ]
    }
   ],
   "source": [
    "super_str = ''\n",
    "for i super_strin df['title']:\n",
    "    if i != 'Comment':\n",
    "        super_str += i"
   ]
  },
  {
   "cell_type": "code",
   "execution_count": null,
   "metadata": {},
   "outputs": [],
   "source": []
  },
  {
   "cell_type": "code",
   "execution_count": 83,
   "metadata": {
    "tags": []
   },
   "outputs": [],
   "source": [
    "new_data = df[df['title'] == 'Comment'].count()"
   ]
  },
  {
   "cell_type": "code",
   "execution_count": 84,
   "metadata": {
    "tags": []
   },
   "outputs": [
    {
     "data": {
      "text/plain": [
       "title        1017\n",
       "score        1017\n",
       "id           1017\n",
       "url             0\n",
       "comms_num    1017\n",
       "created      1017\n",
       "body         1017\n",
       "timestamp    1017\n",
       "dtype: int64"
      ]
     },
     "execution_count": 84,
     "metadata": {},
     "output_type": "execute_result"
    }
   ],
   "source": [
    "new_data"
   ]
  },
  {
   "cell_type": "code",
   "execution_count": 88,
   "metadata": {
    "tags": []
   },
   "outputs": [
    {
     "name": "stdout",
     "output_type": "stream",
     "text": [
      "1017\n"
     ]
    }
   ],
   "source": [
    "str = ''\n",
    "\n",
    "count = 0\n",
    "\n",
    "for i in df['title']:\n",
    "    if i == 'Comment':\n",
    "        count += 1\n",
    "print(count)"
   ]
  },
  {
   "cell_type": "code",
   "execution_count": 92,
   "metadata": {
    "tags": []
   },
   "outputs": [
    {
     "data": {
      "text/plain": [
       "'Health Canada approves AstraZeneca COVID-19 vaccineCOVID-19 in Canada: \\'Vaccination passports\\' a near certainty says bio-ethicistCoronavirus variants could fuel Canada\\'s third waveCanadian government to extend COVID-19 emergency benefitsCanada: Pfizer is \\'extremely committed\\' to meeting vaccine delivery targetsCanada: Oxford-AstraZeneca vaccine approval expected this weekFuck you anti-vaxxing retardsIs My COVID Vaccine Response Linked to My Immunity Level?Beyond the Vaccine with Celeste SolumAntiVax Nonsense Nothing NewPfizer covid vaccine second shotCOVID-19: Músicos que han recibido la vacunaNow Casting COVID-19 Vaccine Volunteers, Freezer Truck Drivers, and Others!Beer after corona vaccinationWaiting for vaccineA great article: myths vs facts of the Covid vaccineVietnam\\'s Covid-19 vaccine, Nanocovax effective on variants: university \\'Vietnam is currently working on four Covid-19 vaccines produced by Nanogen, the Institute of Vaccines and Medical Biologicals..\\'PertussisSobre las vacunas para el COVID19, compilación de textos científicos y opinión personal.If someone tells you the vaccine contains a microchip, ask them what would be the point.When do we expect to see that the vaccine starts to slow down the pandemic in the US?Homeopaths (and other SCAM practitioners) are peddling dangerous myths*SCIENTIFICALLY PROVEN*, verified and established FACTS to immediately shut down the arguments of an uneducated anti-vaxxer. This post contains facts that will help you win any vaccine debate.I’m Allergic to Penicillin, Will I Take the COVID Vaccine?Johnson & Johnson COVID phase 3 trialMy parents got both doses of the Chinese covid vaccine but the Pfizer came out recently. Can they still take the Pfizer vaccine as well? If so, how much of a time gap should they keepVaccineIs it biologically possible to insert a 5G tracker into a human via a vaccine?Well this is sadVaccines exposedCOVID19 Vaccination sentiments surveyOfficials confront challenges to get public to take COVID vaccine. \\'A new ABC News/Ipsos poll released Monday found that more than 80% of Americans planned to get the vaccine, either when immediately available, or eventually. It signals growing confidence in the vaccine..\\'DeliciousThe last COVID vaccineIs there any truth in this article that states, zero child out 562 didn’t develop adha, were 0006% did that were vaccinated.Measles – An overviewWhy Scientists & Public Health Officials Need To Address Vaccine Mistrust Instead of Dismissing itThe future is ‘CLEAR’ and it’s Dystopian: Virus hype ushers in a Covid 19-84 nightmare of restricted access — RT Op-edLolVaccine = Mind ControlEnough is enoughI felt the need to question why this Anti Vaccine page spreads misinformation, Misinformation that can be so dangerous in the time of a pandemic.If I drink alcohol the day before or the after the vaccine will it affect the vaccine?What is the mortality rate of vaccinated vs unvaccinated children right now?I\\'m not necessarily anti-vaccine but we need to talk about the specific companies that are distributing them, freely and openlyWhy some common arguments about autism don\\'t workWhy are the world’s top vaccine promoters frantically warning us about the unique and frightening dangers inherent in developing a coronavirus vaccine?Have you heard any myth about Coronavirus Vaccine?Is There Any Vaccine Available For Coronavirus (COVID-19)?Check this out 😊Now where are those people who says vaccine are bad we don\\'t have vaccine for covid 19 and whole world is fucked upIs my daughter safe?Having a youtube comment debate, how do I respond to this?Supreme court antivax caseHow ironicHmmAre vaccines made by pompous people?Anti-Vaccine Points Refuted A Thousand TimesMy mom is adamant that there are aborted fetus cells in vaccinesDoes the Vitamin K Shot Contain 100mcg of Aluminum?Is 100% of Injected Aluminum Absorbed?I’m having a debate and I can’t find any links onlineAnti-Vaxer HarassmentWhat should I say to my sister who keeps sending me crap like this??Vaccines DO CAUSE AUTISMVaccinate folks.STROKE AFTER FLU SHOTThe World Health Organization Are HypocritesHow I left the antivax movement and took others with me, and what we need to do to counter unscientific thinkingCommon vaccine fallacies to avoidAnti vax billboard in my town!!! HelpDo you guys think it\\'s alright to censor anti-vaccination information? If it\\'s such bullshit why bother?Can\\'t fix stupid.A vaccine debate group juts started up. If you’re interested in joining.Brave Baby Yoda.To the Kevin whomst this message is directedDo live vaccines shed?A mom friend is excited her kids got chicken poxAnyone able to help with a uk university survey?Anti-Vax Nurse?!Need help with an anti-vaxxer on RedditDo you know that vaccines contain Dihydrogen Monoxide?Any studies on how much ethylmercury is acceptable in injections?Vaccines are bad and we should ban themMyth: No Studies Compare the Health of Unvaccinated and Vaccinated PeopleAn unvaccinated child\\'s EKG be like:BEWARE! Vaccines contain a deadly chemical called DIHYDROGEN MONOXIDE!Why they use Mercury in vaccines?I need help debunking thisThis is how vaccines were linked to autismFor those concerned about thimerosalFor any parents concerned about the ingredients in vaccinesSeeking help to inform an anti vaxxer who may be convinced otherwise.This is one of the best explanations I\\'ve ever read about the moment an anti-vaxxer experienced an epiphany & realized that everything they thought they knew about vaccines were false after lab test results debunked their beliefs about vaccines.Ask an anti-vaxxer?Saying vaccines cause autism, is not the same as saying \"Vaccines are bad, stop them!\"Took this from one of my textbooks at UNI - if anyone says they don’t believe vaccines work, send them thisVaccines have a huge side effectI almost died of vaccinationVACCINES ARE SO GOOD I CAN GROW TO BE AN ADULT WITH THEM!Anti-vaxxing, or expired antibodies?Non vaccinated children (not just MMR, I mean 0 vaccines) ratio to Autism.Vacvimes cause Autism: YOU NEED TO READ!Wait Wakefield said what?I\\'m sorry, just gotta say thisMyth: 1 in 1000 measles cases are fatalMyth- \"There is no thimerosal (mercury) in vaccines.\"Mandatory VaccinationsHerd Immunity is it really achievable?Help Debunking this?Why?Dear Anti Vaccination movement,Do not give a platform for anti-vaxxers to propagate.My podcast will be discussing vaccinations and I need your help!My podcast will be discussing vaccinations and I need your helpVaccine Survey....Vax5 Products you should Have Before you get your Next VaccineWhy do vaccines contain Mercury and nickel ?Wasn\\'t vaccinated as a childIf the evidence isn\\'t on your side, submit a blog to one of HenryCorp\\'s 300 subs that are used to spam anti-vaxx ideology and ban users/scientists/physicians from disagreeing.I need help. I have someone, anti-vaxxer, I’m debating with bringing up Epi Studies as a clear link between autism and vaccinations.... what are they talking about? Does anybody here have the debunk for these Epi Study arguments? Cheers!Oh no! I got vaccinated!Please check out my blog exposing the myths behind vaccinesCan we please spill the tea on vaccines?Please sign my petition to give Wakefield the measlesRelationship status: vaccinatedHow does an unvaccinated child present a risk to a vaccinated child? I doubt I\\'ll get a reasoned response. Edit: Herd Immunity has nothing to do with my question.‘Police State’ Registry System Being Set Up to Track Your Vaccination StatusUh, what?!? From an anti-vax millennial on my newsfeed...No. Big pharma has more than one employee. It takes more than one person to create a plan. To take over subs which compete with big pharma. To remove posts or make the sub private.March Against Monsanto Showing Their True, Scientifically Ignorant ColorsDamn hipsters!The corrupt industry goes to great lengths to accurately recount all of the proof vaccines are harmful.The vast majority have stood up to peer review and haven\\'t been redacted like Wakefield\\'s. Maybe the science isn\\'t as settled as you\\'re lead to believe?And the Gish is Galloping!!Bigger PharmaAutism Symptoms in Pets Rise as Pet Vaccination Rates RiseVegan mother forced by High Court to vaccinate her childrenThe Truth About Vaccines. FREE Online Program, from April 12 to 18 (USA)World Health Organization (WHO) identifies websites with reliable information on vaccine safety at vaccinesafetynet.org.[+17] There are numerous instances of the wrong flu strains being targeted. Indeed, it\\'s more common than not.Has anyone got any critique of this PDF by Jeff Prager \"The history of the global vaccination program in 1000 peer reviewed reports and studies\"Fake News: Trump DID NOT Sign Executive Order Banning Childhood Vaccinations | Lead StoriesWar on VaccinesVaxxed movie being pulled is proof Big Pharma is not willing to engage in unethical double-blind studies with vaccines.Bill Gates is funding a new initiative... and the antivaxxers come out of the woodwork in the comment section.A NAP Case for Childhood Mandatory VaccinationVaccine Critic Kennedy Set to Chair Trump Panel on Vaccination SafetyTIL that tetanus is not dangerous because it\\'s only found in animal excrement...Flu shots aren\\'t really true vaccines... I trust my immune system for now.This is very sad. Everybody knows that vaccines are dangerous. These nurses are heroes.New apparent anti-vaccine strategy: What study? Ignore all information. It will disappear like magic.This is not fear-mongeringWhat are the anti-vax arguments regarding older children / teens?I explained (with sources) that death/disability following vaccination was literally one-in-a-millionThe $150,000 Vaccine Challenge « Science-Based MedicineHillary earns our recommendation for PresidentYeah, no vaccines dont work do your research. At best they put you at risk for health problems.vaccines not only do not work but they are also lethal, but yeah okay.Mother is forcing me to go see \"VAXXED\" in theaters. What do I need to know?‘Vaxxed’: Anti-Vaccination Film Pulled From Tribeca Film FestivalI Need to Detox Because I Held a Vaccinated BabyMother Beats Cancer With JUICING After Told She Only Had Two Weeks To Live... HOLY SHITOLY BATMAN! WE HAVE A BULLSHIT ALTERTWhat the everloving fuck is this shitScratch my noseThe Zika Virus isn\\'t the problem- it\\'s the vaccine (obviously)Joseph Mercola on vaccinations - \"If you have a healthy lifestyle, exposure to nearly all of these infectious agents will ultimately make you healthy and stronger\"fwiw, i\\'m 90% sure vaccines killed my niece and nephew. turned them into vegetables, never learned to walk or talk or even eat without a feeding tube. they each died about 6 years later. yeah.Bill Gates kills people via vaccinations and GMO mosquitoes [x-post /r/GMOMyths]TIL: There are people who equate pediatric facilities which only treat vaccinated children with Jim Crow laws. I wish I hadn\\'t.Anyone who vaccinates their children is gambling with their future and is a piece of shit.Supreme Court lets NY state’s school vaccination requirement standResearchers profile 4 types of non-vaccinators (resourse)Behold this ShitstormGirl dies from Benadryl overdose. Obviously, it means the HPV vaccine is at fault.Iraq War Vet Copy Pasta\"And you leave thousands of people dead and disabled from vaccines, not worth hit! Vaccines make us profitable to the pharmaceuticals i.e. they make us sick with autoimmune diseases, so as we are then dependent on expensive drugs to treat our symptoms. That\\'s the true reason they are pushed\"Yea, I just don\\'t believe that vaccines should be forced upon anyone. I feel that everyone should always have a choice. If I think about someone who doesn\\'t really want it all, and then to force an injection on them, seems really cruel to me.\"There is HIV in vaccines. Proof: NaturalNews\"Fluoride, Vaccines, and the wrath of Ra all in /r/conspiracyThe most disgusting anti-vaxxer I\\'ve probably encountered to date.No matter what side of the debate you are on, is anyone else bothered by the language being used over the current mandatory vaccination controversy?I have an autistic child. Don\\'t know what caused it, but you saying that if indeed vaccines do cause it, it is an exceptable risk... Makes me want to kick you right in your filthy cunt.The annals of “I’m not antivaccine,” part 18: Dr. Bob goes full Godwin over SB 277Cervical cancer vaccine \\'Gardasil\\' being deemed the largest scam in medical historyI Got 99 Problems But A Brain Ain\\'t OneJenny McCarthy in a NutshellVote delayed on California bill seeking to toughen vaccine mandateGardasil \"Removed\" from Japanese market (even though it wasn\\'t \"removed\" at all)How Anti-Vaxxers Sound to Normal People\"Mom asks CDC some questions...\" A sophomoric attempt to be a hero by a vaccine denier: an analysisNaturalpath \"Dr\" Glidden tries desperately to discredit vaccines. Uses a lot of pseudo-science and shameless promotes his own profits in trying to do so. [x-post from /r/truthaboutvaccines]So, how is the vaccinated kid going to die from a disease the unvaccinated kid has? And if two unvaccinated kids have a disease and one dies, how can you prove original carrier? Shedding and symptoms may not be concurrent.RFK JR going derpItalian Court Reignites MMR Vaccine Debate After Award Over Child with AutismIn my case I have investigated vaccine technology and found it to be a crime against humanity in how they are currently used. Certainly they are one of the principal causes of autism, and are undoubtedly linked to a host of other emerging disorders.This PowerPoint is my attempt at a public resource for exhaustively addressing antivax claims. This will remain a work in progress, to be updated to follow emerging popular claims. Suggestions are encouraged. Please read and shareI\\'m interested in discussing the vaccine aspect of this documentary and the arguments presented within. Note, It\\'s only available for the next six days for free.Antivax mom makes concentration camp-style badge to protest her \"persecution\"Lifting The Lid On The Vaccination Debate: Why We Deserve To Hear Both Sides Of The ArgumentBasically just a bunch of bullshit talking points dreamed up by vaccine propagandists to scare you into using their products and push the public debate toward mandatory vaccination for any and every disease they think they can make a buck on.Fake Disney Outbreak post debunkedI\\'m not scared of measles, even the atypical form. I\\'ll take my chances with measles or polio or whatever, but NOT vaccines.Ottawa daycare is promising a ‘vaccine-free environment’ for kids.From /r/conspiracy - a post linking to the package insert for the MMR vaccine, but everything is being taken way out of context - my post corrects it.www.antivaxxvalentines.comMore from Antivax book \"Dissolving Illusions\" review comments: \"INJECTED through a vaccine ... neurotoxins get taken up through our lymphatic system where immune cells carry them into the brain.\"The measles virons only live outside the body for a short period of time (about two hours). Close Disney World for one day.Melanie\\'s Marvelous MeaslesMeasles vaccination urged amid Disneyland outbreakThe past and present rebuke antivaccinationists who claim measles is “benign”Last Year’s Flu Vaccine Killed and Injured Over 93,000 US Citizens – Will This Year be Any Different?Vaccinations Made My Cat AutisticWhy We Didn’t Vaccinate Our ChildI\\'m not a crazy, 43 year old mom with nothing better to do than to campaign against a lost cause. I\\'m 18, from the UK, and whilst Dr Wakefield is my godfather\\'s brother, I don\\'t feel biased towards him.Are courts in the business of handing out 6 and 7 figure payouts to anyone claiming damages from vaccines? Is this like one of the world\\'s best kept secrets? Also, is the tooth fairy real?Tim Burtons \\'Batman\\' clearly is the proof vaccines cause autismNot sure what condition you have, but many conditions that leave you with a compromised immune system can be passed down to your kids, so it might be better to adopt even if you weren\\'t sterile.Hmmm, so if people are vaccinated then why the fear of the unVaccinated? Who cares if they spread it amongst themselves and as far as compromised immune systems are concerned should they be around kids who are cesspool of virus and diesese regardless if vaccinated or not?Anti-Vaccine Body CountComputer programmer gets it wrong about the Amish and vaccinations.University of PiktoChart: Vaccines Don\\'t WorkThe people who signed this petition....I wonder if that correlates with glyphosate too. Another more scary theory I have is that autism is caused by vaccines they use as a form of eugenics in order to produce genius children at the cost of causing a lot of autism.Antivax book \"Dissolving Illusions\" - 2 negative reviews and 88 consecutive perfect reviews.Which graph do you believe? Left? Right? Both? I\\'m interested in discussing the credibility of these two sources and interpreting what these graphs are telling us.Only Vaccinated Students Affected By Whooping Cough Outbreak In Massachusetts...There have been more than 200 cases of polio in Pakistan since January. \"Many people here think the polio vaccination campaign is a western conspiracy to sterilise their children - it\\'s an idea the Taliban have been putting about for 10 years now.\"Why I chose to delay vaccines with my first, and why I won\\'t do that againMercola is a hero, he dares to fight TPTB, it\\'s surprising he hasn\\'t been assassinated yet. He\\'s an individual who truly cares about healthit\\'s now been admitted by a CDC whistleblower that they\\'ve been covering up the data which shows vaccines are causing Autism. Mercola recommends products which are far safer and more likely to be effective than anything that comes out of Big Pharma.The concept of herd immunity (protection for the population) is often used by vaccine addicts as a way to push guilt at people who don’t line up, with their children, like robots for their shots.Hepatitis B vaccine kills three newborn babies with anaphylactic shock - Anti Vaxxer Woo from SeattleOrganicRestaurants.comIf the government was really covering up \"The truth\" about vaccines, and someone blew the whistle, how would we know if he was telling the truth?Supposed research papers linking vaccines and autism. Anyone seen these before?\"Being Anti Vax is just like the fight for Civil Rights\" - White GirlEbola Can Be Prevented and Treated Naturally-so Why Are These Approaches Completely Ignored?MucusI would rather have any vaccine preventable illness than run the risk of getting an autoimmune disease from a vaccine.\"A foolish faith in authority is the worst enemy of truth.\" - an ironic quote from a woo websiteCheck out r/HealthySkepticism a subreddit for the discussion of all kinds of medical mythsRob Schneider\\'s Anti-Vaccine State Farm Ad !!Rob Schneider Has Guts and IntelligenceWealthy L.A. Schools\\' Vaccination Rates Are as Low as South Sudan\\'sNew subreddit: /r/conspirawhinersMSM Buries CDC Scientist’s Confession About Vaccines & Autism LinkThe Conspiracy is Falling Apart! Autism Vaccine Link Exposed by World Renowned Expert in Diseases, Vaccines and Child Development.....(wait for it).... ROB SCHNEIDERToday I can report that I now have in my possession CDC documents which prove beyond any doubt that the former head of the CDC actively participated in willful scientific fraud in order to bury clinical evidence linking the MMR vaccine to a 340% increase in autism among African-American children.C is 3rd letter of the alphabet; 6th letter is F. 18 is what they equal multiplied: R is the 18th letter. Council the verb in German is rat. Noun: der rat. Lucifer comes to mind, personally.I can\\'t believe how many anti-science people like you there are on RedditAnd now this.See?!?!ImmunityConspiratard claims recent study of vaccine safety was paid for by \"big pharma.\" Study itself makes no indication of who paid for it. [X-post from /r/conspiratard]A review by one graduate student at Harvard is evidence that the flu isn\\'t as deadly as the CDC says it isSo, I have to inject my kid with a low dose of a disease \\'vaccinated\\' or they can\\'t go to school. That\\'s total bullshit............. ; (Hysterical!!! Conspiracy theorists fall for a SATIRICAL medical blog!Anti-vaxxer claims to know topic inside and out and that doctors ask her opinionActivist posting stating that 85% of those contracting measles are fully vaccinated.Parent calls on /r/conspiracy to aid in harming his/her child by providing antivaccine information\"It\\'s sad to think parents are still poisoning their children with vaccines\" Non-cited, non-researched, scare-tactic poster\"Measles is like chicken pox, not a big deal.\"(UN)convincing paper (tries) to provide proof that the myth of immune overload is not a myth.Supposed link between vaccines and Diabetes/Autoimmune disorders?Mercury causes autism, no matter what anyone says. This youtube video is definitive proof!\"Big pharma shill, Dr. Goldman, wants to tattoo a yellow star on unvaccinated Canadians.\"We should create a list of canned speeches and place them in the sidebar, like a FAQ of sorts. They could be used as a toolbox to counter antivax claims often used.Since the anti-vaccination movement doesn\\'t have any facts on their side, their new tactic is to post gish-gallops.Toni Braxton claims her son’s autism was God’s punishment for abortion, may be due to vaccinationsVaccines are linked to SIDS, according to activist post\"...a lot of vaccines contain a tiny bit of mercury.\"The WHO contrived a polio emergency. Poster doesn\\'t understand why vaccine is still necessary.People have been paralyzed by the flu vaccine and polio vaccine in African. Bill gates funded all those polio vaccines and then a lot of kids became sick or paralyzed from itApparently this user\\'s opinion trumps a meta-analysis showing that vaccines don\\'t cause autism. He\\'s also fond of the big-pharma conspiracy.Use of a youtube video to try to prove the polio vaccine is bad. Doesn\\'t realize there are two forms of the vaccine. Also doesn\\'t realize that the risk of poliomyelitis is greater than the risk of VAPP. Use of nominal numbers rather than percentage to make argument about VAPP.Fuck you Reddit, you tyrants. I am glad no one listens to you. If someone doesn\\'t want a vaccine, then they don\\'t have to take one, regardless of how you fuckers thinkIt was aspirin that killed millions in 1918-19. Now it is mandated and unknown, untested vaccines with banned adjuvants in them that threaten the country with millions of deathCDC video asking parents to vaccinate their children against cancer-causing HPV is \"creepy\" according to activistpost. Seems like these people are in favor of cancer. Most cervical cancers is caused by HPV - the vaccine prevents HPV. People peddling this stuff should put 2 and 2 together...Berrieshe WHO\\'s Global Polio \"Emergency\": Is that 417 cases of vaccine-associated paralytic polio (VAPP) or wild polio? For 27 years there was more VAPP in the US than wild-strain polio...apparently the oral polio vaccine is still \"safe\" for babies in the third world. : conspiracyNew paper in Pediatrics: tested four educational interventions meant for anti-vax parents, all four further increased anti-vax sentiment. In short: anti-vaxxers are totally immune to education.I refuse the flu vaccination. Fucking rethefuckfuse the flu vaccination. I believe that one is the gov\\'ment\\'s way of injecting us with shit to control us. Let us have snifflies, I say.\"The US infant mortality is I think number 38 (IT\\'S NOT), one of the worst out of all the developed countries. Also number 1 for number of vaccines.\" Therefore the conclusion is that vaccines are the cause of the high infant mortality rate in the US.\"The Cancer Virus\"I was mildly sceptical of vaccines being a cause of autism until my partner told me of her child being a normal healthy happy little boy until the week after his MMR vaccination, he now has aspergers syndromeMeet my friend\\'s anti-vax wifeHowever, hidden to most Americans was an elaborate Public Relations scheme being carefully and methodically applied to their psyche. Propaganda was used heavily to promote the National Foundation for Infantile Paralysis and the March of Dimes solution to the polio epidemics: a vaccine.Long-winded, ill-researched diatribe over at r/conspiracy. Author admits that he\\'s unable to think for himself.This is getting passed around my Facebook feed. VACCINES ARE BAD, MMMK? POLIO WAS CURED WITH BETTER HYGIENE!Pro-Vaccine Immunologist Admits a Shocking Truth About VaccinesLogical ResponseYou don\\'t get lots of things, ma\\'am.How Dead Babies WorkImpact Font. Black and Red Lettering on White Background.Teething is like a telephone in the MatrixNow We Have a New NormalMy anti-vax aunt just posted this comment on an article, much more cogently argued than most posts I see, and since I\\'m not knowledgeable enough to specifically refute anything I was wondering if one of you were.\"Saddest part is how ignorant and dogmatic the fascist pro-vaccination people are. It\\'s like you think I have a monopoly on science so yo can just reject scientific reality. The people concerned about vaccines have more scientific support.\"I don\\'t know if this belongs here. Let me know if these aren\\'t welcome. xpost /r/cringepicsIn fact, the AMA (American Medical Association) is in part financed by Pfizer, which owns Monsanto, the company that manufactured controversial and proven-to-be-dangerous products such as the insecticide DDT, PCBs, Agent Orange, and recombinant bovine somatotropinThe oral polio vaccine grown on chimpanzee kidneys in Africa just prior to the emergence of HIV/AIDS, and administered to ~3m people, is almost certainly the culprit of said disease in humans.Roald Dahl\\'s daughter died from measles.Can\\'t do math, tries convincing the Amish don\\'t vaccinate, can\\'t provide proof that the Amish are not susceptible to vaccine-preventable diseases, jumps to a 2002 video about congressional hearings regarding dental amalgams, ignores fact that thimerosal is no longer in required childhood vaccines.Docs challenge opt-out laws for childhood vaccinesDog autism caused by owners giving unnecessary dog vaccines.An easy to understand summary of the evidence:Hydration and a cold rag are all that are needed for measles because it works wonders. Also there is, apparently, too much hype about death from measles.Besides, vaccination immunity wears off. Contracting the Measles and actually letting your body immunize itself naturally means it will become immune for life.\"There is a bot-based campaign to ATTACK NAA - a great org - started at the kitchen table of real autism Moms\"\"We haven\\'t even looked at that page — it\\'s been up there for years,\" she said of the section on the group\\'s site that says vaccines can trigger autism.Much like Natural News, the NAA is routinely defamed by the mainstream media through the deliberate engineering and publication of false, defamatory lies and misinformation intentionally spread by the medical mafia to try to shut down anyone who questions vaccine safetyChili\\'s Cancels Plan To Fundraise For Anti-Vaccination Autism Group (UPDATE)No mystery why the measles have returnedSuccess!!!Chili\\'s FailChili\\'s Response to Fundraising for an Anti Vaxx groupPolio is transmitted through the fecal/oral route. Gates hasnt built one well or improved sanitation in these countries, just jab jab jab. \"Donates\" millions to his own companies to vaccinate children and \" women of child bearing years\". This is exactly what Rothchild did on his eugenics bent.I want my Mumps and Measles Back in my Baby, I want my Mumps and Measles Back in my Baby, I want my Mumps and Measles Back in my Baby...Chili\\'s Baby Anti Vax Idiots!\"You believe what you want, but I know what happened to my child. I don\\'t care what studies you have posted\"\"It has been proven time and again that vaccines trigger adverse reactions in certain individuals,\" states NAA President and parent Wendy Fournier in defense of Andrew Wakefield@NationalAutism - Some fine twitter anti vax BSThe Bullshit The National Autism Association Promotes (and Chili\\'s Restaurants apparently endorses)How Fixing a \"Broken Cheeseburger\" Brought Chili\\'s To Contribute To Anti Vaxxers - A Press Release In The WSJChili\\'s Restaurants Goes Full Derp - Hooks Up With Anti Vaxxer Charity - Will Give 10% of Mondays (April 7) Sales To A Pseudoscience Autism GroupMilk is used to control the populace, not vaccines. That\\'s why you can\\'t buy milk from a farm legally, it has to fda regulated.Boom. Undeniable proof of the dangers of vaccines. Big pharma won\\'t stop until they kill all of us.TIL \"it was proven in a Federal court that MMR vaccine caused autism in several children, prompting multi-million dollar verdict\"It\\'s a known fact that the US Gov\\'t created AIDS. I\\'m getting the feeling that vaccines are being used to spread it and keep the population down. What do you think?Typical debate with an anti-vaxer (I\\'m teal)The argument for \\'herd immunity\\' is completely invalid, because one person should not be able to compel another to do something they don\\'t want to protect the first person. That is simply tyranny.From /r/RageThese doctors should be ashamed of themselves for submitting this family to such a terrifying ordeal.I would rage if this was handed to me...Vaccines Cause Peanut Allergies!The hive mind has little time for vaccines, this is clearly the propagandist team. It\\'s about time Reddit investigate them and put a stop to this obvious manipulation and misinformation.Autism is NOT one thing with one cause. In many cases of what is called Autism, we are looking at vaccine damage, pure and simple. Then CALL IT VACCINE DAMAGE, NOT AUTISM. Call “it” what it is found to be, in that child. The label is a deception.I feel that the general, blanket acceptance of anything called a vaccine, and the instant dismissal of anything considered \"anti-vaccine\" currently circulating reddit is dangerous.Activist posting: so many inaccuracies...my head hurts. If I didn\\'t know this person actually believed what they wrote, I would think it was purely satire.The Bizarro Logic of /r/ConspiracyHands Off Our Vaccine Exemptions: Blaming an unvaccinated child for the spread of a disease they’ve never had on a population that is almost entirely vaccinated is like you blaming a random person’s cat in Oklahoma for the grey hair you found on your head. : conspiracyI also don\\'t trust any governments to stab me with needles with their word as all my assurance of what exactly they are shooting me full of. Not all conspiracy theorists are nuts when it comes to the covert eugenics programs of the medical industrySticking a metal object into my skin and injecting who know\\'s what (someone can tell you what it is but you\\'re assuming if you didn\\'t make it yourself) into my body is not my opinion of what is natural. So I don\\'t do it.What exactly would mandatory vaccines look like? It could very well look like Child Protective Services kidnapping children from families who are not \"modern\" enough, including children in ghettos, in reservations, in Appalachian poor rural areas, in off-grid radical familiesI\\'ve offered some evidence that polio is not what you think it is and that the mainstream history of the polio vaccine is grossly incorrect...I honestly have no reason to engage with you further.The main reason I am cautious about vaccines is that my brother sustained a vaccine-related injury as a child - and is now severely retarded.anti-vax blogger make some points that i am unequipped to refute.Here\\'s Why Celebs Shouldn\\'t Play DoctorWhooping Cough News Coverage is Part of a Jewish ConspiracyThe Answer is \\'Yes, Yes it Does\\'\\'good idea\\'It stems from flawed thinking and ignorance. All of the vehement vaccine people don\\'t realize that there\\'s no such thing as herd immunityCreative Problem SolvingKeep this in mindIt\\'s just like the common cold, really...I\\'ve never had had a vaccination shot and get a cold maybe once a year. Know what you eat, stay healthy, wash your hands, it\\'s that simple. To each their own obviously, but some people in this post need to chill the fuck out.We have a pharmaceutical industry that has brought us absolute poisons like Vioxx and has introduced a series of bullshit vaccines like HPV and flu \"vaccines.\" Moreover, the industry has completely captured the FDA and most of the academic institutions that research its products.Water vs MercurySwine Flu Immunity ConfirmedVaccines cause SIDs, according to one extremely incompetent commenter.Yep, this is one of the main reasons why this type of propaganda backfires. If they really wanted us to take their vaccines they\\'d be better off not bringing more attention to them.I keep hearing, vaccines don\\'t cause autism. It\\'s been \\'proven\\'. Well if this was really so why have the US vaccine courts (the ones that protect the company and make the tax payer foot the bill) paid out money for vaccine induced autismHello, My Name Is...but im not a biologist or even a chemist or doctor lolThe most common injury I have seen is vaccine induced MS....and sent to jailHumans are not being considered when someone is making such a mighty profit. we were created with a certain DNA and it shouldn\\'t be tampered with by vaccines.The dtap (acellular pertussis vaccine) actually isn\\'t very effective against whooping cough. Fortunately, you can treat whooping cough with vitamin c....other than penicillinIn a larger context commerce is war and that is what this is all about re: two ex-Navy SEALS turn up dead on the Maersk Alabama (Tom Hanks movie on pirates).Rat PoisonThe Amish don\\'t vaccinate (they actually do), big-pharma...you know the drillIrrefutable PrufeYou are the only person here that knows what you\\'re talking about.Although I don\\'t agree with all of the article, it really made me question vaccines. If they don\\'t work and can even cause illness, why are we using them?\"Don\\'t you see the absurdity of advocating for blanket one-size-fits-vaccinations? Not yet? Fire back so I can keep educating you.\"Anti-vaccine blogger \"refutes\" LA Times Whooping Cough Story. She thinks she has a monopoly on the \"truth\"Dr Dre would have been slightly more credible...50 Reasons to Not Vaccinate your Children!Shut Down the FDA\"I consider the dangers posed by the side effects of vaccines to be greater than the dangers posed by the diseases those vaccinations are supposed to prevent\"\"The CDC and FDA are not credible sources\" uses th CDC to prove a point...No real quote from this guy. You just have to read what he\\'s writing. He\\'s completely bungling immunology.This will enrich Big Pharma and allow the Government to put whatever chemical into the public\\'s bloodstream they the Government see\\'s fit. This is putting too much trust in the GovernmentThis is a pretty terribly written blog.Those in favor of vaccines are \"fighting a loosing battle.\" \"It\\'s stupid to vaccinate a 5 minute old infant against a sexually transmitted disease.\"I stopped reading at the second sentence, first paragraph, when you asked me to prove to you that diet and exercise are healthy and boost the immune system. Such elementary ignorance warrants no further interest.The toll of the anti-vaccination movement, in one devastating graphicMyths & Legends Surrounding the Tetanus Shothad h1n1 and drank raw garlic tea 4x a day for 4 days. I was sick but managed quite well. Some friends that had it said they thought they were going to die, but it felt like mild flu to me.Fwd Fwd Fwd Like And ShareThe flu vaccine gave me the flu. Someone with an ironic username proves anti-flu-vaccine guy wrong over and over again, but he doesn\\'t actually comprehend what ironically named guy says.For all we know, there could be some other substance that deliberately alters our immune system keeping us reliant on pharmaceuticals and suchBill \\'totally Hitler\\' GatesSo Sure500%Was told to submit this here.Not worth the risk. Vaccines have thimerosil in them and I don\\'t want mercury in my body or my son\\'s body. I\\'ll take my chances with measles\"There\\'s trust issues between First Nations and the government and when they say we\\'re going to prioritize, we want to keep you healthy, people are like, \\'Uh, what\\'s in that shot?\\'Peanut oil in vaccines behind widespread peanut allergy epidemicThe flu never killed anyone, the Spanish Flu was just a hoax: it was actually aspirin poisoning!It should be up to the parents to choose whether or not to vaccinate their children. Vaccines are not risk-free.I\\'m sure you all understand scientific theory is theory because science itself admits it doesn\\'t fucking know... But all of you on your high horses with your bro-knowledge and half read studies know this and are being close minded gits because you\\'ve read more than everyone else and know moreLet\\'s not forget vaccines come from big pharma. Billions and billions are at stake if a cure is found.of course there\\'s no connection. Its not like the vaccine schedule has more than doubled and we have gone from 1 in 400 to 1 in 80.If you find the truth they destroy you. Sadly most people don\\'t think twice about what is in the vaccination. The FDA is hardly seeing oversight on anything they deem safe.Never fails, if you want to bring out the comment bots, shill posters, paid plants and computer generated public opinion spinning bots in the reddit comment section, talk about vax.Why Trust Scientists?You are pathetic, and so are the paid shills that produce these \"results\". Fuck you, go to hell and stop spreading your bullshit to the rest of the world, and hopefully, maybe some day your shitty country gets blown off the map.Why do so many people in this thread demand that parents vaccinate kids? There is legitimate concern that vaccines are dangerous, therefor parents have the right to choose.the vaccine cocktail that is pushed on every child unless their parents fight it can cause all sorts of problems. Not to mention that drug companies have been known to use harmful substances such as mercury to extend the shelf life of the product.Of course the scumbags in the pharmacutical industry heads got him banned easily after talking to the scumbags in londonstan . See instead of having sex with the top guy in the pharmaceutical industry to secure your job you have to be pro murdering childrens futureRevoked?!? It\\'s research, not to mention this individual\\'s passion. A big old fuck you to whomever revoked is life\\'s work!has anyone seen the video of Dr. Maurice Hilleman who developed measles, mumps, hep a, hep b, chickenpox, meninigits, pneumonia vaccines with Merck admit to putting cancer viruses in the vaccinesAnd while Dr. Wakefield has been persecuted and prosecuted to the extent of being unable to legally practice medicine because of his discovery, he has instead become a best-selling author, the founder of the Strategic Autism Initiative, and the Director of the Autism Media Channellook into the false allegations made against Dr. Wakefield and the pressure put onto the medical board via the vaccine manufacturers which led to his license being revoked.. further.. a new study published in december 2013 verifies Dr. Wakefields findings..Except by the dozen or so studies on similar inflammatory bowel disease (the object of his study), that have. I don\\'t even know why I\\'m bothering with you. You have absolutely no idea what you\\'re talking about.Vaccinations for diseases are fine. Flu shots every year is stupid. Our glorious human race and its immune system is going to become so fragile that we\\'ll soon be sending people to the ER for a cold.Aids was started by polio vaccine, in africa, this is a fact. They would create the polio vaccine in actual monkeys, and they cut some corners used a local monkey, and boom AIDS!I have seen the eyes of healthy children go to blank stares immediately after massive immunizations suddenly unable to track movement or even make eye contact with a parent again. As the owner of a preschool this cause/effect is described in detail every year at enrollment time by new parentsThis is propaganda by a pro vaccine organisation.Hey retards, this is just more evidence of the conspiracy to cover up the link between vaccines and autisim. But keep spreading propaganda like good little fascists.....vaccinations do fuck up some kids, my son\\'s chicken pox vaccination was later recalled for too much mercury, I can\\'t say for sure if that\\'s why he has a broad spectrum of food allergies, as there\\'s probably more than one factorI have 3 children who have NEVER been vaccinated and their 21, 17, 15, and doing perfectly fine. In-fact have never been sick a day in their life. On another note myself who has had every vaccination you can think of has had all types of problems with health.It\\'s simple logic that they are potentially developmentally damaging unless the ppm allowances established by the FDA are drastically lowered. I\\'m surprised with you all. Pandering Big Pharma\\'s utter horsecrap and the illogical media response to a lousy research paper.If the government is going to make it illegal for families to sue the manufacturer (Big Pharma) and force them to go to a special court just for vaccine cases (where they all lose) they have shown that nothing and nobody will get in the way of distributing it.Anybody care to explain the recent Vaccine-settlement specific court that awarded a family a large sum of money for their son who started showing signs of autism after his vaccination?Eugenics Today: How Vaccines Are Used to Sterilize the MassesGUMMY BEARS PHARMACEUTICAL DRUGS AND VACCINES MADE OUT OF PEOPLEYou don\\'t know what a vaccine is, you don\\'t know that by law no vaccine causes immunity to anything, and you\\'re dumb enough to line up to get injected, which says all that needs to be about your (lack of) intelligenceI\\'ve encountered so many parents in my social circle who have kids with various problems... ranging from auto immune disorders, to ASD.... everyone of them - it happened within a month of a vaccinationI will continue to refuse getting vaccines and flu shots that contain mercury as a preservative. Wait...that is what Thimerosal is....there you go, why are they using one of the most toxic elements to humans as a preservative?Be The First To Like This200 healthy children have died of influenza in the last 10 years. They\\'re more likely to be shot by police as adults. This does not mean we should vaccinate the entire child population.Inject That ShitYou think I\\'m angry about you being ignorant, delusional, and injected with cancer cells? I\\'m laughing at how insane you are and how mad you are at me for not being insane like you, son.Since we did of course run a secret CIA vaccination program to track down where Osama bin Laden was living, it isn\\'t too terrible a stretch that we might be running some depopulation vaccination program as well.There\\'s been a lot of literature out there detailing that vaccines are not good for you at all. I understand that there are a lot of lost and stupid sheeple out there - true (I\\'ve seen enough of them here on Reddit as it stands)Dr. Wakefield obviously struck a major nerve with his research, which was quickly torn apart by the establishment and maliciously paraded around as being fraudulent, even though his groundbreaking findings have repeatedly been validated and replicated by many other studiesRead the studies yourself, research extensively, and do the right thing. Opt out of vaccinations with a religious or philosophical exemption to defend your child. The public schools cannot legally turn you away if you do that, so learn your rights, and use them!...anyone that begins to even question the safety and efficacy of the numerous and ever-increasing vaccines is immediately vilified and lumped in the same category as Holocaust deniers and the like.I am a father of five unvaccinated children. Am I unfit to be a parent? Or, is it your opinion that I am unfit?Love Them. Protect Them. Never Inject Them.Vaccines Are Just Asping For TroubleDr. Harper explained in her presentation that the cervical cancer risk in the U.S. is already extremely low, and that vaccinations are unlikely to have any effect upon the rate of cervical cancer in the United StatesPolio arose in the US at a period where pesticide use skyrocketed and was being applied with reckless abandon (like that famous picture where the kids are running through the DDT being sprayed on the beach)'"
      ]
     },
     "execution_count": 92,
     "metadata": {},
     "output_type": "execute_result"
    }
   ],
   "source": [
    "new_data = ''\n",
    "for i in df['title']:\n",
    "    if i != 'Comment':\n",
    "        new_data += i\n",
    "\n",
    "new_data"
   ]
  },
  {
   "cell_type": "code",
   "execution_count": null,
   "metadata": {},
   "outputs": [],
   "source": []
  }
 ],
 "metadata": {
  "kernelspec": {
   "display_name": "Python 3 (ipykernel)",
   "language": "python",
   "name": "python3"
  },
  "language_info": {
   "codemirror_mode": {
    "name": "ipython",
    "version": 3
   },
   "file_extension": ".py",
   "mimetype": "text/x-python",
   "name": "python",
   "nbconvert_exporter": "python",
   "pygments_lexer": "ipython3",
   "version": "3.10.12"
  }
 },
 "nbformat": 4,
 "nbformat_minor": 5
}
