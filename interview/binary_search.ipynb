{
 "cells": [
  {
   "cell_type": "code",
   "execution_count": 3,
   "id": "376d4cd5-9e7a-4672-a5b1-9539e621d92e",
   "metadata": {},
   "outputs": [],
   "source": [
    "def binary_search(arr):\n",
    "    search = 7\n",
    "    left = 0\n",
    "    right = len(arr) - 1\n",
    "    while left <= right:\n",
    "        mid = (left + right) // 2\n",
    "        if arr[mid] < search:\n",
    "            left = mid + 1\n",
    "        elif arr[mid] > search:\n",
    "            right = mid - 1\n",
    "        else:\n",
    "            return mid\n",
    "    return -1"
   ]
  },
  {
   "cell_type": "code",
   "execution_count": 4,
   "id": "e0fca65c-eefd-4cdd-b624-331bb8e7c05f",
   "metadata": {},
   "outputs": [
    {
     "data": {
      "text/plain": [
       "6"
      ]
     },
     "execution_count": 4,
     "metadata": {},
     "output_type": "execute_result"
    }
   ],
   "source": [
    "\n",
    "li = [1,2,3,4,5,6,7,8,9]\n",
    "binary_search(li)"
   ]
  },
  {
   "cell_type": "code",
   "execution_count": 9,
   "id": "33d2fc76-5746-45a1-8293-9cf6f122476f",
   "metadata": {},
   "outputs": [],
   "source": [
    "def binary_search(arr,left,right):\n",
    "    search = 7\n",
    "    if right >=left:\n",
    "        mid = (left + right) // 2\n",
    "        if arr[mid] < search:\n",
    "            return binary_search(arr,mid+1,right)\n",
    "        elif arr[mid] > search:\n",
    "            return binary_search(arr,let,mid-1) \n",
    "        else:\n",
    "            return mid\n",
    "    return -1"
   ]
  },
  {
   "cell_type": "code",
   "execution_count": 11,
   "id": "ee3a8898-1ecd-4ae6-85c8-c4894c7d7bd3",
   "metadata": {},
   "outputs": [
    {
     "data": {
      "text/plain": [
       "6"
      ]
     },
     "execution_count": 11,
     "metadata": {},
     "output_type": "execute_result"
    }
   ],
   "source": [
    "\n",
    "li = [1,2,3,4,5,6,7,8,9]\n",
    "left = 0\n",
    "right = len(li) - 1\n",
    "binary_search(li,left,right)"
   ]
  },
  {
   "cell_type": "code",
   "execution_count": null,
   "id": "0eaf987c-29ab-4c6d-bb77-60b45a19a7a2",
   "metadata": {},
   "outputs": [],
   "source": []
  }
 ],
 "metadata": {
  "kernelspec": {
   "display_name": "Python 3 (ipykernel)",
   "language": "python",
   "name": "python3"
  },
  "language_info": {
   "codemirror_mode": {
    "name": "ipython",
    "version": 3
   },
   "file_extension": ".py",
   "mimetype": "text/x-python",
   "name": "python",
   "nbconvert_exporter": "python",
   "pygments_lexer": "ipython3",
   "version": "3.9.13"
  }
 },
 "nbformat": 4,
 "nbformat_minor": 5
}
