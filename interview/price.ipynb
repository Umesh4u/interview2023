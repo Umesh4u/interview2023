{
 "cells": [
  {
   "cell_type": "code",
   "execution_count": 4,
   "id": "88e2c9c9-8de3-4184-bc09-9f7044c05e6f",
   "metadata": {},
   "outputs": [
    {
     "data": {
      "text/plain": [
       "8"
      ]
     },
     "execution_count": 4,
     "metadata": {},
     "output_type": "execute_result"
    }
   ],
   "source": [
    "\n",
    "\n",
    "\n",
    "def price_increase(li):\n",
    "    minPrice = float('inf')\n",
    "    maxProfit = 0\n",
    "    for i in range(len(li)):\n",
    "        if li[i] < minPrice:\n",
    "            minPrice = li[i]\n",
    "        elif li[i] - minPrice > maxProfit:\n",
    "            maxProfit = li[i] - minPrice \n",
    "    return maxProfit\n",
    "\n",
    "\n",
    "\n",
    "\n",
    "\n",
    "li = [1,4,6,7,8,9]\n",
    "price_increase(li)"
   ]
  },
  {
   "cell_type": "code",
   "execution_count": null,
   "id": "ce4ecfa7-42e7-463f-80b2-99ed8056430f",
   "metadata": {},
   "outputs": [],
   "source": []
  }
 ],
 "metadata": {
  "kernelspec": {
   "display_name": "Python 3 (ipykernel)",
   "language": "python",
   "name": "python3"
  },
  "language_info": {
   "codemirror_mode": {
    "name": "ipython",
    "version": 3
   },
   "file_extension": ".py",
   "mimetype": "text/x-python",
   "name": "python",
   "nbconvert_exporter": "python",
   "pygments_lexer": "ipython3",
   "version": "3.9.13"
  }
 },
 "nbformat": 4,
 "nbformat_minor": 5
}
