{
 "cells": [
  {
   "cell_type": "code",
   "execution_count": 7,
   "id": "98344055-d84a-4775-a50d-67ffb78c8d05",
   "metadata": {},
   "outputs": [
    {
     "name": "stdout",
     "output_type": "stream",
     "text": [
      "[1, 2, 4, 11, 22, 34, 66]\n",
      "Found element 6\n"
     ]
    }
   ],
   "source": [
    "def search_element(li,search_data,start,end):\n",
    "    mid = start+(end-start)//2\n",
    "   \n",
    "    if li[mid] == search_data:\n",
    "        print(\"Found element\",mid)\n",
    "    elif li[mid] > search_data:\n",
    "        return search_element(li,search_data,start,mid-1)\n",
    "    else:\n",
    "        return search_element(li,search_data,mid+1,end)\n",
    "\n",
    "    \n",
    "\n",
    "\n",
    "search_data = 66\n",
    "li = [4,22,66,11,2,34,1]\n",
    "li.sort()\n",
    "print(li)\n",
    "start = 0\n",
    "end = len(li)\n",
    "search_element(li,search_data,start,end)"
   ]
  },
  {
   "cell_type": "code",
   "execution_count": null,
   "id": "cdc76441-552f-4818-9e7a-7755406396d1",
   "metadata": {},
   "outputs": [],
   "source": []
  }
 ],
 "metadata": {
  "kernelspec": {
   "display_name": "Python 3 (ipykernel)",
   "language": "python",
   "name": "python3"
  },
  "language_info": {
   "codemirror_mode": {
    "name": "ipython",
    "version": 3
   },
   "file_extension": ".py",
   "mimetype": "text/x-python",
   "name": "python",
   "nbconvert_exporter": "python",
   "pygments_lexer": "ipython3",
   "version": "3.9.13"
  }
 },
 "nbformat": 4,
 "nbformat_minor": 5
}
