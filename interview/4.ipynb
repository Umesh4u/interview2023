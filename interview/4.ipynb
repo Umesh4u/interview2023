{
 "cells": [
  {
   "cell_type": "code",
   "execution_count": 8,
   "metadata": {},
   "outputs": [
    {
     "name": "stdout",
     "output_type": "stream",
     "text": [
      "Hello This is func\n",
      "Decorated funct\n"
     ]
    }
   ],
   "source": [
    "def func2(myFunc):\n",
    "    def wrapper():\n",
    "        myFunc()\n",
    "        print(\"Decorated funct\")\n",
    "    return wrapper\n",
    "\n",
    "@func2\n",
    "def func1():\n",
    "    print(\"Hello This is func\")\n",
    "    \n",
    "func1()"
   ]
  },
  {
   "cell_type": "code",
   "execution_count": 4,
   "metadata": {},
   "outputs": [
    {
     "name": "stdout",
     "output_type": "stream",
     "text": [
      "(5, 6) kusum\n",
      "original function\n"
     ]
    }
   ],
   "source": [
    "#parameterialzed decorator\n",
    "\n",
    "def decorated(*args, **kwargs):\n",
    "    def wrapper(myfunc):\n",
    "        print(args,kwargs['name'])\n",
    "        myfunc()\n",
    "    return wrapper\n",
    "\n",
    "@decorated(5,6,name=\"kusum\")\n",
    "def original():\n",
    "    print(\"original function\")"
   ]
  },
  {
   "cell_type": "code",
   "execution_count": null,
   "metadata": {},
   "outputs": [],
   "source": [
    "#what is yield keyword\n",
    "#what is return keyword\n",
    "#what is difference between yield and return keyword\n"
   ]
  },
  {
   "cell_type": "code",
   "execution_count": null,
   "metadata": {},
   "outputs": [],
   "source": [
    "#How many rows getting in inner, left,right joins\n",
    "Account table\n",
    "Id \n",
    "0\n",
    "0\n",
    "1\n",
    "1\n",
    "2\n",
    "2\n",
    "2\n",
    "3\n",
    "\n",
    "Customer table \n",
    "Id\n",
    "0\n",
    "0\n",
    "1\n",
    "2\n",
    "3\n",
    "3\n",
    "\n",
    "Ans, Inner join-5\n",
    "Right Join - 6\n",
    "Left Join - 8"
   ]
  },
  {
   "cell_type": "code",
   "execution_count": null,
   "metadata": {},
   "outputs": [],
   "source": [
    "#Table\n",
    "emp_id expense quater\n",
    "1     3000     1\n",
    "2     4000     1  \n",
    "3     7900     2 \n",
    "4     6000     3\n",
    "1     4000     2\n",
    "1     9000     3\n",
    "\n",
    "#output\n",
    "emp_id q1 q2 q3 q4  \n",
    "1 3000 4000 9000 null\n",
    "2 4000 null null null\n",
    "3 null 7900 null null\n",
    "4 null null 6000 null\n",
    "\n",
    "#What is the query for the output\n",
    "select distinct(emp_id), expense as q1, from employee group by emp_id\n",
    "\n",
    "Ans. \n",
    "\"SELECT\n",
    "emp_id,\n",
    "  MAX(CASE WHEN quarter = 1 THEN expense ELSE NULL END) AS q1,\n",
    "  MAX(CASE WHEN quarter = 2 THEN expense ELSE NULL END) AS q2,\n",
    "  MAX(CASE WHEN quarter = 3 THEN expense ELSE NULL END) AS q3,\n",
    "  MAX(CASE WHEN quarter = 4 THEN expense ELSE NULL END) AS q4\n",
    "FROM employee\n",
    "GROUP BY emp_id;\""
   ]
  },
  {
   "cell_type": "code",
   "execution_count": null,
   "metadata": {},
   "outputs": [],
   "source": [
    "#Q What is multitherading and what is the use case?\n",
    "Multithreading is a concurrency technique used in computer programming and software development. \n",
    "It involves the execution of multiple \n",
    "threads or lightweight processes within a single process, allowing a program to perform multiple tasks\n",
    "concurrently. Each thread represents a separate sequence of instructions that can run independently \n",
    "while sharing the same resources within the process, such as memory space. \n",
    "Multithreading enables efficient utilization of CPU cores and can lead to improved program performance\n",
    "and responsiveness.\n",
    "\n",
    "Here are some key concepts related to multithreading:\n",
    "\n",
    "Thread: A thread is the smallest unit of a CPU's execution. It represents an independent sequence of \n",
    "    instructions and has its own program \n",
    "    counter, stack, and registers.\n",
    "\n",
    "Concurrency: Concurrency is the ability of a system to handle multiple tasks or threads simultaneously.    \n",
    "    Multithreading enables concurrent execution of tasks.\n",
    "\n",
    "Parallelism: Parallelism involves executing multiple threads or processes simultaneously, often on \n",
    "    multiple CPU cores. Multithreading can be used to achieve parallelism.\n",
    "\n",
    "Use Cases of Multithreading:\n",
    "\n",
    "Improving Responsiveness: Multithreading is often used in graphical user interfaces (GUIs) and \n",
    "    interactive applications to keep the user interface responsive while performing background tasks. \n",
    "    For example, a video player can use a separate thread to decode video data \n",
    "    while the main thread handles user input and rendering.\n",
    "\n",
    "Multicore CPU Utilization: Multithreading allows programs to leverage the processing power of \n",
    "    multicore CPUs effectively. By dividing a task into multiple threads, each thread can execute on \n",
    "    a separate core, leading to better performance.\n",
    "\n",
    "Parallel Processing: Some tasks, such as data processing and rendering, can be divided into smaller\n",
    "    subtasks that can be executed concurrently. Multithreading is used to parallelize these tasks,\n",
    "    reducing overall execution time.\n",
    "\n",
    "Server Applications: In server applications, multithreading can be used to handle multiple client \n",
    "    connections simultaneously. Each client request can be processed by a separate thread, allowing \n",
    "    the server to serve multiple clients concurrently.\n",
    "\n",
    "I/O Operations: Multithreading is useful for managing I/O-bound operations, such as reading from or \n",
    "    writing to files, sockets, or databases. While one thread is waiting for I/O, others can continue \n",
    "    processing.\n",
    "\n",
    "Simulation and Gaming: In game development and simulations, multithreading can be used to handle \n",
    "    various aspects of the game, including \n",
    "    physics, AI, and rendering, concurrently.\n",
    "\n",
    "Data Processing Pipelines: Multithreading can be employed in data processing pipelines, where data \n",
    "    flows through multiple stages, and each stage can be executed in parallel by separate threads.\n",
    "\n",
    "It's important to note that while multithreading can offer significant performance benefits, it also \n",
    "introduces challenges related to thread synchronization, data sharing, and potential race conditions.\n",
    "Proper design and synchronization mechanisms are essential to ensure thread \n",
    "safety and avoid issues like data corruption or deadlocks.\n",
    "\n",
    "\n",
    "\n",
    "\n"
   ]
  }
 ],
 "metadata": {
  "kernelspec": {
   "display_name": "Python 3 (ipykernel)",
   "language": "python",
   "name": "python3"
  },
  "language_info": {
   "codemirror_mode": {
    "name": "ipython",
    "version": 3
   },
   "file_extension": ".py",
   "mimetype": "text/x-python",
   "name": "python",
   "nbconvert_exporter": "python",
   "pygments_lexer": "ipython3",
   "version": "3.10.12"
  }
 },
 "nbformat": 4,
 "nbformat_minor": 2
}
