{
 "cells": [
  {
   "cell_type": "code",
   "execution_count": 7,
   "id": "633abfc7-996c-4da2-b79b-3f98880676b9",
   "metadata": {},
   "outputs": [],
   "source": [
    "def is_sublist(lst, sublist):\n",
    "    n = len(sublist)\n",
    "    for i in range(len(lst) - n + 1):\n",
    "        print(lst[i:i+n])\n",
    "        if lst[i:i+n] == sublist:\n",
    "            return True\n",
    "    return False"
   ]
  },
  {
   "cell_type": "code",
   "execution_count": 8,
   "id": "c3642fba-9a8e-4b8d-9562-2184ffc2bd92",
   "metadata": {},
   "outputs": [
    {
     "name": "stdout",
     "output_type": "stream",
     "text": [
      "[1, 2, 3]\n",
      "[2, 3, 4]\n",
      "[3, 4, 5]\n",
      "[4, 5, 6]\n",
      "False\n",
      "[1, 2, 3]\n",
      "[2, 3, 4]\n",
      "[3, 4, 5]\n",
      "[4, 5, 6]\n",
      "False\n"
     ]
    }
   ],
   "source": [
    "list1 = [1, 2, 3, 4, 5, 6]\n",
    "list2 = [3, 4, 1]\n",
    "\n",
    "print(is_sublist(list1, list2))  # Output: True\n",
    "\n",
    "list3 = [7, 8, 9]\n",
    "\n",
    "print(is_sublist(list1, list3)) "
   ]
  },
  {
   "cell_type": "code",
   "execution_count": 6,
   "id": "47043137-a4d4-444b-b3cc-8f8a9908a10e",
   "metadata": {},
   "outputs": [
    {
     "data": {
      "text/plain": [
       "4"
      ]
     },
     "execution_count": 6,
     "metadata": {},
     "output_type": "execute_result"
    }
   ],
   "source": [
    "\n",
    "list1 = [1, 2, 3, 4, 5, 6]\n",
    "sublist = [3, 4, 1]\n",
    "\n",
    "n = len(sublist)\n",
    "len(list1) - n + 1"
   ]
  },
  {
   "cell_type": "code",
   "execution_count": null,
   "id": "11af8182-117c-4f1c-8fab-b219237d228c",
   "metadata": {},
   "outputs": [],
   "source": [
    "list1 = [1, 2, 3, 4, 5, 6]\n",
    "\n",
    "[1]\n"
   ]
  },
  {
   "cell_type": "code",
   "execution_count": 14,
   "id": "24312d50-6806-45f6-9050-4e9d4e82b2d4",
   "metadata": {},
   "outputs": [
    {
     "data": {
      "text/plain": [
       "True"
      ]
     },
     "execution_count": 14,
     "metadata": {},
     "output_type": "execute_result"
    }
   ],
   "source": [
    "def sublist1(li,sublist):\n",
    "    for i in range(len(li)-len(sublist)+1):\n",
    "        if (li[i:i+len(sublist)]) == sublist:\n",
    "            return True\n",
    "    return False\n",
    "               \n",
    "\n",
    "\n",
    "\n",
    "li = [1,2,3,4,5,6,7]\n",
    "sublist = [1,2]\n",
    "\n",
    "sublist1(li,sublist)"
   ]
  },
  {
   "cell_type": "code",
   "execution_count": null,
   "id": "a7146454-5cb7-4a9a-ad49-c91ba6674561",
   "metadata": {},
   "outputs": [],
   "source": []
  }
 ],
 "metadata": {
  "kernelspec": {
   "display_name": "Python 3 (ipykernel)",
   "language": "python",
   "name": "python3"
  },
  "language_info": {
   "codemirror_mode": {
    "name": "ipython",
    "version": 3
   },
   "file_extension": ".py",
   "mimetype": "text/x-python",
   "name": "python",
   "nbconvert_exporter": "python",
   "pygments_lexer": "ipython3",
   "version": "3.9.13"
  }
 },
 "nbformat": 4,
 "nbformat_minor": 5
}
