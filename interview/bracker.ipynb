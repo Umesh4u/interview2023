{
 "cells": [
  {
   "cell_type": "code",
   "execution_count": 8,
   "id": "81c92162-886f-4f7d-9a2f-6584cc8ba90e",
   "metadata": {},
   "outputs": [
    {
     "data": {
      "text/plain": [
       "False"
      ]
     },
     "execution_count": 8,
     "metadata": {},
     "output_type": "execute_result"
    }
   ],
   "source": [
    "def check_bracket(dic):\n",
    "    stack = []\n",
    "    check = {\"(\" : \")\",\"[\" : \"]\"}\n",
    "    for i in dic:\n",
    "        if i in check:\n",
    "            stack.append(i)\n",
    "        elif len(stack) == 0 or check[stack.pop()] != i:\n",
    "            return False\n",
    "    return True\n",
    "    \n",
    "        \n",
    "dic = \"([{])\"        \n",
    "check_bracket(dic)"
   ]
  },
  {
   "cell_type": "code",
   "execution_count": 13,
   "id": "09ef31c6-563b-4af3-beab-491f8095584b",
   "metadata": {},
   "outputs": [
    {
     "name": "stdout",
     "output_type": "stream",
     "text": [
      "[9, 7, 7, 4, 1]\n"
     ]
    }
   ],
   "source": [
    "# sort\n",
    "\n",
    "li = [4,7,1,7,9]\n",
    "\n",
    "for i in range(len(li)):\n",
    "    for j in range(len(li)-1-i):\n",
    "        if li[j] < li[j+1]:\n",
    "            temp = li[j]\n",
    "            li[j] = li[j+1]\n",
    "            li[j+1] = temp\n",
    "print(li)"
   ]
  },
  {
   "cell_type": "code",
   "execution_count": null,
   "id": "9561fde0-0360-41e6-9a46-c2913c341d8e",
   "metadata": {},
   "outputs": [],
   "source": [
    "4\n",
    "3\n"
   ]
  }
 ],
 "metadata": {
  "kernelspec": {
   "display_name": "Python 3 (ipykernel)",
   "language": "python",
   "name": "python3"
  },
  "language_info": {
   "codemirror_mode": {
    "name": "ipython",
    "version": 3
   },
   "file_extension": ".py",
   "mimetype": "text/x-python",
   "name": "python",
   "nbconvert_exporter": "python",
   "pygments_lexer": "ipython3",
   "version": "3.9.13"
  }
 },
 "nbformat": 4,
 "nbformat_minor": 5
}
