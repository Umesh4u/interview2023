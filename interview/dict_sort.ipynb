{
 "cells": [
  {
   "cell_type": "code",
   "execution_count": null,
   "id": "6ff6484a-83d3-46b0-afa0-d27490c89a27",
   "metadata": {},
   "outputs": [],
   "source": [
    "#### Dictionary sort by values\n",
    "\n",
    "dict1 = {1: 1, 2: 9, 3: 4}\n",
    "sorted_values = sorted(dict1.values()) # Sort the values\n",
    "\n",
    "\n",
    "sorted_dict = {}\n",
    "for i in sorted_values:\n",
    "    for k in dict1.keys():\n",
    "        if dict1[k] == i:\n",
    "            sorted_dict[k] = dict1[k]\n",
    "\n",
    "            \n",
    "\n",
    "print(sorted_dict)\n",
    "\n",
    "#### Dictionary sort by key\n",
    "\n",
    "my_dict = {'apple': 3, 'orange': 1, 'banana': 2}\n",
    "sorted_dict = {i:my_dict[i] for i in sorted(my_dict)}"
   ]
  }
 ],
 "metadata": {
  "kernelspec": {
   "display_name": "Python 3 (ipykernel)",
   "language": "python",
   "name": "python3"
  },
  "language_info": {
   "codemirror_mode": {
    "name": "ipython",
    "version": 3
   },
   "file_extension": ".py",
   "mimetype": "text/x-python",
   "name": "python",
   "nbconvert_exporter": "python",
   "pygments_lexer": "ipython3",
   "version": "3.9.13"
  }
 },
 "nbformat": 4,
 "nbformat_minor": 5
}
