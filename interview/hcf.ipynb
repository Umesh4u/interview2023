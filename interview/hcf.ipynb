{
 "cells": [
  {
   "cell_type": "code",
   "execution_count": 6,
   "id": "aa8e34a6-5e7a-49d7-b833-f9f9b9d6247d",
   "metadata": {},
   "outputs": [
    {
     "name": "stdout",
     "output_type": "stream",
     "text": [
      "25\n"
     ]
    }
   ],
   "source": [
    "### Python Program to print the HCF of two numbers\n",
    "## Highest Common Factor.\n",
    "\n",
    "\n",
    "def hcf(num,num1):\n",
    "    smaller_value =num1 if num > num1 else num \n",
    "    hcf = 1\n",
    "    for i in range(2,smaller_value+1):\n",
    "        if num % i == 0 and num1 % i == 0:\n",
    "            hcf = i\n",
    "    print(hcf)\n",
    "    \n",
    "hcf(125,25)"
   ]
  },
  {
   "cell_type": "code",
   "execution_count": null,
   "id": "a00426cf-7c74-4b43-a400-50131d7fbff9",
   "metadata": {},
   "outputs": [],
   "source": []
  }
 ],
 "metadata": {
  "kernelspec": {
   "display_name": "Python 3 (ipykernel)",
   "language": "python",
   "name": "python3"
  },
  "language_info": {
   "codemirror_mode": {
    "name": "ipython",
    "version": 3
   },
   "file_extension": ".py",
   "mimetype": "text/x-python",
   "name": "python",
   "nbconvert_exporter": "python",
   "pygments_lexer": "ipython3",
   "version": "3.9.13"
  }
 },
 "nbformat": 4,
 "nbformat_minor": 5
}
