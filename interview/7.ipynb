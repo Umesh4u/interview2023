{
 "cells": [
  {
   "cell_type": "code",
   "execution_count": null,
   "metadata": {},
   "outputs": [],
   "source": [
    "str1=\"\"\n",
    "\n",
    "for i in range(5):\n",
    "\n",
    "    str1=str1+str(i)\n",
    "\n",
    "    print(str1)"
   ]
  },
  {
   "cell_type": "code",
   "execution_count": 13,
   "metadata": {},
   "outputs": [],
   "source": [
    "l=[1,2,3,4]"
   ]
  },
  {
   "cell_type": "code",
   "execution_count": 19,
   "metadata": {},
   "outputs": [
    {
     "data": {
      "text/plain": [
       "2"
      ]
     },
     "execution_count": 19,
     "metadata": {},
     "output_type": "execute_result"
    }
   ],
   "source": [
    "a = iter(l)\n",
    "next(a)\n",
    "next(a)"
   ]
  },
  {
   "cell_type": "code",
   "execution_count": 17,
   "metadata": {},
   "outputs": [
    {
     "name": "stdout",
     "output_type": "stream",
     "text": [
      "[0, 1, 1, 2, 3, 5, 8]\n",
      "0, 1, 1, 2, 3, 5, 8\n"
     ]
    }
   ],
   "source": [
    "#0,1,1,2,3,5,8\n",
    "def fib(num):\n",
    "    fibnocci=[0,1]\n",
    "    for i in range(num):\n",
    "        value = fibnocci[-1]+fibnocci[-2]\n",
    "        fibnocci.append(value)\n",
    "    return fibnocci\n",
    "\n",
    "result =fib(5)\n",
    "\n",
    "print(result)\n",
    "fibnocci_result = \", \".join(map(str,result))\n",
    "\n",
    "print(fibnocci_result)\n",
    "    \n",
    "\n",
    "    "
   ]
  },
  {
   "cell_type": "code",
   "execution_count": 2,
   "metadata": {},
   "outputs": [
    {
     "name": "stdout",
     "output_type": "stream",
     "text": [
      "{'k9': 4, 'k3': 5, 'k6': 8, 'k1': 9}\n"
     ]
    }
   ],
   "source": [
    "ip_dict={\n",
    "\n",
    "'k1':9,\n",
    "\n",
    "'k3':5,\n",
    "\n",
    "'k6':8,\n",
    "\n",
    "'k9':4\n",
    "\n",
    "}\n",
    "\n",
    "def sort(dict1):\n",
    "    data = dict(sorted(dict1.items(),key=lambda item:item[1]))\n",
    "    return data\n",
    "    \n",
    "result = sort(ip_dict)\n",
    "print(result)\n"
   ]
  },
  {
   "cell_type": "code",
   "execution_count": 20,
   "metadata": {},
   "outputs": [
    {
     "name": "stdout",
     "output_type": "stream",
     "text": [
      "[]\n",
      "[]\n",
      "[10]\n",
      "[10, 'a'] [456] [10, 'a']\n"
     ]
    }
   ],
   "source": [
    "\n",
    "def extend_list(val, list1=[]):\n",
    "    print(list1)\n",
    "    list1.append(val)\n",
    "\n",
    "    return list1\n",
    "\n",
    " \n",
    "\n",
    "list2 = extend_list(10) #10\n",
    "\n",
    "list3 = extend_list(456, []) #456\n",
    "\n",
    "list4 = extend_list('a') #a\n",
    "\n",
    " \n",
    "\n",
    "print(list2, list3, list4)"
   ]
  },
  {
   "cell_type": "code",
   "execution_count": null,
   "metadata": {},
   "outputs": [],
   "source": [
    "#student and stream table realationship\n",
    " \n",
    "# suppose we have a php project with heavy database there is also records in all tables. \n",
    "# I want to shift project in the django how to do it?\n",
    "\n",
    "# nested serializer\n",
    "\n",
    "# put a validation on particular field like mobile number in serializer how to do it?\n",
    "# "
   ]
  }
 ],
 "metadata": {
  "kernelspec": {
   "display_name": "Python 3 (ipykernel)",
   "language": "python",
   "name": "python3"
  },
  "language_info": {
   "codemirror_mode": {
    "name": "ipython",
    "version": 3
   },
   "file_extension": ".py",
   "mimetype": "text/x-python",
   "name": "python",
   "nbconvert_exporter": "python",
   "pygments_lexer": "ipython3",
   "version": "3.10.12"
  }
 },
 "nbformat": 4,
 "nbformat_minor": 2
}
