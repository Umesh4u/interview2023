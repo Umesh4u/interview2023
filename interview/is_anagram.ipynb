{
 "cells": [
  {
   "cell_type": "code",
   "execution_count": 1,
   "id": "d831662e-76e4-46e1-90d2-5510899f1b6d",
   "metadata": {},
   "outputs": [
    {
     "name": "stdout",
     "output_type": "stream",
     "text": [
      "The strings are anagrams.\n"
     ]
    }
   ],
   "source": [
    "def is_anagram(str1, str2):\n",
    "    # Remove any spaces and convert strings to lowercase\n",
    "    str1 = str1.replace(' ', '').lower()\n",
    "    str2 = str2.replace(' ', '').lower()\n",
    "    \n",
    "    # Check if the lengths of the strings are equal\n",
    "    if len(str1) != len(str2):\n",
    "        return False\n",
    "    \n",
    "    # Sort the characters in both strings\n",
    "    sorted_str1 = sorted(str1)\n",
    "    sorted_str2 = sorted(str2)\n",
    "    \n",
    "    # Compare the sorted strings\n",
    "    if sorted_str1 == sorted_str2:\n",
    "        return True\n",
    "    \n",
    "    return False\n",
    "\n",
    "\n",
    "s1='interview'\n",
    "\n",
    "s2='ivtneirew'\n",
    "\n",
    "if is_anagram(s1, s2):\n",
    "    print(\"The strings are anagrams.\")\n",
    "else:\n",
    "    print(\"The strings are not anagrams.\")"
   ]
  },
  {
   "cell_type": "code",
   "execution_count": 4,
   "id": "a163d49e-998b-4592-a450-04e1d1137c89",
   "metadata": {},
   "outputs": [
    {
     "name": "stdout",
     "output_type": "stream",
     "text": [
      "{'i': 2, 'n': 1, 't': 1, 'e': 2, 'r': 1, 'v': 1, 'w': 1}\n"
     ]
    }
   ],
   "source": [
    "def is_anagram(s1):\n",
    "    di = {}\n",
    "    for i in s1:\n",
    "        if di.get(i):\n",
    "            di[i] = di[i] + 1\n",
    "        else:\n",
    "            di[i] = 1\n",
    "    print(di)\n",
    "            \n",
    "s1='interview'\n",
    "is_anagram(s1)\n",
    "    \n",
    "    \n"
   ]
  },
  {
   "cell_type": "code",
   "execution_count": 8,
   "id": "b873bd9a-5ec0-4e96-b96d-b9980d4ca62e",
   "metadata": {},
   "outputs": [
    {
     "name": "stdout",
     "output_type": "stream",
     "text": [
      "2\n",
      "6\n",
      "24\n",
      "120\n"
     ]
    },
    {
     "data": {
      "text/plain": [
       "120"
      ]
     },
     "execution_count": 8,
     "metadata": {},
     "output_type": "execute_result"
    }
   ],
   "source": [
    "# Factorial number\n",
    "\n",
    "def fact_calculate(n):\n",
    "    fact = 1\n",
    "    if n == 1:\n",
    "        return n\n",
    "    else:\n",
    "        fact = n * fact_calculate(n-1)\n",
    "        print(fact)\n",
    "        return fact\n",
    "\n",
    "\n",
    "fact_calculate(5)"
   ]
  },
  {
   "cell_type": "code",
   "execution_count": 9,
   "id": "37644f72-a2cc-4d77-a6f1-02f6f442b962",
   "metadata": {},
   "outputs": [
    {
     "name": "stdout",
     "output_type": "stream",
     "text": [
      "{1: 1, 2: 4, 3: 9, 4: 16, 5: 25, 6: 36, 7: 49, 8: 64, 9: 81, 10: 100}\n"
     ]
    }
   ],
   "source": [
    "square_dict = {num: num*num for num in range(1, 11)}\n",
    "print(square_dict)"
   ]
  },
  {
   "cell_type": "code",
   "execution_count": 11,
   "id": "8adcbcc4-086a-4c9e-8945-1a4bf40a6f22",
   "metadata": {},
   "outputs": [],
   "source": [
    "#  sum of 10 natural number\n",
    "\n",
    "# a = 1 to 10\n",
    "\n",
    "sum = 10 * 11 // 2"
   ]
  },
  {
   "cell_type": "code",
   "execution_count": 1,
   "id": "a9255a95-a87c-4037-a0b2-980b9d475d1a",
   "metadata": {},
   "outputs": [
    {
     "name": "stdout",
     "output_type": "stream",
     "text": [
      "Pair found: 2 + 11\n"
     ]
    }
   ],
   "source": [
    "def find_pair_with_sum(arr, target_sum):\n",
    "    # Sort the array in ascending order\n",
    "    arr.sort()\n",
    "\n",
    "    # Initialize two pointers\n",
    "    left = 0\n",
    "    right = len(arr) - 1\n",
    "\n",
    "    # Iterate until the pointers meet\n",
    "    while left < right:\n",
    "        current_sum = arr[left] + arr[right]\n",
    "        if current_sum == target_sum:\n",
    "            # Found a pair with the target sum\n",
    "            return arr[left], arr[right]\n",
    "        elif current_sum < target_sum:\n",
    "            # The current sum is less than the target sum, move the left pointer forward\n",
    "            left += 1\n",
    "        else:\n",
    "            # The current sum is greater than the target sum, move the right pointer backward\n",
    "            right -= 1\n",
    "\n",
    "    # No pair found with the target sum\n",
    "    return None\n",
    "\n",
    "# Example usage\n",
    "arr = [2, 4, 8, 11, 7, 5]\n",
    "target_sum = 13\n",
    "result = find_pair_with_sum(arr, target_sum)\n",
    "if result:\n",
    "    print(\"Pair found:\", result[0], \"+\", result[1])\n",
    "else:\n",
    "    print(\"No pair found with the given sum.\")"
   ]
  },
  {
   "cell_type": "code",
   "execution_count": 5,
   "id": "ab4150db-03e3-4a42-b326-7a837cf7889a",
   "metadata": {},
   "outputs": [
    {
     "name": "stdout",
     "output_type": "stream",
     "text": [
      "(1, 5)\n",
      "(1, 5)\n",
      "(7, -1)\n"
     ]
    }
   ],
   "source": [
    "def printPairs(arr, n, sum):\n",
    " \n",
    "    # count = 0\n",
    " \n",
    "    # Consider all possible\n",
    "    # pairs and check their sums\n",
    "    for i in range(0, n):\n",
    "        for j in range(i + 1, n):\n",
    "            if (arr[i] + arr[j] == sum):\n",
    "                print(\"(\", arr[i],\n",
    "                      \", \", arr[j],\n",
    "                      \")\", sep=\"\")\n",
    " \n",
    " \n",
    "# Driver Code\n",
    "arr = [1, 5, 7, -1, 5]\n",
    "n = len(arr)\n",
    "sum = 6\n",
    "printPairs(arr, n, sum)"
   ]
  },
  {
   "cell_type": "code",
   "execution_count": null,
   "id": "8c6f6cb1-3e78-471b-9979-dd598cf88f6c",
   "metadata": {},
   "outputs": [],
   "source": [
    "## Find subarray\n",
    "\n",
    "def find_subarray(li):\n",
    "    pass\n",
    "\n",
    "\n",
    "\n",
    "li = [1,2,3,4,5]\n",
    "find_subarray(li)"
   ]
  },
  {
   "cell_type": "code",
   "execution_count": 3,
   "id": "2fcde260-1a91-4d4a-948c-e0a7eb631c2f",
   "metadata": {},
   "outputs": [
    {
     "name": "stdout",
     "output_type": "stream",
     "text": [
      "True\n",
      "False\n"
     ]
    }
   ],
   "source": [
    "list1 = [1, 2, 3, 4, 5, 6]\n",
    "list2 = [3, 4, 5]\n",
    "\n",
    "print(is_sublist(list1, list2))  # Output: True\n",
    "\n",
    "list3 = [7, 8, 9]\n",
    "\n",
    "print(is_sublist(list1, list3)) "
   ]
  },
  {
   "cell_type": "code",
   "execution_count": 2,
   "id": "b35c2157-f51d-4d85-9dcd-bf184eaf5207",
   "metadata": {},
   "outputs": [],
   "source": [
    "def is_sublist(lst, sublist):\n",
    "    n = len(sublist)\n",
    "    for i in range(len(lst) - n + 1):\n",
    "        if lst[i:i+n] == sublist:\n",
    "            return True\n",
    "    return False"
   ]
  },
  {
   "cell_type": "code",
   "execution_count": 1,
   "id": "58870170-3c20-4325-8ef1-669c3ac5fdaf",
   "metadata": {},
   "outputs": [
    {
     "name": "stdout",
     "output_type": "stream",
     "text": [
      "Searching element is present at the location: 6\n"
     ]
    }
   ],
   "source": [
    "## Binary Search Algorithm using recursion\n",
    "## function definition\n",
    "def binarySearch(arr, x, i, j):\n",
    "    while i <= j:\n",
    "        mid = i + (j-i)//2\n",
    "        if arr[mid] == x:\n",
    "            return mid\n",
    "        elif arr[mid] < x:\n",
    "            ## right side of the mid\n",
    "            ## seach space - mid+1 to j\n",
    "            ## recursion - calling the same function again inside the \n",
    "            ## method definition\n",
    "            return binarySearch(arr, x, mid+1, j)\n",
    "        else:\n",
    "            ## left side of the mid\n",
    "            ## search space - i to mid-1\n",
    "            return binarySearch(arr, x, i, mid-1)\n",
    "    ## searching element is not present in an array\n",
    "    return -1\n",
    "\n",
    "## Driver code\n",
    "arr = [20, 30, 40, 50, 60, 70, 80, 90]\n",
    "x = 80\n",
    "i = 0\n",
    "j = len(arr) - 1\n",
    "## function calling\n",
    "result = binarySearch(arr, x, i, j)\n",
    "print(\"Searching element is present at the location:\",result)"
   ]
  },
  {
   "cell_type": "code",
   "execution_count": null,
   "id": "04ac0fba-082a-478b-888d-0d0a9dde8ec7",
   "metadata": {},
   "outputs": [],
   "source": []
  }
 ],
 "metadata": {
  "kernelspec": {
   "display_name": "Python 3 (ipykernel)",
   "language": "python",
   "name": "python3"
  },
  "language_info": {
   "codemirror_mode": {
    "name": "ipython",
    "version": 3
   },
   "file_extension": ".py",
   "mimetype": "text/x-python",
   "name": "python",
   "nbconvert_exporter": "python",
   "pygments_lexer": "ipython3",
   "version": "3.9.13"
  }
 },
 "nbformat": 4,
 "nbformat_minor": 5
}
