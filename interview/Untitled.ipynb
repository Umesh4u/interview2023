{
 "cells": [
  {
   "cell_type": "code",
   "execution_count": 1,
   "metadata": {},
   "outputs": [
    {
     "name": "stdout",
     "output_type": "stream",
     "text": [
      "[1, 4, 9, 16, 25]\n"
     ]
    }
   ],
   "source": [
    "#list comprihansion\n",
    "lst1 =[1,2,3,4,5]\n",
    "lst = [x**2 for x in lst1 ]\n",
    "print(lst)"
   ]
  },
  {
   "cell_type": "code",
   "execution_count": 3,
   "metadata": {},
   "outputs": [
    {
     "name": "stdout",
     "output_type": "stream",
     "text": [
      "I am modififiying original behaviour\n"
     ]
    }
   ],
   "source": [
    "#monkeypatching\n",
    "class Abc():\n",
    "    def display(self):\n",
    "        print(\"Hello I am Display Function\")\n",
    "\n",
    "def display1():\n",
    "    print(\"I am modififiying original behaviour\")\n",
    "obj = Abc()\n",
    "obj.display =display1()"
   ]
  },
  {
   "cell_type": "code",
   "execution_count": null,
   "metadata": {},
   "outputs": [],
   "source": [
    "#list tuple and dictionary difference and why tuple is faster then list\n",
    "#manyto many field how to make in django model and behind the scene what is structure of the table in mysql\n",
    "# create doctor and patient and medicine primary key and foreign key structure create in mysql"
   ]
  }
 ],
 "metadata": {
  "kernelspec": {
   "display_name": "Python 3 (ipykernel)",
   "language": "python",
   "name": "python3"
  },
  "language_info": {
   "codemirror_mode": {
    "name": "ipython",
    "version": 3
   },
   "file_extension": ".py",
   "mimetype": "text/x-python",
   "name": "python",
   "nbconvert_exporter": "python",
   "pygments_lexer": "ipython3",
   "version": "3.10.12"
  }
 },
 "nbformat": 4,
 "nbformat_minor": 2
}
