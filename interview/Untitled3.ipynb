{
 "cells": [
  {
   "cell_type": "markdown",
   "metadata": {},
   "source": [
    "## Data Types\n",
    "### Numeric Type - Integer,Float, Complex\n",
    "### Sequence Type - List, Tuple, String\n",
    "### Boolean\n",
    "### Set \n",
    "### Dictionary\n"
   ]
  },
  {
   "cell_type": "code",
   "execution_count": 37,
   "metadata": {},
   "outputs": [
    {
     "name": "stdout",
     "output_type": "stream",
     "text": [
      "7\n"
     ]
    },
    {
     "data": {
      "text/plain": [
       "int"
      ]
     },
     "execution_count": 37,
     "metadata": {},
     "output_type": "execute_result"
    }
   ],
   "source": [
    "#int\n",
    "a =4\n",
    "b=3\n",
    "print(a+b)\n",
    "type(a)"
   ]
  },
  {
   "cell_type": "code",
   "execution_count": 30,
   "metadata": {},
   "outputs": [
    {
     "data": {
      "text/plain": [
       "float"
      ]
     },
     "execution_count": 30,
     "metadata": {},
     "output_type": "execute_result"
    }
   ],
   "source": [
    "#float\n",
    "b=0.0\n",
    "type(b)"
   ]
  },
  {
   "cell_type": "code",
   "execution_count": 32,
   "metadata": {},
   "outputs": [
    {
     "data": {
      "text/plain": [
       "complex"
      ]
     },
     "execution_count": 32,
     "metadata": {},
     "output_type": "execute_result"
    }
   ],
   "source": [
    "#complex\n",
    "c=3+2j\n",
    "type(c)"
   ]
  },
  {
   "cell_type": "code",
   "execution_count": 39,
   "metadata": {},
   "outputs": [
    {
     "name": "stdout",
     "output_type": "stream",
     "text": [
      "Kusum Samal\n",
      "43\n"
     ]
    }
   ],
   "source": [
    "#string\n",
    "d=\"\"\n",
    "name=\"Kusum\"\n",
    "last_name=\" Samal\"\n",
    "print(name + last_name) #string concatination\n",
    "a =\"4\"\n",
    "b=\"3\"\n",
    "print(a+b)"
   ]
  },
  {
   "cell_type": "code",
   "execution_count": 41,
   "metadata": {},
   "outputs": [
    {
     "data": {
      "text/plain": [
       "list"
      ]
     },
     "execution_count": 41,
     "metadata": {},
     "output_type": "execute_result"
    }
   ],
   "source": [
    "lst =[1,2.2,True,3+7j,\"Kusum\"]\n",
    "type(lst)"
   ]
  },
  {
   "cell_type": "code",
   "execution_count": 44,
   "metadata": {},
   "outputs": [
    {
     "data": {
      "text/plain": [
       "tuple"
      ]
     },
     "execution_count": 44,
     "metadata": {},
     "output_type": "execute_result"
    }
   ],
   "source": [
    "tup=(1,2,3,True)\n",
    "type(tup)"
   ]
  },
  {
   "cell_type": "code",
   "execution_count": null,
   "metadata": {},
   "outputs": [],
   "source": [
    "#bool\n",
    "True, False, true, false"
   ]
  },
  {
   "cell_type": "code",
   "execution_count": 47,
   "metadata": {},
   "outputs": [
    {
     "data": {
      "text/plain": [
       "{(3+2j), 1, 3.5, 'Samal'}"
      ]
     },
     "execution_count": 47,
     "metadata": {},
     "output_type": "execute_result"
    }
   ],
   "source": [
    "#set\n",
    "s={1,3.5,True,3+2j, \"Samal\",1}\n",
    "s"
   ]
  },
  {
   "cell_type": "code",
   "execution_count": 52,
   "metadata": {},
   "outputs": [
    {
     "data": {
      "text/plain": [
       "23"
      ]
     },
     "execution_count": 52,
     "metadata": {},
     "output_type": "execute_result"
    }
   ],
   "source": [
    "#Dict\n",
    "d={\"name\":\"kusum\",\"age\":23}\n",
    "type(d)\n",
    "d['age']"
   ]
  },
  {
   "cell_type": "code",
   "execution_count": null,
   "metadata": {},
   "outputs": [],
   "source": [
    "student\n",
    "name- string\n",
    "age- int\n",
    "is_attandance - bool\n",
    "marks-34.5,99.9 float"
   ]
  },
  {
   "cell_type": "code",
   "execution_count": 128,
   "metadata": {},
   "outputs": [
    {
     "data": {
      "text/plain": [
       "[17, 12, 7, 2, -3, 2, 7, 12, 17]"
      ]
     },
     "execution_count": 128,
     "metadata": {},
     "output_type": "execute_result"
    }
   ],
   "source": [
    "n=10\n",
    "li=[]\n",
    "\n",
    "def pattern(n):\n",
    "    global li\n",
    "    if n>0:\n",
    "        n=n-5\n",
    "        s=pattern(n)\n",
    "        li.append()\n",
    "    else:\n",
    "        s=pattern(n)\n",
    "        li.append(s)\n",
    "        \n",
    "        li.append(s)\n",
    "        pattern\n",
    "    elif op==\"-\":\n",
    "        n=n-5\n",
    "        li.append(s)\n",
    "        \n",
    "    \n",
    "\n",
    "li"
   ]
  },
  {
   "cell_type": "code",
   "execution_count": 147,
   "metadata": {},
   "outputs": [
    {
     "name": "stdin",
     "output_type": "stream",
     "text": [
      " 2\n",
      " 10\n"
     ]
    },
    {
     "name": "stdout",
     "output_type": "stream",
     "text": [
      "10 5 0 5 10 \n"
     ]
    },
    {
     "name": "stdin",
     "output_type": "stream",
     "text": [
      " 0\n"
     ]
    },
    {
     "ename": "RecursionError",
     "evalue": "maximum recursion depth exceeded in comparison",
     "output_type": "error",
     "traceback": [
      "\u001b[0;31m---------------------------------------------------------------------------\u001b[0m",
      "\u001b[0;31mRecursionError\u001b[0m                            Traceback (most recent call last)",
      "Cell \u001b[0;32mIn[147], line 34\u001b[0m\n\u001b[1;32m     31\u001b[0m N \u001b[38;5;241m=\u001b[39m \u001b[38;5;28mint\u001b[39m(\u001b[38;5;28minput\u001b[39m())\n\u001b[1;32m     33\u001b[0m ob \u001b[38;5;241m=\u001b[39m Solution()\n\u001b[0;32m---> 34\u001b[0m ans \u001b[38;5;241m=\u001b[39m \u001b[43mob\u001b[49m\u001b[38;5;241;43m.\u001b[39;49m\u001b[43mpattern\u001b[49m\u001b[43m(\u001b[49m\u001b[43mN\u001b[49m\u001b[43m)\u001b[49m\n\u001b[1;32m     35\u001b[0m \u001b[38;5;28;01mfor\u001b[39;00m i \u001b[38;5;129;01min\u001b[39;00m ans:\n\u001b[1;32m     36\u001b[0m     \u001b[38;5;28mprint\u001b[39m(i, end \u001b[38;5;241m=\u001b[39m \u001b[38;5;124m\"\u001b[39m\u001b[38;5;124m \u001b[39m\u001b[38;5;124m\"\u001b[39m)\n",
      "Cell \u001b[0;32mIn[147], line 21\u001b[0m, in \u001b[0;36mSolution.pattern\u001b[0;34m(self, N)\u001b[0m\n\u001b[1;32m     19\u001b[0m N\u001b[38;5;241m=\u001b[39mN\u001b[38;5;241m+\u001b[39m\u001b[38;5;241m5\u001b[39m\n\u001b[1;32m     20\u001b[0m \u001b[38;5;28mself\u001b[39m\u001b[38;5;241m.\u001b[39mli\u001b[38;5;241m.\u001b[39mappend(N)\n\u001b[0;32m---> 21\u001b[0m \u001b[38;5;28;01mreturn\u001b[39;00m \u001b[38;5;28;43mself\u001b[39;49m\u001b[38;5;241;43m.\u001b[39;49m\u001b[43mpattern\u001b[49m\u001b[43m(\u001b[49m\u001b[43mN\u001b[49m\u001b[43m)\u001b[49m\n",
      "Cell \u001b[0;32mIn[147], line 21\u001b[0m, in \u001b[0;36mSolution.pattern\u001b[0;34m(self, N)\u001b[0m\n\u001b[1;32m     19\u001b[0m N\u001b[38;5;241m=\u001b[39mN\u001b[38;5;241m+\u001b[39m\u001b[38;5;241m5\u001b[39m\n\u001b[1;32m     20\u001b[0m \u001b[38;5;28mself\u001b[39m\u001b[38;5;241m.\u001b[39mli\u001b[38;5;241m.\u001b[39mappend(N)\n\u001b[0;32m---> 21\u001b[0m \u001b[38;5;28;01mreturn\u001b[39;00m \u001b[38;5;28;43mself\u001b[39;49m\u001b[38;5;241;43m.\u001b[39;49m\u001b[43mpattern\u001b[49m\u001b[43m(\u001b[49m\u001b[43mN\u001b[49m\u001b[43m)\u001b[49m\n",
      "    \u001b[0;31m[... skipping similar frames: Solution.pattern at line 21 (2968 times)]\u001b[0m\n",
      "Cell \u001b[0;32mIn[147], line 21\u001b[0m, in \u001b[0;36mSolution.pattern\u001b[0;34m(self, N)\u001b[0m\n\u001b[1;32m     19\u001b[0m N\u001b[38;5;241m=\u001b[39mN\u001b[38;5;241m+\u001b[39m\u001b[38;5;241m5\u001b[39m\n\u001b[1;32m     20\u001b[0m \u001b[38;5;28mself\u001b[39m\u001b[38;5;241m.\u001b[39mli\u001b[38;5;241m.\u001b[39mappend(N)\n\u001b[0;32m---> 21\u001b[0m \u001b[38;5;28;01mreturn\u001b[39;00m \u001b[38;5;28;43mself\u001b[39;49m\u001b[38;5;241;43m.\u001b[39;49m\u001b[43mpattern\u001b[49m\u001b[43m(\u001b[49m\u001b[43mN\u001b[49m\u001b[43m)\u001b[49m\n",
      "Cell \u001b[0;32mIn[147], line 13\u001b[0m, in \u001b[0;36mSolution.pattern\u001b[0;34m(self, N)\u001b[0m\n\u001b[1;32m     11\u001b[0m \u001b[38;5;28;01mif\u001b[39;00m \u001b[38;5;28mlen\u001b[39m(\u001b[38;5;28mself\u001b[39m\u001b[38;5;241m.\u001b[39mli)\u001b[38;5;241m>\u001b[39m\u001b[38;5;241m1\u001b[39m \u001b[38;5;129;01mand\u001b[39;00m N\u001b[38;5;241m==\u001b[39m\u001b[38;5;28mself\u001b[39m\u001b[38;5;241m.\u001b[39mli[\u001b[38;5;241m0\u001b[39m]:\n\u001b[1;32m     12\u001b[0m     \u001b[38;5;28;01mreturn\u001b[39;00m \u001b[38;5;28mself\u001b[39m\u001b[38;5;241m.\u001b[39mli\n\u001b[0;32m---> 13\u001b[0m \u001b[38;5;28;01melif\u001b[39;00m \u001b[38;5;129;01mnot\u001b[39;00m \u001b[38;5;28;43mmin\u001b[39;49m\u001b[43m(\u001b[49m\u001b[38;5;28;43mself\u001b[39;49m\u001b[38;5;241;43m.\u001b[39;49m\u001b[43mli\u001b[49m\u001b[43m)\u001b[49m\u001b[38;5;241m<\u001b[39m\u001b[38;5;241m=\u001b[39m\u001b[38;5;241m0\u001b[39m:\n\u001b[1;32m     14\u001b[0m     N\u001b[38;5;241m=\u001b[39mN\u001b[38;5;241m-\u001b[39m\u001b[38;5;241m5\u001b[39m\n\u001b[1;32m     15\u001b[0m     \u001b[38;5;28mself\u001b[39m\u001b[38;5;241m.\u001b[39mli\u001b[38;5;241m.\u001b[39mappend(N)\n",
      "\u001b[0;31mRecursionError\u001b[0m: maximum recursion depth exceeded in comparison"
     ]
    }
   ],
   "source": [
    "#User function Template for python3\n",
    "\n",
    "class Solution:\n",
    "    def __init__(self):\n",
    "        self.li=[]\n",
    "    \n",
    "    def pattern(self, N):\n",
    "        # code here\n",
    "        if len(self.li)==0:\n",
    "            self.li.append(N)\n",
    "        if len(self.li)>1 and N==self.li[0]:\n",
    "            return self.li\n",
    "        elif not min(self.li)<=0:\n",
    "            N=N-5\n",
    "            self.li.append(N)\n",
    "            return self.pattern(N)\n",
    "\n",
    "        elif min(self.li)<=0:\n",
    "            N=N+5\n",
    "            self.li.append(N)\n",
    "            return self.pattern(N)\n",
    "\n",
    "\n",
    "#{ \n",
    " # Driver Code Starts\n",
    "#Initial Template for Python 3\n",
    "\n",
    "if __name__ == '__main__':\n",
    "    t = int(input())\n",
    "    for _ in range(t):\n",
    "        N = int(input())\n",
    "        \n",
    "        ob = Solution()\n",
    "        ans = ob.pattern(N)\n",
    "        for i in ans:\n",
    "            print(i, end = \" \")\n",
    "        print()\n",
    "# } Driver Code Ends"
   ]
  },
  {
   "cell_type": "code",
   "execution_count": 151,
   "metadata": {},
   "outputs": [],
   "source": [
    "def pattern(n, m, flag): \n",
    "    print(m) \n",
    "    if flag == False and n == m: \n",
    "        return\n",
    "    if flag == True:\n",
    "        if m - 5 > 0: \n",
    "            return pattern(n, m - 5, True) \n",
    "        else:  \n",
    "            return pattern(n, m - 5, False) \n",
    "    else:\n",
    "        return pattern(n, m + 5, False) \n",
    "\n",
    "n = 16\n",
    "\n",
    "flag = True\n",
    "# for i in range(n):\n",
    "#        print(pattern(i))"
   ]
  },
  {
   "cell_type": "code",
   "execution_count": 146,
   "metadata": {},
   "outputs": [
    {
     "data": {
      "text/plain": [
       "-5"
      ]
     },
     "execution_count": 146,
     "metadata": {},
     "output_type": "execute_result"
    }
   ],
   "source": [
    "0-5"
   ]
  },
  {
   "cell_type": "code",
   "execution_count": 153,
   "metadata": {},
   "outputs": [
    {
     "name": "stdout",
     "output_type": "stream",
     "text": [
      "0\n",
      "-5\n",
      "0\n"
     ]
    }
   ],
   "source": [
    "def pattern(n, m, flag): \n",
    "    print(m) \n",
    "    if flag == False and n == m: \n",
    "        return\n",
    "    if flag == True:\n",
    "        if m - 5 > 0: \n",
    "            return pattern(n, m - 5, True) \n",
    "        else:  \n",
    "            return pattern(n, m - 5, False) \n",
    "    else:\n",
    "        return pattern(n, m + 5, False) \n",
    "\n",
    "n = 0\n",
    "\n",
    "flag = True\n",
    "pattern(n, n, flag) \n",
    "# for i in range(n):\n",
    "#        print(pattern(i))"
   ]
  },
  {
   "cell_type": "code",
   "execution_count": 160,
   "metadata": {},
   "outputs": [
    {
     "name": "stdin",
     "output_type": "stream",
     "text": [
      " 1\n",
      " 10\n"
     ]
    },
    {
     "name": "stdout",
     "output_type": "stream",
     "text": [
      "5\n",
      "0\n",
      "None\n"
     ]
    },
    {
     "ename": "TypeError",
     "evalue": "'NoneType' object is not iterable",
     "output_type": "error",
     "traceback": [
      "\u001b[0;31m---------------------------------------------------------------------------\u001b[0m",
      "\u001b[0;31mTypeError\u001b[0m                                 Traceback (most recent call last)",
      "Cell \u001b[0;32mIn[160], line 35\u001b[0m\n\u001b[1;32m     33\u001b[0m ans \u001b[38;5;241m=\u001b[39m ob\u001b[38;5;241m.\u001b[39mpattern(N)\n\u001b[1;32m     34\u001b[0m \u001b[38;5;28mprint\u001b[39m(ans)\n\u001b[0;32m---> 35\u001b[0m \u001b[38;5;28;01mfor\u001b[39;00m i \u001b[38;5;129;01min\u001b[39;00m ans:\n\u001b[1;32m     36\u001b[0m     \u001b[38;5;28mprint\u001b[39m(i, end \u001b[38;5;241m=\u001b[39m \u001b[38;5;124m\"\u001b[39m\u001b[38;5;124m \u001b[39m\u001b[38;5;124m\"\u001b[39m)\n\u001b[1;32m     37\u001b[0m \u001b[38;5;28mprint\u001b[39m()\n",
      "\u001b[0;31mTypeError\u001b[0m: 'NoneType' object is not iterable"
     ]
    }
   ],
   "source": [
    "class Solution:\n",
    "    def __init__(self):\n",
    "        self.li=[]\n",
    "        self.flag=True\n",
    "    \n",
    "    def pattern(self, N, m=N):\n",
    "        # code here\n",
    "        \n",
    "        if flag == False and n == m: \n",
    "            return li\n",
    "        if flag == True:\n",
    "            if m - 5 > 0: \n",
    "                li.append(m-5)\n",
    "                return pattern(n, m - 5, True) \n",
    "            else:  \n",
    "                li.append(m-5)\n",
    "                return pattern(n, m - 5, False) \n",
    "        else:\n",
    "            li.append(m+5)\n",
    "            return pattern(n, m + 5, False) \n",
    "        \n",
    "\n",
    "#{ \n",
    " # Driver Code Starts\n",
    "#Initial Template for Python 3\n",
    "\n",
    "if __name__ == '__main__':\n",
    "    t = int(input())\n",
    "    for _ in range(t):\n",
    "        N = int(input())\n",
    "        \n",
    "        ob = Solution()\n",
    "        ans = ob.pattern(N)\n",
    "        print(ans)\n",
    "        for i in ans:\n",
    "            print(i, end = \" \")\n",
    "        print()\n",
    "# } Driver Code Ends"
   ]
  },
  {
   "cell_type": "code",
   "execution_count": null,
   "metadata": {},
   "outputs": [],
   "source": []
  }
 ],
 "metadata": {
  "kernelspec": {
   "display_name": "Python 3 (ipykernel)",
   "language": "python",
   "name": "python3"
  },
  "language_info": {
   "codemirror_mode": {
    "name": "ipython",
    "version": 3
   },
   "file_extension": ".py",
   "mimetype": "text/x-python",
   "name": "python",
   "nbconvert_exporter": "python",
   "pygments_lexer": "ipython3",
   "version": "3.10.12"
  }
 },
 "nbformat": 4,
 "nbformat_minor": 2
}
