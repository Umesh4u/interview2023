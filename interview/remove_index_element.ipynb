{
 "cells": [
  {
   "cell_type": "code",
   "execution_count": 1,
   "id": "aa6bfde8-33c9-475f-a9f5-61b8c8b69717",
   "metadata": {},
   "outputs": [],
   "source": [
    "a = [ 1, 2, 4, 5, 1, 6, 7, 8]\n",
    "b = [2, 1, 6]\n",
    "\n",
    "output = [1, 5, 1, 6, 8]"
   ]
  },
  {
   "cell_type": "code",
   "execution_count": 2,
   "id": "d2122782-e7e4-43b8-bdb1-df4d696b4137",
   "metadata": {},
   "outputs": [],
   "source": [
    "x = [i for i in a if i not in b]"
   ]
  },
  {
   "cell_type": "code",
   "execution_count": 3,
   "id": "965eb53d-baec-4cb7-9f13-db235a983f7a",
   "metadata": {},
   "outputs": [
    {
     "data": {
      "text/plain": [
       "[4, 5, 7, 8]"
      ]
     },
     "execution_count": 3,
     "metadata": {},
     "output_type": "execute_result"
    }
   ],
   "source": [
    "x"
   ]
  },
  {
   "cell_type": "code",
   "execution_count": 4,
   "id": "aab4d726-0523-4bdb-9b2c-0ba044d24162",
   "metadata": {},
   "outputs": [
    {
     "name": "stdout",
     "output_type": "stream",
     "text": [
      "[1, 2, 1, 6]\n"
     ]
    }
   ],
   "source": [
    "a = [1, 2, 4, 5, 1, 6, 7, 8]\n",
    "b = [2, 1, 6]\n",
    "\n",
    "output = [a[i] for i, value in enumerate(a) if value in b]\n",
    "\n",
    "print(output)"
   ]
  },
  {
   "cell_type": "code",
   "execution_count": 15,
   "id": "95933cdb-199e-46f1-a73d-15f755759401",
   "metadata": {},
   "outputs": [],
   "source": [
    "d = []\n",
    "b = [2, 1, 6]\n",
    "for i, value in enumerate(a):\n",
    "    if i in b:\n",
    "        pass\n",
    "    else:\n",
    "        d.append(value)"
   ]
  },
  {
   "cell_type": "code",
   "execution_count": null,
   "id": "28458d9e-5508-4a45-8199-a66e4ec48265",
   "metadata": {},
   "outputs": [],
   "source": []
  },
  {
   "cell_type": "code",
   "execution_count": null,
   "id": "2d72a08d-f6e0-413b-a3fe-b5a12cf79dee",
   "metadata": {},
   "outputs": [],
   "source": []
  },
  {
   "cell_type": "code",
   "execution_count": null,
   "id": "efb1ac76-db5e-4d98-9a19-ad85ee5f29cc",
   "metadata": {},
   "outputs": [],
   "source": []
  }
 ],
 "metadata": {
  "kernelspec": {
   "display_name": "Python 3 (ipykernel)",
   "language": "python",
   "name": "python3"
  },
  "language_info": {
   "codemirror_mode": {
    "name": "ipython",
    "version": 3
   },
   "file_extension": ".py",
   "mimetype": "text/x-python",
   "name": "python",
   "nbconvert_exporter": "python",
   "pygments_lexer": "ipython3",
   "version": "3.9.13"
  }
 },
 "nbformat": 4,
 "nbformat_minor": 5
}
