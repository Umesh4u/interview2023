{
 "cells": [
  {
   "cell_type": "code",
   "execution_count": 1,
   "id": "ba6b03b9-3cf2-42a0-b0a9-96640f066cde",
   "metadata": {},
   "outputs": [
    {
     "name": "stdout",
     "output_type": "stream",
     "text": [
      "[6, 3, 2, 1]\n"
     ]
    }
   ],
   "source": [
    "li = [2,6,3,1]\n",
    "\n",
    "n = len(li)\n",
    "for i in range(n):\n",
    "    for j in range(n-i-1):\n",
    "        if li[j] < li[j+1]:\n",
    "            li[j],li[j+1] = li[j+1],li[j]\n",
    "print(li)\n"
   ]
  },
  {
   "cell_type": "code",
   "execution_count": 2,
   "id": "55de7ef0-11b2-4eaf-8cd5-de40650d63d7",
   "metadata": {},
   "outputs": [],
   "source": [
    "\n",
    "def sum1(fun):\n",
    "    \n",
    "    def fun(a,b):\n",
    "        c = a + b\n",
    "        return c // 2\n",
    "    return fun\n",
    "        \n",
    "  \n",
    "    \n",
    "@sum1   \n",
    "def sum(a,b):\n",
    "    c = a + b\n",
    "    return c\n"
   ]
  },
  {
   "cell_type": "code",
   "execution_count": 3,
   "id": "0f84ba81-a494-47d1-85e2-61507b74b7ad",
   "metadata": {},
   "outputs": [
    {
     "name": "stdout",
     "output_type": "stream",
     "text": [
      "9\n"
     ]
    }
   ],
   "source": [
    "x = lambda a,b : a + b\n",
    "print(x(4,5))"
   ]
  },
  {
   "cell_type": "code",
   "execution_count": null,
   "id": "0c6a9242-e699-437f-9ca8-0e2ae7533fdb",
   "metadata": {},
   "outputs": [],
   "source": [
    "# Difference bet r and r+\n",
    "\n",
    "r = only read\n",
    "r+ = both read and write"
   ]
  }
 ],
 "metadata": {
  "kernelspec": {
   "display_name": "Python 3 (ipykernel)",
   "language": "python",
   "name": "python3"
  },
  "language_info": {
   "codemirror_mode": {
    "name": "ipython",
    "version": 3
   },
   "file_extension": ".py",
   "mimetype": "text/x-python",
   "name": "python",
   "nbconvert_exporter": "python",
   "pygments_lexer": "ipython3",
   "version": "3.9.13"
  }
 },
 "nbformat": 4,
 "nbformat_minor": 5
}
