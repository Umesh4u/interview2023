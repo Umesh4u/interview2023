{
 "cells": [
  {
   "cell_type": "code",
   "execution_count": null,
   "id": "cc8ccb62-4c2e-4d5a-8739-f2dd9bd61e26",
   "metadata": {},
   "outputs": [],
   "source": [
    "# Iterables and iterator"
   ]
  },
  {
   "cell_type": "code",
   "execution_count": 2,
   "id": "cdb5d8fc-ef72-46c3-adfe-3168cab9efdf",
   "metadata": {},
   "outputs": [
    {
     "name": "stdout",
     "output_type": "stream",
     "text": [
      "1\n",
      "2\n",
      "3\n",
      "4\n",
      "5\n"
     ]
    }
   ],
   "source": [
    "# Liste is a iterables because all values of the\n",
    "# list iterate over the memory\n",
    "\n",
    "li = [1,2,3,4,5]\n",
    "for i in li:\n",
    "    print(i)"
   ]
  },
  {
   "cell_type": "code",
   "execution_count": 4,
   "id": "896eb44c-79ab-4abb-90ce-d873bfc3a861",
   "metadata": {},
   "outputs": [
    {
     "name": "stdout",
     "output_type": "stream",
     "text": [
      "1\n",
      "2\n",
      "3\n",
      "4\n",
      "5\n"
     ]
    }
   ],
   "source": [
    "\n",
    "li = {1,2,3,4,5}\n",
    "for i in li:\n",
    "    print(i)"
   ]
  },
  {
   "cell_type": "code",
   "execution_count": 12,
   "id": "d456e5e5-6a3c-4155-aa72-c501809e14fc",
   "metadata": {},
   "outputs": [],
   "source": [
    "# When will convert list to iter using iter() keywork\n",
    "# All the value not stored in the memory\n",
    "\n",
    "s = iter(li)"
   ]
  },
  {
   "cell_type": "code",
   "execution_count": 13,
   "id": "c5b3dfff-ee88-47bf-8a84-d3193ecc13b0",
   "metadata": {},
   "outputs": [
    {
     "data": {
      "text/plain": [
       "1"
      ]
     },
     "execution_count": 13,
     "metadata": {},
     "output_type": "execute_result"
    }
   ],
   "source": [
    "next(s)"
   ]
  },
  {
   "cell_type": "code",
   "execution_count": null,
   "id": "30964d43-f282-4f0f-a852-c82ae9145978",
   "metadata": {},
   "outputs": [],
   "source": [
    "# Memory will not be initiliaze in initially. only when will call\n",
    "# next method then one by one element initialize"
   ]
  },
  {
   "cell_type": "code",
   "execution_count": 14,
   "id": "6059b933-041d-4562-9273-5d42956edf8f",
   "metadata": {},
   "outputs": [],
   "source": [
    "s = {\"name\":\"umesh\"}"
   ]
  },
  {
   "cell_type": "code",
   "execution_count": 15,
   "id": "bda7d2fe-fbcc-414b-a2f6-dd91dfdf0326",
   "metadata": {},
   "outputs": [],
   "source": [
    "p = iter(s)"
   ]
  },
  {
   "cell_type": "code",
   "execution_count": 18,
   "id": "2b018481-3cf7-4df9-9add-cf43be80988a",
   "metadata": {},
   "outputs": [
    {
     "ename": "StopIteration",
     "evalue": "",
     "output_type": "error",
     "traceback": [
      "\u001b[0;31m---------------------------------------------------------------------------\u001b[0m",
      "\u001b[0;31mStopIteration\u001b[0m                             Traceback (most recent call last)",
      "\u001b[0;32m/tmp/ipykernel_92403/3711593939.py\u001b[0m in \u001b[0;36m<module>\u001b[0;34m\u001b[0m\n\u001b[0;32m----> 1\u001b[0;31m \u001b[0mnext\u001b[0m\u001b[0;34m(\u001b[0m\u001b[0mp\u001b[0m\u001b[0;34m)\u001b[0m\u001b[0;34m\u001b[0m\u001b[0;34m\u001b[0m\u001b[0m\n\u001b[0m",
      "\u001b[0;31mStopIteration\u001b[0m: "
     ]
    }
   ],
   "source": [
    "next(p)"
   ]
  },
  {
   "cell_type": "code",
   "execution_count": null,
   "id": "98b541e7-d10c-418e-afa3-aa7e4e43cfab",
   "metadata": {},
   "outputs": [],
   "source": []
  }
 ],
 "metadata": {
  "kernelspec": {
   "display_name": "Python 3 (ipykernel)",
   "language": "python",
   "name": "python3"
  },
  "language_info": {
   "codemirror_mode": {
    "name": "ipython",
    "version": 3
   },
   "file_extension": ".py",
   "mimetype": "text/x-python",
   "name": "python",
   "nbconvert_exporter": "python",
   "pygments_lexer": "ipython3",
   "version": "3.9.13"
  }
 },
 "nbformat": 4,
 "nbformat_minor": 5
}
