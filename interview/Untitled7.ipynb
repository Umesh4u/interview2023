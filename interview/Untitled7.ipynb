{
 "cells": [
  {
   "cell_type": "code",
   "execution_count": 3,
   "metadata": {},
   "outputs": [],
   "source": [
    "# li=[]\n",
    "# num=0\n",
    "# # for num in range(1,501):\n",
    "# #     li.append(num)\n",
    "# # li\n",
    "   \n",
    "# li = [i for i  in range(1,501) ]\n",
    "# li"
   ]
  },
  {
   "cell_type": "code",
   "execution_count": 18,
   "metadata": {},
   "outputs": [
    {
     "name": "stdout",
     "output_type": "stream",
     "text": [
      "Hello\n",
      "world\n"
     ]
    }
   ],
   "source": [
    "def world(func):\n",
    "    def wrapper(): \n",
    "        func()\n",
    "        print(\"world\")\n",
    "       \n",
    "    return wrapper\n",
    "        \n",
    "@world\n",
    "def hello():\n",
    "    print(\"Hello\")\n",
    "    \n",
    "hello()"
   ]
  },
  {
   "cell_type": "code",
   "execution_count": null,
   "metadata": {},
   "outputs": [],
   "source": [
    "class B():\n",
    "    def run():\n",
    "        pass\n",
    "    \n",
    "class C(D):\n",
    "    pass\n",
    "\n",
    "class A(B,C):\n",
    "    \n",
    "    \n",
    "def area(a,b=None)"
   ]
  },
  {
   "cell_type": "code",
   "execution_count": null,
   "metadata": {},
   "outputs": [],
   "source": [
    "input_str = 'kusumkumari'\n",
    "\n",
    "set_str = []\n",
    "py_dic = {}\n",
    "for x in input_str:\n",
    "    if x in set_str:\n",
    "        flag = True\n",
    "        py_dic[len(set_str)] = set_str\n",
    "        set_str = []\n",
    "    else:\n",
    "        set_str.append(x)\n",
    "\n",
    "#new magic method\n",
    "\n",
    "class studentinfo(request):\n",
    "    \n",
    "    studentinfo().as_view()\n",
    "    \n",
    "    \n",
    "    \n",
    "def post(self,request):\n",
    "    ser =postSerializer(data=data)\n",
    "    \n",
    "def put(self,request):\n",
    "    ser = updateSerializer(data=data)\n",
    "    \n",
    "    \n",
    "    \n",
    "def A():\n",
    "    "
   ]
  },
  {
   "cell_type": "code",
   "execution_count": 20,
   "metadata": {},
   "outputs": [
    {
     "name": "stdout",
     "output_type": "stream",
     "text": [
      "['a', 'r', 'i']\n",
      "{3: ['m', 'k', 'u']}\n"
     ]
    }
   ],
   "source": [
    "input_str = 'kusumkumari'\n",
    "\n",
    "set_str = []\n",
    "py_dic = {}\n",
    "for x in input_str:\n",
    "    if x in set_str:\n",
    "        flag = True\n",
    "        py_dic[len(set_str)] = set_str\n",
    "        set_str = []\n",
    "    else:\n",
    "        set_str.append(x)\n",
    "        \n",
    "print(set_str)\n",
    "print(py_dic)"
   ]
  },
  {
   "cell_type": "code",
   "execution_count": 21,
   "metadata": {},
   "outputs": [
    {
     "name": "stdout",
     "output_type": "stream",
     "text": [
      "Executing something before calling the function\n",
      "Executing something after calling the function\n"
     ]
    }
   ],
   "source": [
    "def test1(func):\n",
    "    def wtest():\n",
    "        print(\"Executing something before calling the function\")\n",
    "        result = func()\n",
    "        print(\"Executing something after calling the function\")\n",
    "    return wtest\n",
    "\n",
    "@test1\n",
    "def hello():\n",
    "    return \"safds\"\n",
    "\n",
    "hello()"
   ]
  },
  {
   "cell_type": "code",
   "execution_count": 38,
   "metadata": {},
   "outputs": [
    {
     "name": "stdout",
     "output_type": "stream",
     "text": [
      "4\n"
     ]
    }
   ],
   "source": [
    "st=\"ThisISUpper\"\n",
    "chr(90)\n",
    "li = [i for i in range(65, 91)]\n",
    "count=0\n",
    "def count_upper(a):\n",
    "    global count\n",
    "    for i in a:\n",
    "        if ord(i) in li:\n",
    "            count+=1\n",
    "    print(count)\n",
    "count_upper(st)\n",
    "# print(count)"
   ]
  },
  {
   "cell_type": "code",
   "execution_count": 41,
   "metadata": {},
   "outputs": [
    {
     "name": "stdout",
     "output_type": "stream",
     "text": [
      "T True False\n",
      "h True False\n",
      "i True False\n",
      "s True False\n",
      "I True False\n",
      "S True False\n",
      "U True False\n",
      "p True False\n",
      "p True False\n",
      "e True False\n",
      "r True False\n",
      "1 False True\n",
      "2 False True\n",
      "3 False True\n",
      "3 11\n"
     ]
    }
   ],
   "source": [
    "st=\"ThisISUpper123\"\n",
    "digit =0\n",
    "alp =0\n",
    "for i in st:\n",
    "    if i.isalpha():\n",
    "        alp+=1\n",
    "    if i.isdigit():\n",
    "        digit+=1\n",
    "print(digit,alp)\n",
    "    \n"
   ]
  },
  {
   "cell_type": "code",
   "execution_count": 43,
   "metadata": {},
   "outputs": [
    {
     "data": {
      "text/plain": [
       "'sCaLeR AcAdEmY'"
      ]
     },
     "execution_count": 43,
     "metadata": {},
     "output_type": "execute_result"
    }
   ],
   "source": [
    "word = \"Scaler Academy\"\n",
    "n = len(word)\n",
    "word1 = word.upper()\n",
    "word2 = word.lower()\n",
    "\n",
    "converted_word = \"\"\n",
    "\n",
    "for i in range(n):\n",
    "     if i % 2 == 0:\n",
    "          converted_word += word2[i]\n",
    "     else:\n",
    "          converted_word += word1[i]\n",
    "converted_word"
   ]
  },
  {
   "cell_type": "code",
   "execution_count": 49,
   "metadata": {},
   "outputs": [
    {
     "name": "stdout",
     "output_type": "stream",
     "text": [
      "12/08/1998\n",
      "1998/12/08\n"
     ]
    }
   ],
   "source": [
    "date = \"08/12/1998\"\n",
    "val =date.split(\"/\")\n",
    "print(f'{val[1]}/{val[0]}/{val[2]}')\n",
    "print(f'{val[2]}/{val[1]}/{val[0]}')"
   ]
  },
  {
   "cell_type": "code",
   "execution_count": null,
   "metadata": {},
   "outputs": [],
   "source": []
  }
 ],
 "metadata": {
  "kernelspec": {
   "display_name": "Python 3 (ipykernel)",
   "language": "python",
   "name": "python3"
  },
  "language_info": {
   "codemirror_mode": {
    "name": "ipython",
    "version": 3
   },
   "file_extension": ".py",
   "mimetype": "text/x-python",
   "name": "python",
   "nbconvert_exporter": "python",
   "pygments_lexer": "ipython3",
   "version": "3.10.12"
  }
 },
 "nbformat": 4,
 "nbformat_minor": 2
}
