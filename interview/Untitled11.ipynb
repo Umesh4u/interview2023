{
 "cells": [
  {
   "cell_type": "code",
   "execution_count": 7,
   "metadata": {},
   "outputs": [
    {
     "name": "stdout",
     "output_type": "stream",
     "text": [
      "112\n",
      "320\n",
      "230\n",
      "431\n",
      "233\n",
      "val [233, 232]\n",
      "231\n",
      "432\n",
      "232\n",
      "412\n",
      "598\n",
      "[[233, 232]]\n"
     ]
    }
   ],
   "source": [
    "inp = [112, 320, 230, 431, 233, 231,432,232, 412, 598]\n",
    "li=[]\n",
    "for i in range(len(inp)):\n",
    "    temp=[]\n",
    "    if inp[i]+1 or inp[i]-1 in inp:\n",
    "        print(inp[i])\n",
    "        for j in range(i,len(inp)):\n",
    "    #         print(inp[i],inp[j])\n",
    "            val=inp[i]-inp[j]\n",
    "            if val!=0 and val==1:\n",
    "                temp.append(inp[i])\n",
    "                temp.append(inp[j])\n",
    "                print(\"val\",temp)\n",
    "    if len(temp):\n",
    "        li.append(temp)\n",
    "print(li)\n",
    "            \n",
    "    \n",
    "#     last_val=value-1\n",
    "#     next_val = value+1\n",
    "#     112,230,231,232,233,,320,412,431,432,598\n",
    "#output: [[230,231,232,233], [431,432]]\n"
   ]
  },
  {
   "cell_type": "code",
   "execution_count": 28,
   "metadata": {},
   "outputs": [
    {
     "name": "stdout",
     "output_type": "stream",
     "text": [
      "[112, 230, 231, 232, 233, 320, 412, 431, 432, 598]\n",
      "[]\n"
     ]
    },
    {
     "data": {
      "text/plain": [
       "[230, 231, 232, 233, 431, 432]"
      ]
     },
     "execution_count": 28,
     "metadata": {},
     "output_type": "execute_result"
    }
   ],
   "source": [
    "inp = [112, 320, 230, 431, 233, 231,432,232, 412, 598]\n",
    "inp.sort()\n",
    "print(inp)\n",
    "li=[]\n",
    "temp=[]\n",
    "for i in inp:\n",
    "#     print(i+1)\n",
    "    if i+1 in inp:\n",
    "        if i not in temp:\n",
    "            \n",
    "#             li.append(temp)\n",
    "#             temp=[]\n",
    "            temp.append(i)\n",
    "        temp.append(i+1)\n",
    "\n",
    "    \n",
    "print(li)\n",
    "temp\n",
    "\n"
   ]
  },
  {
   "cell_type": "code",
   "execution_count": 49,
   "metadata": {},
   "outputs": [
    {
     "data": {
      "text/plain": [
       "[5, 1, 2, 3, 4]"
      ]
     },
     "execution_count": 49,
     "metadata": {},
     "output_type": "execute_result"
    }
   ],
   "source": [
    "arr=[1,2,3,4,5]\n",
    "def reverseArr(arr,l,r):\n",
    "    i=l\n",
    "    j=r-1\n",
    "    while(i<j):\n",
    "        arr[i],arr[j]=arr[j],arr[i]\n",
    "        i+=1\n",
    "        j-=1\n",
    "    return arr\n",
    "reverseArr(arr,0,5)\n",
    "k=11\n",
    "k=k%len(arr)\n",
    "reverseArr(arr,0,k)\n",
    "reverseArr(arr,k,5)"
   ]
  },
  {
   "cell_type": "code",
   "execution_count": 51,
   "metadata": {},
   "outputs": [
    {
     "data": {
      "text/plain": [
       "[1, 2, 4, 3]"
      ]
     },
     "execution_count": 51,
     "metadata": {},
     "output_type": "execute_result"
    }
   ],
   "source": [
    "def solve(A,B,C):\n",
    "    i=B\n",
    "    j=C \n",
    "    while(i<j):\n",
    "        A[i],A[j]=A[j],A[i]\n",
    "        i+=1\n",
    "        j-=1\n",
    "    return A\n",
    "A = [1, 2, 3, 4]\n",
    "B = 2\n",
    "C = 3\n",
    "solve(A,B,C)"
   ]
  },
  {
   "cell_type": "code",
   "execution_count": 33,
   "metadata": {},
   "outputs": [
    {
     "data": {
      "text/plain": [
       "-1"
      ]
     },
     "execution_count": 33,
     "metadata": {},
     "output_type": "execute_result"
    }
   ],
   "source": [
    "#find second largest number\n",
    "def solve(A):\n",
    "    largest=A[0]\n",
    "    s_largest=-1\n",
    "\n",
    "    for i in A:\n",
    "        if i>largest:\n",
    "            largest=i\n",
    "    for j in A:\n",
    "        if j> s_largest and j!=largest:\n",
    "            s_largest=j\n",
    "    return s_largest\n",
    "\n",
    "# A = [20,12,15,19,13,5,13,12,18]\n",
    "# A=[4,4,4]\n",
    "# A=[2,1,2]\n",
    "A=[2]\n",
    "solve(A)"
   ]
  },
  {
   "cell_type": "code",
   "execution_count": 31,
   "metadata": {},
   "outputs": [
    {
     "name": "stdout",
     "output_type": "stream",
     "text": [
      "(1, 8)\n",
      "(4, 5)\n",
      "(5, 4)\n"
     ]
    }
   ],
   "source": [
    "A = [1, 2, 4, 5, 7]\n",
    "B = [5, 6, 3, 4, 8] \n",
    "X = 9\n",
    "def pairs(A,B,X,N=5):\n",
    "    for i in range(N):\n",
    "        for j in range(N):\n",
    "            if A[i]+B[j]==X:\n",
    "                print((A[i],B[j]))\n",
    "                \n",
    "pairs(A,B,X)"
   ]
  },
  {
   "cell_type": "code",
   "execution_count": 4,
   "metadata": {},
   "outputs": [
    {
     "data": {
      "text/plain": [
       "2"
      ]
     },
     "execution_count": 4,
     "metadata": {},
     "output_type": "execute_result"
    }
   ],
   "source": [
    "a=[127,11,413,370,154,111,435,804,288,687,169,875,526,198,101,314,195,186,48,480,704,132,174,767,774,409,748,207,374,652,359,1,103,293,111,528,381,377,212,995,290,429,241,737,514,12,71,609,548,459,935,303,906,437,857,185,300,808,824,206,607,421,373,73,222,326,749,336,832,185,717,820,8,703,87,909,901,595,604,440,19,787,462,291,499,640,936,574,791,505,70,366,293,443,894,940,675,25,346,1,550,929,166,772,774,328,352,682,161,476,630,156,280,659,992,465,961,326,517,499,816,552,855,661,353,695,60,148,449,451,538,597,580,496,311,988,396,597,304,76,417,765,709,743,845,605,623,744,574,259,398,145,954,579,418,258,794,819,206,404,264,83,489,32,992,818,541,112,747,129,513,371,245,906,812,383,382,180,201,973,932,724,980,723,483,522,553,556,655,73,152,93,881,840,992,655,526,364,783,704,98,787,209,847,247,941,161,7,948,547,940,177,703,820,34,106,727,141,436,33,88,474,954,624,802,88,983,979,380,322,909,793,996,46,556,882,222,158,411,282,996,458,54,639,226,302,875,153,802,255,150,410,486,123,948,215,402,405,376,287,395,738,489,803,599,272,180,727,805,495,773,120,393,98,368,147,142,142,943,851,626,409,927,780,88,548,765,532,620,717,125,829,565,167,334,591,221,223,237,155,800,641,668,650,759,791,209,723,56,194,239,655,495,68,782,55,433,796,907,506,908,282,998,104,468,124,800,229,36,595,294,489,749,141,747,658,704,545,491,234,513,499,436,557,313,81,88,377,613,153,825,52,207,329,674,891,366,759,111,337,80,291,704,946,366,149,84,616,930,279,89,346,299,481,72,62,979,933,691,970,694,738,230,504,426,784,579,831,613,259,346,509,394,223,210,319,722,35,103,166,736,485,452,90,873,475,26,527,918,805,392,197,540,273,572,637,536,945,724,151,558,611,458,930,268,372,714,56,250,603,714,876,809,373,688,848,96,977,985,405,652,350,56,471,957,452,141,640,435,32,462,664,336,324,381,645,855,659,573,679,386,378,544,893,55,945,371,833,877,407,321,830,52,816,53,867,394,217,788,868,448,125,400,117,311,324,286,423,843,571,31,685,85,725,299,431,990,482,107,901,592,447,809,133,861,290,545,209,671,862,913,5,825,840,87,809,482,1000,181,646,871,511,85,441,848,338,738,234,858,3,58,285,736,688,810,187,557,708,134,424,585,957,249,720,757,713,125,679,976,609,755,84,786,137,72,344,680,660,232,171,450,897,763,591,215,514,709,5,350,642,33,35,783,839,737,591,203,631,521,97,561,256,114,795,873,65,308,496,207,44,656,62,279,323,820,189,770,568,395,320,648,304,110,488,480,478,823,782,968,998,468,556,58,868,2,213,570,525,699,81,114,335,434,260,358,430,935,729,19,419,838,994,12,967,161,386,145,420,683,228,724,756,314,358,978,656,65,965,669,3,574,337,205,125,967,541,861,340,470,860,886,211,426,948,45,838,515,743,787,766,244,588,160,869,984,86,224,566,336,335,521,701,515,355,763,225,175,233,619,923,820,173,881,936,715,193,728,613,526,78,961,703,79,311,493,750,880,502,709,527,513,104,362,27,940,669,824,866,853,867,586,938,692,511,567,829,692,972,477,242,16,500,182,495,160,748,412,360,255,934,495,648,945,367,578,510,817,993,543,952,107,658,256,229,58,641,815,445,953,897,491,317,739,829,562,896,601,409,205,224,396,418,872,572,777,548,641,476,525,66,737,784,386,44,549,828,866,871,581,367,167,820,620,654,726,451,201,98,716,821,777,505,264,644,310,872,608,922,81,345,677,309,702,169,879,922,979,297,934,614,86,491,46,222,445,826,957,560,283,928,209,143,220,620,890,771,618,328,406,866,76,91,738,145,576,944,43,77,345,45,544,612,934,100,925,803,926,404,716,61,61,470,39,489,368,936,975,320,624,792,637,523,975,658,228,596,192,878,218,504,141,557,775,417,231,631,243,105,629,495,235,870,421,941,521,68,669,535,798,294,864,246,590,286,391,127,315,217,492,893,159,155,960,938,490,706,126,959,714,874,302,526,78,902,542,265,915,605,285,218,634,763,649,609,427,550,222,91,890,988,773,554,384,129,213,447,691,135,715,861,729,215,642,764,631,978,337,144,447,648,388,268,408,344,867,647,993,626,877,315,27,7,770,33,324,814,924,12,461,180,952,867,332,547,313,271,835,928,436,398,399,498,468,442,499,162,879,674,234,946]\n",
    "def solve(a,b):\n",
    "    count=0\n",
    "    for i in a:\n",
    "        if i==b:\n",
    "            count+=1\n",
    "    return count\n",
    "solve(a,377)"
   ]
  },
  {
   "cell_type": "code",
   "execution_count": 9,
   "metadata": {},
   "outputs": [
    {
     "data": {
      "text/plain": [
       "8"
      ]
     },
     "execution_count": 9,
     "metadata": {},
     "output_type": "execute_result"
    }
   ],
   "source": [
    "a=[2, 4, 1, 3, 2]\n",
    "\n",
    "max1=a[0]\n",
    "time=0\n",
    "for i in a:\n",
    "    if i>max1:\n",
    "        max1=i\n",
    "a.remove(max1)\n",
    "\n",
    "for i in a:\n",
    "    time+=max1-i\n",
    "time\n",
    "    \n",
    "    "
   ]
  },
  {
   "cell_type": "code",
   "execution_count": 46,
   "metadata": {},
   "outputs": [
    {
     "data": {
      "text/plain": [
       "[10, 30, 40, 45, 30]"
      ]
     },
     "execution_count": 46,
     "metadata": {},
     "output_type": "execute_result"
    }
   ],
   "source": [
    "a=[10,20,10,5,30] #64 bytes +(8 bytes for one element, 5 element)= 64+(8*5)= 64+40=104 bytes\n",
    "b=[]\n",
    "sum=0\n",
    "for i in range(1,len(a)-1): \n",
    "    a[i]=a[i-1]+a[i]\n",
    "\n",
    "a\n",
    "#space complexiti=104+104+4+4=216 bytes\n",
    "#time complexity=O(n)"
   ]
  },
  {
   "cell_type": "code",
   "execution_count": 38,
   "metadata": {},
   "outputs": [
    {
     "name": "stdout",
     "output_type": "stream",
     "text": [
      "3\n"
     ]
    }
   ],
   "source": [
    "import sys\n",
    "a = 100001\n",
    "print(sys.getrefcount(100001))"
   ]
  },
  {
   "cell_type": "code",
   "execution_count": 54,
   "metadata": {},
   "outputs": [
    {
     "name": "stdout",
     "output_type": "stream",
     "text": [
      "[1, 3, 6, 10, 15]\n"
     ]
    },
    {
     "data": {
      "text/plain": [
       "[10, 5]"
      ]
     },
     "execution_count": 54,
     "metadata": {},
     "output_type": "execute_result"
    }
   ],
   "source": [
    "A = [1, 2, 3, 4, 5]\n",
    "B = [[0, 3], [1, 2]]\n",
    "def rangeSum(A, B):\n",
    "    for i in range(1,len(A)):\n",
    "        A[i]=A[i-1]+A[i]\n",
    "    print(A)\n",
    "\n",
    "    for j in  range(len(B)):\n",
    "        L=B[j][0]\n",
    "        R=B[j][1]\n",
    "        if L==0:\n",
    "            B[j]=A[R]\n",
    "        else:\n",
    "            B[j]=A[R]-A[L-1]\n",
    "    return B\n",
    "rangeSum(A,B)"
   ]
  },
  {
   "cell_type": "code",
   "execution_count": 69,
   "metadata": {},
   "outputs": [
    {
     "name": "stdout",
     "output_type": "stream",
     "text": [
      "[0, 1, 1]\n",
      "[1, 1, 2]\n",
      "3\n"
     ]
    }
   ],
   "source": [
    "A = [1, 1, 1]\n",
    "pfo=[]\n",
    "pfe=[]\n",
    "count=0\n",
    "pfo.append(0)\n",
    "pfe.append(A[0])\n",
    "n=len(A)\n",
    "for i in range(1,len(A)):\n",
    "    if i%2==0:\n",
    "        pfo.append(pfo[i-1])\n",
    "    else:\n",
    "        pfo.append(pfo[i-1]+A[i])\n",
    "        \n",
    "for i in range(1,len(A)):\n",
    "    if i%2==0:\n",
    "        pfe.append(pfe[i-1]+A[i])\n",
    "    else:\n",
    "        pfe.append(pfe[i-1])\n",
    "        \n",
    "for i in range(n):\n",
    "    so=0\n",
    "    se=0\n",
    "    if i==0:\n",
    "        so=pfe[n-1]-pfe[i]\n",
    "        se=pfo[n-1]-pfo[i]\n",
    "\n",
    "    else:\n",
    "        so=pfo[i-1]+(pfe[n-1]-pfe[i])\n",
    "        se=pfe[i-1]+(pfo[n-1]-pfo[i])\n",
    "\n",
    "    if so==se:\n",
    "        count+=1\n",
    "        \n",
    "print(count)\n",
    "    \n",
    "    \n",
    "    "
   ]
  },
  {
   "cell_type": "code",
   "execution_count": 83,
   "metadata": {},
   "outputs": [
    {
     "name": "stdout",
     "output_type": "stream",
     "text": [
      "-7 7\n",
      "-6 6\n",
      "-1 1\n",
      "1 -1\n",
      "-3 3\n",
      "0 0\n",
      "5\n",
      "0 0\n",
      "6\n",
      "-1\n"
     ]
    }
   ],
   "source": [
    "A = [-7, 1, 5, 2, -4, 3, 0]\n",
    "\n",
    "# A=[1,2,3]\n",
    "leftsum=0\n",
    "rightsum=0\n",
    "# for i in range(len(A)):\n",
    "#     rightsum+=A[i]\n",
    "#     leftsum-=A[i]\n",
    "\n",
    "#     print(rightsum, leftsum)\n",
    "for i in range(len(A)):\n",
    "    rightsum+=A[i]\n",
    "    leftsum-=A[i]\n",
    "    print(rightsum, leftsum)\n",
    "    if rightsum==leftsum:\n",
    "        print(i)\n",
    "else:\n",
    "    print(-1)"
   ]
  },
  {
   "cell_type": "code",
   "execution_count": 87,
   "metadata": {},
   "outputs": [
    {
     "name": "stdout",
     "output_type": "stream",
     "text": [
      "1 -1\n",
      "3 -3\n",
      "6 -6\n",
      "13 -13\n",
      "14 -14\n",
      "16 -16\n",
      "19 -19\n"
     ]
    },
    {
     "data": {
      "text/plain": [
       "-1"
      ]
     },
     "execution_count": 87,
     "metadata": {},
     "output_type": "execute_result"
    }
   ],
   "source": [
    "A = [1,2,3,7,1,2,3]\n",
    "def solve(A):\n",
    "    leftsum=0\n",
    "    rightsum=0\n",
    "\n",
    "    for i in range(len(A)):\n",
    "        rightsum+=A[i]\n",
    "        leftsum-=A[i]\n",
    "        print(rightsum, leftsum)\n",
    "        if rightsum==leftsum:\n",
    "            return i\n",
    "    else:\n",
    "        return -1\n",
    "        \n",
    "solve(A)"
   ]
  },
  {
   "cell_type": "code",
   "execution_count": null,
   "metadata": {},
   "outputs": [],
   "source": []
  },
  {
   "cell_type": "code",
   "execution_count": null,
   "metadata": {},
   "outputs": [],
   "source": []
  }
 ],
 "metadata": {
  "kernelspec": {
   "display_name": "Python 3 (ipykernel)",
   "language": "python",
   "name": "python3"
  },
  "language_info": {
   "codemirror_mode": {
    "name": "ipython",
    "version": 3
   },
   "file_extension": ".py",
   "mimetype": "text/x-python",
   "name": "python",
   "nbconvert_exporter": "python",
   "pygments_lexer": "ipython3",
   "version": "3.10.12"
  }
 },
 "nbformat": 4,
 "nbformat_minor": 2
}
