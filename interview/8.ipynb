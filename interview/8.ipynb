{
 "cells": [
  {
   "cell_type": "code",
   "execution_count": 23,
   "metadata": {},
   "outputs": [
    {
     "data": {
      "text/plain": [
       "[5, 3, 6]"
      ]
     },
     "execution_count": 23,
     "metadata": {},
     "output_type": "execute_result"
    }
   ],
   "source": [
    "l1=[6,7,1,2,3,8,4,6,5]\n",
    "l1[-1::-4]"
   ]
  },
  {
   "cell_type": "code",
   "execution_count": 15,
   "metadata": {},
   "outputs": [
    {
     "name": "stdout",
     "output_type": "stream",
     "text": [
      "2 3 False\n",
      "3 6 False\n",
      "6 4 True\n",
      "000000000000000000 6\n",
      "4 6 False\n",
      "6 5 True\n",
      "000000000000000000 6\n",
      "5 7 False\n",
      "7 8 False\n",
      "8 1 True\n",
      "000000000000000000 8\n"
     ]
    }
   ],
   "source": [
    "li =[]\n",
    "for i in range(len(l1)-1):\n",
    "    print(l1[i],l1[i+1],l1[i]>l1[i+1])\n",
    "    if l1[i]>l1[i+1]:\n",
    "        grt=l1[i]\n",
    "        print(\"000000000000000000\",grt)\n",
    "        \n"
   ]
  },
  {
   "cell_type": "code",
   "execution_count": 25,
   "metadata": {},
   "outputs": [
    {
     "name": "stdout",
     "output_type": "stream",
     "text": [
      "[6, 1, 2, 3, 7, 4, 6, 5, 8]\n",
      "[1, 2, 3, 4, 5, 6, 6, 7, 8]\n"
     ]
    }
   ],
   "source": [
    "i=0\n",
    "print(l1)\n",
    "while i<len(l1)-1:\n",
    "    if l1[i]>l1[i+1]: \n",
    "        \n",
    "        l1[i],l1[i+1]= l1[i+1],l1[i]\n",
    "        i=-1\n",
    "    i+=1\n",
    "print(l1)\n",
    "        "
   ]
  },
  {
   "cell_type": "code",
   "execution_count": null,
   "metadata": {},
   "outputs": [],
   "source": []
  }
 ],
 "metadata": {
  "kernelspec": {
   "display_name": "Python 3 (ipykernel)",
   "language": "python",
   "name": "python3"
  },
  "language_info": {
   "codemirror_mode": {
    "name": "ipython",
    "version": 3
   },
   "file_extension": ".py",
   "mimetype": "text/x-python",
   "name": "python",
   "nbconvert_exporter": "python",
   "pygments_lexer": "ipython3",
   "version": "3.10.12"
  }
 },
 "nbformat": 4,
 "nbformat_minor": 2
}
