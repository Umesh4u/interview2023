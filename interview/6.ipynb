{
 "cells": [
  {
   "cell_type": "code",
   "execution_count": null,
   "metadata": {},
   "outputs": [],
   "source": [
    "#firstclass()"
   ]
  },
  {
   "cell_type": "code",
   "execution_count": null,
   "metadata": {},
   "outputs": [],
   "source": [
    "class User(models.Model):\n",
    "    username = models.CharField()\n",
    "    status = models.CharField()\n",
    "\n",
    "User.objects.create(status=’ACTIVE’, username=’x’)\n",
    "User.objects.create(status=’active’, username=’y’)\n",
    "User.objects.create(status=’Active’, username=’z’)\n",
    "User.objects.create(status=’Deactive’, username=’R’)\n",
    "\n",
    "user_data = User.objects.filter(status__icontains ='active')"
   ]
  },
  {
   "cell_type": "code",
   "execution_count": null,
   "metadata": {},
   "outputs": [],
   "source": [
    "Class User(models.Model):\n",
    "    status = models.BooleanField(default=False)\n",
    "    \n",
    "\n",
    "Class UserProfile(models.Model):\n",
    "    age = models.IntegerField()\n",
    "    user = models.OneToOneField(User)\n",
    "    \n",
    "age>20\n",
    "status =True\n",
    "\n",
    "profile_data = UserProfile.objects.select_related(User)\n",
    "for item in profile_data:\n",
    "    if item.User.age>20 & item.User.status==True:\n",
    "        print(item)\n",
    "      \n",
    "    \n",
    "profile_data = UserProfile.objects.filter(Q(age__gt=20) & Q(user__status=True))\n",
    "\n"
   ]
  },
  {
   "cell_type": "code",
   "execution_count": 58,
   "metadata": {},
   "outputs": [
    {
     "name": "stdout",
     "output_type": "stream",
     "text": [
      "[{'y': 1}, {'z': 2}, {'x': 3}]\n"
     ]
    }
   ],
   "source": [
    "L = [ {'x': 3}, {'y': 1}, {'z': 2} ]\n",
    "for i in range(len(L)):\n",
    "    for j in range(len(L)):\n",
    "        if list(L[j].values())[0] > list(L[i].values())[0]:\n",
    "            L[j],L[i] = L[i],L[j]\n",
    "print(L)\n",
    "            \n"
   ]
  },
  {
   "cell_type": "raw",
   "metadata": {},
   "source": []
  },
  {
   "cell_type": "code",
   "execution_count": 48,
   "metadata": {},
   "outputs": [
    {
     "data": {
      "text/plain": [
       "['d', 's', 'z']"
      ]
     },
     "execution_count": 48,
     "metadata": {},
     "output_type": "execute_result"
    }
   ],
   "source": [
    "d={'z':3,'d':1,'s':2}\n",
    "sorted(d)"
   ]
  },
  {
   "cell_type": "code",
   "execution_count": 51,
   "metadata": {},
   "outputs": [
    {
     "data": {
      "text/plain": [
       "['__class__',\n",
       " '__class_getitem__',\n",
       " '__contains__',\n",
       " '__delattr__',\n",
       " '__delitem__',\n",
       " '__dir__',\n",
       " '__doc__',\n",
       " '__eq__',\n",
       " '__format__',\n",
       " '__ge__',\n",
       " '__getattribute__',\n",
       " '__getitem__',\n",
       " '__gt__',\n",
       " '__hash__',\n",
       " '__init__',\n",
       " '__init_subclass__',\n",
       " '__ior__',\n",
       " '__iter__',\n",
       " '__le__',\n",
       " '__len__',\n",
       " '__lt__',\n",
       " '__ne__',\n",
       " '__new__',\n",
       " '__or__',\n",
       " '__reduce__',\n",
       " '__reduce_ex__',\n",
       " '__repr__',\n",
       " '__reversed__',\n",
       " '__ror__',\n",
       " '__setattr__',\n",
       " '__setitem__',\n",
       " '__sizeof__',\n",
       " '__str__',\n",
       " '__subclasshook__',\n",
       " 'clear',\n",
       " 'copy',\n",
       " 'fromkeys',\n",
       " 'get',\n",
       " 'items',\n",
       " 'keys',\n",
       " 'pop',\n",
       " 'popitem',\n",
       " 'setdefault',\n",
       " 'update',\n",
       " 'values']"
      ]
     },
     "execution_count": 51,
     "metadata": {},
     "output_type": "execute_result"
    }
   ],
   "source": [
    "dir(dict)"
   ]
  },
  {
   "cell_type": "code",
   "execution_count": null,
   "metadata": {},
   "outputs": [],
   "source": []
  }
 ],
 "metadata": {
  "kernelspec": {
   "display_name": "Python 3 (ipykernel)",
   "language": "python",
   "name": "python3"
  },
  "language_info": {
   "codemirror_mode": {
    "name": "ipython",
    "version": 3
   },
   "file_extension": ".py",
   "mimetype": "text/x-python",
   "name": "python",
   "nbconvert_exporter": "python",
   "pygments_lexer": "ipython3",
   "version": "3.10.12"
  }
 },
 "nbformat": 4,
 "nbformat_minor": 2
}
