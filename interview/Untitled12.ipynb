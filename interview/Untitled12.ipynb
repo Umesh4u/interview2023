{
 "cells": [
  {
   "cell_type": "code",
   "execution_count": 27,
   "metadata": {},
   "outputs": [
    {
     "name": "stdout",
     "output_type": "stream",
     "text": [
      "19\n",
      "19 0\n",
      "18 1\n",
      "16 3\n",
      "13 6\n",
      "6 13\n",
      "5 14\n",
      "3 16\n"
     ]
    },
    {
     "data": {
      "text/plain": [
       "-1"
      ]
     },
     "execution_count": 27,
     "metadata": {},
     "output_type": "execute_result"
    }
   ],
   "source": [
    "A = [1,2,3,7,1,2,3]\n",
    "print(sum(A))\n",
    "\n",
    "def solve(A):\n",
    "    leftsum=0\n",
    "    rightsum=sum(A)\n",
    "    for i in range(len(A)):\n",
    "        print(rightsum, leftsum)\n",
    "\n",
    "        if rightsum==leftsum:\n",
    "            return i\n",
    "        rightsum-=A[i]\n",
    "        \n",
    "        leftsum+=A[i]\n",
    "        \n",
    "\n",
    "    else:\n",
    "        return -1\n",
    "        \n",
    "solve(A)"
   ]
  },
  {
   "cell_type": "code",
   "execution_count": 32,
   "metadata": {},
   "outputs": [
    {
     "name": "stdout",
     "output_type": "stream",
     "text": [
      "5 0\n",
      "3 1\n",
      "0 3\n"
     ]
    },
    {
     "data": {
      "text/plain": [
       "-1"
      ]
     },
     "execution_count": 32,
     "metadata": {},
     "output_type": "execute_result"
    }
   ],
   "source": [
    "A = [1,2,3,7,1,2,3]\n",
    "def calculateEqubillarem(A):\n",
    "    for i in range(1,len(A)):\n",
    "        A[i]=A[i-1]+A[i]\n",
    "    \n",
    "    n=len(A)\n",
    "    for i in range(len(A)):\n",
    "        rightSum=A[n-1]-A[i]\n",
    "        if i==0:\n",
    "            leftSum=0\n",
    "        else:\n",
    "            leftSum=A[i-1]\n",
    "        print(rightSum, leftSum)\n",
    "        if rightSum==leftSum: \n",
    "            return i\n",
    "    else:\n",
    "        return -1\n",
    "        \n",
    "\n",
    "calculateEqubillarem(A)"
   ]
  },
  {
   "cell_type": "code",
   "execution_count": 33,
   "metadata": {},
   "outputs": [],
   "source": [
    "# the jhzfbjxbcs"
   ]
  },
  {
   "cell_type": "code",
   "execution_count": null,
   "metadata": {},
   "outputs": [],
   "source": [
    "kusum\n",
    "#binary language 01, 001, 1010,0000\n",
    "ALU "
   ]
  },
  {
   "cell_type": "code",
   "execution_count": null,
   "metadata": {},
   "outputs": [],
   "source": []
  },
  {
   "cell_type": "code",
   "execution_count": null,
   "metadata": {},
   "outputs": [],
   "source": []
  },
  {
   "cell_type": "code",
   "execution_count": null,
   "metadata": {},
   "outputs": [],
   "source": []
  }
 ],
 "metadata": {
  "kernelspec": {
   "display_name": "Python 3 (ipykernel)",
   "language": "python",
   "name": "python3"
  },
  "language_info": {
   "codemirror_mode": {
    "name": "ipython",
    "version": 3
   },
   "file_extension": ".py",
   "mimetype": "text/x-python",
   "name": "python",
   "nbconvert_exporter": "python",
   "pygments_lexer": "ipython3",
   "version": "3.10.12"
  }
 },
 "nbformat": 4,
 "nbformat_minor": 2
}
