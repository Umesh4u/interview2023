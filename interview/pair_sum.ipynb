{
 "cells": [
  {
   "cell_type": "code",
   "execution_count": 2,
   "id": "c90e6a1b-32dd-48f7-a858-1fc1e6885c6d",
   "metadata": {},
   "outputs": [
    {
     "name": "stdout",
     "output_type": "stream",
     "text": [
      "(1, 5)\n",
      "(5, 1)\n",
      "(7, -1)\n"
     ]
    }
   ],
   "source": [
    "def pair_sum(li,target):\n",
    "    \n",
    "    for i in range(len(li)):\n",
    "        for j in range(i+1,len(li)):\n",
    "            if (li[i] + li[j] == target):\n",
    "                print(\"(\", li[i],\n",
    "                      \", \", li[j],\n",
    "                      \")\", sep=\"\")\n",
    "                \n",
    "      \n",
    "    \n",
    "li = [1,5,7,-1,1]\n",
    "pair_sum(li,6)"
   ]
  },
  {
   "cell_type": "code",
   "execution_count": null,
   "id": "c2d4f3e5-2e0d-4710-901f-b0770ac84d00",
   "metadata": {},
   "outputs": [],
   "source": []
  }
 ],
 "metadata": {
  "kernelspec": {
   "display_name": "Python 3 (ipykernel)",
   "language": "python",
   "name": "python3"
  },
  "language_info": {
   "codemirror_mode": {
    "name": "ipython",
    "version": 3
   },
   "file_extension": ".py",
   "mimetype": "text/x-python",
   "name": "python",
   "nbconvert_exporter": "python",
   "pygments_lexer": "ipython3",
   "version": "3.9.13"
  }
 },
 "nbformat": 4,
 "nbformat_minor": 5
}
