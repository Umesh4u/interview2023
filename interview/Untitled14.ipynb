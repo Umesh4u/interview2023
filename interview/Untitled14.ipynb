{
 "cells": [
  {
   "cell_type": "code",
   "execution_count": null,
   "metadata": {},
   "outputs": [],
   "source": [
    "def getStudentDetails(request):\n",
    "    if request.method==\"GET\":\n",
    "        data = Student.objects.all()\n",
    "        serializer_data=StudentSerializer(data,many=True)\n",
    "        if serializer_data\n",
    "    \n",
    "    \n",
    "    "
   ]
  },
  {
   "cell_type": "code",
   "execution_count": 1,
   "metadata": {},
   "outputs": [
    {
     "name": "stdout",
     "output_type": "stream",
     "text": [
      "Hello Ordinary Function\n",
      "Decorated Function\n"
     ]
    }
   ],
   "source": [
    "#Decorator\n",
    "def decoratedFuunc(myfunct):\n",
    "    def wrapper():\n",
    "        myfunct()\n",
    "        print(\"Decorated Function\")\n",
    "    return wrapper\n",
    "    \n",
    "\n",
    "@decoratedFuunc\n",
    "def funct():\n",
    "    print(\"Hello Ordinary Function\")\n",
    "    \n",
    "funct()"
   ]
  },
  {
   "cell_type": "code",
   "execution_count": 7,
   "metadata": {},
   "outputs": [
    {
     "data": {
      "text/plain": [
       "[0, 0, 0, 1, 1, 1]"
      ]
     },
     "execution_count": 7,
     "metadata": {},
     "output_type": "execute_result"
    }
   ],
   "source": [
    "#without using sorting algorithm\n",
    "#extension there is also put 2,3,4,5,\n",
    "li=[0,1,0,1,0,1]\n",
    "newLi=[]\n",
    "for i in li:\n",
    "    if i==0:\n",
    "        newLi.append(0)\n",
    "for i in li:\n",
    "    if i==1:\n",
    "        newLi.append(1)\n",
    "\n",
    "newLi"
   ]
  },
  {
   "cell_type": "code",
   "execution_count": null,
   "metadata": {},
   "outputs": [],
   "source": [
    "#how to deploy s3 files on server\n",
    "#deployment steps of web services\n",
    "#wsgi and asgi files role and what is this\n",
    "#what is exception parent class\n"
   ]
  },
  {
   "cell_type": "code",
   "execution_count": 17,
   "metadata": {},
   "outputs": [
    {
     "data": {
      "text/plain": [
       "[[1, 1, 3], [2, 1, 2], [1, 3, 2], [3, 1, 3], [1, 2, 1], [2, 2, 3], [1, 1, 3]]"
      ]
     },
     "execution_count": 17,
     "metadata": {},
     "output_type": "execute_result"
    }
   ],
   "source": [
    "li=[]\n",
    "def TOH(N,A,B,C):\n",
    "    if N==0:\n",
    "        return\n",
    "    TOH(N-1,A,C,B)\n",
    "    li.append([N,A,C])\n",
    "    TOH(N-1,B,A,C)\n",
    "TOH(3,1,2,3)\n",
    "li\n",
    "# [1 1 3 ] [2 1 2 ] [1 3 2 ] [3 1 3 ] [1 2 1 ] [2 2 3 ] [1 1 3 ] \n"
   ]
  },
  {
   "cell_type": "code",
   "execution_count": null,
   "metadata": {},
   "outputs": [],
   "source": [
    "that are frequently asked in Frontend interviews -\n",
    "\n",
    "𝗕𝗮𝘀𝗶𝗰𝘀 𝗼𝗳 𝗝𝗮𝘃𝗮𝗦𝗰𝗿𝗶𝗽𝘁\n",
    "\n",
    "1. What is JavaScript?\n",
    "2. Explain the difference between let, const, and var.\n",
    "3. How does hoisting work in JavaScript?\n",
    "4. Describe the concept of closures.\n",
    "5. Explain the event loop in JavaScript.\n",
    "6. What is the difference between == and ===?\n",
    "7. How do you check the type of a variable in JavaScript?\n",
    "8. What is the use of the this keyword in JavaScript?\n",
    "9. Explain the difference between function declaration and function expression.\n",
    "10. How does the setTimeout function work?\n",
    "\n",
    "𝗙𝘂𝗻𝗰𝘁𝗶𝗼𝗻𝘀 𝗮𝗻𝗱 𝗦𝗰𝗼𝗽𝗲\n",
    "\n",
    "11. What is a callback function?\n",
    "12. Explain the concept of a pure function.\n",
    "13. Describe the differences between function.call, function.apply, and function.bind.\n",
    "14. What is the purpose of the arguments object in a function?\n",
    "15. How do you create a closure in JavaScript?\n",
    "16. What is the use of the bind method?\n",
    "17. What is the difference between a shallow copy and a deep copy?\n",
    "18. How does the call stack work in JavaScript?\n",
    "19. Explain the concept of function currying.\n",
    "20. How can you avoid callback hell in JavaScript?\n",
    "\n",
    "𝗢𝗯𝗷𝗲𝗰𝘁𝘀 𝗮𝗻𝗱 𝗣𝗿𝗼𝘁𝗼𝘁𝘆𝗽𝗲𝘀\n",
    "\n",
    "21. What is prototypal inheritance?\n",
    "22. How do you create an object in JavaScript?\n",
    "23. What is the purpose of the prototype property in JavaScript?\n",
    "24. Explain the difference between Object.create and the constructor pattern.\n",
    "25. How do you add a property to an object in JavaScript?\n",
    "26. What is the hasOwnProperty method used for?\n",
    "27. How can you prevent modification of object properties in JavaScript?\n",
    "28. Describe the use of the new keyword.\n",
    "29. Explain the concept of Object Destructuring in JavaScript.\n",
    "30. What is the difference between null and undefined?\n",
    "\n",
    "𝗗𝗢𝗠 𝗠𝗮𝗻𝗶𝗽𝘂𝗹𝗮𝘁𝗶𝗼𝗻 𝗮𝗻𝗱 𝗘𝘃𝗲𝗻𝘁𝘀\n",
    "\n",
    "31. What is the DOM?\n",
    "32. How do you select elements with Vanilla JavaScript?\n",
    "33. Explain event delegation in JavaScript.\n",
    "34. What is the purpose of the addEventListener method?\n",
    "35. How do you create and remove elements in the DOM?\n",
    "36. Explain the concept of event propagation.\n",
    "37. How can you prevent the default behavior of an event?\n",
    "38. What is the purpose of the data- attribute in HTML?\n",
    "39. Describe the difference between innerHTML and textContent.\n",
    "40. How do you handle asynchronous code in JavaScript?\n"
   ]
  },
  {
   "cell_type": "code",
   "execution_count": 97,
   "metadata": {},
   "outputs": [
    {
     "data": {
      "text/plain": [
       "['((()))', '(()())', '(())()', '()(())', '()()()']"
      ]
     },
     "execution_count": 97,
     "metadata": {},
     "output_type": "execute_result"
    }
   ],
   "source": [
    "def solve(A):\n",
    "    return getallbrackets(A,\"\",0,0,[])\n",
    "\n",
    "def getallbrackets(n,string,open_br,close_br,res):\n",
    "    if len(string)==2*n:\n",
    "        res.append(string)\n",
    "    if open_br<n:\n",
    "        getallbrackets(n,string+\"(\",open_br+1,close_br,res)\n",
    "    if close_br<open_br:\n",
    "        getallbrackets(n,string+\")\",open_br,close_br+1,res)\n",
    "    return res\n",
    "    \n",
    "solve(3)"
   ]
  },
  {
   "cell_type": "code",
   "execution_count": 49,
   "metadata": {},
   "outputs": [
    {
     "name": "stdout",
     "output_type": "stream",
     "text": [
      "[0]\n",
      "[0, 1]\n",
      "[0, 1, 1, 0]\n",
      "0 <class 'int'>\n"
     ]
    }
   ],
   "source": [
    "# def solve(A,B):\n",
    "def func(A):\n",
    "    if A==1:\n",
    "        return [0]\n",
    "    arr=func(A-1)\n",
    "    print(arr)\n",
    "    curr_arr=[]\n",
    "    for i in range(len(arr)):\n",
    "        if arr[i]==0:\n",
    "            curr_arr.append(0)\n",
    "            curr_arr.append(1)\n",
    "        else:\n",
    "            curr_arr.append(1)\n",
    "            curr_arr.append(0)\n",
    "    return curr_arr\n",
    "\n",
    "def solve(A,B):\n",
    "    li=func(A) \n",
    "    return li[B]\n",
    "ans=solve(4,3)\n",
    "print(ans,type(ans))"
   ]
  },
  {
   "cell_type": "code",
   "execution_count": 53,
   "metadata": {},
   "outputs": [
    {
     "data": {
      "text/plain": [
       "1"
      ]
     },
     "execution_count": 53,
     "metadata": {},
     "output_type": "execute_result"
    }
   ],
   "source": [
    "83557%9"
   ]
  },
  {
   "cell_type": "code",
   "execution_count": 52,
   "metadata": {},
   "outputs": [
    {
     "data": {
      "text/plain": [
       "8355"
      ]
     },
     "execution_count": 52,
     "metadata": {},
     "output_type": "execute_result"
    }
   ],
   "source": [
    "83557//10"
   ]
  },
  {
   "cell_type": "code",
   "execution_count": 77,
   "metadata": {},
   "outputs": [
    {
     "name": "stdout",
     "output_type": "stream",
     "text": [
      "0\n",
      "None\n"
     ]
    }
   ],
   "source": [
    "def solve(A):\n",
    "    sums=0\n",
    "    if A<10:\n",
    "        if A==1:\n",
    "#             print(1)\n",
    "            return 1\n",
    "        else:\n",
    "            print(0)\n",
    "            return \"sdfsd\"\n",
    "    for i in str(A):\n",
    "        sums+=int(i)\n",
    "    solve(sums)\n",
    "res = solve(1291)\n",
    "print(res)"
   ]
  },
  {
   "cell_type": "code",
   "execution_count": null,
   "metadata": {},
   "outputs": [],
   "source": []
  }
 ],
 "metadata": {
  "kernelspec": {
   "display_name": "Python 3 (ipykernel)",
   "language": "python",
   "name": "python3"
  },
  "language_info": {
   "codemirror_mode": {
    "name": "ipython",
    "version": 3
   },
   "file_extension": ".py",
   "mimetype": "text/x-python",
   "name": "python",
   "nbconvert_exporter": "python",
   "pygments_lexer": "ipython3",
   "version": "3.10.12"
  }
 },
 "nbformat": 4,
 "nbformat_minor": 2
}
