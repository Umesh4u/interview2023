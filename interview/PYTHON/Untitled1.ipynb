{
 "cells": [
  {
   "cell_type": "code",
   "execution_count": null,
   "metadata": {},
   "outputs": [],
   "source": [
    "1. How to create a file\n",
    "\n",
    "cat     cat > file name  ctrl+d\n",
    "\n",
    "touch   create a empty file touch file name   (timestamp) \n",
    "\n",
    "stat file name  (show time stamp)\n",
    "\n",
    "\n",
    "vi      \n",
    "\n",
    "nano\n",
    "\n",
    "# see data\n",
    "\n",
    "cat file name\n",
    "\n",
    "cat >> file name  (Add data existing file)\n",
    "\n",
    "cat file file2 > all\n",
    "\n",
    "history  (show all commands)\n"
   ]
  },
  {
   "cell_type": "code",
   "execution_count": null,
   "metadata": {},
   "outputs": [],
   "source": [
    "login as ec2-user\n",
    "\n",
    "sudo su  (super user do switch user)\n",
    "https://www.youtube.com/watch?v=5JtJUcp2BOg&list=PLBGx66SQNZ8aPsFDwb79JrS2KQBTIZo10&index=7"
   ]
  },
  {
   "cell_type": "code",
   "execution_count": null,
   "metadata": {},
   "outputs": [],
   "source": [
    "pwd = print working dirctory"
   ]
  },
  {
   "cell_type": "code",
   "execution_count": null,
   "metadata": {},
   "outputs": [],
   "source": [
    "How to copy a file\n",
    "\n",
    "cp\n",
    "how to cut and paste file\n",
    "\n",
    "mv source destination\n",
    "\n",
    "how to rename file of directory\n",
    "mv\n",
    "\n",
    "how to check hidden file or directory\n",
    "Ans touch .file\n",
    "\n",
    "All file show\n",
    "\n",
    "ls -a\n",
    "\n",
    "\n",
    "Remove FIle / dir\n",
    "\n",
    "rmdir   remove empty directory\n",
    "\n",
    "rm\n",
    "\n",
    "rm -rf   forcefully delete\n",
    "\n",
    "rmdir -p\n",
    "https://www.youtube.com/watch?v=0jOo6aH2cNI&list=PLBGx66SQNZ8aPsFDwb79JrS2KQBTIZo10&index=10"
   ]
  }
 ],
 "metadata": {
  "kernelspec": {
   "display_name": "Python 3 (ipykernel)",
   "language": "python",
   "name": "python3"
  },
  "language_info": {
   "codemirror_mode": {
    "name": "ipython",
    "version": 3
   },
   "file_extension": ".py",
   "mimetype": "text/x-python",
   "name": "python",
   "nbconvert_exporter": "python",
   "pygments_lexer": "ipython3",
   "version": "3.9.13"
  }
 },
 "nbformat": 4,
 "nbformat_minor": 4
}
