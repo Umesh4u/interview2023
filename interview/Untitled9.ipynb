{
 "cells": [
  {
   "cell_type": "code",
   "execution_count": null,
   "metadata": {},
   "outputs": [],
   "source": [
    "#school management\n",
    "\n",
    "class School(models.Model)\n",
    "    name=\n",
    "    address\n",
    "    establishyear\n",
    "    \n",
    "class Student\n",
    "    name\n",
    "    roll_no\n",
    "    age\n",
    "    course=fk\n",
    "    school_id=fk\n",
    "class teachers\n",
    "    name\n",
    "    age\n",
    "    course=fk\n",
    "    school_id=fk\n",
    "class course\n",
    "    name\n",
    "    code"
   ]
  },
  {
   "cell_type": "code",
   "execution_count": null,
   "metadata": {},
   "outputs": [],
   "source": [
    "main urls.py file\n",
    "path(\"student/\",include('student.urls'))\n",
    "\n",
    "\n",
    "#student app\n",
    "urls.py file\n",
    "path(\"info/\",StudentDetails.as_view())\n",
    "\n",
    "#student serializer\n",
    "#serializer.py file\n",
    "class StudentSerializer(serializer.ModelSerializer):\n",
    "    class Meta:\n",
    "        model=Student\n",
    "        fields=\"__all__\"\n",
    "\n",
    "#view.py file\n",
    "class StudentDetails(APIView):\n",
    "    def get(self,request):\n",
    "        stu_data = Student.objects.all()\n",
    "        serialize_data = StudentSerializer(stu_data)\n",
    "        \n",
    "    def post(self,request):\n",
    "        data =request.data\n",
    "        serialize_data = StudentSerializer(data=data)\n",
    "        if serialize_data.is_valid():\n",
    "            serialize_data.save()\n",
    "            return Respnse({'message':'student created successfully!','data':serialize_data.data},status=HTTP.201)\n",
    "        else:\n",
    "            return \n",
    "            \n"
   ]
  },
  {
   "cell_type": "code",
   "execution_count": null,
   "metadata": {},
   "outputs": [],
   "source": [
    "[10:51] Jagadeesh Gurubasappa Sali\n",
    " \n",
    "Write a python program to calculate and add net_salary for the employees\n",
    " \t \t \t \t \t \n",
    "emp_id\temp_name\tdept_id\tsalary\tbonus_percentage\t \n",
    "1001\txyz\t10\t25000\t8.5\t \n",
    "1002\tabc\t20\t34000\t6.5\t \n",
    " "
   ]
  },
  {
   "cell_type": "code",
   "execution_count": null,
   "metadata": {},
   "outputs": [],
   "source": [
    "import pandas as pd\n",
    "\n",
    "def CalculateNetSalary():\n",
    "    df = pd.read_csv(\"employees.csv\",\"r\")\n",
    "    for item in df:\n",
    "        df['net_salary'] =(item['salary']*item['bonus_percentage'])/100\n",
    "    \n",
    "    data = df.to_csv()\n",
    "    return data"
   ]
  },
  {
   "cell_type": "code",
   "execution_count": 3,
   "metadata": {},
   "outputs": [
    {
     "name": "stdout",
     "output_type": "stream",
     "text": [
      "Hello\n",
      "world\n"
     ]
    }
   ],
   "source": [
    "def B(func):\n",
    "    def wrapper():\n",
    "        func()\n",
    "        print(\"world\")\n",
    "    return wrapper\n",
    "#     return B\n",
    "\n",
    "@B\n",
    "def A():\n",
    "    print(\"Hello\")\n",
    "A()"
   ]
  },
  {
   "cell_type": "code",
   "execution_count": null,
   "metadata": {},
   "outputs": [],
   "source": [
    "select name from person where name like=\"\"\n",
    "#kusum has 2 u count how many u inside kusum name through mysql"
   ]
  },
  {
   "cell_type": "code",
   "execution_count": null,
   "metadata": {},
   "outputs": [],
   "source": [
    "#data lake and warehouse\n",
    "#docker iamge and conatiner"
   ]
  },
  {
   "cell_type": "code",
   "execution_count": null,
   "metadata": {},
   "outputs": [],
   "source": [
    "    df = pd.read_csv(\"employees.csv\",\"r\")\n"
   ]
  },
  {
   "cell_type": "code",
   "execution_count": null,
   "metadata": {},
   "outputs": [],
   "source": [
    "df['net'] = "
   ]
  }
 ],
 "metadata": {
  "kernelspec": {
   "display_name": "Python 3 (ipykernel)",
   "language": "python",
   "name": "python3"
  },
  "language_info": {
   "codemirror_mode": {
    "name": "ipython",
    "version": 3
   },
   "file_extension": ".py",
   "mimetype": "text/x-python",
   "name": "python",
   "nbconvert_exporter": "python",
   "pygments_lexer": "ipython3",
   "version": "3.10.12"
  }
 },
 "nbformat": 4,
 "nbformat_minor": 2
}
