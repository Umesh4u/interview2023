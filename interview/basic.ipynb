{
 "cells": [
  {
   "cell_type": "code",
   "execution_count": 1,
   "id": "1a1ac2b1-1e48-45fa-aa87-b04f92149860",
   "metadata": {},
   "outputs": [],
   "source": [
    "now = lambda x : x +5"
   ]
  },
  {
   "cell_type": "code",
   "execution_count": 2,
   "id": "3ee4fb47-3fa6-4a84-a3bd-3d91b2746417",
   "metadata": {},
   "outputs": [
    {
     "data": {
      "text/plain": [
       "10"
      ]
     },
     "execution_count": 2,
     "metadata": {},
     "output_type": "execute_result"
    }
   ],
   "source": [
    "now(5)"
   ]
  },
  {
   "cell_type": "code",
   "execution_count": 3,
   "id": "a74c1825-9344-422a-87df-c853d6e8775c",
   "metadata": {},
   "outputs": [],
   "source": [
    "now = lambda x,y : x +y"
   ]
  },
  {
   "cell_type": "code",
   "execution_count": 4,
   "id": "62d30469-f2fb-4694-8723-87e8f5dd66c4",
   "metadata": {},
   "outputs": [
    {
     "data": {
      "text/plain": [
       "7"
      ]
     },
     "execution_count": 4,
     "metadata": {},
     "output_type": "execute_result"
    }
   ],
   "source": [
    "now(3,4)"
   ]
  },
  {
   "cell_type": "code",
   "execution_count": 7,
   "id": "ebe55e92-7296-4c48-873f-cdf17cdb900a",
   "metadata": {},
   "outputs": [],
   "source": [
    "def abc(s):\n",
    "    return 5"
   ]
  },
  {
   "cell_type": "code",
   "execution_count": 8,
   "id": "161aefc1-9849-4136-a0ce-740c231ff76b",
   "metadata": {},
   "outputs": [],
   "source": [
    "now = map(abc,[1,2,3])"
   ]
  },
  {
   "cell_type": "code",
   "execution_count": 10,
   "id": "19150234-44eb-4465-ad98-8e21c20ee20d",
   "metadata": {},
   "outputs": [
    {
     "name": "stdout",
     "output_type": "stream",
     "text": [
      "5\n",
      "5\n",
      "5\n"
     ]
    }
   ],
   "source": [
    "for i in now:\n",
    "    print(i)\n"
   ]
  },
  {
   "cell_type": "code",
   "execution_count": 11,
   "id": "00371584-3cce-4539-8424-738e4173ccba",
   "metadata": {},
   "outputs": [],
   "source": [
    "def abc(s):\n",
    "    return s * s"
   ]
  },
  {
   "cell_type": "code",
   "execution_count": 12,
   "id": "f8b4ab97-cd91-42d6-99bb-1e434168d64b",
   "metadata": {},
   "outputs": [],
   "source": [
    "now = map(abc,[1,2,3])"
   ]
  },
  {
   "cell_type": "code",
   "execution_count": 13,
   "id": "139e410b-8f3d-4174-97dd-bd238e741822",
   "metadata": {},
   "outputs": [
    {
     "name": "stdout",
     "output_type": "stream",
     "text": [
      "1\n",
      "4\n",
      "9\n"
     ]
    }
   ],
   "source": [
    "for i in now:\n",
    "    print(i)"
   ]
  },
  {
   "cell_type": "code",
   "execution_count": null,
   "id": "c684d087-b50f-4504-bc91-5f39e6f5f1fe",
   "metadata": {},
   "outputs": [],
   "source": []
  }
 ],
 "metadata": {
  "kernelspec": {
   "display_name": "Python 3 (ipykernel)",
   "language": "python",
   "name": "python3"
  },
  "language_info": {
   "codemirror_mode": {
    "name": "ipython",
    "version": 3
   },
   "file_extension": ".py",
   "mimetype": "text/x-python",
   "name": "python",
   "nbconvert_exporter": "python",
   "pygments_lexer": "ipython3",
   "version": "3.9.13"
  }
 },
 "nbformat": 4,
 "nbformat_minor": 5
}
