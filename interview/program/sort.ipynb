{
 "cells": [
  {
   "cell_type": "code",
   "execution_count": 9,
   "id": "837db0ec-eb1e-4813-b363-c3c162a08d1e",
   "metadata": {},
   "outputs": [],
   "source": [
    "# Sort of the list\n",
    "\n",
    "li = [4,6,8,9,34,45]\n",
    "n = len(li)\n",
    "for i in range(n-1):\n",
    "    for j in range(n-1-i):\n",
    "        if li[j] > li[j+1]:\n",
    "            temp = li[j]\n",
    "            li[j] = li[j+1]\n",
    "            li[j+1] = temp\n"
   ]
  },
  {
   "cell_type": "code",
   "execution_count": 10,
   "id": "72e2fbbd-cdec-4964-9016-44023244c9dd",
   "metadata": {},
   "outputs": [
    {
     "data": {
      "text/plain": [
       "[4, 6, 8, 9, 34, 45]"
      ]
     },
     "execution_count": 10,
     "metadata": {},
     "output_type": "execute_result"
    }
   ],
   "source": [
    "li"
   ]
  },
  {
   "cell_type": "code",
   "execution_count": 17,
   "id": "ed22508b-4f28-4f45-9b4a-78b34f61ad7a",
   "metadata": {},
   "outputs": [],
   "source": [
    "# Factorial\n",
    "def fact(n):\n",
    "    fact = 1\n",
    "    while n > 0:\n",
    "        fact = fact * n\n",
    "        n = n -1\n",
    "    return fact\n",
    "        \n",
    "\n"
   ]
  },
  {
   "cell_type": "code",
   "execution_count": 18,
   "id": "2c46cfa2-b9e8-4989-91b9-6d92f69987d9",
   "metadata": {},
   "outputs": [
    {
     "name": "stdout",
     "output_type": "stream",
     "text": [
      "120\n"
     ]
    }
   ],
   "source": [
    "print(fact(5))"
   ]
  },
  {
   "cell_type": "code",
   "execution_count": 20,
   "id": "e959c5c7-c2c9-4e4c-9163-3815756fc816",
   "metadata": {},
   "outputs": [
    {
     "name": "stdout",
     "output_type": "stream",
     "text": [
      "1\n",
      "2\n",
      "3\n",
      "4\n",
      "5\n",
      "1\n",
      "2\n",
      "4\n"
     ]
    }
   ],
   "source": [
    "li = [1,2,3,4,5,1,2,4]\n",
    "dict = {}\n",
    "\n",
    "for i in li:\n",
    "    if i in dict:\n",
    "        dict[i] = dict[]\n"
   ]
  },
  {
   "cell_type": "code",
   "execution_count": 1,
   "id": "ec843e37-49d4-4aaf-a833-72d1b96c7af2",
   "metadata": {},
   "outputs": [],
   "source": [
    "#li =[1,1,1,2,4,8,3,9,27,4,16,64]\n",
    "\n",
    "li=[1,2,3,4]"
   ]
  },
  {
   "cell_type": "code",
   "execution_count": 18,
   "id": "8b0e4d06-9e75-4a8c-a6d7-d965c3bda158",
   "metadata": {},
   "outputs": [],
   "source": [
    "# Using List Comprehension\n",
    "\n",
    "li = [i**j for i in range(1,5) for j in range(1,4) ]"
   ]
  },
  {
   "cell_type": "code",
   "execution_count": 19,
   "id": "70b03d92-7dc6-40e3-9c9d-c87ceb267f08",
   "metadata": {},
   "outputs": [
    {
     "data": {
      "text/plain": [
       "[1, 1, 1, 2, 4, 8, 3, 9, 27, 4, 16, 64]"
      ]
     },
     "execution_count": 19,
     "metadata": {},
     "output_type": "execute_result"
    }
   ],
   "source": [
    "li"
   ]
  },
  {
   "cell_type": "code",
   "execution_count": null,
   "id": "b1cfea28-e125-4278-a332-e40c110371a4",
   "metadata": {},
   "outputs": [],
   "source": [
    "def is_valid_parenthese(str1):\n",
    "    stack, pchar = [], {\"(\": \")\", \"{\": \"}\", \"[\": \"]\"}\n",
    "    for parenthese in str1:\n",
    "        if parenthese in pchar:\n",
    "            stack.append(parenthese)\n",
    "        elif len(stack) == 0 or pchar[stack.pop()] != parenthese:\n",
    "            return False\n",
    "    return len(stack) == 0\n",
    "\n",
    "print(is_valid_parenthese(\"(){}[]\"))"
   ]
  },
  {
   "cell_type": "code",
   "execution_count": 33,
   "id": "798fb076-0dfb-4fa4-978d-1ed9667ce5c9",
   "metadata": {},
   "outputs": [
    {
     "name": "stdout",
     "output_type": "stream",
     "text": [
      "dddddddddddddddddddd []\n",
      "eeeeeeeeeeeeeeee (\n",
      "['(']\n",
      "dddddddddddddddddddd ['(']\n",
      "eeeeeeeeeeeeeeee [\n",
      "['(', '[']\n",
      "dddddddddddddddddddd ['(', '[']\n",
      "eeeeeeeeeeeeeeee ]\n",
      "dddddddddddddddddddd ['(']\n",
      "eeeeeeeeeeeeeeee )\n",
      "True\n"
     ]
    }
   ],
   "source": [
    "def is_valid_parenthese(str1):\n",
    "    stack, pchar = [], {\"{\" : \"}\", \"(\" : \")\" , \"[\" : \"]\"}\n",
    "    for parenthese in str1:\n",
    "        print(\"dddddddddddddddddddd\",stack)\n",
    "        print(\"eeeeeeeeeeeeeeee\", parenthese)\n",
    "        if parenthese in pchar:\n",
    "            stack.append(parenthese)\n",
    "            print(stack)\n",
    "        elif len(stack) == 0 or pchar[stack.pop()] != parenthese:\n",
    "            print(\"44444444444444\")\n",
    "            print(stck.pop())\n",
    "            return False\n",
    "    return len(stack) == 0\n",
    "\n",
    "print(is_valid_parenthese(\"([])\"))"
   ]
  },
  {
   "cell_type": "code",
   "execution_count": 34,
   "id": "a4379ecd-ee8f-46c8-b770-868925d193a3",
   "metadata": {},
   "outputs": [],
   "source": [
    "def is_valid_parenthese(str1):\n",
    "    stack, pchar = [], {\"{\": \"}\" , \"[\" : \"]\" , \"(\" : \")\"}\n",
    "    for pun in str1:\n",
    "        if pun in pchar:\n",
    "            stack.append(pun)\n",
    "        elif len(stack) == 0 or pchar[stack.pop()] != pun:\n",
    "            return False\n",
    "    return len(stack) == 0"
   ]
  },
  {
   "cell_type": "code",
   "execution_count": 36,
   "id": "78f5a54d-10ac-499c-ba77-9ad728f758cd",
   "metadata": {},
   "outputs": [
    {
     "name": "stdout",
     "output_type": "stream",
     "text": [
      "False\n"
     ]
    }
   ],
   "source": [
    "print(is_valid_parenthese(\"([{])\"))"
   ]
  },
  {
   "cell_type": "code",
   "execution_count": 43,
   "id": "c8b91b43-2f8f-492c-bcfb-9dd187234a41",
   "metadata": {},
   "outputs": [
    {
     "name": "stdout",
     "output_type": "stream",
     "text": [
      "64\n",
      "11\n"
     ]
    }
   ],
   "source": [
    "# FInd greates number\n",
    "li =[1,1,1,2,4,8,3,9,27,4,16,64]\n",
    "\n",
    "max = li[0]\n",
    "\n",
    "for i in li:\n",
    "    if max < i:\n",
    "        max = i\n",
    "        index = li.index(i)\n",
    "\n",
    "\n",
    "print(max)\n",
    "print(index)"
   ]
  },
  {
   "cell_type": "code",
   "execution_count": 51,
   "id": "c3b4bb05-0e0d-4401-b7f1-e662ac945949",
   "metadata": {},
   "outputs": [],
   "source": [
    "#  Decorator Example\n",
    "\n",
    "def sum1(fun1):\n",
    "    def fun(a,b):\n",
    "        c = fun1(a,b)\n",
    "        return c\n",
    "    return fun1\n",
    "\n",
    "\n",
    "\n",
    "@sum1\n",
    "def sum(a,b):\n",
    "    c = a + b\n",
    "    return c"
   ]
  },
  {
   "cell_type": "code",
   "execution_count": 52,
   "id": "096c0646-0bbf-4fd7-8fa1-ef9e2efd88c5",
   "metadata": {},
   "outputs": [
    {
     "data": {
      "text/plain": [
       "7"
      ]
     },
     "execution_count": 52,
     "metadata": {},
     "output_type": "execute_result"
    }
   ],
   "source": [
    "sum(3,4)"
   ]
  },
  {
   "cell_type": "code",
   "execution_count": 56,
   "id": "8e9bf5db-ea10-4286-8109-7afc85871a8a",
   "metadata": {},
   "outputs": [],
   "source": [
    "def sum1(fun1):\n",
    "    def abc(a,b):\n",
    "        c = fun1(a,b)\n",
    "        return c * 10\n",
    "    return abc\n",
    "\n",
    "@sum1\n",
    "def sum(a,b):\n",
    "    c = a + b\n",
    "    return c"
   ]
  },
  {
   "cell_type": "code",
   "execution_count": 57,
   "id": "8006a59c-9e09-44ae-87d1-f28650e847a0",
   "metadata": {},
   "outputs": [
    {
     "data": {
      "text/plain": [
       "150"
      ]
     },
     "execution_count": 57,
     "metadata": {},
     "output_type": "execute_result"
    }
   ],
   "source": [
    "sum(5,10)"
   ]
  },
  {
   "cell_type": "code",
   "execution_count": 58,
   "id": "a19dad19-69f7-43b9-9f91-642a04d32a48",
   "metadata": {},
   "outputs": [],
   "source": [
    "def disp(n):\n",
    "    for i in range(n):\n",
    "        yield i"
   ]
  },
  {
   "cell_type": "code",
   "execution_count": 60,
   "id": "2f6b87f3-a186-4dc2-81a7-52f5ceccb336",
   "metadata": {},
   "outputs": [],
   "source": [
    "s = disp(5)"
   ]
  },
  {
   "cell_type": "code",
   "execution_count": 61,
   "id": "43f3a1e9-00ec-4236-bce4-9ab3da223e62",
   "metadata": {},
   "outputs": [
    {
     "data": {
      "text/plain": [
       "0"
      ]
     },
     "execution_count": 61,
     "metadata": {},
     "output_type": "execute_result"
    }
   ],
   "source": [
    "next(s)"
   ]
  },
  {
   "cell_type": "code",
   "execution_count": 62,
   "id": "9caaf9fc-956a-4e95-b3cd-17ebe7b81d6f",
   "metadata": {},
   "outputs": [
    {
     "data": {
      "text/plain": [
       "1"
      ]
     },
     "execution_count": 62,
     "metadata": {},
     "output_type": "execute_result"
    }
   ],
   "source": [
    "next(s)"
   ]
  },
  {
   "cell_type": "code",
   "execution_count": null,
   "id": "930f7fda-e102-4cf6-809e-d5d549dcc2fb",
   "metadata": {},
   "outputs": [],
   "source": []
  }
 ],
 "metadata": {
  "kernelspec": {
   "display_name": "Python 3 (ipykernel)",
   "language": "python",
   "name": "python3"
  },
  "language_info": {
   "codemirror_mode": {
    "name": "ipython",
    "version": 3
   },
   "file_extension": ".py",
   "mimetype": "text/x-python",
   "name": "python",
   "nbconvert_exporter": "python",
   "pygments_lexer": "ipython3",
   "version": "3.9.13"
  }
 },
 "nbformat": 4,
 "nbformat_minor": 5
}
