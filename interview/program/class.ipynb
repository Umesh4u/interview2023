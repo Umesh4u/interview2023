{
 "cells": [
  {
   "cell_type": "code",
   "execution_count": 5,
   "id": "26be30d3-c913-4897-82fc-ca58d0c0698e",
   "metadata": {},
   "outputs": [
    {
     "name": "stdout",
     "output_type": "stream",
     "text": [
      "GeeksforGeeks\n"
     ]
    }
   ],
   "source": [
    "# Python program showing\n",
    "# use of __call__() method\n",
    " \n",
    "class MyDecorator:\n",
    "    def __init__(self, function):\n",
    "        self.function = function\n",
    "     \n",
    "    def __call__(self):\n",
    " \n",
    "        # We can add some code\n",
    "        # before function call\n",
    " \n",
    "        self.function()\n",
    " \n",
    "        # We can also add some code\n",
    "        # after function call.\n",
    " \n",
    " \n",
    "# adding class decorator to the function\n",
    "@MyDecorator\n",
    "def function():\n",
    "    print(\"GeeksforGeeks\")\n",
    " \n",
    "function()"
   ]
  },
  {
   "cell_type": "code",
   "execution_count": 9,
   "id": "0343d5f2-0931-4dd9-a2b0-e68d31c0ca51",
   "metadata": {},
   "outputs": [],
   "source": [
    "class MyDecorator:\n",
    "    def __init__(self,function):\n",
    "        self.function = function\n",
    "        \n",
    "    def __call__(self):\n",
    "        \n",
    "        # We can add some code before function call\n",
    "        self.function()\n",
    "        \n",
    "        # We can add some code after function call\n",
    "        \n",
    "\n",
    "\n",
    "\n",
    "\n",
    "\n",
    "\n",
    "\n",
    "@MyDecorator\n",
    "def function():\n",
    "    print(\"Umesh samal\")"
   ]
  },
  {
   "cell_type": "code",
   "execution_count": 11,
   "id": "84ddcdeb-b64b-4fcd-917e-19c123c9f18c",
   "metadata": {},
   "outputs": [
    {
     "name": "stdout",
     "output_type": "stream",
     "text": [
      "Umesh samal\n"
     ]
    }
   ],
   "source": [
    "function()"
   ]
  },
  {
   "cell_type": "code",
   "execution_count": null,
   "id": "cf4b32a6-45e2-4ccf-9d30-7becd64fa482",
   "metadata": {},
   "outputs": [],
   "source": [
    "class MyDecorator:\n",
    "    def __init__(self, function):\n",
    "        self.function = function\n",
    "     \n",
    "    def __call__(self, *args, **kwargs):\n",
    " \n",
    "        # We can add some code\n",
    "        # before function call\n",
    " \n",
    "        self.function(*args, **kwargs)\n",
    " \n",
    "        # We can also add some code\n",
    "        # after function call.\n",
    "     \n",
    " \n",
    "# adding class decorator to the function\n",
    "@MyDecorator\n",
    "def function(name, message ='Hello'):\n",
    "    print(\"{}, {}\".format(message, name))\n",
    " \n",
    "function(\"geeks_for_geeks\", \"hello\")"
   ]
  },
  {
   "cell_type": "code",
   "execution_count": 20,
   "id": "356eb270-de02-45fc-86f0-a012426ff053",
   "metadata": {},
   "outputs": [],
   "source": [
    "class Mydecorator:\n",
    "    def __init__(self,function):\n",
    "        self.function = function\n",
    "    def __call__(self,*args,**kwargs):\n",
    "        \n",
    "        print(\"Welcome to class Decorator\")\n",
    "\n",
    "        \n",
    "        self.function(*args,**kwargs)\n",
    "        \n",
    "        print(\"End\")\n",
    "        \n",
    "            \n",
    "            \n",
    "@Mydecorator\n",
    "def function(name,message=\"Welcome\"):\n",
    "    print(\"My name is {},Message is {}\".format(name,message))"
   ]
  },
  {
   "cell_type": "code",
   "execution_count": 21,
   "id": "4bd6dbba-2c0d-4f4a-9a10-4e4f5d36ae4e",
   "metadata": {},
   "outputs": [
    {
     "name": "stdout",
     "output_type": "stream",
     "text": [
      "Welcome to class Decorator\n",
      "My name is umesh,Message is hello\n",
      "End\n"
     ]
    }
   ],
   "source": [
    "function(\"umesh\",\"hello\")"
   ]
  },
  {
   "cell_type": "code",
   "execution_count": null,
   "id": "574ff0ee-dfe8-4ef0-b4d5-966c85627764",
   "metadata": {},
   "outputs": [],
   "source": []
  }
 ],
 "metadata": {
  "kernelspec": {
   "display_name": "Python 3 (ipykernel)",
   "language": "python",
   "name": "python3"
  },
  "language_info": {
   "codemirror_mode": {
    "name": "ipython",
    "version": 3
   },
   "file_extension": ".py",
   "mimetype": "text/x-python",
   "name": "python",
   "nbconvert_exporter": "python",
   "pygments_lexer": "ipython3",
   "version": "3.9.13"
  }
 },
 "nbformat": 4,
 "nbformat_minor": 5
}
