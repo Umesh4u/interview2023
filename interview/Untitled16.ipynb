{
 "cells": [
  {
   "cell_type": "code",
   "execution_count": 2,
   "metadata": {},
   "outputs": [
    {
     "name": "stdout",
     "output_type": "stream",
     "text": [
      "0\n",
      "sdfsd\n"
     ]
    }
   ],
   "source": [
    "def solve(A):\n",
    "    sums=0\n",
    "    if A<10:\n",
    "        if A==1:\n",
    "#             print(1)\n",
    "            return 1\n",
    "        else:\n",
    "            print(0)\n",
    "            return 0\n",
    "    for i in str(A):\n",
    "        sums+=int(i)\n",
    "    return solve(sums)\n",
    "res = solve(1291)\n",
    "print(res)"
   ]
  },
  {
   "cell_type": "code",
   "execution_count": 10,
   "metadata": {},
   "outputs": [
    {
     "name": "stdout",
     "output_type": "stream",
     "text": [
      "3 3\n",
      "2 1\n"
     ]
    },
    {
     "data": {
      "text/plain": [
       "0"
      ]
     },
     "execution_count": 10,
     "metadata": {},
     "output_type": "execute_result"
    }
   ],
   "source": [
    "import sys\n",
    "def solve(A, B):\n",
    "    sys.setrecursionlimit(10**5)\n",
    "    ans = findIndexValue(A,B)\n",
    "    return ans\n",
    "\n",
    "def findIndexValue(A,B):\n",
    "    print(A,B)\n",
    "    if A == 1:\n",
    "        return 0\n",
    "    if B in (0,1):\n",
    "        return B\n",
    "    num = findIndexValue(A-1,B//2)\n",
    "    if B%2 == 0:\n",
    "        return num\n",
    "    return num ^ 1\n",
    "solve(3,3)"
   ]
  },
  {
   "cell_type": "code",
   "execution_count": 62,
   "metadata": {},
   "outputs": [
    {
     "data": {
      "text/plain": [
       "[[], [9]]"
      ]
     },
     "execution_count": 62,
     "metadata": {},
     "output_type": "execute_result"
    }
   ],
   "source": [
    "def subset(A,idx,currSet,res):\n",
    "    if idx==len(A):\n",
    "        if currSet not in res:\n",
    "            res.append(currSet[:])\n",
    "        return\n",
    "    currSet.append(A[idx])\n",
    "    subset(A,idx+1,currSet,res)\n",
    "    currSet.pop()\n",
    "    subset(A,idx+1,currSet,res)\n",
    "    return res\n",
    "A=[9]  \n",
    "\n",
    "def solve(A):\n",
    "    A.sort()\n",
    "    data=subset(A,0,[],[])\n",
    "    if data:\n",
    "        data.sort()\n",
    "        return data\n",
    "\n",
    "    else:\n",
    "        return []\n",
    "a=solve(A)\n",
    "a"
   ]
  },
  {
   "cell_type": "code",
   "execution_count": 85,
   "metadata": {},
   "outputs": [
    {
     "name": "stdout",
     "output_type": "stream",
     "text": [
      "[False, False, False]\n",
      "['a', 'b', 'c']\n"
     ]
    }
   ],
   "source": [
    "def permutation(string, ans,idx,visited,result):\n",
    "    if idx==len(string):\n",
    "        print(ans)\n",
    "#         result.append(ans)\n",
    "        return\n",
    "    for i in range(len(string)):\n",
    "        if visited[i]==False:\n",
    "            ans[idx]=string[i]\n",
    "            visited[i]=True\n",
    "            return permutation(string, ans,idx+1,visited,result)\n",
    "            visited[i]=False\n",
    "#     res=sorted(result)\n",
    "#     return result\n",
    "string=\"abc\"\n",
    "visited=[False]*len(string)\n",
    "print(visited)\n",
    "ans=[0]*len(string)\n",
    "result=[]\n",
    "ans=permutation(string, ans,0,visited,result)\n",
    "ans"
   ]
  },
  {
   "cell_type": "code",
   "execution_count": 91,
   "metadata": {},
   "outputs": [
    {
     "name": "stdout",
     "output_type": "stream",
     "text": [
      "[False, False, False]\n",
      "[1, 2, 3]\n",
      "[1, 3, 2]\n",
      "[2, 1, 3]\n",
      "[2, 3, 1]\n",
      "[3, 1, 2]\n",
      "[3, 2, 1]\n"
     ]
    },
    {
     "data": {
      "text/plain": [
       "[[1, 2, 3], [1, 3, 2], [2, 1, 3], [2, 3, 1], [3, 1, 2], [3, 2, 1]]"
      ]
     },
     "execution_count": 91,
     "metadata": {},
     "output_type": "execute_result"
    }
   ],
   "source": [
    "def permutation(string, ans,idx,visited,result):\n",
    "    if idx==len(string):\n",
    "        print(ans)\n",
    "#         result.append(ans)\n",
    "        return\n",
    "    for i in range(len(string)):\n",
    "        if visited[i]==False:\n",
    "            ans[idx]=string[i]\n",
    "            visited[i]=True\n",
    "            permutation(string, ans,idx+1,visited,result)\n",
    "            visited[i]=False\n",
    "#     return result\n",
    "string=\"abc\"\n",
    "visited=[False]*len(string)\n",
    "print(visited)\n",
    "ans=[0]*len(string)\n",
    "result=[]\n",
    "ans=permutation(string, ans,0,visited,result)\n",
    "ans"
   ]
  },
  {
   "cell_type": "code",
   "execution_count": 113,
   "metadata": {},
   "outputs": [
    {
     "data": {
      "text/plain": [
       "[[1, 2, 3], [1, 3, 2], [2, 1, 3], [2, 3, 1], [3, 1, 2], [3, 2, 1]]"
      ]
     },
     "execution_count": 113,
     "metadata": {},
     "output_type": "execute_result"
    }
   ],
   "source": [
    "def permutation(string, ans,visited,result):\n",
    "    if len(ans)==len(string):\n",
    "        result.append(ans.copy())\n",
    "        return\n",
    "    for i in visited.keys():\n",
    "        if visited[i]>0:\n",
    "            visited[i]-=1\n",
    "            ans.append(i)\n",
    "            permutation(string, ans,visited,result)\n",
    "            visited[i]+=1\n",
    "            ans.pop()\n",
    "    \n",
    "    return result\n",
    "string=[1,2,3]\n",
    "visited=dict()\n",
    "for i in string:\n",
    "    if i in visited:\n",
    "        visited[i]+=1\n",
    "    else:\n",
    "        visited[i]=1\n",
    "ans=[]\n",
    "result=[]\n",
    "ans=permutation(string, ans,visited,result)\n",
    "ans"
   ]
  },
  {
   "cell_type": "code",
   "execution_count": 101,
   "metadata": {},
   "outputs": [
    {
     "name": "stdout",
     "output_type": "stream",
     "text": [
      "{1}\n",
      "False\n"
     ]
    }
   ],
   "source": [
    "l1=[1,1,1]\n",
    "print(set(l1))\n",
    "l2=[1,1,2]\n",
    "print(l2 in l1)"
   ]
  },
  {
   "cell_type": "code",
   "execution_count": 122,
   "metadata": {},
   "outputs": [
    {
     "data": {
      "text/plain": [
       "0"
      ]
     },
     "execution_count": 122,
     "metadata": {},
     "output_type": "execute_result"
    }
   ],
   "source": [
    "def kthSymb(n,k):\n",
    "    if n==0 or k==0:\n",
    "        return 0\n",
    "    if k%2==0:\n",
    "        return kthSymb(n-1,int(k/2))\n",
    "    else:\n",
    "        return 1-kthSymb(n-1,int(k/2))\n",
    "    \n",
    "kthSymb(31508,152124112712823874)"
   ]
  },
  {
   "cell_type": "code",
   "execution_count": 119,
   "metadata": {},
   "outputs": [
    {
     "data": {
      "text/plain": [
       "1"
      ]
     },
     "execution_count": 119,
     "metadata": {},
     "output_type": "execute_result"
    }
   ],
   "source": [
    "int(3/2)"
   ]
  },
  {
   "cell_type": "code",
   "execution_count": null,
   "metadata": {},
   "outputs": [],
   "source": []
  }
 ],
 "metadata": {
  "kernelspec": {
   "display_name": "Python 3 (ipykernel)",
   "language": "python",
   "name": "python3"
  },
  "language_info": {
   "codemirror_mode": {
    "name": "ipython",
    "version": 3
   },
   "file_extension": ".py",
   "mimetype": "text/x-python",
   "name": "python",
   "nbconvert_exporter": "python",
   "pygments_lexer": "ipython3",
   "version": "3.10.12"
  }
 },
 "nbformat": 4,
 "nbformat_minor": 2
}
