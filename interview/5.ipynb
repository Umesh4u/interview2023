{
 "cells": [
  {
   "cell_type": "code",
   "execution_count": null,
   "metadata": {},
   "outputs": [],
   "source": [
    "# type hint\n",
    "# and data classes\n",
    "# new and __init__()\n",
    "# Can we create init method multi time in a class\n",
    "# init constructor is a actual constructor like c++ and java"
   ]
  },
  {
   "cell_type": "code",
   "execution_count": null,
   "metadata": {},
   "outputs": [],
   "source": [
    "class customeMidd():\n",
    "    def __init__(self, get_response()):\n",
    "        slef.get_response=get_response()\n",
    "        \n",
    "    def __call__():\n",
    "        print(\"first\")\n",
    "        self.get_response()\n",
    "        print(\"last statemnet\")        \n",
    "        \n",
    "        userData={}\n",
    "        for item in userList:\n",
    "            userData['']\n",
    "            serializer(data,many=True)"
   ]
  }
 ],
 "metadata": {
  "kernelspec": {
   "display_name": "Python 3 (ipykernel)",
   "language": "python",
   "name": "python3"
  },
  "language_info": {
   "codemirror_mode": {
    "name": "ipython",
    "version": 3
   },
   "file_extension": ".py",
   "mimetype": "text/x-python",
   "name": "python",
   "nbconvert_exporter": "python",
   "pygments_lexer": "ipython3",
   "version": "3.10.12"
  }
 },
 "nbformat": 4,
 "nbformat_minor": 2
}
