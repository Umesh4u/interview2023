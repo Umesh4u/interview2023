{
 "cells": [
  {
   "cell_type": "code",
   "execution_count": 1,
   "metadata": {},
   "outputs": [
    {
     "name": "stdout",
     "output_type": "stream",
     "text": [
      "[1, [6, 3], 4, 5]\n"
     ]
    },
    {
     "data": {
      "text/plain": [
       "[1, [6, 3], 4, 5]"
      ]
     },
     "execution_count": 1,
     "metadata": {},
     "output_type": "execute_result"
    }
   ],
   "source": [
    "import copy\n",
    "a=[1,[2,3],4,5]\n",
    "b=a.copy()\n",
    "b[1][0]=6\n",
    "print(b)\n",
    "a\n",
    "\n"
   ]
  },
  {
   "cell_type": "code",
   "execution_count": 2,
   "metadata": {},
   "outputs": [
    {
     "name": "stdout",
     "output_type": "stream",
     "text": [
      "[10, [20], 30, 40]\n"
     ]
    },
    {
     "data": {
      "text/plain": [
       "[10, [50], 30, 40]"
      ]
     },
     "execution_count": 2,
     "metadata": {},
     "output_type": "execute_result"
    }
   ],
   "source": [
    "li=[10,[20],30,40]\n",
    "l1=copy.deepcopy(li)\n",
    "l1[1][0]=50\n",
    "print(li)\n",
    "l1"
   ]
  },
  {
   "cell_type": "code",
   "execution_count": 13,
   "metadata": {},
   "outputs": [
    {
     "name": "stdout",
     "output_type": "stream",
     "text": [
      "8\n",
      "7\n",
      "6\n",
      "5\n",
      "4\n"
     ]
    },
    {
     "data": {
      "text/plain": [
       "[[4, 5], [5, 4]]"
      ]
     },
     "execution_count": 13,
     "metadata": {},
     "output_type": "execute_result"
    }
   ],
   "source": [
    "nums = [1, 2, 3, 4, 5]\n",
    "target_sum = 9\n",
    "output = []\n",
    "\n",
    "for item in nums:\n",
    "    temp=[]\n",
    "    val = target_sum-item\n",
    "    print(val)\n",
    "    if target_sum>\n",
    "    if val in nums:\n",
    "        temp.append(item)\n",
    "        temp.append(val)\n",
    "    if len(temp):\n",
    "        output.append(temp)\n",
    "output\n",
    "        "
   ]
  },
  {
   "cell_type": "code",
   "execution_count": 14,
   "metadata": {},
   "outputs": [
    {
     "data": {
      "text/plain": [
       "[1, 2, 3, 4, 7, 8, 9, 10]"
      ]
     },
     "execution_count": 14,
     "metadata": {},
     "output_type": "execute_result"
    }
   ],
   "source": [
    "li=[1, 2, 3, 4, 2, 7, 8, 8, 9, 10, 1]\n",
    "uniqueLi=[]\n",
    "for item in li:\n",
    "    if item not in uniqueLi:\n",
    "        uniqueLi.append(item)\n",
    "uniqueLi\n",
    "\n",
    "    "
   ]
  },
  {
   "cell_type": "code",
   "execution_count": null,
   "metadata": {},
   "outputs": [],
   "source": [
    "\n",
    "Write an SQL query to find the average salary of employees in each department for employees hired in the year 2022. Include departments \n",
    "that have no employees hired in 2022, and display the department name along with the \n",
    "average salary.\n",
    "\n",
    "CREATE TABLE employees (     employee_id INT PRIMARY KEY,     employee_name VARCHAR(100),     department_id INT,     \n",
    "                        hire_date DATE,     salary DECIMAL(10, 2),   \n",
    "                        FOREIGN KEY (department_id) REFERENCES departments(department_id) ); \n",
    "\n",
    "CREATE TABLE departments (     department_id INT PRIMARY KEY,     department_name VARCHAR(50) ); \n",
    "\n",
    "CREATE TABLE projects (     project_id INT PRIMARY KEY,     project_name VARCHAR(50),     \n",
    "                       department_id INT,     start_date DATE,     end_date DATE,    \n",
    "                       FOREIGN KEY (department_id) REFERENCES departments(department_id) );\n",
    "\n",
    "select D.department_name, avg(salary) as average_salary from employee as E right join departments as D on E.department_id = D.department_id \n",
    "where hire_date=2022 group by E.department_id"
   ]
  },
  {
   "cell_type": "code",
   "execution_count": null,
   "metadata": {},
   "outputs": [],
   "source": [
    "[16:48] Shivam Taneja\n",
    "SELECT\n",
    "\n",
    "    d.department_id,\n",
    "\n",
    "    d.department_name,\n",
    "\n",
    "    COALESCE(AVG(e.salary), 0) AS average_salary\n",
    "\n",
    "FROM\n",
    "\n",
    "    departments d\n",
    "\n",
    "LEFT JOIN\n",
    "\n",
    "    employees e ON d.department_id = e.department_id AND YEAR(e.hire_date) = 2022\n",
    "\n",
    "GROUP BY\n",
    "\n",
    "    d.department_id, d.department_name;\n"
   ]
  },
  {
   "cell_type": "code",
   "execution_count": null,
   "metadata": {},
   "outputs": [],
   "source": [
    "select distinct(salary) from employee order by salary desc limit 1 offset 3"
   ]
  },
  {
   "cell_type": "code",
   "execution_count": null,
   "metadata": {},
   "outputs": [],
   "source": [
    " ./ copy \n",
    "CMD pip install -r requirements.txt\n",
    "Expose port 8000\n",
    "[\"python\",\"manage.py\",\"runserver\"]"
   ]
  }
 ],
 "metadata": {
  "kernelspec": {
   "display_name": "Python 3 (ipykernel)",
   "language": "python",
   "name": "python3"
  },
  "language_info": {
   "codemirror_mode": {
    "name": "ipython",
    "version": 3
   },
   "file_extension": ".py",
   "mimetype": "text/x-python",
   "name": "python",
   "nbconvert_exporter": "python",
   "pygments_lexer": "ipython3",
   "version": "3.10.12"
  }
 },
 "nbformat": 4,
 "nbformat_minor": 2
}
