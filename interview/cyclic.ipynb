{
 "cells": [
  {
   "cell_type": "code",
   "execution_count": 3,
   "id": "cfb91cd1-26ed-4289-99e8-f9081a7d85c1",
   "metadata": {},
   "outputs": [
    {
     "name": "stdout",
     "output_type": "stream",
     "text": [
      "abcdeabcde\n",
      "'abcde' and 'cdeab' are cyclic strings.\n"
     ]
    }
   ],
   "source": [
    "def are_cyclic_strings(str1, str2):\n",
    "    if len(str1) != len(str2):\n",
    "        return False\n",
    "\n",
    "    concatenated = str1 + str1\n",
    "    print(concatenated)\n",
    "    if str2 in concatenated:\n",
    "        return True\n",
    "    else:\n",
    "        return False\n",
    "\n",
    "# Test cases\n",
    "string1 = \"abcde\"\n",
    "string2 = \"cdeab\"\n",
    "if are_cyclic_strings(string1, string2):\n",
    "    print(f\"'{string1}' and '{string2}' are cyclic strings.\")\n",
    "else:\n",
    "    print(f\"'{string1}' and '{string2}' are not cyclic strings.\")"
   ]
  },
  {
   "cell_type": "code",
   "execution_count": null,
   "id": "9c867b07-2665-4713-991d-1fc65c1b8949",
   "metadata": {},
   "outputs": [],
   "source": []
  }
 ],
 "metadata": {
  "kernelspec": {
   "display_name": "Python 3 (ipykernel)",
   "language": "python",
   "name": "python3"
  },
  "language_info": {
   "codemirror_mode": {
    "name": "ipython",
    "version": 3
   },
   "file_extension": ".py",
   "mimetype": "text/x-python",
   "name": "python",
   "nbconvert_exporter": "python",
   "pygments_lexer": "ipython3",
   "version": "3.9.13"
  }
 },
 "nbformat": 4,
 "nbformat_minor": 5
}
