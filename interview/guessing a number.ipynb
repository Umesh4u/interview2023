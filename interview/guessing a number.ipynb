{
 "cells": [
  {
   "cell_type": "code",
   "execution_count": 1,
   "metadata": {},
   "outputs": [
    {
     "name": "stdin",
     "output_type": "stream",
     "text": [
      "Please enter lower bound number:=  1\n",
      "please enter upper bound number:=  50\n"
     ]
    },
    {
     "name": "stdout",
     "output_type": "stream",
     "text": [
      "you Have only 7 guesses\n"
     ]
    },
    {
     "name": "stdin",
     "output_type": "stream",
     "text": [
      "guess your number:=  40\n"
     ]
    },
    {
     "name": "stdout",
     "output_type": "stream",
     "text": [
      "You enter too high no.\n"
     ]
    },
    {
     "name": "stdin",
     "output_type": "stream",
     "text": [
      "guess your number:=  30\n"
     ]
    },
    {
     "name": "stdout",
     "output_type": "stream",
     "text": [
      "You enter too small no. \n"
     ]
    },
    {
     "name": "stdin",
     "output_type": "stream",
     "text": [
      "guess your number:=  35\n"
     ]
    },
    {
     "name": "stdout",
     "output_type": "stream",
     "text": [
      "You enter too high no.\n"
     ]
    },
    {
     "name": "stdin",
     "output_type": "stream",
     "text": [
      "guess your number:=  34\n"
     ]
    },
    {
     "name": "stdout",
     "output_type": "stream",
     "text": [
      "you guess right number in 3 guess\n"
     ]
    }
   ],
   "source": [
    "import random\n",
    "def randomNumber():\n",
    "    lower = int(input(\"Please enter lower bound number:= \"))\n",
    "    upper = int(input(\"please enter upper bound number:= \"))\n",
    "    return random.randint(lower,upper)\n",
    "\n",
    "def takeInput():\n",
    "    guessNo = int(input(\"guess your number:= \"))\n",
    "    return guessNo\n",
    "    \n",
    "    \n",
    "def numberGuessing():\n",
    "    system_generated_no = randomNumber()\n",
    "    print(\"you Have only 7 guesses\")\n",
    "    winning =False\n",
    "    for i in range(7):\n",
    "        guessNo = takeInput()\n",
    "        if guessNo == system_generated_no:\n",
    "            winning = True\n",
    "            print(\"you guess right number in \"+ str(i)+\" guesses\")\n",
    "            break;\n",
    "        elif guessNo > system_generated_no:\n",
    "            print(\"You enter too high no.\")\n",
    "        else:\n",
    "            print(\"You enter too small no. \")\n",
    "    if not winning:\n",
    "        print(\"Oops your guesses is over!!\")\n",
    "\n",
    "numberGuessing()"
   ]
  },
  {
   "cell_type": "code",
   "execution_count": null,
   "metadata": {},
   "outputs": [],
   "source": []
  }
 ],
 "metadata": {
  "kernelspec": {
   "display_name": "Python 3 (ipykernel)",
   "language": "python",
   "name": "python3"
  },
  "language_info": {
   "codemirror_mode": {
    "name": "ipython",
    "version": 3
   },
   "file_extension": ".py",
   "mimetype": "text/x-python",
   "name": "python",
   "nbconvert_exporter": "python",
   "pygments_lexer": "ipython3",
   "version": "3.10.12"
  }
 },
 "nbformat": 4,
 "nbformat_minor": 2
}
