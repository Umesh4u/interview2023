{
 "cells": [
  {
   "cell_type": "code",
   "execution_count": null,
   "metadata": {},
   "outputs": [],
   "source": [
    "#normalization beniits except redundancy\n",
    "#de- normalization\n",
    "#cluster indexing\n",
    "#how to handle exception\n",
    "#howto deploy application? what is default port for all websites for http and https\n",
    "#how to perform aysncronus in pyhon \n",
    "#how to optimize rest apis\n",
    "#partioning\n",
    "#dirty read"
   ]
  }
 ],
 "metadata": {
  "kernelspec": {
   "display_name": "Python 3 (ipykernel)",
   "language": "python",
   "name": "python3"
  },
  "language_info": {
   "codemirror_mode": {
    "name": "ipython",
    "version": 3
   },
   "file_extension": ".py",
   "mimetype": "text/x-python",
   "name": "python",
   "nbconvert_exporter": "python",
   "pygments_lexer": "ipython3",
   "version": "3.10.12"
  }
 },
 "nbformat": 4,
 "nbformat_minor": 2
}
