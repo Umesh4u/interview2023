{
 "cells": [
  {
   "cell_type": "code",
   "execution_count": 11,
   "metadata": {},
   "outputs": [
    {
     "name": "stdout",
     "output_type": "stream",
     "text": [
      "I am ordinary function\n",
      "I am decorated 7\n"
     ]
    }
   ],
   "source": [
    "def decoratedFunc(func):\n",
    "    def wraper(a):\n",
    "        func()\n",
    "        print(\"I am decorated\", a)\n",
    "    return wraper\n",
    "\n",
    "@decoratedFunc\n",
    "def ordinaryFunc():\n",
    "    print(\"I am ordinary function\")\n",
    "    \n",
    "ordinaryFunc(7)"
   ]
  },
  {
   "cell_type": "code",
   "execution_count": 12,
   "metadata": {},
   "outputs": [],
   "source": [
    "#class decorator\n",
    "#function decorator in pass argument\n",
    "#instance variable\n",
    "#exception type \n",
    "#How much anonyms functions available in python\n",
    "#reduce\n",
    "#statefull and stateless\n",
    "#is rest api is stateless or statefull\n",
    "#how to work csrf token\n",
    "#"
   ]
  },
  {
   "cell_type": "code",
   "execution_count": 16,
   "metadata": {},
   "outputs": [
    {
     "name": "stdout",
     "output_type": "stream",
     "text": [
      "kusum\n",
      "k@gmail.com\n",
      "ggsss\n"
     ]
    }
   ],
   "source": [
    "class School():\n",
    "    def __init__(self, school_name):\n",
    "        self.school_name=school_name\n",
    "        \n",
    "        \n",
    "class Student(School):\n",
    "    def __init__(self,name,email,school_name):\n",
    "        super().__init__(school_name)\n",
    "        self.name=name\n",
    "        self.email =email\n",
    "        \n",
    "    def display(self):\n",
    "        print(self.name)\n",
    "        print(self.email)\n",
    "        print(self.school_name)\n",
    "        \n",
    "        \n",
    "obj =Student(\"kusum\",\"k@gmail.com\",\"ggsss\")\n",
    "obj.display()\n",
    "        \n",
    "    \n",
    "        "
   ]
  },
  {
   "cell_type": "code",
   "execution_count": null,
   "metadata": {},
   "outputs": [],
   "source": [
    "import functools \n",
    "lst =[1,2,3,4,5]\n",
    "def sum(a)"
   ]
  },
  {
   "cell_type": "code",
   "execution_count": 22,
   "metadata": {},
   "outputs": [
    {
     "name": "stdout",
     "output_type": "stream",
     "text": [
      "From E\n"
     ]
    }
   ],
   "source": [
    "class A:\n",
    "    def do_thing(self):\n",
    "        print('From A')\n",
    "\n",
    "class B(A):\n",
    "    def do_thing(self):\n",
    "        print('From B')\n",
    "\n",
    "class C(A):\n",
    "    def do_thing(self):\n",
    "        print('From C')\n",
    "\n",
    "class D(B, C):\n",
    "    pass\n",
    "\n",
    "d = D()\n",
    "d.do_thing()"
   ]
  },
  {
   "cell_type": "code",
   "execution_count": 24,
   "metadata": {},
   "outputs": [
    {
     "name": "stdout",
     "output_type": "stream",
     "text": [
      "HelloHello\n",
      "Hello\n"
     ]
    }
   ],
   "source": [
    "def multiple_print(s, n = 1):\n",
    "    print(s * n, end='')\n",
    "    print() # this prints new line i.e. \\n\n",
    "\n",
    "multiple_print('Hello', 2)\n",
    "multiple_print('Hello')"
   ]
  },
  {
   "cell_type": "code",
   "execution_count": 27,
   "metadata": {},
   "outputs": [
    {
     "name": "stdout",
     "output_type": "stream",
     "text": [
      "68.0\n"
     ]
    }
   ],
   "source": [
    "def convert(t):\n",
    "    return t*9/5 + 32\n",
    "\n",
    "print(convert(20))"
   ]
  },
  {
   "cell_type": "code",
   "execution_count": 53,
   "metadata": {},
   "outputs": [
    {
     "name": "stdout",
     "output_type": "stream",
     "text": [
      "513.632\n"
     ]
    }
   ],
   "source": [
    "pa=9172\n",
    "ir=5.6\n",
    "time=365\n",
    "print((pa*time*ir) / (100*365)) #9685.63\n"
   ]
  },
  {
   "cell_type": "code",
   "execution_count": 41,
   "metadata": {},
   "outputs": [
    {
     "name": "stdout",
     "output_type": "stream",
     "text": [
      "1 2 3 4 5 \n",
      "5 4 3 2 1 "
     ]
    }
   ],
   "source": [
    "for i in range(1,5+1):\n",
    "    print(i,end=\" \")\n",
    "print()\n",
    "for i in range(5,0,-1):\n",
    "    print(i,end=\" \")"
   ]
  },
  {
   "cell_type": "code",
   "execution_count": 42,
   "metadata": {},
   "outputs": [
    {
     "data": {
      "text/plain": [
       "1250.0"
      ]
     },
     "execution_count": 42,
     "metadata": {},
     "output_type": "execute_result"
    }
   ],
   "source": [
    "25000*5/100"
   ]
  },
  {
   "cell_type": "code",
   "execution_count": null,
   "metadata": {},
   "outputs": [],
   "source": []
  }
 ],
 "metadata": {
  "kernelspec": {
   "display_name": "Python 3 (ipykernel)",
   "language": "python",
   "name": "python3"
  },
  "language_info": {
   "codemirror_mode": {
    "name": "ipython",
    "version": 3
   },
   "file_extension": ".py",
   "mimetype": "text/x-python",
   "name": "python",
   "nbconvert_exporter": "python",
   "pygments_lexer": "ipython3",
   "version": "3.10.12"
  }
 },
 "nbformat": 4,
 "nbformat_minor": 2
}
