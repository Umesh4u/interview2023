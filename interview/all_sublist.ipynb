{
 "cells": [
  {
   "cell_type": "code",
   "execution_count": 14,
   "id": "b4530f2e-b322-474f-8acd-8d19826ef3ea",
   "metadata": {},
   "outputs": [
    {
     "name": "stdout",
     "output_type": "stream",
     "text": [
      "[[1], [1, 2], [2]]\n"
     ]
    }
   ],
   "source": [
    "def all_sublist(li):\n",
    "    arr = []\n",
    "    for i in range(len(li)+1):\n",
    "        for j in range(i):\n",
    "            a=li[j:i]\n",
    "            arr.append(a)\n",
    "    print(arr)\n",
    "\n",
    "li = [1,2]\n",
    "all_sublist(li)"
   ]
  },
  {
   "cell_type": "code",
   "execution_count": 12,
   "id": "bc663bef-33bf-493c-a535-4fcba35378dd",
   "metadata": {},
   "outputs": [
    {
     "name": "stdout",
     "output_type": "stream",
     "text": [
      "[[], [1], [1, 2], [2], [1, 2, 3], [2, 3], [3]]\n"
     ]
    }
   ],
   "source": [
    "\n",
    "# Python program to print all\n",
    "# sublist from a given list\n",
    " \n",
    "# function to generate all the sub lists\n",
    "def sub_lists (l):\n",
    "    lists = [[]]\n",
    "    for i in range(len(l) + 1):\n",
    "        for j in range(i):\n",
    "            lists.append(l[j: i])\n",
    "    return lists\n",
    " \n",
    "# driver code\n",
    "l1 = [1, 2, 3]\n",
    "print(sub_lists(l1))"
   ]
  },
  {
   "cell_type": "code",
   "execution_count": null,
   "id": "36f8622b-46d2-44c1-8fef-30ba870be9c2",
   "metadata": {},
   "outputs": [],
   "source": []
  }
 ],
 "metadata": {
  "kernelspec": {
   "display_name": "Python 3 (ipykernel)",
   "language": "python",
   "name": "python3"
  },
  "language_info": {
   "codemirror_mode": {
    "name": "ipython",
    "version": 3
   },
   "file_extension": ".py",
   "mimetype": "text/x-python",
   "name": "python",
   "nbconvert_exporter": "python",
   "pygments_lexer": "ipython3",
   "version": "3.9.13"
  }
 },
 "nbformat": 4,
 "nbformat_minor": 5
}
