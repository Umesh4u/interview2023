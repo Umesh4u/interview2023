{
 "cells": [
  {
   "cell_type": "code",
   "execution_count": 3,
   "id": "60230cd5-cb42-4887-850c-447320b2ff94",
   "metadata": {},
   "outputs": [],
   "source": [
    "di = {\"a\": 1, \"b\": 5, \"c\": 2, \"e\":3}"
   ]
  },
  {
   "cell_type": "code",
   "execution_count": 4,
   "id": "28dae85b-3ff2-4097-acd2-30bb1b13b5e8",
   "metadata": {},
   "outputs": [
    {
     "data": {
      "text/plain": [
       "dict_values([1, 5, 2, 3])"
      ]
     },
     "execution_count": 4,
     "metadata": {},
     "output_type": "execute_result"
    }
   ],
   "source": [
    "di.values()"
   ]
  },
  {
   "cell_type": "code",
   "execution_count": 17,
   "id": "ef18ea3b-4295-42f3-886e-d87015307e3b",
   "metadata": {},
   "outputs": [],
   "source": [
    "li = []\n",
    "for i in di.values():\n",
    "    li.append(i)\n",
    "li.sort()\n",
    "new_dict={}\n",
    "for k in li:\n",
    "    for j,i in di.items():\n",
    "        if k == i:\n",
    "            new_dict[j] = i\n",
    "   \n",
    "    "
   ]
  },
  {
   "cell_type": "code",
   "execution_count": 18,
   "id": "0ac0008c-618d-4e57-aec4-6c89915cd38d",
   "metadata": {},
   "outputs": [
    {
     "data": {
      "text/plain": [
       "{'a': 1, 'c': 2, 'e': 3, 'b': 5}"
      ]
     },
     "execution_count": 18,
     "metadata": {},
     "output_type": "execute_result"
    }
   ],
   "source": [
    "new_dict = {  }"
   ]
  },
  {
   "cell_type": "code",
   "execution_count": 28,
   "id": "def039a8-f6a7-4806-a347-2efe2e926f71",
   "metadata": {},
   "outputs": [],
   "source": [
    "li = []\n",
    "for i in di.values():\n",
    "    li.append(i)\n",
    "li.sort()"
   ]
  },
  {
   "cell_type": "code",
   "execution_count": null,
   "id": "191576c1-5d19-4bae-a38d-fbc56381e2c7",
   "metadata": {},
   "outputs": [],
   "source": [
    "li\n",
    "for j,i in di.items():\n",
    "    if k == i:\n",
    "        new_dict[j] = i"
   ]
  },
  {
   "cell_type": "code",
   "execution_count": 29,
   "id": "4617d41c-695b-41d9-bb0c-0fbff69cfff2",
   "metadata": {},
   "outputs": [
    {
     "data": {
      "text/plain": [
       "[1, 2, 3, 5]"
      ]
     },
     "execution_count": 29,
     "metadata": {},
     "output_type": "execute_result"
    }
   ],
   "source": [
    "li"
   ]
  },
  {
   "cell_type": "code",
   "execution_count": null,
   "id": "e594db70-c574-40f9-bdd7-4fdd38606f8e",
   "metadata": {},
   "outputs": [],
   "source": [
    "def outer_func(x):\n",
    "    def inner_func(y):\n",
    "        return x + y\n",
    "    return inner_func\n",
    "\n",
    "closure = outer_func(5)\n",
    "result = closure(3)\n",
    "\n",
    "print(result)"
   ]
  },
  {
   "cell_type": "code",
   "execution_count": null,
   "id": "122ab59c-ff3b-4c34-adad-574ccf5686ea",
   "metadata": {},
   "outputs": [],
   "source": [
    "original_list = [1, 2, [3, 4]]\n",
    "\n",
    "copied_list = copy.copy(original_list)\n",
    "\n",
    "copied_list[2][0] = 5\n",
    "\n",
    "print(original_list)\n",
    "print(copied_list)"
   ]
  },
  {
   "cell_type": "code",
   "execution_count": 31,
   "id": "1ee7ca4e-61cf-4208-9705-5b2446a850c3",
   "metadata": {},
   "outputs": [
    {
     "name": "stdout",
     "output_type": "stream",
     "text": [
      "[1, 2, [5, 4]]\n",
      "[1, 2, [5, 4]]\n"
     ]
    }
   ],
   "source": [
    "import copy\n",
    "original_list = [1, 2, [3, 4]]\n",
    "\n",
    "copied_list = copy.copy(original_list)\n",
    "\n",
    "copied_list[2][0] = 5\n",
    "\n",
    "print(original_list)\n",
    "print(copied_list)"
   ]
  },
  {
   "cell_type": "code",
   "execution_count": null,
   "id": "cfdf0ecc-2a3f-49b2-a2c9-90b0a5dbaabd",
   "metadata": {},
   "outputs": [],
   "source": [
    "copied_list[2] = 5"
   ]
  },
  {
   "cell_type": "code",
   "execution_count": 33,
   "id": "6ce8070b-593f-40c3-8585-6dd946af631e",
   "metadata": {},
   "outputs": [
    {
     "name": "stdout",
     "output_type": "stream",
     "text": [
      "[1, 2, [3, 4]]\n",
      "[1, 2, 5]\n"
     ]
    }
   ],
   "source": [
    "import copy\n",
    "original_list = [1, 2, [3, 4]]\n",
    "\n",
    "copied_list = copy.copy(original_list)\n",
    "copied_list[2] = 5\n",
    "print(original_list)\n",
    "print(copied_list)"
   ]
  },
  {
   "cell_type": "code",
   "execution_count": null,
   "id": "e7469a21-a6cb-4496-b6bb-b2197340a886",
   "metadata": {},
   "outputs": [],
   "source": []
  }
 ],
 "metadata": {
  "kernelspec": {
   "display_name": "Python 3 (ipykernel)",
   "language": "python",
   "name": "python3"
  },
  "language_info": {
   "codemirror_mode": {
    "name": "ipython",
    "version": 3
   },
   "file_extension": ".py",
   "mimetype": "text/x-python",
   "name": "python",
   "nbconvert_exporter": "python",
   "pygments_lexer": "ipython3",
   "version": "3.9.13"
  }
 },
 "nbformat": 4,
 "nbformat_minor": 5
}
