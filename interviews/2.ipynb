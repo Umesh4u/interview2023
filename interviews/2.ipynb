{
 "cells": [
  {
   "cell_type": "code",
   "execution_count": 1,
   "metadata": {},
   "outputs": [],
   "source": [
    "class User(models.Model):\n",
    "    name = models.CharField(max_length=100)\n",
    "    address = model.CharField(max_length=200)\n",
    "    \n",
    "class Profile(models.Model):\n",
    "    uname = models.CharField(max_length=100)\n"
   ]
  },
  {
   "cell_type": "code",
   "execution_count": null,
   "metadata": {},
   "outputs": [],
   "source": [
    "\n",
    "class XYZ(A,B,C):\n",
    "    def display(self,x,y=None):\n",
    "        print(\"Content is here\")\n",
    "        \n",
    "obj=XYZ()\n",
    "obj.display(1)\n",
    "obj.display(1,3)"
   ]
  },
  {
   "cell_type": "code",
   "execution_count": 2,
   "metadata": {},
   "outputs": [
    {
     "name": "stdout",
     "output_type": "stream",
     "text": [
      "140111439281536 140111438398656\n",
      "140111438398656 140111438398656\n",
      "True\n",
      "True\n",
      "True\n",
      "False\n",
      "True\n",
      "False\n"
     ]
    }
   ],
   "source": [
    "tup1 = ('2021-01-20', ['abc', 'def'])\n",
    "tup2 = ('2021-01-20', ['abc', 'def'])\n",
    "print(id(tup1),id(tup2))\n",
    "tup3 = tup2\n",
    "print(id(tup3),id(tup2))\n",
    "\n",
    "\n",
    "print(tup1 == tup2) #True\n",
    "print(tup2 == tup3) #True\n",
    "print(tup3 == tup1) #True\n",
    "\n",
    "print(tup2 is tup1) # False\n",
    "print(tup3 is tup2) # True\n",
    "print(tup3 is tup1) # False"
   ]
  },
  {
   "cell_type": "code",
   "execution_count": null,
   "metadata": {},
   "outputs": [],
   "source": [
    "def read_data_csv(request):\n",
    "    data = request.get['csv_file']\n",
    "    \n",
    "    if data:\n",
    "        with open(data,\"r\") as my_data:\n",
    "            lines = my_data.read()\n",
    "        user_data = User.objects.all()\n",
    "        for i in lines: \n",
    "            user_data.name = l.name\n",
    "            user_data.address = i.address\n",
    "            user_data.save()\n",
    "        \n",
    "    "
   ]
  },
  {
   "cell_type": "code",
   "execution_count": 9,
   "metadata": {},
   "outputs": [
    {
     "data": {
      "text/plain": [
       "set()"
      ]
     },
     "execution_count": 9,
     "metadata": {},
     "output_type": "execute_result"
    }
   ],
   "source": [
    "a={1,2,3}\n",
    "b={4,5,6}\n",
    "z= a & b\n",
    "z"
   ]
  },
  {
   "cell_type": "code",
   "execution_count": 1,
   "metadata": {},
   "outputs": [],
   "source": [
    "a = [1,2,3,4,6]\n",
    "b= [2,4]"
   ]
  },
  {
   "cell_type": "code",
   "execution_count": 4,
   "metadata": {},
   "outputs": [
    {
     "name": "stdout",
     "output_type": "stream",
     "text": [
      "0 1\n",
      "1 2\n",
      "2 3\n",
      "3 4\n",
      "4 6\n",
      "[1, 3, 6]\n"
     ]
    }
   ],
   "source": [
    "output = []\n",
    "for i,v in enumerate(a):\n",
    "    print(i,v)\n",
    "    if v not in b:\n",
    "        output.append(v)\n",
    "print(output)\n"
   ]
  },
  {
   "cell_type": "code",
   "execution_count": 20,
   "metadata": {},
   "outputs": [
    {
     "data": {
      "text/plain": [
       "[1, 2, 4]"
      ]
     },
     "execution_count": 20,
     "metadata": {},
     "output_type": "execute_result"
    }
   ],
   "source": [
    "def check_index(lst,indexLst):\n",
    "    for i in indexLst:\n",
    "        lst[i]=None\n",
    "    for j in lst:\n",
    "        if j == None:\n",
    "            lst.remove(None)\n",
    "    return lst\n",
    "\n",
    "lst = [1,2,3,4,6]\n",
    "indexLst= [2,4]\n",
    "result = check_index(lst,indexLst)\n",
    "result\n",
    "        "
   ]
  },
  {
   "cell_type": "code",
   "execution_count": null,
   "metadata": {},
   "outputs": [],
   "source": [
    "select distinct salary from employee where salary between 5000000 and 10000000 order by id desc limit 1 offset 4"
   ]
  }
 ],
 "metadata": {
  "kernelspec": {
   "display_name": "Python 3 (ipykernel)",
   "language": "python",
   "name": "python3"
  },
  "language_info": {
   "codemirror_mode": {
    "name": "ipython",
    "version": 3
   },
   "file_extension": ".py",
   "mimetype": "text/x-python",
   "name": "python",
   "nbconvert_exporter": "python",
   "pygments_lexer": "ipython3",
   "version": "3.10.12"
  }
 },
 "nbformat": 4,
 "nbformat_minor": 2
}
