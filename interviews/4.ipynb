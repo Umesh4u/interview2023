{
 "cells": [
  {
   "cell_type": "code",
   "execution_count": 12,
   "id": "f6caf820-2505-4122-a4a2-7097fdb819a6",
   "metadata": {},
   "outputs": [],
   "source": [
    "a = [ 1, 2, 4, 5, 1, 6, 7, 8]\n",
    "b = [2, 1, 6]\n",
    "\n",
    "output = [1, 5, 1, 6, 8]"
   ]
  },
  {
   "cell_type": "code",
   "execution_count": 13,
   "id": "223f25f3-6a50-4452-937e-a5233d29183f",
   "metadata": {},
   "outputs": [
    {
     "name": "stdout",
     "output_type": "stream",
     "text": [
      "2\n",
      "1\n",
      "6\n"
     ]
    }
   ],
   "source": [
    "output = []\n",
    "for k in a:\n",
    "    for i in b:\n",
    "        print(i)\n",
    "    \n"
   ]
  },
  {
   "cell_type": "code",
   "execution_count": null,
   "id": "9dbbedc2-433a-420a-82c5-b60f21b160aa",
   "metadata": {},
   "outputs": [],
   "source": [
    "Table name: Employee\n",
    "\n",
    "Column names: Name, Salary\n",
    "\n",
    "Write a SQL/MYSQL query to get 5 highest salaries between 50000 & 100000"
   ]
  },
  {
   "cell_type": "code",
   "execution_count": null,
   "id": "9beb0ab5-23e7-4ca7-918a-21b208ecc52f",
   "metadata": {},
   "outputs": [],
   "source": []
  },
  {
   "cell_type": "code",
   "execution_count": 14,
   "id": "36a0514e-b603-4b85-9a90-7bed2fbd92f5",
   "metadata": {},
   "outputs": [],
   "source": [
    "a = [ 1, 2, 4, 5, 1, 6, 7, 8]\n",
    "b = [2, 1, 6]\n",
    "output = [1, 5, 1, 6, 8]\n",
    "\n",
    "b =a "
   ]
  },
  {
   "cell_type": "code",
   "execution_count": 15,
   "id": "8fb3cff1-15d3-4ee1-881e-d5c8f8eb736b",
   "metadata": {},
   "outputs": [
    {
     "data": {
      "text/plain": [
       "[1, 2, 4, 5, 1, 6, 7, 8]"
      ]
     },
     "execution_count": 15,
     "metadata": {},
     "output_type": "execute_result"
    }
   ],
   "source": [
    "b"
   ]
  },
  {
   "cell_type": "code",
   "execution_count": 19,
   "id": "f6aaa1cc-afc2-402c-8abf-81bbee3c91c1",
   "metadata": {},
   "outputs": [
    {
     "data": {
      "text/plain": [
       "[4, 2, 7]"
      ]
     },
     "execution_count": 19,
     "metadata": {},
     "output_type": "execute_result"
    }
   ],
   "source": [
    "a = [ 1, 2, 4, 5, 1, 6, 7, 8]\n",
    "b = [2, 1, 6]\n",
    "output = [1, 5, 1, 6, 8]\n",
    "data = []\n",
    "for i in b:\n",
    "    data.append(a[i])\n",
    "data"
   ]
  },
  {
   "cell_type": "code",
   "execution_count": null,
   "id": "9eac834f-7636-4b19-981c-749b8bb38d0a",
   "metadata": {},
   "outputs": [],
   "source": [
    "a = [ 1, 2, 4, 5, 1, 6, 7, 8]\n",
    "b = [2, 1, 6]\n",
    "\n",
    "output = [1, 5, 1, 6, 8]"
   ]
  }
 ],
 "metadata": {
  "kernelspec": {
   "display_name": "Python 3 (ipykernel)",
   "language": "python",
   "name": "python3"
  },
  "language_info": {
   "codemirror_mode": {
    "name": "ipython",
    "version": 3
   },
   "file_extension": ".py",
   "mimetype": "text/x-python",
   "name": "python",
   "nbconvert_exporter": "python",
   "pygments_lexer": "ipython3",
   "version": "3.9.13"
  }
 },
 "nbformat": 4,
 "nbformat_minor": 5
}
