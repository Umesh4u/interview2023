{
 "cells": [
  {
   "cell_type": "code",
   "execution_count": 3,
   "id": "e439159e-9b11-477c-b067-e59733f39fd4",
   "metadata": {},
   "outputs": [
    {
     "name": "stdout",
     "output_type": "stream",
     "text": [
      "{'banana': 1, 'cherry': 2, 'apple': 3, 'date': 4}\n"
     ]
    }
   ],
   "source": [
    "my_dict = {'apple': 3, 'banana': 1, 'cherry': 2, 'date': 4}\n",
    "\n",
    "# Sort the dictionary by values in ascending order\n",
    "sorted_dict = dict(sorted(my_dict.items(), key=lambda item: item[1]))\n",
    "\n",
    "print(sorted_dict)"
   ]
  },
  {
   "cell_type": "code",
   "execution_count": 6,
   "id": "ee67a943-b126-4389-bda5-f93dfd153d84",
   "metadata": {},
   "outputs": [],
   "source": [
    "di = {'x': 1, 'y': 3, 'z': 2}"
   ]
  },
  {
   "cell_type": "code",
   "execution_count": 8,
   "id": "344c5792-80e6-4fd8-b54a-873c1b2a60b4",
   "metadata": {},
   "outputs": [
    {
     "data": {
      "text/plain": [
       "{'x': 1, 'y': 3, 'z': 2}"
      ]
     },
     "execution_count": 8,
     "metadata": {},
     "output_type": "execute_result"
    }
   ],
   "source": [
    "dict(sorted(di.items(), key=lambda x: x[0]))\n"
   ]
  },
  {
   "cell_type": "code",
   "execution_count": 17,
   "id": "d7439561-c53b-4f1a-9b57-c2a0834bf324",
   "metadata": {},
   "outputs": [],
   "source": [
    "### sorted by key\n",
    "di = {'x': 1, 'q': 3, 'z': 2}\n",
    "\n",
    "sort_key = list(di.keys())\n"
   ]
  },
  {
   "cell_type": "code",
   "execution_count": 18,
   "id": "d0987484-b753-43ba-9aef-28011e744aa1",
   "metadata": {},
   "outputs": [],
   "source": [
    "sort_key.sort()"
   ]
  },
  {
   "cell_type": "code",
   "execution_count": 19,
   "id": "2d8ed24e-6ddf-49db-8b76-419b42befaf5",
   "metadata": {},
   "outputs": [
    {
     "data": {
      "text/plain": [
       "['q', 'x', 'z']"
      ]
     },
     "execution_count": 19,
     "metadata": {},
     "output_type": "execute_result"
    }
   ],
   "source": [
    "sort_key"
   ]
  },
  {
   "cell_type": "code",
   "execution_count": null,
   "id": "3e9b8311-1b45-4edf-9d53-2933451687a9",
   "metadata": {},
   "outputs": [],
   "source": []
  }
 ],
 "metadata": {
  "kernelspec": {
   "display_name": "Python 3 (ipykernel)",
   "language": "python",
   "name": "python3"
  },
  "language_info": {
   "codemirror_mode": {
    "name": "ipython",
    "version": 3
   },
   "file_extension": ".py",
   "mimetype": "text/x-python",
   "name": "python",
   "nbconvert_exporter": "python",
   "pygments_lexer": "ipython3",
   "version": "3.9.13"
  }
 },
 "nbformat": 4,
 "nbformat_minor": 5
}
