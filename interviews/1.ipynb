{
 "cells": [
  {
   "cell_type": "code",
   "execution_count": 11,
   "metadata": {},
   "outputs": [
    {
     "name": "stdout",
     "output_type": "stream",
     "text": [
      "Given string is palindrom\n"
     ]
    }
   ],
   "source": [
    "def palindrom(string):\n",
    "    return string == string[::-1] #match string is palindrom or not\n",
    "\n",
    "string =\"racecar\"\n",
    "result = palindrom(string)\n",
    "if result:\n",
    "    print(\"Given string is palindrom\")\n",
    "else:\n",
    "    print(\"Given string is not palindrom\")"
   ]
  },
  {
   "cell_type": "code",
   "execution_count": 15,
   "metadata": {},
   "outputs": [
    {
     "data": {
      "text/plain": [
       "['ihg', 'fed', 'cba']"
      ]
     },
     "execution_count": 15,
     "metadata": {},
     "output_type": "execute_result"
    }
   ],
   "source": [
    "def sorting(lst):\n",
    "    newLst =[]\n",
    "    for item in lst:\n",
    "        reverse = item[::-1]\n",
    "        newLst.append(reverse)\n",
    "    return newLst[::-1]\n",
    "        \n",
    "lst = [\"abc\",\"def\",\"ghi\"]\n",
    "result = sorting(lst)\n",
    "result\n"
   ]
  },
  {
   "cell_type": "code",
   "execution_count": null,
   "metadata": {},
   "outputs": [],
   "source": [
    "delete from student where group by name \n",
    "select distinct salary from employee order by desc limit 1 offset 2\n",
    "#cte"
   ]
  },
  {
   "cell_type": "code",
   "execution_count": null,
   "metadata": {},
   "outputs": [],
   "source": [
    "#delete duplicate record from a table\n",
    "#common table expression in sql"
   ]
  }
 ],
 "metadata": {
  "kernelspec": {
   "display_name": "Python 3 (ipykernel)",
   "language": "python",
   "name": "python3"
  },
  "language_info": {
   "codemirror_mode": {
    "name": "ipython",
    "version": 3
   },
   "file_extension": ".py",
   "mimetype": "text/x-python",
   "name": "python",
   "nbconvert_exporter": "python",
   "pygments_lexer": "ipython3",
   "version": "3.10.12"
  }
 },
 "nbformat": 4,
 "nbformat_minor": 2
}
