{
 "cells": [
  {
   "cell_type": "code",
   "execution_count": null,
   "metadata": {},
   "outputs": [],
   "source": [
    "Django signals are a way to allow decoupled applications to get notified when certain actions occur \n",
    "elsewhere in the application. They allow certain senders to notify a set of receivers when some \n",
    "action has taken place. Here's a deeper dive into Django signals with a live project example and \n",
    "scenarios where they can be useful.\n",
    "\n",
    "Overview of Django Signals\n",
    "Django provides several built-in signals that can be used, including:\n",
    "\n",
    "1.pre_save and post_save: Sent before or after a model’s save() method is called.\n",
    "2.pre_delete and post_delete: Sent before or after a model’s delete() method is called.\n",
    "3.m2m_changed: Sent when a ManyToManyField is changed.\n",
    "\n",
    "Creating and Using Custom Signals\n",
    "In addition to the built-in signals, you can also create custom signals.\n",
    "\n",
    "Example: Sending a Welcome Email After User Registration\n",
    "In this example, we will use the post_save signal to send a welcome email to a user after they have \n",
    "registered.\n",
    "\n",
    "Step-by-Step Implementation\n",
    "Step 1: Define the Signal Receiver\n",
    "Create a signal receiver function that will send an email."
   ]
  },
  {
   "cell_type": "code",
   "execution_count": null,
   "metadata": {},
   "outputs": [],
   "source": [
    "# myapp/signals.py\n",
    "\n",
    "from django.contrib.auth.models import User\n",
    "from django.db.models.signals import post_save\n",
    "from django.dispatch import receiver\n",
    "from django.core.mail import send_mail\n",
    "from django.conf import settings\n",
    "\n",
    "@receiver(post_save, sender=User)\n",
    "def send_welcome_email(sender, instance, created, **kwargs):\n",
    "    if created:\n",
    "        subject = 'Welcome to MySite'\n",
    "        message = f'Hi {instance.username}, thank you for registering at MySite.'\n",
    "        from_email = settings.DEFAULT_FROM_EMAIL\n",
    "        recipient_list = [instance.email]\n",
    "        send_mail(subject, message, from_email, recipient_list)\n"
   ]
  },
  {
   "cell_type": "code",
   "execution_count": null,
   "metadata": {},
   "outputs": [],
   "source": [
    "Step 2: Connect the Signal\n",
    "Ensure that the signal is connected when the application starts. You can do this in the apps.py of \n",
    "your app.\n",
    "\n",
    "# myapp/apps.py\n",
    "\n",
    "from django.apps import AppConfig\n",
    "\n",
    "class MyAppConfig(AppConfig):\n",
    "    name = 'myapp'\n",
    "\n",
    "    def ready(self):\n",
    "        import myapp.signals  # noqa\n"
   ]
  },
  {
   "cell_type": "code",
   "execution_count": null,
   "metadata": {},
   "outputs": [],
   "source": [
    "# settings.py\n",
    "\n",
    "INSTALLED_APPS = [\n",
    "    ...\n",
    "    'myapp.apps.MyAppConfig',  # Ensure you use the custom AppConfig\n",
    "    ...\n",
    "]\n",
    "\n",
    "# Email settings (update these with your own email configuration)\n",
    "EMAIL_BACKEND = 'django.core.mail.backends.smtp.EmailBackend'\n",
    "DEFAULT_FROM_EMAIL = 'webmaster@mysite.com'\n",
    "EMAIL_HOST = 'smtp.example.com'\n",
    "EMAIL_PORT = 587\n",
    "EMAIL_USE_TLS = True\n",
    "EMAIL_HOST_USER = 'your-email@example.com'\n",
    "EMAIL_HOST_PASSWORD = 'your-email-password'\n"
   ]
  },
  {
   "cell_type": "code",
   "execution_count": null,
   "metadata": {},
   "outputs": [],
   "source": [
    "Step 3: Create and Save a User\n",
    "Whenever a new user is created, the send_welcome_email signal receiver will be triggered.\n",
    "# In a view or any other place where user registration happens\n",
    "from django.contrib.auth.models import User\n",
    "\n",
    "# Create a new user\n",
    "new_user = User.objects.create_user(username='newuser', email='newuser@example.com', password='password')\n",
    "\n"
   ]
  },
  {
   "cell_type": "code",
   "execution_count": null,
   "metadata": {},
   "outputs": [],
   "source": [
    "Explanation\n",
    "Signal Receiver: The send_welcome_email function is a signal receiver that listens for the post_save\n",
    "    signal from the User model. When a new user is created (created=True), it sends a welcome email.\n",
    "    \n",
    "Connecting the Signal: The receiver is connected to the signal in apps.py, ensuring that the \n",
    "    connection happens when the app is ready.\n",
    "Triggering the Signal: When a new User instance is saved, the post_save signal is sent, triggering\n",
    "    the send_welcome_email function.\n",
    "Real-World Use Cases for Django Signals\n",
    "\n",
    "User Activity Logging:\n",
    "\n",
    "Scenario: You want to log every time a user logs in or logs out.\n",
    "Signal: user_logged_in, user_logged_out.\n",
    "Order Processing:\n",
    "\n",
    "Scenario: When an order is created, you want to update the inventory and send a confirmation email.\n",
    "Signal: post_save on the Order model.\n",
    "Profile Creation:\n",
    "\n",
    "Scenario: Automatically create a user profile when a new user registers.\n",
    "Signal: post_save on the User model.\n",
    "Notification System:\n",
    "\n",
    "Scenario: Notify users when someone comments on their post.\n",
    "Signal: Custom signal emitted when a new comment is created.\n"
   ]
  }
 ],
 "metadata": {
  "kernelspec": {
   "display_name": "Python 3 (ipykernel)",
   "language": "python",
   "name": "python3"
  },
  "language_info": {
   "codemirror_mode": {
    "name": "ipython",
    "version": 3
   },
   "file_extension": ".py",
   "mimetype": "text/x-python",
   "name": "python",
   "nbconvert_exporter": "python",
   "pygments_lexer": "ipython3",
   "version": "3.10.12"
  }
 },
 "nbformat": 4,
 "nbformat_minor": 2
}
