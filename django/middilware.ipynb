{
 "cells": [
  {
   "cell_type": "code",
   "execution_count": null,
   "metadata": {},
   "outputs": [],
   "source": [
    "Middleware is something that executes between the request and response. In simple words,\n",
    "you can say it acts as a bridge between the request and response. Similarly In Django when a request \n",
    "is made it moves through middlewares to views and data is passed through middleware as a response. \n",
    "Middilware is a powerfull feature that allows you to process request and response globally before they\n",
    "reach the view after they leave the view.\n",
    "we can use the middilware to perform task such as authentication,logging, modifying request/response \n",
    "header or handling exception.\n"
   ]
  },
  {
   "cell_type": "code",
   "execution_count": null,
   "metadata": {},
   "outputs": [],
   "source": [
    "Django middleware is a framework of hooks into Django's request/response processing. \n",
    "It's a light, low-level \"plugin\" system for globally altering Django's input or output.\n",
    "Each middleware component is responsible for doing some specific function.\n",
    "\n",
    "Understanding Middleware\n",
    "Middleware can be used for various tasks such as:\n",
    "\n",
    "1.Request/response processing\n",
    "2.Session management\n",
    "3.User authentication\n",
    "4.URL routing"
   ]
  },
  {
   "cell_type": "code",
   "execution_count": null,
   "metadata": {},
   "outputs": [],
   "source": [
    "We'll create middleware for performance monitoring and response time logging. This middleware will \n",
    "log the time taken to process each request.\n",
    "\n",
    "Project Context\n",
    "Objective: Measure and log the time taken to process each request.\n",
    "Usage: Useful for identifying performance bottlenecks and monitoring application performance.\n",
    "Step-by-Step Implementation\n",
    "\n",
    "Step 1: Create Middleware\n",
    "Create a file named middleware.py in one of your Django apps (for example, myapp)."
   ]
  },
  {
   "cell_type": "code",
   "execution_count": null,
   "metadata": {},
   "outputs": [],
   "source": [
    "# myapp/middleware.py\n",
    "\n",
    "import time\n",
    "import logging\n",
    "\n",
    "logger = logging.getLogger(__name__)\n",
    "\n",
    "class PerformanceMonitoringMiddleware:\n",
    "    def __init__(self, get_response):\n",
    "        self.get_response = get_response\n",
    "\n",
    "    def __call__(self, request):\n",
    "        start_time = time.time()\n",
    "\n",
    "        # Get the response from the next middleware or the view\n",
    "        response = self.get_response(request)\n",
    "\n",
    "        duration = time.time() - start_time\n",
    "        logger.info(f\"Request to {request.path} took {duration:.2f} seconds\")\n",
    "\n",
    "        return response\n"
   ]
  },
  {
   "cell_type": "code",
   "execution_count": null,
   "metadata": {},
   "outputs": [],
   "source": [
    "Step 2: Add Middleware to Django Settings\n",
    "In your settings.py, add the custom middleware class to the MIDDLEWARE list."
   ]
  },
  {
   "cell_type": "code",
   "execution_count": null,
   "metadata": {},
   "outputs": [],
   "source": [
    "# settings.py\n",
    "\n",
    "MIDDLEWARE = [\n",
    "    'django.middleware.security.SecurityMiddleware',\n",
    "    'django.contrib.sessions.middleware.SessionMiddleware',\n",
    "    'django.middleware.common.CommonMiddleware',\n",
    "    'django.middleware.csrf.CsrfViewMiddleware',\n",
    "    'django.contrib.auth.middleware.AuthenticationMiddleware',\n",
    "    'django.contrib.messages.middleware.MessageMiddleware',\n",
    "    'django.middleware.clickjacking.XFrameOptionsMiddleware',\n",
    "    'myapp.middleware.PerformanceMonitoringMiddleware',  # Add this line\n",
    "]\n"
   ]
  },
  {
   "cell_type": "code",
   "execution_count": null,
   "metadata": {},
   "outputs": [],
   "source": [
    "Step 3: Configure Logging\n",
    "Ensure logging is configured to capture the info logs. Update settings.py with a logging configuration."
   ]
  },
  {
   "cell_type": "code",
   "execution_count": null,
   "metadata": {},
   "outputs": [],
   "source": [
    "# settings.py\n",
    "\n",
    "LOGGING = {\n",
    "    'version': 1,\n",
    "    'disable_existing_loggers': False,\n",
    "    'handlers': {\n",
    "        'console': {\n",
    "            'class': 'logging.StreamHandler',\n",
    "        },\n",
    "    },\n",
    "    'root': {\n",
    "        'handlers': ['console'],\n",
    "        'level': 'INFO',\n",
    "    },\n",
    "    'loggers': {\n",
    "        'django': {\n",
    "            'handlers': ['console'],\n",
    "            'level': 'INFO',\n",
    "            'propagate': False,\n",
    "        },\n",
    "        'myapp': {  # Add this logger\n",
    "            'handlers': ['console'],\n",
    "            'level': 'INFO',\n",
    "            'propagate': False,\n",
    "        },\n",
    "    },\n",
    "}\n"
   ]
  },
  {
   "cell_type": "code",
   "execution_count": null,
   "metadata": {},
   "outputs": [],
   "source": [
    "Step 4: Testing the Middleware\n",
    "Run your Django development server:\n",
    "    \n",
    "python manage.py runserver\n",
    "\n",
    "\n",
    "Explanation\n",
    "PerformanceMonitoringMiddleware:\n",
    "Measures the time taken to process each request.\n",
    "Logs the request path and the time taken to process the request.\n",
    "\n",
    "\n",
    "Initialization:\n",
    "\n",
    "__init__: Takes get_response as an argument, which is a callable that takes a request and returns a \n",
    "    response. This method is called only once when the Django application starts.\n",
    "\n",
    "Processing:\n",
    "\n",
    "__call__: This method is called for each request. It logs the request method and path, then gets the \n",
    "    response by calling the next middleware or view, and returns the response.\n",
    "\n",
    "Logging:\n",
    "\n",
    "The logging configuration in settings.py ensures that the log messages are printed to the console. \n",
    "The myapp logger captures logs from the RequestLoggingMiddleware.\n",
    "\n",
    "Additional Middleware Methods\n",
    "Besides __call__, middleware can also define process_view, process_exception, and\n",
    "process_template_response methods for more specific processing:\n",
    "\n",
    "process_view(self, request, view_func, view_args, view_kwargs): Called just before Django calls the \n",
    "    view.\n",
    "process_exception(self, request, exception): Called if the view raises an exception.\n",
    "process_template_response(self, request, response): Called just after the view has finished executing,\n",
    "    if the response contains a render method (typically an instance of TemplateResponse).\n",
    "\n",
    "    \n",
    "    \n",
    "    def process_view(self, request, view_func, view_args, view_kwargs):\n",
    "        logger.info(f\"Processing view: {view_func.__name__}\")\n",
    "\n",
    "    def process_exception(self, request, exception):\n",
    "        logger.error(f\"Exception occurred: {exception}\")"
   ]
  },
  {
   "cell_type": "code",
   "execution_count": null,
   "metadata": {},
   "outputs": [],
   "source": [
    "Exception Handling Middleware:\n",
    "Middleware can capture and handle exceptions gracefully, providing customized error pages or logging error details for \n",
    "debugging.\n",
    "\n",
    "Django middleware is a powerful mechanism for handling various aspects of the request-response cycle, such as authentication,\n",
    "security, performance optimization, and custom feature implementation. These middleware components help developers implement \n",
    "and manage complex functionalities in Django web applications efficiently. They are executed in a specified order defined in\n",
    "the project's settings, making it easy to apply various processing steps to incoming requests and outgoing responses."
   ]
  },
  {
   "cell_type": "code",
   "execution_count": null,
   "metadata": {},
   "outputs": [],
   "source": [
    "Step 1: Create a New Django Project and App\n",
    "\n",
    "django-admin startproject myproject\n",
    "cd myproject\n",
    "python manage.py startapp myapp\n"
   ]
  },
  {
   "cell_type": "code",
   "execution_count": null,
   "metadata": {},
   "outputs": [],
   "source": [
    "Step 2: Create the Custom Middleware\n",
    "    \n",
    "Inside \"myapp\" app folder, create a Python file for your custom middleware. Let's call it\n",
    "custom_middleware.py. In this middleware, we'll add a custom header to all responses.\n",
    "\n",
    "\n",
    "# myapp/middleware/custom_middleware.py\n",
    "\n",
    "class CustomHeaderMiddleware:\n",
    "    def __init__(self, get_response):\n",
    "        self.get_response = get_response\n",
    "\n",
    "    def __call__(self, request):\n",
    "        # This code is executed before the view is called.\n",
    "        response = self.get_response(request)\n",
    "        # This code is executed after the view is called.\n",
    "        response[\"X-Custom-Header\"] = \"Hello from Custom Middleware\"\n",
    "        return response\n"
   ]
  },
  {
   "cell_type": "code",
   "execution_count": null,
   "metadata": {},
   "outputs": [],
   "source": [
    "Step 3: Register the Middleware\n",
    "\n",
    "To activate the custom middleware, add it to the MIDDLEWARE setting in your project's settings.py \n",
    "file.\n",
    "\n",
    "# myproject/settings.py\n",
    "\n",
    "MIDDLEWARE = [\n",
    "    # ...\n",
    "    'myapp.middleware.custom_middleware.CustomHeaderMiddleware',\n",
    "    # ...\n",
    "]\n"
   ]
  }
 ],
 "metadata": {
  "kernelspec": {
   "display_name": "Python 3 (ipykernel)",
   "language": "python",
   "name": "python3"
  },
  "language_info": {
   "codemirror_mode": {
    "name": "ipython",
    "version": 3
   },
   "file_extension": ".py",
   "mimetype": "text/x-python",
   "name": "python",
   "nbconvert_exporter": "python",
   "pygments_lexer": "ipython3",
   "version": "3.10.12"
  }
 },
 "nbformat": 4,
 "nbformat_minor": 2
}
