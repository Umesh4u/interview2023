{
 "cells": [
  {
   "cell_type": "code",
   "execution_count": null,
   "metadata": {},
   "outputs": [],
   "source": [
    "Middleware is something that executes between the request and response. In simple words,\n",
    "you can say it acts as a bridge between the request and response. Similarly In Django when a request \n",
    "is made it moves through middlewares to views and data is passed through middleware as a response. \n",
    "Middilware is a powerfull feature that allows you to process request and response globally before they\n",
    "reach the view after they leave the view.\n",
    "we can use the middilware to perform task such as authentication,logging, modifying request/response \n",
    "header or handling exception.\n"
   ]
  },
  {
   "cell_type": "code",
   "execution_count": null,
   "metadata": {},
   "outputs": [],
   "source": [
    "Step 1: Create a New Django Project and App\n",
    "\n",
    "django-admin startproject myproject\n",
    "cd myproject\n",
    "python manage.py startapp myapp\n"
   ]
  },
  {
   "cell_type": "code",
   "execution_count": null,
   "metadata": {},
   "outputs": [],
   "source": [
    "Step 2: Create the Custom Middleware\n",
    "    \n",
    "Inside \"myapp\" app folder, create a Python file for your custom middleware. Let's call it\n",
    "custom_middleware.py. In this middleware, we'll add a custom header to all responses.\n",
    "\n",
    "\n",
    "# myapp/middleware/custom_middleware.py\n",
    "\n",
    "class CustomHeaderMiddleware:\n",
    "    def __init__(self, get_response):\n",
    "        self.get_response = get_response\n",
    "\n",
    "    def __call__(self, request):\n",
    "        # This code is executed before the view is called.\n",
    "        response = self.get_response(request)\n",
    "        # This code is executed after the view is called.\n",
    "        response[\"X-Custom-Header\"] = \"Hello from Custom Middleware\"\n",
    "        return response\n"
   ]
  },
  {
   "cell_type": "code",
   "execution_count": null,
   "metadata": {},
   "outputs": [],
   "source": [
    "Step 3: Register the Middleware\n",
    "\n",
    "To activate the custom middleware, add it to the MIDDLEWARE setting in your project's settings.py \n",
    "file.\n",
    "\n",
    "# myproject/settings.py\n",
    "\n",
    "MIDDLEWARE = [\n",
    "    # ...\n",
    "    'myapp.middleware.custom_middleware.CustomHeaderMiddleware',\n",
    "    # ...\n",
    "]\n"
   ]
  }
 ],
 "metadata": {
  "kernelspec": {
   "display_name": "Python 3 (ipykernel)",
   "language": "python",
   "name": "python3"
  },
  "language_info": {
   "codemirror_mode": {
    "name": "ipython",
    "version": 3
   },
   "file_extension": ".py",
   "mimetype": "text/x-python",
   "name": "python",
   "nbconvert_exporter": "python",
   "pygments_lexer": "ipython3",
   "version": "3.10.12"
  }
 },
 "nbformat": 4,
 "nbformat_minor": 2
}
