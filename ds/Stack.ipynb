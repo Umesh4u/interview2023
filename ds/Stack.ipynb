{
 "cells": [
  {
   "cell_type": "markdown",
   "metadata": {},
   "source": [
    "# Stack Data Structure\n"
   ]
  },
  {
   "cell_type": "markdown",
   "metadata": {},
   "source": [
    "### A stack is a linear data structure that follows the principle of Last In First Out (LIFO). \n",
    "### This means the last element inserted inside the stack is removed first.\n",
    "\n",
    "### You can think of the stack data structure as the pile of plates on top of another."
   ]
  },
  {
   "cell_type": "markdown",
   "metadata": {},
   "source": [
    "Here, you can:\n",
    "\n",
    "1.Put a new plate on top\n",
    "\n",
    "2.Remove the top plate\n",
    "And, if you want the plate at the bottom, you must first remove all the plates on top. This is exactly how the stack data structure works."
   ]
  },
  {
   "cell_type": "markdown",
   "metadata": {},
   "source": [
    "LIFO Principle of Stack\n",
    "In programming terms, putting an item on top of the stack is called push and removing an item is called pop.\n"
   ]
  },
  {
   "cell_type": "markdown",
   "metadata": {},
   "source": [
    "## There are some basic operations that allow us to perform different actions on a stack.\n",
    "\n",
    "**Push:** Add an element to the top of a stack\n",
    "\n",
    "**Pop:** Remove an element from the top of a stack\n",
    "\n",
    "**IsEmpty:** Check if the stack is empty\n",
    "\n",
    "**IsFull:** Check if the stack is full\n",
    "\n",
    "**Peek:** Get the value of the top element without removing it"
   ]
  },
  {
   "cell_type": "markdown",
   "metadata": {},
   "source": [
    "# Working of Stack Data Structure\n",
    "The operations work as follows:\n",
    "\n",
    "A pointer called TOP is used to keep track of the top element in the stack.\n",
    "\n",
    "When initializing the stack, we set its value to -1 so that we can check if the stack is empty by comparing TOP == -1.\n",
    "\n",
    "On pushing an element, we increase the value of TOP and place the new element in the position pointed to by TOP.\n",
    "\n",
    "On popping an element, we return the element pointed to by TOP and reduce its value.\n",
    "\n",
    "Before pushing, we check if the stack is already full\n",
    "\n",
    "Before popping, we check if the stack is already emp"
   ]
  },
  {
   "cell_type": "markdown",
   "metadata": {},
   "source": [
    "# Stack Time Complexity\n",
    "For the array-based implementation of a stack, the push and pop operations take constant time, i.e. O(1)."
   ]
  },
  {
   "cell_type": "markdown",
   "metadata": {},
   "source": [
    "\n",
    "# Applications of Stack Data Structure\n",
    "Although stack is a simple data structure to implement, it is very powerful. The most common uses of a stack are:\n",
    "\n",
    " **To reverse a word**  - Put all the letters in a stack and pop them out. Because of the LIFO order of stack, you will get the letters in reverse order.\n",
    "\n",
    "**In compilers** - Compilers use the stack to calculate the value of expressions like 2 + 4 / 5 * (7 - 9) by converting the expression to prefix or postfix form.\n",
    "\n",
    "**In browsers** - The back button in a browser saves all the URLs you have visited previously in a stack. Each time you visit a new page, it is added on top of the stack. When you press the back button, the current URL is removed from the stack, and the previous URL is accessed."
   ]
  },
  {
   "cell_type": "markdown",
   "metadata": {},
   "source": [
    "# Programme"
   ]
  },
  {
   "cell_type": "code",
   "execution_count": 23,
   "metadata": {},
   "outputs": [],
   "source": [
    "class Stack():\n",
    "    def __init__(self,elem):\n",
    "#         self.top = top\n",
    "        self.stack = []\n",
    "        self.elem = elem\n",
    "        \n",
    "    def isEmpty(self):\n",
    "        if len(self.stack)==0:\n",
    "            \n",
    "            return True\n",
    "        else:\n",
    "            return False\n",
    "    \n",
    "    def push(self):\n",
    "        self.stack.append(self.elem)\n",
    "        print(f\"stack is push your stack is {self.stack}\")\n",
    "    \n",
    "    def pop(self):\n",
    "        if self.isEmpty():\n",
    "            print(\"Stack is empty\")\n",
    "        else:\n",
    "            stack.pop()\n",
    "            print(f\"stack is pop your stack is {self.stack}\")\n",
    "            \n",
    "            \n",
    "    \n",
    "    "
   ]
  },
  {
   "cell_type": "code",
   "execution_count": 27,
   "metadata": {},
   "outputs": [],
   "source": [
    "obj =Stack(2)"
   ]
  },
  {
   "cell_type": "code",
   "execution_count": 21,
   "metadata": {},
   "outputs": [
    {
     "data": {
      "text/plain": [
       "True"
      ]
     },
     "execution_count": 21,
     "metadata": {},
     "output_type": "execute_result"
    }
   ],
   "source": [
    "obj.isEmpty()"
   ]
  },
  {
   "cell_type": "code",
   "execution_count": 26,
   "metadata": {},
   "outputs": [
    {
     "name": "stdout",
     "output_type": "stream",
     "text": [
      "stack is push your stack is [1, 1]\n"
     ]
    }
   ],
   "source": [
    "obj.push()"
   ]
  },
  {
   "cell_type": "code",
   "execution_count": 28,
   "metadata": {},
   "outputs": [
    {
     "name": "stdout",
     "output_type": "stream",
     "text": [
      "pushed item: 1\n",
      "pushed item: 2\n",
      "pushed item: 3\n",
      "pushed item: 4\n",
      "popped item: 4\n",
      "stack after popping an element: ['1', '2', '3']\n"
     ]
    }
   ],
   "source": [
    "# Stack implementation in python\n",
    "\n",
    "\n",
    "# Creating a stack\n",
    "def create_stack():\n",
    "    stack = []\n",
    "    return stack\n",
    "\n",
    "\n",
    "# Creating an empty stack\n",
    "def check_empty(stack):\n",
    "    return len(stack) == 0\n",
    "\n",
    "\n",
    "# Adding items into the stack\n",
    "def push(stack, item):\n",
    "    stack.append(item)\n",
    "    print(\"pushed item: \" + item)\n",
    "\n",
    "\n",
    "# Removing an element from the stack\n",
    "def pop(stack):\n",
    "    if (check_empty(stack)):\n",
    "        return \"stack is empty\"\n",
    "\n",
    "    return stack.pop()\n",
    "\n",
    "\n",
    "stack = create_stack()\n",
    "push(stack, str(1))\n",
    "push(stack, str(2))\n",
    "push(stack, str(3))\n",
    "push(stack, str(4))\n",
    "print(\"popped item: \" + pop(stack))\n",
    "print(\"stack after popping an element: \" + str(stack))\n"
   ]
  },
  {
   "cell_type": "code",
   "execution_count": null,
   "metadata": {},
   "outputs": [],
   "source": [
    "#https://www.programiz.com/dsa/stack"
   ]
  }
 ],
 "metadata": {
  "kernelspec": {
   "display_name": "Python 3 (ipykernel)",
   "language": "python",
   "name": "python3"
  },
  "language_info": {
   "codemirror_mode": {
    "name": "ipython",
    "version": 3
   },
   "file_extension": ".py",
   "mimetype": "text/x-python",
   "name": "python",
   "nbconvert_exporter": "python",
   "pygments_lexer": "ipython3",
   "version": "3.10.12"
  }
 },
 "nbformat": 4,
 "nbformat_minor": 2
}
