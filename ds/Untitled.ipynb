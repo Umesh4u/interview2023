{
 "cells": [
  {
   "cell_type": "markdown",
   "metadata": {},
   "source": [
    "# Complexity Classes"
   ]
  },
  {
   "cell_type": "markdown",
   "metadata": {},
   "source": [
    "### 1)Constant Complexity- O(1) ex:- x=y+z it is always same for any number there is no loop or any conditions\n",
    "### 2) Logarthimic complexity - O(logn) ex:- Binary Search\n",
    "### 3) Linear Complexity - O(n) ex:- Linear search\n",
    "### 4) Quarditic Complexity - O(n)2 \n",
    "### 5) Cubic Complexity -O(n)3\n",
    "### 6) Polynomial Complexity - O(n)c - c>0\n",
    "### 7) Exponential Complexity -O(c)n - c>1 ->O(2)n\n",
    "### 8) n!< n\n",
    "    "
   ]
  },
  {
   "cell_type": "markdown",
   "metadata": {},
   "source": [
    "# Recurrence Relation"
   ]
  },
  {
   "cell_type": "markdown",
   "metadata": {},
   "source": [
    "#### Recurrence comes from recursion"
   ]
  },
  {
   "cell_type": "markdown",
   "metadata": {},
   "source": [
    "### Recursion is - Whenever any function calling itself directly or indirectly its called a Recursion"
   ]
  },
  {
   "cell_type": "markdown",
   "metadata": {},
   "source": [
    "## We can solve any recurrence problem with the 3 methods mainly\n",
    "### 1) SUbstitution method\n",
    "### 2) Recursive tree approach\n",
    "### 3) Master's theorem\n"
   ]
  },
  {
   "cell_type": "code",
   "execution_count": null,
   "metadata": {},
   "outputs": [],
   "source": []
  }
 ],
 "metadata": {
  "kernelspec": {
   "display_name": "Python 3 (ipykernel)",
   "language": "python",
   "name": "python3"
  },
  "language_info": {
   "codemirror_mode": {
    "name": "ipython",
    "version": 3
   },
   "file_extension": ".py",
   "mimetype": "text/x-python",
   "name": "python",
   "nbconvert_exporter": "python",
   "pygments_lexer": "ipython3",
   "version": "3.10.12"
  }
 },
 "nbformat": 4,
 "nbformat_minor": 2
}
