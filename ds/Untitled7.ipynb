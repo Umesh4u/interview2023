{
 "cells": [
  {
   "cell_type": "code",
   "execution_count": null,
   "metadata": {},
   "outputs": [],
   "source": [
    "#customer\n",
    "#billing_address\n",
    "#order\n",
    "#product\n",
    "# payment --> reltaionship in all tables\n"
   ]
  },
  {
   "cell_type": "code",
   "execution_count": null,
   "metadata": {},
   "outputs": [],
   "source": [
    "class AUthor\n",
    "    id\n",
    "    name\n",
    "    \n",
    "class Book\n",
    "    auther_id\n",
    "    publish =0/1\n",
    "    \n",
    "#i want author table data with book only published =1\n",
    "#data =books.objects.select_related(author_id).filter(publish=1)"
   ]
  },
  {
   "cell_type": "code",
   "execution_count": null,
   "metadata": {},
   "outputs": [],
   "source": [
    "input = [3,4,5,6,7,4,3,4] k=10, output:-[(3,7),(4,6)]"
   ]
  },
  {
   "cell_type": "code",
   "execution_count": null,
   "metadata": {},
   "outputs": [],
   "source": [
    "#we have a particular APi it will take lots time then how to improve that thing\n",
    "i told indexing"
   ]
  },
  {
   "cell_type": "code",
   "execution_count": null,
   "metadata": {},
   "outputs": [],
   "source": [
    "deployment steps"
   ]
  },
  {
   "cell_type": "code",
   "execution_count": 25,
   "metadata": {},
   "outputs": [
    {
     "name": "stdout",
     "output_type": "stream",
     "text": [
      "[3, 4, 5, 6, 7, 4, 3, 4]\n"
     ]
    },
    {
     "data": {
      "text/plain": [
       "[(3, 7), (4, 6), (4, 6), (3, 7), (4, 6)]"
      ]
     },
     "execution_count": 25,
     "metadata": {},
     "output_type": "execute_result"
    }
   ],
   "source": [
    "def CalculateSum(arr,target_sum):\n",
    "    a=arr\n",
    "    a.sort\n",
    "    print(a)\n",
    "\n",
    "    li=[]\n",
    "    for i in a:\n",
    "        val=target_sum-i\n",
    "        if val in arr and val !=i and val>i :\n",
    "            pair=(i,val)\n",
    "            li.append(pair)\n",
    "    return li\n",
    "    \n",
    "    \n",
    "CalculateSum([3,4,5,6,7,4,3,4],10)"
   ]
  },
  {
   "cell_type": "code",
   "execution_count": 26,
   "metadata": {},
   "outputs": [
    {
     "data": {
      "text/plain": [
       "10"
      ]
     },
     "execution_count": 26,
     "metadata": {},
     "output_type": "execute_result"
    }
   ],
   "source": [
    "30//3"
   ]
  },
  {
   "cell_type": "code",
   "execution_count": null,
   "metadata": {},
   "outputs": [],
   "source": []
  }
 ],
 "metadata": {
  "kernelspec": {
   "display_name": "Python 3 (ipykernel)",
   "language": "python",
   "name": "python3"
  },
  "language_info": {
   "codemirror_mode": {
    "name": "ipython",
    "version": 3
   },
   "file_extension": ".py",
   "mimetype": "text/x-python",
   "name": "python",
   "nbconvert_exporter": "python",
   "pygments_lexer": "ipython3",
   "version": "3.10.12"
  }
 },
 "nbformat": 4,
 "nbformat_minor": 2
}
