{
 "cells": [
  {
   "cell_type": "code",
   "execution_count": 10,
   "metadata": {},
   "outputs": [
    {
     "name": "stdout",
     "output_type": "stream",
     "text": [
      "0 2 3 0\n",
      "0 3 0 0\n",
      "1 0 5 0\n",
      "1 1 0 0\n",
      "1 3 0 0\n",
      "2 1 3 0\n",
      "2 2 0 0\n",
      "2 3 0 0\n",
      "3 2 0 0\n",
      "3 3 0 0\n",
      "4 2 4 0\n",
      "4 3 0 0\n",
      "4 4 0 0\n"
     ]
    },
    {
     "data": {
      "text/plain": [
       "[5, 3, 4, 0, 0]"
      ]
     },
     "execution_count": 10,
     "metadata": {},
     "output_type": "execute_result"
    }
   ],
   "source": [
    "n=5\n",
    "arr=[3,5,0,0,4]\n",
    "def pushZerosToEnd(arr, n):\n",
    "    for i in range(n):\n",
    "        for j in range(n):\n",
    "            if arr[j]==0:\n",
    "                print(i,j,arr[i],arr[j])\n",
    "                arr[i],arr[j]=arr[j],arr[i]\n",
    "    return arr   \n",
    "\n",
    "pushZerosToEnd(arr,n)"
   ]
  },
  {
   "cell_type": "code",
   "execution_count": null,
   "metadata": {},
   "outputs": [],
   "source": [
    "n=5\n",
    "arr=[3,5,0,0,4]\n",
    "def pushZerosToEnd(arr, n):\n",
    "    for i in arr:\n",
    "        if arr[i]==\n",
    "    return arr   \n",
    "\n",
    "pushZerosToEnd(arr,n)"
   ]
  },
  {
   "cell_type": "code",
   "execution_count": 6,
   "metadata": {},
   "outputs": [
    {
     "name": "stdin",
     "output_type": "stream",
     "text": [
      " 50\n",
      " 50\n",
      " 50\n",
      " 50\n",
      " 50\n"
     ]
    },
    {
     "name": "stdout",
     "output_type": "stream",
     "text": [
      "Grade A\n"
     ]
    }
   ],
   "source": [
    "m1=int(input())    \n",
    "m2=int(input())\n",
    "m3=int(input())\n",
    "m4=int(input())\n",
    "m5=int(input())\n",
    "percentage = int(((m1+m2+m3+m4+m5/500))*100)\n",
    "\n",
    "if percentage>=90:\n",
    "    print(\"Grade A\")\n",
    "elif percentage>=80 and percentage<:\n",
    "    print(\"Grade B\")\n",
    "elif percentage>=70:\n",
    "    print(\"Grade C\")\n",
    "elif percentage>=60:\n",
    "    print(\"Grade D\")\n",
    "elif percentage>=40:\n",
    "    print(\"Grade E\")\n",
    "elif percentage<40:\n",
    "    print(\"Greade F\")"
   ]
  },
  {
   "cell_type": "code",
   "execution_count": 18,
   "metadata": {},
   "outputs": [
    {
     "name": "stdout",
     "output_type": "stream",
     "text": [
      "[6, 1, 2, 8, 3, 4, 7, 10, 5]\n",
      "55\n"
     ]
    },
    {
     "data": {
      "text/plain": [
       "9"
      ]
     },
     "execution_count": 18,
     "metadata": {},
     "output_type": "execute_result"
    }
   ],
   "source": [
    "#missing number\n",
    "N = 10\n",
    "A = [6,1,2,8,3,4,7,10,5]\n",
    "print(A)\n",
    "expTotal = int((N*(N+1))/2)\n",
    "actualTotal = sum(A)\n",
    "missing = expTotal-actualTotal\n",
    "missing\n"
   ]
  },
  {
   "cell_type": "code",
   "execution_count": 20,
   "metadata": {},
   "outputs": [
    {
     "name": "stdout",
     "output_type": "stream",
     "text": [
      "2\n"
     ]
    }
   ],
   "source": [
    "arr =[1,2,3,4,5]\n",
    "n=5\n",
    "print(n//2)\n",
    "a=n//2"
   ]
  },
  {
   "cell_type": "code",
   "execution_count": 21,
   "metadata": {},
   "outputs": [
    {
     "ename": "NameError",
     "evalue": "name 'a' is not defined",
     "output_type": "error",
     "traceback": [
      "\u001b[0;31m---------------------------------------------------------------------------\u001b[0m",
      "\u001b[0;31mNameError\u001b[0m                                 Traceback (most recent call last)",
      "Cell \u001b[0;32mIn[21], line 2\u001b[0m\n\u001b[1;32m      1\u001b[0m count\u001b[38;5;241m=\u001b[39m\u001b[38;5;241m1\u001b[39m\n\u001b[0;32m----> 2\u001b[0m \u001b[38;5;28;01mwhile\u001b[39;00m(count\u001b[38;5;241m<\u001b[39m\u001b[38;5;241m=\u001b[39m\u001b[43ma\u001b[49m):\n\u001b[1;32m      3\u001b[0m     \u001b[38;5;28mprint\u001b[39m(arr[\u001b[38;5;241m1\u001b[39m],end\u001b[38;5;241m=\u001b[39m \u001b[38;5;124m\"\u001b[39m\u001b[38;5;124m \u001b[39m\u001b[38;5;124m\"\u001b[39m)\n\u001b[1;32m      4\u001b[0m     \u001b[38;5;28mprint\u001b[39m(arr)\n",
      "\u001b[0;31mNameError\u001b[0m: name 'a' is not defined"
     ]
    }
   ],
   "source": [
    "count=1\n",
    "while(count<=a):\n",
    "    print(arr[1],end= \" \")\n",
    "    print(arr)"
   ]
  },
  {
   "cell_type": "code",
   "execution_count": null,
   "metadata": {},
   "outputs": [],
   "source": [
    "for i in range(1,10):\n",
    "    if i%2==0"
   ]
  }
 ],
 "metadata": {
  "kernelspec": {
   "display_name": "Python 3 (ipykernel)",
   "language": "python",
   "name": "python3"
  },
  "language_info": {
   "codemirror_mode": {
    "name": "ipython",
    "version": 3
   },
   "file_extension": ".py",
   "mimetype": "text/x-python",
   "name": "python",
   "nbconvert_exporter": "python",
   "pygments_lexer": "ipython3",
   "version": "3.10.12"
  }
 },
 "nbformat": 4,
 "nbformat_minor": 2
}
