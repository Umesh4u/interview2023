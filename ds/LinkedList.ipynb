{
 "cells": [
  {
   "cell_type": "code",
   "execution_count": 29,
   "metadata": {},
   "outputs": [
    {
     "name": "stdout",
     "output_type": "stream",
     "text": [
      "50  40  30  20  10  5  \n",
      "50  40  30  20  10  5  \n",
      "5  10  20  30  40  50  "
     ]
    }
   ],
   "source": [
    "[--------class Node:\n",
    "    def __init__(self,data):\n",
    "        self.data=data\n",
    "        self.nextPtr=None\n",
    "        \n",
    "class LinkedList:\n",
    "    def __init__(self):\n",
    "        self.head=None\n",
    "        \n",
    "    def insertAtBegining(self,data):\n",
    "        new_node=Node(data)\n",
    "        new_node.nextPtr=self.head\n",
    "        self.head=new_node\n",
    "        \n",
    "    def insertAtEnd(self,data):\n",
    "        new_node=Node(data)\n",
    "        if self.head is None:\n",
    "            self.head=new_node\n",
    "            return \n",
    "        \n",
    "        temp=self.head\n",
    "        while temp.nextPtr is not None:\n",
    "            temp=temp.nextPtr\n",
    "        temp.nextPtr=new_node\n",
    "    \n",
    "    def insertInBetween(self,node,data):\n",
    "        new_node=Node(data)\n",
    "        temp=self.head\n",
    "        while temp.nextPtr is not None:\n",
    "            temp=temp.nextPtr\n",
    "        \n",
    "    def printLinkedlist(self):\n",
    "        temp=self.head\n",
    "        while temp:\n",
    "            print(str(temp.data)+\" \",end=\" \")\n",
    "            temp=temp.nextPtr\n",
    "            \n",
    "    def deleteNode(self,node):\n",
    "        temp=self.head\n",
    "        while temp.nextPtr!=None:\n",
    "            if temp.nextPtr.data==node:\n",
    "                temp2=temp.nextPtr.nextPtr\n",
    "                temp.nextPtr=temp2\n",
    "                return self.head\n",
    "            temp=temp.nextPtr\n",
    "        return \"node not exist\"\n",
    "    \n",
    "    def reverseList(self):\n",
    "        prev=None\n",
    "        curr=self.head\n",
    "        while curr!=None:\n",
    "            next=curr.nextPtr\n",
    "            curr.nextPtr=prev\n",
    "            prev=curr\n",
    "            curr=next\n",
    "        self.head=prev \n",
    "        \n",
    "    def checkPalindrome(self):\n",
    "        self.reverseList()\n",
    "\n",
    "ll=LinkedList()\n",
    "ll.insertAtBegining(10)\n",
    "ll.insertAtBegining(20)\n",
    "ll.insertAtBegining(30)\n",
    "ll.insertAtBegining(40)\n",
    "ll.insertAtBegining(50)\n",
    "# ll.printLinkedlist()\n",
    "ll.insertAtEnd(5)\n",
    "ll.printLinkedlist()\n",
    "# ll.deleteNode(10)\n",
    "print()\n",
    "ll.printLinkedlist()\n",
    "print()\n",
    "ll.reverseList()\n",
    "ll.printLinkedlist()\n",
    "\n",
    "\n"
   ]
  },
  {
   "cell_type": "code",
   "execution_count": null,
   "metadata": {},
   "outputs": [],
   "source": [
    "def checkPalindrom(self):\n",
    "     prev=None\n",
    "        curr=self.head\n",
    "        while curr!=None:\n",
    "            next=curr.nextPtr\n",
    "            curr.nextPtr=prev\n",
    "            prev=curr\n",
    "            curr=next\n",
    "        self.head=prev "
   ]
  }
 ],
 "metadata": {
  "kernelspec": {
   "display_name": "Python 3 (ipykernel)",
   "language": "python",
   "name": "python3"
  },
  "language_info": {
   "codemirror_mode": {
    "name": "ipython",
    "version": 3
   },
   "file_extension": ".py",
   "mimetype": "text/x-python",
   "name": "python",
   "nbconvert_exporter": "python",
   "pygments_lexer": "ipython3",
   "version": "3.10.12"
  }
 },
 "nbformat": 4,
 "nbformat_minor": 2
}
