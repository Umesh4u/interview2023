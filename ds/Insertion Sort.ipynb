{
 "cells": [
  {
   "cell_type": "code",
   "execution_count": 38,
   "metadata": {},
   "outputs": [
    {
     "name": "stdout",
     "output_type": "stream",
     "text": [
      "--------------------------\n",
      "--------------------------\n",
      "hhhhhhhhhhh 90 75\n",
      "--------------------------\n",
      "hhhhhhhhhhh 100 90\n",
      "--------------------------\n",
      "hhhhhhhhhhh 95 100\n",
      "[75, 90, 100, 95] 2\n",
      "hhhhhhhhhhh 95 90\n",
      "--------------------------\n",
      "hhhhhhhhhhh 85 95\n",
      "[75, 90, 95, 100, 85] 3\n",
      "hhhhhhhhhhh 85 100\n",
      "[75, 90, 95, 100, 85] 2\n",
      "hhhhhhhhhhh 85 90\n",
      "[75, 90, 95, 100, 85] 1\n",
      "hhhhhhhhhhh 85 75\n",
      "--------------------------\n",
      "hhhhhhhhhhh 50 85\n",
      "[75, 85, 90, 95, 100, 50] 4\n",
      "hhhhhhhhhhh 50 95\n",
      "[75, 85, 90, 95, 100, 50] 3\n",
      "hhhhhhhhhhh 50 100\n",
      "[75, 85, 90, 95, 100, 50] 2\n",
      "hhhhhhhhhhh 50 90\n",
      "[75, 85, 90, 95, 100, 50] 1\n",
      "hhhhhhhhhhh 50 75\n",
      "[75, 85, 90, 95, 100, 50] 0\n",
      "--------------------------\n",
      "hhhhhhhhhhh 100 50\n",
      "--------------------------\n",
      "hhhhhhhhhhh 110 100\n",
      "--------------------------\n",
      "hhhhhhhhhhh 7 110\n",
      "[50, 75, 85, 90, 95, 100, 100, 110, 7] 7\n",
      "hhhhhhhhhhh 7 100\n",
      "[50, 75, 85, 90, 95, 100, 100, 110, 7] 6\n",
      "hhhhhhhhhhh 7 50\n",
      "[50, 75, 85, 90, 95, 100, 100, 110, 7] 5\n",
      "hhhhhhhhhhh 7 85\n",
      "[50, 75, 85, 90, 95, 100, 100, 110, 7] 4\n",
      "hhhhhhhhhhh 7 95\n",
      "[50, 75, 85, 90, 95, 100, 100, 110, 7] 3\n",
      "hhhhhhhhhhh 7 100\n",
      "[50, 75, 85, 90, 95, 100, 100, 110, 7] 2\n",
      "hhhhhhhhhhh 7 90\n",
      "[50, 75, 85, 90, 95, 100, 100, 110, 7] 1\n",
      "hhhhhhhhhhh 7 75\n",
      "[50, 75, 85, 90, 95, 100, 100, 110, 7] 0\n"
     ]
    },
    {
     "data": {
      "text/plain": [
       "[7, 50, 75, 85, 90, 95, 100, 100, 110]"
      ]
     },
     "execution_count": 38,
     "metadata": {},
     "output_type": "execute_result"
    }
   ],
   "source": [
    "arr = [75,90,100,95,85,50,100,110,7]\n",
    "\n",
    "def insertionSort():\n",
    "    n=len(arr)\n",
    "    newArr=[]\n",
    "    for i in range(n):\n",
    "        print(\"--------------------------\")\n",
    "        newArr.append(arr[i])\n",
    "        min = None\n",
    "        for j in range(len(newArr)-1,0,-1):\n",
    "            print(\"hhhhhhhhhhh\",arr[i],arr[j-1])\n",
    "            if arr[i]<arr[j-1]:\n",
    "                min=j-1\n",
    "            if arr[i]>arr[j-1]:\n",
    "                break;\n",
    "          \n",
    "            print(newArr,min)\n",
    "        if min!=None:\n",
    "            newArr.insert(min,arr[i])\n",
    "            newArr.pop()\n",
    "    return newArr\n",
    "\n",
    "                \n",
    "        \n",
    "    \n",
    "    \n",
    "insertionSort()"
   ]
  },
  {
   "cell_type": "code",
   "execution_count": 42,
   "metadata": {},
   "outputs": [
    {
     "name": "stdout",
     "output_type": "stream",
     "text": [
      "================\n",
      "[75, 90, 100, 95, 85, 50, 100, 110, 7]\n",
      "================\n",
      "2 1 100 90\n",
      "[75, 90, 100, 95, 85, 50, 100, 110, 7]\n",
      "================\n",
      "3 2 95 100\n",
      "3 1 100 90\n",
      "[75, 90, 95, 100, 85, 50, 100, 110, 7]\n",
      "================\n",
      "4 3 85 100\n",
      "4 2 100 95\n",
      "4 1 100 90\n",
      "[75, 90, 95, 85, 100, 50, 100, 110, 7]\n",
      "================\n",
      "5 4 50 100\n",
      "5 3 100 85\n",
      "5 2 100 95\n",
      "5 1 100 90\n",
      "[75, 90, 95, 85, 50, 100, 100, 110, 7]\n",
      "================\n",
      "6 5 100 100\n",
      "6 4 100 50\n",
      "6 3 100 85\n",
      "6 2 100 95\n",
      "6 1 100 90\n",
      "[75, 90, 95, 85, 50, 100, 100, 110, 7]\n",
      "================\n",
      "7 6 110 100\n",
      "7 5 110 100\n",
      "7 4 110 50\n",
      "7 3 110 85\n",
      "7 2 110 95\n",
      "7 1 110 90\n",
      "[75, 90, 95, 85, 50, 100, 100, 110, 7]\n",
      "================\n",
      "8 7 7 110\n",
      "8 6 110 100\n",
      "8 5 110 100\n",
      "8 4 110 50\n",
      "8 3 110 85\n",
      "8 2 110 95\n",
      "8 1 110 90\n",
      "[75, 90, 95, 85, 50, 100, 100, 7, 110]\n"
     ]
    }
   ],
   "source": [
    "arr = [75,90,100,95,85,50,100,110,7]\n",
    "\n",
    "def insertionSort():\n",
    "    n=len(arr)\n",
    "    for i in range(1,n):\n",
    "        print(\"================\")\n",
    "        for j in range(i-1,0,-1):\n",
    "            print(i,j,arr[i],arr[j])\n",
    "            if arr[i]<arr[j]:\n",
    "                arr[i],arr[j]=arr[j],arr[i]\n",
    "        print(arr)\n",
    "\n",
    "                \n",
    "        \n",
    "    \n",
    "    \n",
    "insertionSort()"
   ]
  },
  {
   "cell_type": "code",
   "execution_count": 1,
   "metadata": {},
   "outputs": [
    {
     "name": "stdout",
     "output_type": "stream",
     "text": [
      "2\n"
     ]
    }
   ],
   "source": [
    "num=16\n",
    "base=4\n",
    "cnt=0\n",
    "while(num>1):\n",
    "    num/=base\n",
    "    cnt+=1\n",
    "print(cnt)"
   ]
  },
  {
   "cell_type": "code",
   "execution_count": 4,
   "metadata": {},
   "outputs": [
    {
     "name": "stdin",
     "output_type": "stream",
     "text": [
      " 5\n"
     ]
    },
    {
     "name": "stdout",
     "output_type": "stream",
     "text": [
      "9\n"
     ]
    }
   ],
   "source": [
    "A=int(input())\n",
    "count=1\n",
    "sums=0\n",
    "while(count<=A):\n",
    "    sums+=count\n",
    "    count+=2\n",
    "print(sums)"
   ]
  },
  {
   "cell_type": "markdown",
   "metadata": {},
   "source": [
    "#### "
   ]
  },
  {
   "cell_type": "code",
   "execution_count": null,
   "metadata": {},
   "outputs": [
    {
     "name": "stdin",
     "output_type": "stream",
     "text": [
      " 3\n"
     ]
    }
   ],
   "source": [
    "A=int(input())\n",
    "count=2\n",
    "while(count<=A):\n",
    "    if A%count==0:\n",
    "        print(\"YES\")\n",
    "        break;\n",
    "else:\n",
    "    print(\"NO\")"
   ]
  },
  {
   "cell_type": "code",
   "execution_count": null,
   "metadata": {},
   "outputs": [],
   "source": []
  }
 ],
 "metadata": {
  "kernelspec": {
   "display_name": "Python 3 (ipykernel)",
   "language": "python",
   "name": "python3"
  },
  "language_info": {
   "codemirror_mode": {
    "name": "ipython",
    "version": 3
   },
   "file_extension": ".py",
   "mimetype": "text/x-python",
   "name": "python",
   "nbconvert_exporter": "python",
   "pygments_lexer": "ipython3",
   "version": "3.10.12"
  }
 },
 "nbformat": 4,
 "nbformat_minor": 2
}
