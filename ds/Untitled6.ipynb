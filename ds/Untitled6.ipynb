{
 "cells": [
  {
   "cell_type": "code",
   "execution_count": 8,
   "metadata": {},
   "outputs": [
    {
     "name": "stdout",
     "output_type": "stream",
     "text": [
      "1\n",
      "2\n",
      "3\n"
     ]
    },
    {
     "data": {
      "text/plain": [
       "4"
      ]
     },
     "execution_count": 8,
     "metadata": {},
     "output_type": "execute_result"
    }
   ],
   "source": [
    "def countFactor(n):\n",
    "    count=0\n",
    "    i=1\n",
    "    while(i*i<=n):\n",
    "        print(i)\n",
    "        if i*i==n:\n",
    "            count+=1\n",
    "        elif n%i==0:\n",
    "            count+=2\n",
    "        i+=1\n",
    "    return count\n",
    "\n",
    "countFactor(10)"
   ]
  },
  {
   "cell_type": "code",
   "execution_count": 7,
   "metadata": {},
   "outputs": [
    {
     "name": "stdout",
     "output_type": "stream",
     "text": [
      "1\n",
      "2\n",
      "Prime No\n"
     ]
    }
   ],
   "source": [
    "def PrimeNumber(n):\n",
    "    countFact= countFactor(n)\n",
    "    if countFact==2:\n",
    "        print(\"Prime No\")\n",
    "    else:\n",
    "        print(\"Not a prime no\")\n",
    "PrimeNumber(7)"
   ]
  },
  {
   "cell_type": "code",
   "execution_count": 15,
   "metadata": {},
   "outputs": [
    {
     "name": "stdout",
     "output_type": "stream",
     "text": [
      "2\n",
      "3\n",
      "5\n",
      "7\n",
      "11\n",
      "13\n",
      "17\n",
      "19\n"
     ]
    },
    {
     "data": {
      "text/plain": [
       "8"
      ]
     },
     "execution_count": 15,
     "metadata": {},
     "output_type": "execute_result"
    }
   ],
   "source": [
    "A=19\n",
    "def solve(A):\n",
    "    count=0\n",
    "    for n in range(1,A+1):\n",
    "        factor=0\n",
    "        i=1\n",
    "        while(i*i<=n):\n",
    "            if i*i==n:\n",
    "                factor+=1\n",
    "            elif n%i==0:\n",
    "                factor+=2\n",
    "            i+=1\n",
    "                \n",
    "        if factor==2:\n",
    "            print(n)\n",
    "            count+=1\n",
    "    return count   \n",
    "solve(A)"
   ]
  },
  {
   "cell_type": "code",
   "execution_count": 22,
   "metadata": {},
   "outputs": [
    {
     "name": "stdout",
     "output_type": "stream",
     "text": [
      "6 1\n",
      "6 2\n",
      "[1, 2, 3]\n"
     ]
    },
    {
     "data": {
      "text/plain": [
       "1"
      ]
     },
     "execution_count": 22,
     "metadata": {},
     "output_type": "execute_result"
    }
   ],
   "source": [
    "\n",
    "def solve(A):\n",
    "        li=[]\n",
    "        i=1\n",
    "        while(i*i<=A):\n",
    "            print(A,i)\n",
    "            if i*i==A:\n",
    "                pass\n",
    "            elif A%i==0:\n",
    "                li.append(i)\n",
    "                if i!=1:\n",
    "                    li.append(A//i)\n",
    "            i+=1\n",
    "        print(li)\n",
    "        if A==sum(li):\n",
    "            return 1\n",
    "        else:\n",
    "            return 0\n",
    "solve(6)"
   ]
  },
  {
   "cell_type": "code",
   "execution_count": null,
   "metadata": {},
   "outputs": [],
   "source": []
  }
 ],
 "metadata": {
  "kernelspec": {
   "display_name": "Python 3 (ipykernel)",
   "language": "python",
   "name": "python3"
  },
  "language_info": {
   "codemirror_mode": {
    "name": "ipython",
    "version": 3
   },
   "file_extension": ".py",
   "mimetype": "text/x-python",
   "name": "python",
   "nbconvert_exporter": "python",
   "pygments_lexer": "ipython3",
   "version": "3.10.12"
  }
 },
 "nbformat": 4,
 "nbformat_minor": 2
}
