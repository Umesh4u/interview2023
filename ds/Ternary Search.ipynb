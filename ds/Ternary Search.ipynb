{
 "cells": [
  {
   "cell_type": "code",
   "execution_count": 6,
   "metadata": {},
   "outputs": [],
   "source": [
    "arr=[2,4,6,8,10]\n"
   ]
  },
  {
   "cell_type": "code",
   "execution_count": 16,
   "metadata": {},
   "outputs": [
    {
     "data": {
      "text/plain": [
       "1"
      ]
     },
     "execution_count": 16,
     "metadata": {},
     "output_type": "execute_result"
    }
   ],
   "source": [
    "key=3\n",
    "mid1 = 0+(4-0)//3\n",
    "mid1"
   ]
  },
  {
   "cell_type": "code",
   "execution_count": 4,
   "metadata": {},
   "outputs": [
    {
     "data": {
      "text/plain": [
       "3"
      ]
     },
     "execution_count": 4,
     "metadata": {},
     "output_type": "execute_result"
    }
   ],
   "source": [
    "mid2 = 4-(4-0)//3\n",
    "mid2"
   ]
  },
  {
   "cell_type": "code",
   "execution_count": 17,
   "metadata": {},
   "outputs": [
    {
     "name": "stdout",
     "output_type": "stream",
     "text": [
      "1 3 0 4\n",
      "0 0 0 0\n",
      "0 1 1 0\n"
     ]
    },
    {
     "data": {
      "text/plain": [
       "-1"
      ]
     },
     "execution_count": 17,
     "metadata": {},
     "output_type": "execute_result"
    }
   ],
   "source": [
    "def ternarySearch(i,j):\n",
    "    mid1 = i+(j-i)//3\n",
    "    mid2 = j-(j-i)//3\n",
    "    print(mid1,mid2,i,j)\n",
    "    if j>=i:\n",
    "        if arr[mid1]==key:\n",
    "            return mid1\n",
    "        elif arr[mid2]==key:\n",
    "            return mid2\n",
    "        elif arr[mid1]>key:\n",
    "            return ternarySearch(i,mid1-1)\n",
    "#         elif arr[mid1]<key and arr[mid2]>key:\n",
    "#             ternarySearch()\n",
    "        elif arr[mid2]<key:\n",
    "            return ternarySearch(mid2+1,j)\n",
    "        else:\n",
    "            return ternarySearch(mid1+1,mid2-1)\n",
    "    else:\n",
    "        return -1\n",
    "    \n",
    "ternarySearch(0,len(l)-1)"
   ]
  },
  {
   "cell_type": "code",
   "execution_count": null,
   "metadata": {},
   "outputs": [],
   "source": []
  }
 ],
 "metadata": {
  "kernelspec": {
   "display_name": "Python 3 (ipykernel)",
   "language": "python",
   "name": "python3"
  },
  "language_info": {
   "codemirror_mode": {
    "name": "ipython",
    "version": 3
   },
   "file_extension": ".py",
   "mimetype": "text/x-python",
   "name": "python",
   "nbconvert_exporter": "python",
   "pygments_lexer": "ipython3",
   "version": "3.10.12"
  }
 },
 "nbformat": 4,
 "nbformat_minor": 2
}
