{
 "cells": [
  {
   "cell_type": "code",
   "execution_count": null,
   "metadata": {},
   "outputs": [],
   "source": [
    "What is numpy?\n",
    "-Numpy is python library used for working with arrays\n",
    "-Numpy stands for numerical python\n",
    "-It is open source liabray\n",
    "\n",
    "Why use NumPy?\n",
    "- In python we have a list that serves the purpose of arrays, but they are slow to process\n",
    "- NumPy aims to provide an array object that is upto 50x faster then traditional python list\n",
    "- The array object in numpy is called ndarray, it provides a lots of supporting functions that make \n",
    "    working with ndarray is very easy.\n",
    "- Array is very frequently used n data science, where speed and resource are very important.\n",
    "\n",
    "Why Numpy is faster then list?\n",
    "- Numpy to use continous block of memory and perform operation using optimized low-level code \n",
    "- Numpy store homogenous data types so that is faster then list\n",
    "- list store different types of data and its types that's why requiring addition memory and incresing \n",
    "    complexity in operations\n",
    "-"
   ]
  },
  {
   "cell_type": "code",
   "execution_count": 1,
   "metadata": {},
   "outputs": [
    {
     "data": {
      "text/plain": [
       "array([1, 2, 3, 4, 5])"
      ]
     },
     "execution_count": 1,
     "metadata": {},
     "output_type": "execute_result"
    }
   ],
   "source": [
    "import numpy as np\n",
    "arr = np.array([1,2,3,4,5])\n",
    "arr"
   ]
  },
  {
   "cell_type": "code",
   "execution_count": 2,
   "metadata": {},
   "outputs": [
    {
     "data": {
      "text/plain": [
       "'1.25.2'"
      ]
     },
     "execution_count": 2,
     "metadata": {},
     "output_type": "execute_result"
    }
   ],
   "source": [
    "#checking numpy version\n",
    "np.__version__"
   ]
  },
  {
   "cell_type": "code",
   "execution_count": 3,
   "metadata": {},
   "outputs": [
    {
     "data": {
      "text/plain": [
       "numpy.ndarray"
      ]
     },
     "execution_count": 3,
     "metadata": {},
     "output_type": "execute_result"
    }
   ],
   "source": [
    "#arr type is ndarray\n",
    "type(arr)"
   ]
  },
  {
   "cell_type": "code",
   "execution_count": null,
   "metadata": {},
   "outputs": [],
   "source": []
  }
 ],
 "metadata": {
  "kernelspec": {
   "display_name": "Python 3 (ipykernel)",
   "language": "python",
   "name": "python3"
  },
  "language_info": {
   "codemirror_mode": {
    "name": "ipython",
    "version": 3
   },
   "file_extension": ".py",
   "mimetype": "text/x-python",
   "name": "python",
   "nbconvert_exporter": "python",
   "pygments_lexer": "ipython3",
   "version": "3.10.12"
  }
 },
 "nbformat": 4,
 "nbformat_minor": 2
}
